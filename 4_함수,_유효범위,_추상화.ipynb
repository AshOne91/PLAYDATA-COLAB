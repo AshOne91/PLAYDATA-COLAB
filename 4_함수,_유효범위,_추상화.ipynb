{
  "nbformat": 4,
  "nbformat_minor": 0,
  "metadata": {
    "colab": {
      "provenance": [],
      "include_colab_link": true
    },
    "kernelspec": {
      "name": "python3",
      "display_name": "Python 3"
    },
    "language_info": {
      "name": "python"
    }
  },
  "cells": [
    {
      "cell_type": "markdown",
      "metadata": {
        "id": "view-in-github",
        "colab_type": "text"
      },
      "source": [
        "<a href=\"https://colab.research.google.com/github/AshOne91/PLAYDATA-COLAB/blob/main/4_%ED%95%A8%EC%88%98%2C_%EC%9C%A0%ED%9A%A8%EB%B2%94%EC%9C%84%2C_%EC%B6%94%EC%83%81%ED%99%94.ipynb\" target=\"_parent\"><img src=\"https://colab.research.google.com/assets/colab-badge.svg\" alt=\"Open In Colab\"/></a>"
      ]
    },
    {
      "cell_type": "code",
      "execution_count": null,
      "metadata": {
        "colab": {
          "base_uri": "https://localhost:8080/"
        },
        "id": "sh9LM0GOc_4y",
        "outputId": "297eaa4b-952a-4936-b0a3-d797bd5c6794"
      },
      "outputs": [
        {
          "output_type": "stream",
          "name": "stdout",
          "text": [
            " 두개의 정수를 입력 : 20 5\n",
            "25\n",
            "15\n",
            "100\n",
            "4.0\n"
          ]
        }
      ],
      "source": [
        "# 간단한 계산기 ( 사친연산)\n",
        "# 피연산자 두개의 값, 연산자를 문자로 전달\n",
        "\n",
        "a,b = map(int,  input(\" 두개의 정수를 입력 : \").split() )\n",
        "print(a + b)\n",
        "print(a - b)\n",
        "print(a * b)\n",
        "print(a / b)"
      ]
    },
    {
      "cell_type": "code",
      "source": [
        "# def 함수명( [매개변수] ):\n",
        "#   로직\n",
        "#   [return 값]\n",
        "def calculator(a, b, op):\n",
        "  if op == '+':\n",
        "    return a + b\n",
        "  elif op == '-':\n",
        "    return a - b\n",
        "  elif op == '*':\n",
        "    return a * b\n",
        "  elif op == '/':\n",
        "    return a / b"
      ],
      "metadata": {
        "id": "PFNRI0uaek1E"
      },
      "execution_count": null,
      "outputs": []
    },
    {
      "cell_type": "code",
      "source": [
        "x,y, op = 10 ,5, '+'\n",
        "print( calculator(x,y,op) )"
      ],
      "metadata": {
        "colab": {
          "base_uri": "https://localhost:8080/"
        },
        "id": "j-WXZRRSfWJS",
        "outputId": "9a6e4f79-8c93-4556-eff9-721b29b63180"
      },
      "execution_count": null,
      "outputs": [
        {
          "output_type": "stream",
          "name": "stdout",
          "text": [
            "15\n"
          ]
        }
      ]
    },
    {
      "cell_type": "code",
      "source": [
        "# 주어진 문장을(영어) 모두 소문자로 반환하는 함수\n",
        "def to_lower(sentence, option):\n",
        "  if option == 0:\n",
        "    return sentence.lower()\n",
        "  elif option == 1:\n",
        "    return sentence.upper()\n",
        "  else:\n",
        "    print(  '잘못된 옵션입니다.' )\n",
        "    return sentence"
      ],
      "metadata": {
        "id": "J5vOh8VvgN4p"
      },
      "execution_count": null,
      "outputs": []
    },
    {
      "cell_type": "code",
      "source": [
        "text = \"Hello My Python\"\n",
        "to_lower(text, 0)"
      ],
      "metadata": {
        "colab": {
          "base_uri": "https://localhost:8080/",
          "height": 35
        },
        "id": "7HeDSYgdgLKi",
        "outputId": "7b523a65-01f4-47e8-8adc-879a04fcf52c"
      },
      "execution_count": null,
      "outputs": [
        {
          "output_type": "execute_result",
          "data": {
            "text/plain": [
              "'hello my python'"
            ],
            "application/vnd.google.colaboratory.intrinsic+json": {
              "type": "string"
            }
          },
          "metadata": {},
          "execution_count": 9
        }
      ]
    },
    {
      "cell_type": "markdown",
      "source": [
        "# 함수사용의 목적\n",
        "  - 1. 코드의 재 사용\n",
        "  - 2. 간결함--> 가독성 높은 코드"
      ],
      "metadata": {
        "id": "wSUAX8MDhAcL"
      }
    },
    {
      "cell_type": "code",
      "source": [
        "# 사용자로부터 데이터를 입력받아서\n",
        "# 문자열...중에 특수문자는 제거\n",
        "\n",
        "# 문자열의 단어를 분리해서.. 단어의 개수를 센다\n",
        "\n",
        "# 출력은 단어의 개수중에 빈도수가 높은 상위 3개만 출력한다."
      ],
      "metadata": {
        "id": "3pUqmFINhr5D"
      },
      "execution_count": null,
      "outputs": []
    },
    {
      "cell_type": "code",
      "source": [
        "# 필요한 라이브러리 install\n",
        "!pip install konlpy   # 공구상자를 가져온거\n",
        "from konlpy.tag import Okt  # 한글 형태소 분석기    import 공구상자에서 도구를 꺼내온다\n",
        "\n",
        "# 데이터 가져오기(파일로부터)\n",
        "filepath = '/content/drive/MyDrive/data/kor_news.txt'\n",
        "with open(filepath, 'r', encoding='utf-8') as f:\n",
        "  text = f.read()\n",
        "\n",
        "# 단어 분리하기  Okt를 이용\n",
        "# Okt 객체 생성  Okt라는 클래스(사용자 정의 데이터 타입)의 변수\n",
        "okt = Okt()\n",
        "nouns_text = okt.nouns(text)  # 단어분리\n",
        "\n",
        "# 단어의 빈도수를 계산(dictionary 를 이용 또는 라이브러리)\n",
        "from collections import Counter\n",
        "count = Counter(nouns_text)  # 리스트의 있는 단어들의 빈도수를 계산\n",
        "\n",
        "#  빈도수 상위 3개를 출력\n",
        "print(count.most_common(3))\n",
        "\n",
        "\n"
      ],
      "metadata": {
        "colab": {
          "base_uri": "https://localhost:8080/"
        },
        "collapsed": true,
        "id": "3ePi-n3Oh8Dk",
        "outputId": "cd989fc8-6b9b-4fb3-9097-88f2d898dd51"
      },
      "execution_count": null,
      "outputs": [
        {
          "output_type": "stream",
          "name": "stdout",
          "text": [
            "Requirement already satisfied: konlpy in /usr/local/lib/python3.11/dist-packages (0.6.0)\n",
            "Requirement already satisfied: JPype1>=0.7.0 in /usr/local/lib/python3.11/dist-packages (from konlpy) (1.5.2)\n",
            "Requirement already satisfied: lxml>=4.1.0 in /usr/local/lib/python3.11/dist-packages (from konlpy) (5.3.1)\n",
            "Requirement already satisfied: numpy>=1.6 in /usr/local/lib/python3.11/dist-packages (from konlpy) (1.26.4)\n",
            "Requirement already satisfied: packaging in /usr/local/lib/python3.11/dist-packages (from JPype1>=0.7.0->konlpy) (24.2)\n",
            "[('데이터', 12), ('자율', 10), ('법', 10)]\n"
          ]
        }
      ]
    },
    {
      "cell_type": "markdown",
      "source": [
        "# 적당한 로직들을 함수로 구성하기\n",
        "  - 변수나 함수나. 네이밍을 잘 해야 한다"
      ],
      "metadata": {
        "id": "0Dl_-27fmDLJ"
      }
    },
    {
      "cell_type": "code",
      "source": [
        "# 데이터 가져오기(파일로부터)\n",
        "# filepath = '/content/drive/MyDrive/data/kor_news.txt'\n",
        "def getData(filepath):\n",
        "  with open(filepath, 'r', encoding='utf-8') as f:\n",
        "    text = f.read()\n",
        "  return text"
      ],
      "metadata": {
        "id": "CyOiCHUgmCtB"
      },
      "execution_count": null,
      "outputs": []
    },
    {
      "cell_type": "code",
      "source": [
        "# 단어(명사) 분리해서 빈도수 계산하기\n",
        "def preprocessing(text):\n",
        "  # 단어 분리하기  Okt를 이용\n",
        "  # Okt 객체 생성  Okt라는 클래스(사용자 정의 데이터 타입)의 변수\n",
        "  okt = Okt()\n",
        "  nouns_text = okt.nouns(text)  # 단어분리\n",
        "\n",
        "  # 단어의 빈도수를 계산(dictionary 를 이용 또는 라이브러리)\n",
        "  from collections import Counter\n",
        "  count = Counter(nouns_text)  # 리스트의 있는 단어들의 빈도수를 계산\n",
        "  return count"
      ],
      "metadata": {
        "id": "xLbGBHj2np6S"
      },
      "execution_count": null,
      "outputs": []
    },
    {
      "cell_type": "code",
      "source": [
        "#  빈도수 상위 n개를 출력\n",
        "def showTopN(count, n=3):\n",
        "  # most_common --> [('문장1', 10),('문장2',5),('문장3',2)]\n",
        "  # 단어의 길이가 1개인 단어는제외 즉. 길이가 2이상인 단어들만\n",
        "  for word, _ in count.most_common(len(count)):  # 전체가 아니라 상위 n개에 해당하는 데이터중에서 처리했기때문에\n",
        "    if len(word) < 2:  #문장의 길이가 2 미만 즉 1개일때\n",
        "      del count[word]  # 집합에서 해당 문자열해당하는 데이터를 삭제\n",
        "  print(count.most_common(n))"
      ],
      "metadata": {
        "id": "B0IcCZIkolvj"
      },
      "execution_count": null,
      "outputs": []
    },
    {
      "cell_type": "code",
      "source": [
        "# 1. 데이터 확보\n",
        "data = getData('temp.txt')\n",
        "# 2. 데이터 처리(명사추출)\n",
        "count = preprocessing(data)\n",
        "# 3. 원하는 top n 만큼 출력\n",
        "showTopN(count,10)"
      ],
      "metadata": {
        "colab": {
          "base_uri": "https://localhost:8080/"
        },
        "id": "UhUcc7IfrbY7",
        "outputId": "d7a3ae3b-ccfc-4255-c101-0b58ce623ade"
      },
      "execution_count": null,
      "outputs": [
        {
          "output_type": "stream",
          "name": "stdout",
          "text": [
            "[('대통령', 20), ('트럼프', 11), ('우크라이나', 10), ('무기', 8), ('미국', 8), ('렌스', 8), ('지원', 5), ('중단', 5), ('사용', 4), ('자금', 4)]\n"
          ]
        },
        {
          "output_type": "execute_result",
          "data": {
            "text/plain": [
              "0"
            ]
          },
          "metadata": {},
          "execution_count": 68
        }
      ]
    },
    {
      "cell_type": "code",
      "source": [
        "count = Counter(['a','a','b'])\n",
        "count"
      ],
      "metadata": {
        "colab": {
          "base_uri": "https://localhost:8080/"
        },
        "id": "eifZFgPrti8u",
        "outputId": "fe39cabe-128a-43c1-a922-3ea16a2cc0ce"
      },
      "execution_count": null,
      "outputs": [
        {
          "output_type": "execute_result",
          "data": {
            "text/plain": [
              "Counter({'a': 2, 'b': 1})"
            ]
          },
          "metadata": {},
          "execution_count": 28
        }
      ]
    },
    {
      "cell_type": "markdown",
      "source": [
        "# 함수 작성법\n"
      ],
      "metadata": {
        "id": "7L3kKZO9uYjc"
      }
    },
    {
      "cell_type": "code",
      "source": [
        "# 기본 형태  매개변수 하나와 리턴값 하나\n",
        "# print( 함수명(\"철수\"))  --> '안녕 철수'\n",
        "def hello(name):\n",
        "  return f'안녕 {name}'\n",
        "\n",
        "print( hello('철수') )    # print('안녕 철수')"
      ],
      "metadata": {
        "colab": {
          "base_uri": "https://localhost:8080/"
        },
        "id": "qD8nl2AAuZ0V",
        "outputId": "5eac2645-ad6a-4f05-f92f-2bc24d5321c6"
      },
      "execution_count": null,
      "outputs": [
        {
          "output_type": "stream",
          "name": "stdout",
          "text": [
            "안녕 철수\n"
          ]
        }
      ]
    },
    {
      "cell_type": "code",
      "source": [
        "greet = hello('철수')  # greet = '안녕 철수'\n",
        "print(greet)"
      ],
      "metadata": {
        "colab": {
          "base_uri": "https://localhost:8080/"
        },
        "id": "jh0hrjgyvSGl",
        "outputId": "0f0bb94e-5ed0-4a6f-a378-62361219b661"
      },
      "execution_count": null,
      "outputs": [
        {
          "output_type": "stream",
          "name": "stdout",
          "text": [
            "안녕 철수\n"
          ]
        }
      ]
    },
    {
      "cell_type": "markdown",
      "source": [
        "# 매개변수 : 함수에 전달하는 값을 함수에서 사용하도록 변수로 표현"
      ],
      "metadata": {
        "id": "7f0Y5i6fwbz8"
      }
    },
    {
      "cell_type": "code",
      "source": [
        "# 자기소개   이름과 나이를 전달받아서 적당히 출력문장을 리턴\n",
        "# 함수설계할때 사용하는 변수는 argument\n",
        "# 함수를 호출할때 전달하는 변수를 parameter\n",
        "# 현장에서는 주로 파라메터라는 단어로 통합\n",
        "\n",
        "def introduction(name, age):  # positional argument\n",
        "  return f\"이름 : {name} 나이:{age}\"\n",
        "print( introduction('철수', 20)  )\n",
        "print( introduction(20, '철수')  )\n",
        "print( introduction('영희')  )"
      ],
      "metadata": {
        "colab": {
          "base_uri": "https://localhost:8080/",
          "height": 216
        },
        "id": "VPmRM3aWv4Ns",
        "outputId": "79bde2a7-b3f5-40ae-c66e-2f5f48b9b2b3"
      },
      "execution_count": null,
      "outputs": [
        {
          "output_type": "stream",
          "name": "stdout",
          "text": [
            "이름 : 철수 나이:20\n",
            "이름 : 20 나이:철수\n"
          ]
        },
        {
          "output_type": "error",
          "ename": "TypeError",
          "evalue": "introduction() missing 1 required positional argument: 'age'",
          "traceback": [
            "\u001b[0;31m---------------------------------------------------------------------------\u001b[0m",
            "\u001b[0;31mTypeError\u001b[0m                                 Traceback (most recent call last)",
            "\u001b[0;32m<ipython-input-47-ab190a277c71>\u001b[0m in \u001b[0;36m<cell line: 0>\u001b[0;34m()\u001b[0m\n\u001b[1;32m      8\u001b[0m \u001b[0mprint\u001b[0m\u001b[0;34m(\u001b[0m \u001b[0mintroduction\u001b[0m\u001b[0;34m(\u001b[0m\u001b[0;34m'철수'\u001b[0m\u001b[0;34m,\u001b[0m \u001b[0;36m20\u001b[0m\u001b[0;34m)\u001b[0m  \u001b[0;34m)\u001b[0m\u001b[0;34m\u001b[0m\u001b[0;34m\u001b[0m\u001b[0m\n\u001b[1;32m      9\u001b[0m \u001b[0mprint\u001b[0m\u001b[0;34m(\u001b[0m \u001b[0mintroduction\u001b[0m\u001b[0;34m(\u001b[0m\u001b[0;36m20\u001b[0m\u001b[0;34m,\u001b[0m \u001b[0;34m'철수'\u001b[0m\u001b[0;34m)\u001b[0m  \u001b[0;34m)\u001b[0m\u001b[0;34m\u001b[0m\u001b[0;34m\u001b[0m\u001b[0m\n\u001b[0;32m---> 10\u001b[0;31m \u001b[0mprint\u001b[0m\u001b[0;34m(\u001b[0m \u001b[0mintroduction\u001b[0m\u001b[0;34m(\u001b[0m\u001b[0;34m'영희'\u001b[0m\u001b[0;34m)\u001b[0m  \u001b[0;34m)\u001b[0m\u001b[0;34m\u001b[0m\u001b[0;34m\u001b[0m\u001b[0m\n\u001b[0m",
            "\u001b[0;31mTypeError\u001b[0m: introduction() missing 1 required positional argument: 'age'"
          ]
        }
      ]
    },
    {
      "cell_type": "markdown",
      "source": [
        "# 기본 매개변수 (default argument)\n",
        "  - 생략이 가능하기 때문에.. 생략 가능한 위치에서만 가능\n",
        "  - 즉 매개변수 리스트 뒤에서부터 작성가능\n",
        "  - defautl 는 positional 뒤에만 존재\n",
        "  - 매개변수가 많으면.. 기본적으로 특정 값을 가지게해서 좀더 유연한 프로그래밍\n"
      ],
      "metadata": {
        "id": "1Mtq4FnWyKWs"
      }
    },
    {
      "cell_type": "code",
      "source": [
        "def introduction(name = '홍길동', age = 10):  # positional argument\n",
        "  return f\"이름 : {name} 나이:{age}\"\n",
        "print( introduction('철수', 20)  )\n",
        "print( introduction(20, '철수')  )\n",
        "print( introduction('영희')  )\n",
        "print( introduction()  )"
      ],
      "metadata": {
        "colab": {
          "base_uri": "https://localhost:8080/"
        },
        "id": "q2UJ46IIyIwr",
        "outputId": "50b2981e-6d1b-451a-8d47-36c91689f08a"
      },
      "execution_count": null,
      "outputs": [
        {
          "output_type": "stream",
          "name": "stdout",
          "text": [
            "이름 : 철수 나이:20\n",
            "이름 : 20 나이:철수\n",
            "이름 : 영희 나이:10\n"
          ]
        }
      ]
    },
    {
      "cell_type": "code",
      "source": [
        "introduction(age = 20, name = '철수')\n",
        "introduction(age = 20)"
      ],
      "metadata": {
        "colab": {
          "base_uri": "https://localhost:8080/",
          "height": 35
        },
        "id": "-tl-Iw8r1hyl",
        "outputId": "425198fc-cb25-4183-9e5e-bf494e86cd23"
      },
      "execution_count": null,
      "outputs": [
        {
          "output_type": "execute_result",
          "data": {
            "text/plain": [
              "'이름 : 철수 나이:20'"
            ],
            "application/vnd.google.colaboratory.intrinsic+json": {
              "type": "string"
            }
          },
          "metadata": {},
          "execution_count": 49
        }
      ]
    },
    {
      "cell_type": "markdown",
      "source": [
        "# 가변 매개변수\n",
        "  - 함수의 매개변수의 개수가 가변 즉 정해지지 않음"
      ],
      "metadata": {
        "id": "nYOIU4lb0ojl"
      }
    },
    {
      "cell_type": "code",
      "source": [
        "# 주어진 숫자를 전부 더하는 함수\n",
        "# 주어진 숫자의 개수가 유동적일때  ex 1,2,3   10,20   10,20,30,40\n",
        "\n",
        "def sum_number(lists):\n",
        "  return sum(lists)\n",
        "\n",
        "# sample_lists = [1,10,20]\n",
        "sample_lists = [100]\n",
        "\n",
        "print( sum_number(sample_lists) )"
      ],
      "metadata": {
        "colab": {
          "base_uri": "https://localhost:8080/"
        },
        "id": "cPU6yKYx42wX",
        "outputId": "e7357240-a01e-49cf-fe62-772db4e125dc"
      },
      "execution_count": null,
      "outputs": [
        {
          "output_type": "stream",
          "name": "stdout",
          "text": [
            "100\n"
          ]
        }
      ]
    },
    {
      "cell_type": "code",
      "source": [
        "# packing\n",
        "def sum_number(*args):  # 호출하는 함수에서 전달받은 데이터가. 1,2,3,4,5 이렇게 연속적이면\n",
        "  # args argument는 tuple 전환한다 또는 받는다  즉 packing\n",
        "  print(type(args))\n",
        "  for num in args:\n",
        "    print(num, end=' ')\n",
        "  return sum(args)\n",
        "\n",
        "print( sum_number(1,2,4,1,5,4,1,5,4,1) )\n",
        "\n",
        "sample1 = 1,2,3,4,5\n",
        "print(type(sample1))"
      ],
      "metadata": {
        "colab": {
          "base_uri": "https://localhost:8080/"
        },
        "id": "byVAaAc05W0P",
        "outputId": "e9088852-26ea-4073-952d-687f818db6c7"
      },
      "execution_count": null,
      "outputs": [
        {
          "output_type": "stream",
          "name": "stdout",
          "text": [
            "<class 'tuple'>\n",
            "1 2 4 1 5 4 1 5 4 1 28\n",
            "<class 'tuple'>\n"
          ]
        }
      ]
    },
    {
      "cell_type": "code",
      "source": [
        "# introduction('철수', 20)\n",
        "send_data = '철수', 20\n",
        "print(send_data)\n",
        "introduction(*send_data)  # unpacking   introduction('철수', 20)"
      ],
      "metadata": {
        "colab": {
          "base_uri": "https://localhost:8080/",
          "height": 53
        },
        "id": "67fEjrQS8QY_",
        "outputId": "73fcc30d-5fb8-4e9c-e6eb-fe90092851ea"
      },
      "execution_count": null,
      "outputs": [
        {
          "output_type": "stream",
          "name": "stdout",
          "text": [
            "('철수', 20)\n"
          ]
        },
        {
          "output_type": "execute_result",
          "data": {
            "text/plain": [
              "'이름 : 철수 나이:20'"
            ],
            "application/vnd.google.colaboratory.intrinsic+json": {
              "type": "string"
            }
          },
          "metadata": {},
          "execution_count": 82
        }
      ]
    },
    {
      "cell_type": "code",
      "source": [
        "# packing VS unpacking"
      ],
      "metadata": {
        "id": "VTH_4bwS9ktt"
      },
      "execution_count": null,
      "outputs": []
    },
    {
      "cell_type": "code",
      "source": [
        "# packing\n",
        "def sample_fun1(*args):  # 여러개의 전달값을 한개의 매개변수로 받음\n",
        "  for arg in args:\n",
        "    print(f'전달한 매개변수는: {arg}', end=' ')\n",
        "\n",
        "sample_fun1(   10,'안녕하세요'     )\n",
        "\n",
        "print('-'*30)\n",
        "\n",
        "# 한개의 전달값을 여러개의 매개변수로 받음  -unpacking   ***********************\n",
        "def sample1_fun2_unpack(a,b,c,d):\n",
        "  print(a,b,c,d)\n",
        "\n",
        "send_data = 10,20,'안녕하세요',40\n",
        "sample1_fun2_unpack(*send_data)  # -- >  sample1_fun2(10,20,'안녕하세요',40 )"
      ],
      "metadata": {
        "colab": {
          "base_uri": "https://localhost:8080/"
        },
        "id": "TSiNfxly-0N7",
        "outputId": "3ec0a176-212c-4738-e01e-706a8a3f57ac"
      },
      "execution_count": null,
      "outputs": [
        {
          "output_type": "stream",
          "name": "stdout",
          "text": [
            "전달한 매개변수는: 10 전달한 매개변수는: 안녕하세요 ------------------------------\n",
            "10 20 안녕하세요 40\n"
          ]
        }
      ]
    },
    {
      "cell_type": "markdown",
      "source": [
        "# 키워드 가변 매개변수 --> 자료구조 딕셔너리 시간에 다시 언급\n",
        "   - 기존 가변매개변수에다가 이름을 붙인다"
      ],
      "metadata": {
        "id": "QcZ9Lw73BOyZ"
      }
    },
    {
      "cell_type": "code",
      "source": [
        "# 함수설계할때  *args  라고 하면 함수를 호출하는 쪽에서는 값을 나열하면 된다.\n",
        "# 데이터전달형태 :  1,2,3,4,5,6\n",
        "\n",
        "# 함수설계할때  **kwargs  라고 하면 함수를 호출하는 쪽에서는 값을 나열하면 된다.\n",
        "# 데이터전달형태 :  name='홍길동', age=20\n",
        "\n",
        "# def introduction(name = '홍길동', age = 10):  # positional argument\n",
        "def introduction(**kwargs):  # keyward variable argument\n",
        "  return f\"이름 : { kwargs['name']} /  나이:{kwargs['age'] }\"\n",
        "\n",
        "introduction(name='홍길동', age=20)\n",
        "\n",
        "# unpacking을 좀더 많이 사용..  ***\n",
        "def introduction(name = '홍길동', age = 10):  # positional argument\n",
        "  return f\"이름 : {name} 나이:{age}\"\n",
        "\n",
        "send_data = {'name':'홍길동', 'age':20}\n",
        "introduction(**send_data)   # -- > introduction(name='홍길동', age=20)\n"
      ],
      "metadata": {
        "colab": {
          "base_uri": "https://localhost:8080/",
          "height": 35
        },
        "id": "OjZ2aBwD-_tf",
        "outputId": "1d8a53cc-accc-4ab9-858b-d5278efadfa4"
      },
      "execution_count": null,
      "outputs": [
        {
          "output_type": "execute_result",
          "data": {
            "text/plain": [
              "'이름 : 홍길동 /  나이:20'"
            ],
            "application/vnd.google.colaboratory.intrinsic+json": {
              "type": "string"
            }
          },
          "metadata": {},
          "execution_count": 95
        }
      ]
    },
    {
      "cell_type": "markdown",
      "source": [
        "# 여러개의 값을 반환하기"
      ],
      "metadata": {
        "id": "AaYthw0OHIVK"
      }
    },
    {
      "cell_type": "code",
      "source": [
        "# 값을 전달받아서 총합과 평균을 반환\n",
        "def sum_avg(lists):\n",
        "  return sum(lists), sum(lists)/len(lists)\n",
        "\n",
        "import random\n",
        "data = random.sample(range(1,101), 10)  # 1 ~ 100\n",
        "print(f'data : {data}')\n",
        "total, avg = sum_avg(data)\n",
        "print(f'총합 : {total}, 평균 : {avg}')"
      ],
      "metadata": {
        "colab": {
          "base_uri": "https://localhost:8080/"
        },
        "id": "X2NydnpUD5sh",
        "outputId": "fca6fa34-89a7-458f-8221-d759186a0b2b"
      },
      "execution_count": null,
      "outputs": [
        {
          "output_type": "stream",
          "name": "stdout",
          "text": [
            "data : [65, 51, 38, 7, 21, 10, 50, 24, 4, 13]\n",
            "총합 : 283, 평균 : 28.3\n"
          ]
        }
      ]
    },
    {
      "cell_type": "markdown",
      "source": [
        "# 정리\n",
        "  - 1. 함수의 정의 만들고 사용하는 방법\n",
        "  - 2. 매개변수의 정의 및 종류\n",
        "    - 2-1 positional agument 가 기본사용법\n",
        "      - 정해진 갯수, 정해진 위치\n",
        "      - 호출할때 '매개변수이름=값' 하면 순서를 바꿔도 괜찮음\n",
        "    - 2-2 default argument\n",
        "      - 매개변수의 기본값이 정해져 있다\n",
        "      - 해당 매개변수의 위치에 값을 전달하지 않으면 기본값 사용\n",
        "      - 반드시 positional argument 뒤에 오도록 설계\n",
        "        - 뒤에서부터 디폴트를 설정한다\n",
        "    - 2-3 가변 매개변수\n",
        "      - 설계할때 *args 이렇게 *붙이면  전달하는 매개변수들을 하나의 튜플형태로 받아서 처리한다\n",
        "      - 하나로 묶어서 처리한다. 즉 packing 한다라고 함\n",
        "      - unpacking은 반대의 개념으로 함수가 일반함수로 설계되었고 전달하는 매개변수가 많을때.. 튜플형태로 미리 만들고 전달할때 *를 붙여서 전달한다\n",
        "    - 2-4 키워드 가변 매개변수\n",
        "      - 가변매개변수와 동일한 사용 다만 데이터 형식이 dictionary 형태를 취하고 있다      "
      ],
      "metadata": {
        "id": "GjMKrPL5IZpv"
      }
    },
    {
      "cell_type": "markdown",
      "source": [
        "# 복잡한 조건을 함수로 표현하기"
      ],
      "metadata": {
        "id": "O0O74WNRLIzi"
      }
    },
    {
      "cell_type": "code",
      "source": [
        "kor, eng ,math = 100,100,65\n",
        "# 평균 60이상 그리고 각 과목별 60미만이면 불합격\n",
        "(kor+eng+math) >= 60 and kor >=60 and eng >=60 and math >=60"
      ],
      "metadata": {
        "colab": {
          "base_uri": "https://localhost:8080/"
        },
        "id": "YsalCizSCZOn",
        "outputId": "bcd7f3e2-2716-4161-f1c1-af9cb2a88051"
      },
      "execution_count": null,
      "outputs": [
        {
          "output_type": "execute_result",
          "data": {
            "text/plain": [
              "True"
            ]
          },
          "metadata": {},
          "execution_count": 99
        }
      ]
    },
    {
      "cell_type": "code",
      "source": [
        "def isSuccecc(*scores):\n",
        "  if sum(scores) / len(scores) < 60.0 :\n",
        "    return False\n",
        "  else:\n",
        "    for subject in scores:\n",
        "      if subject < 60:\n",
        "        return False\n",
        "\n",
        "  return True"
      ],
      "metadata": {
        "id": "Z0UQxdlKLe3O"
      },
      "execution_count": null,
      "outputs": []
    },
    {
      "cell_type": "code",
      "source": [
        "kor,eng,math = map(int,input(\"3과목을 공백을 기준으로 입력:\").split())\n",
        "if isSuccecc(kor,eng,math):\n",
        "  print(\"합격 입니다.\")\n",
        "else:\n",
        "  print(\"불합격 입니다.\")"
      ],
      "metadata": {
        "colab": {
          "base_uri": "https://localhost:8080/"
        },
        "id": "7PS3zF4GMGl4",
        "outputId": "04eb75af-a00a-4568-95fe-21f578c1437d"
      },
      "execution_count": null,
      "outputs": [
        {
          "output_type": "stream",
          "name": "stdout",
          "text": [
            "3과목을 공백을 기준으로 입력:65 60 60\n",
            "합격 입니다.\n"
          ]
        }
      ]
    },
    {
      "cell_type": "markdown",
      "source": [
        "# 함수에서 함수를 호출하면"
      ],
      "metadata": {
        "id": "yi49GheTNZcc"
      }
    },
    {
      "cell_type": "code",
      "source": [
        "def fun2(args):\n",
        "  print(f'fun2함수에서 호출 {args}')\n",
        "\n",
        "def fun1(args):\n",
        "  print(f'fun1함수에서 fun2호출 {args}')\n",
        "  fun2(args*2)\n",
        "  print(f'fun1함수에서 fun2호출후 {args}')\n",
        "\n",
        "print('fun1함수 호출전')\n",
        "fun1(10)\n",
        "print('fun1함수 호출후')\n"
      ],
      "metadata": {
        "colab": {
          "base_uri": "https://localhost:8080/"
        },
        "id": "OE2kUmYSMltp",
        "outputId": "12cb23ae-1021-43c3-b46d-5d9a26c3db91"
      },
      "execution_count": null,
      "outputs": [
        {
          "output_type": "stream",
          "name": "stdout",
          "text": [
            "fun1함수 호출전\n",
            "fun1함수에서 fun2호출 10\n",
            "fun2함수에서 호출 20\n",
            "fun1함수에서 fun2호출후 10\n",
            "fun1함수 호출후\n"
          ]
        }
      ]
    },
    {
      "cell_type": "markdown",
      "source": [
        "# 자기가 자기자신을 호출하는경우.. 재귀함수(Recursion)"
      ],
      "metadata": {
        "id": "bgxBl6-8O4KK"
      }
    },
    {
      "cell_type": "code",
      "source": [
        "def fn1(data):\n",
        "  return data -1\n",
        "\n",
        "def fn2(data):\n",
        "  return fn1(data) -1\n",
        "\n",
        "def fn_main(data):\n",
        "  return fn2(data)\n",
        "\n",
        "print( fn_main(10)  )"
      ],
      "metadata": {
        "colab": {
          "base_uri": "https://localhost:8080/"
        },
        "id": "uXMO19YTO3v_",
        "outputId": "66cf0054-306f-4140-f71c-f64c93720c49"
      },
      "execution_count": null,
      "outputs": [
        {
          "output_type": "stream",
          "name": "stdout",
          "text": [
            "8\n"
          ]
        }
      ]
    },
    {
      "cell_type": "code",
      "source": [
        "# 팩토리얼 함수를 재귀용법으로 구현\n",
        "def fn_recursion(data):\n",
        "  if data == 1:\n",
        "    return 1\n",
        "  else:\n",
        "    return fn_recursion(data-1) * data\n",
        "\n",
        "print(fn_recursion(5))\n",
        "print(5*4*3*2*1)"
      ],
      "metadata": {
        "id": "F6az9emSOOl7",
        "colab": {
          "base_uri": "https://localhost:8080/"
        },
        "outputId": "30eadf8c-0c19-4a9e-e828-2893a4f76686"
      },
      "execution_count": null,
      "outputs": [
        {
          "output_type": "stream",
          "name": "stdout",
          "text": [
            "120\n",
            "120\n"
          ]
        }
      ]
    },
    {
      "cell_type": "markdown",
      "source": [
        "# 람다함수 : 함수의 꽃\n",
        "  - 함수의 이름없이 사용하는 함수 : 익명함수"
      ],
      "metadata": {
        "id": "I-FU2Bi_jfV6"
      }
    },
    {
      "cell_type": "code",
      "source": [
        "#  파일명을 입력하면 확장자를 반환하는 기능\n",
        "file_lists = ['data.txt','member.number.dat','music.mp3','movie.avi']\n",
        "def findExtention(filepath):\n",
        "  return filepath.split('.')[-1]\n",
        "\n",
        "list(map(findExtention, file_lists))"
      ],
      "metadata": {
        "id": "IW0u6Rx0Qbie",
        "colab": {
          "base_uri": "https://localhost:8080/"
        },
        "outputId": "3d3bbdc2-2277-4f28-add3-2fbd582c5b13"
      },
      "execution_count": null,
      "outputs": [
        {
          "output_type": "execute_result",
          "data": {
            "text/plain": [
              "['txt', 'dat', 'mp3', 'avi']"
            ]
          },
          "metadata": {},
          "execution_count": 9
        }
      ]
    },
    {
      "cell_type": "code",
      "source": [
        "# lambda filepath: filepath.split('.')[-1]\n",
        "list(map(lambda filepath: filepath.split('.')[0], file_lists))"
      ],
      "metadata": {
        "colab": {
          "base_uri": "https://localhost:8080/"
        },
        "id": "ejm5UX1Clix9",
        "outputId": "6320002e-c5cb-48ec-f681-a6d20e92a940"
      },
      "execution_count": null,
      "outputs": [
        {
          "output_type": "execute_result",
          "data": {
            "text/plain": [
              "['data', 'member', 'music', 'movie']"
            ]
          },
          "metadata": {},
          "execution_count": 10
        }
      ]
    },
    {
      "cell_type": "code",
      "source": [
        "myFun  = lambda filepath: filepath.split('.')[0]\n",
        "print( myFun(\"abc.test\") )\n",
        "# def myFun(filepath):\n",
        "#   return filepath.split('.')[0]\n"
      ],
      "metadata": {
        "colab": {
          "base_uri": "https://localhost:8080/"
        },
        "id": "nwlGaYPgl6q1",
        "outputId": "292b1170-76d1-4026-8147-48f388fdb7b6"
      },
      "execution_count": null,
      "outputs": [
        {
          "output_type": "stream",
          "name": "stdout",
          "text": [
            "abc\n"
          ]
        }
      ]
    },
    {
      "cell_type": "markdown",
      "source": [
        "# 람다가 적용되는 상황\n",
        "  - 함수를 매개변수로 받는 몇몇 함수에서\n",
        "    - map, filter, reduce"
      ],
      "metadata": {
        "id": "ba0qgZeFnWv8"
      }
    },
    {
      "cell_type": "code",
      "source": [
        "import random\n",
        "random_lists = random.sample(range(100), 20)\n",
        "print(f'original : {random_lists}')\n",
        "# 짝수만 filtering 해 보자\n",
        "# def findEven(data):\n",
        "#   return data % 2 == 0\n",
        "\n",
        "list(filter( lambda x: x < 50, random_lists))"
      ],
      "metadata": {
        "colab": {
          "base_uri": "https://localhost:8080/"
        },
        "id": "3AjuADEunYTT",
        "outputId": "446cde97-d74b-4a63-f949-37aa5e4eb702"
      },
      "execution_count": null,
      "outputs": [
        {
          "output_type": "stream",
          "name": "stdout",
          "text": [
            "original : [63, 6, 39, 4, 21, 33, 50, 38, 82, 3, 16, 90, 19, 61, 89, 72, 51, 11, 87, 78]\n"
          ]
        },
        {
          "output_type": "execute_result",
          "data": {
            "text/plain": [
              "[6, 39, 4, 21, 33, 38, 3, 16, 19, 11]"
            ]
          },
          "metadata": {},
          "execution_count": 15
        }
      ]
    },
    {
      "cell_type": "code",
      "source": [
        "from functools import reduce\n",
        "reduce(lambda x,y: x+y, [1,2,3,4,5])"
      ],
      "metadata": {
        "colab": {
          "base_uri": "https://localhost:8080/"
        },
        "id": "rz6JRQ50o4Cq",
        "outputId": "439c550e-c118-441b-c0df-92a18873892f"
      },
      "execution_count": null,
      "outputs": [
        {
          "output_type": "execute_result",
          "data": {
            "text/plain": [
              "15"
            ]
          },
          "metadata": {},
          "execution_count": 17
        }
      ]
    },
    {
      "cell_type": "code",
      "source": [
        "result_lists = [ [10,20],[30,50],[10,20],[1,2,3]  ]  # [10,20,30,50,10,20,1,2,3]\n",
        "# 리스트 + 리스트 = 두개의 리스트 원소를 합친 하나의 리스트\n",
        "print(f'리스트 1 : { [1,2,3]  }')\n",
        "print(f'리스트 2 : { [10,20,30]  }')\n",
        "print(f'리스트 1 + 리스트 2 : { [1,2,3]  + [10,20,30]  }')"
      ],
      "metadata": {
        "colab": {
          "base_uri": "https://localhost:8080/"
        },
        "id": "V4Uiy51DpqVu",
        "outputId": "af095ccb-6d38-4a57-a062-127f1ad757ec"
      },
      "execution_count": null,
      "outputs": [
        {
          "output_type": "stream",
          "name": "stdout",
          "text": [
            "리스트 1 : [1, 2, 3]\n",
            "리스트 2 : [10, 20, 30]\n",
            "리스트 1 + 리스트 2 : [1, 2, 3, 10, 20, 30]\n"
          ]
        }
      ]
    },
    {
      "cell_type": "code",
      "source": [
        "# for문\n",
        "result = []\n",
        "for data in result_lists:\n",
        "  result += data\n",
        "  print(f'중간과정 : {result}')\n",
        "\n",
        "print(result)"
      ],
      "metadata": {
        "colab": {
          "base_uri": "https://localhost:8080/"
        },
        "id": "Ly3zwSfwqUiS",
        "outputId": "82bed465-32fb-420a-f364-5140dd483eac"
      },
      "execution_count": null,
      "outputs": [
        {
          "output_type": "stream",
          "name": "stdout",
          "text": [
            "중간과정 : [10, 20]\n",
            "중간과정 : [10, 20, 30, 50]\n",
            "중간과정 : [10, 20, 30, 50, 10, 20]\n",
            "중간과정 : [10, 20, 30, 50, 10, 20, 1, 2, 3]\n",
            "[10, 20, 30, 50, 10, 20, 1, 2, 3]\n"
          ]
        }
      ]
    },
    {
      "cell_type": "code",
      "source": [
        "print(result_lists)\n",
        "print(10*20*30*50*10*20*1*2*3)\n",
        "temp = reduce(lambda x,y: x+y, result_lists)\n",
        "print(temp)\n",
        "print( reduce(lambda x,y : x*y,  temp) )"
      ],
      "metadata": {
        "colab": {
          "base_uri": "https://localhost:8080/"
        },
        "id": "mOHm3rvEpjWm",
        "outputId": "e736344e-a5e6-4ebc-a18e-1bc6d13967f5"
      },
      "execution_count": null,
      "outputs": [
        {
          "output_type": "stream",
          "name": "stdout",
          "text": [
            "[[10, 20], [30, 50], [10, 20], [1, 2, 3]]\n",
            "360000000\n",
            "[10, 20, 30, 50, 10, 20, 1, 2, 3]\n",
            "360000000\n"
          ]
        }
      ]
    },
    {
      "cell_type": "code",
      "source": [
        "# 조건문중에. 단순한 if~else 구문은 한줄로 만들수있고\n",
        "# 한줄로 표현한다는거는 lambda식에 적용가능\n",
        "# 3항연산라고 표시하지만 파이썬에서는 그러한 단어는 없다.\n",
        "# x % 2 == 0 ? \"짝수\" : \"홀수\"\n",
        "x = True\n",
        "\"참\" if x == True else \"거짓\""
      ],
      "metadata": {
        "colab": {
          "base_uri": "https://localhost:8080/",
          "height": 35
        },
        "id": "onruynqircin",
        "outputId": "9e4f9690-274f-4dec-e398-84088be16626"
      },
      "execution_count": null,
      "outputs": [
        {
          "output_type": "execute_result",
          "data": {
            "text/plain": [
              "'참'"
            ],
            "application/vnd.google.colaboratory.intrinsic+json": {
              "type": "string"
            }
          },
          "metadata": {},
          "execution_count": 25
        }
      ]
    },
    {
      "cell_type": "code",
      "source": [
        "# 정수의 집합중에 최대값 찾기  max 사용안하고 reduce\n",
        "import random\n",
        "numbers = random.sample(range(100),10)\n",
        "print(f'ogirinal : {numbers}')\n",
        "# 최대값 찾기\n",
        "reduce(lambda x,y : x if x > y else y, numbers)"
      ],
      "metadata": {
        "colab": {
          "base_uri": "https://localhost:8080/"
        },
        "id": "FoIXHPhtq_oT",
        "outputId": "eb750ae2-c76d-4a30-e267-3fb2045a7302"
      },
      "execution_count": null,
      "outputs": [
        {
          "output_type": "stream",
          "name": "stdout",
          "text": [
            "ogirinal : [67, 32, 77, 70, 59, 54, 4, 96, 16, 98]\n"
          ]
        },
        {
          "output_type": "execute_result",
          "data": {
            "text/plain": [
              "98"
            ]
          },
          "metadata": {},
          "execution_count": 26
        }
      ]
    },
    {
      "cell_type": "code",
      "source": [
        "# 리스트의 모든 요소가 짝수인지 확인\n",
        "import random\n",
        "from functools import reduce\n",
        "sample_lists = [61,72, 76] #random.sample(range(100), 2)\n",
        "print(f'original : {sample_lists}')\n",
        "# 1 for\n",
        "isEven = True\n",
        "for i in sample_lists:\n",
        "  if i % 2 != 0:  # 순환하면서 홀수가 발견되면\n",
        "    isEven = False\n",
        "    break\n",
        "print(f'1 : {isEven}')\n",
        "\n",
        "# 2. map 을 이용해서 각 값을 2나 나눈 나머지계산.... [0,0,0,1]\n",
        "# 총합이 0보다 크면\n",
        "print(f'2 : {sum(map(lambda x: x % 2, sample_lists)) == 0 }')\n",
        "\n",
        "# 3.홀수일때의 값만 추출해서.. 리스트의 개수가 0보다 크면.. 홀수\n",
        "print(f'3 : {len(list((filter(lambda x: x % 2 !=0 ,sample_lists)))) == 0}')\n",
        "\n",
        "# 4 ramda 두개의 각각에 대해서 짝수조건을 걸고 두의 and 결과\n",
        "print(f'4 : {reduce(lambda x,y : x and y % 2 == 0, sample_lists,True)}')\n",
        "# 61,72 False and True  = False\n",
        "# False % 2 == 0 and 76 % 2 == 0"
      ],
      "metadata": {
        "colab": {
          "base_uri": "https://localhost:8080/"
        },
        "id": "tnoPaXuCwAzU",
        "outputId": "edb41c29-257e-45a2-b92f-a63414323a12"
      },
      "execution_count": null,
      "outputs": [
        {
          "output_type": "stream",
          "name": "stdout",
          "text": [
            "original : [61, 72, 76]\n",
            "1 : False\n",
            "2 : False\n",
            "3 : False\n",
            "4 : False\n"
          ]
        }
      ]
    },
    {
      "cell_type": "code",
      "source": [
        "sample_lists = [61, 72, 76]\n",
        "print(f'4 : {reduce(lambda x,y : x  and y % 2 == 0, sample_lists , True )}')  # [True, 61, 72, 76]"
      ],
      "metadata": {
        "colab": {
          "base_uri": "https://localhost:8080/"
        },
        "id": "LlSS7Im7-dCJ",
        "outputId": "9b783cc7-f695-4eab-a8ee-e22db8a317e0"
      },
      "execution_count": null,
      "outputs": [
        {
          "output_type": "stream",
          "name": "stdout",
          "text": [
            "4 : False\n"
          ]
        }
      ]
    },
    {
      "cell_type": "markdown",
      "source": [
        "# all / any"
      ],
      "metadata": {
        "id": "k-d-Xn5j1jBg"
      }
    },
    {
      "cell_type": "code",
      "source": [
        "random_lists = [True,True,True,True]\n",
        "print(all(random_lists))  # all은 모든 요소가 True 여야만 True\n",
        "random_lists = [True,True,False,True]\n",
        "print(all(random_lists))\n",
        "random_lists = [True,True,False,True]\n",
        "print(any(random_lists))  # any 는 한개라고 True 요소가 있으면 True"
      ],
      "metadata": {
        "colab": {
          "base_uri": "https://localhost:8080/"
        },
        "id": "D2fgTfJJ1DxM",
        "outputId": "97b371b6-b7b9-424e-dd38-3312ea039c8d"
      },
      "execution_count": null,
      "outputs": [
        {
          "output_type": "stream",
          "name": "stdout",
          "text": [
            "True\n",
            "False\n",
            "True\n"
          ]
        }
      ]
    },
    {
      "cell_type": "markdown",
      "source": [
        "# 변수의 유효범위\n",
        "  - LEGB 규칙\n",
        "    - L(local) : 함수 내 지역범위\n",
        "    - E(Enclosing) : 함수를 감싸는 외부 함수의 범위(중첩함수의 경우)\n",
        "    - G(Global) : 모듈 수준의 전역범위\n",
        "    - B(Built-in) : 파이썬 내장 범위(len, print)"
      ],
      "metadata": {
        "id": "KvuJSyP42XI1"
      }
    },
    {
      "cell_type": "markdown",
      "source": [
        "# 지역범위 L"
      ],
      "metadata": {
        "id": "dDte4KFC3N_G"
      }
    },
    {
      "cell_type": "code",
      "source": [
        "def my_function():\n",
        "  x = 10  # 지역변수\n",
        "  print(f'지역변수 : {x}')\n",
        "\n",
        "my_function()\n",
        "print(f'전역변수 : {x}')"
      ],
      "metadata": {
        "colab": {
          "base_uri": "https://localhost:8080/",
          "height": 198
        },
        "id": "mlY2tbs0wRrY",
        "outputId": "82d1b6de-64b1-4fab-c47a-1f854942f0a6"
      },
      "execution_count": null,
      "outputs": [
        {
          "output_type": "stream",
          "name": "stdout",
          "text": [
            "지역변수 : 10\n"
          ]
        },
        {
          "output_type": "error",
          "ename": "NameError",
          "evalue": "name 'x' is not defined",
          "traceback": [
            "\u001b[0;31m---------------------------------------------------------------------------\u001b[0m",
            "\u001b[0;31mNameError\u001b[0m                                 Traceback (most recent call last)",
            "\u001b[0;32m<ipython-input-2-32b690d07ebc>\u001b[0m in \u001b[0;36m<cell line: 0>\u001b[0;34m()\u001b[0m\n\u001b[1;32m      4\u001b[0m \u001b[0;34m\u001b[0m\u001b[0m\n\u001b[1;32m      5\u001b[0m \u001b[0mmy_function\u001b[0m\u001b[0;34m(\u001b[0m\u001b[0;34m)\u001b[0m\u001b[0;34m\u001b[0m\u001b[0;34m\u001b[0m\u001b[0m\n\u001b[0;32m----> 6\u001b[0;31m \u001b[0mprint\u001b[0m\u001b[0;34m(\u001b[0m\u001b[0;34mf'전역변수 : {x}'\u001b[0m\u001b[0;34m)\u001b[0m\u001b[0;34m\u001b[0m\u001b[0;34m\u001b[0m\u001b[0m\n\u001b[0m",
            "\u001b[0;31mNameError\u001b[0m: name 'x' is not defined"
          ]
        }
      ]
    },
    {
      "cell_type": "markdown",
      "source": [
        "# 전역변수 G"
      ],
      "metadata": {
        "id": "QrjTQmSd3iT2"
      }
    },
    {
      "cell_type": "code",
      "source": [
        "y = 5  # 전역변수\n",
        "def my_function(y):\n",
        "  print(f'지역변수 : {y}')\n",
        "\n",
        "my_function(100)\n",
        "print(f'전역변수 : {y}')"
      ],
      "metadata": {
        "colab": {
          "base_uri": "https://localhost:8080/"
        },
        "id": "Taw9MvjN3Lhv",
        "outputId": "44578ebb-29b4-4113-dbe6-fa26009eca70"
      },
      "execution_count": null,
      "outputs": [
        {
          "output_type": "stream",
          "name": "stdout",
          "text": [
            "지역변수 : 100\n",
            "전역변수 : 5\n"
          ]
        }
      ]
    },
    {
      "cell_type": "code",
      "source": [
        "global_var = \"저는 전역변수로서 어디서나 접근 가능합니다.\"\n",
        "def print_global():\n",
        "  print(f'함수내에서 접근 : {global_var}')\n",
        "\n",
        "print_global()\n",
        "print(f'전역범위에서 접근 : {global_var}')"
      ],
      "metadata": {
        "colab": {
          "base_uri": "https://localhost:8080/"
        },
        "id": "wG--T_R84DiG",
        "outputId": "09bfcb9a-b718-4ccc-a81d-64f5c4b8e0a1"
      },
      "execution_count": null,
      "outputs": [
        {
          "output_type": "stream",
          "name": "stdout",
          "text": [
            "함수내에서 접근 : 저는 전역변수로서 어디서나 접근 가능합니다.\n",
            "전역범위에서 접근 : 저는 전역변수로서 어디서나 접근 가능합니다.\n"
          ]
        }
      ]
    },
    {
      "cell_type": "code",
      "source": [
        "global_var = \"저는 전역변수로서 어디서나 접근 가능합니다.\"\n",
        "def print_global():\n",
        "  global_var = '함수에서 수정'\n",
        "  print(f'함수내에서 접근 : {global_var}')\n",
        "\n",
        "print_global()\n",
        "print(f'전역범위에서 접근 : {global_var}')"
      ],
      "metadata": {
        "colab": {
          "base_uri": "https://localhost:8080/"
        },
        "id": "b_QFsRWJ4dQN",
        "outputId": "f61e3d7c-b93c-4e34-af6a-36f5f1a81bb4"
      },
      "execution_count": null,
      "outputs": [
        {
          "output_type": "stream",
          "name": "stdout",
          "text": [
            "함수내에서 접근 : 함수에서 수정\n",
            "전역범위에서 접근 : 저는 전역변수로서 어디서나 접근 가능합니다.\n"
          ]
        }
      ]
    },
    {
      "cell_type": "code",
      "source": [
        "global_var = \"저는 전역변수로서 어디서나 접근 가능합니다.\"\n",
        "def print_global():\n",
        "  global global_var   # 함수내에서 글로벌 별수에 접근해서 수정을 할때\n",
        "  global_var = '함수에서 수정'\n",
        "  print(f'함수내에서 접근 : {global_var}')\n",
        "\n",
        "print_global()\n",
        "print(f'전역범위에서 접근 : {global_var}')"
      ],
      "metadata": {
        "colab": {
          "base_uri": "https://localhost:8080/"
        },
        "id": "BTVuwhDt4x7e",
        "outputId": "17fb5d31-7192-4fe0-b2ef-b792226a865c"
      },
      "execution_count": null,
      "outputs": [
        {
          "output_type": "stream",
          "name": "stdout",
          "text": [
            "함수내에서 접근 : 함수에서 수정\n",
            "전역범위에서 접근 : 함수에서 수정\n"
          ]
        }
      ]
    },
    {
      "cell_type": "markdown",
      "source": [
        "# 조심해야될 것"
      ],
      "metadata": {
        "id": "FhNWvlxU5OLO"
      }
    },
    {
      "cell_type": "code",
      "source": [
        "count = 0\n",
        "def increment():\n",
        "  count += 1   # count 변수는 전역이 아니라 함수안에서사용했으므로 지역이다. 그런데.. += 연산자는 count 변수가 존재하는 상태에서\n",
        "  # 연산이 가능... 즉 변수에 값이 할당되지않은 상태에서 연산함.. 다시말해서 변수 생성하지 않고 사용함\n",
        "\n",
        "increment()"
      ],
      "metadata": {
        "colab": {
          "base_uri": "https://localhost:8080/",
          "height": 306
        },
        "id": "RH1uIp2Y4WxX",
        "outputId": "1f61dbaa-c066-4ffe-bed5-fdcd15576eaa"
      },
      "execution_count": null,
      "outputs": [
        {
          "output_type": "error",
          "ename": "UnboundLocalError",
          "evalue": "cannot access local variable 'count' where it is not associated with a value",
          "traceback": [
            "\u001b[0;31m---------------------------------------------------------------------------\u001b[0m",
            "\u001b[0;31mUnboundLocalError\u001b[0m                         Traceback (most recent call last)",
            "\u001b[0;32m<ipython-input-9-d3102b331b8c>\u001b[0m in \u001b[0;36m<cell line: 0>\u001b[0;34m()\u001b[0m\n\u001b[1;32m      3\u001b[0m   \u001b[0mcount\u001b[0m \u001b[0;34m+=\u001b[0m \u001b[0;36m1\u001b[0m\u001b[0;34m\u001b[0m\u001b[0;34m\u001b[0m\u001b[0m\n\u001b[1;32m      4\u001b[0m \u001b[0;34m\u001b[0m\u001b[0m\n\u001b[0;32m----> 5\u001b[0;31m \u001b[0mincrement\u001b[0m\u001b[0;34m(\u001b[0m\u001b[0;34m)\u001b[0m\u001b[0;34m\u001b[0m\u001b[0;34m\u001b[0m\u001b[0m\n\u001b[0m",
            "\u001b[0;32m<ipython-input-9-d3102b331b8c>\u001b[0m in \u001b[0;36mincrement\u001b[0;34m()\u001b[0m\n\u001b[1;32m      1\u001b[0m \u001b[0mcount\u001b[0m \u001b[0;34m=\u001b[0m \u001b[0;36m0\u001b[0m\u001b[0;34m\u001b[0m\u001b[0;34m\u001b[0m\u001b[0m\n\u001b[1;32m      2\u001b[0m \u001b[0;32mdef\u001b[0m \u001b[0mincrement\u001b[0m\u001b[0;34m(\u001b[0m\u001b[0;34m)\u001b[0m\u001b[0;34m:\u001b[0m\u001b[0;34m\u001b[0m\u001b[0;34m\u001b[0m\u001b[0m\n\u001b[0;32m----> 3\u001b[0;31m   \u001b[0mcount\u001b[0m \u001b[0;34m+=\u001b[0m \u001b[0;36m1\u001b[0m\u001b[0;34m\u001b[0m\u001b[0;34m\u001b[0m\u001b[0m\n\u001b[0m\u001b[1;32m      4\u001b[0m \u001b[0;34m\u001b[0m\u001b[0m\n\u001b[1;32m      5\u001b[0m \u001b[0mincrement\u001b[0m\u001b[0;34m(\u001b[0m\u001b[0;34m)\u001b[0m\u001b[0;34m\u001b[0m\u001b[0;34m\u001b[0m\u001b[0m\n",
            "\u001b[0;31mUnboundLocalError\u001b[0m: cannot access local variable 'count' where it is not associated with a value"
          ]
        }
      ]
    },
    {
      "cell_type": "markdown",
      "source": [
        "# 중첩범위(Encllsing Scope)\n",
        "  - 편의를위해서 \"런타임 연결해제 및 삭제\" 실행시키고 실습\n",
        "  - 내부 함수는 외부함수의 변수를 참조"
      ],
      "metadata": {
        "id": "yqtEVscp6xbp"
      }
    },
    {
      "cell_type": "code",
      "source": [
        "# nonlocal : 외부함수의 변수를 수정할때 사용, 없으면 새로운 지역변수로 생성\n",
        "def outer():\n",
        "  x = \"외부 변수\"\n",
        "  def inner():\n",
        "    nonlocal x  # 외부 함수의 변수 사용\n",
        "    x = '내부에서 수정'\n",
        "    print(f'inner x : {x}')\n",
        "\n",
        "  inner()\n",
        "  print(f'outer x: {x}')\n",
        "\n",
        "outer()"
      ],
      "metadata": {
        "colab": {
          "base_uri": "https://localhost:8080/"
        },
        "id": "HpMAGnji5cnG",
        "outputId": "5ffe9632-3de0-4ee4-bf4c-11c01f194ee7"
      },
      "execution_count": null,
      "outputs": [
        {
          "output_type": "stream",
          "name": "stdout",
          "text": [
            "inner x : 내부에서 수정\n",
            "outer x: 내부에서 수정\n"
          ]
        }
      ]
    },
    {
      "cell_type": "code",
      "source": [
        "# nonlocal : 외부함수의 변수를 수정할때 사용, 없으면 새로운 지역변수로 생성\n",
        "def outer():\n",
        "  x = \"외부 변수\"\n",
        "  def inner():\n",
        "    x = '내부에서 수정'\n",
        "    print(f'inner x : {x}')\n",
        "\n",
        "  inner()\n",
        "  print(f'outer x: {x}')\n",
        "\n",
        "outer()"
      ],
      "metadata": {
        "colab": {
          "base_uri": "https://localhost:8080/"
        },
        "id": "dWayssAi_nOf",
        "outputId": "6461254f-f716-4564-b99b-0a6314a17e9c"
      },
      "execution_count": null,
      "outputs": [
        {
          "output_type": "stream",
          "name": "stdout",
          "text": [
            "inner x : 내부에서 수정\n",
            "outer x: 외부 변수\n"
          ]
        }
      ]
    },
    {
      "cell_type": "markdown",
      "source": [
        "# LEGB"
      ],
      "metadata": {
        "id": "0wVN_U0aB206"
      }
    },
    {
      "cell_type": "code",
      "source": [
        "x = '전역 x'\n",
        "def outer():\n",
        "  x = '외부 x'  # E  Enclosing\n",
        "  def inner():\n",
        "    x = '내부 x'  # Local\n",
        "    print(f'inner x : {x}')\n",
        "  inner()\n",
        "  print(f'outer x: {x}')\n",
        "\n",
        "outer()\n",
        "print(f'전역 x : {x}')"
      ],
      "metadata": {
        "colab": {
          "base_uri": "https://localhost:8080/"
        },
        "id": "cp8k7FCiB5y3",
        "outputId": "ca64bcd9-1478-4dd2-8641-d36568645465"
      },
      "execution_count": null,
      "outputs": [
        {
          "output_type": "stream",
          "name": "stdout",
          "text": [
            "inner x : 내부 x\n",
            "outer x: 외부 x\n",
            "전역 x : 전역 x\n"
          ]
        }
      ]
    },
    {
      "cell_type": "code",
      "source": [
        "# 파이썬은 재미있고 유용합니다.\n",
        "# 자연어는 어렵습니다.\n",
        "\n",
        "# 현재문장의 단어수 3, 누적 단어수 3\n",
        "# 현재문장의 단어수 2, 누적 단어수 5\n",
        "words_count = 0\n",
        "def print_local_count(current_sentence):\n",
        "  global words_count\n",
        "  words = current_sentence.split()\n",
        "  words_count += len(words)\n",
        "  local_count = len(words)\n",
        "  print(f'현재문장의 단어수 : {local_count}')\n",
        "  print(f'누적 단어수 : {words_count}')"
      ],
      "metadata": {
        "id": "CuMEzDDmCc3K"
      },
      "execution_count": null,
      "outputs": []
    },
    {
      "cell_type": "code",
      "source": [
        "print_local_count('파이썬은 재미있고 유익합니다.')\n",
        "print_local_count('자연어는 어렵습니다.')"
      ],
      "metadata": {
        "colab": {
          "base_uri": "https://localhost:8080/"
        },
        "id": "-yNB-hkIDbRG",
        "outputId": "a2dc0594-4ad9-4b51-b5e6-0d6a15205e49"
      },
      "execution_count": null,
      "outputs": [
        {
          "output_type": "stream",
          "name": "stdout",
          "text": [
            "현재문장의 단어수 : 3\n",
            "누적 단어수 : 3\n",
            "현재문장의 단어수 : 2\n",
            "누적 단어수 : 5\n"
          ]
        }
      ]
    },
    {
      "cell_type": "code",
      "source": [
        "# 파이썬은 재미있고 유용합니다.\n",
        "# 자연어는 어렵습니다.\n",
        "\n",
        "# 현재문장의 단어수 3, 누적 단어수 3\n",
        "# 현재문장의 단어수 2, 누적 단어수 5\n",
        "words_count = 0\n",
        "def process_text(text):\n",
        "  global words_count  # 전역변수\n",
        "  words = text.split()  # 지역변수 process_text함수 내부에서는 사용가능\n",
        "  words_count += len(words)\n",
        "\n",
        "  def print_local_count():\n",
        "    local_count = len(words)   # 지역변수     print_local_countd에서만 사용가능\n",
        "    print(f'현재문장의 단어수 : {local_count}')\n",
        "    print(f'누적 단어수 : {words_count}')\n",
        "  print_local_count()\n",
        "\n",
        "process_text('파이썬은 재미있고 유용합니다.')\n",
        "process_text('자연어는 어렵습니다.')"
      ],
      "metadata": {
        "colab": {
          "base_uri": "https://localhost:8080/"
        },
        "id": "qcl9efTKFH2D",
        "outputId": "69d23220-0b44-47df-836f-fc1c99f9a1fe"
      },
      "execution_count": null,
      "outputs": [
        {
          "output_type": "stream",
          "name": "stdout",
          "text": [
            "현재문장의 단어수 : 3\n",
            "누적 단어수 : 3\n",
            "현재문장의 단어수 : 2\n",
            "누적 단어수 : 5\n"
          ]
        }
      ]
    },
    {
      "cell_type": "code",
      "source": [
        "# 클로징을 이용하는것을 클로저 상태 유지\n",
        "def create_counter():\n",
        "  count = 0  # 외부변수\n",
        "  def increment(text):\n",
        "    nonlocal count\n",
        "    count += len(text.split())\n",
        "    return count\n",
        "\n",
        "  print(f'create_counter count: {count}')\n",
        "\n",
        "  return increment  # 내부함수 리턴\n",
        "\n",
        "counter = create_counter()  # 사용은 외부함수를 이용해서 내부함수를 리턴\n",
        "print(counter('파이썬은 재미있고 유용합니다.'))  # 3\n",
        "print(counter('자연어는 어렵습니다.'))  # 5\n",
        "\n"
      ],
      "metadata": {
        "colab": {
          "base_uri": "https://localhost:8080/"
        },
        "id": "n2aXK_6MGLG3",
        "outputId": "b9c401fa-d9e2-4950-a43c-3e4999b96735"
      },
      "execution_count": null,
      "outputs": [
        {
          "output_type": "stream",
          "name": "stdout",
          "text": [
            "create_counter count: 0\n",
            "increment count: 3\n",
            "3\n",
            "increment count: 5\n",
            "5\n"
          ]
        }
      ]
    },
    {
      "cell_type": "code",
      "source": [
        "def create_multi(factor):\n",
        "  def mulipier(x):\n",
        "    return x * factor\n",
        "  return mulipier\n",
        "\n",
        "myFunc1 =  create_multi(3)\n",
        "print( myFunc1(4) )\n",
        "print( myFunc1(5) )"
      ],
      "metadata": {
        "colab": {
          "base_uri": "https://localhost:8080/"
        },
        "id": "syZiHLj0Lajz",
        "outputId": "dd455bef-ea19-41ea-9e48-012cdb40e741"
      },
      "execution_count": null,
      "outputs": [
        {
          "output_type": "stream",
          "name": "stdout",
          "text": [
            "12\n",
            "15\n"
          ]
        }
      ]
    },
    {
      "cell_type": "markdown",
      "source": [
        "# 함수의 동작 방법을 설명하기"
      ],
      "metadata": {
        "id": "19ufy9AzMWIY"
      }
    },
    {
      "cell_type": "code",
      "source": [
        "# 계산기\n",
        "def add(x, y):\n",
        "  \"\"\"\n",
        "  x : 정수\n",
        "  y : 정수\n",
        "  return 두개의 정수를 더한 값\n",
        "  \"\"\"\n",
        "  return x + y"
      ],
      "metadata": {
        "id": "st7q9zG1EefL"
      },
      "execution_count": null,
      "outputs": []
    },
    {
      "cell_type": "code",
      "source": [
        "add()"
      ],
      "metadata": {
        "id": "R5FkZWvrMxid"
      },
      "execution_count": null,
      "outputs": []
    },
    {
      "cell_type": "markdown",
      "source": [
        "# 매개변수로 함수를 전달"
      ],
      "metadata": {
        "id": "0UuS3uA2NQAv"
      }
    },
    {
      "cell_type": "code",
      "source": [
        "# 계산기  값을 두개로 하는\n",
        "def calculator( func , x, y):\n",
        "  return func(x,y)"
      ],
      "metadata": {
        "id": "bXafxbuXNOe0"
      },
      "execution_count": null,
      "outputs": []
    },
    {
      "cell_type": "code",
      "source": [
        "# 두개 정수 값을 더하는 계산기를 실행\n",
        "# 두개 정수 값을 비교해서 큰 값을 리턴하는 계산기\n",
        "# 두개 정수 값을 곱하는 계산기"
      ],
      "metadata": {
        "id": "O_VgBqbGNdt-"
      },
      "execution_count": null,
      "outputs": []
    },
    {
      "cell_type": "code",
      "source": [
        "print( calculator(lambda x, y : x+y,  10 ,20) )\n",
        "print( calculator(lambda x, y : x if x > y else y,  10 ,20) )\n",
        "print( calculator(lambda x, y : x * y,  10 ,20) )"
      ],
      "metadata": {
        "colab": {
          "base_uri": "https://localhost:8080/"
        },
        "id": "RfWCEohENwZf",
        "outputId": "2c4ff7f7-2061-46f7-b8c8-ba20104b2109"
      },
      "execution_count": null,
      "outputs": [
        {
          "output_type": "execute_result",
          "data": {
            "text/plain": [
              "30"
            ]
          },
          "metadata": {},
          "execution_count": 38
        }
      ]
    },
    {
      "cell_type": "code",
      "source": [
        "# dictionary\n",
        "# 가변 매개변수\n",
        "# 리스트 컴프리핸션\n",
        "# 데코레이터.. : 코드의 변경없이 함수의 기능을 추가 하거나 변경하는 기법"
      ],
      "metadata": {
        "id": "QKRaQs8HN98R"
      },
      "execution_count": null,
      "outputs": []
    },
    {
      "cell_type": "markdown",
      "source": [
        "- 정리\n",
        "  - 함수\n",
        "    - 함수의 정의 - 생성방법\n",
        "    - 매개변수\n",
        "      - positional argument\n",
        "        - 함수에서 정의하면 반드시 전달\n",
        "      - default argument\n",
        "        - 사용자가 전달 안하면 함수에서 정의한 기본값 사용\n",
        "      - variable argument\n",
        "        - packing / unpacking\n",
        "      - keyword variable argument  - 명일 추가 설명\n",
        "      (dic연계해서)       \n",
        "        - packing / unpacking\n",
        "    - 람다함수\n",
        "      - 익명\n",
        "      - lambda 키워드 사용\n",
        "      - 함수를 argument 로 사용하는 함수들\n",
        "        - map,filter, reduce, 사용자 정의함수(calculator)\n",
        "    - 변수의 유효범위\n",
        "      - LEGB : 지역,외부함수,글로벌,빌트인\n"
      ],
      "metadata": {
        "id": "nwspYODIPmS4"
      }
    },
    {
      "cell_type": "markdown",
      "source": [
        "# 아래 코드를 필요한 부분은 함수화해서...\n",
        "  - 함수 호출 방식으로 변경"
      ],
      "metadata": {
        "id": "Mfbj5GpKRlw0"
      }
    },
    {
      "cell_type": "code",
      "source": [
        "total = 0  # 총 수입을 저장할 변수\n",
        "\n",
        "while True:\n",
        "    # 나이를 입력받는다\n",
        "    age = int(input(\"나이를 입력하세요: \"))\n",
        "\n",
        "    # 나이에 따른 입장료 계산\n",
        "    if age >= 19:  # 19 20 21\n",
        "        entrance_fee = 10000  # 성인\n",
        "    elif age >= 13:  # 13 ~ 18\n",
        "        entrance_fee = 7000  # 청소년\n",
        "    elif age >= 8:\n",
        "        entrance_fee = 3000  # 어린이\n",
        "    else:\n",
        "        print('잘못된 나이 (8살 이상 입력)')\n",
        "        continue  # 잘못된 나이는 다시 입력받기\n",
        "\n",
        "    # 입장료를 수입에 누적\n",
        "    total += entrance_fee\n",
        "\n",
        "    # 계속할지 물어본다\n",
        "    continue_program = input(\"계속하시겠습니까? (y/Y): \")\n",
        "    if continue_program.lower() != 'y':\n",
        "        break\n",
        "\n",
        "# 프로그램 종료 후 총 수입금액 출력\n",
        "print(f\"총 수입금액은 {total:,}원입니다.\")\n"
      ],
      "metadata": {
        "id": "2ajxPAqwQ9Xi"
      },
      "execution_count": null,
      "outputs": []
    },
    {
      "cell_type": "code",
      "source": [
        "# 함수정의\n",
        "# 입력\n",
        "def getAge():\n",
        "  # 나이를 입력받는다\n",
        "  age = int(input(\"나이를 입력하세요: \"))\n",
        "  return age\n",
        "# 처리\n",
        "def getEntranceFee(age):\n",
        "  # 나이에 따른 입장료 계산\n",
        "    if age >= 19:  # 19 20 21\n",
        "        entrance_fee = 10000  # 성인\n",
        "    elif age >= 13:  # 13 ~ 18\n",
        "        entrance_fee = 7000  # 청소년\n",
        "    elif age >= 8:\n",
        "        entrance_fee = 3000  # 어린이\n",
        "    else:\n",
        "        return None\n",
        "    return entrance_fee\n",
        "# 출력\n",
        "def printTotal(total):\n",
        "  print(f\"총 수입금액은 {total:,}원입니다.\")"
      ],
      "metadata": {
        "id": "xai9xqpyRyu9"
      },
      "execution_count": null,
      "outputs": []
    },
    {
      "cell_type": "code",
      "source": [
        "total = 0\n",
        "def process():\n",
        "  global total\n",
        "  while True:\n",
        "    age = getAge()\n",
        "    entrance_fee = getEntranceFee(age)\n",
        "    if entrance_fee == None:\n",
        "      print(\"잘못된 입력입니다.\")\n",
        "      continue\n",
        "    else:\n",
        "      # 계속할지 물어본다\n",
        "      continue_program = input(\"계속하시겠습니까? (y/Y): \")\n",
        "      if continue_program.lower() != 'y':\n",
        "          break\n",
        "  total += entrance_fee"
      ],
      "metadata": {
        "id": "Y5REPTErVhg7"
      },
      "execution_count": null,
      "outputs": []
    },
    {
      "cell_type": "code",
      "source": [
        "# 함수를 이용한 메인 실행부분\n",
        "total = 0\n",
        "process()\n",
        "#출력\n",
        "printTotal(total)\n"
      ],
      "metadata": {
        "colab": {
          "base_uri": "https://localhost:8080/",
          "height": 420
        },
        "collapsed": true,
        "id": "WKo8_uHRR0ug",
        "outputId": "7790d4b2-54b3-4ec9-a6ef-345a540158a6"
      },
      "execution_count": null,
      "outputs": [
        {
          "name": "stdout",
          "output_type": "stream",
          "text": [
            "나이를 입력하세요: 18\n",
            "계속하시겠습니까? (y/Y): y\n",
            "나이를 입력하세요: Y\n"
          ]
        },
        {
          "output_type": "error",
          "ename": "ValueError",
          "evalue": "invalid literal for int() with base 10: 'Y'",
          "traceback": [
            "\u001b[0;31m---------------------------------------------------------------------------\u001b[0m",
            "\u001b[0;31mValueError\u001b[0m                                Traceback (most recent call last)",
            "\u001b[0;32m<ipython-input-47-25a9b1288a3a>\u001b[0m in \u001b[0;36m<cell line: 0>\u001b[0;34m()\u001b[0m\n\u001b[1;32m      1\u001b[0m \u001b[0;31m# 함수를 이용한 메인 실행부분\u001b[0m\u001b[0;34m\u001b[0m\u001b[0;34m\u001b[0m\u001b[0m\n\u001b[1;32m      2\u001b[0m \u001b[0mtotal\u001b[0m \u001b[0;34m=\u001b[0m \u001b[0;36m0\u001b[0m\u001b[0;34m\u001b[0m\u001b[0;34m\u001b[0m\u001b[0m\n\u001b[0;32m----> 3\u001b[0;31m \u001b[0mprocess\u001b[0m\u001b[0;34m(\u001b[0m\u001b[0;34m)\u001b[0m\u001b[0;34m\u001b[0m\u001b[0;34m\u001b[0m\u001b[0m\n\u001b[0m\u001b[1;32m      4\u001b[0m \u001b[0;31m#출력\u001b[0m\u001b[0;34m\u001b[0m\u001b[0;34m\u001b[0m\u001b[0m\n\u001b[1;32m      5\u001b[0m \u001b[0mprintTotal\u001b[0m\u001b[0;34m(\u001b[0m\u001b[0mtotal\u001b[0m\u001b[0;34m)\u001b[0m\u001b[0;34m\u001b[0m\u001b[0;34m\u001b[0m\u001b[0m\n",
            "\u001b[0;32m<ipython-input-45-9f510741d018>\u001b[0m in \u001b[0;36mprocess\u001b[0;34m()\u001b[0m\n\u001b[1;32m      3\u001b[0m   \u001b[0;32mglobal\u001b[0m \u001b[0mtotal\u001b[0m\u001b[0;34m\u001b[0m\u001b[0;34m\u001b[0m\u001b[0m\n\u001b[1;32m      4\u001b[0m   \u001b[0;32mwhile\u001b[0m \u001b[0;32mTrue\u001b[0m\u001b[0;34m:\u001b[0m\u001b[0;34m\u001b[0m\u001b[0;34m\u001b[0m\u001b[0m\n\u001b[0;32m----> 5\u001b[0;31m     \u001b[0mage\u001b[0m \u001b[0;34m=\u001b[0m \u001b[0mgetAge\u001b[0m\u001b[0;34m(\u001b[0m\u001b[0;34m)\u001b[0m\u001b[0;34m\u001b[0m\u001b[0;34m\u001b[0m\u001b[0m\n\u001b[0m\u001b[1;32m      6\u001b[0m     \u001b[0mentrance_fee\u001b[0m \u001b[0;34m=\u001b[0m \u001b[0mgetEntranceFee\u001b[0m\u001b[0;34m(\u001b[0m\u001b[0mage\u001b[0m\u001b[0;34m)\u001b[0m\u001b[0;34m\u001b[0m\u001b[0;34m\u001b[0m\u001b[0m\n\u001b[1;32m      7\u001b[0m     \u001b[0;32mif\u001b[0m \u001b[0mentrance_fee\u001b[0m \u001b[0;34m==\u001b[0m \u001b[0;32mNone\u001b[0m\u001b[0;34m:\u001b[0m\u001b[0;34m\u001b[0m\u001b[0;34m\u001b[0m\u001b[0m\n",
            "\u001b[0;32m<ipython-input-44-504c194058cf>\u001b[0m in \u001b[0;36mgetAge\u001b[0;34m()\u001b[0m\n\u001b[1;32m      3\u001b[0m \u001b[0;32mdef\u001b[0m \u001b[0mgetAge\u001b[0m\u001b[0;34m(\u001b[0m\u001b[0;34m)\u001b[0m\u001b[0;34m:\u001b[0m\u001b[0;34m\u001b[0m\u001b[0;34m\u001b[0m\u001b[0m\n\u001b[1;32m      4\u001b[0m   \u001b[0;31m# 나이를 입력받는다\u001b[0m\u001b[0;34m\u001b[0m\u001b[0;34m\u001b[0m\u001b[0m\n\u001b[0;32m----> 5\u001b[0;31m   \u001b[0mage\u001b[0m \u001b[0;34m=\u001b[0m \u001b[0mint\u001b[0m\u001b[0;34m(\u001b[0m\u001b[0minput\u001b[0m\u001b[0;34m(\u001b[0m\u001b[0;34m\"나이를 입력하세요: \"\u001b[0m\u001b[0;34m)\u001b[0m\u001b[0;34m)\u001b[0m\u001b[0;34m\u001b[0m\u001b[0;34m\u001b[0m\u001b[0m\n\u001b[0m\u001b[1;32m      6\u001b[0m   \u001b[0;32mreturn\u001b[0m \u001b[0mage\u001b[0m\u001b[0;34m\u001b[0m\u001b[0;34m\u001b[0m\u001b[0m\n\u001b[1;32m      7\u001b[0m \u001b[0;31m# 처리\u001b[0m\u001b[0;34m\u001b[0m\u001b[0;34m\u001b[0m\u001b[0m\n",
            "\u001b[0;31mValueError\u001b[0m: invalid literal for int() with base 10: 'Y'"
          ]
        }
      ]
    },
    {
      "cell_type": "code",
      "source": [],
      "metadata": {
        "id": "3ocBy_PXVtnK"
      },
      "execution_count": null,
      "outputs": []
    }
  ]
}