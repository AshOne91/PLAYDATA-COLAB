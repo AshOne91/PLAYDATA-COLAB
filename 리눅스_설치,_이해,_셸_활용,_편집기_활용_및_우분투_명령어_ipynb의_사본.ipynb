{
  "nbformat": 4,
  "nbformat_minor": 0,
  "metadata": {
    "colab": {
      "provenance": [],
      "include_colab_link": true
    },
    "kernelspec": {
      "name": "python3",
      "display_name": "Python 3"
    },
    "language_info": {
      "name": "python"
    }
  },
  "cells": [
    {
      "cell_type": "markdown",
      "metadata": {
        "id": "view-in-github",
        "colab_type": "text"
      },
      "source": [
        "<a href=\"https://colab.research.google.com/github/AshOne91/PLAYDATA-COLAB/blob/main/%EB%A6%AC%EB%88%85%EC%8A%A4_%EC%84%A4%EC%B9%98%2C_%EC%9D%B4%ED%95%B4%2C_%EC%85%B8_%ED%99%9C%EC%9A%A9%2C_%ED%8E%B8%EC%A7%91%EA%B8%B0_%ED%99%9C%EC%9A%A9_%EB%B0%8F_%EC%9A%B0%EB%B6%84%ED%88%AC_%EB%AA%85%EB%A0%B9%EC%96%B4_ipynb%EC%9D%98_%EC%82%AC%EB%B3%B8.ipynb\" target=\"_parent\"><img src=\"https://colab.research.google.com/assets/colab-badge.svg\" alt=\"Open In Colab\"/></a>"
      ]
    },
    {
      "cell_type": "markdown",
      "source": [
        "wmware 설치\n",
        "\n",
        "wmware 가상환경 생성\n",
        "\n",
        "ubuntu iso 파일 다운로드\n",
        "\n",
        "wmware의 cd/cdroom에서 iso 선택"
      ],
      "metadata": {
        "id": "k_25KhMNx2Be"
      }
    },
    {
      "cell_type": "markdown",
      "source": [
        "# 기본명령어\n",
        "```\n",
        "pwd  : 현재경로\n",
        "ls -a: 전체목록\n",
        "ls -l: 상세정보\n",
        "ls -al : 두개의 명령을 한번에\n",
        "\n",
        "cd : 디렉터리 이동\n",
        "mkdir : 디렉터리 생성\n",
        "mkdir abc/test   현재존재하는 abc 경로하위에 test를 생성(만약 abc 디렉터리가 없으면 에러)\n",
        "mkdir -p abc/test  : 중간디렉터릭 없으면 생성함\n",
        "~  : 현재 계정의 기본 작업경로\n",
        "```"
      ],
      "metadata": {
        "id": "sqrPeSq11Joy"
      }
    },
    {
      "cell_type": "markdown",
      "source": [
        "# 디렉터리 삭제\n",
        "```\n",
        "rmdir 디렉터리: 삭제하려는 폴더에 파일이 없어야 함(empty)\n",
        "rm -rf 디렉터리 : 강제로 삭제(non empty)\n",
        "  rm -rf /  : 시스템 전체를 삭제\n",
        "```"
      ],
      "metadata": {
        "id": "7JnbfVFE2tKw"
      }
    },
    {
      "cell_type": "markdown",
      "source": [
        "# 파일관련 명령어\n",
        "```\n",
        "cat : text파일의 내용만 전체 출력\n",
        "cat 파일명\n",
        "cat -n 파일명  (행번호를 같이 출력)\n",
        "실습:\n",
        "cat /etc/hosts\n",
        "cat -n /etc/hosts\n",
        "\n",
        "more 파일: 화면단위로 출력\n",
        "  space bar: 다음화면\n",
        "  enter : 한줄씩\n",
        "  q : 종료\n",
        "  /문자열 입력후 enter  : 문자열 검색\n",
        "\n",
        "head -숫자 파일명: 앞에서 숫자개수만큼  출력(기본은 10)\n",
        "tail  파일명 : 뒤에서 10개출력\n",
        "\n",
        "cp : 파일이나 디렉터리를 복사\n",
        "cp file1 file2\n",
        "cp f1 file1 file2  : 파일이 존재하면 덮어쓸건지 물어봄\n",
        "cp -r dir1 dir2\n",
        "\n",
        "mv : 파일이동 및 파일명 변경\n",
        "mv test1 data1  : test1파일을 data1으로 변경(없으면 생성 있으면 덮어씀)\n",
        "\n",
        "파일링크: 기존 파일에 새로운 이름을 부여해서 접근하는 방법\n",
        "  하드 링크 : 기존 파일에 추가 파일명을 생성\n",
        "  심볼릭 링크 : 원본파일을 가리키는 새로운 파일 생성\n",
        "  in test1 hdtest1  : 하드링크 -> inode 번호를 공유(주소를공유)\n",
        "  in -s test1 hdtest1  : 심볼릭링크\n",
        "```"
      ],
      "metadata": {
        "id": "OJh5GNqS3btN"
      }
    },
    {
      "cell_type": "markdown",
      "source": [
        "VI 편집기\n",
        "```\n",
        "vi filename\n",
        "\n",
        "편집모드  -->  esc + 명령키\n",
        "명령모드  -->  esc + :\n",
        "  모든간의 전화은 esc 키로 전환\n",
        "\n",
        "명령키\n",
        "  i  -> 현재커서 자리에 입력\n",
        "  a  -> 현재커서 다음자리\n",
        "  o  -> 커서가있는 위치의 다음행에 입력할수 있게 라인을 생성\n",
        "  O  -> 커서가있는 위치의 이전행에 입력할수 있게 라인을 생성\n",
        "  x  -> 커서다음 문자삭제\n",
        "  X  -> 커서이전 문자삭제\n",
        "  dw -> 커서다음 단어\n",
        "  dd -> 커서가 있는 라인삭제\n",
        "\n",
        "명령모드에서\n",
        "q : 나가기(변경사항 있으면 안됨)\n",
        "q! : 저장안하고 강제로 종료\n",
        "w :  현재상태 저장\n",
        "wq : 저장하고 나가기\n",
        "```\n",
        "```\n",
        "vi 를 대처할 수 있는 다양한 에디터들이 존재. ex  gedit -> 윈도우 스타일\n",
        "```"
      ],
      "metadata": {
        "id": "_4nujt27TKXv"
      }
    },
    {
      "cell_type": "markdown",
      "source": [
        "# Shell\n",
        "```\n",
        "Bourne Shell : 최초 그 이후 다양한 shell이등장\n",
        "Bash Shell 리눅스에서 기본으로 사용--> 리눅스 쉘\n",
        "역활 : 사용자의 명령을 해석해서 커널에 전달하는 interpreter 역활\n",
        "/etc/passwd  파일에서 기본 쉘을 확인가능\n",
        "```"
      ],
      "metadata": {
        "id": "zD-c2BaqVmNX"
      }
    },
    {
      "cell_type": "markdown",
      "source": [
        "# 파일 접근 권한\n",
        "```\n",
        "맨앞 첫자리는 - 파일\n",
        "             d 디렉터리\n",
        "소유자   그룹    기타사용자\n",
        "---      ---     ---\n",
        "rw-     r--      r--\n",
        "```\n",
        "접근 권한 변경\n",
        "```\n",
        "chmod\n",
        "  기능 : 파일이나 디렉터리의 접근 권한을 변경\n",
        "  형식 : chmod [옵션] 권한파일(디렉터리)\n",
        "  옵션 -R : 하위 디렉터리까지 권한을 모두 변경\n",
        "  변경방식\n",
        "    문자모드 : r w x + -\n",
        "    숫자모드 : 0 ~ 7  -> 주로 사용하는 방식\n",
        "000     : 0\n",
        "001     : 1\n",
        "010     : 2\n",
        "011     : 3\n",
        "100     : 4\n",
        "ex) 읽기 쓰기 실행   111 --> 7\n",
        "chmod 777 test.txt\n",
        "접근권한\n",
        "읽기 쓰기 실행 : rwx   111 -> 4+2+1  7  \n",
        "읽기 쓰기      :rw-  110  -> 4 + 2  6\n",
        "쓰기            :-w-  010  -> 2\n",
        "쓰기,실행      :-wx 011  2+1  3\n",
        "```"
      ],
      "metadata": {
        "id": "toAwV8ptYM4g"
      }
    },
    {
      "cell_type": "markdown",
      "source": [
        "```\n",
        "vi 편집기 또는 gedit로 임의의 파일을 생성\n",
        "1. 권한 확인\n",
        "2. 그룹과 기타 사용자에게 읽기 권한 변경 : 622\n",
        "3. 그룹과 기타 사용자에게 쓰기 권한 변경 : 644\n",
        "```"
      ],
      "metadata": {
        "id": "--R89lnDfv8Y"
      }
    },
    {
      "cell_type": "markdown",
      "source": [
        "# 프로세스\n",
        "```\n",
        "현재 시스템에서 실행중인 프로그램\n",
        "다중 프로세스 : 여러 프로세스가 동시에 실행\n",
        "시스템 프로세스\n",
        "  리눅스 시스템의 운영에 필요한 기능 수행\n",
        "사용자 프로세스\n",
        "  사용자가 실행한 명령이나 프로그램\n",
        "\n",
        "부모-자식 관계\n",
        "프로세스 번호를가짐 PID\n",
        "데몬프로세스 : 특정 서비스를 제공하는 프로세스\n",
        "  평소에 대기상태->서비스요청이 들어오면 실행\n",
        "\n",
        "고아프로세스 : 부모가 종료(자식은 실행상태)\n",
        "  -> 부모가 종료되면 pip 1프로세스가 새로운 부모가  되어서 종료 할수 있도록 함\n",
        "\n",
        "좀비프로세스:\n",
        "자식이 종료... 부모가 프로세스가 종료 정보를 받지 못하거나 읽지못하는 현상.. 프로세스 목록에 남이 있는 상태\n",
        "\n",
        "defunct 프로세스로 표기가 될수도있음->실제로는 실행되고 있지 않음\n",
        "\n",
        "좀비 프로세스가 많아지면 시스템 자원이 부족해 진다\n",
        "\n",
        "ps : 프로세스의 상태 정보\n",
        "ps -ef  : 시스템정보도 포함한 모든 프로세스와 상세정보를 출력\n",
        "특정 프로세스 정보 검색 :  ps grep 같이 사용\n",
        "ps -ef | grep bash\n",
        "\n",
        "kill : pid 값으로 실행중인 프로세스를 종료, 단 소유권이 있어야함\n",
        "kill -9 pid  강제종료\n",
        "\n",
        "pkill : 프로세스 이름으로 종료\n",
        "\n",
        "killall : 프로세스 명령이름(CMD)으로 종료\n",
        "```"
      ],
      "metadata": {
        "id": "9KxFRJa2iwrP"
      }
    },
    {
      "cell_type": "code",
      "source": [],
      "metadata": {
        "id": "0I1Uz07GyIPF"
      },
      "execution_count": null,
      "outputs": []
    }
  ]
}