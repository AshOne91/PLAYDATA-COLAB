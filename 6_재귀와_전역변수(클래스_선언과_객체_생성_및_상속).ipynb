{
  "nbformat": 4,
  "nbformat_minor": 0,
  "metadata": {
    "colab": {
      "provenance": [],
      "include_colab_link": true
    },
    "kernelspec": {
      "name": "python3",
      "display_name": "Python 3"
    },
    "language_info": {
      "name": "python"
    }
  },
  "cells": [
    {
      "cell_type": "markdown",
      "metadata": {
        "id": "view-in-github",
        "colab_type": "text"
      },
      "source": [
        "<a href=\"https://colab.research.google.com/github/AshOne91/PLAYDATA-COLAB/blob/main/6_%EC%9E%AC%EA%B7%80%EC%99%80_%EC%A0%84%EC%97%AD%EB%B3%80%EC%88%98(%ED%81%B4%EB%9E%98%EC%8A%A4_%EC%84%A0%EC%96%B8%EA%B3%BC_%EA%B0%9D%EC%B2%B4_%EC%83%9D%EC%84%B1_%EB%B0%8F_%EC%83%81%EC%86%8D).ipynb\" target=\"_parent\"><img src=\"https://colab.research.google.com/assets/colab-badge.svg\" alt=\"Open In Colab\"/></a>"
      ]
    },
    {
      "cell_type": "markdown",
      "source": [
        "# 클래스"
      ],
      "metadata": {
        "id": "_PVIHTDZwUtt"
      }
    },
    {
      "cell_type": "code",
      "source": [
        "# 변수 : 데이터 저장(바로사용가능한 데이터, 주소데이터)\n",
        "# 자료구조 : 리스트나 튜플 딕셔너리... 변수들\n",
        "# 함수 : 로직의 집합\n",
        "\n",
        "# 비지니스로직\n",
        "#  변수와 같은 자료구조\n",
        "#  핵심 함수\n",
        "\n",
        "# 클래스\n",
        "# 맴버(변수, 메소드)"
      ],
      "metadata": {
        "id": "6OEElr8rwWHR"
      },
      "execution_count": null,
      "outputs": []
    },
    {
      "cell_type": "code",
      "source": [
        "# 클래스명의 첫글자는 반드시 대문자로 시작한다.\n",
        "class Student:\n",
        "  pass  # 빈 클래스 정의\n",
        "\n",
        "# 클래스 확인\n",
        "print(Student)\n",
        "\n",
        "num = '10'\n",
        "print(type(num))"
      ],
      "metadata": {
        "colab": {
          "base_uri": "https://localhost:8080/"
        },
        "id": "LNrWWrsTy9tm",
        "outputId": "3233876f-8eef-4417-d16f-f1d622f0271a"
      },
      "execution_count": null,
      "outputs": [
        {
          "output_type": "stream",
          "name": "stdout",
          "text": [
            "<class '__main__.Student'>\n",
            "<class 'str'>\n"
          ]
        }
      ]
    },
    {
      "cell_type": "markdown",
      "source": [
        "# 객체 생성 및 활용"
      ],
      "metadata": {
        "id": "3ThUT7ri1j6o"
      }
    },
    {
      "cell_type": "code",
      "source": [
        "class Student:\n",
        "  def __init__(self) -> None:  # -> None  # 생성자\n",
        "    print('객체가 생성되었습니다.')\n",
        "  def say_hello(self):  # 클래스 안에서 생성한 함수는 이제부터는 메소드라고 호칭\n",
        "    print('hello good morning')\n",
        "\n",
        "# 객체 생성(Student 객체)\n",
        "print('객체생성전')\n",
        "st1 = Student()\n",
        "st2 = Student()\n",
        "st1.say_hello()  # Student.say_hello() takes 0 positional arguments but 1 was given\n",
        "st2.say_hello()\n",
        "print('객체생성후')\n"
      ],
      "metadata": {
        "colab": {
          "base_uri": "https://localhost:8080/"
        },
        "id": "NJ6l31pF0MA3",
        "outputId": "76ec75af-dc08-468b-dcb5-fb5b6cea54b0"
      },
      "execution_count": null,
      "outputs": [
        {
          "output_type": "stream",
          "name": "stdout",
          "text": [
            "객체생성전\n",
            "객체가 생성되었습니다.\n",
            "객체가 생성되었습니다.\n",
            "hello good morning\n",
            "hello good morning\n",
            "객체생성후\n"
          ]
        }
      ]
    },
    {
      "cell_type": "code",
      "source": [
        "def myfunc():\n",
        "  pass\n",
        "\n",
        "myfunc(10)"
      ],
      "metadata": {
        "colab": {
          "base_uri": "https://localhost:8080/",
          "height": 180
        },
        "id": "tsPw8JL-3UJ_",
        "outputId": "948f2f4a-a4c4-4f00-febd-91ddd5b627b3"
      },
      "execution_count": null,
      "outputs": [
        {
          "output_type": "error",
          "ename": "TypeError",
          "evalue": "myfunc() takes 0 positional arguments but 1 was given",
          "traceback": [
            "\u001b[0;31m---------------------------------------------------------------------------\u001b[0m",
            "\u001b[0;31mTypeError\u001b[0m                                 Traceback (most recent call last)",
            "\u001b[0;32m<ipython-input-8-1e2f6c9b8937>\u001b[0m in \u001b[0;36m<cell line: 0>\u001b[0;34m()\u001b[0m\n\u001b[1;32m      2\u001b[0m   \u001b[0;32mpass\u001b[0m\u001b[0;34m\u001b[0m\u001b[0;34m\u001b[0m\u001b[0m\n\u001b[1;32m      3\u001b[0m \u001b[0;34m\u001b[0m\u001b[0m\n\u001b[0;32m----> 4\u001b[0;31m \u001b[0mmyfunc\u001b[0m\u001b[0;34m(\u001b[0m\u001b[0;36m10\u001b[0m\u001b[0;34m)\u001b[0m\u001b[0;34m\u001b[0m\u001b[0;34m\u001b[0m\u001b[0m\n\u001b[0m",
            "\u001b[0;31mTypeError\u001b[0m: myfunc() takes 0 positional arguments but 1 was given"
          ]
        }
      ]
    },
    {
      "cell_type": "markdown",
      "source": [
        "# 객체 초기화\n",
        "  - 객체가 생성될때 클래스 내부에서 사용할 멤버변수를 자동으로 생성\n",
        "  - 객체가 생성되는 시점에 전달한 값을 내부에서 사용할 변수를 생성\n",
        "  - 변수명 = 클래스명(10,20)\n",
        "  - 클래스 내부에서는 특별함수가 그 역화을 한다.\n",
        "    - def __init__(self,전달한 값, 전달한 값, ....) 이게 자동으로 호출됨"
      ],
      "metadata": {
        "id": "8p7_1kMc5Sc2"
      }
    },
    {
      "cell_type": "code",
      "source": [
        "from ctypes import Structure\n",
        "# 클래스설계하는 방법\n",
        "# 생성자를 항상 재 정의한다 --> 특별한함수다\n",
        "  # 내부에 사용할 변수를 정의 --> 생성자를 통해서 외부로부터 초기값을 전달 받는다\n",
        "  # 내부에 사용할 변수가 있다고 하면 반드시 그 변수를 사용할 메소드를 정의\n",
        "\n",
        "class Student:\n",
        "  def __init__(self,name,age) -> None:\n",
        "    # 내부 변수 정의\n",
        "    self.name = name\n",
        "    self.age = age\n",
        "\n",
        "  def intruduction(self):\n",
        "    print(f'저는 이름 : { self.name}  나이는 : {self.age}')\n",
        "\n",
        "# 객체 생성\n",
        "# 초기화 --> 최초 생성할때. 즉 최초 값을 할당할때\n",
        "student = Student('홍길동',27)  # __init__ 생성자에 초기값을 전달해서 내부변수를 생성\n",
        "print(f'name : {student.name}  age : {student.age}')  # 초기화가 되었는지 확인\n",
        "student.intruduction()  # 초기화된 변수를 메소드에서 잘 사용하는지 확인"
      ],
      "metadata": {
        "colab": {
          "base_uri": "https://localhost:8080/"
        },
        "id": "EVS7ZN4F6byZ",
        "outputId": "9fba4256-3369-44bc-ebda-4940c7d83305"
      },
      "execution_count": null,
      "outputs": [
        {
          "output_type": "stream",
          "name": "stdout",
          "text": [
            "name : 홍길동  age : 27\n",
            "저는 이름 : 홍길동  나이는 : 27\n"
          ]
        }
      ]
    },
    {
      "cell_type": "code",
      "source": [
        "# 새로운 클래스를 정의  (속성:변수, 동작:메소드)\n",
        "# 클래스명 Rectangle\n",
        "# 속성 : 가로 세로\n",
        "# 동작(행위) : 면적\n",
        "\n",
        "class Rectangle:\n",
        "  def __init__(self,width, height) -> None:\n",
        "    self.width = width\n",
        "    self.height = height\n",
        "\n",
        "  def area(self):\n",
        "    return self.width * self.height"
      ],
      "metadata": {
        "id": "EDVyNpYfBMLB"
      },
      "execution_count": null,
      "outputs": []
    },
    {
      "cell_type": "code",
      "source": [
        "# 객체 : 클래스의 인스턴스\n",
        "# 인스턴스:  비지니스를 실행가능 한 상태로 만드는 것\n",
        "# 컨테이너 : 비지니스를 구성하는 요소들\n",
        "r1 = Rectangle(10,20)\n",
        "r2 = Rectangle(10,20)\n",
        "r1.width = 100\n",
        "\n",
        "print(f'r1 면적 : {r1.area()}')\n",
        "print(f'r2 면적 : {r2.area()}')"
      ],
      "metadata": {
        "colab": {
          "base_uri": "https://localhost:8080/"
        },
        "id": "vyC2ozbvEEZQ",
        "outputId": "9f89a02c-7065-4d19-b027-e7a1dfd29e1c"
      },
      "execution_count": null,
      "outputs": [
        {
          "output_type": "stream",
          "name": "stdout",
          "text": [
            "r1 면적 : 2000\n",
            "r2 면적 : 200\n"
          ]
        }
      ]
    },
    {
      "cell_type": "markdown",
      "source": [
        "# 인스턴스 변수 VS 클래스 변수\n",
        "  - 인스턴스 변수 : 클래스 안에서 self.변수, 각 객체에 고유\n",
        "  - 클래스 변수 : 그냥 변수명, 모든 객체가 공유"
      ],
      "metadata": {
        "id": "n11dxm8sE0ek"
      }
    },
    {
      "cell_type": "code",
      "source": [
        "# Student 클래스 생성\n",
        "class Student:\n",
        "  # 클래변수 생성\n",
        "  school = \"고등학교\"  # 모든 객체가 공유\n",
        "  def __init__(self,name) -> None:\n",
        "    self.name = name  # 인스턴스 변수(각 객체마다 고유)\n",
        "  # 사용자 정의 메소드\n",
        "  def show_info(self):\n",
        "    print(f'이름 : {self.name}  학교 : {self.school}')\n"
      ],
      "metadata": {
        "id": "BE0tku3PEnUh"
      },
      "execution_count": null,
      "outputs": []
    },
    {
      "cell_type": "code",
      "source": [
        "# 이름이 각각 홍길동 이순신 이라는 이름을 가지는 객체 s1, s2 를 생성\n",
        "s1 = Student('홍길동')\n",
        "s2 = Student('이순신')\n",
        "\n",
        "s1.show_info()\n",
        "s2.show_info()\n",
        "\n",
        "# 인스턴스 변수 수정\n",
        "s1.school = '중학교'\n",
        "\n",
        "# 클래스 변수 수정\n",
        "# Student.school = '중학교'\n",
        "\n",
        "s1.show_info()\n",
        "s2.show_info()\n"
      ],
      "metadata": {
        "colab": {
          "base_uri": "https://localhost:8080/"
        },
        "id": "0372j02XIhsT",
        "outputId": "69107edd-1923-4def-f2b3-fbf769ab4b37"
      },
      "execution_count": null,
      "outputs": [
        {
          "output_type": "stream",
          "name": "stdout",
          "text": [
            "이름 : 홍길동  학교 : 고등학교\n",
            "이름 : 이순신  학교 : 고등학교\n",
            "이름 : 홍길동  학교 : 중학교\n",
            "이름 : 이순신  학교 : 고등학교\n"
          ]
        }
      ]
    },
    {
      "cell_type": "markdown",
      "source": [
        "# 인스턴스 변수 동적 추가\n",
        "  - 객체 생성후에 인스턴스 변수 추가"
      ],
      "metadata": {
        "id": "z35ukxRbN27l"
      }
    },
    {
      "cell_type": "code",
      "source": [
        "s1 = Student('홍길동')\n",
        "s2 = Student('이순신')\n",
        "s1.show_info()\n",
        "s2.show_info()\n",
        "s1.score = 90\n",
        "print(s1.score)\n",
        "print(s2.score)"
      ],
      "metadata": {
        "colab": {
          "base_uri": "https://localhost:8080/",
          "height": 233
        },
        "id": "deeUsQAGJagK",
        "outputId": "611c7071-1252-45a5-bb30-19a7c74191d9"
      },
      "execution_count": null,
      "outputs": [
        {
          "output_type": "stream",
          "name": "stdout",
          "text": [
            "이름 : 홍길동  학교 : 고등학교\n",
            "이름 : 이순신  학교 : 고등학교\n",
            "90\n"
          ]
        },
        {
          "output_type": "error",
          "ename": "AttributeError",
          "evalue": "'Student' object has no attribute 'score'",
          "traceback": [
            "\u001b[0;31m---------------------------------------------------------------------------\u001b[0m",
            "\u001b[0;31mAttributeError\u001b[0m                            Traceback (most recent call last)",
            "\u001b[0;32m<ipython-input-36-554901317dbe>\u001b[0m in \u001b[0;36m<cell line: 0>\u001b[0;34m()\u001b[0m\n\u001b[1;32m      5\u001b[0m \u001b[0ms1\u001b[0m\u001b[0;34m.\u001b[0m\u001b[0mscore\u001b[0m \u001b[0;34m=\u001b[0m \u001b[0;36m90\u001b[0m\u001b[0;34m\u001b[0m\u001b[0;34m\u001b[0m\u001b[0m\n\u001b[1;32m      6\u001b[0m \u001b[0mprint\u001b[0m\u001b[0;34m(\u001b[0m\u001b[0ms1\u001b[0m\u001b[0;34m.\u001b[0m\u001b[0mscore\u001b[0m\u001b[0;34m)\u001b[0m\u001b[0;34m\u001b[0m\u001b[0;34m\u001b[0m\u001b[0m\n\u001b[0;32m----> 7\u001b[0;31m \u001b[0mprint\u001b[0m\u001b[0;34m(\u001b[0m\u001b[0ms2\u001b[0m\u001b[0;34m.\u001b[0m\u001b[0mscore\u001b[0m\u001b[0;34m)\u001b[0m\u001b[0;34m\u001b[0m\u001b[0;34m\u001b[0m\u001b[0m\n\u001b[0m",
            "\u001b[0;31mAttributeError\u001b[0m: 'Student' object has no attribute 'score'"
          ]
        }
      ]
    },
    {
      "cell_type": "markdown",
      "source": [
        "# 객체를 통해서 수정할때 주의 사항"
      ],
      "metadata": {
        "id": "37gOWJ_5Osbz"
      }
    },
    {
      "cell_type": "code",
      "source": [
        "# Student 클래스 생성\n",
        "class Student:\n",
        "  # 클래변수 생성\n",
        "  school = \"고등학교\"  # 모든 객체가 공유\n",
        "  def __init__(self,name) -> None:\n",
        "    self.name = name  # 인스턴스 변수(각 객체마다 고유)\n",
        "\n",
        "s1 = Student('홍길동')\n",
        "s2 = Student('이순신')\n",
        "\n",
        "s1.school = '특성화 고등학교'   # s1에 새로운 인스턴스 변수를 생성\n",
        "print(s1.school)  # 방금 만든 인스턴스 변수를 출력\n",
        "print(s2.school)  # 클래스변수를 참조\n",
        "print(Student.school)\n"
      ],
      "metadata": {
        "colab": {
          "base_uri": "https://localhost:8080/"
        },
        "id": "r520ikVOOBGL",
        "outputId": "3e11015b-e47c-4c4f-d86d-d6409dc67439"
      },
      "execution_count": null,
      "outputs": [
        {
          "output_type": "stream",
          "name": "stdout",
          "text": [
            "특성화 고등학교\n",
            "고등학교\n",
            "고등학교\n"
          ]
        }
      ]
    },
    {
      "cell_type": "markdown",
      "source": [
        "# 생성자에서 클래스 변수를 사용하면? 또는 클래스내부에서 진자 클래스 변수를 사용하려면?"
      ],
      "metadata": {
        "id": "LMaXw5UJQhIq"
      }
    },
    {
      "cell_type": "code",
      "source": [
        "class Student:\n",
        "  serialnum = 0\n",
        "  def __init__(self,name) -> None:\n",
        "    self.name = name\n",
        "    Student.serialnum += 1\n",
        "\n",
        "s1 = Student('홍길동')\n",
        "print(s1.serialnum)\n",
        "\n",
        "s2 = Student('홍길동2')\n",
        "print(s2.serialnum)\n",
        "s2.serialnum = 100  # s2객체에 대한 인스턴스 변수 serial을 생성(그럼.. 클래스변수 serial과는 별개)\n",
        "print(s2.serialnum)\n",
        "\n",
        "s3 = Student('홍길동3')\n",
        "print(s3.serialnum)\n",
        "\n",
        "Student.serialnum = 0\n",
        "print(s1.serialnum,s2.serialnum,s3.serialnum)"
      ],
      "metadata": {
        "colab": {
          "base_uri": "https://localhost:8080/"
        },
        "id": "XXqCFSCzQn8A",
        "outputId": "dafbeae7-5b6f-4e43-aff0-e5a9e4f871c5"
      },
      "execution_count": null,
      "outputs": [
        {
          "output_type": "stream",
          "name": "stdout",
          "text": [
            "1\n",
            "2\n",
            "100\n",
            "3\n",
            "0 100 0\n"
          ]
        }
      ]
    },
    {
      "cell_type": "markdown",
      "source": [
        "# 인스터스 변수 | 클래스 변수\n",
        "```\n",
        "  - 만드는 위치 :   __init__       |   클래스 내부(self없이 )\n",
        "  - 범위        : 각 객체에 고유   | 모든 객체가 공유\n",
        "  - 수정        : 해당 객체만 변경 | 모든 객체에 반영\n",
        "  - 접근 방법   : 객체.변수        | 클래스.변수  객체.변수\n",
        "```"
      ],
      "metadata": {
        "id": "WnLqG3v0UK4H"
      }
    },
    {
      "cell_type": "markdown",
      "source": [
        "# 클래스 변수와 인스턴스 변수가 충돌"
      ],
      "metadata": {
        "id": "O3CSKboVVWVV"
      }
    },
    {
      "cell_type": "code",
      "source": [
        "class Student:\n",
        "  subjects = ['kor','eng']  # 클래스 변수\n",
        "  # 생성자\n",
        "  def __init__(self,name) -> None:\n",
        "    self.name = name\n",
        "\n",
        "s1 = Student('홍길동')\n",
        "s2 = Student('이순신')\n",
        "# s1.subjects.append('math')  # 문법적으로 가능하지만... 이렇게 사용하는것은 안좋다\n",
        "Student.subjects.append('math')\n",
        "print(s1.subjects)\n",
        "print(s2.subjects)\n",
        "\n",
        "# 클래스 변수를 변경할때는 클래스명.변수\n",
        "# 인스턴스 변수  객체.변수"
      ],
      "metadata": {
        "colab": {
          "base_uri": "https://localhost:8080/"
        },
        "id": "ll6TznTkVY7u",
        "outputId": "4e840409-b678-4a58-e57b-df471f0413bc"
      },
      "execution_count": null,
      "outputs": [
        {
          "output_type": "stream",
          "name": "stdout",
          "text": [
            "['kor', 'eng', 'math']\n",
            "['kor', 'eng', 'math']\n"
          ]
        }
      ]
    },
    {
      "cell_type": "code",
      "source": [
        "class Student:\n",
        "  subjects = ['kor','eng']  # 클래스 변수\n",
        "  # 생성자\n",
        "  def __init__(self,name) -> None:\n",
        "    self.name = name\n",
        "    self.subjects = Student.subjects.copy()  # 클래스변수와 인스턴스 변수의 충돌을 예방(인스턴스 변수로 재정의)\n",
        "\n",
        "s1 = Student('홍길동')\n",
        "s2 = Student('이순신')\n",
        "# s1.subjects.append('math')  # 문법적으로 가능하지만... 이렇게 사용하는것은 안좋다\n",
        "Student.subjects.append('math')\n",
        "print(s1.subjects)\n",
        "print(s2.subjects)"
      ],
      "metadata": {
        "id": "gsMA43BtabXG"
      },
      "execution_count": null,
      "outputs": []
    },
    {
      "cell_type": "markdown",
      "source": [
        "```\n",
        "- 정리\n",
        "  - 클래스 정의\n",
        "  - 생성자\n",
        "    - 정의 def __init__ (self)\n",
        "    - 호출 : 객체생성할때... 객체 = 클래스명()\n",
        "  - 인스턴스 변수\n",
        "    - 정의 : 클래스 내부에서 self.변수\n",
        "    - 사용 : 객체.변수\n",
        "  - 클래스 변수  \n",
        "    - 정의 : 클래스에서 self없이 변수 정의\n",
        "    - 사용 : 클래스명.변수(객체.변수 가능하나 비 추천)\n",
        "  - 주의사항\n",
        "    - 객체.클래스변수명 을 사용하면 클래스변수에접근(read)\n",
        "    - 객체.클래스변수명 = 데이터  : 값을 할당하면 같은 이름의 인스턴스 변수가 생성되면서 더이상\n",
        "      객체.변수명으로 클래스변수를 참조 못한다\n",
        "```    "
      ],
      "metadata": {
        "id": "d3ks8C2ebjvX"
      }
    },
    {
      "cell_type": "code",
      "source": [
        "# 성적관리를 위한 학생 클래스\n",
        "# 학생정보, 모든 학생의 총점, 모든 학생의 수\n",
        "# 학생정보 : 이름 ,점수\n",
        "\n",
        "# 변수 : 이름, 점수, 총점, 총 학생수\n",
        "# 만약에 score  {'kor':100,'eng':90,'math':95}\n",
        "class Student:\n",
        "  total_student = 0\n",
        "  total_score = 0\n",
        "  def __init__(self,name, score) -> None:\n",
        "    self.name = name\n",
        "    self.score = score\n",
        "    Student.total_student += 1\n",
        "    Student.total_score += sum(score.values())\n",
        "\n",
        "# 학생등록\n",
        "s1 = Student('홍길동',{'kor':100,'eng':90,'math':95})\n",
        "s2 = Student('이순신',{'kor':90,'eng':90,'math':95})\n",
        "s3 = Student('강감찬',{'kor':80,'eng':90,'math':95})\n",
        "\n",
        "print(f'총 학생수 : {Student.total_student}')\n",
        "print(f'총 점수 : {Student.total_score}')\n"
      ],
      "metadata": {
        "colab": {
          "base_uri": "https://localhost:8080/"
        },
        "id": "EVlg2fJgdPuG",
        "outputId": "a95e6a02-e229-48ec-d995-beb1bc71dbfb"
      },
      "execution_count": null,
      "outputs": [
        {
          "output_type": "stream",
          "name": "stdout",
          "text": [
            "총 학생수 : 3\n",
            "총 점수 : 825\n"
          ]
        }
      ]
    },
    {
      "cell_type": "markdown",
      "source": [
        "# 클래스로 만든 객체는 변수처럼 사용하고 있으니.. print(객체)"
      ],
      "metadata": {
        "id": "zBh1UrsG1b_D"
      }
    },
    {
      "cell_type": "code",
      "source": [
        "class Student:\n",
        "  def __init__(self,name,score) -> None:\n",
        "    self.name = name\n",
        "    self.score = score\n",
        "\n",
        "  def __str__(self) -> str:\n",
        "    return f'이름 : {self.name}  총점 : {sum(self.score.values())}'\n",
        "\n",
        "s1 = Student('홍길동',{'kor':100,'eng':90,'math':95})\n",
        "print(s1)"
      ],
      "metadata": {
        "colab": {
          "base_uri": "https://localhost:8080/"
        },
        "id": "LJkN3VIhaban",
        "outputId": "ef67e1c7-339a-4d1f-ca20-bcc6639a469e"
      },
      "execution_count": null,
      "outputs": [
        {
          "output_type": "stream",
          "name": "stdout",
          "text": [
            "이름 : 홍길동  총점 : 285\n"
          ]
        }
      ]
    },
    {
      "cell_type": "markdown",
      "source": [
        "```\n",
        "@classmethod\n",
        "@staticmethod\n",
        "@propery\n",
        "@name.setter\n",
        "```"
      ],
      "metadata": {
        "id": "YnFHzaCWaUS_"
      }
    },
    {
      "cell_type": "code",
      "source": [
        "'''\n",
        "@classmethod  --> 클래스메소드를 정의하느 데코레이터\n",
        "사용목적 : 클래스변수를 다루기위해서\n",
        "'''\n",
        "class MyClass:\n",
        "  def __init__(self) -> None:\n",
        "    pass\n",
        "  def my_instance_method(self):\n",
        "    print('인스턴스 메서드')\n",
        "\n",
        "  @classmethod\n",
        "  def my_class_method(cls):\n",
        "    print('클래스 메서드')\n",
        "    print(cls)\n",
        "\n",
        "myObject = MyClass()\n",
        "myObject.my_instance_method()\n",
        "myObject.my_class_method()  # 클래스 정보를 출력 - 클래스\n",
        "print(myObject)  # 객체의 메모리주소를 출력 - 인스턴스"
      ],
      "metadata": {
        "colab": {
          "base_uri": "https://localhost:8080/"
        },
        "id": "8Y38PApHV56G",
        "outputId": "e562f832-ff20-4fc3-ce07-eaf9bf9c10a6"
      },
      "execution_count": null,
      "outputs": [
        {
          "output_type": "stream",
          "name": "stdout",
          "text": [
            "인스턴스 메서드\n",
            "클래스 메서드\n",
            "<class '__main__.MyClass'>\n",
            "<__main__.MyClass object at 0x7b38160b8cd0>\n"
          ]
        }
      ]
    },
    {
      "cell_type": "code",
      "source": [
        "class Student:\n",
        "  # 클래스 변수 school\n",
        "  school = '고등학교'\n",
        "  def __init__(self,name,score) -> None:  # self  자기자신 즉 객체 Object\n",
        "    self.name = name\n",
        "    self.score = score\n",
        "\n",
        "  @classmethod\n",
        "  def get_school(cls):  # cls는 Student 즉 클래스\n",
        "    return cls.school\n",
        "\n",
        "  @classmethod\n",
        "  def set_school(cls,school):\n",
        "    cls.school = school\n",
        "    return cls.school\n",
        "\n",
        "\n",
        "# 클래스 호출\n",
        "print(Student.get_school())\n",
        "# 인스턴스 호출\n",
        "s = Student('홍길동',{'kor':100,'eng':90,'math':95})\n",
        "print(s.get_school())\n",
        "# 클래스 메소드 호출로 수정\n",
        "Student.set_school('중학교')\n",
        "\n",
        "print(Student.get_school())\n",
        "print(s.get_school())\n"
      ],
      "metadata": {
        "colab": {
          "base_uri": "https://localhost:8080/"
        },
        "id": "RiG__4cm5ti4",
        "outputId": "b8d7b636-b5b2-4df2-f8d3-0d618fa5780a"
      },
      "execution_count": null,
      "outputs": [
        {
          "output_type": "stream",
          "name": "stdout",
          "text": [
            "고등학교\n",
            "고등학교\n",
            "중학교\n",
            "중학교\n"
          ]
        }
      ]
    },
    {
      "cell_type": "markdown",
      "source": [
        "# 팩토리 메서드"
      ],
      "metadata": {
        "id": "ddFEpaWE8YZv"
      }
    },
    {
      "cell_type": "code",
      "source": [
        "class Student:\n",
        "  def __init__(self,name,score) -> None:\n",
        "    self.name = name\n",
        "    self.score = score\n",
        "\n",
        "  @classmethod\n",
        "  def create(cls,name,score):\n",
        "    return cls(name,score)   # return Student(name, score)\n",
        "\n",
        "  def __str__(self) -> str:\n",
        "    return f'이름 : {self.name}  총점 : {sum(self.score.values())}'\n",
        "\n",
        "s1 = Student.create('홍길동',{'kor':100,'eng':90,'math':95})\n",
        "print(s1)\n",
        "\n",
        "# s1 = Student.create('홍길동',{'kor':100,'eng':90,'math':95})\n",
        "# s1 = Student('홍길동',{'kor':100,'eng':90,'math':95})"
      ],
      "metadata": {
        "colab": {
          "base_uri": "https://localhost:8080/"
        },
        "id": "OZ2qWnsk5Rx2",
        "outputId": "497e44f8-1243-487c-bafe-c4afd93afde2"
      },
      "execution_count": null,
      "outputs": [
        {
          "output_type": "stream",
          "name": "stdout",
          "text": [
            "이름 : 홍길동  총점 : 285\n"
          ]
        }
      ]
    },
    {
      "cell_type": "code",
      "source": [
        "'''\n",
        "@staticmethod  : 정적메서드\n",
        "자동으로 self, cls를 받지 않는다\n",
        "크래스와 논리적으로 관련 있지만 객체상태나 클래스변수에 의존하지 않는 유틸리티 함수 같은 개념\n",
        "'''\n",
        "class MyClass:\n",
        "  def __init__(self) -> None:\n",
        "    pass\n",
        "\n",
        "  @staticmethod   # 자동으로 self, cls를 받지 않는다\n",
        "  def my_method(a,b):\n",
        "    print(a + b)\n",
        "\n",
        "m = MyClass()\n",
        "m.my_method(10,20)"
      ],
      "metadata": {
        "colab": {
          "base_uri": "https://localhost:8080/"
        },
        "id": "y1OiVm2d9Vqh",
        "outputId": "97e1f321-ddc7-402c-8efa-725350469fe8"
      },
      "execution_count": null,
      "outputs": [
        {
          "output_type": "stream",
          "name": "stdout",
          "text": [
            "30\n"
          ]
        }
      ]
    },
    {
      "cell_type": "markdown",
      "source": [
        "```\n",
        "클래스 명세서\n",
        "   이름 : Student\n",
        "   변수 : 클래스 변수: school\n",
        "          인스턴스 변수 : name\n",
        "   메소드: 인스턴스 메소드 : get_name  인스턴스 변수 name을 반환\n",
        "          클래스 메소드 : get_school 클래스 변수를 반환\n",
        "          스테틱 메소드 : is_passing  점수가 60보다크면 True          \n",
        "```"
      ],
      "metadata": {
        "id": "3_otTMTk_Zie"
      }
    },
    {
      "cell_type": "code",
      "source": [
        "class Student:\n",
        "  school = '고등학교'\n",
        "  def __init__(self,name) -> None:   # s = Student('홍길동')\n",
        "    self.name = name\n",
        "  # 인스턴스 매소드  : 인스턴스 변수 반환\n",
        "  def get_name(self):\n",
        "    return self.name\n",
        "  # 클래스 매소드  : 클래스 변수 반환\n",
        "  @classmethod\n",
        "  def get_school(cls):\n",
        "    return cls.school\n",
        "  @staticmethod\n",
        "  def is_passing(score):\n",
        "    return score > 60\n",
        "\n",
        "s = Student('홍길동')\n",
        "print(s.get_name())\n",
        "print(Student.get_school())\n",
        "print(Student.is_passing(90))"
      ],
      "metadata": {
        "colab": {
          "base_uri": "https://localhost:8080/"
        },
        "id": "OBoa6Aht9-bm",
        "outputId": "9a5c63bd-00ff-455b-ac0b-ca3955f5c597"
      },
      "execution_count": null,
      "outputs": [
        {
          "output_type": "stream",
          "name": "stdout",
          "text": [
            "홍길동\n",
            "고등학교\n",
            "True\n"
          ]
        }
      ]
    },
    {
      "cell_type": "code",
      "source": [
        "'''\n",
        "@property\n",
        "  클래스의 속성을 관리하는 데코레이터\n",
        "  getter, setter ,deleter 기능을 제공\n",
        "'''\n",
        "class MyClass:\n",
        "  def __init__(self) -> None:\n",
        "    print('생성자 호출')\n",
        "    self._value = 0\n",
        "\n",
        "  @property   # getter\n",
        "  def value(self):\n",
        "    print('def value() 호출')\n",
        "    return self._value\n",
        "\n",
        "  @value.setter\n",
        "  def value(self,val):\n",
        "    print(f'def value(val) 호출 변수에  할당할 값은 {val}')\n",
        "    self._value = val\n",
        "  @value.deleter\n",
        "  def value(self):\n",
        "    print('def value() 호출')\n",
        "    self._value = None\n",
        "\n",
        "print('객체생성전')\n",
        "m = MyClass()\n",
        "print('객체생성후')\n",
        "print(m._value)  # 인스턴스 변수 출력\n",
        "print('1-------------')\n",
        "print(m.value)\n",
        "print('2-------------')\n",
        "m.value = 200  #  property 'value' of 'MyClass' object has no setter\n",
        "del m.value"
      ],
      "metadata": {
        "colab": {
          "base_uri": "https://localhost:8080/"
        },
        "collapsed": true,
        "id": "VSyiVeBqEHYy",
        "outputId": "d00edeaa-24ef-415a-ab92-295d557c6bb6"
      },
      "execution_count": null,
      "outputs": [
        {
          "output_type": "stream",
          "name": "stdout",
          "text": [
            "객체생성전\n",
            "생성자 호출\n",
            "객체생성후\n",
            "0\n",
            "1-------------\n",
            "def value() 호출\n",
            "0\n",
            "2-------------\n",
            "def value(val) 호출 변수에  할당할 값은 200\n",
            "def value() 호출\n"
          ]
        }
      ]
    },
    {
      "cell_type": "code",
      "source": [
        "class Student:\n",
        "  def __init__(self,name,score) -> None:\n",
        "    self.name = name\n",
        "    self.score = score\n",
        "\n",
        "  @property\n",
        "  def average(self):\n",
        "    return round(sum(self.score.values()) / len(self.score) ,2)\n",
        "\n",
        "s = Student('홍길동',{'kor':100,'eng':90,'math':95})\n",
        "print(s.average())"
      ],
      "metadata": {
        "colab": {
          "base_uri": "https://localhost:8080/",
          "height": 180
        },
        "id": "NOyU1kRlIJPC",
        "outputId": "97be857b-16f2-407b-f26e-fa20121d9372"
      },
      "execution_count": null,
      "outputs": [
        {
          "output_type": "error",
          "ename": "TypeError",
          "evalue": "'float' object is not callable",
          "traceback": [
            "\u001b[0;31m---------------------------------------------------------------------------\u001b[0m",
            "\u001b[0;31mTypeError\u001b[0m                                 Traceback (most recent call last)",
            "\u001b[0;32m<ipython-input-86-b65f310f8c48>\u001b[0m in \u001b[0;36m<cell line: 0>\u001b[0;34m()\u001b[0m\n\u001b[1;32m      9\u001b[0m \u001b[0;34m\u001b[0m\u001b[0m\n\u001b[1;32m     10\u001b[0m \u001b[0ms\u001b[0m \u001b[0;34m=\u001b[0m \u001b[0mStudent\u001b[0m\u001b[0;34m(\u001b[0m\u001b[0;34m'홍길동'\u001b[0m\u001b[0;34m,\u001b[0m\u001b[0;34m{\u001b[0m\u001b[0;34m'kor'\u001b[0m\u001b[0;34m:\u001b[0m\u001b[0;36m100\u001b[0m\u001b[0;34m,\u001b[0m\u001b[0;34m'eng'\u001b[0m\u001b[0;34m:\u001b[0m\u001b[0;36m90\u001b[0m\u001b[0;34m,\u001b[0m\u001b[0;34m'math'\u001b[0m\u001b[0;34m:\u001b[0m\u001b[0;36m95\u001b[0m\u001b[0;34m}\u001b[0m\u001b[0;34m)\u001b[0m\u001b[0;34m\u001b[0m\u001b[0;34m\u001b[0m\u001b[0m\n\u001b[0;32m---> 11\u001b[0;31m \u001b[0mprint\u001b[0m\u001b[0;34m(\u001b[0m\u001b[0ms\u001b[0m\u001b[0;34m.\u001b[0m\u001b[0maverage\u001b[0m\u001b[0;34m(\u001b[0m\u001b[0;34m)\u001b[0m\u001b[0;34m)\u001b[0m\u001b[0;34m\u001b[0m\u001b[0;34m\u001b[0m\u001b[0m\n\u001b[0m",
            "\u001b[0;31mTypeError\u001b[0m: 'float' object is not callable"
          ]
        }
      ]
    },
    {
      "cell_type": "code",
      "source": [
        "num = 25.0\n",
        "print(num() )"
      ],
      "metadata": {
        "colab": {
          "base_uri": "https://localhost:8080/",
          "height": 162
        },
        "id": "IcfEa3f-J4dM",
        "outputId": "77adcfce-c5ee-4017-9b52-41be803bf310"
      },
      "execution_count": null,
      "outputs": [
        {
          "output_type": "error",
          "ename": "TypeError",
          "evalue": "'float' object is not callable",
          "traceback": [
            "\u001b[0;31m---------------------------------------------------------------------------\u001b[0m",
            "\u001b[0;31mTypeError\u001b[0m                                 Traceback (most recent call last)",
            "\u001b[0;32m<ipython-input-88-cb5d8c56677f>\u001b[0m in \u001b[0;36m<cell line: 0>\u001b[0;34m()\u001b[0m\n\u001b[1;32m      1\u001b[0m \u001b[0mnum\u001b[0m \u001b[0;34m=\u001b[0m \u001b[0;36m25.0\u001b[0m\u001b[0;34m\u001b[0m\u001b[0;34m\u001b[0m\u001b[0m\n\u001b[0;32m----> 2\u001b[0;31m \u001b[0mprint\u001b[0m\u001b[0;34m(\u001b[0m\u001b[0mnum\u001b[0m\u001b[0;34m(\u001b[0m\u001b[0;34m)\u001b[0m \u001b[0;34m)\u001b[0m\u001b[0;34m\u001b[0m\u001b[0;34m\u001b[0m\u001b[0m\n\u001b[0m",
            "\u001b[0;31mTypeError\u001b[0m: 'float' object is not callable"
          ]
        }
      ]
    },
    {
      "cell_type": "code",
      "source": [
        "class Student:\n",
        "  def __init__(self,name,age) -> None:\n",
        "    self.name = name\n",
        "    self._age = age\n",
        "  @property\n",
        "  def age(self):\n",
        "    return self._age\n",
        "  @age.setter\n",
        "  def age(self,value):\n",
        "    if not( 0 <= value <= 100):\n",
        "      # 강제로 에러를발생\n",
        "      raise ValueError('나이는 0~100 사이의 값만 가능합니다')\n",
        "    self._age = value\n",
        "#사용\n",
        "s = Student('홍길동',20)\n",
        "print(s.age)\n",
        "s.age = 500\n",
        "print(s.age)"
      ],
      "metadata": {
        "colab": {
          "base_uri": "https://localhost:8080/",
          "height": 341
        },
        "id": "Ln95d8WMITTo",
        "outputId": "b666676d-40ae-4e15-accc-b97f99269dc0"
      },
      "execution_count": null,
      "outputs": [
        {
          "output_type": "stream",
          "name": "stdout",
          "text": [
            "20\n"
          ]
        },
        {
          "output_type": "error",
          "ename": "ValueError",
          "evalue": "나이는 0~100 사이의 값만 가능합니다",
          "traceback": [
            "\u001b[0;31m---------------------------------------------------------------------------\u001b[0m",
            "\u001b[0;31mValueError\u001b[0m                                Traceback (most recent call last)",
            "\u001b[0;32m<ipython-input-91-e248568597f1>\u001b[0m in \u001b[0;36m<cell line: 0>\u001b[0;34m()\u001b[0m\n\u001b[1;32m     15\u001b[0m \u001b[0ms\u001b[0m \u001b[0;34m=\u001b[0m \u001b[0mStudent\u001b[0m\u001b[0;34m(\u001b[0m\u001b[0;34m'홍길동'\u001b[0m\u001b[0;34m,\u001b[0m\u001b[0;36m20\u001b[0m\u001b[0;34m)\u001b[0m\u001b[0;34m\u001b[0m\u001b[0;34m\u001b[0m\u001b[0m\n\u001b[1;32m     16\u001b[0m \u001b[0mprint\u001b[0m\u001b[0;34m(\u001b[0m\u001b[0ms\u001b[0m\u001b[0;34m.\u001b[0m\u001b[0mage\u001b[0m\u001b[0;34m)\u001b[0m\u001b[0;34m\u001b[0m\u001b[0;34m\u001b[0m\u001b[0m\n\u001b[0;32m---> 17\u001b[0;31m \u001b[0ms\u001b[0m\u001b[0;34m.\u001b[0m\u001b[0mage\u001b[0m \u001b[0;34m=\u001b[0m \u001b[0;36m500\u001b[0m\u001b[0;34m\u001b[0m\u001b[0;34m\u001b[0m\u001b[0m\n\u001b[0m\u001b[1;32m     18\u001b[0m \u001b[0mprint\u001b[0m\u001b[0;34m(\u001b[0m\u001b[0ms\u001b[0m\u001b[0;34m.\u001b[0m\u001b[0mage\u001b[0m\u001b[0;34m)\u001b[0m\u001b[0;34m\u001b[0m\u001b[0;34m\u001b[0m\u001b[0m\n",
            "\u001b[0;32m<ipython-input-91-e248568597f1>\u001b[0m in \u001b[0;36mage\u001b[0;34m(self, value)\u001b[0m\n\u001b[1;32m     10\u001b[0m     \u001b[0;32mif\u001b[0m \u001b[0;32mnot\u001b[0m\u001b[0;34m(\u001b[0m \u001b[0;36m0\u001b[0m \u001b[0;34m<=\u001b[0m \u001b[0mvalue\u001b[0m \u001b[0;34m<=\u001b[0m \u001b[0;36m100\u001b[0m\u001b[0;34m)\u001b[0m\u001b[0;34m:\u001b[0m\u001b[0;34m\u001b[0m\u001b[0;34m\u001b[0m\u001b[0m\n\u001b[1;32m     11\u001b[0m       \u001b[0;31m# 강제로 에러를발생\u001b[0m\u001b[0;34m\u001b[0m\u001b[0;34m\u001b[0m\u001b[0m\n\u001b[0;32m---> 12\u001b[0;31m       \u001b[0;32mraise\u001b[0m \u001b[0mValueError\u001b[0m\u001b[0;34m(\u001b[0m\u001b[0;34m'나이는 0~100 사이의 값만 가능합니다'\u001b[0m\u001b[0;34m)\u001b[0m\u001b[0;34m\u001b[0m\u001b[0;34m\u001b[0m\u001b[0m\n\u001b[0m\u001b[1;32m     13\u001b[0m     \u001b[0mself\u001b[0m\u001b[0;34m.\u001b[0m\u001b[0m_age\u001b[0m \u001b[0;34m=\u001b[0m \u001b[0mvalue\u001b[0m\u001b[0;34m\u001b[0m\u001b[0;34m\u001b[0m\u001b[0m\n\u001b[1;32m     14\u001b[0m \u001b[0;31m#사용\u001b[0m\u001b[0;34m\u001b[0m\u001b[0;34m\u001b[0m\u001b[0m\n",
            "\u001b[0;31mValueError\u001b[0m: 나이는 0~100 사이의 값만 가능합니다"
          ]
        }
      ]
    },
    {
      "cell_type": "markdown",
      "source": [
        "# 상속\n",
        "  - 기존클래스(부모클래스)의 속성과 메서드를 새로운 클래스(자식클래스)가 물려받아 사용하는 기법\n",
        "  - 클래스간의 계층적 구조가 성립"
      ],
      "metadata": {
        "id": "XbrAEX9GR5Gx"
      }
    },
    {
      "cell_type": "code",
      "source": [
        "class Pararent:\n",
        "  pass\n",
        "\n",
        "class Child(Pararent):\n",
        "  pass\n"
      ],
      "metadata": {
        "id": "ATjDUvg8ITLb"
      },
      "execution_count": null,
      "outputs": []
    },
    {
      "cell_type": "markdown",
      "source": [
        "# 상속의 동작 원리\n",
        "  - 속성과 메서드 상속 : 모든 속성과 메서드를 자동으로 물려받음\n",
        "  - 오버라이드(Overriding) : 부모의 메서드를 재정의\n",
        "  - super() : 부모클래스의 메서드나 초기화 호출 - 부모의 생성자를 호출\n",
        "  - 확장 : 자식클래스에서 새로운 속성/매서드를 추가"
      ],
      "metadata": {
        "id": "AOESxnQuSXox"
      }
    },
    {
      "cell_type": "code",
      "source": [
        "class Parents:\n",
        "  def __init__(self,name) -> None:\n",
        "    self.name = name\n",
        "  def introduce(self):\n",
        "    print(f'실례합니다.. 저는  {self.name} 입니다.')\n",
        "# 상속\n",
        "class Child(Parents) :\n",
        "  def introduce(self):\n",
        "    print(f'안녕 나는 {self.name} 야.')\n",
        "\n",
        "# 객체생성 각각\n",
        "p = Parents('홍길동')\n",
        "c = Child('이순신')  # 객체를 생서할때.. 값을 주면 해당 형태로 부모 생성자를 호출한다.\n",
        "p.introduce()\n",
        "c.introduce()\n"
      ],
      "metadata": {
        "colab": {
          "base_uri": "https://localhost:8080/"
        },
        "id": "YzmlSdqXTZuH",
        "outputId": "9c30aa84-5a18-4bf6-dff7-1bdd318a7465"
      },
      "execution_count": null,
      "outputs": [
        {
          "output_type": "stream",
          "name": "stdout",
          "text": [
            "실례합니다.. 저는  홍길동 입니다.\n",
            "안녕 나는 이순신 야.\n"
          ]
        }
      ]
    },
    {
      "cell_type": "markdown",
      "source": [
        "# 클래스 변수 상속 가능"
      ],
      "metadata": {
        "id": "slG6D5BUXvEB"
      }
    },
    {
      "cell_type": "code",
      "source": [
        "class Person:\n",
        "  region = '한국'\n",
        "  def __init__(self,name) -> None:\n",
        "    self.name = name\n",
        "class Student(Person):\n",
        "  school = '한국어 학교'\n",
        "\n",
        "# 사용\n",
        "p = Person('홍길동')\n",
        "s = Student('이순신')\n",
        "print(p.region)  # 자신의 클래스변수 접근\n",
        "print(s.region) # 상속받은 자식이 부모클래스의 클래스변수 접근\n",
        "print(s.school) # 자신의 클래스변수 접근"
      ],
      "metadata": {
        "colab": {
          "base_uri": "https://localhost:8080/"
        },
        "id": "133agz2eX2el",
        "outputId": "5e6eaadd-25b4-4709-b803-90502585c505"
      },
      "execution_count": null,
      "outputs": [
        {
          "output_type": "stream",
          "name": "stdout",
          "text": [
            "한국\n",
            "한국\n",
            "한국어 학교\n"
          ]
        }
      ]
    },
    {
      "cell_type": "markdown",
      "source": [
        "# 다중상속을 금지해 왔다. 그러나 파이썬을 허용"
      ],
      "metadata": {
        "id": "yv1SRWI7Y2K6"
      }
    },
    {
      "cell_type": "code",
      "source": [
        "class A:\n",
        "  def show(self):\n",
        "    print('A_method')\n",
        "class B:\n",
        "  def show(self):\n",
        "    print('B_method')\n",
        "\n",
        "class AB(A,B):\n",
        "  pass\n",
        "\n",
        "ab = AB()\n",
        "ab.show()\n",
        "print(AB.__mro__)  # mro 다중상속시 의미가 중복될때.. 실행 순서  즉 탐색 순서"
      ],
      "metadata": {
        "colab": {
          "base_uri": "https://localhost:8080/"
        },
        "id": "pe1xC9WXZUeJ",
        "outputId": "c1f8bc21-3335-40c4-fce8-c08219f8d768"
      },
      "execution_count": null,
      "outputs": [
        {
          "output_type": "stream",
          "name": "stdout",
          "text": [
            "A_method\n",
            "(<class '__main__.AB'>, <class '__main__.A'>, <class '__main__.B'>, <class 'object'>)\n"
          ]
        }
      ]
    },
    {
      "cell_type": "markdown",
      "source": [
        "```\n",
        "# 학생관리 프로그램\n",
        "  - 1. 기본클래스와 인스턴스변수\n",
        "  - 2. 딕셔너리 점수 관리\n",
        "  - 3. 상속기능\n",
        "  - 4. @property 속성제어\n",
        "  - 5. 클래스변수와 @classmethod\n",
        "  - 6. @staticmethod, 유효성 검사\n",
        "  - 7. 키워드 가변 매개변수 packing /unpacking\n",
        "  - 8. 리스트 컴프리핸션, 데코레이터 추가\n",
        "```\n",
        "  "
      ],
      "metadata": {
        "id": "pYWmopAFek1q"
      }
    },
    {
      "cell_type": "code",
      "source": [
        "# 1\n",
        "class Student:\n",
        "  def __init__(self,name,age) -> None:\n",
        "    self.name = name\n",
        "    self.age = age\n",
        "  def __str__(self) -> str:\n",
        "    return f'이름 : {self.name}  나이 : {self.age}'\n",
        "\n",
        "s = Student('홍길동',20)\n",
        "print(s)"
      ],
      "metadata": {
        "colab": {
          "base_uri": "https://localhost:8080/"
        },
        "id": "Sdy98KB-ekYQ",
        "outputId": "992ad1a2-81a9-40bf-8a1f-30e6ffb2b4a6"
      },
      "execution_count": null,
      "outputs": [
        {
          "output_type": "stream",
          "name": "stdout",
          "text": [
            "이름 : 홍길동  나이 : 20\n"
          ]
        }
      ]
    },
    {
      "cell_type": "code",
      "source": [
        "# 2 딕셔너리 점수관리 score = {}\n",
        "class Student:\n",
        "  def __init__(self,name,age,score) -> None:\n",
        "    self.name = name\n",
        "    self.age = age\n",
        "    self.score = score\n",
        "  def get_average(self):\n",
        "    return sum(self.score.values()) / len(self.score)\n",
        "  def __str__(self) -> str:\n",
        "    return f'이름 : {self.name}  나이 : {self.age} 평균 : {self.get_average():.2f}'\n",
        "\n",
        "s = Student('홍길동',20,{'kor':97,'eng':82,'math':95})\n",
        "print(s)"
      ],
      "metadata": {
        "colab": {
          "base_uri": "https://localhost:8080/"
        },
        "id": "B559Fi78fozM",
        "outputId": "2172ee04-90e3-4e33-8948-99ff5b8904ee"
      },
      "execution_count": null,
      "outputs": [
        {
          "output_type": "stream",
          "name": "stdout",
          "text": [
            "이름 : 홍길동  나이 : 20 평균 : 91.33\n"
          ]
        }
      ]
    },
    {
      "cell_type": "code",
      "source": [
        "# 상속관계\n",
        "# 3 딕셔너리 점수관리 score = {}\n",
        "class Person:\n",
        "  def __init__(self,name,age) -> None:\n",
        "    self.name = name\n",
        "    self.age = age\n",
        "\n",
        "class Student(Person):\n",
        "  def __init__(self,name,age,score) -> None:\n",
        "    super().__init__(name,age)  # 부모클래스 생성자를통해 필요한 데이터를 초기화\n",
        "    self.score = score\n",
        "  def get_average(self):\n",
        "    return sum(self.score.values()) / len(self.score)\n",
        "  def __str__(self) -> str:\n",
        "    return f'이름 : {self.name}  나이 : {self.age} 평균 : {self.get_average():.2f}'\n",
        "\n",
        "s = Student('홍길동',20,{'kor':97,'eng':82,'math':95})\n",
        "print(s)"
      ],
      "metadata": {
        "colab": {
          "base_uri": "https://localhost:8080/"
        },
        "id": "SO6hcITags2U",
        "outputId": "2d0dcf81-59b9-486f-83a2-11de9d4f3691"
      },
      "execution_count": null,
      "outputs": [
        {
          "output_type": "stream",
          "name": "stdout",
          "text": [
            "이름 : 홍길동  나이 : 20 평균 : 91.33\n"
          ]
        }
      ]
    },
    {
      "cell_type": "code",
      "source": [
        "# 4. property 캡슐화\n",
        "class Person:\n",
        "  def __init__(self,name,age) -> None:\n",
        "    self.name = name\n",
        "    self._age = age\n",
        "  @property\n",
        "  def age(self):\n",
        "    return self._age\n",
        "  @age.setter # 함수를 변수처럼 외부에서 사용.. 함수내부에서 실제 변수를 보호\n",
        "  def age(self,value):\n",
        "    if not (0 <= value <= 100):\n",
        "      raise ValueError('나이는 0~100 사이의 값만 가능합니다')\n",
        "    self._age = value\n",
        "\n",
        "class Student(Person):\n",
        "  def __init__(self,name,age,score) -> None:\n",
        "    super().__init__(name,age)  # 부모클래스 생성자를통해 필요한 데이터를 초기화\n",
        "    self.score = score\n",
        "  @property\n",
        "  def average(self):\n",
        "    return sum(self.score.values()) / len(self.score)\n",
        "  def __str__(self) -> str:\n",
        "    return f'이름 : {self.name}  나이 : {self.age} 평균 : {self.average:.2f}'\n",
        "\n",
        "s = Student('홍길동',20,{'kor':97,'eng':82,'math':95})\n",
        "print(f'평균 : {s.average}')\n",
        "s.age = 25\n",
        "print(s)\n"
      ],
      "metadata": {
        "colab": {
          "base_uri": "https://localhost:8080/"
        },
        "id": "7ZEC07SbhXBk",
        "outputId": "2f43b84c-d668-46ec-cb08-83815f243bbf"
      },
      "execution_count": null,
      "outputs": [
        {
          "output_type": "stream",
          "name": "stdout",
          "text": [
            "평균 : 91.33333333333333\n",
            "이름 : 홍길동  나이 : 25 평균 : 91.33\n"
          ]
        }
      ]
    },
    {
      "cell_type": "code",
      "source": [
        "# 5 클래스 변수 클래스 메소드\n",
        "class Person:\n",
        "  def __init__(self,name,age) -> None:\n",
        "    self.name = name\n",
        "    self._age = age\n",
        "  @property\n",
        "  def age(self):\n",
        "    return self._age\n",
        "  @age.setter # 함수를 변수처럼 외부에서 사용.. 함수내부에서 실제 변수를 보호\n",
        "  def age(self,value):\n",
        "    if not (0 <= value <= 100):\n",
        "      raise ValueError('나이는 0~100 사이의 값만 가능합니다')\n",
        "    self._age = value\n",
        "\n",
        "class Student(Person):\n",
        "  total_student = 0\n",
        "  all_scores = []\n",
        "\n",
        "  def __init__(self,name,age,score) -> None:\n",
        "    super().__init__(name,age)  # 부모클래스 생성자를통해 필요한 데이터를 초기화\n",
        "    self.score = score\n",
        "    Student.total_student += 1\n",
        "    Student.all_scores.append(score)\n",
        "\n",
        "  @classmethod\n",
        "  def get_class_average(cls):\n",
        "    if not cls.all_scores:\n",
        "      return 0\n",
        "    total = sum( sum(scores.values()) for scores in cls.all_scores )   # [ {},{},{}         ]\n",
        "    subject_count = sum( len(scores) for scores in cls.all_scores )\n",
        "    return total / subject_count\n",
        "\n",
        "  @property\n",
        "  def average(self):\n",
        "    return sum(self.score.values()) / len(self.score)\n",
        "  def __str__(self) -> str:\n",
        "    return f'이름 : {self.name}  나이 : {self.age} 평균 : {self.average:.2f}'\n",
        "\n",
        "s1 = Student('홍길동',20,{'kor':92,'eng':82,'math':95})\n",
        "s2 = Student('이순신',25,{'kor':91,'eng':62,'math':85})\n",
        "s3 = Student('강감찬',30,{'kor':90,'eng':72,'math':75})\n",
        "\n",
        "print(f'총 학생수 : {Student.total_student}')\n",
        "print(f'학습평균 : {Student.get_class_average()}')\n",
        "print(s1)\n",
        "print(s2)\n",
        "print(s3)"
      ],
      "metadata": {
        "colab": {
          "base_uri": "https://localhost:8080/"
        },
        "id": "zQrNZL2GjWW2",
        "outputId": "fec74d37-7adb-4e99-b4b0-3240785b90d0"
      },
      "execution_count": null,
      "outputs": [
        {
          "output_type": "stream",
          "name": "stdout",
          "text": [
            "총 학생수 : 3\n",
            "학습평균 : 82.66666666666667\n",
            "이름 : 홍길동  나이 : 20 평균 : 89.67\n",
            "이름 : 이순신  나이 : 25 평균 : 79.33\n",
            "이름 : 강감찬  나이 : 30 평균 : 79.00\n"
          ]
        }
      ]
    },
    {
      "cell_type": "markdown",
      "source": [],
      "metadata": {
        "id": "BEBaUZleEFVe"
      }
    }
  ]
}