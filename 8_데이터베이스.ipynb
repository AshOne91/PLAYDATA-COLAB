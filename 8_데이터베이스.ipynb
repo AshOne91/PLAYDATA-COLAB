{
  "nbformat": 4,
  "nbformat_minor": 0,
  "metadata": {
    "colab": {
      "provenance": [],
      "include_colab_link": true
    },
    "kernelspec": {
      "name": "python3",
      "display_name": "Python 3"
    },
    "language_info": {
      "name": "python"
    }
  },
  "cells": [
    {
      "cell_type": "markdown",
      "metadata": {
        "id": "view-in-github",
        "colab_type": "text"
      },
      "source": [
        "<a href=\"https://colab.research.google.com/github/AshOne91/PLAYDATA-COLAB/blob/main/8_%EB%8D%B0%EC%9D%B4%ED%84%B0%EB%B2%A0%EC%9D%B4%EC%8A%A4.ipynb\" target=\"_parent\"><img src=\"https://colab.research.google.com/assets/colab-badge.svg\" alt=\"Open In Colab\"/></a>"
      ]
    },
    {
      "cell_type": "markdown",
      "source": [
        "```\n",
        "데이터베이스\n",
        "  데이터를 효율적으로 관리 저장 검색\n",
        "  구조화 : 테이블, 행 ,열로 구성\n",
        "  무결성 : 데이터의 정확성과 일관성 유지\n",
        "  접근성 : SQL로 데이터를 조\n",
        "  DMBS(Database Management System) : 관계형 데이터 베이스\n",
        "    데이터베이스를 관리하는 소프트웨어(mysql, oracle....)\n",
        "    SQL(Structured Query Language) : 데이터베이스에서 데이터를 조작하는 언어\n",
        "      C(insert) R(select) U(update) D(delete) 가능\n",
        "      데이터를 정의(DDL) : 테이블 생성, 수정 등\n",
        "      데이터를 조작(DML) : 데이터를 삽입, 수정, 삭제\n",
        "      데이터 제어(DCL)   : 권한관리\n",
        "```"
      ],
      "metadata": {
        "id": "IIh9vTH5W_Fp"
      }
    },
    {
      "cell_type": "markdown",
      "source": [
        "https://dev.mysql.com/downloads/file/?id=536788"
      ],
      "metadata": {
        "id": "jY5Og6MeZ4YN"
      }
    },
    {
      "cell_type": "markdown",
      "source": [
        "world 스키마가 없는경우\n",
        "\n",
        "https://discord.com/channels/1331160911658094655/1331160911905427471/1348458640696279183"
      ],
      "metadata": {
        "id": "u8sGJY4rccwV"
      }
    },
    {
      "cell_type": "markdown",
      "source": [
        "mysql workbench  실습\n",
        "\n",
        "```\n",
        "-- 조회 select\n",
        "select * from world.city;\n",
        "select * from world.city where Population > 10000000;\n",
        "\n",
        "-- 생성 insert\n",
        "insert into world.city values(null, 'abc','kor','seoul',50000000);\n",
        "-- 업데이트 u\n",
        "update world.city set name = 'cba' where id = 4080;\n",
        "-- *  는 모든 컬럼을 출력한다\n",
        "select * from world.city where name = 'abc';\n",
        "-- 삭제\n",
        "delete from world.city where name = 'abc';\n",
        "select * from world.city where id = 4080;\n",
        "\n",
        "-- 데이터베이스(스키마) 생성\n",
        "create database if not exists student_db;\n",
        "-- 실행될 데이터베이스 선택\n",
        "use student_db;\n",
        "-- 학생테이블 생성\n",
        "create table if not exists student_db.students(\n",
        "\tid int auto_increment primary key,\n",
        "    name varchar(100) not null,\n",
        "    age int not null,\n",
        "    scores json\n",
        ");\n",
        "-- 테이블 구조 확인\n",
        "desc student_db.students;\n",
        "-- 테이블 삭제\n",
        "drop table if exists student_db.students;\n",
        "\n",
        "commit;\n",
        "```"
      ],
      "metadata": {
        "id": "LoBSEpSJcOUP"
      }
    },
    {
      "cell_type": "markdown",
      "source": [
        "```\n",
        "mysql connector를 install\n",
        "```"
      ],
      "metadata": {
        "id": "r-HLOnfknxm-"
      }
    },
    {
      "cell_type": "markdown",
      "source": [
        "```\n",
        "-- 조회 select\n",
        "select * from world.city;\n",
        "select * from world.city where Population > 10000000;\n",
        "\n",
        "-- 생성 insert\n",
        "insert into world.city values(null, 'abc','kor','seoul',50000000);\n",
        "-- 업데이트 u\n",
        "update world.city set name = 'cba' where id = 4080;\n",
        "-- *  는 모든 컬럼을 출력한다\n",
        "select * from world.city where id = 4080;\n",
        "-- 삭제\n",
        "delete from world.city where id = 4080;\n",
        "select * from world.city where id = 4080;\n",
        "\n",
        "-- 데이터베이스(스키마) 생성\n",
        "create database if not exists student_db;\n",
        "-- 실행될 데이터베이스 선택\n",
        "use student_db;\n",
        "-- 학생테이블 생성\n",
        "create table if not exists student_db.students(\n",
        "\tid int auto_increment primary key,\n",
        "    name varchar(100) not null,\n",
        "    age int not null,\n",
        "    scores json\n",
        ");\n",
        "-- 테이블 구조 확인\n",
        "desc student_db.students;\n",
        "-- 테이블 삭제\n",
        "drop table if exists student_db.students;\n",
        "\n",
        "```"
      ],
      "metadata": {
        "id": "jw74ktSqBpTF"
      }
    },
    {
      "cell_type": "markdown",
      "source": [
        "실습은 로컬에서 진행"
      ],
      "metadata": {
        "id": "enSMvd5i5lUj"
      }
    },
    {
      "cell_type": "code",
      "source": [
        "!pip install mysql-connector-python -q"
      ],
      "metadata": {
        "id": "4Q9HVtHi5k_V"
      },
      "execution_count": null,
      "outputs": []
    },
    {
      "cell_type": "code",
      "source": [
        "from mysql import connector\n",
        "print(connector.__version__)"
      ],
      "metadata": {
        "id": "8qylODXf5qel"
      },
      "execution_count": null,
      "outputs": []
    },
    {
      "cell_type": "code",
      "source": [
        "args = {\n",
        "  'host' : 'localhost',\n",
        "  'user' : 'root',\n",
        "  'password' : 'root1234',\n",
        "  'port' : 3306\n",
        "}\n",
        "try:\n",
        "    conn = connector.connect(**args)  # localhost 에 접속 해서 접속 객체를 생성\n",
        "    cursor = conn.cursor() # 실제 db에 명령을 전달(sql)\n",
        "    print('db success connection')\n",
        "    cursor.execute('select * from world.city limit 10')\n",
        "    # print(cursor.fetchall() ) # sql명령어를 통해 조회한 데이터를 객체로 가져온다\n",
        "    students = []\n",
        "    for id,name,countycode,district,population in cursor.fetchall():\n",
        "        student_dict = {'id':id,'ct':countycode,'dt':district,'pp':population}\n",
        "        students.append(student_dict)\n",
        "        # print(f'id:{id}, name:{name}, ct:{countycode},dt:{district},pp:{population}')\n",
        "except Exception as e:\n",
        "  print(e)\n",
        "finally:\n",
        "    if conn:\n",
        "        cursor.close()\n",
        "        conn.close()\n",
        "print(students)"
      ],
      "metadata": {
        "id": "1YYYGYZd5raM"
      },
      "execution_count": null,
      "outputs": []
    },
    {
      "cell_type": "code",
      "source": [
        "# 테이블 생성\n",
        "args = {\n",
        "  'host' : 'localhost',\n",
        "  'user' : 'root',\n",
        "  'password' : 'root1234',\n",
        "  'port' : 3306,\n",
        "  # 'database' : 'student_db'  # 접속할때 활성화할 db(스키마)명\n",
        "}\n",
        "try:\n",
        "    conn = connector.connect(**args)  # localhost 에 접속 해서 접속 객체를 생성\n",
        "    cursor = conn.cursor() # 실제 db에 명령을 전달(sql)\n",
        "    print('db success connection')\n",
        "\n",
        "    # 데이터베이스 student_db 생성\n",
        "    cursor.execute('create database if not exists student_db')\n",
        "    print(\"데이터베이스 생성\")\n",
        "    cursor.execute('use student_db')\n",
        "    print(\"기본 데이터베이스 선택\")\n",
        "\n",
        "    cursor.execute(\n",
        "        \"\"\"\n",
        "        create table if not exists student_db.students(\n",
        "        \tid int auto_increment primary key,\n",
        "            name varchar(100) not null,\n",
        "            age int not null,\n",
        "            scores json\n",
        "        )\n",
        "        \"\"\"\n",
        "    )\n",
        "    print(f'msg : {cursor.fetchall()}')\n",
        "    print('students 테이블생성')\n",
        "    # 테이블 구조 확인\n",
        "    cursor.execute('desc students');\n",
        "    print(f'테이블 구조 : {cursor.fetchall()}')\n",
        "    conn.commit()\n",
        "except Exception as e:\n",
        "  print(e)\n",
        "finally:\n",
        "    if conn:\n",
        "        cursor.close()\n",
        "        conn.close()\n",
        "        print('연결종료')"
      ],
      "metadata": {
        "id": "5U69eRW25tcb"
      },
      "execution_count": null,
      "outputs": []
    },
    {
      "cell_type": "code",
      "source": [
        "# 학생테이블에 대해서 CRUD 구현\n",
        "# 추가기능\n",
        "args = {\n",
        "  'host' : 'localhost',\n",
        "  'user' : 'root',\n",
        "  'password' : 'root1234',\n",
        "  'port' : 3306,\n",
        "  'database' : 'student_db'  # 접속할때 활성화할 db(스키마)명\n",
        "}\n",
        "# DB접속 함수\n",
        "# 파라메터: 접속정보\n",
        "# 리턴값:  접속 객체\n",
        "def get_connection(args):\n",
        "    return connector.connect(**args)  # localhost 에 접속 해서 접속 객체를 생성\n",
        "\n",
        "# 학생정보 추가하는 함수 생성\n",
        "import json\n",
        "def add_student(name,age, scores):\n",
        "  conn = None\n",
        "  cursor = None\n",
        "  try:\n",
        "      conn = get_connection(args)  # localhost 에 접속 해서 접속 객체를 생성\n",
        "      cursor = conn.cursor() # 실제 db에 명령을 전달(sql)\n",
        "      query = \"insert into students values(null,%s, %s, %s)\"\n",
        "      cursor.execute(query, (name,age,json.dumps(scores)) )\n",
        "      conn.commit()  # 실제 Db에 반영\n",
        "      return True\n",
        "  except Exception as e:\n",
        "    print(e)\n",
        "    return False\n",
        "  finally:\n",
        "      if conn:\n",
        "          cursor.close()\n",
        "          conn.close()"
      ],
      "metadata": {
        "id": "bh3dCJtv5u78"
      },
      "execution_count": null,
      "outputs": []
    },
    {
      "cell_type": "code",
      "source": [
        "add_student('홍길동',25,{'kor':95,'eng':95,'math':100} )"
      ],
      "metadata": {
        "id": "fhz-_8TA5wgn"
      },
      "execution_count": null,
      "outputs": []
    },
    {
      "cell_type": "code",
      "source": [
        "# 학생 정보 조회\n",
        "def get_student(name = None):  # 전체 학생정보를 조회\n",
        "    '''\n",
        "    parameter : name은 기본값이 None, 원하는 이름으로 조회\n",
        "    return : 성공 :조회결과, 실패:False\n",
        "    '''\n",
        "    conn = None\n",
        "    cursor = None\n",
        "    try:\n",
        "        conn = get_connection(args) # 접속\n",
        "        cursor = conn.cursor() # 쿼리실행 객체\n",
        "        if name:\n",
        "            query = f\"select * from students where name = {name}\" # 쿼리 문장\n",
        "        query = \"select * from students\" # 쿼리 문장\n",
        "        cursor.execute(query)  # 쿼리 실행\n",
        "        students =  cursor.fetchall()  # 실행 한 쿼리의 리턴값(없으면 None)\n",
        "        return students\n",
        "    except Exception as e:\n",
        "        print(e)\n",
        "        return False\n",
        "    finally:\n",
        "        if conn:\n",
        "            cursor.close()\n",
        "            conn.close()"
      ],
      "metadata": {
        "id": "UpQ1twOS5yPs"
      },
      "execution_count": null,
      "outputs": []
    },
    {
      "cell_type": "code",
      "source": [
        "help( get_student )"
      ],
      "metadata": {
        "id": "46aIO0sz5zZz"
      },
      "execution_count": null,
      "outputs": []
    },
    {
      "cell_type": "code",
      "source": [
        "print( get_student() )"
      ],
      "metadata": {
        "id": "q4NJbdD8506A"
      },
      "execution_count": null,
      "outputs": []
    },
    {
      "cell_type": "code",
      "source": [
        "# 업데이트\n",
        "def updatge_student(id, name=None,age=None,scores=None):  # 전체 학생정보를 조회\n",
        "    '''\n",
        "    parameter : 모든컬럼, 기본값이 None이며 원하는 값만 업데이트\n",
        "    return : 조회결과\n",
        "    '''\n",
        "    conn = None\n",
        "    cursor = None\n",
        "    updates,params = [],[]\n",
        "    try:\n",
        "        conn = get_connection(args) # 접속\n",
        "        cursor = conn.cursor() # 쿼리실행 객체\n",
        "        if name:\n",
        "            updates.append(\"name = %s\")\n",
        "            params.append(name)\n",
        "        if age:\n",
        "            updates.append('age = %s')\n",
        "            params.append(age)\n",
        "        if scores:\n",
        "            updates.append(\"scores = %s\")\n",
        "            params.append(json.dumps(scores))\n",
        "        query = f\"update students set {','.join(updates)} where id = {id}\" # 쿼리 문장\n",
        "        print(query)  # 디버깅용 - 확인용\n",
        "        print(params)\n",
        "        cursor.execute(query,params)  # 쿼리 실행\n",
        "        conn.commit()  # 실제 db에 반영\n",
        "        return True\n",
        "    except Exception as e:\n",
        "        print(e)\n",
        "        return False\n",
        "    finally:\n",
        "        if conn:\n",
        "            cursor.close()\n",
        "            conn.close()"
      ],
      "metadata": {
        "id": "L95y8Cxe519j"
      },
      "execution_count": null,
      "outputs": []
    },
    {
      "cell_type": "code",
      "source": [
        "updatge_student(10,name='테스트',age=5,scores={\"eng\": 0, \"kor\": 0, \"math\": 0})"
      ],
      "metadata": {
        "id": "UQRlq7pO54L0"
      },
      "execution_count": null,
      "outputs": []
    },
    {
      "cell_type": "code",
      "source": [
        "# 삭제\n",
        "query = 'delete from students where id = %s'\n",
        "def delete_student(student_id):\n",
        "    conn,cursor = None,None\n",
        "    try:\n",
        "        conn = get_connection(args)\n",
        "        cursor = conn.cursor()\n",
        "        cursor.execute('delete from students where id = %s',[student_id])\n",
        "        conn.commit()\n",
        "        print('삭제완료')\n",
        "    except Exception as e:\n",
        "        print(f'삭제오류 : {e}')\n",
        "        return False\n",
        "    finally:\n",
        "        if conn:\n",
        "            cursor.close()\n",
        "            conn.close()"
      ],
      "metadata": {
        "id": "VywLXG8aAmxs"
      },
      "execution_count": null,
      "outputs": []
    },
    {
      "cell_type": "markdown",
      "source": [
        "# 정리"
      ],
      "metadata": {
        "id": "yGU_GbnAJTuE"
      }
    },
    {
      "cell_type": "markdown",
      "source": [
        "```\n",
        "데이터베이스\n",
        "    - 데이터를 효율적으로 저장하기 위한 수단\n",
        "    - 쿼리 : 데이터베이스 언어를 사용하기위한 명령어 - 질의어\n",
        "        - select\n",
        "            select 컬럼명,컬러명, ... from 테이블\n",
        "                [where 컬럼명 = 값]\n",
        "            ex) select * from students where id = 1\n",
        "        - update\n",
        "            update 테이블 set 컬럼명=값, 컬러명=값 ...\n",
        "                where 컬럼명 = 값\n",
        "            ex) update students set name= 'ooo', age = 5\n",
        "                    where id = 1\n",
        "        - insert\n",
        "            insert into 테이블 values(값,값,값)            \n",
        "        - delete\n",
        "            delete from 테이블\n",
        "                where id = 값\n",
        "            ex) delete from students\n",
        "                    where id = 1\n",
        "```"
      ],
      "metadata": {
        "id": "LWDfqeZXJV0E"
      }
    },
    {
      "cell_type": "markdown",
      "source": [
        "```\n",
        "파이썬연결\n",
        "    1.\n",
        "    연결객체가 필요( install)\n",
        "    접속정보를 이용해서 연결 객체생성\n",
        "    연결객체를 통해 커서객체 생성\n",
        "\n",
        "    2.\n",
        "    CRUD\n",
        "        쿼리작성\n",
        "        작성한 쿼리를 커서를 통해 execute\n",
        "        select와 같이 결과를 리턴하는 쿼리는 커서.fetchall()실행해서 가져온다\n",
        "        작업이 다 끝나면 실제 DB에 반영 - 연결객체.commit()\n",
        "    Db작업이 끝나면\n",
        "        커서.close()\n",
        "        연결.close()\n",
        "```"
      ],
      "metadata": {
        "id": "Iq2OUOK6JXQ8"
      }
    },
    {
      "cell_type": "code",
      "source": [],
      "metadata": {
        "id": "rytCX8UHJVGh"
      },
      "execution_count": null,
      "outputs": []
    }
  ]
}