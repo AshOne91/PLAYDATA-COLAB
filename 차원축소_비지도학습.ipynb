{
  "nbformat": 4,
  "nbformat_minor": 0,
  "metadata": {
    "colab": {
      "provenance": [],
      "gpuType": "T4",
      "include_colab_link": true
    },
    "kernelspec": {
      "name": "python3",
      "display_name": "Python 3"
    },
    "language_info": {
      "name": "python"
    },
    "accelerator": "GPU"
  },
  "cells": [
    {
      "cell_type": "markdown",
      "metadata": {
        "id": "view-in-github",
        "colab_type": "text"
      },
      "source": [
        "<a href=\"https://colab.research.google.com/github/AshOne91/PLAYDATA-COLAB/blob/main/%EC%B0%A8%EC%9B%90%EC%B6%95%EC%86%8C_%EB%B9%84%EC%A7%80%EB%8F%84%ED%95%99%EC%8A%B5.ipynb\" target=\"_parent\"><img src=\"https://colab.research.google.com/assets/colab-badge.svg\" alt=\"Open In Colab\"/></a>"
      ]
    },
    {
      "cell_type": "markdown",
      "source": [
        "# 순환신경망 RNN\n",
        "```\n",
        "단어 임베딩 : 텍스트를 숫자로 표현\n",
        "벡터(숫자배열)를 입력으로 사용\n",
        "1. 원핫인코딩(one-hot-encording)\n",
        "1000 0100 0010 0001\n",
        "2. 고유번호로 가 단어를 인코딩 정수인코딩\n",
        "cat : 1,  mat : 2   [1,2] 밀집벡터\n",
        "3. 단어임베딩\n",
        "유사한 단어가 유사한 인코딩을 갖는 방법 , 부동소수점\n",
        "```"
      ],
      "metadata": {
        "id": "AmKpfK379qts"
      }
    },
    {
      "cell_type": "code",
      "source": [
        "import tensorflow as tf\n",
        "import os\n",
        "url = \"https://ai.stanford.edu/~amaas/data/sentiment/aclImdb_v1.tar.gz\"\n",
        "\n",
        "dataset = tf.keras.utils.get_file(\"aclImdb_v1.tar.gz\", url,\n",
        "                                  untar=True, cache_dir='.',\n",
        "                                  cache_subdir='')"
      ],
      "metadata": {
        "colab": {
          "base_uri": "https://localhost:8080/"
        },
        "collapsed": true,
        "id": "y_qIbG9f9sRF",
        "outputId": "d8839250-52da-4060-b37d-0f7c2f30b5de"
      },
      "execution_count": null,
      "outputs": [
        {
          "output_type": "execute_result",
          "data": {
            "text/plain": [
              "['train', 'imdb.vocab', 'README', 'imdbEr.txt', 'test']"
            ]
          },
          "metadata": {},
          "execution_count": 6
        }
      ]
    },
    {
      "cell_type": "code",
      "source": [
        "paths = os.path.join(dataset,'aclImdb')\n",
        "train_dir = os.path.join(paths,'train')\n",
        "test_dir =  os.path.join(paths,'test')\n",
        "# train_dir 파일 및 디렉터리 명\n",
        "os.listdir(test_dir)"
      ],
      "metadata": {
        "colab": {
          "base_uri": "https://localhost:8080/"
        },
        "id": "7XDfxi2eEsdV",
        "outputId": "cc5ffb4b-636b-4212-b486-c06f2a019172"
      },
      "execution_count": null,
      "outputs": [
        {
          "output_type": "execute_result",
          "data": {
            "text/plain": [
              "['labeledBow.feat', 'urls_pos.txt', 'neg', 'pos', 'urls_neg.txt']"
            ]
          },
          "metadata": {},
          "execution_count": 22
        }
      ]
    },
    {
      "cell_type": "code",
      "source": [
        "os.listdir(train_dir)"
      ],
      "metadata": {
        "colab": {
          "base_uri": "https://localhost:8080/"
        },
        "id": "chA0ODJsEzqw",
        "outputId": "00d9f201-dc99-43bf-d57d-5b1128fc197a"
      },
      "execution_count": null,
      "outputs": [
        {
          "output_type": "execute_result",
          "data": {
            "text/plain": [
              "['labeledBow.feat',\n",
              " 'urls_pos.txt',\n",
              " 'unsupBow.feat',\n",
              " 'neg',\n",
              " 'pos',\n",
              " 'urls_unsup.txt',\n",
              " 'urls_neg.txt']"
            ]
          },
          "metadata": {},
          "execution_count": 25
        }
      ]
    },
    {
      "cell_type": "code",
      "source": [
        "import shutil\n",
        "shutil.rmtree(train_dir+'/unsup')"
      ],
      "metadata": {
        "id": "be3PYqatGAPH"
      },
      "execution_count": null,
      "outputs": []
    },
    {
      "cell_type": "code",
      "source": [
        "train_dir"
      ],
      "metadata": {
        "colab": {
          "base_uri": "https://localhost:8080/",
          "height": 35
        },
        "id": "z0huJdvBGjiX",
        "outputId": "2cfe91a2-25a6-44f8-93c5-18728bc6734b"
      },
      "execution_count": null,
      "outputs": [
        {
          "output_type": "execute_result",
          "data": {
            "text/plain": [
              "'./aclImdb_v1_extracted/aclImdb/train'"
            ],
            "application/vnd.google.colaboratory.intrinsic+json": {
              "type": "string"
            }
          },
          "metadata": {},
          "execution_count": 26
        }
      ]
    },
    {
      "cell_type": "code",
      "source": [
        "train_ds = tf.keras.utils.text_dataset_from_directory(\n",
        "  train_dir,\n",
        "  batch_size = 1024,\n",
        "  validation_split=0.2,\n",
        "  subset='training',\n",
        "  seed=123\n",
        ")\n",
        "val_ds = tf.keras.utils.text_dataset_from_directory(\n",
        "  test_dir,\n",
        "  batch_size = 1024,\n",
        "  validation_split=0.2,\n",
        "  subset='validation',\n",
        "  seed=123\n",
        ")"
      ],
      "metadata": {
        "colab": {
          "base_uri": "https://localhost:8080/"
        },
        "id": "J14rMVhuGPH2",
        "outputId": "dc56db46-4c3d-4dd9-ebed-5d3e9a95f4f2"
      },
      "execution_count": null,
      "outputs": [
        {
          "output_type": "stream",
          "name": "stdout",
          "text": [
            "Found 25000 files belonging to 2 classes.\n",
            "Using 20000 files for training.\n",
            "Found 25000 files belonging to 2 classes.\n",
            "Using 5000 files for validation.\n"
          ]
        }
      ]
    },
    {
      "cell_type": "code",
      "source": [
        "text_bech, label_bech =  next(iter(train_ds))\n",
        "text_bech[1], label_bech[1]"
      ],
      "metadata": {
        "colab": {
          "base_uri": "https://localhost:8080/"
        },
        "id": "mz44J6WIG_q6",
        "outputId": "91a44cc8-9f0e-4fbf-c2e7-5123aadc31bf"
      },
      "execution_count": null,
      "outputs": [
        {
          "output_type": "execute_result",
          "data": {
            "text/plain": [
              "(<tf.Tensor: shape=(), dtype=string, numpy=b\"There are pretty landscape shots. Writers putting trite mouthings into actors mouths. With lesser actors this show would be silly. 'Art must uplift humanity or it's BS.' Not so because art of all those mentioned is also to stir humanity and express the dark side. The lead character even says those who don't drink hide the shadow side. Wrong , he lived in darkness and repressed his dark side by drinking and being one dimensional not expanding his horizons with something other than landscapes. There wasn't a breathing organism in his work nor expression of his pain. All the artist did was limit himself to dime a dozen landscapes. The discussions between the characters was grade school, trite stuff always giving the one character the upper hand the writer wanted. I tried to like it after reading all the first wow comments on here. I had to dig deep to see those i agreed with. I figure the great comments were from those connected to the movie. I was moved only once towards the end. The kid was way too passive. The scenery was nice and the music ridiculous. Just my opinion but nowhere show for me.\">,\n",
              " <tf.Tensor: shape=(), dtype=int32, numpy=0>)"
            ]
          },
          "metadata": {},
          "execution_count": 39
        }
      ]
    },
    {
      "cell_type": "code",
      "source": [
        "# 성능튜닝  AUTOTUNE 을 사용 - 라이브러리\n",
        "AUTOTUNE = tf.data.AUTOTUNE\n",
        "train_ds = train_ds.cache().prefetch(buffer_size=AUTOTUNE)\n",
        "val_ds = val_ds.cache().prefetch(buffer_size=AUTOTUNE)\n"
      ],
      "metadata": {
        "id": "EYnUF00uHxWE"
      },
      "execution_count": null,
      "outputs": []
    },
    {
      "cell_type": "code",
      "source": [
        "# 단어 임베딩  정수인덱스에서 밀집벡터 매핑\n",
        "# dim 차원 차수\n",
        "# 1000개의 고유한 단어를 포함하는 단어 사전 0 ~ 999\n",
        "# 5 출력벡터의 차원수 각 단어를 5개의 벡터로 변환한다\n",
        "# [2,45,600]  -> [[0.1,-0.2,.. ], [] ,[] ]\n",
        "embbeding_layer = tf.keras.layers.Embedding(input_dim=1000, output_dim=5)\n",
        "# 샘플 입력(배치크기:2, 문장길이 :3)\n",
        "sample_input = tf.constant([[0,1,2],[3,4,5]])\n",
        "embedding_output = embbeding_layer(sample_input)\n",
        "print(embedding_output.shape)  # 2 3 5   배치크기, 문장길이 임베딩 차원이 5\n",
        "embedding_output"
      ],
      "metadata": {
        "colab": {
          "base_uri": "https://localhost:8080/"
        },
        "id": "MECMtnddH8nW",
        "outputId": "8fec862e-933b-4148-adaa-f0b2fa5a5914"
      },
      "execution_count": null,
      "outputs": [
        {
          "output_type": "stream",
          "name": "stdout",
          "text": [
            "(2, 3, 5)\n"
          ]
        },
        {
          "output_type": "execute_result",
          "data": {
            "text/plain": [
              "<tf.Tensor: shape=(2, 3, 5), dtype=float32, numpy=\n",
              "array([[[ 0.01581998, -0.02268031,  0.01852734,  0.03431043,\n",
              "         -0.03329189],\n",
              "        [-0.02632252, -0.00549049, -0.02161287, -0.03454221,\n",
              "          0.04167894],\n",
              "        [-0.01762184,  0.03655093, -0.01113337, -0.03023886,\n",
              "         -0.0367258 ]],\n",
              "\n",
              "       [[-0.03775401, -0.03647327, -0.01787613,  0.0301281 ,\n",
              "          0.0222186 ],\n",
              "        [-0.04912812, -0.04116567, -0.02591613,  0.00287981,\n",
              "          0.0346582 ],\n",
              "        [ 0.04778412, -0.0285154 ,  0.04477746, -0.03353502,\n",
              "          0.01862184]]], dtype=float32)>"
            ]
          },
          "metadata": {},
          "execution_count": 38
        }
      ]
    },
    {
      "cell_type": "markdown",
      "source": [
        "# 문장을 전처리\n",
        "```\n",
        "소문자로 통일\n",
        "특수기호 제거 string.punctuation\n",
        "```"
      ],
      "metadata": {
        "id": "8Yc0vaGxKOVw"
      }
    },
    {
      "cell_type": "code",
      "source": [
        "import string\n",
        "string.punctuation\n",
        "# <br />"
      ],
      "metadata": {
        "colab": {
          "base_uri": "https://localhost:8080/",
          "height": 35
        },
        "id": "lkpZ6iUEJQC_",
        "outputId": "33d94532-51a7-4317-ee03-4c07f37798fe"
      },
      "execution_count": null,
      "outputs": [
        {
          "output_type": "execute_result",
          "data": {
            "text/plain": [
              "'!\"#$%&\\'()*+,-./:;<=>?@[\\\\]^_`{|}~'"
            ],
            "application/vnd.google.colaboratory.intrinsic+json": {
              "type": "string"
            }
          },
          "metadata": {},
          "execution_count": 40
        }
      ]
    },
    {
      "cell_type": "code",
      "source": [
        "# 알파벳과숫자을 제외한 정규표현식\n",
        "import re\n",
        "text = 'abjsakdljflsjkfl239234923#$<h3 class=\"abc\">%^@#$@#sa<br />fdsa@$#  $sdfq3rf23F#F'\n",
        "text = re.sub(r'<.*?>',\"\",text)\n",
        "re.sub(r'[^a-z0-9\\s]',\"\",text)"
      ],
      "metadata": {
        "colab": {
          "base_uri": "https://localhost:8080/",
          "height": 35
        },
        "id": "YnpyCasZKo9x",
        "outputId": "2efed07f-b21c-4f86-f068-db3426ea3e27"
      },
      "execution_count": null,
      "outputs": [
        {
          "output_type": "execute_result",
          "data": {
            "text/plain": [
              "'abjsakdljflsjkfl239234923safdsa  sdfq3rf23'"
            ],
            "application/vnd.google.colaboratory.intrinsic+json": {
              "type": "string"
            }
          },
          "metadata": {},
          "execution_count": 49
        }
      ]
    },
    {
      "cell_type": "code",
      "source": [
        "# def convert_binary_to_string(input_data):\n",
        "#   return input_data.numpy().decode('utf-8')\n",
        "def custom_standardztion(input_data):\n",
        "  lowercase = tf.strings.lower(input_data)\n",
        "  stringed_html = tf.strings.regex_replace(lowercase, '<.*?>', ' ')\n",
        "  return tf.strings.regex_replace(stringed_html, '[^a-z0-9\\s]', ' ')"
      ],
      "metadata": {
        "id": "PV-OvZSALWZV"
      },
      "execution_count": null,
      "outputs": []
    },
    {
      "cell_type": "code",
      "source": [
        "from typing import Text\n",
        "# 어휘 크기와 문장의 길이를 설정\n",
        "vocab_size = 10000  # 최대 어휘크기(10000)\n",
        "sequence_length = 100 # 문장의 최대 길이(100 단어로 맞춤)\n",
        "# 짧은 문장은 패딩(0) 추가\n",
        "# 긴 문장은 잘라(truncation) 고정된길이를유지\n",
        "vectorize_layer =   tf.keras.layers.TextVectorization(\n",
        "    max_tokens=vocab_size,  # 어휘사전 크기 제한\n",
        "    standardize=custom_standardztion,\n",
        "    output_mode = 'int',  # 단어를 정수인덱스\n",
        "    output_sequence_length=sequence_length # 패딩과 자르기적용\n",
        ")\n",
        "text_ds = train_ds.map(lambda x,y : tf.strings.as_string(x))\n",
        "vectorize_layer.adapt(text_ds)"
      ],
      "metadata": {
        "collapsed": true,
        "id": "k65C8htwPlqp"
      },
      "execution_count": null,
      "outputs": []
    },
    {
      "cell_type": "code",
      "source": [
        "# 모델 만들기\n",
        "embedding_dim = 16\n",
        "model = tf.keras.Sequential([\n",
        "  vectorize_layer,\n",
        "  tf.keras.layers.Embedding(vocab_size, embedding_dim, name=\"embedding\"),  # 단어를 고차원 임베딩 공간에 매핑\n",
        "  tf.keras.layers.GlobalAveragePooling1D(),  # 시퀀스데이터의 평균적인 정보를 추출(시간정보는 고려안하고)\n",
        "  # 분류기\n",
        "  tf.keras.layers.Dense(16, activation='relu'),\n",
        "  tf.keras.layers.Dense(1)\n",
        "])\n",
        "model.compile(\n",
        "    optimizer='adam',\n",
        "    loss=tf.keras.losses.BinaryCrossentropy(from_logits=True),  #binary_crossentropy\n",
        "    metrics=['accuracy']\n",
        ")\n",
        "history = model.fit(\n",
        "    train_ds,\n",
        "    validation_data=val_ds,\n",
        "    epochs=15\n",
        ")"
      ],
      "metadata": {
        "colab": {
          "base_uri": "https://localhost:8080/"
        },
        "id": "D3NZYvmNYdsQ",
        "outputId": "b44b7b57-bb98-4be7-a521-c72f9e04f449"
      },
      "execution_count": null,
      "outputs": [
        {
          "output_type": "stream",
          "name": "stdout",
          "text": [
            "Epoch 1/15\n",
            "\u001b[1m20/20\u001b[0m \u001b[32m━━━━━━━━━━━━━━━━━━━━\u001b[0m\u001b[37m\u001b[0m \u001b[1m5s\u001b[0m 161ms/step - accuracy: 0.4955 - loss: 0.6913 - val_accuracy: 0.4886 - val_loss: 0.6844\n",
            "Epoch 2/15\n",
            "\u001b[1m20/20\u001b[0m \u001b[32m━━━━━━━━━━━━━━━━━━━━\u001b[0m\u001b[37m\u001b[0m \u001b[1m2s\u001b[0m 122ms/step - accuracy: 0.5039 - loss: 0.6806 - val_accuracy: 0.4890 - val_loss: 0.6704\n",
            "Epoch 3/15\n",
            "\u001b[1m20/20\u001b[0m \u001b[32m━━━━━━━━━━━━━━━━━━━━\u001b[0m\u001b[37m\u001b[0m \u001b[1m2s\u001b[0m 117ms/step - accuracy: 0.5027 - loss: 0.6643 - val_accuracy: 0.4938 - val_loss: 0.6512\n",
            "Epoch 4/15\n",
            "\u001b[1m20/20\u001b[0m \u001b[32m━━━━━━━━━━━━━━━━━━━━\u001b[0m\u001b[37m\u001b[0m \u001b[1m3s\u001b[0m 126ms/step - accuracy: 0.5119 - loss: 0.6413 - val_accuracy: 0.5386 - val_loss: 0.6262\n",
            "Epoch 5/15\n",
            "\u001b[1m20/20\u001b[0m \u001b[32m━━━━━━━━━━━━━━━━━━━━\u001b[0m\u001b[37m\u001b[0m \u001b[1m3s\u001b[0m 170ms/step - accuracy: 0.5742 - loss: 0.6115 - val_accuracy: 0.6102 - val_loss: 0.5974\n",
            "Epoch 6/15\n",
            "\u001b[1m20/20\u001b[0m \u001b[32m━━━━━━━━━━━━━━━━━━━━\u001b[0m\u001b[37m\u001b[0m \u001b[1m4s\u001b[0m 113ms/step - accuracy: 0.6652 - loss: 0.5761 - val_accuracy: 0.6556 - val_loss: 0.5671\n",
            "Epoch 7/15\n",
            "\u001b[1m20/20\u001b[0m \u001b[32m━━━━━━━━━━━━━━━━━━━━\u001b[0m\u001b[37m\u001b[0m \u001b[1m2s\u001b[0m 109ms/step - accuracy: 0.7144 - loss: 0.5422 - val_accuracy: 0.7108 - val_loss: 0.5377\n",
            "Epoch 8/15\n",
            "\u001b[1m20/20\u001b[0m \u001b[32m━━━━━━━━━━━━━━━━━━━━\u001b[0m\u001b[37m\u001b[0m \u001b[1m3s\u001b[0m 119ms/step - accuracy: 0.7523 - loss: 0.5088 - val_accuracy: 0.7274 - val_loss: 0.5114\n",
            "Epoch 9/15\n",
            "\u001b[1m20/20\u001b[0m \u001b[32m━━━━━━━━━━━━━━━━━━━━\u001b[0m\u001b[37m\u001b[0m \u001b[1m3s\u001b[0m 164ms/step - accuracy: 0.7782 - loss: 0.4749 - val_accuracy: 0.7440 - val_loss: 0.4888\n",
            "Epoch 10/15\n",
            "\u001b[1m20/20\u001b[0m \u001b[32m━━━━━━━━━━━━━━━━━━━━\u001b[0m\u001b[37m\u001b[0m \u001b[1m2s\u001b[0m 108ms/step - accuracy: 0.8003 - loss: 0.4449 - val_accuracy: 0.7496 - val_loss: 0.4719\n",
            "Epoch 11/15\n",
            "\u001b[1m20/20\u001b[0m \u001b[32m━━━━━━━━━━━━━━━━━━━━\u001b[0m\u001b[37m\u001b[0m \u001b[1m3s\u001b[0m 123ms/step - accuracy: 0.8110 - loss: 0.4203 - val_accuracy: 0.7574 - val_loss: 0.4581\n",
            "Epoch 12/15\n",
            "\u001b[1m20/20\u001b[0m \u001b[32m━━━━━━━━━━━━━━━━━━━━\u001b[0m\u001b[37m\u001b[0m \u001b[1m2s\u001b[0m 110ms/step - accuracy: 0.8199 - loss: 0.3999 - val_accuracy: 0.7698 - val_loss: 0.4458\n",
            "Epoch 13/15\n",
            "\u001b[1m20/20\u001b[0m \u001b[32m━━━━━━━━━━━━━━━━━━━━\u001b[0m\u001b[37m\u001b[0m \u001b[1m3s\u001b[0m 109ms/step - accuracy: 0.8299 - loss: 0.3828 - val_accuracy: 0.7828 - val_loss: 0.4339\n",
            "Epoch 14/15\n",
            "\u001b[1m20/20\u001b[0m \u001b[32m━━━━━━━━━━━━━━━━━━━━\u001b[0m\u001b[37m\u001b[0m \u001b[1m4s\u001b[0m 182ms/step - accuracy: 0.8417 - loss: 0.3647 - val_accuracy: 0.7850 - val_loss: 0.4267\n",
            "Epoch 15/15\n",
            "\u001b[1m20/20\u001b[0m \u001b[32m━━━━━━━━━━━━━━━━━━━━\u001b[0m\u001b[37m\u001b[0m \u001b[1m4s\u001b[0m 119ms/step - accuracy: 0.8496 - loss: 0.3482 - val_accuracy: 0.7878 - val_loss: 0.4211\n"
          ]
        }
      ]
    },
    {
      "cell_type": "code",
      "source": [
        "import matplotlib.pyplot as plt\n",
        "plt.plot(history.history['loss'])\n",
        "plt.plot(history.history['val_loss'])\n",
        "plt.show()"
      ],
      "metadata": {
        "colab": {
          "base_uri": "https://localhost:8080/",
          "height": 430
        },
        "id": "F-Pkb2uGRH9B",
        "outputId": "e5b94a6c-3f3d-4b88-8e95-d28f2dbb5061"
      },
      "execution_count": null,
      "outputs": [
        {
          "output_type": "display_data",
          "data": {
            "text/plain": [
              "<Figure size 640x480 with 1 Axes>"
            ],
            "image/png": "[encoded data removed]"
          },
          "metadata": {}
        }
      ]
    },
    {
      "cell_type": "markdown",
      "source": [
        "RNN"
      ],
      "metadata": {
        "id": "EhPCxg07ZXeA"
      }
    },
    {
      "cell_type": "code",
      "source": [
        "from subprocess import call\n",
        "# RNN 모델 만들기\n",
        "embedding_dim = 16\n",
        "model = tf.keras.Sequential([\n",
        "  vectorize_layer,\n",
        "  tf.keras.layers.Embedding(vocab_size, embedding_dim, name=\"embedding\"),  # 단어를 고차원 임베딩 공간에 매핑\n",
        "  tf.keras.layers.SimpleRNN(64) ,\n",
        "  tf.keras.layers.Dropout(0.5),\n",
        "  # 분류기\n",
        "  tf.keras.layers.Dense(16, activation='relu'),\n",
        "  tf.keras.layers.Dropout(0.5),\n",
        "  tf.keras.layers.Dense(1)\n",
        "])\n",
        "callbacks = [tf.keras.callbacks.EarlyStopping(monitor='val_loss', patience=5),\n",
        "  tf.keras.callbacks.ReduceLROnPlateau(monitor='val_loss', factor=0.1, patience=3)\n",
        "]\n",
        "model.compile(\n",
        "    optimizer='adam',\n",
        "    loss=tf.keras.losses.BinaryCrossentropy(from_logits=True),  #binary_crossentropy\n",
        "    metrics=['accuracy']\n",
        ")\n",
        "history = model.fit(\n",
        "    train_ds,\n",
        "    validation_data=val_ds,\n",
        "    epochs=100 ,\n",
        "    callbacks=callbacks\n",
        ")"
      ],
      "metadata": {
        "id": "yam0JLHuhOht"
      },
      "execution_count": null,
      "outputs": []
    },
    {
      "cell_type": "code",
      "source": [
        "import matplotlib.pyplot as plt\n",
        "plt.plot(history.history['accuracy'])\n",
        "plt.plot(history.history['val_accuracy'])\n",
        "plt.show()"
      ],
      "metadata": {
        "colab": {
          "base_uri": "https://localhost:8080/",
          "height": 430
        },
        "id": "_GjTbq9dZ6vR",
        "outputId": "4742c14a-45fe-41b7-95e2-aa9c16c6df47"
      },
      "execution_count": null,
      "outputs": [
        {
          "output_type": "display_data",
          "data": {
            "text/plain": [
              "<Figure size 640x480 with 1 Axes>"
            ],
            "image/png": "[encoded data removed]"
          },
          "metadata": {}
        }
      ]
    },
    {
      "cell_type": "markdown",
      "source": [
        "```\n",
        "단어임베딩\n",
        "  전통적으로 단어는 원핫표현\n",
        "  cat [1,0,0] dog [0,1,0]\n",
        "  단점 : 단어간의 유사성을 반영하지 못함 cat dog는 의미상 유사하지만\n",
        "  벡터간의 거리는 동일하거나 등..\n",
        "  차원문제 : 어휘가 크면 벡터차원이증가(희소행렬문제)\n",
        "  해결 : 단어임베딩은 단어를 저차원(30~500차원) 실수 벡터로 표현해서 의미적으로 유사한 단어는 벡터상에서 가까운 위치에 배치\n",
        "  cat [0.2,0.3,0.5] dog [0.3,0.5,0.4]\n",
        "  의미적유사성 : king, queen 이런 데이터는 벡터공간에서 가깝다\n",
        "  king-man ~ queen-woman\n",
        "  원핫보다는 훨씬 적은 저차원\n",
        "```"
      ],
      "metadata": {
        "id": "8F9-dnsdhbmK"
      }
    },
    {
      "cell_type": "markdown",
      "source": [
        "```\n",
        "Word2Vec\n",
        "  Goole 만듦\n",
        "  CBOW(Continuous Bag of Words) : 주변단어로 중심단어를 예측\n",
        "  Skip-gram : 중심단어로 주변단어를 예측\n",
        "```\n",
        "$$ P(w_{t+j} | w_t) = \\frac{\\exp(v'_{w_{t+j}} \\cdot v_{w_t})}{\\sum_{w \\in V} \\exp(v'_w \\cdot v_{w_t})} $$\n",
        "```\n",
        "손실함수\n",
        "```\n",
        "$$ L = -\\sum_{j \\in \\text{context}} \\log P(w_{t+j} | w_t) $$\n",
        "```\n",
        "학습과정\n",
        "  단어쌍 생성 : 문장에서 중심단어, 문맥단어쌍을 생성\n",
        "  i like to eat apples ('like','i') ('like','to')\n",
        "  모델 학습 skip-gram  wt를 입력으로 받아서 wt+j를 예측하도록 학습  \n",
        "```\n"
      ],
      "metadata": {
        "id": "o2iP4-s_jSgs"
      }
    },
    {
      "cell_type": "markdown",
      "source": [
        "단어임베딩 생성\n",
        "```\n",
        "Word2Vec\n",
        "  king queen은 문맥에서 자주 유사한 위치에 등장(love 주제)\n",
        "  학습후\n",
        "    king = [0.8,0.2,-0.1]\n",
        "    queen = [0.7,0.3,-0.2]\n",
        "    loves = [0.1,0.9,0.5]\n",
        "```"
      ],
      "metadata": {
        "id": "1LBl21WhlHWl"
      }
    },
    {
      "cell_type": "code",
      "source": [
        "# 코사인 유사도\n",
        "import numpy as np\n",
        "king = np.array([0.8,0.2,-0.1])\n",
        "queen = np.array([0.7,0.3,-0.2])\n",
        "loves = np.array([0.1,0.9,0.5])\n",
        "def cosine_similarity(x,y):\n",
        "  return np.dot(x,y)/(np.linalg.norm(x)*np.linalg.norm(y))\n",
        "cosine_king_queen = cosine_similarity(king,queen)\n",
        "cosine_king_loves = cosine_similarity(king,loves)\n",
        "cosine_queen_loves = cosine_similarity(queen,loves)\n",
        "print(cosine_king_queen,cosine_king_loves,cosine_queen_loves)"
      ],
      "metadata": {
        "colab": {
          "base_uri": "https://localhost:8080/"
        },
        "id": "SWLDQPt5haf0",
        "outputId": "2544601d-9f63-423a-a843-e84d98d05108"
      },
      "execution_count": null,
      "outputs": [
        {
          "output_type": "stream",
          "name": "stdout",
          "text": [
            "0.9784971923788134 0.24440093358009754 0.29466157652284214\n"
          ]
        }
      ]
    },
    {
      "cell_type": "markdown",
      "source": [
        "# RNN\n",
        "# 자연어 NLP"
      ],
      "metadata": {
        "id": "IL_-U-TSntF2"
      }
    },
    {
      "cell_type": "code",
      "source": [
        "# 1. 텍스트를 숫자로 변경(토큰화 임베딩)\n",
        "# 토큰화 : 문장을 단어단위로 나눈다  (여기서는 임시로 공백을 기준으로 분리)\n",
        "# 나는 밥을 먹는다 - > ['나는','밥을','먹는다']\n",
        "# 단어에 숫자 부여\n",
        "# '나는' = 1\n",
        "# '밥을 = 2'\n",
        "# '먹는다' = 3\n",
        "# 임베딩(의미를 담는 벡터) 길이를 3\n",
        "# '나는' = [,,]\n",
        "# '밥을 = [,,]\n",
        "# '먹는다' = [,,]\n",
        "# RNN으로 순서대로 처리\n",
        "# 입력값 : 각 단어의 임베딩 벡터\n",
        "# hidden : 이전 단어의 정보를 담는 메모리\n",
        "# 출력값 : 다음단어 예측\n",
        "# 계산과정"
      ],
      "metadata": {
        "id": "dMRPFQV_bBb0"
      },
      "execution_count": null,
      "outputs": []
    },
    {
      "cell_type": "markdown",
      "source": [
        "$$ h_t = \\tanh(W_{hh} \\cdot h_{t-1} + W_{xh} \\cdot x_t + b_h) $$"
      ],
      "metadata": {
        "id": "pyzS_M3K5g2z"
      }
    },
    {
      "cell_type": "markdown",
      "source": [
        "$$ y_t = W_{hy} \\cdot h_t + b_y $$"
      ],
      "metadata": {
        "id": "VTkTMO5U6E-p"
      }
    },
    {
      "cell_type": "markdown",
      "source": [
        "tensorflow dataset IMDB"
      ],
      "metadata": {
        "id": "qXLi4LZK6WFZ"
      }
    },
    {
      "cell_type": "code",
      "source": [
        "import tensorflow as tf\n",
        "(train_data, train_labels), (test_data, test_labels) = tf.keras.datasets.imdb.load_data(num_words=100)"
      ],
      "metadata": {
        "id": "OCcuEjnC62lv"
      },
      "execution_count": null,
      "outputs": []
    },
    {
      "cell_type": "code",
      "source": [
        "train_data.shape, test_data.shape ,train_labels.shape"
      ],
      "metadata": {
        "colab": {
          "base_uri": "https://localhost:8080/"
        },
        "id": "wMR2OKzA6pst",
        "outputId": "22bdaeb5-30ff-4f7c-ed19-ff99d7ff06f6"
      },
      "execution_count": null,
      "outputs": [
        {
          "output_type": "execute_result",
          "data": {
            "text/plain": [
              "((25000,), (25000,), (25000,))"
            ]
          },
          "metadata": {},
          "execution_count": 2
        }
      ]
    },
    {
      "cell_type": "code",
      "source": [
        "# 분할 train데이로\n",
        "from sklearn.model_selection import train_test_split\n",
        "train_data, val_data, train_labels, val_labels \\\n",
        "  = train_test_split(train_data, train_labels, test_size=0.2, random_state=42)"
      ],
      "metadata": {
        "id": "2GIbUKnw7m2a"
      },
      "execution_count": null,
      "outputs": []
    },
    {
      "cell_type": "code",
      "source": [
        "# train_data의 길이를 리스트에 저장\n",
        "import matplotlib.pyplot as plt\n",
        "train_data_len = [len(x) for x in train_data]\n",
        "plt.hist(train_data_len)\n",
        "plt.show()"
      ],
      "metadata": {
        "colab": {
          "base_uri": "https://localhost:8080/",
          "height": 430
        },
        "id": "DdcQJP2w7aYQ",
        "outputId": "6ea6609e-83aa-4e60-b08d-26dc9a8e0a48"
      },
      "execution_count": null,
      "outputs": [
        {
          "output_type": "display_data",
          "data": {
            "text/plain": [
              "<Figure size 640x480 with 1 Axes>"
            ],
            "image/png": "[encoded data removed]"
          },
          "metadata": {}
        }
      ]
    },
    {
      "cell_type": "code",
      "source": [
        "# 시퀀스 패딩  문자열의 정수 인코딩된 배열의 길이를 맞춘다.\n",
        "train_seq = tf.keras.preprocessing.sequence.pad_sequences(train_data, maxlen=500)\n",
        "print(train_data.shape, train_seq.shape)"
      ],
      "metadata": {
        "colab": {
          "base_uri": "https://localhost:8080/"
        },
        "id": "-cXU44mg8E8Y",
        "outputId": "f8c44354-8a34-46c1-962d-e4b840cb6830"
      },
      "execution_count": null,
      "outputs": [
        {
          "output_type": "stream",
          "name": "stdout",
          "text": [
            "(20000,) (20000, 500)\n"
          ]
        }
      ]
    },
    {
      "cell_type": "code",
      "source": [
        "print(len(train_data[0]),train_data[0])"
      ],
      "metadata": {
        "colab": {
          "base_uri": "https://localhost:8080/"
        },
        "id": "ogFEB2vg8_yf",
        "outputId": "39d1566a-328d-4712-e755-b3c81aea3614"
      },
      "execution_count": null,
      "outputs": [
        {
          "output_type": "stream",
          "name": "stdout",
          "text": [
            "259 [1, 73, 89, 81, 25, 60, 2, 6, 20, 2, 17, 14, 31, 2, 12, 60, 28, 2, 2, 66, 45, 6, 20, 15, 2, 8, 79, 17, 2, 8, 2, 6, 2, 20, 17, 2, 2, 4, 2, 20, 9, 2, 6, 2, 7, 2, 2, 6, 2, 2, 24, 55, 2, 5, 23, 2, 7, 15, 82, 24, 15, 2, 66, 10, 10, 45, 2, 15, 4, 20, 2, 8, 30, 17, 2, 5, 2, 17, 2, 2, 4, 20, 9, 43, 32, 99, 2, 18, 15, 8, 2, 46, 17, 2, 4, 2, 5, 2, 9, 32, 2, 5, 2, 2, 17, 73, 17, 2, 36, 26, 2, 43, 2, 83, 4, 2, 2, 74, 83, 4, 2, 2, 82, 4, 96, 4, 2, 2, 8, 32, 4, 2, 9, 2, 2, 13, 2, 48, 14, 16, 2, 2, 59, 62, 69, 2, 12, 46, 50, 9, 53, 2, 74, 2, 11, 14, 31, 2, 10, 10, 4, 20, 9, 2, 2, 2, 5, 45, 6, 2, 2, 33, 2, 8, 2, 2, 2, 5, 2, 17, 73, 17, 2, 5, 2, 19, 55, 2, 2, 92, 66, 2, 14, 20, 93, 76, 2, 2, 33, 4, 58, 12, 2, 2, 2, 12, 2, 69, 2, 2, 73, 2, 6, 2, 7, 2, 2, 2, 2, 2, 14, 31, 10, 10, 2, 7, 2, 5, 2, 80, 91, 2, 30, 2, 34, 14, 20, 2, 50, 26, 2, 49, 2, 84, 46, 50, 37, 80, 79, 6, 2, 46, 7, 14, 20, 10, 10, 2, 2]\n"
          ]
        }
      ]
    },
    {
      "cell_type": "code",
      "source": [
        "print(train_seq[0])"
      ],
      "metadata": {
        "colab": {
          "base_uri": "https://localhost:8080/"
        },
        "collapsed": true,
        "id": "-oRvtFsH9D9Q",
        "outputId": "d60d4bfd-aaa7-4469-aa28-127b018649e9"
      },
      "execution_count": null,
      "outputs": [
        {
          "output_type": "stream",
          "name": "stdout",
          "text": [
            "[ 0  0  0  0  0  0  0  0  0  0  0  0  0  0  0  0  0  0  0  0  0  0  0  0\n",
            "  0  0  0  0  0  0  0  0  0  0  0  0  0  0  0  0  0  0  0  0  0  0  0  0\n",
            "  0  0  0  0  0  0  0  0  0  0  0  0  0  0  0  0  0  0  0  0  0  0  0  0\n",
            "  0  0  0  0  0  0  0  0  0  0  0  0  0  0  0  0  0  0  0  0  0  0  0  0\n",
            "  0  0  0  0  0  0  0  0  0  0  0  0  0  0  0  0  0  0  0  0  0  0  0  0\n",
            "  0  0  0  0  0  0  0  0  0  0  0  0  0  0  0  0  0  0  0  0  0  0  0  0\n",
            "  0  0  0  0  0  0  0  0  0  0  0  0  0  0  0  0  0  0  0  0  0  0  0  0\n",
            "  0  0  0  0  0  0  0  0  0  0  0  0  0  0  0  0  0  0  0  0  0  0  0  0\n",
            "  0  0  0  0  0  0  0  0  0  0  0  0  0  0  0  0  0  0  0  0  0  0  0  0\n",
            "  0  0  0  0  0  0  0  0  0  0  0  0  0  0  0  0  0  0  0  0  0  0  0  0\n",
            "  0  1 73 89 81 25 60  2  6 20  2 17 14 31  2 12 60 28  2  2 66 45  6 20\n",
            " 15  2  8 79 17  2  8  2  6  2 20 17  2  2  4  2 20  9  2  6  2  7  2  2\n",
            "  6  2  2 24 55  2  5 23  2  7 15 82 24 15  2 66 10 10 45  2 15  4 20  2\n",
            "  8 30 17  2  5  2 17  2  2  4 20  9 43 32 99  2 18 15  8  2 46 17  2  4\n",
            "  2  5  2  9 32  2  5  2  2 17 73 17  2 36 26  2 43  2 83  4  2  2 74 83\n",
            "  4  2  2 82  4 96  4  2  2  8 32  4  2  9  2  2 13  2 48 14 16  2  2 59\n",
            " 62 69  2 12 46 50  9 53  2 74  2 11 14 31  2 10 10  4 20  9  2  2  2  5\n",
            " 45  6  2  2 33  2  8  2  2  2  5  2 17 73 17  2  5  2 19 55  2  2 92 66\n",
            "  2 14 20 93 76  2  2 33  4 58 12  2  2  2 12  2 69  2  2 73  2  6  2  7\n",
            "  2  2  2  2  2 14 31 10 10  2  7  2  5  2 80 91  2 30  2 34 14 20  2 50\n",
            " 26  2 49  2 84 46 50 37 80 79  6  2 46  7 14 20 10 10  2  2]\n"
          ]
        }
      ]
    },
    {
      "cell_type": "code",
      "source": [
        "train_data_len[11],train_seq[11]"
      ],
      "metadata": {
        "colab": {
          "base_uri": "https://localhost:8080/"
        },
        "collapsed": true,
        "id": "H9yhBozM9hPC",
        "outputId": "f56643e7-44bd-47df-ea77-efd423098b1d"
      },
      "execution_count": null,
      "outputs": [
        {
          "output_type": "execute_result",
          "data": {
            "text/plain": [
              "(55,\n",
              " array([ 0,  0,  0,  0,  0,  0,  0,  0,  0,  0,  0,  0,  0,  0,  0,  0,  0,\n",
              "         0,  0,  0,  0,  0,  0,  0,  0,  0,  0,  0,  0,  0,  0,  0,  0,  0,\n",
              "         0,  0,  0,  0,  0,  0,  0,  0,  0,  0,  0,  0,  0,  0,  0,  0,  0,\n",
              "         0,  0,  0,  0,  0,  0,  0,  0,  0,  0,  0,  0,  0,  0,  0,  0,  0,\n",
              "         0,  0,  0,  0,  0,  0,  0,  0,  0,  0,  0,  0,  0,  0,  0,  0,  0,\n",
              "         0,  0,  0,  0,  0,  0,  0,  0,  0,  0,  0,  0,  0,  0,  0,  0,  0,\n",
              "         0,  0,  0,  0,  0,  0,  0,  0,  0,  0,  0,  0,  0,  0,  0,  0,  0,\n",
              "         0,  0,  0,  0,  0,  0,  0,  0,  0,  0,  0,  0,  0,  0,  0,  0,  0,\n",
              "         0,  0,  0,  0,  0,  0,  0,  0,  0,  0,  0,  0,  0,  0,  0,  0,  0,\n",
              "         0,  0,  0,  0,  0,  0,  0,  0,  0,  0,  0,  0,  0,  0,  0,  0,  0,\n",
              "         0,  0,  0,  0,  0,  0,  0,  0,  0,  0,  0,  0,  0,  0,  0,  0,  0,\n",
              "         0,  0,  0,  0,  0,  0,  0,  0,  0,  0,  0,  0,  0,  0,  0,  0,  0,\n",
              "         0,  0,  0,  0,  0,  0,  0,  0,  0,  0,  0,  0,  0,  0,  0,  0,  0,\n",
              "         0,  0,  0,  0,  0,  0,  0,  0,  0,  0,  0,  0,  0,  0,  0,  0,  0,\n",
              "         0,  0,  0,  0,  0,  0,  0,  0,  0,  0,  0,  0,  0,  0,  0,  0,  0,\n",
              "         0,  0,  0,  0,  0,  0,  0,  0,  0,  0,  0,  0,  0,  0,  0,  0,  0,\n",
              "         0,  0,  0,  0,  0,  0,  0,  0,  0,  0,  0,  0,  0,  0,  0,  0,  0,\n",
              "         0,  0,  0,  0,  0,  0,  0,  0,  0,  0,  0,  0,  0,  0,  0,  0,  0,\n",
              "         0,  0,  0,  0,  0,  0,  0,  0,  0,  0,  0,  0,  0,  0,  0,  0,  0,\n",
              "         0,  0,  0,  0,  0,  0,  0,  0,  0,  0,  0,  0,  0,  0,  0,  0,  0,\n",
              "         0,  0,  0,  0,  0,  0,  0,  0,  0,  0,  0,  0,  0,  0,  0,  0,  0,\n",
              "         0,  0,  0,  0,  0,  0,  0,  0,  0,  0,  0,  0,  0,  0,  0,  0,  0,\n",
              "         0,  0,  0,  0,  0,  0,  0,  0,  0,  0,  0,  0,  0,  0,  0,  0,  0,\n",
              "         0,  0,  0,  0,  0,  0,  0,  0,  0,  0,  0,  0,  0,  0,  0,  0,  0,\n",
              "         0,  0,  0,  0,  0,  0,  0,  0,  0,  0,  0,  0,  0,  0,  0,  0,  0,\n",
              "         0,  0,  0,  0,  0,  0,  0,  0,  0,  0,  0,  0,  0,  0,  0,  0,  0,\n",
              "         0,  0,  0,  1, 14, 16,  4, 64, 58, 13,  2,  2, 46, 23,  6, 20,  2,\n",
              "         2, 13,  2, 12, 11,  4,  2,  2,  5,  2,  2, 13,  2,  2, 12,  2,  2,\n",
              "         2,  8,  2, 15, 13, 16,  2,  4, 86, 58, 14,  2,  2, 64,  8,  2,  2,\n",
              "        17,  4,  2, 20,  2,  2,  2], dtype=int32))"
            ]
          },
          "metadata": {},
          "execution_count": 8
        }
      ]
    },
    {
      "cell_type": "code",
      "source": [
        "# RNN 적용\n",
        "vocab_size = 500\n",
        "print(train_seq.shape)\n",
        "model = tf.keras.Sequential([\n",
        "    tf.keras.layers.Input(shape=(500,)),\n",
        "    tf.keras.layers.Embedding(vocab_size, 16),\n",
        "    tf.keras.layers.SimpleRNN(8),\n",
        "    tf.keras.layers.Dense(1, activation='sigmoid')\n",
        "])\n",
        "# model.summary()\n",
        "# 모델 훈련\n",
        "# 원핫 인코딩\n",
        "# train_oh = tf.keras.utils.to_categorical(train_seq)\n",
        "# print(train_oh.shape)\n",
        "model.compile(optimizer='adam',\n",
        "              # loss='binary_crossentropy',\n",
        "              loss = tf.keras.losses.binary_crossentropy,\n",
        "              metrics=['accuracy'])\n",
        "history = model.fit(train_seq, train_labels,\n",
        "                    epochs=2,\n",
        "                    batch_size=32,\n",
        "                    validation_split=0.2)"
      ],
      "metadata": {
        "colab": {
          "base_uri": "https://localhost:8080/"
        },
        "collapsed": true,
        "id": "5YqWIHb5-Ctz",
        "outputId": "1a36a7fb-7af2-4eee-de5b-3afd3865b5b8"
      },
      "execution_count": null,
      "outputs": [
        {
          "output_type": "stream",
          "name": "stdout",
          "text": [
            "(20000, 500)\n",
            "Epoch 1/2\n",
            "\u001b[1m500/500\u001b[0m \u001b[32m━━━━━━━━━━━━━━━━━━━━\u001b[0m\u001b[37m\u001b[0m \u001b[1m66s\u001b[0m 125ms/step - accuracy: 0.5261 - loss: 0.6911 - val_accuracy: 0.5987 - val_loss: 0.6663\n",
            "Epoch 2/2\n",
            "\u001b[1m500/500\u001b[0m \u001b[32m━━━━━━━━━━━━━━━━━━━━\u001b[0m\u001b[37m\u001b[0m \u001b[1m81s\u001b[0m 122ms/step - accuracy: 0.6111 - loss: 0.6583 - val_accuracy: 0.6643 - val_loss: 0.6211\n"
          ]
        }
      ]
    },
    {
      "cell_type": "code",
      "source": [
        "# 리뷰데이터를 한글\n",
        "# 문장\n",
        "import pandas as pd\n",
        "import re\n",
        "train_texts = [\n",
        "    '이 영화는 재미 있었어요 *^-^*',\n",
        "    '정말 감동적인 영화였어요',\n",
        "    '시간이 zzz 너무 아깝습니다.',\n",
        "    '배우들의 연기가 너무 좋았어요 he~~~',\n",
        "    '스토리가 별로였어요',\n",
        "]\n",
        "train_label = [1,1,0,1,0]\n",
        "train_df = pd.DataFrame({'text':train_texts, 'label':train_label})\n",
        "# 데이터 전처리 함수\n",
        "def custom_standardztion(input_data):\n",
        "  input_data = re.sub(r'<.*?>',\"\",input_data)\n",
        "  input_data = re.sub(r'[^ㄱ-ㅎ가-힣\\s]',\"\",input_data)  # 한글과 공백만 남기\n",
        "  return input_data.strip()\n",
        "\n",
        "tokenizer = tf.keras.preprocessing.text.Tokenizer()\n",
        "train_df['text'] = train_df['text'].map(custom_standardztion)\n",
        "tokenizer.fit_on_texts(train_df['text'])\n",
        "print(tokenizer.word_index)\n",
        "train_sequence = tokenizer.texts_to_sequences(train_df['text'])\n",
        "print(train_sequence)\n",
        "max_len = 5 # 최대 문장의 길이\n",
        "train_pad = tf.keras.preprocessing.sequence.pad_sequences(train_sequence, maxlen=max_len)\n",
        "print(train_pad)\n",
        "vocab_size = len(tokenizer.word_index) + 1\n",
        "# RNN 모델\n",
        "# 파이퍼파라메터\n",
        "embbeding_dim = 16\n",
        "model = tf.keras.Sequential([\n",
        "    tf.keras.layers.Input(shape=(max_len,)),\n",
        "    tf.keras.layers.Embedding(vocab_size, output_dim = embbeding_dim),\n",
        "    tf.keras.layers.SimpleRNN(16,activation='relu'),\n",
        "    tf.keras.layers.Dense(1, activation='sigmoid')\n",
        "])\n",
        "model.compile(optimizer='adam',\n",
        "              loss = tf.keras.losses.binary_crossentropy,\n",
        "              metrics=['accuracy'])\n",
        "model.summary()"
      ],
      "metadata": {
        "colab": {
          "base_uri": "https://localhost:8080/",
          "height": 377
        },
        "collapsed": true,
        "id": "S5h-WbPjFuk0",
        "outputId": "4c87066a-0bb3-4a7d-9d49-fbd725eaec84"
      },
      "execution_count": null,
      "outputs": [
        {
          "output_type": "stream",
          "name": "stdout",
          "text": [
            "{'너무': 1, '이': 2, '영화는': 3, '재미': 4, '있었어요': 5, '정말': 6, '감동적인': 7, '영화였어요': 8, '시간이': 9, '아깝습니다': 10, '배우들의': 11, '연기가': 12, '좋았어요': 13, '스토리가': 14, '별로였어요': 15}\n",
            "[[2, 3, 4, 5], [6, 7, 8], [9, 1, 10], [11, 12, 1, 13], [14, 15]]\n",
            "[[ 0  2  3  4  5]\n",
            " [ 0  0  6  7  8]\n",
            " [ 0  0  9  1 10]\n",
            " [ 0 11 12  1 13]\n",
            " [ 0  0  0 14 15]]\n"
          ]
        },
        {
          "output_type": "display_data",
          "data": {
            "text/plain": [
              "\u001b[1mModel: \"sequential_4\"\u001b[0m\n"
            ],
            "text/html": [
              "<pre style=\"white-space:pre;overflow-x:auto;line-height:normal;font-family:Menlo,'DejaVu Sans Mono',consolas,'Courier New',monospace\"><span style=\"font-weight: bold\">Model: \"sequential_4\"</span>\n",
              "</pre>\n"
            ]
          },
          "metadata": {}
        },
        {
          "output_type": "display_data",
          "data": {
            "text/plain": [
              "┏━━━━━━━━━━━━━━━━━━━━━━━━━━━━━━━━━━━━━━┳━━━━━━━━━━━━━━━━━━━━━━━━━━━━━┳━━━━━━━━━━━━━━━━━┓\n",
              "┃\u001b[1m \u001b[0m\u001b[1mLayer (type)                        \u001b[0m\u001b[1m \u001b[0m┃\u001b[1m \u001b[0m\u001b[1mOutput Shape               \u001b[0m\u001b[1m \u001b[0m┃\u001b[1m \u001b[0m\u001b[1m        Param #\u001b[0m\u001b[1m \u001b[0m┃\n",
              "┡━━━━━━━━━━━━━━━━━━━━━━━━━━━━━━━━━━━━━━╇━━━━━━━━━━━━━━━━━━━━━━━━━━━━━╇━━━━━━━━━━━━━━━━━┩\n",
              "│ embedding_4 (\u001b[38;5;33mEmbedding\u001b[0m)              │ (\u001b[38;5;45mNone\u001b[0m, \u001b[38;5;34m5\u001b[0m, \u001b[38;5;34m16\u001b[0m)               │             \u001b[38;5;34m256\u001b[0m │\n",
              "├──────────────────────────────────────┼─────────────────────────────┼─────────────────┤\n",
              "│ simple_rnn_4 (\u001b[38;5;33mSimpleRNN\u001b[0m)             │ (\u001b[38;5;45mNone\u001b[0m, \u001b[38;5;34m16\u001b[0m)                  │             \u001b[38;5;34m528\u001b[0m │\n",
              "├──────────────────────────────────────┼─────────────────────────────┼─────────────────┤\n",
              "│ dense_4 (\u001b[38;5;33mDense\u001b[0m)                      │ (\u001b[38;5;45mNone\u001b[0m, \u001b[38;5;34m1\u001b[0m)                   │              \u001b[38;5;34m17\u001b[0m │\n",
              "└──────────────────────────────────────┴─────────────────────────────┴─────────────────┘\n"
            ],
            "text/html": [
              "<pre style=\"white-space:pre;overflow-x:auto;line-height:normal;font-family:Menlo,'DejaVu Sans Mono',consolas,'Courier New',monospace\">┏━━━━━━━━━━━━━━━━━━━━━━━━━━━━━━━━━━━━━━┳━━━━━━━━━━━━━━━━━━━━━━━━━━━━━┳━━━━━━━━━━━━━━━━━┓\n",
              "┃<span style=\"font-weight: bold\"> Layer (type)                         </span>┃<span style=\"font-weight: bold\"> Output Shape                </span>┃<span style=\"font-weight: bold\">         Param # </span>┃\n",
              "┡━━━━━━━━━━━━━━━━━━━━━━━━━━━━━━━━━━━━━━╇━━━━━━━━━━━━━━━━━━━━━━━━━━━━━╇━━━━━━━━━━━━━━━━━┩\n",
              "│ embedding_4 (<span style=\"color: #0087ff; text-decoration-color: #0087ff\">Embedding</span>)              │ (<span style=\"color: #00d7ff; text-decoration-color: #00d7ff\">None</span>, <span style=\"color: #00af00; text-decoration-color: #00af00\">5</span>, <span style=\"color: #00af00; text-decoration-color: #00af00\">16</span>)               │             <span style=\"color: #00af00; text-decoration-color: #00af00\">256</span> │\n",
              "├──────────────────────────────────────┼─────────────────────────────┼─────────────────┤\n",
              "│ simple_rnn_4 (<span style=\"color: #0087ff; text-decoration-color: #0087ff\">SimpleRNN</span>)             │ (<span style=\"color: #00d7ff; text-decoration-color: #00d7ff\">None</span>, <span style=\"color: #00af00; text-decoration-color: #00af00\">16</span>)                  │             <span style=\"color: #00af00; text-decoration-color: #00af00\">528</span> │\n",
              "├──────────────────────────────────────┼─────────────────────────────┼─────────────────┤\n",
              "│ dense_4 (<span style=\"color: #0087ff; text-decoration-color: #0087ff\">Dense</span>)                      │ (<span style=\"color: #00d7ff; text-decoration-color: #00d7ff\">None</span>, <span style=\"color: #00af00; text-decoration-color: #00af00\">1</span>)                   │              <span style=\"color: #00af00; text-decoration-color: #00af00\">17</span> │\n",
              "└──────────────────────────────────────┴─────────────────────────────┴─────────────────┘\n",
              "</pre>\n"
            ]
          },
          "metadata": {}
        },
        {
          "output_type": "display_data",
          "data": {
            "text/plain": [
              "\u001b[1m Total params: \u001b[0m\u001b[38;5;34m801\u001b[0m (3.13 KB)\n"
            ],
            "text/html": [
              "<pre style=\"white-space:pre;overflow-x:auto;line-height:normal;font-family:Menlo,'DejaVu Sans Mono',consolas,'Courier New',monospace\"><span style=\"font-weight: bold\"> Total params: </span><span style=\"color: #00af00; text-decoration-color: #00af00\">801</span> (3.13 KB)\n",
              "</pre>\n"
            ]
          },
          "metadata": {}
        },
        {
          "output_type": "display_data",
          "data": {
            "text/plain": [
              "\u001b[1m Trainable params: \u001b[0m\u001b[38;5;34m801\u001b[0m (3.13 KB)\n"
            ],
            "text/html": [
              "<pre style=\"white-space:pre;overflow-x:auto;line-height:normal;font-family:Menlo,'DejaVu Sans Mono',consolas,'Courier New',monospace\"><span style=\"font-weight: bold\"> Trainable params: </span><span style=\"color: #00af00; text-decoration-color: #00af00\">801</span> (3.13 KB)\n",
              "</pre>\n"
            ]
          },
          "metadata": {}
        },
        {
          "output_type": "display_data",
          "data": {
            "text/plain": [
              "\u001b[1m Non-trainable params: \u001b[0m\u001b[38;5;34m0\u001b[0m (0.00 B)\n"
            ],
            "text/html": [
              "<pre style=\"white-space:pre;overflow-x:auto;line-height:normal;font-family:Menlo,'DejaVu Sans Mono',consolas,'Courier New',monospace\"><span style=\"font-weight: bold\"> Non-trainable params: </span><span style=\"color: #00af00; text-decoration-color: #00af00\">0</span> (0.00 B)\n",
              "</pre>\n"
            ]
          },
          "metadata": {}
        }
      ]
    },
    {
      "cell_type": "code",
      "source": [
        "model.fit(train_pad, train_df['label'], epochs=10)"
      ],
      "metadata": {
        "colab": {
          "base_uri": "https://localhost:8080/"
        },
        "collapsed": true,
        "id": "QPuX1NsTIihC",
        "outputId": "34d37f71-88e9-4a23-dfad-0c36890aa300"
      },
      "execution_count": null,
      "outputs": [
        {
          "output_type": "stream",
          "name": "stdout",
          "text": [
            "Epoch 1/10\n",
            "\u001b[1m1/1\u001b[0m \u001b[32m━━━━━━━━━━━━━━━━━━━━\u001b[0m\u001b[37m\u001b[0m \u001b[1m2s\u001b[0m 2s/step - accuracy: 0.4000 - loss: 0.6953\n",
            "Epoch 2/10\n",
            "\u001b[1m1/1\u001b[0m \u001b[32m━━━━━━━━━━━━━━━━━━━━\u001b[0m\u001b[37m\u001b[0m \u001b[1m0s\u001b[0m 53ms/step - accuracy: 0.6000 - loss: 0.6904\n",
            "Epoch 3/10\n",
            "\u001b[1m1/1\u001b[0m \u001b[32m━━━━━━━━━━━━━━━━━━━━\u001b[0m\u001b[37m\u001b[0m \u001b[1m0s\u001b[0m 51ms/step - accuracy: 0.6000 - loss: 0.6854\n",
            "Epoch 4/10\n",
            "\u001b[1m1/1\u001b[0m \u001b[32m━━━━━━━━━━━━━━━━━━━━\u001b[0m\u001b[37m\u001b[0m \u001b[1m0s\u001b[0m 53ms/step - accuracy: 0.6000 - loss: 0.6810\n",
            "Epoch 5/10\n",
            "\u001b[1m1/1\u001b[0m \u001b[32m━━━━━━━━━━━━━━━━━━━━\u001b[0m\u001b[37m\u001b[0m \u001b[1m0s\u001b[0m 61ms/step - accuracy: 0.6000 - loss: 0.6769\n",
            "Epoch 6/10\n",
            "\u001b[1m1/1\u001b[0m \u001b[32m━━━━━━━━━━━━━━━━━━━━\u001b[0m\u001b[37m\u001b[0m \u001b[1m0s\u001b[0m 56ms/step - accuracy: 0.8000 - loss: 0.6729\n",
            "Epoch 7/10\n",
            "\u001b[1m1/1\u001b[0m \u001b[32m━━━━━━━━━━━━━━━━━━━━\u001b[0m\u001b[37m\u001b[0m \u001b[1m0s\u001b[0m 56ms/step - accuracy: 0.8000 - loss: 0.6688\n",
            "Epoch 8/10\n",
            "\u001b[1m1/1\u001b[0m \u001b[32m━━━━━━━━━━━━━━━━━━━━\u001b[0m\u001b[37m\u001b[0m \u001b[1m0s\u001b[0m 53ms/step - accuracy: 0.8000 - loss: 0.6650\n",
            "Epoch 9/10\n",
            "\u001b[1m1/1\u001b[0m \u001b[32m━━━━━━━━━━━━━━━━━━━━\u001b[0m\u001b[37m\u001b[0m \u001b[1m0s\u001b[0m 54ms/step - accuracy: 0.8000 - loss: 0.6611\n",
            "Epoch 10/10\n",
            "\u001b[1m1/1\u001b[0m \u001b[32m━━━━━━━━━━━━━━━━━━━━\u001b[0m\u001b[37m\u001b[0m \u001b[1m0s\u001b[0m 57ms/step - accuracy: 0.8000 - loss: 0.6572\n"
          ]
        },
        {
          "output_type": "execute_result",
          "data": {
            "text/plain": [
              "<keras.src.callbacks.history.History at 0x792c9bdc3890>"
            ]
          },
          "metadata": {},
          "execution_count": 32
        }
      ]
    },
    {
      "cell_type": "code",
      "source": [
        "# 추론\n",
        "# 학습에 사용했던 토크나이져를 사용\n",
        "new_texts = ['와 이 영화는 재미 있었어요','이 영화는 아깝습니다']\n",
        "new_sequence = tokenizer.texts_to_sequences(new_texts)\n",
        "print(new_sequence)\n",
        "new_pad = tf.keras.preprocessing.sequence.pad_sequences(new_sequence, maxlen=max_len)\n",
        "print(new_pad)\n",
        "predics = model.predict(new_pad)\n",
        "['긍정' if p>0.5 else '부정'  for p in predics]"
      ],
      "metadata": {
        "colab": {
          "base_uri": "https://localhost:8080/"
        },
        "collapsed": true,
        "id": "drzBCZCLIojr",
        "outputId": "b8c850c0-a25b-4b71-d56a-f76743bc2508"
      },
      "execution_count": null,
      "outputs": [
        {
          "output_type": "stream",
          "name": "stdout",
          "text": [
            "[[2, 3, 4, 5], [2, 3, 10]]\n",
            "[[ 0  2  3  4  5]\n",
            " [ 0  0  2  3 10]]\n",
            "\u001b[1m1/1\u001b[0m \u001b[32m━━━━━━━━━━━━━━━━━━━━\u001b[0m\u001b[37m\u001b[0m \u001b[1m0s\u001b[0m 38ms/step\n"
          ]
        },
        {
          "output_type": "execute_result",
          "data": {
            "text/plain": [
              "['긍정', '긍정']"
            ]
          },
          "metadata": {},
          "execution_count": 39
        }
      ]
    },
    {
      "cell_type": "markdown",
      "source": [
        "https://raw.githubusercontent.com/e9t/nsmc/master/ratings.txt"
      ],
      "metadata": {
        "id": "OICPoMkUOKIt"
      }
    },
    {
      "cell_type": "code",
      "source": [
        "!pip install koeda"
      ],
      "metadata": {
        "colab": {
          "base_uri": "https://localhost:8080/"
        },
        "id": "dJowL1GURFjN",
        "outputId": "71c29c8f-b1a3-4f58-ef05-d330915d0f2c"
      },
      "execution_count": null,
      "outputs": [
        {
          "output_type": "stream",
          "name": "stdout",
          "text": [
            "Collecting koeda\n",
            "  Downloading koeda-0.0.4-py3-none-any.whl.metadata (5.2 kB)\n",
            "Requirement already satisfied: numpy>=1.19.4 in /usr/local/lib/python3.11/dist-packages (from koeda) (2.0.2)\n",
            "Collecting konlpy>=0.5.2 (from koeda)\n",
            "  Downloading konlpy-0.6.0-py2.py3-none-any.whl.metadata (1.9 kB)\n",
            "Collecting tweepy==3.10.0 (from koeda)\n",
            "  Downloading tweepy-3.10.0-py2.py3-none-any.whl.metadata (2.8 kB)\n",
            "Requirement already satisfied: requests>=2.11.1 in /usr/local/lib/python3.11/dist-packages (from requests[socks]>=2.11.1->tweepy==3.10.0->koeda) (2.32.3)\n",
            "Requirement already satisfied: requests-oauthlib>=0.7.0 in /usr/local/lib/python3.11/dist-packages (from tweepy==3.10.0->koeda) (2.0.0)\n",
            "Requirement already satisfied: six>=1.10.0 in /usr/local/lib/python3.11/dist-packages (from tweepy==3.10.0->koeda) (1.17.0)\n",
            "Collecting JPype1>=0.7.0 (from konlpy>=0.5.2->koeda)\n",
            "  Downloading jpype1-1.5.2-cp311-cp311-manylinux_2_17_x86_64.manylinux2014_x86_64.whl.metadata (4.9 kB)\n",
            "Requirement already satisfied: lxml>=4.1.0 in /usr/local/lib/python3.11/dist-packages (from konlpy>=0.5.2->koeda) (5.3.1)\n",
            "Requirement already satisfied: packaging in /usr/local/lib/python3.11/dist-packages (from JPype1>=0.7.0->konlpy>=0.5.2->koeda) (24.2)\n",
            "Requirement already satisfied: charset-normalizer<4,>=2 in /usr/local/lib/python3.11/dist-packages (from requests>=2.11.1->requests[socks]>=2.11.1->tweepy==3.10.0->koeda) (3.4.1)\n",
            "Requirement already satisfied: idna<4,>=2.5 in /usr/local/lib/python3.11/dist-packages (from requests>=2.11.1->requests[socks]>=2.11.1->tweepy==3.10.0->koeda) (3.10)\n",
            "Requirement already satisfied: urllib3<3,>=1.21.1 in /usr/local/lib/python3.11/dist-packages (from requests>=2.11.1->requests[socks]>=2.11.1->tweepy==3.10.0->koeda) (2.3.0)\n",
            "Requirement already satisfied: certifi>=2017.4.17 in /usr/local/lib/python3.11/dist-packages (from requests>=2.11.1->requests[socks]>=2.11.1->tweepy==3.10.0->koeda) (2025.1.31)\n",
            "Requirement already satisfied: oauthlib>=3.0.0 in /usr/local/lib/python3.11/dist-packages (from requests-oauthlib>=0.7.0->tweepy==3.10.0->koeda) (3.2.2)\n",
            "Requirement already satisfied: PySocks!=1.5.7,>=1.5.6 in /usr/local/lib/python3.11/dist-packages (from requests[socks]>=2.11.1->tweepy==3.10.0->koeda) (1.7.1)\n",
            "Downloading koeda-0.0.4-py3-none-any.whl (566 kB)\n",
            "\u001b[2K   \u001b[90m━━━━━━━━━━━━━━━━━━━━━━━━━━━━━━━━━━━━━━━━\u001b[0m \u001b[32m566.4/566.4 kB\u001b[0m \u001b[31m10.7 MB/s\u001b[0m eta \u001b[36m0:00:00\u001b[0m\n",
            "\u001b[?25hDownloading tweepy-3.10.0-py2.py3-none-any.whl (30 kB)\n",
            "Downloading konlpy-0.6.0-py2.py3-none-any.whl (19.4 MB)\n",
            "\u001b[2K   \u001b[90m━━━━━━━━━━━━━━━━━━━━━━━━━━━━━━━━━━━━━━━━\u001b[0m \u001b[32m19.4/19.4 MB\u001b[0m \u001b[31m53.8 MB/s\u001b[0m eta \u001b[36m0:00:00\u001b[0m\n",
            "\u001b[?25hDownloading jpype1-1.5.2-cp311-cp311-manylinux_2_17_x86_64.manylinux2014_x86_64.whl (494 kB)\n",
            "\u001b[2K   \u001b[90m━━━━━━━━━━━━━━━━━━━━━━━━━━━━━━━━━━━━━━━━\u001b[0m \u001b[32m494.1/494.1 kB\u001b[0m \u001b[31m25.6 MB/s\u001b[0m eta \u001b[36m0:00:00\u001b[0m\n",
            "\u001b[?25hInstalling collected packages: JPype1, konlpy, tweepy, koeda\n",
            "  Attempting uninstall: tweepy\n",
            "    Found existing installation: tweepy 4.15.0\n",
            "    Uninstalling tweepy-4.15.0:\n",
            "      Successfully uninstalled tweepy-4.15.0\n",
            "Successfully installed JPype1-1.5.2 koeda-0.0.4 konlpy-0.6.0 tweepy-3.10.0\n"
          ]
        }
      ]
    },
    {
      "cell_type": "code",
      "source": [
        "from koeda import EDA\n",
        "train_texts = [\n",
        "    '이 영화는 재미 있었어요 *^-^*',\n",
        "    '정말 감동적인 영화였어요',\n",
        "    '시간이 zzz 너무 아깝습니다.',\n",
        "    '배우들의 연기가 너무 좋았어요 he~~~',\n",
        "    '스토리가 별로였어요',\n",
        "]\n",
        "# okt 한글 형태소 분석기\n",
        "eda = EDA(morpheme_analyzer=\"Okt\", alpha_sr=0.3, alpha_ri=0.3, alpha_rs=0.3, prob_rd=0.3)"
      ],
      "metadata": {
        "id": "6BW9y4pPPo_7"
      },
      "execution_count": null,
      "outputs": []
    },
    {
      "cell_type": "code",
      "source": [
        "# data argumentation\n",
        "for text in train_texts:\n",
        "  print(eda(custom_standardztion(text)))"
      ],
      "metadata": {
        "colab": {
          "base_uri": "https://localhost:8080/"
        },
        "collapsed": true,
        "id": "nVlNdTm2RKEn",
        "outputId": "2cd30443-f432-4ba9-de74-f62c73ff5a2a"
      },
      "execution_count": null,
      "outputs": [
        {
          "output_type": "stream",
          "name": "stdout",
          "text": [
            "잡 영화는 재미 있었어요\n",
            "정말 감동적인 상표 영화였어요\n",
            "시간이 너무아깝습니다\n",
            "배우연기의 가들너무 좋았어요\n",
            "가스토리 별로였어요\n"
          ]
        }
      ]
    },
    {
      "cell_type": "markdown",
      "source": [
        "# 실제 데이터"
      ],
      "metadata": {
        "id": "a20qrF-ldw1s"
      }
    },
    {
      "cell_type": "code",
      "source": [
        "import pandas as pd\n",
        "movie_df = pd.read_csv('https://raw.githubusercontent.com/e9t/nsmc/master/ratings.txt',sep='\\t')\n",
        "movie_df.head()"
      ],
      "metadata": {
        "colab": {
          "base_uri": "https://localhost:8080/",
          "height": 206
        },
        "collapsed": true,
        "id": "9tOZuI9qMelF",
        "outputId": "3ae9411a-e318-4897-e2cd-2fa1ab04c945"
      },
      "execution_count": null,
      "outputs": [
        {
          "output_type": "execute_result",
          "data": {
            "text/plain": [
              "         id                                           document  label\n",
              "0   8112052                                어릴때보고 지금다시봐도 재밌어요ㅋㅋ      1\n",
              "1   8132799  디자인을 배우는 학생으로, 외국디자이너와 그들이 일군 전통을 통해 발전해가는 문화산...      1\n",
              "2   4655635               폴리스스토리 시리즈는 1부터 뉴까지 버릴께 하나도 없음.. 최고.      1\n",
              "3   9251303  와.. 연기가 진짜 개쩔구나.. 지루할거라고 생각했는데 몰입해서 봤다.. 그래 이런...      1\n",
              "4  10067386                        안개 자욱한 밤하늘에 떠 있는 초승달 같은 영화.      1"
            ],
            "text/html": [
              "\n",
              "  <div id=\"df-c3385bfa-21b9-4f70-8a39-c01c0914a8af\" class=\"colab-df-container\">\n",
              "    <div>\n",
              "<style scoped>\n",
              "    .dataframe tbody tr th:only-of-type {\n",
              "        vertical-align: middle;\n",
              "    }\n",
              "\n",
              "    .dataframe tbody tr th {\n",
              "        vertical-align: top;\n",
              "    }\n",
              "\n",
              "    .dataframe thead th {\n",
              "        text-align: right;\n",
              "    }\n",
              "</style>\n",
              "<table border=\"1\" class=\"dataframe\">\n",
              "  <thead>\n",
              "    <tr style=\"text-align: right;\">\n",
              "      <th></th>\n",
              "      <th>id</th>\n",
              "      <th>document</th>\n",
              "      <th>label</th>\n",
              "    </tr>\n",
              "  </thead>\n",
              "  <tbody>\n",
              "    <tr>\n",
              "      <th>0</th>\n",
              "      <td>8112052</td>\n",
              "      <td>어릴때보고 지금다시봐도 재밌어요ㅋㅋ</td>\n",
              "      <td>1</td>\n",
              "    </tr>\n",
              "    <tr>\n",
              "      <th>1</th>\n",
              "      <td>8132799</td>\n",
              "      <td>디자인을 배우는 학생으로, 외국디자이너와 그들이 일군 전통을 통해 발전해가는 문화산...</td>\n",
              "      <td>1</td>\n",
              "    </tr>\n",
              "    <tr>\n",
              "      <th>2</th>\n",
              "      <td>4655635</td>\n",
              "      <td>폴리스스토리 시리즈는 1부터 뉴까지 버릴께 하나도 없음.. 최고.</td>\n",
              "      <td>1</td>\n",
              "    </tr>\n",
              "    <tr>\n",
              "      <th>3</th>\n",
              "      <td>9251303</td>\n",
              "      <td>와.. 연기가 진짜 개쩔구나.. 지루할거라고 생각했는데 몰입해서 봤다.. 그래 이런...</td>\n",
              "      <td>1</td>\n",
              "    </tr>\n",
              "    <tr>\n",
              "      <th>4</th>\n",
              "      <td>10067386</td>\n",
              "      <td>안개 자욱한 밤하늘에 떠 있는 초승달 같은 영화.</td>\n",
              "      <td>1</td>\n",
              "    </tr>\n",
              "  </tbody>\n",
              "</table>\n",
              "</div>\n",
              "    <div class=\"colab-df-buttons\">\n",
              "\n",
              "  <div class=\"colab-df-container\">\n",
              "    <button class=\"colab-df-convert\" onclick=\"convertToInteractive('df-c3385bfa-21b9-4f70-8a39-c01c0914a8af')\"\n",
              "            title=\"Convert this dataframe to an interactive table.\"\n",
              "            style=\"display:none;\">\n",
              "\n",
              "  <svg xmlns=\"http://www.w3.org/2000/svg\" height=\"24px\" viewBox=\"0 -960 960 960\">\n",
              "    <path d=\"M120-120v-720h720v720H120Zm60-500h600v-160H180v160Zm220 220h160v-160H400v160Zm0 220h160v-160H400v160ZM180-400h160v-160H180v160Zm440 0h160v-160H620v160ZM180-180h160v-160H180v160Zm440 0h160v-160H620v160Z\"/>\n",
              "  </svg>\n",
              "    </button>\n",
              "\n",
              "  <style>\n",
              "    .colab-df-container {\n",
              "      display:flex;\n",
              "      gap: 12px;\n",
              "    }\n",
              "\n",
              "    .colab-df-convert {\n",
              "      background-color: #E8F0FE;\n",
              "      border: none;\n",
              "      border-radius: 50%;\n",
              "      cursor: pointer;\n",
              "      display: none;\n",
              "      fill: #1967D2;\n",
              "      height: 32px;\n",
              "      padding: 0 0 0 0;\n",
              "      width: 32px;\n",
              "    }\n",
              "\n",
              "    .colab-df-convert:hover {\n",
              "      background-color: #E2EBFA;\n",
              "      box-shadow: 0px 1px 2px rgba(60, 64, 67, 0.3), 0px 1px 3px 1px rgba(60, 64, 67, 0.15);\n",
              "      fill: #174EA6;\n",
              "    }\n",
              "\n",
              "    .colab-df-buttons div {\n",
              "      margin-bottom: 4px;\n",
              "    }\n",
              "\n",
              "    [theme=dark] .colab-df-convert {\n",
              "      background-color: #3B4455;\n",
              "      fill: #D2E3FC;\n",
              "    }\n",
              "\n",
              "    [theme=dark] .colab-df-convert:hover {\n",
              "      background-color: #434B5C;\n",
              "      box-shadow: 0px 1px 3px 1px rgba(0, 0, 0, 0.15);\n",
              "      filter: drop-shadow(0px 1px 2px rgba(0, 0, 0, 0.3));\n",
              "      fill: #FFFFFF;\n",
              "    }\n",
              "  </style>\n",
              "\n",
              "    <script>\n",
              "      const buttonEl =\n",
              "        document.querySelector('#df-c3385bfa-21b9-4f70-8a39-c01c0914a8af button.colab-df-convert');\n",
              "      buttonEl.style.display =\n",
              "        google.colab.kernel.accessAllowed ? 'block' : 'none';\n",
              "\n",
              "      async function convertToInteractive(key) {\n",
              "        const element = document.querySelector('#df-c3385bfa-21b9-4f70-8a39-c01c0914a8af');\n",
              "        const dataTable =\n",
              "          await google.colab.kernel.invokeFunction('convertToInteractive',\n",
              "                                                    [key], {});\n",
              "        if (!dataTable) return;\n",
              "\n",
              "        const docLinkHtml = 'Like what you see? Visit the ' +\n",
              "          '<a target=\"_blank\" href=https://colab.research.google.com/notebooks/data_table.ipynb>data table notebook</a>'\n",
              "          + ' to learn more about interactive tables.';\n",
              "        element.innerHTML = '';\n",
              "        dataTable['output_type'] = 'display_data';\n",
              "        await google.colab.output.renderOutput(dataTable, element);\n",
              "        const docLink = document.createElement('div');\n",
              "        docLink.innerHTML = docLinkHtml;\n",
              "        element.appendChild(docLink);\n",
              "      }\n",
              "    </script>\n",
              "  </div>\n",
              "\n",
              "\n",
              "<div id=\"df-fba63b74-0674-45f8-9b58-8e793586629d\">\n",
              "  <button class=\"colab-df-quickchart\" onclick=\"quickchart('df-fba63b74-0674-45f8-9b58-8e793586629d')\"\n",
              "            title=\"Suggest charts\"\n",
              "            style=\"display:none;\">\n",
              "\n",
              "<svg xmlns=\"http://www.w3.org/2000/svg\" height=\"24px\"viewBox=\"0 0 24 24\"\n",
              "     width=\"24px\">\n",
              "    <g>\n",
              "        <path d=\"M19 3H5c-1.1 0-2 .9-2 2v14c0 1.1.9 2 2 2h14c1.1 0 2-.9 2-2V5c0-1.1-.9-2-2-2zM9 17H7v-7h2v7zm4 0h-2V7h2v10zm4 0h-2v-4h2v4z\"/>\n",
              "    </g>\n",
              "</svg>\n",
              "  </button>\n",
              "\n",
              "<style>\n",
              "  .colab-df-quickchart {\n",
              "      --bg-color: #E8F0FE;\n",
              "      --fill-color: #1967D2;\n",
              "      --hover-bg-color: #E2EBFA;\n",
              "      --hover-fill-color: #174EA6;\n",
              "      --disabled-fill-color: #AAA;\n",
              "      --disabled-bg-color: #DDD;\n",
              "  }\n",
              "\n",
              "  [theme=dark] .colab-df-quickchart {\n",
              "      --bg-color: #3B4455;\n",
              "      --fill-color: #D2E3FC;\n",
              "      --hover-bg-color: #434B5C;\n",
              "      --hover-fill-color: #FFFFFF;\n",
              "      --disabled-bg-color: #3B4455;\n",
              "      --disabled-fill-color: #666;\n",
              "  }\n",
              "\n",
              "  .colab-df-quickchart {\n",
              "    background-color: var(--bg-color);\n",
              "    border: none;\n",
              "    border-radius: 50%;\n",
              "    cursor: pointer;\n",
              "    display: none;\n",
              "    fill: var(--fill-color);\n",
              "    height: 32px;\n",
              "    padding: 0;\n",
              "    width: 32px;\n",
              "  }\n",
              "\n",
              "  .colab-df-quickchart:hover {\n",
              "    background-color: var(--hover-bg-color);\n",
              "    box-shadow: 0 1px 2px rgba(60, 64, 67, 0.3), 0 1px 3px 1px rgba(60, 64, 67, 0.15);\n",
              "    fill: var(--button-hover-fill-color);\n",
              "  }\n",
              "\n",
              "  .colab-df-quickchart-complete:disabled,\n",
              "  .colab-df-quickchart-complete:disabled:hover {\n",
              "    background-color: var(--disabled-bg-color);\n",
              "    fill: var(--disabled-fill-color);\n",
              "    box-shadow: none;\n",
              "  }\n",
              "\n",
              "  .colab-df-spinner {\n",
              "    border: 2px solid var(--fill-color);\n",
              "    border-color: transparent;\n",
              "    border-bottom-color: var(--fill-color);\n",
              "    animation:\n",
              "      spin 1s steps(1) infinite;\n",
              "  }\n",
              "\n",
              "  @keyframes spin {\n",
              "    0% {\n",
              "      border-color: transparent;\n",
              "      border-bottom-color: var(--fill-color);\n",
              "      border-left-color: var(--fill-color);\n",
              "    }\n",
              "    20% {\n",
              "      border-color: transparent;\n",
              "      border-left-color: var(--fill-color);\n",
              "      border-top-color: var(--fill-color);\n",
              "    }\n",
              "    30% {\n",
              "      border-color: transparent;\n",
              "      border-left-color: var(--fill-color);\n",
              "      border-top-color: var(--fill-color);\n",
              "      border-right-color: var(--fill-color);\n",
              "    }\n",
              "    40% {\n",
              "      border-color: transparent;\n",
              "      border-right-color: var(--fill-color);\n",
              "      border-top-color: var(--fill-color);\n",
              "    }\n",
              "    60% {\n",
              "      border-color: transparent;\n",
              "      border-right-color: var(--fill-color);\n",
              "    }\n",
              "    80% {\n",
              "      border-color: transparent;\n",
              "      border-right-color: var(--fill-color);\n",
              "      border-bottom-color: var(--fill-color);\n",
              "    }\n",
              "    90% {\n",
              "      border-color: transparent;\n",
              "      border-bottom-color: var(--fill-color);\n",
              "    }\n",
              "  }\n",
              "</style>\n",
              "\n",
              "  <script>\n",
              "    async function quickchart(key) {\n",
              "      const quickchartButtonEl =\n",
              "        document.querySelector('#' + key + ' button');\n",
              "      quickchartButtonEl.disabled = true;  // To prevent multiple clicks.\n",
              "      quickchartButtonEl.classList.add('colab-df-spinner');\n",
              "      try {\n",
              "        const charts = await google.colab.kernel.invokeFunction(\n",
              "            'suggestCharts', [key], {});\n",
              "      } catch (error) {\n",
              "        console.error('Error during call to suggestCharts:', error);\n",
              "      }\n",
              "      quickchartButtonEl.classList.remove('colab-df-spinner');\n",
              "      quickchartButtonEl.classList.add('colab-df-quickchart-complete');\n",
              "    }\n",
              "    (() => {\n",
              "      let quickchartButtonEl =\n",
              "        document.querySelector('#df-fba63b74-0674-45f8-9b58-8e793586629d button');\n",
              "      quickchartButtonEl.style.display =\n",
              "        google.colab.kernel.accessAllowed ? 'block' : 'none';\n",
              "    })();\n",
              "  </script>\n",
              "</div>\n",
              "\n",
              "    </div>\n",
              "  </div>\n"
            ],
            "application/vnd.google.colaboratory.intrinsic+json": {
              "type": "dataframe",
              "variable_name": "movie_df"
            }
          },
          "metadata": {},
          "execution_count": 4
        }
      ]
    },
    {
      "cell_type": "code",
      "source": [
        "movie_df.dropna(inplace=True)\n",
        "movie_df.duplicated().sum()"
      ],
      "metadata": {
        "colab": {
          "base_uri": "https://localhost:8080/"
        },
        "id": "0D3aW9q4ZJt2",
        "outputId": "a5afdf46-48f6-447b-c84d-a1b6d0ca8ff8"
      },
      "execution_count": null,
      "outputs": [
        {
          "output_type": "execute_result",
          "data": {
            "text/plain": [
              "np.int64(0)"
            ]
          },
          "metadata": {},
          "execution_count": 5
        }
      ]
    },
    {
      "cell_type": "code",
      "source": [
        "# 한글만선택 - 전처리\n",
        "import string, re\n",
        "def custom_standardztion(input_data):\n",
        "  input_data = re.sub(r'<.*?>',\"\",input_data)\n",
        "  # 특수문자를 공백으로 변경 string 라이브러리 이용\n",
        "  input_data = re.sub(r'[^가-힣\\s]',\" \",input_data)  # 한글과 공백만 남기\n",
        "  return input_data.strip()\n",
        "movie_df['document'] = movie_df['document'].map(custom_standardztion)"
      ],
      "metadata": {
        "id": "u-L36urEZQqc"
      },
      "execution_count": null,
      "outputs": []
    },
    {
      "cell_type": "code",
      "source": [
        "# 데이터 분할\n",
        "from sklearn.model_selection import train_test_split\n",
        "train_texts, val_texts, train_labels, val_labels \\\n",
        "= train_test_split(movie_df['document'], movie_df['label'], test_size=.2, random_state=42)"
      ],
      "metadata": {
        "id": "2wfBLF8kZzQ0"
      },
      "execution_count": null,
      "outputs": []
    },
    {
      "cell_type": "code",
      "source": [
        "# 토크나이져, 시퀀스 처리\n",
        "import tensorflow as tf\n",
        "tokenizer = tf.keras.preprocessing.text.Tokenizer()\n",
        "tokenizer.fit_on_texts(train_texts)\n",
        "\n",
        "train_sequence = tokenizer.texts_to_sequences(train_texts)\n",
        "val_sequence = tokenizer.texts_to_sequences(val_texts)\n",
        "print(train_sequence[:3])"
      ],
      "metadata": {
        "colab": {
          "base_uri": "https://localhost:8080/"
        },
        "collapsed": true,
        "id": "aBwIqTsnaGLL",
        "outputId": "467a9444-9ce4-4bf8-d7a4-10932a8f46d9"
      },
      "execution_count": null,
      "outputs": [
        {
          "output_type": "stream",
          "name": "stdout",
          "text": [
            "[[1589, 398, 74169, 74170, 37, 19, 208, 240, 112, 6994, 71, 1], [44757, 74171, 7371, 14, 874, 295, 1612], [5864, 74172, 42, 175, 437, 74173]]\n"
          ]
        }
      ]
    },
    {
      "cell_type": "code",
      "source": [
        "tokenizer.word_index"
      ],
      "metadata": {
        "colab": {
          "base_uri": "https://localhost:8080/"
        },
        "collapsed": true,
        "id": "eHcJ8T-dcNe7",
        "outputId": "8dda2648-b8a8-4fc4-b47b-dda62dc451b7"
      },
      "execution_count": null,
      "outputs": [
        {
          "output_type": "execute_result",
          "data": {
            "text/plain": [
              "{'영화': 1,\n",
              " '너무': 2,\n",
              " '정말': 3,\n",
              " '진짜': 4,\n",
              " '이': 5,\n",
              " '그냥': 6,\n",
              " '왜': 7,\n",
              " '이런': 8,\n",
              " '더': 9,\n",
              " '점': 10,\n",
              " '수': 11,\n",
              " '영화를': 12,\n",
              " '다': 13,\n",
              " '잘': 14,\n",
              " '보고': 15,\n",
              " '좀': 16,\n",
              " '그': 17,\n",
              " '영화는': 18,\n",
              " '영화가': 19,\n",
              " '봤는데': 20,\n",
              " '본': 21,\n",
              " '최고의': 22,\n",
              " '아': 23,\n",
              " '내가': 24,\n",
              " '이건': 25,\n",
              " '없다': 26,\n",
              " '드라마': 27,\n",
              " '없는': 28,\n",
              " '평점': 29,\n",
              " '이거': 30,\n",
              " '완전': 31,\n",
              " '이렇게': 32,\n",
              " '참': 33,\n",
              " '이게': 34,\n",
              " '그리고': 35,\n",
              " '있는': 36,\n",
              " '좋은': 37,\n",
              " '연기': 38,\n",
              " '내': 39,\n",
              " '최고': 40,\n",
              " '평점이': 41,\n",
              " '다시': 42,\n",
              " '역시': 43,\n",
              " '보는': 44,\n",
              " '스토리': 45,\n",
              " '쓰레기': 46,\n",
              " '난': 47,\n",
              " '많이': 48,\n",
              " '한': 49,\n",
              " '것': 50,\n",
              " '없고': 51,\n",
              " '재밌게': 52,\n",
              " '하는': 53,\n",
              " '또': 54,\n",
              " '아깝다': 55,\n",
              " '보면': 56,\n",
              " '꼭': 57,\n",
              " '마지막': 58,\n",
              " '영화다': 59,\n",
              " '가장': 60,\n",
              " '무슨': 61,\n",
              " '뭐': 62,\n",
              " '하지만': 63,\n",
              " '같은': 64,\n",
              " '와': 65,\n",
              " '작품': 66,\n",
              " '별로': 67,\n",
              " '끝까지': 68,\n",
              " '솔직히': 69,\n",
              " '볼': 70,\n",
              " '만든': 71,\n",
              " '넘': 72,\n",
              " '안': 73,\n",
              " '그래도': 74,\n",
              " '좋다': 75,\n",
              " '대한': 76,\n",
              " '봐도': 77,\n",
              " '같다': 78,\n",
              " '말이': 79,\n",
              " '시간': 80,\n",
              " '지금': 81,\n",
              " '있다': 82,\n",
              " '전혀': 83,\n",
              " '별': 84,\n",
              " '근데': 85,\n",
              " '중': 86,\n",
              " '재미': 87,\n",
              " '영화의': 88,\n",
              " '하고': 89,\n",
              " '뭔가': 90,\n",
              " '아주': 91,\n",
              " '내내': 92,\n",
              " '굿': 93,\n",
              " '다른': 94,\n",
              " '어떻게': 95,\n",
              " '하나': 96,\n",
              " '할': 97,\n",
              " '최악의': 98,\n",
              " '재밌다': 99,\n",
              " '봤다': 100,\n",
              " '않고': 101,\n",
              " '감동': 102,\n",
              " '명작': 103,\n",
              " '감독': 104,\n",
              " '듯': 105,\n",
              " '이걸': 106,\n",
              " '많은': 107,\n",
              " '연기가': 108,\n",
              " '연기도': 109,\n",
              " '재미있게': 110,\n",
              " '재미없다': 111,\n",
              " '아니다': 112,\n",
              " '보다': 113,\n",
              " '이야기': 114,\n",
              " '아니라': 115,\n",
              " '느낌': 116,\n",
              " '보다가': 117,\n",
              " '내용도': 118,\n",
              " '모두': 119,\n",
              " '특히': 120,\n",
              " '액션': 121,\n",
              " '계속': 122,\n",
              " '차라리': 123,\n",
              " '나는': 124,\n",
              " '점도': 125,\n",
              " '스토리가': 126,\n",
              " '년': 127,\n",
              " '때문에': 128,\n",
              " '내용이': 129,\n",
              " '때': 130,\n",
              " '아니고': 131,\n",
              " '시간이': 132,\n",
              " '영화에': 133,\n",
              " '감독이': 134,\n",
              " '나오는': 135,\n",
              " '연출': 136,\n",
              " '아닌': 137,\n",
              " '제대로': 138,\n",
              " '아름다운': 139,\n",
              " '가': 140,\n",
              " '스토리도': 141,\n",
              " '모든': 142,\n",
              " '않은': 143,\n",
              " '감독의': 144,\n",
              " '개': 145,\n",
              " '제일': 146,\n",
              " '아직도': 147,\n",
              " '영화라고': 148,\n",
              " '만드는': 149,\n",
              " '재밌어요': 150,\n",
              " '짱': 151,\n",
              " '딱': 152,\n",
              " '마지막에': 153,\n",
              " '보면서': 154,\n",
              " '좋고': 155,\n",
              " '나름': 156,\n",
              " '나도': 157,\n",
              " '도대체': 158,\n",
              " '영화입니다': 159,\n",
              " '싶다': 160,\n",
              " '않는': 161,\n",
              " '오랜만에': 162,\n",
              " '배우들': 163,\n",
              " '여운이': 164,\n",
              " '재미도': 165,\n",
              " '이제': 166,\n",
              " '배우들의': 167,\n",
              " '봤습니다': 168,\n",
              " '아까운': 169,\n",
              " '진심': 170,\n",
              " '처음': 171,\n",
              " '좋았다': 172,\n",
              " '최고다': 173,\n",
              " '요즘': 174,\n",
              " '한번': 175,\n",
              " '걍': 176,\n",
              " '지루하고': 177,\n",
              " '좋아하는': 178,\n",
              " '내용': 179,\n",
              " '없음': 180,\n",
              " '나': 181,\n",
              " '최악': 182,\n",
              " '대박': 183,\n",
              " '그런': 184,\n",
              " '없이': 185,\n",
              " '이영화': 186,\n",
              " '개인적으로': 187,\n",
              " '는': 188,\n",
              " '전': 189,\n",
              " '보는내내': 190,\n",
              " '영화도': 191,\n",
              " '보기': 192,\n",
              " '줄': 193,\n",
              " '조금': 194,\n",
              " '연기는': 195,\n",
              " '보세요': 196,\n",
              " '그저': 197,\n",
              " '뻔한': 198,\n",
              " '주는': 199,\n",
              " '아무리': 200,\n",
              " '못': 201,\n",
              " '절대': 202,\n",
              " '엄청': 203,\n",
              " '점은': 204,\n",
              " '제발': 205,\n",
              " '남는': 206,\n",
              " '년대': 207,\n",
              " '되는': 208,\n",
              " '영화로': 209,\n",
              " '재미가': 210,\n",
              " '강추': 211,\n",
              " '생각이': 212,\n",
              " '멋진': 213,\n",
              " '그래서': 214,\n",
              " '의': 215,\n",
              " '이해가': 216,\n",
              " '한국': 217,\n",
              " '너무나': 218,\n",
              " '봤던': 219,\n",
              " '그렇게': 220,\n",
              " '극장에서': 221,\n",
              " '에서': 222,\n",
              " '결국': 223,\n",
              " '얼마나': 224,\n",
              " '도': 225,\n",
              " '배우': 226,\n",
              " '지루하다': 227,\n",
              " '두': 228,\n",
              " '좋아요': 229,\n",
              " '모르겠다': 230,\n",
              " '게': 231,\n",
              " '기억에': 232,\n",
              " '주인공': 233,\n",
              " '인생': 234,\n",
              " '싶은': 235,\n",
              " '재밌음': 236,\n",
              " '있고': 237,\n",
              " '지루한': 238,\n",
              " '영화네요': 239,\n",
              " '것이': 240,\n",
              " '함께': 241,\n",
              " '봤어요': 242,\n",
              " '돈': 243,\n",
              " '괜찮은': 244,\n",
              " '급': 245,\n",
              " '사람이': 246,\n",
              " '마음이': 247,\n",
              " '그나마': 248,\n",
              " '같이': 249,\n",
              " '않는다': 250,\n",
              " '한다': 251,\n",
              " '코미디': 252,\n",
              " '하나도': 253,\n",
              " '내용은': 254,\n",
              " '건': 255,\n",
              " '뭘': 256,\n",
              " '매우': 257,\n",
              " '가슴이': 258,\n",
              " '사랑': 259,\n",
              " '위한': 260,\n",
              " '갈수록': 261,\n",
              " '재미없음': 262,\n",
              " '눈물이': 263,\n",
              " '안되는': 264,\n",
              " '된': 265,\n",
              " '위해': 266,\n",
              " '아니': 267,\n",
              " '를': 268,\n",
              " '어떤': 269,\n",
              " '것을': 270,\n",
              " '간만에': 271,\n",
              " '큰': 272,\n",
              " '연기를': 273,\n",
              " '재밌는': 274,\n",
              " '못한': 275,\n",
              " '대체': 276,\n",
              " '저': 277,\n",
              " '하': 278,\n",
              " '분': 279,\n",
              " '훨씬': 280,\n",
              " '추천': 281,\n",
              " '밖에': 282,\n",
              " '거': 283,\n",
              " '않다': 284,\n",
              " '없었다': 285,\n",
              " '시즌': 286,\n",
              " '나온': 287,\n",
              " '영화중': 288,\n",
              " '기억이': 289,\n",
              " '장면': 290,\n",
              " '대해': 291,\n",
              " '상당히': 292,\n",
              " '사람': 293,\n",
              " '것도': 294,\n",
              " '스토리는': 295,\n",
              " '재밌고': 296,\n",
              " '보지': 297,\n",
              " '다들': 298,\n",
              " '일본': 299,\n",
              " '반전': 300,\n",
              " '영화였다': 301,\n",
              " '영화관에서': 302,\n",
              " '어설픈': 303,\n",
              " '여자': 304,\n",
              " '정도': 305,\n",
              " '결말이': 306,\n",
              " '아쉽다': 307,\n",
              " '점이': 308,\n",
              " '스릴러': 309,\n",
              " '뭔': 310,\n",
              " '뭐지': 311,\n",
              " '감동도': 312,\n",
              " '바로': 313,\n",
              " '했는데': 314,\n",
              " '수준': 315,\n",
              " '아님': 316,\n",
              " '같아요': 317,\n",
              " '생각보다': 318,\n",
              " '꽤': 319,\n",
              " '오늘': 320,\n",
              " '진정한': 321,\n",
              " '사람들이': 322,\n",
              " '배우들이': 323,\n",
              " '우리': 324,\n",
              " '결말': 325,\n",
              " '우리나라': 326,\n",
              " '굉장히': 327,\n",
              " '생각을': 328,\n",
              " '중간에': 329,\n",
              " '전개': 330,\n",
              " '수작': 331,\n",
              " '편': 332,\n",
              " '보니': 333,\n",
              " '뭐야': 334,\n",
              " '음': 335,\n",
              " '걸': 336,\n",
              " '정도로': 337,\n",
              " '연기력': 338,\n",
              " '졸작': 339,\n",
              " '그러나': 340,\n",
              " '누가': 341,\n",
              " '에': 342,\n",
              " '느낌이': 343,\n",
              " '준다': 344,\n",
              " '재미있다': 345,\n",
              " '해서': 346,\n",
              " '재미있어요': 347,\n",
              " '로': 348,\n",
              " '재미는': 349,\n",
              " '기대': 350,\n",
              " '감동적인': 351,\n",
              " '지루함': 352,\n",
              " '감동을': 353,\n",
              " '좋은데': 354,\n",
              " '보게': 355,\n",
              " '봤지만': 356,\n",
              " '같은데': 357,\n",
              " '잔잔한': 358,\n",
              " '나와서': 359,\n",
              " '있지만': 360,\n",
              " '보여주는': 361,\n",
              " '재밌네요': 362,\n",
              " '번': 363,\n",
              " '음악': 364,\n",
              " '나의': 365,\n",
              " '거의': 366,\n",
              " '점을': 367,\n",
              " '장면이': 368,\n",
              " '마음에': 369,\n",
              " '평점을': 370,\n",
              " '있을까': 371,\n",
              " '알고': 372,\n",
              " '당시': 373,\n",
              " '말': 374,\n",
              " '원작을': 375,\n",
              " '사람들': 376,\n",
              " '될': 377,\n",
              " '한마디로': 378,\n",
              " '자체가': 379,\n",
              " '쓰레기영화': 380,\n",
              " '갑자기': 381,\n",
              " '노잼': 382,\n",
              " '그런지': 383,\n",
              " '이영화를': 384,\n",
              " '제가': 385,\n",
              " '볼만한': 386,\n",
              " '시리즈': 387,\n",
              " '주고': 388,\n",
              " '하다': 389,\n",
              " '영화임': 390,\n",
              " '저는': 391,\n",
              " '긴장감': 392,\n",
              " '항상': 393,\n",
              " '제': 394,\n",
              " '충분히': 395,\n",
              " '존나': 396,\n",
              " '대': 397,\n",
              " '훌륭한': 398,\n",
              " '영화인데': 399,\n",
              " '약간': 400,\n",
              " '봐라': 401,\n",
              " '뭐냐': 402,\n",
              " '라는': 403,\n",
              " '말도': 404,\n",
              " '있어서': 405,\n",
              " '아직': 406,\n",
              " '하지': 407,\n",
              " '사람은': 408,\n",
              " '준': 409,\n",
              " '봐서': 410,\n",
              " '그대로': 411,\n",
              " '좋네요': 412,\n",
              " '기분': 413,\n",
              " '대사': 414,\n",
              " '감독은': 415,\n",
              " '아까움': 416,\n",
              " '재미있는': 417,\n",
              " '후': 418,\n",
              " '사람들은': 419,\n",
              " '처음부터': 420,\n",
              " '있는데': 421,\n",
              " '생각하게': 422,\n",
              " '남자': 423,\n",
              " '일단': 424,\n",
              " '가슴': 425,\n",
              " '봤음': 426,\n",
              " '편은': 427,\n",
              " '것은': 428,\n",
              " '없어서': 429,\n",
              " '애니메이션': 430,\n",
              " '비해': 431,\n",
              " '어디서': 432,\n",
              " '했다': 433,\n",
              " '몰입도': 434,\n",
              " '점점': 435,\n",
              " '해도': 436,\n",
              " '생각': 437,\n",
              " '을': 438,\n",
              " '합니다': 439,\n",
              " '이것도': 440,\n",
              " '이딴': 441,\n",
              " '새로운': 442,\n",
              " '평점은': 443,\n",
              " '없네': 444,\n",
              " '류': 445,\n",
              " '다시봐도': 446,\n",
              " '엄청난': 447,\n",
              " '좋겠다': 448,\n",
              " '이영화는': 449,\n",
              " '감동이': 450,\n",
              " '사랑을': 451,\n",
              " '별점': 452,\n",
              " '막장': 453,\n",
              " '인간의': 454,\n",
              " '만': 455,\n",
              " '뿐': 456,\n",
              " '뭐가': 457,\n",
              " '된다': 458,\n",
              " '대단한': 459,\n",
              " '오히려': 460,\n",
              " '캐릭터': 461,\n",
              " '시나리오': 462,\n",
              " '봄': 463,\n",
              " '입니다': 464,\n",
              " '재밌는데': 465,\n",
              " '보는데': 466,\n",
              " '전개가': 467,\n",
              " '주인공이': 468,\n",
              " '무조건': 469,\n",
              " '더욱': 470,\n",
              " '그게': 471,\n",
              " '액션도': 472,\n",
              " '년이': 473,\n",
              " '재미없는': 474,\n",
              " '가지고': 475,\n",
              " '실망': 476,\n",
              " '하면': 477,\n",
              " '은': 478,\n",
              " '없어': 479,\n",
              " '기': 480,\n",
              " '맘에': 481,\n",
              " '완벽한': 482,\n",
              " '수가': 483,\n",
              " '물론': 484,\n",
              " '우연히': 485,\n",
              " '따뜻한': 486,\n",
              " '것이다': 487,\n",
              " '평점에': 488,\n",
              " '애니': 489,\n",
              " '이야기를': 490,\n",
              " '좋음': 491,\n",
              " '그만': 492,\n",
              " '몇': 493,\n",
              " '만들어': 494,\n",
              " '헐': 495,\n",
              " '처음으로': 496,\n",
              " '걸작': 497,\n",
              " '더럽게': 498,\n",
              " '억지로': 499,\n",
              " '전형적인': 500,\n",
              " '도저히': 501,\n",
              " '예전에': 502,\n",
              " '낫다': 503,\n",
              " '전부': 504,\n",
              " '지금도': 505,\n",
              " '좋았어요': 506,\n",
              " '저도': 507,\n",
              " '원래': 508,\n",
              " '영': 509,\n",
              " '장면은': 510,\n",
              " '자꾸': 511,\n",
              " '없네요': 512,\n",
              " '재밌었다': 513,\n",
              " '같네요': 514,\n",
              " '그닥': 515,\n",
              " '듯한': 516,\n",
              " '네이버': 517,\n",
              " '봤네요': 518,\n",
              " '공포': 519,\n",
              " '눈물': 520,\n",
              " '억지': 521,\n",
              " '너무너무': 522,\n",
              " '모르고': 523,\n",
              " '배우가': 524,\n",
              " '안된다': 525,\n",
              " '이미': 526,\n",
              " '그의': 527,\n",
              " '아무것도': 528,\n",
              " '공포영화': 529,\n",
              " '화이팅': 530,\n",
              " '재미있고': 531,\n",
              " '재미없고': 532,\n",
              " '빨리': 533,\n",
              " '그런데': 534,\n",
              " '중에': 535,\n",
              " '한국영화': 536,\n",
              " '유치하고': 537,\n",
              " '미친': 538,\n",
              " '영화에서': 539,\n",
              " '기대하고': 540,\n",
              " '자': 541,\n",
              " '아닌가': 542,\n",
              " '좋았습니다': 543,\n",
              " '또한': 544,\n",
              " '특유의': 545,\n",
              " '등': 546,\n",
              " '지금까지': 547,\n",
              " '좋아': 548,\n",
              " '돈주고': 549,\n",
              " '못하는': 550,\n",
              " '영화보다': 551,\n",
              " '이런게': 552,\n",
              " '있음': 553,\n",
              " '편이': 554,\n",
              " '별로다': 555,\n",
              " '원작': 556,\n",
              " '저런': 557,\n",
              " '아니면': 558,\n",
              " '꿀잼': 559,\n",
              " '영화였습니다': 560,\n",
              " '명작이다': 561,\n",
              " '알': 562,\n",
              " '알았는데': 563,\n",
              " '스토리에': 564,\n",
              " '최악이다': 565,\n",
              " '하게': 566,\n",
              " '이상': 567,\n",
              " '전체적으로': 568,\n",
              " '사실': 569,\n",
              " '모습이': 570,\n",
              " '연출이': 571,\n",
              " '있었다': 572,\n",
              " '혼자': 573,\n",
              " '굳': 574,\n",
              " '느낄': 575,\n",
              " '애들': 576,\n",
              " '잘봤습니다': 577,\n",
              " '못하고': 578,\n",
              " '재미없어': 579,\n",
              " '말고': 580,\n",
              " '화려한': 581,\n",
              " '어느': 582,\n",
              " '너무나도': 583,\n",
              " '모습을': 584,\n",
              " '이런걸': 585,\n",
              " '괜히': 586,\n",
              " '믿고': 587,\n",
              " '재밌었어요': 588,\n",
              " '아니지만': 589,\n",
              " '진부한': 590,\n",
              " '왜이리': 591,\n",
              " '무엇보다': 592,\n",
              " '하는데': 593,\n",
              " '이야기가': 594,\n",
              " '마음을': 595,\n",
              " '영상': 596,\n",
              " '세': 597,\n",
              " '드라마가': 598,\n",
              " '유치한': 599,\n",
              " '마치': 600,\n",
              " '로맨스': 601,\n",
              " '느끼게': 602,\n",
              " '영화라': 603,\n",
              " '막': 604,\n",
              " '여자가': 605,\n",
              " '좋았고': 606,\n",
              " '이해': 607,\n",
              " '영화중에': 608,\n",
              " '다만': 609,\n",
              " '어렸을때': 610,\n",
              " '흠': 611,\n",
              " '소재는': 612,\n",
              " '다소': 613,\n",
              " '자신의': 614,\n",
              " '돈이': 615,\n",
              " '알았다': 616,\n",
              " '어릴때': 617,\n",
              " '까지': 618,\n",
              " '감사합니다': 619,\n",
              " '비슷한': 620,\n",
              " '나를': 621,\n",
              " '있어': 622,\n",
              " '점수': 623,\n",
              " '왜이렇게': 624,\n",
              " '아이들이': 625,\n",
              " '왠지': 626,\n",
              " '끝': 627,\n",
              " '좋았음': 628,\n",
              " '드라마를': 629,\n",
              " '부분이': 630,\n",
              " '여주인공': 631,\n",
              " '라고': 632,\n",
              " '삶을': 633,\n",
              " '지금봐도': 634,\n",
              " '스토리를': 635,\n",
              " '이젠': 636,\n",
              " '그렇고': 637,\n",
              " '반전이': 638,\n",
              " '영화이다': 639,\n",
              " '점준다': 640,\n",
              " '보고나서': 641,\n",
              " '역시나': 642,\n",
              " '확실히': 643,\n",
              " '같습니다': 644,\n",
              " '깊은': 645,\n",
              " '감독님': 646,\n",
              " '오': 647,\n",
              " '아놔': 648,\n",
              " '슬프다': 649,\n",
              " '않음': 650,\n",
              " '년에': 651,\n",
              " '허접한': 652,\n",
              " '이영화가': 653,\n",
              " '언제': 654,\n",
              " '웃음': 655,\n",
              " '있다는': 656,\n",
              " '이런거': 657,\n",
              " '전기세가': 658,\n",
              " '세상에': 659,\n",
              " '봐야': 660,\n",
              " '살': 661,\n",
              " '에휴': 662,\n",
              " '처음이다': 663,\n",
              " '매력적인': 664,\n",
              " '발연기': 665,\n",
              " '본다': 666,\n",
              " '여전히': 667,\n",
              " '대단하다': 668,\n",
              " '내용을': 669,\n",
              " '뭔지': 670,\n",
              " '보지마세요': 671,\n",
              " '높은': 672,\n",
              " '감동적이고': 673,\n",
              " '사람을': 674,\n",
              " '가는': 675,\n",
              " '시간을': 676,\n",
              " '앞으로': 677,\n",
              " '영화지만': 678,\n",
              " '날': 679,\n",
              " '만들지': 680,\n",
              " '눈이': 681,\n",
              " '스토리와': 682,\n",
              " '좋았는데': 683,\n",
              " '소재를': 684,\n",
              " '슬픈': 685,\n",
              " '아닐까': 686,\n",
              " '유쾌한': 687,\n",
              " '옛날': 688,\n",
              " '년전': 689,\n",
              " '소재': 690,\n",
              " '같음': 691,\n",
              " '기대를': 692,\n",
              " '아쉬운': 693,\n",
              " '드라마는': 694,\n",
              " '통해': 695,\n",
              " '영화보고': 696,\n",
              " '모르는': 697,\n",
              " '그들의': 698,\n",
              " '않았다': 699,\n",
              " '과연': 700,\n",
              " '했지만': 701,\n",
              " '함': 702,\n",
              " '연기에': 703,\n",
              " '나만': 704,\n",
              " '아름답다': 705,\n",
              " '든다': 706,\n",
              " '보여준': 707,\n",
              " '아름답고': 708,\n",
              " '부족한': 709,\n",
              " '전에': 710,\n",
              " '난다': 711,\n",
              " '생각한다': 712,\n",
              " '생각합니다': 713,\n",
              " '먼저': 714,\n",
              " '삼류': 715,\n",
              " '재미를': 716,\n",
              " '이정도면': 717,\n",
              " '이유가': 718,\n",
              " '이런영화': 719,\n",
              " '캐스팅': 720,\n",
              " '굳이': 721,\n",
              " '보기엔': 722,\n",
              " '눈을': 723,\n",
              " '아무': 724,\n",
              " '연기력이': 725,\n",
              " '그런가': 726,\n",
              " '나온다': 727,\n",
              " '재미있음': 728,\n",
              " '아닌데': 729,\n",
              " '봤었는데': 730,\n",
              " '나왔으면': 731,\n",
              " '티비에서': 732,\n",
              " '있을': 733,\n",
              " '나오고': 734,\n",
              " '있다면': 735,\n",
              " '연출도': 736,\n",
              " '사랑이': 737,\n",
              " '지': 738,\n",
              " '느껴지는': 739,\n",
              " '독특한': 740,\n",
              " '힘든': 741,\n",
              " '역대': 742,\n",
              " '볼만함': 743,\n",
              " '가서': 744,\n",
              " '볼때마다': 745,\n",
              " '영화냐': 746,\n",
              " '볼수록': 747,\n",
              " '없지만': 748,\n",
              " '액션은': 749,\n",
              " '매력이': 750,\n",
              " '보는게': 751,\n",
              " '음악이': 752,\n",
              " '부터': 753,\n",
              " '귀엽고': 754,\n",
              " '년도': 755,\n",
              " '재밌습니다': 756,\n",
              " '귀여운': 757,\n",
              " '이리': 758,\n",
              " '마라': 759,\n",
              " '해주는': 760,\n",
              " '어색한': 761,\n",
              " '주인공의': 762,\n",
              " '추천합니다': 763,\n",
              " '있었던': 764,\n",
              " '재밌었는데': 765,\n",
              " '지난': 766,\n",
              " '공감이': 767,\n",
              " '노래': 768,\n",
              " '진심으로': 769,\n",
              " '봤다가': 770,\n",
              " '남는다': 771,\n",
              " '보시길': 772,\n",
              " '정말로': 773,\n",
              " '이상한': 774,\n",
              " '액션이': 775,\n",
              " '평범한': 776,\n",
              " '그럭저럭': 777,\n",
              " '안하고': 778,\n",
              " '휴': 779,\n",
              " '좋은영화': 780,\n",
              " '그다지': 781,\n",
              " '연기와': 782,\n",
              " '우리가': 783,\n",
              " '제목': 784,\n",
              " '일': 785,\n",
              " '어이없는': 786,\n",
              " '지루': 787,\n",
              " '질질': 788,\n",
              " '음악도': 789,\n",
              " '드는': 790,\n",
              " '순수한': 791,\n",
              " '현실을': 792,\n",
              " '알게': 793,\n",
              " '안되고': 794,\n",
              " '아오': 795,\n",
              " '분위기': 796,\n",
              " '작가': 797,\n",
              " '끝나고': 798,\n",
              " '중간중간': 799,\n",
              " '졸라': 800,\n",
              " '어린': 801,\n",
              " '재밌었음': 802,\n",
              " '안됨': 803,\n",
              " '필요없는': 804,\n",
              " '해준': 805,\n",
              " '개연성': 806,\n",
              " '그럼': 807,\n",
              " '감동과': 808,\n",
              " '구성': 809,\n",
              " '단': 810,\n",
              " '가볍게': 811,\n",
              " '하네요': 812,\n",
              " '봤으면': 813,\n",
              " '점대': 814,\n",
              " '배우의': 815,\n",
              " '사랑하는': 816,\n",
              " '참고': 817,\n",
              " '처음엔': 818,\n",
              " '이후': 819,\n",
              " '지루해서': 820,\n",
              " '살짝': 821,\n",
              " '나에게': 822,\n",
              " '아까워': 823,\n",
              " '존': 824,\n",
              " '마음': 825,\n",
              " '사랑에': 826,\n",
              " '보이는': 827,\n",
              " '애들이': 828,\n",
              " '그리': 829,\n",
              " '이건뭐': 830,\n",
              " '되었다': 831,\n",
              " '시대를': 832,\n",
              " '가진': 833,\n",
              " '하면서': 834,\n",
              " '보고싶다': 835,\n",
              " '여기': 836,\n",
              " '재미없네': 837,\n",
              " '필요': 838,\n",
              " '이유는': 839,\n",
              " '슬프고': 840,\n",
              " '소재가': 841,\n",
              " '지금은': 842,\n",
              " '게다가': 843,\n",
              " '신선한': 844,\n",
              " '결말은': 845,\n",
              " '추억의': 846,\n",
              " '싫다': 847,\n",
              " '죄다': 848,\n",
              " '대한민국': 849,\n",
              " '지루해': 850,\n",
              " '볼수': 851,\n",
              " '속': 852,\n",
              " '쩝': 853,\n",
              " '제목이': 854,\n",
              " '좋아서': 855,\n",
              " '처럼': 856,\n",
              " '암튼': 857,\n",
              " '좋습니다': 858,\n",
              " '나옴': 859,\n",
              " '있습니다': 860,\n",
              " '되지': 861,\n",
              " '멋지다': 862,\n",
              " '몰입이': 863,\n",
              " '몰라도': 864,\n",
              " '했던': 865,\n",
              " '가끔': 866,\n",
              " '있어요': 867,\n",
              " '필요없다': 868,\n",
              " '결말도': 869,\n",
              " '그래': 870,\n",
              " '기분이': 871,\n",
              " '작가가': 872,\n",
              " '사람의': 873,\n",
              " '만들고': 874,\n",
              " '프랑스': 875,\n",
              " '누구나': 876,\n",
              " '반전도': 877,\n",
              " '판타지': 878,\n",
              " '저렇게': 879,\n",
              " '어이가': 880,\n",
              " '단지': 881,\n",
              " '별루': 882,\n",
              " '지루하지': 883,\n",
              " '서로': 884,\n",
              " '자기': 885,\n",
              " '더빙': 886,\n",
              " '현실': 887,\n",
              " '매력': 888,\n",
              " '잘만든': 889,\n",
              " '만들': 890,\n",
              " '재미있네요': 891,\n",
              " '알바': 892,\n",
              " '열심히': 893,\n",
              " '말을': 894,\n",
              " '벌써': 895,\n",
              " '사랑과': 896,\n",
              " '낮아서': 897,\n",
              " '만들어진': 898,\n",
              " '느낌을': 899,\n",
              " '밑에': 900,\n",
              " '더이상': 901,\n",
              " '글쎄': 902,\n",
              " '단순한': 903,\n",
              " '짜증': 904,\n",
              " '덕분에': 905,\n",
              " '언제나': 906,\n",
              " '짜증나는': 907,\n",
              " '삶의': 908,\n",
              " '와우': 909,\n",
              " '여주': 910,\n",
              " '시절': 911,\n",
              " '인생을': 912,\n",
              " '어휴': 913,\n",
              " '봐야할': 914,\n",
              " '미국': 915,\n",
              " '실제': 916,\n",
              " '나중에': 917,\n",
              " '떨어지는': 918,\n",
              " '없나': 919,\n",
              " '점짜리': 920,\n",
              " '설정': 921,\n",
              " '초반에': 922,\n",
              " '건지': 923,\n",
              " '모습': 924,\n",
              " '아닌듯': 925,\n",
              " '뛰어난': 926,\n",
              " '초반': 927,\n",
              " '있지': 928,\n",
              " '극장판': 929,\n",
              " '그렇다고': 930,\n",
              " '되게': 931,\n",
              " '긴장감도': 932,\n",
              " '수도': 933,\n",
              " '맞는': 934,\n",
              " '보니까': 935,\n",
              " '내인생': 936,\n",
              " '않아': 937,\n",
              " '각본': 938,\n",
              " '엔딩': 939,\n",
              " '않게': 940,\n",
              " '쓰레기다': 941,\n",
              " '불구하고': 942,\n",
              " '인생의': 943,\n",
              " '첫': 944,\n",
              " '좀더': 945,\n",
              " '옛날에': 946,\n",
              " '재밌네': 947,\n",
              " '신선하고': 948,\n",
              " '무엇을': 949,\n",
              " '한데': 950,\n",
              " '소재로': 951,\n",
              " '평생': 952,\n",
              " '만들었다': 953,\n",
              " '같아': 954,\n",
              " '쓴': 955,\n",
              " '뻔하고': 956,\n",
              " '나서': 957,\n",
              " '머': 958,\n",
              " '잔잔하고': 959,\n",
              " '몇번을': 960,\n",
              " '되고': 961,\n",
              " '모든게': 962,\n",
              " '않을': 963,\n",
              " '만화': 964,\n",
              " '있게': 965,\n",
              " '웃기고': 966,\n",
              " '배우들도': 967,\n",
              " '기대했는데': 968,\n",
              " '못했다': 969,\n",
              " '영화에요': 970,\n",
              " '비추': 971,\n",
              " '인': 972,\n",
              " '수준이': 973,\n",
              " '엉성한': 974,\n",
              " '마세요': 975,\n",
              " '이제야': 976,\n",
              " '재미있었다': 977,\n",
              " '딱히': 978,\n",
              " '이쁘고': 979,\n",
              " '눈물을': 980,\n",
              " '망작': 981,\n",
              " '무서운': 982,\n",
              " '여배우': 983,\n",
              " '있나': 984,\n",
              " '킬링타임용': 985,\n",
              " '많다': 986,\n",
              " '최고입니다': 987,\n",
              " '작품이': 988,\n",
              " '다시한번': 989,\n",
              " '재밌어': 990,\n",
              " '볼만하다': 991,\n",
              " '작품을': 992,\n",
              " '겁나': 993,\n",
              " '재미없어요': 994,\n",
              " '이런영화가': 995,\n",
              " '떠나서': 996,\n",
              " '점수를': 997,\n",
              " '해': 998,\n",
              " '높다': 999,\n",
              " '우와': 1000,\n",
              " ...}"
            ]
          },
          "metadata": {},
          "execution_count": 11
        }
      ]
    },
    {
      "cell_type": "code",
      "source": [
        "# 문장의 최대 길이\n",
        "max_len = 100\n",
        "train_padded = tf.keras.preprocessing.sequence.pad_sequences(train_sequence, maxlen=max_len)\n",
        "val_padded = tf.keras.preprocessing.sequence.pad_sequences(val_sequence, maxlen=max_len)"
      ],
      "metadata": {
        "id": "zfJGD9zVaIJh"
      },
      "execution_count": null,
      "outputs": []
    },
    {
      "cell_type": "code",
      "source": [
        "# 단어사전 크기\n",
        "vocab_size = len(tokenizer.word_index) + 1\n",
        "# 모델 생성\n",
        "output_dim = 16\n",
        "print(train_padded.shape)  # 100\n",
        "kmodel = tf.keras.Sequential([\n",
        "    tf.keras.layers.Input(shape=(max_len,)),\n",
        "    tf.keras.layers.Embedding(vocab_size,output_dim),\n",
        "    tf.keras.layers.SimpleRNN(16,activation='relu'),\n",
        "    tf.keras.layers.Dense(1, activation='sigmoid')\n",
        "])\n",
        "kmodel.compile(optimizer='adam',\n",
        "              loss = tf.keras.losses.binary_crossentropy,\n",
        "              metrics=['accuracy'])\n",
        "# 모델 학습\n",
        "history = kmodel.fit(train_padded, train_labels, epochs=5,\n",
        "                    validation_data=(val_padded, val_labels),batch_size = 32)"
      ],
      "metadata": {
        "colab": {
          "base_uri": "https://localhost:8080/"
        },
        "collapsed": true,
        "id": "IaojFLHNcsV-",
        "outputId": "ab07d641-0c6e-4342-dd7d-247ee98b765d"
      },
      "execution_count": null,
      "outputs": [
        {
          "output_type": "stream",
          "name": "stdout",
          "text": [
            "(159993, 100)\n",
            "Epoch 1/5\n",
            "\u001b[1m5000/5000\u001b[0m \u001b[32m━━━━━━━━━━━━━━━━━━━━\u001b[0m\u001b[37m\u001b[0m \u001b[1m52s\u001b[0m 10ms/step - accuracy: 0.7398 - loss: 0.4908 - val_accuracy: 0.8292 - val_loss: 0.3735\n",
            "Epoch 2/5\n",
            "\u001b[1m5000/5000\u001b[0m \u001b[32m━━━━━━━━━━━━━━━━━━━━\u001b[0m\u001b[37m\u001b[0m \u001b[1m47s\u001b[0m 9ms/step - accuracy: 0.9320 - loss: 0.1848 - val_accuracy: 0.8227 - val_loss: 0.4168\n",
            "Epoch 3/5\n",
            "\u001b[1m5000/5000\u001b[0m \u001b[32m━━━━━━━━━━━━━━━━━━━━\u001b[0m\u001b[37m\u001b[0m \u001b[1m47s\u001b[0m 9ms/step - accuracy: 0.9665 - loss: 0.0897 - val_accuracy: 0.8090 - val_loss: 0.5321\n",
            "Epoch 4/5\n",
            "\u001b[1m5000/5000\u001b[0m \u001b[32m━━━━━━━━━━━━━━━━━━━━\u001b[0m\u001b[37m\u001b[0m \u001b[1m81s\u001b[0m 9ms/step - accuracy: 0.9781 - loss: 0.0564 - val_accuracy: 0.8089 - val_loss: 0.6067\n",
            "Epoch 5/5\n",
            "\u001b[1m5000/5000\u001b[0m \u001b[32m━━━━━━━━━━━━━━━━━━━━\u001b[0m\u001b[37m\u001b[0m \u001b[1m46s\u001b[0m 9ms/step - accuracy: 0.9839 - loss: 0.0405 - val_accuracy: 0.8105 - val_loss: 0.6576\n"
          ]
        }
      ]
    },
    {
      "cell_type": "code",
      "source": [
        "import matplotlib.pyplot as plt\n",
        "plt.plot(history.history['accuracy'])\n",
        "plt.plot(history.history['val_accuracy'])\n",
        "plt.show()"
      ],
      "metadata": {
        "colab": {
          "base_uri": "https://localhost:8080/",
          "height": 430
        },
        "id": "J9d9yOS_c-fz",
        "outputId": "4e80881f-8389-4880-9dd1-dae3cacda177"
      },
      "execution_count": null,
      "outputs": [
        {
          "output_type": "display_data",
          "data": {
            "text/plain": [
              "<Figure size 640x480 with 1 Axes>"
            ],
            "image/png": "[encoded data removed]"
          },
          "metadata": {}
        }
      ]
    },
    {
      "cell_type": "markdown",
      "source": [
        "추론 predict"
      ],
      "metadata": {
        "id": "e2CI3sdfh2Th"
      }
    },
    {
      "cell_type": "code",
      "source": [
        "import numpy as np\n",
        "new_texts = ['이 영화는 싫어하는 사람에게 추천해 주세요.','너무 재미 있습니다.']\n",
        "new_sequence = tokenizer.texts_to_sequences(new_texts)\n",
        "new_padded = tf.keras.preprocessing.sequence.pad_sequences(new_sequence, maxlen=max_len)\n",
        "predics = kmodel.predict(new_padded)\n",
        "np.round(predics,5), predics"
      ],
      "metadata": {
        "colab": {
          "base_uri": "https://localhost:8080/"
        },
        "id": "IH2Tyx6dh31M",
        "outputId": "a1065ff7-f5ab-48e1-9fff-00589cd17d31"
      },
      "execution_count": null,
      "outputs": [
        {
          "output_type": "stream",
          "name": "stdout",
          "text": [
            "\u001b[1m1/1\u001b[0m \u001b[32m━━━━━━━━━━━━━━━━━━━━\u001b[0m\u001b[37m\u001b[0m \u001b[1m0s\u001b[0m 30ms/step\n"
          ]
        },
        {
          "output_type": "execute_result",
          "data": {
            "text/plain": [
              "(array([[0.08816],\n",
              "        [0.99578]], dtype=float32),\n",
              " array([[0.0881606],\n",
              "        [0.9957782]], dtype=float32))"
            ]
          },
          "metadata": {},
          "execution_count": 23
        }
      ]
    },
    {
      "cell_type": "markdown",
      "source": [
        "성능개선\n",
        "```\n",
        "데이터 증강\n",
        "EDA(Easy Data Augumentation)\n",
        "KoEDA\n",
        "  동어의치환, 단어삭제, 단어순서변경,랜덤단어삽입\n",
        "  형태소 Okt  \n",
        "\n",
        "토근화\n",
        "  BPE : 연속된 단어쌍을 병합해서 사전을 생성\n",
        "  WordPiece : BERT라는 언어모델에서 사용, 확률 기반\n",
        "  SentencePiece : 공백을 무시하고 학습\n",
        "\n",
        "Word Embedding 기법\n",
        "Word2Vec  : 단어의 분포를 고려한 벡터\n",
        "FastText : 서브워드를 학습 희귀단어도 처리가능\n",
        "BERT Embedding : 문맥을 고려한 동적 벡터\n",
        "ELECTRA : GAN 방식으로 작은 모델에서도 성능 향상\n",
        "\n",
        "전처리기법\n",
        "이모티콘이나 특수문자제거\n",
        "정규화 : 'ㅋㅋㅋ'  재미있다  'ㅠ.ㅠ' 지루하다 재미없다\n",
        "불용어제거 : 의미없는 단어  그래서, 그런데. 하지만\n",
        "```\n",
        "\n",
        "```\n",
        "RNN\n",
        "  데이터 증강\n",
        "  최신 토크나이져 적용\n",
        "  벡터방식\n",
        "  정제(불용어, 특수문자, 이모티콘등등)\n",
        "  정규화 : 필요시.. 줄임말을 표준어 표현\n",
        "```"
      ],
      "metadata": {
        "id": "rsg6-SHCi8iq"
      }
    },
    {
      "cell_type": "markdown",
      "source": [
        "기존코드에 Word2Vec 적용\n",
        "```\n",
        "Word2Vec 사전 학습된 임베딩을 사용\n",
        "  Word2Vec 모델 학습\n",
        "  학습된 가중치를 keras Embedding 레이어 적용\n",
        "```"
      ],
      "metadata": {
        "id": "tkFMtdbtl3oo"
      }
    },
    {
      "cell_type": "code",
      "source": [
        "!pip install --upgrade --force-reinstall gensim numpy"
      ],
      "metadata": {
        "colab": {
          "base_uri": "https://localhost:8080/",
          "height": 869
        },
        "id": "rUh7pmqWmw-t",
        "outputId": "8aa34455-b116-4c8e-d156-4b8fa34bf23d"
      },
      "execution_count": null,
      "outputs": [
        {
          "output_type": "stream",
          "name": "stdout",
          "text": [
            "Collecting gensim\n",
            "  Using cached gensim-4.3.3-cp311-cp311-manylinux_2_17_x86_64.manylinux2014_x86_64.whl.metadata (8.1 kB)\n",
            "Collecting numpy\n",
            "  Downloading numpy-2.2.4-cp311-cp311-manylinux_2_17_x86_64.manylinux2014_x86_64.whl.metadata (62 kB)\n",
            "\u001b[2K     \u001b[90m━━━━━━━━━━━━━━━━━━━━━━━━━━━━━━━━━━━━━━━━\u001b[0m \u001b[32m62.0/62.0 kB\u001b[0m \u001b[31m3.0 MB/s\u001b[0m eta \u001b[36m0:00:00\u001b[0m\n",
            "\u001b[?25h  Using cached numpy-1.26.4-cp311-cp311-manylinux_2_17_x86_64.manylinux2014_x86_64.whl.metadata (61 kB)\n",
            "Collecting scipy<1.14.0,>=1.7.0 (from gensim)\n",
            "  Using cached scipy-1.13.1-cp311-cp311-manylinux_2_17_x86_64.manylinux2014_x86_64.whl.metadata (60 kB)\n",
            "Collecting smart-open>=1.8.1 (from gensim)\n",
            "  Downloading smart_open-7.1.0-py3-none-any.whl.metadata (24 kB)\n",
            "Collecting wrapt (from smart-open>=1.8.1->gensim)\n",
            "  Downloading wrapt-1.17.2-cp311-cp311-manylinux_2_5_x86_64.manylinux1_x86_64.manylinux_2_17_x86_64.manylinux2014_x86_64.whl.metadata (6.4 kB)\n",
            "Using cached gensim-4.3.3-cp311-cp311-manylinux_2_17_x86_64.manylinux2014_x86_64.whl (26.7 MB)\n",
            "Using cached numpy-1.26.4-cp311-cp311-manylinux_2_17_x86_64.manylinux2014_x86_64.whl (18.3 MB)\n",
            "Using cached scipy-1.13.1-cp311-cp311-manylinux_2_17_x86_64.manylinux2014_x86_64.whl (38.6 MB)\n",
            "Downloading smart_open-7.1.0-py3-none-any.whl (61 kB)\n",
            "\u001b[2K   \u001b[90m━━━━━━━━━━━━━━━━━━━━━━━━━━━━━━━━━━━━━━━━\u001b[0m \u001b[32m61.7/61.7 kB\u001b[0m \u001b[31m5.4 MB/s\u001b[0m eta \u001b[36m0:00:00\u001b[0m\n",
            "\u001b[?25hDownloading wrapt-1.17.2-cp311-cp311-manylinux_2_5_x86_64.manylinux1_x86_64.manylinux_2_17_x86_64.manylinux2014_x86_64.whl (83 kB)\n",
            "\u001b[2K   \u001b[90m━━━━━━━━━━━━━━━━━━━━━━━━━━━━━━━━━━━━━━━━\u001b[0m \u001b[32m83.2/83.2 kB\u001b[0m \u001b[31m8.8 MB/s\u001b[0m eta \u001b[36m0:00:00\u001b[0m\n",
            "\u001b[?25hInstalling collected packages: wrapt, numpy, smart-open, scipy, gensim\n",
            "  Attempting uninstall: wrapt\n",
            "    Found existing installation: wrapt 1.17.2\n",
            "    Uninstalling wrapt-1.17.2:\n",
            "      Successfully uninstalled wrapt-1.17.2\n",
            "  Attempting uninstall: numpy\n",
            "    Found existing installation: numpy 1.26.4\n",
            "    Uninstalling numpy-1.26.4:\n",
            "      Successfully uninstalled numpy-1.26.4\n",
            "  Attempting uninstall: smart-open\n",
            "    Found existing installation: smart-open 7.1.0\n",
            "    Uninstalling smart-open-7.1.0:\n",
            "      Successfully uninstalled smart-open-7.1.0\n",
            "  Attempting uninstall: scipy\n",
            "    Found existing installation: scipy 1.13.1\n",
            "    Uninstalling scipy-1.13.1:\n",
            "      Successfully uninstalled scipy-1.13.1\n",
            "  Attempting uninstall: gensim\n",
            "    Found existing installation: gensim 4.3.3\n",
            "    Uninstalling gensim-4.3.3:\n",
            "      Successfully uninstalled gensim-4.3.3\n",
            "Successfully installed gensim-4.3.3 numpy-1.26.4 scipy-1.13.1 smart-open-7.1.0 wrapt-1.17.2\n"
          ]
        },
        {
          "output_type": "display_data",
          "data": {
            "application/vnd.colab-display-data+json": {
              "pip_warning": {
                "packages": [
                  "smart_open",
                  "wrapt"
                ]
              },
              "id": "4d858a43acd54f1f93abfcde2585a290"
            }
          },
          "metadata": {}
        }
      ]
    },
    {
      "cell_type": "code",
      "source": [
        "import pandas as pd\n",
        "import string, re\n",
        "import tensorflow as tf\n",
        "from gensim.models.word2vec import Word2Vec\n",
        "from sklearn.model_selection import train_test_split\n",
        "\n",
        "movie_df = pd.read_csv('https://raw.githubusercontent.com/e9t/nsmc/master/ratings.txt',sep='\\t')\n",
        "movie_df.dropna(inplace=True)\n",
        "def custom_standardztion(input_data):\n",
        "  input_data = re.sub(r'<.*?>',\"\",input_data)\n",
        "  # 특수문자를 공백으로 변경 string 라이브러리 이용\n",
        "  input_data = re.sub(r'[^가-힣\\s]',\" \",input_data)  # 한글과 공백만 남기\n",
        "  return input_data.strip()\n",
        "X = movie_df['document'].map(custom_standardztion)\n",
        "y = movie_df['label']\n",
        "train_texts, val_texts, train_labels, val_labels \\\n",
        "= train_test_split(X, y, test_size=.2, random_state=42)\n",
        "\n",
        "tokenizer = tf.keras.preprocessing.text.Tokenizer()\n",
        "tokenizer.fit_on_texts(train_texts)\n",
        "\n",
        "train_sequence = tokenizer.texts_to_sequences(train_texts)\n",
        "val_sequence = tokenizer.texts_to_sequences(val_texts)\n",
        "\n",
        "w2v_model = Word2Vec(train_sequence, vector_size=100, window=5, min_count=1, workers=4)"
      ],
      "metadata": {
        "collapsed": true,
        "id": "tw9ro4N5m8G5"
      },
      "execution_count": null,
      "outputs": []
    },
    {
      "cell_type": "markdown",
      "source": [
        "# Word2vec 임베딩 벡터  - 유사도 기반 비스한 단어를 찾아주는 기능"
      ],
      "metadata": {
        "id": "zFhGLXlIpkV0"
      }
    },
    {
      "cell_type": "markdown",
      "source": [],
      "metadata": {
        "id": "7Ky7gLKApuKy"
      }
    },
    {
      "cell_type": "markdown",
      "source": [
        "정리\n",
        "```\n",
        "RNN\n",
        "  순환 신경망 : 이전상태(hidden)가 다음상태에 업데이트\n",
        "  문장의 단어는 앞의 단어에 영향을 받는다\n",
        "  시계열데이터 x축이 시간과 관련된 수치데이터\n",
        "\n",
        "전처리 - 문장을 - 토큰화 - 시퀀스(문장의 길이를 통일,정수형 인코딩)\n",
        "- 임베딩(단어를 좌표평면에 벡터화 유사한 단어는 유사한 공간에 위치) - 신경망(RNN) - 분류기(FC)\n",
        "```"
      ],
      "metadata": {
        "id": "YmhP3ujCpqo3"
      }
    },
    {
      "cell_type": "code",
      "source": [],
      "metadata": {
        "id": "sYqGjqDzqTYA"
      },
      "execution_count": null,
      "outputs": []
    }
  ]
}