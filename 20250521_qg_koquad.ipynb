{
 "cells": [
  {
   "cell_type": "code",
   "execution_count": 1,
   "id": "e4443683-465b-4555-9693-d7de335e29ff",
   "metadata": {},
   "outputs": [],
   "source": [
    "!pip install --upgrade datasets torch transformers accelerate bitsandbytes peft -qqq"
   ]
  },
  {
   "cell_type": "code",
   "execution_count": 2,
   "id": "6a83fb86-4842-4415-b482-3d7fbc40ebb4",
   "metadata": {
    "scrolled": true
   },
   "outputs": [
    {
     "data": {
      "application/vnd.jupyter.widget-view+json": {
       "model_id": "fda6a5c990914f57a90da055956207aa",
       "version_major": 2,
       "version_minor": 0
      },
      "text/plain": [
       "README.md:   0%|          | 0.00/6.53k [00:00<?, ?B/s]"
      ]
     },
     "metadata": {},
     "output_type": "display_data"
    },
    {
     "data": {
      "application/vnd.jupyter.widget-view+json": {
       "model_id": "98feb56a70e849e6ad8032c2b3038eb1",
       "version_major": 2,
       "version_minor": 0
      },
      "text/plain": [
       "qg_koquad.py:   0%|          | 0.00/3.29k [00:00<?, ?B/s]"
      ]
     },
     "metadata": {},
     "output_type": "display_data"
    },
    {
     "data": {
      "application/vnd.jupyter.widget-view+json": {
       "model_id": "4182c6f26f334fec8293a9657a74b83f",
       "version_major": 2,
       "version_minor": 0
      },
      "text/plain": [
       "0000.parquet:   0%|          | 0.00/192M [00:00<?, ?B/s]"
      ]
     },
     "metadata": {},
     "output_type": "display_data"
    },
    {
     "data": {
      "application/vnd.jupyter.widget-view+json": {
       "model_id": "cd8900fc7be447438822e92477390a9f",
       "version_major": 2,
       "version_minor": 0
      },
      "text/plain": [
       "0000.parquet:   0%|          | 0.00/5.88M [00:00<?, ?B/s]"
      ]
     },
     "metadata": {},
     "output_type": "display_data"
    },
    {
     "data": {
      "application/vnd.jupyter.widget-view+json": {
       "model_id": "7a7b68916dc643a387e5ae3709d1fa39",
       "version_major": 2,
       "version_minor": 0
      },
      "text/plain": [
       "0000.parquet:   0%|          | 0.00/20.1M [00:00<?, ?B/s]"
      ]
     },
     "metadata": {},
     "output_type": "display_data"
    },
    {
     "data": {
      "application/vnd.jupyter.widget-view+json": {
       "model_id": "2c02de15851d4670a42e20410c27f8ec",
       "version_major": 2,
       "version_minor": 0
      },
      "text/plain": [
       "Generating train split:   0%|          | 0/54556 [00:00<?, ? examples/s]"
      ]
     },
     "metadata": {},
     "output_type": "display_data"
    },
    {
     "data": {
      "application/vnd.jupyter.widget-view+json": {
       "model_id": "74a4c7611b224ebc96c0dab9c7f6fc21",
       "version_major": 2,
       "version_minor": 0
      },
      "text/plain": [
       "Generating validation split:   0%|          | 0/5766 [00:00<?, ? examples/s]"
      ]
     },
     "metadata": {},
     "output_type": "display_data"
    },
    {
     "data": {
      "application/vnd.jupyter.widget-view+json": {
       "model_id": "2344c9a31c98401894948ce2f86b944c",
       "version_major": 2,
       "version_minor": 0
      },
      "text/plain": [
       "Generating test split:   0%|          | 0/5766 [00:00<?, ? examples/s]"
      ]
     },
     "metadata": {},
     "output_type": "display_data"
    }
   ],
   "source": [
    "from datasets import load_dataset\n",
    "dataset = load_dataset('lmqg/qg_koquad')"
   ]
  },
  {
   "cell_type": "code",
   "execution_count": 33,
   "id": "d0500ec8-c28b-47f8-ae35-e6d00fd77fce",
   "metadata": {},
   "outputs": [],
   "source": [
    "test_dataset = dataset['test']\n",
    "train_dataset = dataset['train'].select(range(1000))  # 데이터셋 유지\n",
    "val_dataset = dataset['validation']"
   ]
  },
  {
   "cell_type": "code",
   "execution_count": 36,
   "id": "51f8f2b2-4af6-42db-be64-6f8a85c00345",
   "metadata": {},
   "outputs": [
    {
     "data": {
      "text/plain": [
       "dict_keys(['answer', 'paragraph_question', 'question', 'sentence', 'paragraph', 'sentence_answer', 'paragraph_answer', 'paragraph_sentence', 'paragraph_id'])"
      ]
     },
     "execution_count": 36,
     "metadata": {},
     "output_type": "execute_result"
    }
   ],
   "source": [
    "train_dataset[0].keys()"
   ]
  },
  {
   "cell_type": "code",
   "execution_count": 37,
   "id": "ba77cc8c-3de7-4b0b-8968-7a70a0a12c81",
   "metadata": {},
   "outputs": [],
   "source": [
    "# 토크나이져 polyglot-ko-1.3b  gpt계열의 생성형\n",
    "from transformers import AutoTokenizer, AutoModelForCausalLM\n",
    "tokenizer = AutoTokenizer.from_pretrained(\"EleutherAI/polyglot-ko-1.3b\")\n",
    "tokenizer.pad_token = tokenizer.eos_token"
   ]
  },
  {
   "cell_type": "code",
   "execution_count": 38,
   "id": "baf8a888-999a-4e6f-9f55-df5a3acad86d",
   "metadata": {},
   "outputs": [
    {
     "data": {
      "application/vnd.jupyter.widget-view+json": {
       "model_id": "37f9c2fa38f74c53890ec3f695496e39",
       "version_major": 2,
       "version_minor": 0
      },
      "text/plain": [
       "Map:   0%|          | 0/1000 [00:00<?, ? examples/s]"
      ]
     },
     "metadata": {},
     "output_type": "display_data"
    }
   ],
   "source": [
    "def preprocess(examples):\n",
    "    text = \\\n",
    "    f\"\"\"paragraph:{examples['paragraph']}    \n",
    "    question:{examples['question']}    \n",
    "    answer:{examples['answer']}\"\"\"\n",
    "    return tokenizer(text, padding='max_length', truncation=True, max_length=512)        \n",
    "remove_columns = train_dataset[0].keys()\n",
    "tokenized_datasets = train_dataset.map(preprocess,remove_columns = remove_columns)"
   ]
  },
  {
   "cell_type": "code",
   "execution_count": 39,
   "id": "888016e0-d82a-43e9-ac0b-f0ccaa16ab51",
   "metadata": {},
   "outputs": [
    {
     "data": {
      "application/vnd.jupyter.widget-view+json": {
       "model_id": "1d55d732e099419483112061f1ca7e35",
       "version_major": 2,
       "version_minor": 0
      },
      "text/plain": [
       "Loading checkpoint shards:   0%|          | 0/3 [00:00<?, ?it/s]"
      ]
     },
     "metadata": {},
     "output_type": "display_data"
    }
   ],
   "source": [
    "# 일반 fine_tuning\n",
    "model = AutoModelForCausalLM.from_pretrained(\"EleutherAI/polyglot-ko-1.3b\")"
   ]
  },
  {
   "cell_type": "code",
   "execution_count": 40,
   "id": "e2e159b8-df09-46e7-b466-04e3e0b7c60f",
   "metadata": {},
   "outputs": [
    {
     "data": {
      "text/html": [
       "\n",
       "    <div>\n",
       "      \n",
       "      <progress value='500' max='500' style='width:300px; height:20px; vertical-align: middle;'></progress>\n",
       "      [500/500 03:31, Epoch 1/1]\n",
       "    </div>\n",
       "    <table border=\"1\" class=\"dataframe\">\n",
       "  <thead>\n",
       " <tr style=\"text-align: left;\">\n",
       "      <th>Step</th>\n",
       "      <th>Training Loss</th>\n",
       "    </tr>\n",
       "  </thead>\n",
       "  <tbody>\n",
       "    <tr>\n",
       "      <td>500</td>\n",
       "      <td>2.183900</td>\n",
       "    </tr>\n",
       "  </tbody>\n",
       "</table><p>"
      ],
      "text/plain": [
       "<IPython.core.display.HTML object>"
      ]
     },
     "metadata": {},
     "output_type": "display_data"
    },
    {
     "data": {
      "text/plain": [
       "TrainOutput(global_step=500, training_loss=2.18390087890625, metrics={'train_runtime': 212.2002, 'train_samples_per_second': 4.713, 'train_steps_per_second': 2.356, 'total_flos': 3902074257408000.0, 'train_loss': 2.18390087890625, 'epoch': 1.0})"
      ]
     },
     "execution_count": 40,
     "metadata": {},
     "output_type": "execute_result"
    }
   ],
   "source": [
    "from transformers import Trainer,TrainingArguments\n",
    "training_args = TrainingArguments(\n",
    "    output_dir = './polyglot_model2',\n",
    "    overwrite_output_dir = True,\n",
    "    num_train_epochs = 1,    \n",
    "    per_device_train_batch_size = 2,\n",
    "    save_steps = 1000,\n",
    "    save_total_limit = 2,\n",
    ")\n",
    "# 입력 텍스트를 토크나이져한후 모델이 사용할수 있도록 동적 패딩을 적용\n",
    "# maksed language modeling 을 위해서 일부 토큰을 [MASK]로 변경 (BERT같은 모델에) mlm=Ture\n",
    "# mlm=False GPT 같은 생성모델\n",
    "from transformers import DataCollatorForLanguageModeling\n",
    "data_collator = DataCollatorForLanguageModeling(tokenizer=tokenizer, mlm=False)\n",
    "trainer = Trainer(    \n",
    "    model = model,\n",
    "    args = training_args,\n",
    "    data_collator = data_collator,\n",
    "    train_dataset = tokenized_datasets\n",
    ")\n",
    "trainer.train()"
   ]
  },
  {
   "cell_type": "code",
   "execution_count": 42,
   "id": "7f5349b1-ca1e-4dcd-b5a9-bf4e5ae7f526",
   "metadata": {},
   "outputs": [],
   "source": [
    "paragraph =  '천상의 모후의 성경상의 출처는 신약성경에서 찾아볼 수 있다. 마리아는 임금인 메시아의 어머니이다. 루카 복음서 1장 32절에서 대천사 가브리엘은 마리아에게 예수의 잉태를 예고하면서 그가 “큰 인물이 되시고 지극히 높으신 분의 아드님이라 불리실 것이다. 주 하느님께서 그분의 조상 다윗의 왕좌를 그분께 주시어, 그분께서 야곱 집안을 영원히 다스리시리니 그분의 나라는 끝이 없을 것이다.”라고 말하였다. 이 말에 따라 기독교에서는 다윗 임금의 왕위가 예수에게로 계승된 것으로 보고 있다. 고대 이스라엘의 역사를 보면 임금의 어머니를 모후(혹은 여왕)라고 부르며 모셨다. 그리하여 예수가 다윗과 솔로몬의 혈통을 이어받은 천상의 임금이므로, 그 어머니인 마리아는 천상의 모후가 되는 셈이다.',\n",
    "question =  '역사에서 임금의 어머니를 모후 혹은 여왕이라고 부르며 모신것은?'"
   ]
  },
  {
   "cell_type": "code",
   "execution_count": 50,
   "id": "be015240-e928-477e-90c7-e56378bb78a7",
   "metadata": {},
   "outputs": [
    {
     "name": "stderr",
     "output_type": "stream",
     "text": [
      "The attention mask and the pad token id were not set. As a consequence, you may observe unexpected behavior. Please pass your input's `attention_mask` to obtain reliable results.\n",
      "Setting `pad_token_id` to `eos_token_id`:2 for open-end generation.\n"
     ]
    },
    {
     "name": "stdout",
     "output_type": "stream",
     "text": [
      "paragraph:('천상의 모후의 성경상의 출처는 신약성경에서 찾아볼 수 있다. 마리아는 임금인 메시아의 어머니이다. 루카 복음서 1장 32절에서 대천사 가브리엘은 마리아에게 예수의 잉태를 예고하면서 그가 “큰 인물이 되시고 지극히 높으신 분의 아드님이라 불리실 것이다. 주 하느님께서 그분의 조상 다윗의 왕좌를 그분께 주시어, 그분께서 야곱 집안을 영원히 다스리시리니 그분의 나라는 끝이 없을 것이다.”라고 말하였다. 이 말에 따라 기독교에서는 다윗 임금의 왕위가 예수에게로 계승된 것으로 보고 있다. 고대 이스라엘의 역사를 보면 임금의 어머니를 모후(혹은 여왕)라고 부르며 모셨다. 그리하여 예수가 다윗과 솔로몬의 혈통을 이어받은 천상의 임금이므로, 그 어머니인 마리아는 천상의 모후가 되는 셈이다.',)    \n",
      "    question:역사에서 임금의 어머니를 모후 혹은 여왕이라고 부르며 모신것은?    \n",
      "    answer:고대 이스라엘의 역사를 보면 임금의 어머니를 모후라고 부르며 모셨다.    \n",
      "    answer:예수가 다윗과 솔로몬의 혈통을 이어받은 천상의 임금이므로, 그 어머니인 마리아는 천상의 모후가 되는 셈이다.    \n",
      "    answer:고대 이스라엘의 역사를 보면 임금의 어머니를 모후라고 부르며 모셨다.    \n",
      "    answer:예수가 다윗과 솔로몬의 혈통을 이어받은\n"
     ]
    }
   ],
   "source": [
    "import torch\n",
    "device = 'cuda' if torch.cuda.is_available() else 'cpu'\n",
    "input_text =  f\"\"\"paragraph:{paragraph}    \n",
    "    question:{question}    \n",
    "    answer:\"\"\"\n",
    "input_ids = tokenizer.encode(input_text, return_tensors='pt')\n",
    "input_ids = input_ids.to(device)\n",
    "\n",
    "max_length = 256\n",
    "model = model.to(device)\n",
    "\n",
    "test_output = model.generate(\n",
    "    input_ids,\n",
    "    do_sample=True,\n",
    "    # max_length=max_length,\n",
    "    temperature = 0.2,\n",
    "    max_new_tokens = 128\n",
    ")\n",
    "print(tokenizer.decode(test_output.squeeze(),skip_special_tokens=True))"
   ]
  },
  {
   "cell_type": "code",
   "execution_count": null,
   "id": "c56a54dd-8b72-4dc1-91ee-ce56848b7a53",
   "metadata": {},
   "outputs": [],
   "source": []
  }
 ],
 "metadata": {
  "kernelspec": {
   "display_name": "Python 3 (ipykernel)",
   "language": "python",
   "name": "python3"
  },
  "language_info": {
   "codemirror_mode": {
    "name": "ipython",
    "version": 3
   },
   "file_extension": ".py",
   "mimetype": "text/x-python",
   "name": "python",
   "nbconvert_exporter": "python",
   "pygments_lexer": "ipython3",
   "version": "3.10.12"
  }
 },
 "nbformat": 4,
 "nbformat_minor": 5
}
