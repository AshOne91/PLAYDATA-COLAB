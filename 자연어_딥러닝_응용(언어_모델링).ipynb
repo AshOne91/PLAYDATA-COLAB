{
  "nbformat": 4,
  "nbformat_minor": 0,
  "metadata": {
    "colab": {
      "provenance": [],
      "gpuType": "T4",
      "include_colab_link": true
    },
    "kernelspec": {
      "name": "python3",
      "display_name": "Python 3"
    },
    "language_info": {
      "name": "python"
    },
    "accelerator": "GPU",
    "widgets": {
      "application/vnd.jupyter.widget-state+json": {
        "64f79db0b8514f98a807d427ee3fb5ea": {
          "model_module": "@jupyter-widgets/controls",
          "model_name": "HBoxModel",
          "model_module_version": "1.5.0",
          "state": {
            "_dom_classes": [],
            "_model_module": "@jupyter-widgets/controls",
            "_model_module_version": "1.5.0",
            "_model_name": "HBoxModel",
            "_view_count": null,
            "_view_module": "@jupyter-widgets/controls",
            "_view_module_version": "1.5.0",
            "_view_name": "HBoxView",
            "box_style": "",
            "children": [
              "IPY_MODEL_079555c816ab462c9bc6ff7abe106c73",
              "IPY_MODEL_7bdd7d0bc61f409b973e18fda71d16a7",
              "IPY_MODEL_1574dbb198104399b907d9f70ad2871d"
            ],
            "layout": "IPY_MODEL_e0dd6cf86a444b07bec43f1543be240c"
          }
        },
        "079555c816ab462c9bc6ff7abe106c73": {
          "model_module": "@jupyter-widgets/controls",
          "model_name": "HTMLModel",
          "model_module_version": "1.5.0",
          "state": {
            "_dom_classes": [],
            "_model_module": "@jupyter-widgets/controls",
            "_model_module_version": "1.5.0",
            "_model_name": "HTMLModel",
            "_view_count": null,
            "_view_module": "@jupyter-widgets/controls",
            "_view_module_version": "1.5.0",
            "_view_name": "HTMLView",
            "description": "",
            "description_tooltip": null,
            "layout": "IPY_MODEL_2bdd2b4d3a3e48319e7c7bdd8a1f4131",
            "placeholder": "​",
            "style": "IPY_MODEL_c08434f88bbe4343b441e83c4bea6b52",
            "value": "model.safetensors: 100%"
          }
        },
        "7bdd7d0bc61f409b973e18fda71d16a7": {
          "model_module": "@jupyter-widgets/controls",
          "model_name": "FloatProgressModel",
          "model_module_version": "1.5.0",
          "state": {
            "_dom_classes": [],
            "_model_module": "@jupyter-widgets/controls",
            "_model_module_version": "1.5.0",
            "_model_name": "FloatProgressModel",
            "_view_count": null,
            "_view_module": "@jupyter-widgets/controls",
            "_view_module_version": "1.5.0",
            "_view_name": "ProgressView",
            "bar_style": "success",
            "description": "",
            "description_tooltip": null,
            "layout": "IPY_MODEL_cd4ea1a733a54391b9fc40fc36993add",
            "max": 495589764,
            "min": 0,
            "orientation": "horizontal",
            "style": "IPY_MODEL_2d4d0978669245729ce61738da5efd09",
            "value": 495589764
          }
        },
        "1574dbb198104399b907d9f70ad2871d": {
          "model_module": "@jupyter-widgets/controls",
          "model_name": "HTMLModel",
          "model_module_version": "1.5.0",
          "state": {
            "_dom_classes": [],
            "_model_module": "@jupyter-widgets/controls",
            "_model_module_version": "1.5.0",
            "_model_name": "HTMLModel",
            "_view_count": null,
            "_view_module": "@jupyter-widgets/controls",
            "_view_module_version": "1.5.0",
            "_view_name": "HTMLView",
            "description": "",
            "description_tooltip": null,
            "layout": "IPY_MODEL_777c7c9f5af342faafd1089a16c1379b",
            "placeholder": "​",
            "style": "IPY_MODEL_31cf04e098074ab8b8cf97465fb66f08",
            "value": " 496M/496M [00:41&lt;00:00, 14.3MB/s]"
          }
        },
        "e0dd6cf86a444b07bec43f1543be240c": {
          "model_module": "@jupyter-widgets/base",
          "model_name": "LayoutModel",
          "model_module_version": "1.2.0",
          "state": {
            "_model_module": "@jupyter-widgets/base",
            "_model_module_version": "1.2.0",
            "_model_name": "LayoutModel",
            "_view_count": null,
            "_view_module": "@jupyter-widgets/base",
            "_view_module_version": "1.2.0",
            "_view_name": "LayoutView",
            "align_content": null,
            "align_items": null,
            "align_self": null,
            "border": null,
            "bottom": null,
            "display": null,
            "flex": null,
            "flex_flow": null,
            "grid_area": null,
            "grid_auto_columns": null,
            "grid_auto_flow": null,
            "grid_auto_rows": null,
            "grid_column": null,
            "grid_gap": null,
            "grid_row": null,
            "grid_template_areas": null,
            "grid_template_columns": null,
            "grid_template_rows": null,
            "height": null,
            "justify_content": null,
            "justify_items": null,
            "left": null,
            "margin": null,
            "max_height": null,
            "max_width": null,
            "min_height": null,
            "min_width": null,
            "object_fit": null,
            "object_position": null,
            "order": null,
            "overflow": null,
            "overflow_x": null,
            "overflow_y": null,
            "padding": null,
            "right": null,
            "top": null,
            "visibility": null,
            "width": null
          }
        },
        "2bdd2b4d3a3e48319e7c7bdd8a1f4131": {
          "model_module": "@jupyter-widgets/base",
          "model_name": "LayoutModel",
          "model_module_version": "1.2.0",
          "state": {
            "_model_module": "@jupyter-widgets/base",
            "_model_module_version": "1.2.0",
            "_model_name": "LayoutModel",
            "_view_count": null,
            "_view_module": "@jupyter-widgets/base",
            "_view_module_version": "1.2.0",
            "_view_name": "LayoutView",
            "align_content": null,
            "align_items": null,
            "align_self": null,
            "border": null,
            "bottom": null,
            "display": null,
            "flex": null,
            "flex_flow": null,
            "grid_area": null,
            "grid_auto_columns": null,
            "grid_auto_flow": null,
            "grid_auto_rows": null,
            "grid_column": null,
            "grid_gap": null,
            "grid_row": null,
            "grid_template_areas": null,
            "grid_template_columns": null,
            "grid_template_rows": null,
            "height": null,
            "justify_content": null,
            "justify_items": null,
            "left": null,
            "margin": null,
            "max_height": null,
            "max_width": null,
            "min_height": null,
            "min_width": null,
            "object_fit": null,
            "object_position": null,
            "order": null,
            "overflow": null,
            "overflow_x": null,
            "overflow_y": null,
            "padding": null,
            "right": null,
            "top": null,
            "visibility": null,
            "width": null
          }
        },
        "c08434f88bbe4343b441e83c4bea6b52": {
          "model_module": "@jupyter-widgets/controls",
          "model_name": "DescriptionStyleModel",
          "model_module_version": "1.5.0",
          "state": {
            "_model_module": "@jupyter-widgets/controls",
            "_model_module_version": "1.5.0",
            "_model_name": "DescriptionStyleModel",
            "_view_count": null,
            "_view_module": "@jupyter-widgets/base",
            "_view_module_version": "1.2.0",
            "_view_name": "StyleView",
            "description_width": ""
          }
        },
        "cd4ea1a733a54391b9fc40fc36993add": {
          "model_module": "@jupyter-widgets/base",
          "model_name": "LayoutModel",
          "model_module_version": "1.2.0",
          "state": {
            "_model_module": "@jupyter-widgets/base",
            "_model_module_version": "1.2.0",
            "_model_name": "LayoutModel",
            "_view_count": null,
            "_view_module": "@jupyter-widgets/base",
            "_view_module_version": "1.2.0",
            "_view_name": "LayoutView",
            "align_content": null,
            "align_items": null,
            "align_self": null,
            "border": null,
            "bottom": null,
            "display": null,
            "flex": null,
            "flex_flow": null,
            "grid_area": null,
            "grid_auto_columns": null,
            "grid_auto_flow": null,
            "grid_auto_rows": null,
            "grid_column": null,
            "grid_gap": null,
            "grid_row": null,
            "grid_template_areas": null,
            "grid_template_columns": null,
            "grid_template_rows": null,
            "height": null,
            "justify_content": null,
            "justify_items": null,
            "left": null,
            "margin": null,
            "max_height": null,
            "max_width": null,
            "min_height": null,
            "min_width": null,
            "object_fit": null,
            "object_position": null,
            "order": null,
            "overflow": null,
            "overflow_x": null,
            "overflow_y": null,
            "padding": null,
            "right": null,
            "top": null,
            "visibility": null,
            "width": null
          }
        },
        "2d4d0978669245729ce61738da5efd09": {
          "model_module": "@jupyter-widgets/controls",
          "model_name": "ProgressStyleModel",
          "model_module_version": "1.5.0",
          "state": {
            "_model_module": "@jupyter-widgets/controls",
            "_model_module_version": "1.5.0",
            "_model_name": "ProgressStyleModel",
            "_view_count": null,
            "_view_module": "@jupyter-widgets/base",
            "_view_module_version": "1.2.0",
            "_view_name": "StyleView",
            "bar_color": null,
            "description_width": ""
          }
        },
        "777c7c9f5af342faafd1089a16c1379b": {
          "model_module": "@jupyter-widgets/base",
          "model_name": "LayoutModel",
          "model_module_version": "1.2.0",
          "state": {
            "_model_module": "@jupyter-widgets/base",
            "_model_module_version": "1.2.0",
            "_model_name": "LayoutModel",
            "_view_count": null,
            "_view_module": "@jupyter-widgets/base",
            "_view_module_version": "1.2.0",
            "_view_name": "LayoutView",
            "align_content": null,
            "align_items": null,
            "align_self": null,
            "border": null,
            "bottom": null,
            "display": null,
            "flex": null,
            "flex_flow": null,
            "grid_area": null,
            "grid_auto_columns": null,
            "grid_auto_flow": null,
            "grid_auto_rows": null,
            "grid_column": null,
            "grid_gap": null,
            "grid_row": null,
            "grid_template_areas": null,
            "grid_template_columns": null,
            "grid_template_rows": null,
            "height": null,
            "justify_content": null,
            "justify_items": null,
            "left": null,
            "margin": null,
            "max_height": null,
            "max_width": null,
            "min_height": null,
            "min_width": null,
            "object_fit": null,
            "object_position": null,
            "order": null,
            "overflow": null,
            "overflow_x": null,
            "overflow_y": null,
            "padding": null,
            "right": null,
            "top": null,
            "visibility": null,
            "width": null
          }
        },
        "31cf04e098074ab8b8cf97465fb66f08": {
          "model_module": "@jupyter-widgets/controls",
          "model_name": "DescriptionStyleModel",
          "model_module_version": "1.5.0",
          "state": {
            "_model_module": "@jupyter-widgets/controls",
            "_model_module_version": "1.5.0",
            "_model_name": "DescriptionStyleModel",
            "_view_count": null,
            "_view_module": "@jupyter-widgets/base",
            "_view_module_version": "1.2.0",
            "_view_name": "StyleView",
            "description_width": ""
          }
        }
      }
    }
  },
  "cells": [
    {
      "cell_type": "markdown",
      "metadata": {
        "id": "view-in-github",
        "colab_type": "text"
      },
      "source": [
        "<a href=\"https://colab.research.google.com/github/AshOne91/PLAYDATA-COLAB/blob/main/%EC%9E%90%EC%97%B0%EC%96%B4_%EB%94%A5%EB%9F%AC%EB%8B%9D_%EC%9D%91%EC%9A%A9(%EC%96%B8%EC%96%B4_%EB%AA%A8%EB%8D%B8%EB%A7%81).ipynb\" target=\"_parent\"><img src=\"https://colab.research.google.com/assets/colab-badge.svg\" alt=\"Open In Colab\"/></a>"
      ]
    },
    {
      "cell_type": "code",
      "execution_count": null,
      "metadata": {
        "id": "hRKDntZfj3Hp"
      },
      "outputs": [],
      "source": []
    },
    {
      "cell_type": "markdown",
      "source": [
        "Transformer\n",
        "```\n",
        "RNN/LSTM 의 한계\n",
        "  순차처리 : 단어를 하나씩 읽어서 문맥을 이해, 초기 정보 잊음\n",
        "  병렬화 불가 : GPU를 활용한 빠른 학습이 불가\n",
        "Transformer 장점\n",
        "  병렬 처리\n",
        "  self-attention  : 단어간의 관계를 직접계산 긴 문맥도 잘 파악\n",
        "Transformer의 전체 구조\n",
        "  Encoder : 입력문장을 벡터로변환  \"영화가 재미있다\"->의미벡터\n",
        "  Decoder : 출력문장생성, 번역.\n",
        "    구성 : 인코더와 유사 + masked self-attention + encoder-decoder attention\n",
        "  self-attention  : 단어간 중요도를 계산 \"영화가\" \"재미있다\" 강하게 연될\n",
        "Positional Encoding : 단어의 위치를 나타내는 벡터를 추가\n",
        "  방식 : 사인/코사인 함수로 고정된 위치벡터를 생성\n",
        "```"
      ],
      "metadata": {
        "id": "QqepEWOjtCwB"
      }
    },
    {
      "cell_type": "markdown",
      "source": [
        "self attention layer 구현"
      ],
      "metadata": {
        "id": "dQcV3WHHwB33"
      }
    },
    {
      "cell_type": "code",
      "source": [
        "import torch\n",
        "import torch.nn as nn\n",
        "import numpy as np\n",
        "import matplotlib.pyplot as plt"
      ],
      "metadata": {
        "id": "-PO7pqv6wV2W"
      },
      "execution_count": null,
      "outputs": []
    },
    {
      "cell_type": "code",
      "source": [
        "from typing import Tuple\n",
        "class SelfAttention(nn.Module):\n",
        "  def __init__(self,embed_dim:int, num_heads:int  = 1):\n",
        "    super().__init__()\n",
        "    self.embed_dim = embed_dim\n",
        "    self.num_heads = num_heads\n",
        "    self.head_dim = embed_dim // num_heads  # 각 헤드가 처리할 feature 크기\n",
        "    self.query = nn.Linear(embed_dim, embed_dim)\n",
        "    self.key = nn.Linear(embed_dim, embed_dim)\n",
        "    self.value = nn.Linear(embed_dim, embed_dim)\n",
        "    # softmax 전에 값이 너무커지는 것을 방지해서 학습 안정화\n",
        "    self.scale = torch.sqrt(torch.FloatTensor([self.head_dim]))\n",
        "  def forward(self, x:torch.Tensor)->Tuple[torch.Tensor, torch.Tensor]:\n",
        "    batch_size,seq_len,embed_dim = x.size()  # x.shape\n",
        "    Q = self.query(x)\n",
        "    K = self.key(x)\n",
        "    V = self.value(x)\n",
        "    # 멀티해드 분할 (batch_size, head수, seq길이,head차원) 형태로 분할\n",
        "    # seq_len, num_heads 축을 swap --> 계산할때 해드별로 묶어서 편하게하려고\n",
        "    Q = Q.view(batch_size,seq_len,self.num_heads,self.head_dim).transpose(1,2)\n",
        "    K = K.view(batch_size,seq_len,self.num_heads,self.head_dim).transpose(1,2)\n",
        "    V = V.view(batch_size,seq_len,self.num_heads,self.head_dim).transpose(1,2)\n",
        "    # 어텐션 스코어(얼마나 주목할지)\n",
        "    scores = torch.matmul(Q, K.transpose(-2,-1)) / self.scale\n",
        "    attn_weight = torch.softmax(scores,dim=-1)  # 0~1 확률 가장중요한 토큰에 높은 점수를 주기위해서\n",
        "    out = torch.matmul(attn_weight,V)\n",
        "    # 헤드들을 다시 합쳐서 원래 차원으로 복원\n",
        "    # batch_size, num_head, seq_len, head_dim -->\n",
        "    # batch_size, seq_len, num_head, head_dim\n",
        "    # contiguous 메모리 재 정렬해서 연속적인 배열형태로 만들어줌(view 에러 방지)\n",
        "    out = out.transpose(1,2).contiguous().view(batch_size,seq_len,embed_dim)\n",
        "    return out, attn_weight\n",
        "\n"
      ],
      "metadata": {
        "id": "0uYtopdUwUwk"
      },
      "execution_count": null,
      "outputs": []
    },
    {
      "cell_type": "code",
      "source": [
        "# 샘플데이터\n",
        "batch_size = 1\n",
        "seq_len = 5\n",
        "embed_dim = 64\n",
        "num_head = 1\n",
        "\n",
        "# 임의의 임력데이터(토큰화된 데이터)\n",
        "x = torch.randn(batch_size,seq_len,embed_dim)\n",
        "print(f'입력 데이터 : {x.shape}')\n",
        "\n",
        "# self-attention 적용\n",
        "device = 'cuda' if torch.cuda.is_available() else 'cpu'\n",
        "model = SelfAttention(embed_dim,num_head).to(device)\n",
        "x = x.to(device)\n",
        "out, attn_weight = model(x)\n",
        "print(f'출력 데이터 : {out.shape}')\n",
        "print(f'어텐션 가중치 : {attn_weight.shape}') # 1 4 5 5  (batch,headnum,query seq, key seq)"
      ],
      "metadata": {
        "colab": {
          "base_uri": "https://localhost:8080/"
        },
        "id": "t2YQq4mUwzJP",
        "outputId": "ba0a2059-8624-4cea-92f8-91842569046b"
      },
      "execution_count": null,
      "outputs": [
        {
          "output_type": "stream",
          "name": "stdout",
          "text": [
            "입력 데이터 : torch.Size([1, 5, 64])\n",
            "출력 데이터 : torch.Size([1, 5, 64])\n",
            "어텐션 가중치 : torch.Size([1, 1, 5, 5])\n"
          ]
        }
      ]
    },
    {
      "cell_type": "code",
      "source": [
        "attn_weight[0,0,2,4]  # 0.2061  0번헤드에서 2번째 토큰(queyr) 4번째 토큰(key)를 0.206"
      ],
      "metadata": {
        "colab": {
          "base_uri": "https://localhost:8080/"
        },
        "id": "HxU0uRAy3AJV",
        "outputId": "8718b66f-10ba-4dea-9fb3-cc7d4e7e9115"
      },
      "execution_count": null,
      "outputs": [
        {
          "output_type": "execute_result",
          "data": {
            "text/plain": [
              "tensor(0.1247, grad_fn=<SelectBackward0>)"
            ]
          },
          "metadata": {},
          "execution_count": 28
        }
      ]
    },
    {
      "cell_type": "markdown",
      "source": [
        "어텐션 가중치 시각화"
      ],
      "metadata": {
        "id": "NhQ8UiEn8ebB"
      }
    },
    {
      "cell_type": "code",
      "source": [
        "# 첫번째해드 가중치 시각화 (쿼리와 키들의 어텐션 값)\n",
        "import seaborn as sns\n",
        "attn_weights = attn_weight[0,0].detach().cpu().numpy()\n",
        "sns.heatmap(attn_weights, annot=True, cmap='Blues')\n",
        "plt.xlabel('Query')\n",
        "plt.ylabel('Key')\n",
        "plt.show()\n"
      ],
      "metadata": {
        "colab": {
          "base_uri": "https://localhost:8080/",
          "height": 449
        },
        "id": "-KT280wT2_7p",
        "outputId": "d6b0b159-f9cc-4db1-ef1a-904e18db2ae5"
      },
      "execution_count": null,
      "outputs": [
        {
          "output_type": "display_data",
          "data": {
            "text/plain": [
              "<Figure size 640x480 with 2 Axes>"
            ],
            "image/png": "[encoded data removed]"
          },
          "metadata": {}
        }
      ]
    },
    {
      "cell_type": "code",
      "source": [
        "# 실제 단어로 시뮬레이션\n",
        "vocab = {'<PAD>':0,'<UNK>':1,'영화':2,'재밌다':3,'별로':4,'최고':5}\n",
        "embedding_layer = nn.Embedding(len(vocab), embed_dim).to(device)\n",
        "# 영화 재미있다 최고\n",
        "sample_tokens = torch.LongTensor([[vocab['영화'] # 패딩 추가\n",
        "                                  ,vocab['재밌다'],vocab['최고'],0,0 ]]).to(device)\n",
        "print(sample_tokens.shape)\n",
        "sample_embed = embedding_layer(sample_tokens)\n",
        "print(sample_embed.shape)\n",
        "# self attention 적용\n",
        "out, attn_weight = model(sample_embed)\n",
        "print(f'샘플 출력 shpae : {out.shape}')\n",
        "print(f'어텐션 가중치 shape : {attn_weight.shape}')\n",
        "\n",
        "# 첫번째해드 가중치 시각화 (쿼리와 키들의 어텐션 값)\n",
        "import seaborn as sns\n",
        "attn_weights = attn_weight[0,0].detach().cpu().numpy()\n",
        "sns.heatmap(attn_weights, annot=True, cmap='Blues')\n",
        "plt.xlabel('Query')\n",
        "plt.ylabel('Key')\n",
        "plt.show()\n",
        "attn_weights  # 가로방향은 key(참조)  세로는 query(질문)\n",
        "# 영화입장에서는 재밌다   재밌다입장에서는 영화를 제일 많이 봄\n",
        "# 어텐션이 많이 분산되어 있다.\n",
        "#  각 행이 query 에 대한 key의 어텐션 가중치"
      ],
      "metadata": {
        "colab": {
          "base_uri": "https://localhost:8080/",
          "height": 628
        },
        "id": "hxkH6yd1-tla",
        "outputId": "f7955d87-94d4-40bd-f4c8-67c69dde1092"
      },
      "execution_count": null,
      "outputs": [
        {
          "output_type": "stream",
          "name": "stdout",
          "text": [
            "torch.Size([1, 5])\n",
            "torch.Size([1, 5, 64])\n",
            "샘플 출력 shpae : torch.Size([1, 5, 64])\n",
            "어텐션 가중치 shape : torch.Size([1, 1, 5, 5])\n"
          ]
        },
        {
          "output_type": "display_data",
          "data": {
            "text/plain": [
              "<Figure size 640x480 with 2 Axes>"
            ],
            "image/png": "[encoded data removed]"
          },
          "metadata": {}
        },
        {
          "output_type": "execute_result",
          "data": {
            "text/plain": [
              "array([[0.3422436 , 0.17211176, 0.15283185, 0.1664064 , 0.1664064 ],\n",
              "       [0.14650576, 0.20735797, 0.258056  , 0.1940401 , 0.1940401 ],\n",
              "       [0.14264579, 0.19365641, 0.2356148 , 0.21404146, 0.21404146],\n",
              "       [0.12169097, 0.13461132, 0.1634371 , 0.2901303 , 0.2901303 ],\n",
              "       [0.12169097, 0.13461132, 0.1634371 , 0.2901303 , 0.2901303 ]],\n",
              "      dtype=float32)"
            ]
          },
          "metadata": {},
          "execution_count": 30
        }
      ]
    },
    {
      "cell_type": "code",
      "source": [
        "attn_weights.sum(axis=1)"
      ],
      "metadata": {
        "colab": {
          "base_uri": "https://localhost:8080/"
        },
        "id": "1HsrJKTzIzvL",
        "outputId": "9cc05ffe-8b2f-47ed-851d-d94e149ee1c7"
      },
      "execution_count": null,
      "outputs": [
        {
          "output_type": "execute_result",
          "data": {
            "text/plain": [
              "array([1., 1., 1., 1., 1.], dtype=float32)"
            ]
          },
          "metadata": {},
          "execution_count": 39
        }
      ]
    },
    {
      "cell_type": "markdown",
      "source": [
        "Pretraining\n",
        "```\n",
        "MLM : Masked Laguage Nodel\n",
        "  영화가 [mask] 재밌다\n",
        "  특징 : 양방향 문맥,문장 전체를 보고 단어간 관계 학습\n",
        "  용도 : 문맥이해가중요한 작업(감성분석, 질의응답)\n",
        "  빈칸채우기로 문장의 전체 맥락을 이해\n",
        "CLM : Casual Laguage Nodel\n",
        "  이전단어들만 보고 다음단어를 예측: 영화가 매우-> 재밌다\n",
        "  특징:단방향 문맥이해, 텍스트생성에 최적화\n",
        "  용도 : 텍스트생성(챗봇,스토리생성)\n",
        "  다음문장 예측하기\n",
        "BERT vs GPT 학습방식\n",
        "  BERT 방식 : MLM + NSP(Next Sequence Prediction) 문장의 일부를 마스크한다음 두 문장의 연결 여부 판단\n",
        "  Transformer Encoder만사용 양방향 문맥학습\n",
        "  용도 : 텍스트 분류, 질의응답,개체명 인식\n",
        "  문장을 깊이 분석\n",
        "GPT(Generative Pre-Trained Transfomer)\n",
        "  CML : 이전단어로 다음 단어 예측\n",
        "  Transformer Decoder만사용 , 단방향 학습\n",
        "  텍스트생성, 대화, 스토리 작성\n",
        "  창의적인 이야기를 이어간다\n",
        "BERT는 문맥이해도 GPT 유연한 생성    \n",
        "```"
      ],
      "metadata": {
        "id": "qLNQ2qu8FCKg"
      }
    },
    {
      "cell_type": "code",
      "source": [
        "import torch\n",
        "from transformers import BertTokenizer, BertForMaskedLM, GPT2Tokenizer, GPT2LMHeadModel\n",
        "import pandas as pd\n",
        "import numpy as np"
      ],
      "metadata": {
        "id": "V0B0HYZTBW-n"
      },
      "execution_count": null,
      "outputs": []
    },
    {
      "cell_type": "code",
      "source": [
        "# 한글 Bert 와 한글 gpt-2 모델 및 토크나이져\n",
        "bert_tokenizer = BertTokenizer.from_pretrained('klue/bert-base')\n",
        "bert_model = BertForMaskedLM.from_pretrained('klue/bert-base')\n",
        "\n",
        "device = 'cuda' if torch.cuda.is_available() else 'cpu'\n",
        "bert_model.to(device)\n",
        "gpt_model.to(device)\n",
        "# 샘플문장\n",
        "sample_text = '영화가 매우 재미있다'\n",
        "masked_text = '영화가 [MASK] 재미있다'\n",
        "from typing import List, Dict\n",
        "def predict_bert_maksed(text:str, top_k:int = 5) :\n",
        "  inputs = bert_tokenizer(text, return_tensors='pt',padding=True\n",
        "                          , truncation=True).to(device)\n",
        "\n",
        "  mask_idx = torch.where(inputs['input_ids'] == bert_tokenizer.mask_token_id)[1].item()\n",
        "  bert_model.eval()\n",
        "  with torch.no_grad():\n",
        "    outputs = bert_model(**inputs)\n",
        "    logits = outputs.logits[0,mask_idx]\n",
        "    probs = torch.softmax(logits,dim=-1)\n",
        "    top_probs,top_ids =  torch.topk(probs,k=top_k)\n",
        "  result = []\n",
        "  for prob, idx in zip(top_probs, top_ids):\n",
        "    token = bert_tokenizer.decode([idx.item()])\n",
        "    result.append({'token':token,'prob':prob.item()})\n",
        "  return result\n",
        "\n",
        "bert_result = predict_bert_maksed(masked_text)\n",
        "print(bert_result)"
      ],
      "metadata": {
        "colab": {
          "base_uri": "https://localhost:8080/"
        },
        "collapsed": true,
        "id": "eO1ynQtvL0n3",
        "outputId": "c0392808-7a88-468c-ab1a-07b4567b019e"
      },
      "execution_count": null,
      "outputs": [
        {
          "output_type": "stream",
          "name": "stderr",
          "text": [
            "Some weights of the model checkpoint at klue/bert-base were not used when initializing BertForMaskedLM: ['bert.pooler.dense.bias', 'bert.pooler.dense.weight', 'cls.seq_relationship.bias', 'cls.seq_relationship.weight']\n",
            "- This IS expected if you are initializing BertForMaskedLM from the checkpoint of a model trained on another task or with another architecture (e.g. initializing a BertForSequenceClassification model from a BertForPreTraining model).\n",
            "- This IS NOT expected if you are initializing BertForMaskedLM from the checkpoint of a model that you expect to be exactly identical (initializing a BertForSequenceClassification model from a BertForSequenceClassification model).\n",
            "The tokenizer class you load from this checkpoint is not the same type as the class this function is called from. It may result in unexpected tokenization. \n",
            "The tokenizer class you load from this checkpoint is 'GPT2Tokenizer'. \n",
            "The class this function is called from is 'PreTrainedTokenizerFast'.\n"
          ]
        },
        {
          "output_type": "stream",
          "name": "stdout",
          "text": [
            "[{'token': '너무', 'prob': 0.5043820738792419}, {'token': '참', 'prob': 0.10569418221712112}, {'token': '진짜', 'prob': 0.0575430765748024}, {'token': '정말', 'prob': 0.03511859476566315}, {'token': '더', 'prob': 0.035070035606622696}]\n"
          ]
        }
      ]
    },
    {
      "cell_type": "code",
      "source": [
        "# 한글 gpt\n",
        "from transformers import PreTrainedTokenizerFast\n",
        "gpt_tokenizer = PreTrainedTokenizerFast.from_pretrained(\"skt/kogpt2-base-v2\",\n",
        "            bos_token='</s>', eos_token='</s>', unk_token='<unk>',\n",
        "            pad_token='<pad>', mask_token='<mask>')\n",
        "gpt_model = GPT2LMHeadModel.from_pretrained('skt/kogpt2-base-v2')\n",
        "def predict_gpt_next(text:str, top_k:int=5):\n",
        "  inputs = gpt_tokenizer(text,return_tensors='pt', padding=True, truncation=True).to(device)\n",
        "  input_ids = inputs['input_ids']\n",
        "  gpt_model.eval()\n",
        "  with torch.no_grad():\n",
        "    outputs = gpt_model(**inputs)\n",
        "    logits =  outputs.logits[0,-1]\n",
        "    probs = torch.softmax(logits,dim=-1)\n",
        "    top_probs, top_ids = torch.topk(probs,k=top_k)\n",
        "  results = []\n",
        "  for prob, idx in zip(top_probs,top_ids):\n",
        "    token = gpt_tokenizer.decode([idx.item()])\n",
        "    results.append({'token':token,'prob':prob.item()})\n",
        "  return results\n",
        "gpt_result = predict_gpt_next(sample_text)\n",
        "print(gpt_result)"
      ],
      "metadata": {
        "colab": {
          "base_uri": "https://localhost:8080/"
        },
        "id": "NZDSgvsVQkYR",
        "outputId": "9412155c-fab2-4530-d048-621c9f5d56c2"
      },
      "execution_count": null,
      "outputs": [
        {
          "output_type": "stream",
          "name": "stderr",
          "text": [
            "The tokenizer class you load from this checkpoint is not the same type as the class this function is called from. It may result in unexpected tokenization. \n",
            "The tokenizer class you load from this checkpoint is 'GPT2Tokenizer'. \n",
            "The class this function is called from is 'PreTrainedTokenizerFast'.\n",
            "Asking to truncate to max_length but no maximum length is provided and the model has no predefined maximum length. Default to no truncation.\n"
          ]
        },
        {
          "output_type": "stream",
          "name": "stdout",
          "text": [
            "[{'token': '면서', 'prob': 0.21409927308559418}, {'token': '라는', 'prob': 0.09803730994462967}, {'token': '!\\n', 'prob': 0.06238093972206116}, {'token': '', 'prob': 0.05613355711102486}, {'token': '라고', 'prob': 0.052700772881507874}]\n"
          ]
        }
      ]
    },
    {
      "cell_type": "code",
      "source": [
        "sample_text = '이 영화는 정말 재미있고 친구나 가족과 함께 '\n",
        "masked_text = '이 영화는 [MASK] 재미있고 친구나 가족과 함께 보시는것을 추천합니다.'\n",
        "print(predict_bert_maksed(masked_text))\n",
        "print(predict_gpt_next(sample_text))"
      ],
      "metadata": {
        "colab": {
          "base_uri": "https://localhost:8080/"
        },
        "id": "XcDzV3mDSU6-",
        "outputId": "b769f7c9-ed5e-4f06-975a-bb5d08456bde"
      },
      "execution_count": null,
      "outputs": [
        {
          "output_type": "stream",
          "name": "stdout",
          "text": [
            "[{'token': '정말', 'prob': 0.3646480143070221}, {'token': '매우', 'prob': 0.13457666337490082}, {'token': '너무', 'prob': 0.12855878472328186}, {'token': '아주', 'prob': 0.08438378572463989}, {'token': '굉장히', 'prob': 0.050859831273555756}]\n",
            "[{'token': '봤', 'prob': 0.44383004307746887}, {'token': '#', 'prob': 0.07271353155374527}, {'token': '<unk>', 'prob': 0.04385720193386078}, {'token': '뭔', 'prob': 0.04302525520324707}, {'token': '괜', 'prob': 0.03127119690179825}]\n"
          ]
        }
      ]
    },
    {
      "cell_type": "markdown",
      "source": [
        "GPT-2, GPT-3\n",
        "```\n",
        "  구조 : Transfromer의 Deocoder만 사용 Masked Self-Attention 이전 단어만 참고 CLM\n",
        "GPT-2\n",
        "  레이어 수 12~48개\n",
        "  파라메터 : 1.5G\n",
        "  다양한 텍스트 생성기능, 한국어 지원 모델 skt/kogpt2-base-v2\n",
        "GPT-3\n",
        "  레이어 수 96개\n",
        "  파라메터:175G\n",
        "  대규모데이터로 학습, zero-shot, few-shot성능이 뛰어남\n",
        "LayerNorm\n",
        "  각 레이어의 출력을 정규화\n",
        "Residual\n",
        "  잔차의 합...\n",
        "  입력을 이후 출력에 더함(정보손실방지)  \n",
        "Attention Head      \n",
        "  단어간 병렬계산(gpt2 12, gpt3 96)\n",
        "```"
      ],
      "metadata": {
        "id": "0J5jg-yLWBX5"
      }
    },
    {
      "cell_type": "code",
      "source": [
        "from transformers import PreTrainedTokenizerFast\n",
        "tokenizer = PreTrainedTokenizerFast.from_pretrained(\"skt/kogpt2-base-v2\",\n",
        "  bos_token='</s>', eos_token='</s>', unk_token='<unk>',\n",
        "  pad_token='<pad>', mask_token='<mask>')\n",
        "model = GPT2LMHeadModel.from_pretrained('skt/kogpt2-base-v2')"
      ],
      "metadata": {
        "colab": {
          "base_uri": "https://localhost:8080/"
        },
        "id": "zX7fCu2RSmZ-",
        "outputId": "762deb0b-d27c-45bd-8a7b-001c605e695d"
      },
      "execution_count": null,
      "outputs": [
        {
          "output_type": "stream",
          "name": "stderr",
          "text": [
            "The tokenizer class you load from this checkpoint is not the same type as the class this function is called from. It may result in unexpected tokenization. \n",
            "The tokenizer class you load from this checkpoint is 'GPT2Tokenizer'. \n",
            "The class this function is called from is 'PreTrainedTokenizerFast'.\n"
          ]
        }
      ]
    },
    {
      "cell_type": "code",
      "source": [
        "def generate_text(prompt:str, max_length:int=50,temperature:float=1.0,\n",
        "                  top_k:int=0, top_p:float=1.0,label=None):\n",
        "  inputs = tokenizer(prompt, return_tensors='pt',padding=True\n",
        "                     , truncation=True).to(device)\n",
        "  input_ids = inputs['input_ids']\n",
        "  outputs = model.generate(\n",
        "    input_ids,\n",
        "    max_length = max_length,\n",
        "    temperature = temperature,  # 생성의 다양성(낮을수록 보수적)\n",
        "    top_k = top_k if top_k > 0 else None, #상위 k개의 토큰\n",
        "    top_p = top_p if top_p < 1.0 else None, # 누적 확률 p까지 고려\n",
        "    do_sample = True,\n",
        "    num_return_sequences = 1,\n",
        "    pad_token_id = tokenizer.pad_token_id,\n",
        "  )\n",
        "  generated_token= tokenizer.decode(outputs[0],skip_special_tokens=True)\n",
        "  with torch.no_grad():\n",
        "    logits = model(input_ids).logits[0,-1] # 마지막 토큰의 로짓\n",
        "    probs = torch.softmax(logits, dim=-1)\n",
        "    top_probs, top_idx = torch.topk(probs,5)\n",
        "    top_tokens = [tokenizer.decode([idx.item()]) for idx in top_idx]\n",
        "  return{\n",
        "      \"text\" : generated_token,\n",
        "      \"logits\" : logits[:5].cpu().numpy(),\n",
        "      \"probs\" : top_probs.cpu().numpy(),\n",
        "      \"top_tokens\" : top_tokens,\n",
        "      'label' : label\n",
        "  }"
      ],
      "metadata": {
        "id": "3WoMX83naMzK"
      },
      "execution_count": null,
      "outputs": []
    },
    {
      "cell_type": "code",
      "source": [
        "prompt = \"영화 리뷰: 이 영화는\"\n",
        "options = [\n",
        " {'prompt':prompt,'temperature':0.7,\"top_k\":0, \"top_p\":1.0,'max_length':50,\"label\":\"t:0.7\"},\n",
        " {'prompt':prompt,'temperature':1.2,\"top_k\":0, \"top_p\":1.0,'max_length':50,\"label\":\"t:1.2\"},\n",
        " {'prompt':prompt,'temperature':0.7,\"top_k\":50, \"top_p\":1.0,'max_length':50,\"label\":\"top_k: 50\"},\n",
        " {'prompt':prompt,'temperature':0.7,\"top_k\":0, \"top_p\":0.9,'max_length':50,\"label\":\"top_k: 0.9\"},\n",
        " {'prompt':prompt,'temperature':0.5,\"top_k\":0, \"top_p\":1.0,'max_length':50,\"label\":\"t:0.5\"},\n",
        "]\n",
        "results = [ generate_text(**op) for op in options]"
      ],
      "metadata": {
        "id": "MKoAlFxqbyN_"
      },
      "execution_count": null,
      "outputs": []
    },
    {
      "cell_type": "code",
      "source": [
        "for result in results:\n",
        "  print(result['label'])\n",
        "  print('생성 문장:',result['text'])\n",
        "  print(f'마지막 토큰의 상위 5개')\n",
        "  for token, prob in zip(result['top_tokens'],result['probs']):\n",
        "    print(f'토큰:{token}, 확률:{prob}')\n",
        "  print(f'로짓(상위 5개) : {result[\"logits\"]}')"
      ],
      "metadata": {
        "colab": {
          "base_uri": "https://localhost:8080/"
        },
        "id": "fADdGpFJej7E",
        "outputId": "0ae51aaa-6042-44df-a6df-62ef6dd07237"
      },
      "execution_count": null,
      "outputs": [
        {
          "output_type": "stream",
          "name": "stdout",
          "text": [
            "t:0.7\n",
            "생성 문장: 영화 리뷰: 이 영화는 2003년 12월 13일 개봉한 장편 애니메이션 영화다.\n",
            "'지킬 앤 하이드'가 처음 개봉한 영화다.\n",
            "이 영화는 전 세계적으로 1천만 부 이상의 판매고를 올렸다.\n",
            "이 영화는 악덕 기업들을 상대로 한 범죄가 거의 근절\n",
            "마지막 토큰의 상위 5개\n",
            "토큰:,, 확률:0.014031452126801014\n",
            "토큰:201, 확률:0.009948944672942162\n",
            "토큰:', 확률:0.008132383227348328\n",
            "토큰:영화, 확률:0.007377454079687595\n",
            "토큰:한국, 확률:0.006975746247917414\n",
            "로짓(상위 5개) : [-4.7485695 -4.66481   -4.9093947 -6.1892166 -5.1998878]\n",
            "t:1.2\n",
            "생성 문장: 영화 리뷰: 이 영화는 “진정한 페이퍼는 What, Spad Sch 임명되었으며, 생애에 Eidshirts, pator- five, 다음의,”에 길이 수집한 리뷰 및 기록 기간은 33억 달러이다.\n",
            "중을 제외한 나머지\n",
            "마지막 토큰의 상위 5개\n",
            "토큰:,, 확률:0.014031452126801014\n",
            "토큰:201, 확률:0.009948944672942162\n",
            "토큰:', 확률:0.008132383227348328\n",
            "토큰:영화, 확률:0.007377454079687595\n",
            "토큰:한국, 확률:0.006975746247917414\n",
            "로짓(상위 5개) : [-4.7485695 -4.66481   -4.9093947 -6.1892166 -5.1998878]\n",
            "top_k: 50\n",
            "생성 문장: 영화 리뷰: 이 영화는 내년에 개봉한다.\n",
            "<그것이 알고 싶다\n",
            ">는 영화 <그것이 알고 싶다\n",
            ">의 후속편이다.\n",
            "제작진은 내년에 개봉할 <그것이 알고 싶다\n",
            ">를 만들 계획이다.\n",
            "영화는 내년 봄에 개봉\n",
            "마지막 토큰의 상위 5개\n",
            "토큰:,, 확률:0.014031452126801014\n",
            "토큰:201, 확률:0.009948944672942162\n",
            "토큰:', 확률:0.008132383227348328\n",
            "토큰:영화, 확률:0.007377454079687595\n",
            "토큰:한국, 확률:0.006975746247917414\n",
            "로짓(상위 5개) : [-4.7485695 -4.66481   -4.9093947 -6.1892166 -5.1998878]\n",
            "top_k: 0.9\n",
            "생성 문장: 영화 리뷰: 이 영화는 처음 본 영화라...\n",
            "무슨 영화를 보고 왔나?\n",
            "<해리포터>의 한 장면\n",
            "``해리포터``는 평범한 여자아이를 주인공으로 하는 영화를 만들어준 주인공입니다.\n",
            "``해리포\n",
            "마지막 토큰의 상위 5개\n",
            "토큰:,, 확률:0.014031452126801014\n",
            "토큰:201, 확률:0.009948944672942162\n",
            "토큰:', 확률:0.008132383227348328\n",
            "토큰:영화, 확률:0.007377454079687595\n",
            "토큰:한국, 확률:0.006975746247917414\n",
            "로짓(상위 5개) : [-4.7485695 -4.66481   -4.9093947 -6.1892166 -5.1998878]\n",
            "t:0.5\n",
            "생성 문장: 영화 리뷰: 이 영화는 '1인칭 시퀀스'로 제작됐으며 '1인칭 시퀀스'는 이 영화를 바탕으로 제작된 영화다.\n",
            "이 영화는 '1인칭 시퀀스'의 시나리오를 바탕으로 만들어진 영화다.\n",
            "이 영화는 영화\n",
            "마지막 토큰의 상위 5개\n",
            "토큰:,, 확률:0.014031452126801014\n",
            "토큰:201, 확률:0.009948944672942162\n",
            "토큰:', 확률:0.008132383227348328\n",
            "토큰:영화, 확률:0.007377454079687595\n",
            "토큰:한국, 확률:0.006975746247917414\n",
            "로짓(상위 5개) : [-4.7485695 -4.66481   -4.9093947 -6.1892166 -5.1998878]\n"
          ]
        }
      ]
    },
    {
      "cell_type": "markdown",
      "source": [
        "미니 GPT (Fine-tuning)\n",
        "```\n",
        "파인튜닝: 사전학습된모델을 특정 작업에 맞게 추가 학습\n",
        "목표 : 모델이 도메인별(한국어 영화리뷰) 데이터에 적응해 더 적합 출력 생성\n",
        "방법:\n",
        "  full fine-tuning : 모든 파라메터를 업데이트,성능좋음\n",
        "  parameter-Efficient Fine-tuning : 일부 파라메터만 수정(LoRA)\n",
        "전략\n",
        "  작은학습률: 사전 학습된 지식 보전\n",
        "  적절한 데이터셋 : 적으면 과적합, 많으면 비용상승\n",
        "  정규화:(Dropout, Weight Decay) 과적합방지 및 원할한 학습\n",
        "Dataset\n",
        "  전처리:토큰화,패딩,특수토큰 추가    \n",
        "직접학습루프 작성\n",
        "  데이터로드\n",
        "  옵티마이져\n",
        "  손실함수\n",
        "  학습루프\n",
        "  등등..  \n",
        "```"
      ],
      "metadata": {
        "id": "6Z1hhu6exa0G"
      }
    },
    {
      "cell_type": "code",
      "source": [
        "import torch\n",
        "import torch.nn as nn\n",
        "import pandas as pd\n",
        "import numpy as np\n",
        "from transformers import PreTrainedTokenizerFast\n",
        "from transformers import GPT2LMHeadModel\n",
        "from torch.utils.data import Dataset, DataLoader"
      ],
      "metadata": {
        "id": "0atL86YYfmkT"
      },
      "execution_count": null,
      "outputs": []
    },
    {
      "cell_type": "code",
      "source": [
        "!wget http://skt-lsl-nlp-model.s3.amazonaws.com/KoBERT/datasets/nsmc/ratings_train.txt"
      ],
      "metadata": {
        "colab": {
          "base_uri": "https://localhost:8080/"
        },
        "collapsed": true,
        "id": "7jxZA7MqzYMQ",
        "outputId": "9c9ca3db-05e2-4536-bf4e-4dcdd30eab4c"
      },
      "execution_count": null,
      "outputs": [
        {
          "output_type": "stream",
          "name": "stdout",
          "text": [
            "--2025-04-28 05:10:59--  http://skt-lsl-nlp-model.s3.amazonaws.com/KoBERT/datasets/nsmc/ratings_train.txt\n",
            "Resolving skt-lsl-nlp-model.s3.amazonaws.com (skt-lsl-nlp-model.s3.amazonaws.com)... 52.219.146.91, 3.5.188.18, 52.219.206.71, ...\n",
            "Connecting to skt-lsl-nlp-model.s3.amazonaws.com (skt-lsl-nlp-model.s3.amazonaws.com)|52.219.146.91|:80... connected.\n",
            "HTTP request sent, awaiting response... 200 OK\n",
            "Length: 14628807 (14M) [text/plain]\n",
            "Saving to: ‘ratings_train.txt’\n",
            "\n",
            "ratings_train.txt   100%[===================>]  13.95M  9.42MB/s    in 1.5s    \n",
            "\n",
            "2025-04-28 05:11:00 (9.42 MB/s) - ‘ratings_train.txt’ saved [14628807/14628807]\n",
            "\n"
          ]
        }
      ]
    },
    {
      "cell_type": "code",
      "source": [
        "nsmc_df = pd.read_csv('ratings_train.txt',sep='\\t')[:5000]\n",
        "nsmc_df.dropna(inplace=True)\n",
        "nsmc_df.drop_duplicates(inplace=True)\n",
        "texts = nsmc_df['document'].tolist()"
      ],
      "metadata": {
        "id": "e2luUAC2zkCT"
      },
      "execution_count": null,
      "outputs": []
    },
    {
      "cell_type": "code",
      "source": [
        "# 데이터 셋\n",
        "class NSMCDataSet(Dataset):\n",
        "  def __init__(self,texts: list, tokenizer,max_length:int = 128) -> None:\n",
        "    self.tokenizer = tokenizer\n",
        "    self.max_len = max_length\n",
        "    self.inputs = []\n",
        "    for text in texts:\n",
        "      input_ids = tokenizer(\n",
        "          text,\n",
        "          max_length = max_length,\n",
        "          padding = 'max_length',\n",
        "          truncation = True,\n",
        "          return_tensors = 'pt'\n",
        "      )\n",
        "      self.inputs.append(input_ids)\n",
        "\n",
        "  def __len__(self):\n",
        "    return len(self.inputs)\n",
        "  def __getitem__(self, index):\n",
        "    input_ids = self.inputs[index]['input_ids'].squeeze()\n",
        "    attention_mask = self.inputs[index]['attention_mask'].squeeze()\n",
        "    return input_ids,attention_mask"
      ],
      "metadata": {
        "id": "fsROCtkHz114"
      },
      "execution_count": null,
      "outputs": []
    },
    {
      "cell_type": "code",
      "source": [
        "# 모델 , 토크나이저 로드\n",
        "tokenizer = PreTrainedTokenizerFast.from_pretrained(\"skt/kogpt2-base-v2\",\n",
        "  bos_token='</s>', eos_token='</s>', unk_token='<unk>',\n",
        "  pad_token='<pad>', mask_token='<mask>')\n",
        "\n",
        "model = GPT2LMHeadModel.from_pretrained('skt/kogpt2-base-v2')\n",
        "device = \"cuda\" if torch.cuda.is_available() else \"cpu\"\n",
        "model.to(device)\n",
        "\n",
        "# 데이터셋 및 데이터 로더 준비\n",
        "dataset = NSMCDataSet(texts, tokenizer)\n",
        "dataloader = DataLoader(dataset, batch_size=16, shuffle=True)"
      ],
      "metadata": {
        "colab": {
          "base_uri": "https://localhost:8080/"
        },
        "collapsed": true,
        "id": "xzP4IJR91tGt",
        "outputId": "d9f5a44d-3a8c-4e17-be57-7904a69feeb7"
      },
      "execution_count": null,
      "outputs": [
        {
          "output_type": "stream",
          "name": "stderr",
          "text": [
            "The tokenizer class you load from this checkpoint is not the same type as the class this function is called from. It may result in unexpected tokenization. \n",
            "The tokenizer class you load from this checkpoint is 'GPT2Tokenizer'. \n",
            "The class this function is called from is 'PreTrainedTokenizerFast'.\n"
          ]
        }
      ]
    },
    {
      "cell_type": "code",
      "source": [
        "batch,attention_mask = next(iter(dataloader))"
      ],
      "metadata": {
        "id": "15YIYEp3AND8"
      },
      "execution_count": null,
      "outputs": []
    },
    {
      "cell_type": "code",
      "source": [
        "# 학습설정\n",
        "optimizer = torch.optim.AdamW(model.parameters(), lr= 2e-5)\n",
        "criterion = nn.CrossEntropyLoss(ignore_index=tokenizer.pad_token_id)\n",
        "#  학습루프\n",
        "num_epochs = 5\n",
        "for epoch in range(num_epochs):\n",
        "  epoch_loss = 0.0\n",
        "  for batch,attention_mask in dataloader:\n",
        "    batch = batch.to(device)\n",
        "    attention_mask = attention_mask.to(device)\n",
        "    # 순전파(예측)\n",
        "    outputs = model(input_ids=batch,labels=batch,attention_mask=attention_mask)\n",
        "    loss = outputs.loss\n",
        "    # 역전파\n",
        "    loss.backward()\n",
        "    optimizer.step()\n",
        "    optimizer.zero_grad()\n",
        "    epoch_loss += loss.item()\n",
        "  print(f\"Epoch {epoch+1}/{num_epochs}, Loss: {epoch_loss/len(dataloader)}\")\n"
      ],
      "metadata": {
        "colab": {
          "base_uri": "https://localhost:8080/"
        },
        "collapsed": true,
        "id": "aREZ4L7Y2RcV",
        "outputId": "c7dbc0a2-8489-43f2-ca36-9e987ce9e689"
      },
      "execution_count": null,
      "outputs": [
        {
          "output_type": "stream",
          "name": "stdout",
          "text": [
            "Epoch 1/5, Loss: 0.853109169406251\n",
            "Epoch 2/5, Loss: 0.6205552824960349\n",
            "Epoch 3/5, Loss: 0.5407294276804208\n",
            "Epoch 4/5, Loss: 0.4467774357277745\n",
            "Epoch 5/5, Loss: 0.3407143908091627\n"
          ]
        }
      ]
    },
    {
      "cell_type": "code",
      "source": [
        "# 모델 저장\n",
        "model.save_pretrained('nsmc_gpt2_5000')\n",
        "tokenizer.save_pretrained('nsmc_gpt2_5000')"
      ],
      "metadata": {
        "colab": {
          "base_uri": "https://localhost:8080/"
        },
        "id": "P2u2r4ym4njb",
        "outputId": "1a733a99-98ff-4706-dc07-c6e8c9de654e"
      },
      "execution_count": null,
      "outputs": [
        {
          "output_type": "execute_result",
          "data": {
            "text/plain": [
              "('nsmc_gpt2_5000/tokenizer_config.json',\n",
              " 'nsmc_gpt2_5000/special_tokens_map.json',\n",
              " 'nsmc_gpt2_5000/tokenizer.json')"
            ]
          },
          "metadata": {},
          "execution_count": 100
        }
      ]
    },
    {
      "cell_type": "code",
      "source": [
        "# 모델 불러오기 및 생성 테스트\n",
        "finetuned_model = GPT2LMHeadModel.from_pretrained('nsmc_gpt2_5000')\n",
        "finetuned_tokenizer = PreTrainedTokenizerFast.from_pretrained('nsmc_gpt2_5000')"
      ],
      "metadata": {
        "id": "FZQcyx0KCPox"
      },
      "execution_count": null,
      "outputs": []
    },
    {
      "cell_type": "code",
      "source": [
        "# 생성 테스트\n",
        "def generated_text(model, tokenizer,prompt:str\n",
        "                   , max_length:int=128,temperature:float = 0.7)->str:\n",
        "  model.eval()\n",
        "  input_ids = tokenizer(prompt, return_tensors='pt',padding=True\n",
        "                     , truncation=True).to(device)\n",
        "\n",
        "  outputs = model.generate(\n",
        "      input_ids['input_ids'],\n",
        "      max_length = max_length,\n",
        "      temperature = temperature,  # 생성의 다양성(낮을수록 보수적)\n",
        "      do_sample=True,\n",
        "      num_return_sequences = 1,\n",
        "      pad_token_id = tokenizer.pad_token_id,\n",
        "  )\n",
        "  return tokenizer.decode(outputs[0],skip_special_tokens=True)"
      ],
      "metadata": {
        "id": "2Myft01tCwM4"
      },
      "execution_count": null,
      "outputs": []
    },
    {
      "cell_type": "code",
      "source": [],
      "metadata": {
        "id": "2z71TfPJFodL"
      },
      "execution_count": null,
      "outputs": []
    },
    {
      "cell_type": "code",
      "source": [
        "finetuned_model.to(device)"
      ],
      "metadata": {
        "colab": {
          "base_uri": "https://localhost:8080/"
        },
        "collapsed": true,
        "id": "4x4z3D-nFgiu",
        "outputId": "b2113d23-7e4a-4164-fed6-db7719eeb7e9"
      },
      "execution_count": null,
      "outputs": [
        {
          "output_type": "execute_result",
          "data": {
            "text/plain": [
              "GPT2LMHeadModel(\n",
              "  (transformer): GPT2Model(\n",
              "    (wte): Embedding(51200, 768)\n",
              "    (wpe): Embedding(1024, 768)\n",
              "    (drop): Dropout(p=0.1, inplace=False)\n",
              "    (h): ModuleList(\n",
              "      (0-11): 12 x GPT2Block(\n",
              "        (ln_1): LayerNorm((768,), eps=1e-05, elementwise_affine=True)\n",
              "        (attn): GPT2Attention(\n",
              "          (c_attn): Conv1D(nf=2304, nx=768)\n",
              "          (c_proj): Conv1D(nf=768, nx=768)\n",
              "          (attn_dropout): Dropout(p=0.1, inplace=False)\n",
              "          (resid_dropout): Dropout(p=0.1, inplace=False)\n",
              "        )\n",
              "        (ln_2): LayerNorm((768,), eps=1e-05, elementwise_affine=True)\n",
              "        (mlp): GPT2MLP(\n",
              "          (c_fc): Conv1D(nf=3072, nx=768)\n",
              "          (c_proj): Conv1D(nf=768, nx=3072)\n",
              "          (act): NewGELUActivation()\n",
              "          (dropout): Dropout(p=0.1, inplace=False)\n",
              "        )\n",
              "      )\n",
              "    )\n",
              "    (ln_f): LayerNorm((768,), eps=1e-05, elementwise_affine=True)\n",
              "  )\n",
              "  (lm_head): Linear(in_features=768, out_features=51200, bias=False)\n",
              ")"
            ]
          },
          "metadata": {},
          "execution_count": 104
        }
      ]
    },
    {
      "cell_type": "code",
      "source": [
        "prompt = '순이와 함께 보는 영화는'\n",
        "output_text = generated_text(finetuned_model,finetuned_tokenizer,prompt)\n",
        "print(output_text)"
      ],
      "metadata": {
        "colab": {
          "base_uri": "https://localhost:8080/"
        },
        "id": "sZGgVJ42EUfQ",
        "outputId": "4618d83b-20c1-4d3b-a07e-0e7f1a68593d"
      },
      "execution_count": null,
      "outputs": [
        {
          "output_type": "stream",
          "name": "stdout",
          "text": [
            "순이와 함께 보는 영화는 이렇게 별1개도 아까운 드라마짜짜반쪽인 사람들의 얘기를 들춰낸 영화\n"
          ]
        }
      ]
    },
    {
      "cell_type": "code",
      "source": [
        "prompt = '이 영화의 최대 포인트는'\n",
        "output_text = generated_text(finetuned_model,finetuned_tokenizer,prompt)\n",
        "print(output_text)\n",
        "\n",
        "# 생성될 단어의 확률\n",
        "inputs = tokenizer(prompt, return_tensors='pt',padding=True,truncation=True).to(device)\n",
        "with torch.no_grad():\n",
        "   outputs = finetuned_model(**inputs)\n",
        "   logits = outputs.logits[0,-1]\n",
        "   probs = torch.softmax(logits, dim=-1)\n",
        "   top_probs, top_ids = torch.topk(probs, 5)\n",
        "   top_tokens = [  finetuned_tokenizer.decode([idx.item()]) for idx in top_ids]\n",
        "print(f'마지막 토큰 로짓(상위 5개):{logits[:5].cpu().numpy()}')\n",
        "for token, prob in zip(top_tokens, top_probs):\n",
        "  print(f'토큰:{token}, 확률:{prob:.4f}')"
      ],
      "metadata": {
        "colab": {
          "base_uri": "https://localhost:8080/"
        },
        "id": "Em0Zlqa_Eq6p",
        "outputId": "5d59b93e-b322-4dd4-b1db-8e40c6465a18"
      },
      "execution_count": null,
      "outputs": [
        {
          "output_type": "stream",
          "name": "stdout",
          "text": [
            "이 영화의 최대 포인트는 바로 주인공들의 연기력이다. 이 영화의 백미는 바로 이 여자다.athall로 가는 내내 실컷 웃고 싶었던 영화\n",
            "마지막 토큰 로짓(상위 5개):[-3.2963753 -5.359368  -6.45333    2.3962643 -6.5279503]\n",
            "토큰:역시, 확률:0.0669\n",
            "토큰:이영, 확률:0.0489\n",
            "토큰:이, 확률:0.0305\n",
            "토큰:왜, 확률:0.0250\n",
            "토큰:단연, 확률:0.0232\n"
          ]
        }
      ]
    },
    {
      "cell_type": "markdown",
      "source": [
        "텍스트 생성 모델 심화\n",
        "```\n",
        "Sampling 전략\n",
        "  텍스트생성 핵심: 각 단계에서 다음 토큰을 예측\n",
        "  Greedy Search:\n",
        "    매번 가장 높은 확률의 토큰 선택\n",
        "    빠르고 간단\n",
        "    단점 : 창의성이 부족 ,결과가 단조롭다\n",
        "  Beam Searh:\n",
        "    상위 k개 시퀀스를 병렬로 추적, 최종적으로 최고 점수 스퀀스선택\n",
        "    더 논리적이고 일관됨 문장\n",
        "  Top-k-Sampling:\n",
        "    상위 k개토큰중에 무작위\n",
        "    창의성과 품질이 균형\n",
        "  Temperature:\n",
        "    로짓을 조정해서 확률분포변경\n",
        "      낮은값 : 0.7 확률분포가 뽀족, 보수적\n",
        "      높은값 : 1.2 확률분포 평평, 창의적/래덤 선택   \n",
        "응용.스토리생성,스타일 변화\n",
        "  스토리생성\n",
        "    프롬프트(시작문장) 제공->모델이 이어서 이야기 생성\n",
        "  스타일 변화\n",
        "    모델이 특정 스타일(공식적, 캐주얼, 문학적)로 텍스트를 생성\n",
        "\n",
        "```"
      ],
      "metadata": {
        "id": "iZbcvR57ONaE"
      }
    },
    {
      "cell_type": "code",
      "source": [
        "# 한글 gpt2 모델 과 토크나이져 로드\n",
        "tokenizer = PreTrainedTokenizerFast.from_pretrained(\"skt/kogpt2-base-v2\",\n",
        "                  bos_token='</s>', eos_token='</s>', unk_token='<unk>',\n",
        "                  pad_token='<pad>', mask_token='<mask>')\n",
        "model = GPT2LMHeadModel.from_pretrained('skt/kogpt2-base-v2').to(device)\n",
        "# 문장 생성 함수\n",
        "def generated_text(\n",
        "    prompt:str,   # 입력 프롬프트\n",
        "    max_length:int = 100,  # 최대 생성길이\n",
        "    temperature: float=1.0,  # 생성 다양성(낮을수록 보수적)\n",
        "    top_k:int=0,  # 상위 k개의 토큰만 고려\n",
        "    top_p:float=1.0, # 누적확률 p까지 토큰 고려\n",
        "    num_beams:int = 1, # Beam Searh의 빔수\n",
        "    do_sample:bool=True # 샘플링 여부\n",
        "    )->dict:  # 생성 텍스트와 마지막 토큰의 로짓/확률\n",
        "  model.eval()\n",
        "  input_ids = tokenizer(prompt, return_tensors='pt',padding=True\n",
        "                     , truncation=True).to(device)\n",
        "  # Greedy Searh인경우 do_sample=False, num_beams=1\n",
        "  if num_beams == 1 and top_k ==0 and top_p == 1.0 and temperature == 1.0:\n",
        "    do_sample = False\n",
        "  input_ids = input_ids['input_ids']\n",
        "  outputs = model.generate(\n",
        "      input_ids,\n",
        "      max_length = max_length,\n",
        "      temperature = temperature,  # 생성의 다양성(낮을수록 보수적)\n",
        "      top_k = top_k if top_k >0 else None,\n",
        "      top_p = top_p if top_p < 1.0 else None,\n",
        "      num_beams = num_beams,\n",
        "      do_sample=do_sample,\n",
        "      num_return_sequences = 1,\n",
        "      pad_token_id = tokenizer.pad_token_id,\n",
        "      no_repeat_ngram_size=2  # 반복방지\n",
        "  )\n",
        "  output_text = tokenizer.decode(outputs[0],skip_special_tokens=True)\n",
        "  # 마지막 토큰의 로짓과 확률\n",
        "  with torch.no_grad():\n",
        "    logits = model(input_ids).logits[0,-1]  # 프롬프트의 마지막 토큰의 로짓\n",
        "    probs = torch.softmax(logits / temperature, dim=-1)\n",
        "    top_probs, top_ids =  torch.topk(probs, 5)\n",
        "    top_tokens = [  tokenizer.decode([idx.item()])  for idx in top_ids ]\n",
        "  return{\n",
        "      'text': output_text\n",
        "      ,'logits': logits[:5].cpu().numpy()\n",
        "      ,'probs': top_probs.cpu().numpy()\n",
        "      ,'top_tokens': top_tokens\n",
        "  }"
      ],
      "metadata": {
        "colab": {
          "base_uri": "https://localhost:8080/"
        },
        "id": "uiPnVOIFH9QQ",
        "outputId": "7007f3d1-d71f-424c-ea26-e662de2dc497"
      },
      "execution_count": null,
      "outputs": [
        {
          "output_type": "stream",
          "name": "stderr",
          "text": [
            "The tokenizer class you load from this checkpoint is not the same type as the class this function is called from. It may result in unexpected tokenization. \n",
            "The tokenizer class you load from this checkpoint is 'GPT2Tokenizer'. \n",
            "The class this function is called from is 'PreTrainedTokenizerFast'.\n"
          ]
        }
      ]
    },
    {
      "cell_type": "code",
      "source": [
        "prompt = '옛날의 한 마을에'\n",
        "generated_text(prompt,temperature=0.9,top_k = 50)"
      ],
      "metadata": {
        "colab": {
          "base_uri": "https://localhost:8080/"
        },
        "id": "4mVdXJ3lTE6f",
        "outputId": "fe3f7b7e-33d9-4ae0-fd1f-a2c5159c0f0b"
      },
      "execution_count": null,
      "outputs": [
        {
          "output_type": "execute_result",
          "data": {
            "text/plain": [
              "{'text': '옛날의 한 마을에 서 있다. 그들은 아주 좋은 물건을 가지고 있다.\"\\n우리는 모두 입을 모아 이야기한다.\\n\"이 마을이 정말 좋은 곳입니다.\"\\n그러나 우리는 모두 고개를 갸웃거리고 만다.\\n그들 역시 모두 기분 나쁘다고 이야기하기 때문이다.\\n우리는 우리가 알고 있는 것과 같은 이야기를 한다.\\n그 이유는 우리와 똑같은 이야기의 내용이 반복되었을 때, 우리가 알지 못하는 것이 더 많은 이야기에 나오는 것이 아닐까?\\n우리는 우리와는 다른 이야기를 하지 않기 때문이다.\\n그러나 이 이야기의 첫머리는 우리가 모르는 것이 있다는 것을 알고 있을 뿐이라는 것이다.\\n우리는 마치',\n",
              " 'logits': array([-4.7084203, -5.9164786, -5.5396094, -5.503705 , -4.4116774],\n",
              "       dtype=float32),\n",
              " 'probs': array([0.0764983 , 0.0759229 , 0.04554147, 0.02945458, 0.01672325],\n",
              "       dtype=float32),\n",
              " 'top_tokens': ['사는', '살고', '있는', '살던', '도착']}"
            ]
          },
          "metadata": {},
          "execution_count": 114
        }
      ]
    },
    {
      "cell_type": "markdown",
      "source": [
        "텍스트 요약\n",
        "```\n",
        "Extractive Summarization\n",
        "  원문에서 중요한 문장/구절을 그대로 추출해 요약생성(뉴스기사에서 핵심문장 3개 선택)\n",
        "  장점 : 구조간단\n",
        "  단점 : 자연스럽지 않음\n",
        "\n",
        "Abstractive Summarization\n",
        "  원문의 의미를 이해하고 새로운 문장으로 재구성(뉴스기사를 한 문장으로 요약)\n",
        "  장점 : 인간처럼 자연스러운 요약\n",
        "  단점 : 의미 왜곡\n",
        "\n",
        "GPT\n",
        "  GPT계열은 CLM 기반, 텍스트 생성에 강함\n",
        "  한계 : Decoder-only 모델, 요약처럼 입력 문맥을 깊이 이해하는데 약함\n",
        "  비유 : gpt 이야기를 이어나가는 소설가, 요약은 전체를 분석하는 편집자역활\n",
        "BERT\n",
        "  encoder-decoder 문맥을 이해하는 최적화\n",
        "평가방법\n",
        "  ROUGE(Recall-Oriented Understudy for Gistion Evaluation)\n",
        "    생성요약과 참조요약(정답) 간 단어/구문 중복 측정  \n",
        "    종류\n",
        "      ROUGE-N : N-gram 중복(1그램은 단어, 2그램은 단어쌍)\n",
        "      ROUGE-L : 최장 공통부분열(LCS)기반, 문장구조 반영\n",
        "      점수 : 0~1 높을수록 유사\n",
        "      예측한 요약과 정답의 요약의 단어가 얼마나 일치하는지\n",
        "      BLUE(Billingual Evaluation Understudy):\n",
        "        생성과 참조간의 n-gram 정밀도\n",
        "        기계번역에 주로 사용\n",
        "        번역문과 원문의 단어 일치도 체크\n",
        "```"
      ],
      "metadata": {
        "id": "J1mx71Bhb1fD"
      }
    },
    {
      "cell_type": "code",
      "source": [
        "from transformers import PreTrainedTokenizerFast, BartForConditionalGeneration\n",
        "tokenizer =  PreTrainedTokenizerFast.from_pretrained(\"gogamza/kobart-summarization\")\n",
        "model = BartForConditionalGeneration.from_pretrained(\"gogamza/kobart-summarization\")"
      ],
      "metadata": {
        "colab": {
          "base_uri": "https://localhost:8080/",
          "height": 158,
          "referenced_widgets": [
            "64f79db0b8514f98a807d427ee3fb5ea",
            "079555c816ab462c9bc6ff7abe106c73",
            "7bdd7d0bc61f409b973e18fda71d16a7",
            "1574dbb198104399b907d9f70ad2871d",
            "e0dd6cf86a444b07bec43f1543be240c",
            "2bdd2b4d3a3e48319e7c7bdd8a1f4131",
            "c08434f88bbe4343b441e83c4bea6b52",
            "cd4ea1a733a54391b9fc40fc36993add",
            "2d4d0978669245729ce61738da5efd09",
            "777c7c9f5af342faafd1089a16c1379b",
            "31cf04e098074ab8b8cf97465fb66f08"
          ]
        },
        "id": "FugDPFtDkhYi",
        "outputId": "de4b46ba-1423-4eb9-a64d-43978ab63b1a"
      },
      "execution_count": null,
      "outputs": [
        {
          "output_type": "stream",
          "name": "stderr",
          "text": [
            "You passed along `num_labels=3` with an incompatible id to label map: {'0': 'NEGATIVE', '1': 'POSITIVE'}. The number of labels will be overwritten to 2.\n",
            "The tokenizer class you load from this checkpoint is not the same type as the class this function is called from. It may result in unexpected tokenization. \n",
            "The tokenizer class you load from this checkpoint is 'BartTokenizer'. \n",
            "The class this function is called from is 'PreTrainedTokenizerFast'.\n",
            "You passed along `num_labels=3` with an incompatible id to label map: {'0': 'NEGATIVE', '1': 'POSITIVE'}. The number of labels will be overwritten to 2.\n"
          ]
        },
        {
          "output_type": "display_data",
          "data": {
            "text/plain": [
              "model.safetensors:   0%|          | 0.00/496M [00:00<?, ?B/s]"
            ],
            "application/vnd.jupyter.widget-view+json": {
              "version_major": 2,
              "version_minor": 0,
              "model_id": "64f79db0b8514f98a807d427ee3fb5ea"
            }
          },
          "metadata": {}
        }
      ]
    },
    {
      "cell_type": "code",
      "source": [
        "import torch\n",
        "import torch.nn as nn\n",
        "device = 'cuda' if torch.cuda.is_available() else 'cpu'\n",
        "model.to(device)"
      ],
      "metadata": {
        "colab": {
          "base_uri": "https://localhost:8080/"
        },
        "collapsed": true,
        "id": "d2uQEBG_huv_",
        "outputId": "02c5cefe-c898-4d98-a128-5ce16037ff17"
      },
      "execution_count": null,
      "outputs": [
        {
          "output_type": "execute_result",
          "data": {
            "text/plain": [
              "BartForConditionalGeneration(\n",
              "  (model): BartModel(\n",
              "    (shared): BartScaledWordEmbedding(30000, 768, padding_idx=3)\n",
              "    (encoder): BartEncoder(\n",
              "      (embed_tokens): BartScaledWordEmbedding(30000, 768, padding_idx=3)\n",
              "      (embed_positions): BartLearnedPositionalEmbedding(1028, 768)\n",
              "      (layers): ModuleList(\n",
              "        (0-5): 6 x BartEncoderLayer(\n",
              "          (self_attn): BartSdpaAttention(\n",
              "            (k_proj): Linear(in_features=768, out_features=768, bias=True)\n",
              "            (v_proj): Linear(in_features=768, out_features=768, bias=True)\n",
              "            (q_proj): Linear(in_features=768, out_features=768, bias=True)\n",
              "            (out_proj): Linear(in_features=768, out_features=768, bias=True)\n",
              "          )\n",
              "          (self_attn_layer_norm): LayerNorm((768,), eps=1e-05, elementwise_affine=True)\n",
              "          (activation_fn): GELUActivation()\n",
              "          (fc1): Linear(in_features=768, out_features=3072, bias=True)\n",
              "          (fc2): Linear(in_features=3072, out_features=768, bias=True)\n",
              "          (final_layer_norm): LayerNorm((768,), eps=1e-05, elementwise_affine=True)\n",
              "        )\n",
              "      )\n",
              "      (layernorm_embedding): LayerNorm((768,), eps=1e-05, elementwise_affine=True)\n",
              "    )\n",
              "    (decoder): BartDecoder(\n",
              "      (embed_tokens): BartScaledWordEmbedding(30000, 768, padding_idx=3)\n",
              "      (embed_positions): BartLearnedPositionalEmbedding(1028, 768)\n",
              "      (layers): ModuleList(\n",
              "        (0-5): 6 x BartDecoderLayer(\n",
              "          (self_attn): BartSdpaAttention(\n",
              "            (k_proj): Linear(in_features=768, out_features=768, bias=True)\n",
              "            (v_proj): Linear(in_features=768, out_features=768, bias=True)\n",
              "            (q_proj): Linear(in_features=768, out_features=768, bias=True)\n",
              "            (out_proj): Linear(in_features=768, out_features=768, bias=True)\n",
              "          )\n",
              "          (activation_fn): GELUActivation()\n",
              "          (self_attn_layer_norm): LayerNorm((768,), eps=1e-05, elementwise_affine=True)\n",
              "          (encoder_attn): BartSdpaAttention(\n",
              "            (k_proj): Linear(in_features=768, out_features=768, bias=True)\n",
              "            (v_proj): Linear(in_features=768, out_features=768, bias=True)\n",
              "            (q_proj): Linear(in_features=768, out_features=768, bias=True)\n",
              "            (out_proj): Linear(in_features=768, out_features=768, bias=True)\n",
              "          )\n",
              "          (encoder_attn_layer_norm): LayerNorm((768,), eps=1e-05, elementwise_affine=True)\n",
              "          (fc1): Linear(in_features=768, out_features=3072, bias=True)\n",
              "          (fc2): Linear(in_features=3072, out_features=768, bias=True)\n",
              "          (final_layer_norm): LayerNorm((768,), eps=1e-05, elementwise_affine=True)\n",
              "        )\n",
              "      )\n",
              "      (layernorm_embedding): LayerNorm((768,), eps=1e-05, elementwise_affine=True)\n",
              "    )\n",
              "  )\n",
              "  (lm_head): Linear(in_features=768, out_features=30000, bias=False)\n",
              ")"
            ]
          },
          "metadata": {},
          "execution_count": 4
        }
      ]
    },
    {
      "cell_type": "code",
      "source": [
        "# 샘플 뉴스 기사 및 참조 요약\n",
        "nws_articles = [\n",
        "    'text': '''\n",
        "      28일 오후 2시 1분께 대구 북구 노곡동 함지산에서 난 불이 바람을 타고 계속해서 확산하고 있다.\n",
        "      산림 당국은 오후 3시 50분 현재 산불 대응 2단계를 발령하고 헬기 19대와 장비 38대, 인력 165명을 투입해 진화 작업을 벌이고 있다.\n",
        "      산불 2단계는 예상 피해 면적이 50∼100㏊, 평균 풍속 7∼11m/s, 예상 진화 10∼48시간 미만일 때 발령된다.\n",
        "        '''\n",
        "    ,'reference_summary' :\n",
        "]"
      ],
      "metadata": {
        "id": "EuJ7h4Xdi6HL"
      },
      "execution_count": null,
      "outputs": []
    }
  ]
}