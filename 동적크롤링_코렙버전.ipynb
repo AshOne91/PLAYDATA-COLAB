{
  "nbformat": 4,
  "nbformat_minor": 0,
  "metadata": {
    "colab": {
      "provenance": [],
      "include_colab_link": true
    },
    "kernelspec": {
      "name": "python3",
      "display_name": "Python 3"
    },
    "language_info": {
      "name": "python"
    }
  },
  "cells": [
    {
      "cell_type": "markdown",
      "metadata": {
        "id": "view-in-github",
        "colab_type": "text"
      },
      "source": [
        "<a href=\"https://colab.research.google.com/github/AshOne91/PLAYDATA-COLAB/blob/main/%EB%8F%99%EC%A0%81%ED%81%AC%EB%A1%A4%EB%A7%81_%EC%BD%94%EB%A0%99%EB%B2%84%EC%A0%84.ipynb\" target=\"_parent\"><img src=\"https://colab.research.google.com/assets/colab-badge.svg\" alt=\"Open In Colab\"/></a>"
      ]
    },
    {
      "cell_type": "code",
      "source": [
        "# 구글 드라이버 연결\n",
        "from google.colab import drive\n",
        "drive.mount('/content/drive')"
      ],
      "metadata": {
        "id": "VYtXjbLFYVCd"
      },
      "execution_count": null,
      "outputs": []
    },
    {
      "cell_type": "code",
      "source": [
        "# 필요한 라이브러리 인스톨\n",
        "!pip install selenium\n",
        "!apt-get update\n",
        "\n",
        "# (최초 1회)\n",
        "!apt install chromium-chromedriver\n",
        "!cp /usr/lib/chromium-browser/chromedriver '/content/drive/MyDrive/Colab Notebooks' #\n",
        "!pip install chromedriver-autoinstaller"
      ],
      "metadata": {
        "colab": {
          "base_uri": "https://localhost:8080/"
        },
        "collapsed": true,
        "id": "9DZ0ouHRYr8k",
        "outputId": "7b23f64f-4d05-4044-8964-5fbca3e3496a"
      },
      "execution_count": null,
      "outputs": [
        {
          "output_type": "stream",
          "name": "stdout",
          "text": [
            "Collecting selenium\n",
            "  Downloading selenium-4.29.0-py3-none-any.whl.metadata (7.1 kB)\n",
            "Requirement already satisfied: urllib3<3,>=1.26 in /usr/local/lib/python3.11/dist-packages (from urllib3[socks]<3,>=1.26->selenium) (2.3.0)\n",
            "Collecting trio~=0.17 (from selenium)\n",
            "  Downloading trio-0.29.0-py3-none-any.whl.metadata (8.5 kB)\n",
            "Collecting trio-websocket~=0.9 (from selenium)\n",
            "  Downloading trio_websocket-0.12.2-py3-none-any.whl.metadata (5.1 kB)\n",
            "Requirement already satisfied: certifi>=2021.10.8 in /usr/local/lib/python3.11/dist-packages (from selenium) (2025.1.31)\n",
            "Requirement already satisfied: typing_extensions~=4.9 in /usr/local/lib/python3.11/dist-packages (from selenium) (4.12.2)\n",
            "Requirement already satisfied: websocket-client~=1.8 in /usr/local/lib/python3.11/dist-packages (from selenium) (1.8.0)\n",
            "Requirement already satisfied: attrs>=23.2.0 in /usr/local/lib/python3.11/dist-packages (from trio~=0.17->selenium) (25.1.0)\n",
            "Requirement already satisfied: sortedcontainers in /usr/local/lib/python3.11/dist-packages (from trio~=0.17->selenium) (2.4.0)\n",
            "Requirement already satisfied: idna in /usr/local/lib/python3.11/dist-packages (from trio~=0.17->selenium) (3.10)\n",
            "Collecting outcome (from trio~=0.17->selenium)\n",
            "  Downloading outcome-1.3.0.post0-py2.py3-none-any.whl.metadata (2.6 kB)\n",
            "Requirement already satisfied: sniffio>=1.3.0 in /usr/local/lib/python3.11/dist-packages (from trio~=0.17->selenium) (1.3.1)\n",
            "Collecting wsproto>=0.14 (from trio-websocket~=0.9->selenium)\n",
            "  Downloading wsproto-1.2.0-py3-none-any.whl.metadata (5.6 kB)\n",
            "Requirement already satisfied: pysocks!=1.5.7,<2.0,>=1.5.6 in /usr/local/lib/python3.11/dist-packages (from urllib3[socks]<3,>=1.26->selenium) (1.7.1)\n",
            "Requirement already satisfied: h11<1,>=0.9.0 in /usr/local/lib/python3.11/dist-packages (from wsproto>=0.14->trio-websocket~=0.9->selenium) (0.14.0)\n",
            "Downloading selenium-4.29.0-py3-none-any.whl (9.5 MB)\n",
            "\u001b[2K   \u001b[90m━━━━━━━━━━━━━━━━━━━━━━━━━━━━━━━━━━━━━━━━\u001b[0m \u001b[32m9.5/9.5 MB\u001b[0m \u001b[31m54.1 MB/s\u001b[0m eta \u001b[36m0:00:00\u001b[0m\n",
            "\u001b[?25hDownloading trio-0.29.0-py3-none-any.whl (492 kB)\n",
            "\u001b[2K   \u001b[90m━━━━━━━━━━━━━━━━━━━━━━━━━━━━━━━━━━━━━━━━\u001b[0m \u001b[32m492.9/492.9 kB\u001b[0m \u001b[31m28.3 MB/s\u001b[0m eta \u001b[36m0:00:00\u001b[0m\n",
            "\u001b[?25hDownloading trio_websocket-0.12.2-py3-none-any.whl (21 kB)\n",
            "Downloading outcome-1.3.0.post0-py2.py3-none-any.whl (10 kB)\n",
            "Downloading wsproto-1.2.0-py3-none-any.whl (24 kB)\n",
            "Installing collected packages: wsproto, outcome, trio, trio-websocket, selenium\n",
            "Successfully installed outcome-1.3.0.post0 selenium-4.29.0 trio-0.29.0 trio-websocket-0.12.2 wsproto-1.2.0\n",
            "Hit:1 http://archive.ubuntu.com/ubuntu jammy InRelease\n",
            "Get:2 http://archive.ubuntu.com/ubuntu jammy-updates InRelease [128 kB]\n",
            "Get:3 http://security.ubuntu.com/ubuntu jammy-security InRelease [129 kB]\n",
            "Get:4 https://cloud.r-project.org/bin/linux/ubuntu jammy-cran40/ InRelease [3,632 B]\n",
            "Get:5 https://developer.download.nvidia.com/compute/cuda/repos/ubuntu2204/x86_64  InRelease [1,581 B]\n",
            "Get:6 https://r2u.stat.illinois.edu/ubuntu jammy InRelease [6,555 B]\n",
            "Get:7 http://archive.ubuntu.com/ubuntu jammy-backports InRelease [127 kB]\n",
            "Get:8 https://cloud.r-project.org/bin/linux/ubuntu jammy-cran40/ Packages [69.0 kB]\n",
            "Hit:9 https://ppa.launchpadcontent.net/deadsnakes/ppa/ubuntu jammy InRelease\n",
            "Hit:10 https://ppa.launchpadcontent.net/graphics-drivers/ppa/ubuntu jammy InRelease\n",
            "Get:11 https://developer.download.nvidia.com/compute/cuda/repos/ubuntu2204/x86_64  Packages [1,374 kB]\n",
            "Get:12 http://security.ubuntu.com/ubuntu jammy-security/multiverse amd64 Packages [57.9 kB]\n",
            "Hit:13 https://ppa.launchpadcontent.net/ubuntugis/ppa/ubuntu jammy InRelease\n",
            "Get:14 http://security.ubuntu.com/ubuntu jammy-security/universe amd64 Packages [1,235 kB]\n",
            "Get:15 http://security.ubuntu.com/ubuntu jammy-security/restricted amd64 Packages [3,798 kB]\n",
            "Get:16 http://archive.ubuntu.com/ubuntu jammy-updates/universe amd64 Packages [1,533 kB]\n",
            "Get:17 http://security.ubuntu.com/ubuntu jammy-security/main amd64 Packages [2,692 kB]\n",
            "Get:18 http://archive.ubuntu.com/ubuntu jammy-updates/main amd64 Packages [3,000 kB]\n",
            "Get:19 http://archive.ubuntu.com/ubuntu jammy-updates/restricted amd64 Packages [3,955 kB]\n",
            "Get:20 https://r2u.stat.illinois.edu/ubuntu jammy/main amd64 Packages [2,673 kB]\n",
            "Get:21 http://archive.ubuntu.com/ubuntu jammy-updates/multiverse amd64 Packages [65.7 kB]\n",
            "Get:22 https://r2u.stat.illinois.edu/ubuntu jammy/main all Packages [8,744 kB]\n",
            "Fetched 29.6 MB in 3s (9,479 kB/s)\n",
            "Reading package lists... Done\n",
            "W: Skipping acquire of configured file 'main/source/Sources' as repository 'https://r2u.stat.illinois.edu/ubuntu jammy InRelease' does not seem to provide it (sources.list entry misspelt?)\n",
            "Reading package lists... Done\n",
            "Building dependency tree... Done\n",
            "Reading state information... Done\n",
            "The following additional packages will be installed:\n",
            "  apparmor chromium-browser libfuse3-3 liblzo2-2 snapd squashfs-tools systemd-hwe-hwdb udev\n",
            "Suggested packages:\n",
            "  apparmor-profiles-extra apparmor-utils fuse3 zenity | kdialog\n",
            "The following NEW packages will be installed:\n",
            "  apparmor chromium-browser chromium-chromedriver libfuse3-3 liblzo2-2 snapd squashfs-tools\n",
            "  systemd-hwe-hwdb udev\n",
            "0 upgraded, 9 newly installed, 0 to remove and 31 not upgraded.\n",
            "Need to get 30.3 MB of archives.\n",
            "After this operation, 123 MB of additional disk space will be used.\n",
            "Get:1 http://archive.ubuntu.com/ubuntu jammy-updates/main amd64 apparmor amd64 3.0.4-2ubuntu2.4 [598 kB]\n",
            "Get:2 http://archive.ubuntu.com/ubuntu jammy/main amd64 liblzo2-2 amd64 2.10-2build3 [53.7 kB]\n",
            "Get:3 http://archive.ubuntu.com/ubuntu jammy/main amd64 squashfs-tools amd64 1:4.5-3build1 [159 kB]\n",
            "Get:4 http://archive.ubuntu.com/ubuntu jammy-updates/main amd64 udev amd64 249.11-0ubuntu3.12 [1,557 kB]\n",
            "Get:5 http://archive.ubuntu.com/ubuntu jammy/main amd64 libfuse3-3 amd64 3.10.5-1build1 [81.2 kB]\n",
            "Get:6 http://archive.ubuntu.com/ubuntu jammy-updates/main amd64 snapd amd64 2.67.1+22.04 [27.8 MB]\n",
            "Get:7 http://archive.ubuntu.com/ubuntu jammy-updates/universe amd64 chromium-browser amd64 1:85.0.4183.83-0ubuntu2.22.04.1 [49.2 kB]\n",
            "Get:8 http://archive.ubuntu.com/ubuntu jammy-updates/universe amd64 chromium-chromedriver amd64 1:85.0.4183.83-0ubuntu2.22.04.1 [2,308 B]\n",
            "Get:9 http://archive.ubuntu.com/ubuntu jammy-updates/main amd64 systemd-hwe-hwdb all 249.11.5 [3,228 B]\n",
            "Fetched 30.3 MB in 1s (37.1 MB/s)\n",
            "Preconfiguring packages ...\n",
            "Selecting previously unselected package apparmor.\n",
            "(Reading database ... 124947 files and directories currently installed.)\n",
            "Preparing to unpack .../0-apparmor_3.0.4-2ubuntu2.4_amd64.deb ...\n",
            "Unpacking apparmor (3.0.4-2ubuntu2.4) ...\n",
            "Selecting previously unselected package liblzo2-2:amd64.\n",
            "Preparing to unpack .../1-liblzo2-2_2.10-2build3_amd64.deb ...\n",
            "Unpacking liblzo2-2:amd64 (2.10-2build3) ...\n",
            "Selecting previously unselected package squashfs-tools.\n",
            "Preparing to unpack .../2-squashfs-tools_1%3a4.5-3build1_amd64.deb ...\n",
            "Unpacking squashfs-tools (1:4.5-3build1) ...\n",
            "Selecting previously unselected package udev.\n",
            "Preparing to unpack .../3-udev_249.11-0ubuntu3.12_amd64.deb ...\n",
            "Unpacking udev (249.11-0ubuntu3.12) ...\n",
            "Selecting previously unselected package libfuse3-3:amd64.\n",
            "Preparing to unpack .../4-libfuse3-3_3.10.5-1build1_amd64.deb ...\n",
            "Unpacking libfuse3-3:amd64 (3.10.5-1build1) ...\n",
            "Selecting previously unselected package snapd.\n",
            "Preparing to unpack .../5-snapd_2.67.1+22.04_amd64.deb ...\n",
            "Unpacking snapd (2.67.1+22.04) ...\n",
            "Setting up apparmor (3.0.4-2ubuntu2.4) ...\n",
            "Created symlink /etc/systemd/system/sysinit.target.wants/apparmor.service → /lib/systemd/system/apparmor.service.\n",
            "Setting up liblzo2-2:amd64 (2.10-2build3) ...\n",
            "Setting up squashfs-tools (1:4.5-3build1) ...\n",
            "Setting up udev (249.11-0ubuntu3.12) ...\n",
            "invoke-rc.d: could not determine current runlevel\n",
            "invoke-rc.d: policy-rc.d denied execution of start.\n",
            "Setting up libfuse3-3:amd64 (3.10.5-1build1) ...\n",
            "Setting up snapd (2.67.1+22.04) ...\n",
            "Created symlink /etc/systemd/system/multi-user.target.wants/snapd.apparmor.service → /lib/systemd/system/snapd.apparmor.service.\n",
            "Created symlink /etc/systemd/system/multi-user.target.wants/snapd.autoimport.service → /lib/systemd/system/snapd.autoimport.service.\n",
            "Created symlink /etc/systemd/system/multi-user.target.wants/snapd.core-fixup.service → /lib/systemd/system/snapd.core-fixup.service.\n",
            "Created symlink /etc/systemd/system/multi-user.target.wants/snapd.recovery-chooser-trigger.service → /lib/systemd/system/snapd.recovery-chooser-trigger.service.\n",
            "Created symlink /etc/systemd/system/multi-user.target.wants/snapd.seeded.service → /lib/systemd/system/snapd.seeded.service.\n",
            "Created symlink /etc/systemd/system/cloud-final.service.wants/snapd.seeded.service → /lib/systemd/system/snapd.seeded.service.\n",
            "Unit /lib/systemd/system/snapd.seeded.service is added as a dependency to a non-existent unit cloud-final.service.\n",
            "Created symlink /etc/systemd/system/multi-user.target.wants/snapd.service → /lib/systemd/system/snapd.service.\n",
            "Created symlink /etc/systemd/system/timers.target.wants/snapd.snap-repair.timer → /lib/systemd/system/snapd.snap-repair.timer.\n",
            "Created symlink /etc/systemd/system/sockets.target.wants/snapd.socket → /lib/systemd/system/snapd.socket.\n",
            "Created symlink /etc/systemd/system/final.target.wants/snapd.system-shutdown.service → /lib/systemd/system/snapd.system-shutdown.service.\n",
            "Selecting previously unselected package chromium-browser.\n",
            "(Reading database ... 125384 files and directories currently installed.)\n",
            "Preparing to unpack .../chromium-browser_1%3a85.0.4183.83-0ubuntu2.22.04.1_amd64.deb ...\n",
            "=> Installing the chromium snap\n",
            "==> Checking connectivity with the snap store\n",
            "===> System doesn't have a working snapd, skipping\n",
            "Unpacking chromium-browser (1:85.0.4183.83-0ubuntu2.22.04.1) ...\n",
            "Selecting previously unselected package chromium-chromedriver.\n",
            "Preparing to unpack .../chromium-chromedriver_1%3a85.0.4183.83-0ubuntu2.22.04.1_amd64.deb ...\n",
            "Unpacking chromium-chromedriver (1:85.0.4183.83-0ubuntu2.22.04.1) ...\n",
            "Selecting previously unselected package systemd-hwe-hwdb.\n",
            "Preparing to unpack .../systemd-hwe-hwdb_249.11.5_all.deb ...\n",
            "Unpacking systemd-hwe-hwdb (249.11.5) ...\n",
            "Setting up systemd-hwe-hwdb (249.11.5) ...\n",
            "Setting up chromium-browser (1:85.0.4183.83-0ubuntu2.22.04.1) ...\n",
            "update-alternatives: using /usr/bin/chromium-browser to provide /usr/bin/x-www-browser (x-www-browser) in auto mode\n",
            "update-alternatives: using /usr/bin/chromium-browser to provide /usr/bin/gnome-www-browser (gnome-www-browser) in auto mode\n",
            "Setting up chromium-chromedriver (1:85.0.4183.83-0ubuntu2.22.04.1) ...\n",
            "Processing triggers for udev (249.11-0ubuntu3.12) ...\n",
            "Processing triggers for mailcap (3.70+nmu1ubuntu1) ...\n",
            "Processing triggers for hicolor-icon-theme (0.17-2) ...\n",
            "Processing triggers for libc-bin (2.35-0ubuntu3.8) ...\n",
            "/sbin/ldconfig.real: /usr/local/lib/libtbbbind_2_0.so.3 is not a symbolic link\n",
            "\n",
            "/sbin/ldconfig.real: /usr/local/lib/libtbb.so.12 is not a symbolic link\n",
            "\n",
            "/sbin/ldconfig.real: /usr/local/lib/libur_loader.so.0 is not a symbolic link\n",
            "\n",
            "/sbin/ldconfig.real: /usr/local/lib/libumf.so.0 is not a symbolic link\n",
            "\n",
            "/sbin/ldconfig.real: /usr/local/lib/libtbbmalloc.so.2 is not a symbolic link\n",
            "\n",
            "/sbin/ldconfig.real: /usr/local/lib/libhwloc.so.15 is not a symbolic link\n",
            "\n",
            "/sbin/ldconfig.real: /usr/local/lib/libtcm.so.1 is not a symbolic link\n",
            "\n",
            "/sbin/ldconfig.real: /usr/local/lib/libur_adapter_level_zero.so.0 is not a symbolic link\n",
            "\n",
            "/sbin/ldconfig.real: /usr/local/lib/libtbbmalloc_proxy.so.2 is not a symbolic link\n",
            "\n",
            "/sbin/ldconfig.real: /usr/local/lib/libtbbbind.so.3 is not a symbolic link\n",
            "\n",
            "/sbin/ldconfig.real: /usr/local/lib/libtcm_debug.so.1 is not a symbolic link\n",
            "\n",
            "/sbin/ldconfig.real: /usr/local/lib/libur_adapter_opencl.so.0 is not a symbolic link\n",
            "\n",
            "/sbin/ldconfig.real: /usr/local/lib/libtbbbind_2_5.so.3 is not a symbolic link\n",
            "\n",
            "Processing triggers for man-db (2.10.2-1) ...\n",
            "Processing triggers for dbus (1.12.20-2ubuntu4.1) ...\n",
            "Collecting chromedriver-autoinstaller\n",
            "  Downloading chromedriver_autoinstaller-0.6.4-py3-none-any.whl.metadata (2.1 kB)\n",
            "Requirement already satisfied: packaging>=23.1 in /usr/local/lib/python3.11/dist-packages (from chromedriver-autoinstaller) (24.2)\n",
            "Downloading chromedriver_autoinstaller-0.6.4-py3-none-any.whl (7.6 kB)\n",
            "Installing collected packages: chromedriver-autoinstaller\n",
            "Successfully installed chromedriver-autoinstaller-0.6.4\n"
          ]
        }
      ]
    },
    {
      "cell_type": "code",
      "source": [
        "!python --version\n",
        "\n",
        "import selenium\n",
        "print(selenium.__version__)"
      ],
      "metadata": {
        "colab": {
          "base_uri": "https://localhost:8080/"
        },
        "id": "JT5T6YtKZNW2",
        "outputId": "09c476ea-d165-4c21-83d2-a25912866905"
      },
      "execution_count": null,
      "outputs": [
        {
          "output_type": "stream",
          "name": "stdout",
          "text": [
            "Python 3.11.11\n",
            "4.29.0\n"
          ]
        }
      ]
    },
    {
      "cell_type": "code",
      "source": [
        "from selenium import webdriver\n",
        "from selenium.webdriver.support.ui import WebDriverWait\n",
        "from selenium.webdriver.support import expected_conditions as EC\n",
        "from selenium.webdriver.common.by import By\n",
        "import sys\n",
        "from selenium.webdriver.common.keys import Keys\n",
        "import urllib.request\n",
        "import os\n",
        "from urllib.request import urlretrieve\n",
        "\n",
        "import time\n",
        "import pandas as pd\n",
        "import chromedriver_autoinstaller  # setup chrome options"
      ],
      "metadata": {
        "id": "BVs9TIS0ZQGg"
      },
      "execution_count": null,
      "outputs": []
    },
    {
      "cell_type": "code",
      "source": [
        "# 크롬 드라이버 경로\n",
        "chrome_path = \"/content/drive/MyDrive/Colab Notebooks/chromedriver\""
      ],
      "metadata": {
        "id": "Ht5DK1yGZQLc"
      },
      "execution_count": null,
      "outputs": []
    },
    {
      "cell_type": "code",
      "source": [
        "# 셀리니움을 실행할때 적용할 옵션\n",
        "# 백그라운드에서\n",
        "sys.path.insert(0,chrome_path)\n",
        "chrome_options = webdriver.ChromeOptions()\n",
        "chrome_options.add_argument('--headless') # ensure GUI is off\n",
        "chrome_options.add_argument('--no-sandbox')\n",
        "chrome_options.add_argument('--disable-dev-shm-usage')  # set path to chromedriver as per your configuration\n",
        "chrome_options.add_argument('lang=ko_KR') # 한국어\n",
        "\n",
        "chromedriver_autoinstaller.install()  # set the target URL"
      ],
      "metadata": {
        "id": "eht7bCiSYpvN"
      },
      "execution_count": null,
      "outputs": []
    },
    {
      "cell_type": "code",
      "execution_count": null,
      "metadata": {
        "colab": {
          "base_uri": "https://localhost:8080/"
        },
        "collapsed": true,
        "id": "b5XQuBpRYTgz",
        "outputId": "be57df2b-6bb2-4bec-b1c4-88297010d3c3"
      },
      "outputs": [
        {
          "output_type": "stream",
          "name": "stdout",
          "text": [
            "{'매장명': '경복궁역3번출구점', '영업시간': '월-금 07:00~22:00 | 토 08:00~22:00 | 일/공휴일 08:00~21:00 |', '주차': '', '주소': '서울특별시 종로구 자하문로 10  ', '전화번호': '02-557-0510', '기타': '홀케익 당일 수령가능'}\n"
          ]
        }
      ],
      "source": [
        "from selenium import webdriver\n",
        "from selenium.webdriver.common.by import By\n",
        "from bs4 import BeautifulSoup\n",
        "import time\n",
        "\n",
        "url = 'https://www.coffeebeankorea.com/store/store.asp'\n",
        "driver = webdriver.Chrome(options=chrome_options)\n",
        "driver.get(url)\n",
        "time.sleep(1)\n",
        "\n",
        "driver.execute_script(\"storePop2('400')\")\n",
        "time.sleep(1)\n",
        "html = driver.page_source\n",
        "soup = BeautifulSoup(html, 'html.parser')\n",
        "\n",
        "names = ['영업시간','주차','주소','전화번호','기타']\n",
        "# saved_dict = {'매장명':   soup.find('div',class_='store_txt').text}\n",
        "saved_dict = {'매장명':   soup.select('div.store_txt > h2')[0].text}\n",
        "\n",
        "# 테이블 구조를 파싱\n",
        "tr_lists = soup.select('#matizCoverLayer0Content > div > \\\n",
        "        div > div.store_txt > table > tbody:nth-child(1) > tr')\n",
        "\n",
        "for idx,tr in enumerate(tr_lists):\n",
        "    saved_dict[names[idx]] = tr.find('td').text\n",
        "print(saved_dict)\n",
        "driver.quit()"
      ]
    },
    {
      "cell_type": "markdown",
      "source": [
        "# 차량 등록대수 수집"
      ],
      "metadata": {
        "id": "A0uWH9odZaAH"
      }
    },
    {
      "cell_type": "code",
      "source": [
        "from selenium import webdriver\n",
        "from selenium.webdriver.common.by import By\n",
        "from selenium.webdriver.support.select import Select\n",
        "from bs4 import BeautifulSoup\n",
        "import time\n",
        "\n",
        "url = 'https://auto.danawa.com/auto/?Work=record'\n",
        "driver = webdriver.Chrome(options=chrome_options)\n",
        "driver.get(url)\n",
        "time.sleep(1)\n",
        "\n",
        "year_select = Select(driver.find_element(By.XPATH, '//*[@id=\"selMonth\"]') )\n",
        "year_select.select_by_value(\"2024\")\n",
        "month_select = Select(driver.find_element(By.XPATH, '//*[@id=\"selDay\"]') )\n",
        "month_select.select_by_value(\"01\")\n",
        "time.sleep(3)\n",
        "\n",
        "month_select = Select(driver.find_element(By.XPATH, '//*[@id=\"selDay\"]') )\n",
        "month_select.select_by_value(\"02\")\n",
        "time.sleep(3)\n",
        "\n",
        "month_select = Select(driver.find_element(By.XPATH, '//*[@id=\"selDay\"]') )\n",
        "month_select.select_by_value(\"03\")\n",
        "\n",
        "\n",
        "driver.quit()"
      ],
      "metadata": {
        "id": "xXfQVVsUeDT2"
      },
      "execution_count": null,
      "outputs": []
    },
    {
      "cell_type": "markdown",
      "source": [
        "# 기간별로 수집 - 다나와"
      ],
      "metadata": {
        "id": "kdO2_WfQpAtN"
      }
    },
    {
      "cell_type": "code",
      "source": [
        "from selenium import webdriver\n",
        "from selenium.webdriver.common.by import By\n",
        "from selenium.webdriver.support.select import Select\n",
        "from bs4 import BeautifulSoup\n",
        "import time\n",
        "\n",
        "url = 'https://auto.danawa.com/auto/?Work=record'\n",
        "driver = webdriver.Chrome()\n",
        "driver.get(url)\n",
        "time.sleep(1)\n",
        "\n",
        "radio_button = driver.find_element(By.XPATH,'//*[@id=\"monthPeriodDiv\"]/span[2]/label/input')\n",
        "radio_button.click()\n",
        "from_year = Select(driver.find_element(By.XPATH, '//*[@id=\"selMonthFrom\"]') )\n",
        "from_year.select_by_value(\"2024\")\n",
        "from_month = Select(driver.find_element(By.XPATH, '//*[@id=\"selDayFrom\"]') )\n",
        "from_month.select_by_value(\"01\")\n",
        "\n",
        "to_year = Select(driver.find_element(By.XPATH, '//*[@id=\"selMonthTo\"]') )\n",
        "to_year.select_by_value(\"2024\")\n",
        "to_month = Select(driver.find_element(By.XPATH, '//*[@id=\"selDayTo\"]') )\n",
        "to_month.select_by_value(\"12\")\n",
        "\n",
        "button = driver.find_element(By.XPATH,'//*[@id=\"monthPeriodDiv\"]/span[2]/input')\n",
        "button.click()\n",
        "time.sleep(1)\n",
        "\n",
        "more_search = driver.find_element(By.XPATH,\n",
        "                    '//*[@id=\"autodanawa_gridC\"]/div[3]/article/main/div/div[2]/div[1]/a')\n",
        "more_search.click()\n",
        "time.sleep(1)\n",
        "\n",
        "# BeautiSoup으로 파싱\n",
        "html = driver.page_source\n",
        "driver.quit()"
      ],
      "metadata": {
        "id": "95Gc_It5pAw0"
      },
      "execution_count": null,
      "outputs": []
    },
    {
      "cell_type": "markdown",
      "source": [
        "![image.png](data:image/png;base64,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)"
      ],
      "metadata": {
        "id": "FBcWqAMtxauU"
      }
    },
    {
      "cell_type": "code",
      "source": [
        "from selenium import webdriver\n",
        "from selenium.webdriver.common.by import By\n",
        "from selenium.webdriver.support.select import Select\n",
        "from bs4 import BeautifulSoup\n",
        "import time\n",
        "\n",
        "url = 'https://auto.danawa.com/auto/?Work=record'\n",
        "driver = webdriver.Chrome()\n",
        "driver.get(url)\n",
        "time.sleep(1)\n",
        "\n",
        "for i in range(1,17):\n",
        "    button = driver.find_element(By.XPATH, f'//*[@id=\"finder_newcar\"]/div[1]/div[1]/ul/li[{i}]/button')\n",
        "    button.click()\n",
        "    time.sleep(1)\n",
        "    if i !=1 :\n",
        "        button = driver.find_element(By.XPATH, f'//*[@id=\"finder_newcar\"]/div[1]/div[1]/ul/li[{i-1}]/button')\n",
        "        button.click()\n",
        "        time.sleep(1)\n",
        "    html = driver.page_source\n",
        "    soup = BeautifulSoup(html, 'html.parser')\n",
        "    datas = soup.select('#autodanawa_gridC > div.gridMain > \\\n",
        "        article > main > div > table.recordTable.model > tbody > tr')\n",
        "    for row in datas:\n",
        "        print(row.select('td.title')[0].text.strip())\n",
        "\n",
        "driver.quit()"
      ],
      "metadata": {
        "id": "yBt2HrkGxich"
      },
      "execution_count": null,
      "outputs": []
    },
    {
      "cell_type": "markdown",
      "source": [
        "# e 나라지표\n",
        "https://www.index.go.kr/unity/potal/main/EachDtlPageDetail.do?idx_cd=1257"
      ],
      "metadata": {
        "id": "r971euCJKgqT"
      }
    },
    {
      "cell_type": "code",
      "source": [
        "# 셀리니움으로 프레임전화 방식\n",
        "from selenium import webdriver\n",
        "from selenium.webdriver.common.by import By\n",
        "from selenium.webdriver.support.select import Select\n",
        "from bs4 import BeautifulSoup\n",
        "import time\n",
        "import requests\n",
        "\n",
        "url = 'https://www.index.go.kr/unity/potal/main/EachDtlPageDetail.do?idx_cd=1257'\n",
        "driver = webdriver.Chrome()\n",
        "driver.get(url)\n",
        "time.sleep(1)\n",
        "\n",
        "# iframe 찾기\n",
        "iframe = driver.find_element(By.ID, 'showStblGams')\n",
        "driver.switch_to.frame(iframe)  # iframe으로 변환\n",
        "html = driver.page_source\n",
        "soup = BeautifulSoup(html, 'html.parser')   # 소스 파싱\n",
        "for tr in soup.select('#t_Table_125701 > tbody > tr'):\n",
        "    print(tr.text)\n",
        "    print('-'*100)\n",
        "\n",
        "driver.quit()"
      ],
      "metadata": {
        "id": "IX9dkMHtKgwL"
      },
      "execution_count": null,
      "outputs": []
    },
    {
      "cell_type": "markdown",
      "source": [
        "# 한국교통안전공단_자동차종합정보 신규등록정보 서비스\n",
        "https://www.data.go.kr/data/15059401/openapi.do"
      ],
      "metadata": {
        "id": "AmY2W_wxUlYT"
      }
    },
    {
      "cell_type": "markdown",
      "source": [
        "# 경기도_자동차등록 집계 현황"
      ],
      "metadata": {
        "id": "fpUm1jOOUnUq"
      }
    },
    {
      "cell_type": "code",
      "source": [
        "import requests\n",
        "import json\n",
        "serviceKey = '4dr0Ui4/QMen1/waNp8qkB24tz549lFOnJIJl/BzZami5c434Bui7bVOp5j1EVKBJzQF2VCgW8QY2lbbXyhqNA=='\n",
        "url = 'https://openapi.gg.go.kr/CarRegistration?'\n",
        "params ={'KEY' : serviceKey, 'Type' : 'json'}\n",
        "response.encoding = response.apparent_encoding  # 시스템에서 사용한 인코딩 자동 감지\n",
        "response = requests.get(url, params=params)\n",
        "result_dict = json.loads(response.content)\n",
        "result_dict['row']\n",
        "print(json.dumps(result_dict, indent=2,ensure_ascii=False) )\n"
      ],
      "metadata": {
        "id": "eRBH8cuKa92a"
      },
      "execution_count": null,
      "outputs": []
    },
    {
      "cell_type": "markdown",
      "source": [
        "# 네이버 자동차"
      ],
      "metadata": {
        "id": "3EZp2ej-fFBA"
      }
    },
    {
      "cell_type": "code",
      "source": [
        "url = 'https://search.naver.com/search.naver?sm=tab_hty.top&where=nexearch&ssc=tab.nx.all&query=%EC%9E%90%EB%8F%99%EC%B0%A8+%ED%8C%90%EB%A7%A4%EB%9F%89&oquery=%EB%84%A4%EC%9D%B4%EB%B2%84+%EC%8B%A0%EC%B0%A8+%ED%8C%90%EB%A7%A4%EB%9F%89&tqi=i9nRHlqosesss4arjwKssssssyG-448832'\n",
        "from selenium import webdriver\n",
        "from selenium.webdriver.common.by import By\n",
        "from selenium.webdriver.support.select import Select\n",
        "from bs4 import BeautifulSoup\n",
        "import time\n",
        "import requests\n",
        "\n",
        "driver = webdriver.Chrome()\n",
        "driver.get(url)\n",
        "time.sleep(1)  # 웹사이트 기다림\n",
        "\n",
        "button = driver.find_element(By.XPATH,'//*[@id=\"main_pack\"]/div[3]/div[2]/div[1]/\\\n",
        "    div/div[1]/div/div[1]/a[2]')\n",
        "button.click()\n",
        "time.sleep(1)  # 팝업 기다림\n",
        "\n",
        "button = driver.find_element(By.XPATH, '//*[@id=\"main_pack\"]/div[3]/div[2]/div[1]/div\\\n",
        "    /div[1]/div/div[2]/div/div[2]/div/div/div/ul/li[1]/a')\n",
        "button.click()\n",
        "time.sleep(1)  # 변경된 데이터 반영 기다림\n",
        "\n",
        "# 파싱\n",
        "html = driver.page_source\n",
        "soup = BeautifulSoup(html, 'html.parser')\n",
        "div_lists = soup.select('#main_pack > div.sc_new.cs_common_module.case_list.color_5._cs_car_month_list > \\\n",
        "    div.cm_content_wrap > div.cm_content_area > div > div._car_panel_wrapper > \\\n",
        "    div:nth-child(1) > div > div')\n",
        "for div in div_lists:\n",
        "    print(div.find('strong',class_='title').text ,\n",
        "          div.find_all('span',class_='info_txt')[0].text,\n",
        "          div.find_all('span',class_='info_txt')[1].text\n",
        "         )\n",
        "\n",
        "driver.quit()"
      ],
      "metadata": {
        "id": "t1OUIz_QfGEf"
      },
      "execution_count": null,
      "outputs": []
    },
    {
      "cell_type": "markdown",
      "source": [
        "# 2페이지가지 가져오기"
      ],
      "metadata": {
        "id": "Rm9f6f66k0G3"
      }
    },
    {
      "cell_type": "code",
      "source": [
        "url = 'https://search.naver.com/search.naver?sm=tab_hty.top&where=nexearch&ssc=tab.nx.all&query=%EC%9E%90%EB%8F%99%EC%B0%A8+%ED%8C%90%EB%A7%A4%EB%9F%89&oquery=%EB%84%A4%EC%9D%B4%EB%B2%84+%EC%8B%A0%EC%B0%A8+%ED%8C%90%EB%A7%A4%EB%9F%89&tqi=i9nRHlqosesss4arjwKssssssyG-448832'\n",
        "from selenium import webdriver\n",
        "from selenium.webdriver.common.by import By\n",
        "from selenium.webdriver.support.select import Select\n",
        "from bs4 import BeautifulSoup\n",
        "import time\n",
        "import requests\n",
        "\n",
        "driver = webdriver.Chrome()\n",
        "driver.get(url)   # 메이 사이트 접속\n",
        "time.sleep(1)  # 웹사이트 기다림\n",
        "\n",
        "# 1월선택을 위해 month 팝업클릭\n",
        "button = driver.find_element(By.XPATH,'//*[@id=\"main_pack\"]/div[3]/div[2]/div[1]/\\\n",
        "    div/div[1]/div/div[1]/a[2]')\n",
        "button.click()\n",
        "time.sleep(1)  # 팝업 기다림\n",
        "\n",
        "# month 팝업에서 1월 선택\n",
        "button = driver.find_element(By.XPATH, '//*[@id=\"main_pack\"]/div[3]/div[2]/div[1]/div\\\n",
        "    /div[1]/div/div[2]/div/div[2]/div/div/div/ul/li[1]/a')\n",
        "button.click()\n",
        "time.sleep(1)  # 변경된 데이터 반영 기다림\n",
        "\n",
        "# 데이터 파싱\n",
        "html = driver.page_source\n",
        "soup = BeautifulSoup(html, 'html.parser')\n",
        "div_lists = soup.select('#main_pack > div.sc_new.cs_common_module.case_list.color_5._cs_car_month_list > \\\n",
        "    div.cm_content_wrap > div.cm_content_area > div > div._car_panel_wrapper > \\\n",
        "    div:nth-child(1) > div > div')\n",
        "for div in div_lists:\n",
        "    print(div.find('strong',class_='title').text ,\n",
        "          div.find_all('span',class_='info_txt')[0].text,\n",
        "          div.find_all('span',class_='info_txt')[1].text\n",
        "         )\n",
        "\n",
        "print('2 page -----------------------------------------------------------------')\n",
        "# 다음페이지 이동\n",
        "next_xpath = '//*[@id=\"main_pack\"]/div[3]/div[2]/div[1]/div/div[4]/div/a[2]'\n",
        "next_button = driver.find_element(By.XPATH, next_xpath)\n",
        "next_button.click()\n",
        "time.sleep(1) # 다음페이지 나올때 까지 기다림\n",
        "\n",
        "# 데이터 파싱\n",
        "html = driver.page_source\n",
        "soup = BeautifulSoup(html, 'html.parser')\n",
        "div_lists = soup.select('#main_pack > div.sc_new.cs_common_module.case_list.color_5._cs_car_month_list > \\\n",
        "    div.cm_content_wrap > div.cm_content_area > div > div._car_panel_wrapper > \\\n",
        "    div:nth-child(2) > div > div')\n",
        "for div in div_lists:\n",
        "    print(div.find('strong',class_='title').text ,\n",
        "          div.find_all('span',class_='info_txt')[0].text,\n",
        "          div.find_all('span',class_='info_txt')[1].text\n",
        "         )\n",
        "\n",
        "# 종료\n",
        "driver.quit()"
      ],
      "metadata": {
        "id": "qDsHoDnTfKkx"
      },
      "execution_count": null,
      "outputs": []
    },
    {
      "cell_type": "markdown",
      "source": [
        "# 전체 페이지 가져오기"
      ],
      "metadata": {
        "id": "_oY2SefhwhQC"
      }
    },
    {
      "cell_type": "code",
      "source": [
        "def data_parser(driver,page_num):\n",
        "    html = driver.page_source\n",
        "    soup = BeautifulSoup(html, 'html.parser')\n",
        "    div_lists = soup.select(f'#main_pack > div.sc_new.cs_common_module.case_list.color_5._cs_car_month_list > \\\n",
        "        div.cm_content_wrap > div.cm_content_area > div > div._car_panel_wrapper > \\\n",
        "        div:nth-child({page_num}) > div > div')\n",
        "    for div in div_lists:\n",
        "        print(div.find('strong',class_='title').text ,\n",
        "              div.find_all('span',class_='info_txt')[0].text,\n",
        "              div.find_all('span',class_='info_txt')[1].text\n",
        "             )"
      ],
      "metadata": {
        "id": "lxu8J5_1xLZu"
      },
      "execution_count": null,
      "outputs": []
    },
    {
      "cell_type": "code",
      "source": [
        "url = 'https://search.naver.com/search.naver?sm=tab_hty.top&where=nexearch&ssc=tab.nx.all&query=%EC%9E%90%EB%8F%99%EC%B0%A8+%ED%8C%90%EB%A7%A4%EB%9F%89&oquery=%EB%84%A4%EC%9D%B4%EB%B2%84+%EC%8B%A0%EC%B0%A8+%ED%8C%90%EB%A7%A4%EB%9F%89&tqi=i9nRHlqosesss4arjwKssssssyG-448832'\n",
        "from selenium import webdriver\n",
        "from selenium.webdriver.common.by import By\n",
        "from selenium.webdriver.support.select import Select\n",
        "from bs4 import BeautifulSoup\n",
        "import time\n",
        "import requests\n",
        "\n",
        "driver = webdriver.Chrome()\n",
        "driver.get(url)   # 메이 사이트 접속\n",
        "time.sleep(1)  # 웹사이트 기다림\n",
        "\n",
        "# 1월선택을 위해 month 팝업클릭\n",
        "button = driver.find_element(By.XPATH,'//*[@id=\"main_pack\"]/div[3]/div[2]/div[1]/\\\n",
        "    div/div[1]/div/div[1]/a[2]')\n",
        "button.click()\n",
        "time.sleep(1)  # 팝업 기다림\n",
        "\n",
        "# month 팝업에서 1월 선택\n",
        "button = driver.find_element(By.XPATH, '//*[@id=\"main_pack\"]/div[3]/div[2]/div[1]/div\\\n",
        "    /div[1]/div/div[2]/div/div[2]/div/div/div/ul/li[1]/a')\n",
        "button.click()\n",
        "time.sleep(1)  # 변경된 데이터 반영 기다림\n",
        "\n",
        "data_parser(driver,1)\n",
        "for i in range(2,14):  # 1\n",
        "    print(f'페이지 {i}'+ ('-'*50) )\n",
        "    # 다음페이지 이동\n",
        "    next_xpath = '//*[@id=\"main_pack\"]/div[3]/div[2]/div[1]/div/div[4]/div/a[2]'\n",
        "    next_button = driver.find_element(By.XPATH, next_xpath)\n",
        "    next_button.click()\n",
        "    time.sleep(1) # 다음페이지 나올때 까지 기다림\n",
        "    # 데이터 파싱\n",
        "    data_parser(driver,i)\n",
        "\n",
        "# 종료\n",
        "driver.quit()"
      ],
      "metadata": {
        "id": "ke41jonvwi98"
      },
      "execution_count": null,
      "outputs": []
    }
  ]
}