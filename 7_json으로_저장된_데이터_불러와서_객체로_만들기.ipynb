{
  "nbformat": 4,
  "nbformat_minor": 0,
  "metadata": {
    "colab": {
      "provenance": [],
      "include_colab_link": true
    },
    "kernelspec": {
      "name": "python3",
      "display_name": "Python 3"
    },
    "language_info": {
      "name": "python"
    }
  },
  "cells": [
    {
      "cell_type": "markdown",
      "metadata": {
        "id": "view-in-github",
        "colab_type": "text"
      },
      "source": [
        "<a href=\"https://colab.research.google.com/github/AshOne91/PLAYDATA-COLAB/blob/main/7_json%EC%9C%BC%EB%A1%9C_%EC%A0%80%EC%9E%A5%EB%90%9C_%EB%8D%B0%EC%9D%B4%ED%84%B0_%EB%B6%88%EB%9F%AC%EC%99%80%EC%84%9C_%EA%B0%9D%EC%B2%B4%EB%A1%9C_%EB%A7%8C%EB%93%A4%EA%B8%B0.ipynb\" target=\"_parent\"><img src=\"https://colab.research.google.com/assets/colab-badge.svg\" alt=\"Open In Colab\"/></a>"
      ]
    },
    {
      "cell_type": "code",
      "execution_count": null,
      "metadata": {
        "colab": {
          "base_uri": "https://localhost:8080/"
        },
        "id": "w39B_YGOYUW4",
        "outputId": "6d33fe05-0382-4dc3-b8b0-544ff708c8ce"
      },
      "outputs": [
        {
          "output_type": "stream",
          "name": "stdout",
          "text": [
            "홍길동 20 {'kor': 100, 'eng': 98, 'math': 95}\n",
            "이순신 20 {'kor': 99, 'eng': 88, 'math': 75}\n"
          ]
        }
      ],
      "source": [
        "import sys\n",
        "sys.path.append('/content/drive/MyDrive/module')\n",
        "\n",
        "import json\n",
        "from student import Student\n",
        "# json형태(문자열로 된 dict)된 문자열을 읽어서 실제 객체로 반환 --> 리스트\n",
        "def load_students(filename = '/content/drive/MyDrive/data/student.json'):\n",
        "  with open(filename,'r',encoding='utf-8') as f:\n",
        "    data = json.load(f)  # 딕셔너리들을 포함하는 리스트\n",
        "  return [ Student.from_dict(student) for student in data ]  # [객체,객체,객체]\n",
        "# 불러오기\n",
        "loaded_student = load_students()\n",
        "for student in loaded_student:\n",
        "  print(student)"
      ]
    },
    {
      "cell_type": "code",
      "source": [
        "# Streamlit 설치 (최초 1회)\n",
        "!pip install streamlit -q"
      ],
      "metadata": {
        "colab": {
          "base_uri": "https://localhost:8080/"
        },
        "id": "Ccuq_yhqY0bQ",
        "outputId": "3f596b2d-3b64-434f-c169-83b8ff75c009"
      },
      "execution_count": null,
      "outputs": [
        {
          "output_type": "stream",
          "name": "stderr",
          "text": [
            "UsageError: Line magic function `%%writefile` not found.\n"
          ]
        }
      ]
    },
    {
      "cell_type": "code",
      "source": [
        "# Streamlit 앱 작성\n",
        "%%writefile app.py\n",
        "import streamlit as st\n",
        "st.title(\"Streamlit 테스트\")\n",
        "st.write(\"안녕하세요, Streamlit을 Colab에서 실행 중입니다!\")"
      ],
      "metadata": {
        "colab": {
          "base_uri": "https://localhost:8080/"
        },
        "id": "X-z9jCZKnSW-",
        "outputId": "5c9ff9c6-9fc0-4a68-8713-dfeaee2c50c1"
      },
      "execution_count": null,
      "outputs": [
        {
          "output_type": "stream",
          "name": "stdout",
          "text": [
            "Writing app.py\n"
          ]
        }
      ]
    },
    {
      "cell_type": "code",
      "source": [
        "# Streamlit 백그라운드 실행\n",
        "!streamlit run app.py &>/dev/null &\n",
        "\n",
        "# localtunnel 자동 설치 및 실행\n",
        "!npx localtunnel --port 8501 --yes  # --yes로 설치 확인 자동화\n",
        "\n",
        "# 공용 IP 확인 (Tunnel Password로 사용)\n",
        "!curl ipv4.icanhazip.com"
      ],
      "metadata": {
        "colab": {
          "base_uri": "https://localhost:8080/"
        },
        "id": "rKESwzbjm8xa",
        "outputId": "deaee426-825f-42f7-a1ff-020242158f2a"
      },
      "execution_count": null,
      "outputs": [
        {
          "output_type": "stream",
          "name": "stdout",
          "text": [
            "\u001b[1G\u001b[0K⠙\u001b[1G\u001b[0K⠹\u001b[1G\u001b[0K⠸\u001b[1G\u001b[0K⠼\u001b[1G\u001b[0K⠴\u001b[1G\u001b[0Kyour url is: https://yellow-chefs-learn.loca.lt\n",
            "^C\n",
            "34.106.110.205\n"
          ]
        }
      ]
    },
    {
      "cell_type": "code",
      "source": [
        "!curl ipv4.icanhazip.com"
      ],
      "metadata": {
        "colab": {
          "base_uri": "https://localhost:8080/"
        },
        "id": "mnWCbcEjnUmf",
        "outputId": "536c77f5-e79c-4ac3-e729-0bcdc6a996ae"
      },
      "execution_count": null,
      "outputs": [
        {
          "output_type": "stream",
          "name": "stdout",
          "text": [
            "34.106.110.205\n"
          ]
        }
      ]
    },
    {
      "cell_type": "code",
      "source": [],
      "metadata": {
        "id": "GQb6i8x9ngMX"
      },
      "execution_count": null,
      "outputs": []
    }
  ]
}