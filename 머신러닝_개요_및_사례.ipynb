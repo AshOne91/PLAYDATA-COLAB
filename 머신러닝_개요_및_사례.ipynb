{
  "nbformat": 4,
  "nbformat_minor": 0,
  "metadata": {
    "colab": {
      "provenance": [],
      "include_colab_link": true
    },
    "kernelspec": {
      "name": "python3",
      "display_name": "Python 3"
    },
    "language_info": {
      "name": "python"
    }
  },
  "cells": [
    {
      "cell_type": "markdown",
      "metadata": {
        "id": "view-in-github",
        "colab_type": "text"
      },
      "source": [
        "<a href=\"https://colab.research.google.com/github/AshOne91/PLAYDATA-COLAB/blob/main/%EB%A8%B8%EC%8B%A0%EB%9F%AC%EB%8B%9D_%EA%B0%9C%EC%9A%94_%EB%B0%8F_%EC%82%AC%EB%A1%80.ipynb\" target=\"_parent\"><img src=\"https://colab.research.google.com/assets/colab-badge.svg\" alt=\"Open In Colab\"/></a>"
      ]
    },
    {
      "cell_type": "code",
      "source": [
        "bream_length = [25.4, 26.3, 26.5, 29.0, 29.0, 29.7, 29.7, 30.0, 30.0, 30.7, 31.0, 31.0, 31.5, 32.0, 32.0, 32.0, 33.0, 33.0, 33.5, 33.5, 34.0, 34.0, 34.5, 35.0, 35.0, 35.0, 35.0, 36.0, 36.0, 37.0, 38.5, 38.5, 39.5, 41.0, 41.0]\n",
        "bream_weight = [242.0, 290.0, 340.0, 363.0, 430.0, 450.0, 500.0, 390.0, 450.0, 500.0, 475.0, 500.0, 500.0, 340.0, 600.0, 600.0, 700.0, 700.0, 610.0, 650.0, 575.0, 685.0, 620.0, 680.0, 700.0, 725.0, 720.0, 714.0, 850.0, 1000.0, 920.0, 955.0, 925.0, 975.0, 950.0]\n",
        "smelt_length = [9.8, 10.5, 10.6, 11.0, 11.2, 11.3, 11.8, 11.8, 12.0, 12.2, 12.4, 13.0, 14.3, 15.0]\n",
        "smelt_weight = [6.7, 7.5, 7.0, 9.7, 9.8, 8.7, 10.0, 9.9, 9.8, 12.2, 13.4, 12.2, 19.7, 19.9]\n",
        "length = bream_length + smelt_length\n",
        "weight = bream_weight + smelt_weight\n",
        "import pandas as pd\n",
        "data = {\n",
        "    'length' : length,\n",
        "    'weight' : weight,\n",
        "    'class' : [1] * len(bream_length) + [0] * len(smelt_length)\n",
        "}\n",
        "df = pd.DataFrame(data)\n",
        "df.head()\n"
      ],
      "metadata": {
        "colab": {
          "base_uri": "https://localhost:8080/",
          "height": 206
        },
        "id": "fAjaTtj1to74",
        "outputId": "2c4c6b85-ae62-477b-ffa2-ce70cfcc3c32"
      },
      "execution_count": null,
      "outputs": [
        {
          "output_type": "execute_result",
          "data": {
            "text/plain": [
              "   length  weight  class\n",
              "0    25.4   242.0      1\n",
              "1    26.3   290.0      1\n",
              "2    26.5   340.0      1\n",
              "3    29.0   363.0      1\n",
              "4    29.0   430.0      1"
            ],
            "text/html": [
              "\n",
              "  <div id=\"df-09151571-0fc8-4396-bb5f-971ce715bc82\" class=\"colab-df-container\">\n",
              "    <div>\n",
              "<style scoped>\n",
              "    .dataframe tbody tr th:only-of-type {\n",
              "        vertical-align: middle;\n",
              "    }\n",
              "\n",
              "    .dataframe tbody tr th {\n",
              "        vertical-align: top;\n",
              "    }\n",
              "\n",
              "    .dataframe thead th {\n",
              "        text-align: right;\n",
              "    }\n",
              "</style>\n",
              "<table border=\"1\" class=\"dataframe\">\n",
              "  <thead>\n",
              "    <tr style=\"text-align: right;\">\n",
              "      <th></th>\n",
              "      <th>length</th>\n",
              "      <th>weight</th>\n",
              "      <th>class</th>\n",
              "    </tr>\n",
              "  </thead>\n",
              "  <tbody>\n",
              "    <tr>\n",
              "      <th>0</th>\n",
              "      <td>25.4</td>\n",
              "      <td>242.0</td>\n",
              "      <td>1</td>\n",
              "    </tr>\n",
              "    <tr>\n",
              "      <th>1</th>\n",
              "      <td>26.3</td>\n",
              "      <td>290.0</td>\n",
              "      <td>1</td>\n",
              "    </tr>\n",
              "    <tr>\n",
              "      <th>2</th>\n",
              "      <td>26.5</td>\n",
              "      <td>340.0</td>\n",
              "      <td>1</td>\n",
              "    </tr>\n",
              "    <tr>\n",
              "      <th>3</th>\n",
              "      <td>29.0</td>\n",
              "      <td>363.0</td>\n",
              "      <td>1</td>\n",
              "    </tr>\n",
              "    <tr>\n",
              "      <th>4</th>\n",
              "      <td>29.0</td>\n",
              "      <td>430.0</td>\n",
              "      <td>1</td>\n",
              "    </tr>\n",
              "  </tbody>\n",
              "</table>\n",
              "</div>\n",
              "    <div class=\"colab-df-buttons\">\n",
              "\n",
              "  <div class=\"colab-df-container\">\n",
              "    <button class=\"colab-df-convert\" onclick=\"convertToInteractive('df-09151571-0fc8-4396-bb5f-971ce715bc82')\"\n",
              "            title=\"Convert this dataframe to an interactive table.\"\n",
              "            style=\"display:none;\">\n",
              "\n",
              "  <svg xmlns=\"http://www.w3.org/2000/svg\" height=\"24px\" viewBox=\"0 -960 960 960\">\n",
              "    <path d=\"M120-120v-720h720v720H120Zm60-500h600v-160H180v160Zm220 220h160v-160H400v160Zm0 220h160v-160H400v160ZM180-400h160v-160H180v160Zm440 0h160v-160H620v160ZM180-180h160v-160H180v160Zm440 0h160v-160H620v160Z\"/>\n",
              "  </svg>\n",
              "    </button>\n",
              "\n",
              "  <style>\n",
              "    .colab-df-container {\n",
              "      display:flex;\n",
              "      gap: 12px;\n",
              "    }\n",
              "\n",
              "    .colab-df-convert {\n",
              "      background-color: #E8F0FE;\n",
              "      border: none;\n",
              "      border-radius: 50%;\n",
              "      cursor: pointer;\n",
              "      display: none;\n",
              "      fill: #1967D2;\n",
              "      height: 32px;\n",
              "      padding: 0 0 0 0;\n",
              "      width: 32px;\n",
              "    }\n",
              "\n",
              "    .colab-df-convert:hover {\n",
              "      background-color: #E2EBFA;\n",
              "      box-shadow: 0px 1px 2px rgba(60, 64, 67, 0.3), 0px 1px 3px 1px rgba(60, 64, 67, 0.15);\n",
              "      fill: #174EA6;\n",
              "    }\n",
              "\n",
              "    .colab-df-buttons div {\n",
              "      margin-bottom: 4px;\n",
              "    }\n",
              "\n",
              "    [theme=dark] .colab-df-convert {\n",
              "      background-color: #3B4455;\n",
              "      fill: #D2E3FC;\n",
              "    }\n",
              "\n",
              "    [theme=dark] .colab-df-convert:hover {\n",
              "      background-color: #434B5C;\n",
              "      box-shadow: 0px 1px 3px 1px rgba(0, 0, 0, 0.15);\n",
              "      filter: drop-shadow(0px 1px 2px rgba(0, 0, 0, 0.3));\n",
              "      fill: #FFFFFF;\n",
              "    }\n",
              "  </style>\n",
              "\n",
              "    <script>\n",
              "      const buttonEl =\n",
              "        document.querySelector('#df-09151571-0fc8-4396-bb5f-971ce715bc82 button.colab-df-convert');\n",
              "      buttonEl.style.display =\n",
              "        google.colab.kernel.accessAllowed ? 'block' : 'none';\n",
              "\n",
              "      async function convertToInteractive(key) {\n",
              "        const element = document.querySelector('#df-09151571-0fc8-4396-bb5f-971ce715bc82');\n",
              "        const dataTable =\n",
              "          await google.colab.kernel.invokeFunction('convertToInteractive',\n",
              "                                                    [key], {});\n",
              "        if (!dataTable) return;\n",
              "\n",
              "        const docLinkHtml = 'Like what you see? Visit the ' +\n",
              "          '<a target=\"_blank\" href=https://colab.research.google.com/notebooks/data_table.ipynb>data table notebook</a>'\n",
              "          + ' to learn more about interactive tables.';\n",
              "        element.innerHTML = '';\n",
              "        dataTable['output_type'] = 'display_data';\n",
              "        await google.colab.output.renderOutput(dataTable, element);\n",
              "        const docLink = document.createElement('div');\n",
              "        docLink.innerHTML = docLinkHtml;\n",
              "        element.appendChild(docLink);\n",
              "      }\n",
              "    </script>\n",
              "  </div>\n",
              "\n",
              "\n",
              "<div id=\"df-db6b42e6-c2c5-46c8-bdf7-42ce516a3249\">\n",
              "  <button class=\"colab-df-quickchart\" onclick=\"quickchart('df-db6b42e6-c2c5-46c8-bdf7-42ce516a3249')\"\n",
              "            title=\"Suggest charts\"\n",
              "            style=\"display:none;\">\n",
              "\n",
              "<svg xmlns=\"http://www.w3.org/2000/svg\" height=\"24px\"viewBox=\"0 0 24 24\"\n",
              "     width=\"24px\">\n",
              "    <g>\n",
              "        <path d=\"M19 3H5c-1.1 0-2 .9-2 2v14c0 1.1.9 2 2 2h14c1.1 0 2-.9 2-2V5c0-1.1-.9-2-2-2zM9 17H7v-7h2v7zm4 0h-2V7h2v10zm4 0h-2v-4h2v4z\"/>\n",
              "    </g>\n",
              "</svg>\n",
              "  </button>\n",
              "\n",
              "<style>\n",
              "  .colab-df-quickchart {\n",
              "      --bg-color: #E8F0FE;\n",
              "      --fill-color: #1967D2;\n",
              "      --hover-bg-color: #E2EBFA;\n",
              "      --hover-fill-color: #174EA6;\n",
              "      --disabled-fill-color: #AAA;\n",
              "      --disabled-bg-color: #DDD;\n",
              "  }\n",
              "\n",
              "  [theme=dark] .colab-df-quickchart {\n",
              "      --bg-color: #3B4455;\n",
              "      --fill-color: #D2E3FC;\n",
              "      --hover-bg-color: #434B5C;\n",
              "      --hover-fill-color: #FFFFFF;\n",
              "      --disabled-bg-color: #3B4455;\n",
              "      --disabled-fill-color: #666;\n",
              "  }\n",
              "\n",
              "  .colab-df-quickchart {\n",
              "    background-color: var(--bg-color);\n",
              "    border: none;\n",
              "    border-radius: 50%;\n",
              "    cursor: pointer;\n",
              "    display: none;\n",
              "    fill: var(--fill-color);\n",
              "    height: 32px;\n",
              "    padding: 0;\n",
              "    width: 32px;\n",
              "  }\n",
              "\n",
              "  .colab-df-quickchart:hover {\n",
              "    background-color: var(--hover-bg-color);\n",
              "    box-shadow: 0 1px 2px rgba(60, 64, 67, 0.3), 0 1px 3px 1px rgba(60, 64, 67, 0.15);\n",
              "    fill: var(--button-hover-fill-color);\n",
              "  }\n",
              "\n",
              "  .colab-df-quickchart-complete:disabled,\n",
              "  .colab-df-quickchart-complete:disabled:hover {\n",
              "    background-color: var(--disabled-bg-color);\n",
              "    fill: var(--disabled-fill-color);\n",
              "    box-shadow: none;\n",
              "  }\n",
              "\n",
              "  .colab-df-spinner {\n",
              "    border: 2px solid var(--fill-color);\n",
              "    border-color: transparent;\n",
              "    border-bottom-color: var(--fill-color);\n",
              "    animation:\n",
              "      spin 1s steps(1) infinite;\n",
              "  }\n",
              "\n",
              "  @keyframes spin {\n",
              "    0% {\n",
              "      border-color: transparent;\n",
              "      border-bottom-color: var(--fill-color);\n",
              "      border-left-color: var(--fill-color);\n",
              "    }\n",
              "    20% {\n",
              "      border-color: transparent;\n",
              "      border-left-color: var(--fill-color);\n",
              "      border-top-color: var(--fill-color);\n",
              "    }\n",
              "    30% {\n",
              "      border-color: transparent;\n",
              "      border-left-color: var(--fill-color);\n",
              "      border-top-color: var(--fill-color);\n",
              "      border-right-color: var(--fill-color);\n",
              "    }\n",
              "    40% {\n",
              "      border-color: transparent;\n",
              "      border-right-color: var(--fill-color);\n",
              "      border-top-color: var(--fill-color);\n",
              "    }\n",
              "    60% {\n",
              "      border-color: transparent;\n",
              "      border-right-color: var(--fill-color);\n",
              "    }\n",
              "    80% {\n",
              "      border-color: transparent;\n",
              "      border-right-color: var(--fill-color);\n",
              "      border-bottom-color: var(--fill-color);\n",
              "    }\n",
              "    90% {\n",
              "      border-color: transparent;\n",
              "      border-bottom-color: var(--fill-color);\n",
              "    }\n",
              "  }\n",
              "</style>\n",
              "\n",
              "  <script>\n",
              "    async function quickchart(key) {\n",
              "      const quickchartButtonEl =\n",
              "        document.querySelector('#' + key + ' button');\n",
              "      quickchartButtonEl.disabled = true;  // To prevent multiple clicks.\n",
              "      quickchartButtonEl.classList.add('colab-df-spinner');\n",
              "      try {\n",
              "        const charts = await google.colab.kernel.invokeFunction(\n",
              "            'suggestCharts', [key], {});\n",
              "      } catch (error) {\n",
              "        console.error('Error during call to suggestCharts:', error);\n",
              "      }\n",
              "      quickchartButtonEl.classList.remove('colab-df-spinner');\n",
              "      quickchartButtonEl.classList.add('colab-df-quickchart-complete');\n",
              "    }\n",
              "    (() => {\n",
              "      let quickchartButtonEl =\n",
              "        document.querySelector('#df-db6b42e6-c2c5-46c8-bdf7-42ce516a3249 button');\n",
              "      quickchartButtonEl.style.display =\n",
              "        google.colab.kernel.accessAllowed ? 'block' : 'none';\n",
              "    })();\n",
              "  </script>\n",
              "</div>\n",
              "\n",
              "    </div>\n",
              "  </div>\n"
            ],
            "application/vnd.google.colaboratory.intrinsic+json": {
              "type": "dataframe",
              "variable_name": "df",
              "summary": "{\n  \"name\": \"df\",\n  \"rows\": 49,\n  \"fields\": [\n    {\n      \"column\": \"length\",\n      \"properties\": {\n        \"dtype\": \"number\",\n        \"std\": 10.242803596193967,\n        \"min\": 9.8,\n        \"max\": 41.0,\n        \"num_unique_values\": 33,\n        \"samples\": [\n          14.3,\n          36.0,\n          11.8\n        ],\n        \"semantic_type\": \"\",\n        \"description\": \"\"\n      }\n    },\n    {\n      \"column\": \"weight\",\n      \"properties\": {\n        \"dtype\": \"number\",\n        \"std\": 328.1432328267642,\n        \"min\": 6.7,\n        \"max\": 1000.0,\n        \"num_unique_values\": 39,\n        \"samples\": [\n          10.0,\n          13.4,\n          430.0\n        ],\n        \"semantic_type\": \"\",\n        \"description\": \"\"\n      }\n    },\n    {\n      \"column\": \"class\",\n      \"properties\": {\n        \"dtype\": \"number\",\n        \"std\": 0,\n        \"min\": 0,\n        \"max\": 1,\n        \"num_unique_values\": 2,\n        \"samples\": [\n          0,\n          1\n        ],\n        \"semantic_type\": \"\",\n        \"description\": \"\"\n      }\n    }\n  ]\n}"
            }
          },
          "metadata": {},
          "execution_count": 5
        }
      ]
    },
    {
      "cell_type": "code",
      "source": [
        "import seaborn as sns\n",
        "import matplotlib.pyplot as plt\n",
        "sns.scatterplot(x='length', y='weight', hue='class', data=df)\n",
        "plt.show()"
      ],
      "metadata": {
        "colab": {
          "base_uri": "https://localhost:8080/",
          "height": 449
        },
        "id": "Ns3B1NW7ueQ7",
        "outputId": "37ed1c03-257e-4561-f99c-7584049d062c"
      },
      "execution_count": null,
      "outputs": [
        {
          "output_type": "display_data",
          "data": {
            "text/plain": [
              "<Figure size 640x480 with 1 Axes>"
            ],
            "image/png": "[encoded data removed]"
          },
          "metadata": {}
        }
      ]
    },
    {
      "cell_type": "code",
      "source": [
        "sns.pairplot(df, hue='class')"
      ],
      "metadata": {
        "colab": {
          "base_uri": "https://localhost:8080/"
        },
        "collapsed": true,
        "id": "qYegsmwpuVMz",
        "outputId": "56e904bb-a1c1-470f-fbb1-0f6bc7f4af1d"
      },
      "execution_count": null,
      "outputs": [
        {
          "output_type": "execute_result",
          "data": {
            "text/plain": [
              "<seaborn.axisgrid.PairGrid at 0x7eef002bac50>"
            ]
          },
          "metadata": {},
          "execution_count": 7
        },
        {
          "output_type": "display_data",
          "data": {
            "text/plain": [
              "<Figure size 558.875x500 with 6 Axes>"
            ],
            "image/png": "[encoded data removed]"
          },
          "metadata": {}
        }
      ]
    },
    {
      "cell_type": "markdown",
      "source": [
        "K 최근접 이웃 알고리즘\n",
        "```\n",
        "유클리드 거리\n",
        "d(x,xi) 새로운데이터 x와 기존 데이터 xi간 의 거리\n",
        "xij : i번째 기존데이터의 j번재 특성값\n",
        "m : 특성수( 길이, 너비)\n",
        "```"
      ],
      "metadata": {
        "id": "QUO3XDVxwOAT"
      }
    },
    {
      "cell_type": "markdown",
      "source": [
        "$$d(x, x_i) = \\sqrt{\\sum_{j=1}^{m} (x_j - x_{i,j})^2}$$"
      ],
      "metadata": {
        "id": "9-uv6OQFwACl"
      }
    },
    {
      "cell_type": "markdown",
      "source": [
        "# 유클리드 거리\n",
        "```\n",
        "피타고라스의 정리를 기반으로 두점사이의 직선의 거리(최단거리)를 계산\n",
        "p(x1, y1) p(x2,y2)\n",
        "x축 거리의 차이 = x변화량\n",
        "y 거리의 차이 = y변화량\n",
        "직각삼각형의 빗변의 역활\n",
        "```\n",
        "\n",
        "$$ d(P, Q) = \\sqrt{(x_2 - x_1)^2 + (y_2 - y_1)^2} $$\n",
        "\n",
        "```\n",
        "이걸 n차원으로 확장하면\n",
        "각 좌표마다 차이 계산 xi = xi-yi\n",
        "모든 차원의 거리 차이를 피타고라스 정리에 적용\n",
        "```\n",
        "\n",
        "$$d(x, x_i) = \\sqrt{\\sum_{j=1}^{m} (x_j - x_{i,j})^2}$$"
      ],
      "metadata": {
        "id": "Dkg0hERD0Q3N"
      }
    },
    {
      "cell_type": "code",
      "source": [
        "# A( 1,2,3 ) B(4,6,8)\n",
        "# x 좌표 차이 4-1 = 3\n",
        "# y 좌표 차이 6-2 = 4\n",
        "# z 좌표 차이 8-3 = 5\n",
        "# 유클리드 거리 적용\n",
        "# d(A,B)  np.sqrt(9 + 16 +25  ) = np.sqrt(50)  대략 7.xxxxxxxxx\n",
        "\n",
        "# 유클리드거리 응용\n",
        "# 최근접이웃, k-평균 클러스터, 이미지처리(색상간 거리 계산), 추천시스템 - 유저간 유사도"
      ],
      "metadata": {
        "id": "7_5FYuYHxwj2"
      },
      "execution_count": null,
      "outputs": []
    },
    {
      "cell_type": "code",
      "source": [
        "from sklearn.neighbors import KNeighborsClassifier\n",
        "kn = KNeighborsClassifier()\n",
        "# X, y 데이터 분리\n",
        "X = df.drop('class', axis=1).to_numpy()\n",
        "y = df['class'].to_numpy()\n",
        "kn.fit(X, y)   # 모델 학습\n",
        "kn.score(X, y)  # 모델 평가 accuracy(정확성)  정답에 비래해서 맞은비율"
      ],
      "metadata": {
        "colab": {
          "base_uri": "https://localhost:8080/"
        },
        "id": "PWcKCZAyvjmv",
        "outputId": "28b8a212-3035-45bd-b4a9-8a571b3cfe4e"
      },
      "execution_count": null,
      "outputs": [
        {
          "output_type": "execute_result",
          "data": {
            "text/plain": [
              "1.0"
            ]
          },
          "metadata": {},
          "execution_count": 29
        }
      ]
    },
    {
      "cell_type": "code",
      "source": [
        "(kn.predict(X) == y).sum() / len(y)"
      ],
      "metadata": {
        "colab": {
          "base_uri": "https://localhost:8080/"
        },
        "id": "M3bs1Fct2iyR",
        "outputId": "377cabc4-2dc9-4b93-ee12-aac5dd8b4023"
      },
      "execution_count": null,
      "outputs": [
        {
          "output_type": "execute_result",
          "data": {
            "text/plain": [
              "np.float64(1.0)"
            ]
          },
          "metadata": {},
          "execution_count": 30
        }
      ]
    },
    {
      "cell_type": "markdown",
      "source": [
        "# 새로운 생성을 예측"
      ],
      "metadata": {
        "id": "l-ABMZhV5L7V"
      }
    },
    {
      "cell_type": "code",
      "source": [
        "# 길이가 30이고 무게가 600이면 도미? 빙어?\n",
        "import seaborn as sns\n",
        "import matplotlib.pyplot as plt\n",
        "sns.scatterplot(x='length', y='weight', hue='class', data=df)\n",
        "plt.scatter(30, 600, marker='^',color = 'green',label='predict1')\n",
        "plt.scatter(11, 100, marker='^',color = 'yellow',label='predict2')\n",
        "plt.legend()\n",
        "plt.show()\n",
        "# 예측\n",
        "print('예측은 predict1 : ',kn.predict([[30, 600]]))\n",
        "print('예측은 predict2 : ',kn.predict([[11, 100]]))"
      ],
      "metadata": {
        "colab": {
          "base_uri": "https://localhost:8080/",
          "height": 485
        },
        "collapsed": true,
        "id": "CGQwjKPN4yA7",
        "outputId": "429c1d14-4b30-4365-c327-1cf2e386857b"
      },
      "execution_count": null,
      "outputs": [
        {
          "output_type": "display_data",
          "data": {
            "text/plain": [
              "<Figure size 640x480 with 1 Axes>"
            ],
            "image/png": "[encoded data removed]"
          },
          "metadata": {}
        },
        {
          "output_type": "stream",
          "name": "stdout",
          "text": [
            "예측은 predict1 :  [1]\n",
            "예측은 predict2 :  [0]\n"
          ]
        }
      ]
    },
    {
      "cell_type": "code",
      "source": [
        "# knn의 알고리즘의 n_neibors의 값을 전체 데이터로 하면\n",
        "# 이웃은 가장 거리가 가까운 데이터부터 찾는데.. 전체로하면 전체의 속성을 가지고 다수결을 따른다. (평균)\n",
        "# 지금처러 샘플링 편향이 있는경우는 이런 유클리드 거리방식의 알고리즘은 정확도가 떨어진다.\n",
        "kn = KNeighborsClassifier(n_neighbors=len(X))  # 49\n",
        "kn.fit(X, y)  #  학습\n",
        "kn.score(X, y)  # 평가"
      ],
      "metadata": {
        "colab": {
          "base_uri": "https://localhost:8080/"
        },
        "id": "lIp0GE0s5mwl",
        "outputId": "24661a68-dd55-4879-9fb1-0e03e2b371e0"
      },
      "execution_count": null,
      "outputs": [
        {
          "output_type": "execute_result",
          "data": {
            "text/plain": [
              "0.7142857142857143"
            ]
          },
          "metadata": {},
          "execution_count": 37
        }
      ]
    },
    {
      "cell_type": "code",
      "source": [
        "print(len(bream_length), len(smelt_length))\n",
        "35 / 49"
      ],
      "metadata": {
        "colab": {
          "base_uri": "https://localhost:8080/"
        },
        "id": "5tSS238772yg",
        "outputId": "99493d06-a0d4-4be1-e177-54773e6b6ebd"
      },
      "execution_count": null,
      "outputs": [
        {
          "output_type": "stream",
          "name": "stdout",
          "text": [
            "35 14\n"
          ]
        },
        {
          "output_type": "execute_result",
          "data": {
            "text/plain": [
              "0.7142857142857143"
            ]
          },
          "metadata": {},
          "execution_count": 40
        }
      ]
    },
    {
      "cell_type": "code",
      "source": [
        "14/49,  35/49"
      ],
      "metadata": {
        "colab": {
          "base_uri": "https://localhost:8080/"
        },
        "id": "oro1c3BO8jkt",
        "outputId": "e13ed60d-e99c-4ef0-b781-18dee684b1fe"
      },
      "execution_count": null,
      "outputs": [
        {
          "output_type": "execute_result",
          "data": {
            "text/plain": [
              "(0.2857142857142857, 0.7142857142857143)"
            ]
          },
          "metadata": {},
          "execution_count": 41
        }
      ]
    },
    {
      "cell_type": "markdown",
      "source": [
        "# 데이터 섞기\n",
        "```\n",
        "클래스 불균형이 거의 대다수차지하고 있는 현실에서\n",
        "균형잡히게 학습데이터와 검증용 데이터를 섞는게 중요\n",
        "이때 클래스간 균형의 비율을 적용해서 섞어야 정확함\n",
        "```"
      ],
      "metadata": {
        "id": "fbv9nSgZCLKm"
      }
    },
    {
      "cell_type": "code",
      "source": [
        "from sklearn.model_selection import train_test_split\n",
        "# test_size = 0.25    7.5 : 2.5\n",
        "X_train,X_test,y_train,y_test =  train_test_split(X,y,random_state=42)\n",
        "print(X_train.shape, X_test.shape)\n",
        "# 학습\n",
        "kn = KNeighborsClassifier()\n",
        "kn.fit(X_train, y_train)\n",
        "# 평가\n",
        "kn.score(X_train, y_train), kn.score(X_test, y_test)"
      ],
      "metadata": {
        "colab": {
          "base_uri": "https://localhost:8080/"
        },
        "id": "q6l5WLRq9BOE",
        "outputId": "6486eca9-7ffb-464a-cc50-0f89b5276bc8"
      },
      "execution_count": null,
      "outputs": [
        {
          "output_type": "stream",
          "name": "stdout",
          "text": [
            "(36, 2) (13, 2)\n"
          ]
        },
        {
          "output_type": "execute_result",
          "data": {
            "text/plain": [
              "(1.0, 1.0)"
            ]
          },
          "metadata": {},
          "execution_count": 49
        }
      ]
    },
    {
      "cell_type": "code",
      "source": [
        "y_train"
      ],
      "metadata": {
        "colab": {
          "base_uri": "https://localhost:8080/"
        },
        "id": "ZX7kybV3D6FX",
        "outputId": "e804f2b1-2664-4861-944f-84701597b7c1"
      },
      "execution_count": null,
      "outputs": [
        {
          "output_type": "execute_result",
          "data": {
            "text/plain": [
              "array([1, 1, 1, 0, 0, 0, 1, 1, 1, 1, 1, 1, 1, 0, 1, 1, 1, 1, 0, 1, 1, 1,\n",
              "       0, 0, 1, 0, 1, 1, 1, 0, 1, 1, 0, 1, 1, 0])"
            ]
          },
          "metadata": {},
          "execution_count": 51
        }
      ]
    },
    {
      "cell_type": "code",
      "source": [
        "plt.scatter(X_train[:,0], X_train[:,1],label = 'train')\n",
        "plt.scatter(X_test[:,0], X_test[:,1], label = 'test')\n",
        "plt.legend()\n",
        "plt.show()"
      ],
      "metadata": {
        "colab": {
          "base_uri": "https://localhost:8080/",
          "height": 430
        },
        "id": "YPCcojg4C0dN",
        "outputId": "25b4ba5b-f4eb-4dda-a6a7-87f36c9e6614"
      },
      "execution_count": null,
      "outputs": [
        {
          "output_type": "display_data",
          "data": {
            "text/plain": [
              "<Figure size 640x480 with 1 Axes>"
            ],
            "image/png": "[encoded data removed]"
          },
          "metadata": {}
        }
      ]
    },
    {
      "cell_type": "markdown",
      "source": [
        "# 데이터를 클래스비율을 고려해서 섞기\n",
        "```\n",
        "train_test_split 의 옵션을 stratify=y 적용\n",
        "```"
      ],
      "metadata": {
        "id": "5nqpCJ-kENzX"
      }
    },
    {
      "cell_type": "code",
      "source": [
        "X_train,X_test,y_train,y_test =  train_test_split(X,y,random_state=42,stratify=y)\n",
        "print(X_train.shape, X_test.shape)\n",
        "plt.scatter(X_train[:,0], X_train[:,1],label = 'train')\n",
        "plt.scatter(X_test[:,0], X_test[:,1], label = 'test')\n",
        "plt.legend()\n",
        "plt.show()"
      ],
      "metadata": {
        "colab": {
          "base_uri": "https://localhost:8080/",
          "height": 448
        },
        "id": "pwnND5gSEvcg",
        "outputId": "02775be5-d62e-4448-9b1f-79be5fbd5141"
      },
      "execution_count": null,
      "outputs": [
        {
          "output_type": "stream",
          "name": "stdout",
          "text": [
            "(36, 2) (13, 2)\n"
          ]
        },
        {
          "output_type": "display_data",
          "data": {
            "text/plain": [
              "<Figure size 640x480 with 1 Axes>"
            ],
            "image/png": "[encoded data removed]"
          },
          "metadata": {}
        }
      ]
    },
    {
      "cell_type": "markdown",
      "source": [
        "# IRIS 붓꽃 데이터의 품질을 예측  3종류... 다중분류"
      ],
      "metadata": {
        "id": "4sFccCwJFQAm"
      }
    },
    {
      "cell_type": "code",
      "source": [
        "from sklearn.datasets import load_iris\n",
        "iris = load_iris()\n",
        "iris.data"
      ],
      "metadata": {
        "colab": {
          "base_uri": "https://localhost:8080/"
        },
        "id": "f1ex6riBFU5_",
        "outputId": "ca59469d-7fc1-4f5e-fdc7-c20fbc3995f8"
      },
      "execution_count": null,
      "outputs": [
        {
          "output_type": "execute_result",
          "data": {
            "text/plain": [
              "dict_keys(['data', 'target', 'frame', 'target_names', 'DESCR', 'feature_names', 'filename', 'data_module'])"
            ]
          },
          "metadata": {},
          "execution_count": 57
        }
      ]
    },
    {
      "cell_type": "code",
      "source": [
        "import numpy as np\n",
        "np.unique( iris.target),   len(iris.target == 0),len(iris.target == 1),len(iris.target == 2)\n"
      ],
      "metadata": {
        "colab": {
          "base_uri": "https://localhost:8080/"
        },
        "id": "sYkF9GaDFrH2",
        "outputId": "06631a5b-7967-4f3e-e48b-8f897320195c"
      },
      "execution_count": null,
      "outputs": [
        {
          "output_type": "execute_result",
          "data": {
            "text/plain": [
              "(array([0, 1, 2]), 150, 150, 150)"
            ]
          },
          "metadata": {},
          "execution_count": 69
        }
      ]
    },
    {
      "cell_type": "code",
      "source": [
        "iris.feature_names"
      ],
      "metadata": {
        "colab": {
          "base_uri": "https://localhost:8080/"
        },
        "id": "5yVTldqTODlO",
        "outputId": "4bcd0e95-6ade-4b2f-ae91-96d546836b9d"
      },
      "execution_count": null,
      "outputs": [
        {
          "output_type": "execute_result",
          "data": {
            "text/plain": [
              "['sepal length (cm)',\n",
              " 'sepal width (cm)',\n",
              " 'petal length (cm)',\n",
              " 'petal width (cm)']"
            ]
          },
          "metadata": {},
          "execution_count": 90
        }
      ]
    },
    {
      "cell_type": "code",
      "source": [
        "X = iris.data\n",
        "y = iris.target\n",
        "# 시각화\n",
        "plt.figure(figsize=(10,5))\n",
        "plt.subplot(1,2,1)\n",
        "plt.title('sepal length VS sepal width')\n",
        "plt.scatter(X[:,0], X[:,1], c=y)\n",
        "plt.subplot(1,2,2)\n",
        "plt.title('petal  length VS petal  width')\n",
        "plt.scatter(X[:,2], X[:,3], c=y)\n",
        "plt.show()"
      ],
      "metadata": {
        "colab": {
          "base_uri": "https://localhost:8080/",
          "height": 468
        },
        "id": "vk7HQKBdFdjs",
        "outputId": "4590d200-e2d9-4a25-f531-511bae43f00c"
      },
      "execution_count": null,
      "outputs": [
        {
          "output_type": "display_data",
          "data": {
            "text/plain": [
              "<Figure size 1000x500 with 2 Axes>"
            ],
            "image/png": "[encoded data removed]"
          },
          "metadata": {}
        }
      ]
    },
    {
      "cell_type": "markdown",
      "source": [
        "# 머신러닝 적용순서\n",
        "```\n",
        "데이터의 특성및 목표에 따라서 분류와 회귀를 정함\n",
        "데이터 전처리작업(결측치, 이상치, 피처엔지니어링(특성공학))\n",
        "적합한 모델 선택\n",
        "모델훈련\n",
        "모델 평가\n",
        "만약 평가가 안좋으면 모델의 파라메터를 조정해서 다시 학습-평가를 반복\n",
        "그래도 안좋으면... 이번에는 다른 모델로 평가\n",
        "결론 : 최적의 모델과 해당 모델의 최적의 파라메터값을 찾아서 모델을 생성 배포\n",
        "```"
      ],
      "metadata": {
        "id": "qU0Ur2LlHrzp"
      }
    },
    {
      "cell_type": "code",
      "source": [
        "# 데이터을 수집( iris)\n",
        "from sklearn.datasets import load_iris ,lo\n",
        "iris = load_iris()\n",
        "# 테이터를 분할(학습 / 평가)\n",
        "X = iris.data\n",
        "y = iris.target\n",
        "from sklearn.model_selection import train_test_split\n",
        "X_train,X_test,y_train,y_test =  train_test_split(X,y,random_state=45,stratify=iris.target)\n",
        "# 모델선택(k neigbors)\n",
        "from sklearn.neighbors import KNeighborsClassifier\n",
        "kn = KNeighborsClassifier()\n",
        "# 학습데이터로 학습\n",
        "kn.fit(X_train, y_train)\n",
        "# 학습데이터와 평가용데이터로 모델의 예측 정확성을 평가\n",
        "kn.score(X_train, y_train), kn.score(X_test, y_test)\n",
        "# 만약에. .학습데이터는 성능이 좋은데 평가용은 성능이 낮다면.. 이건 바로 과적합"
      ],
      "metadata": {
        "colab": {
          "base_uri": "https://localhost:8080/"
        },
        "id": "cfknoxwZHCN4",
        "outputId": "3e0563e4-04f9-4024-c99f-849c934046b8"
      },
      "execution_count": null,
      "outputs": [
        {
          "output_type": "execute_result",
          "data": {
            "text/plain": [
              "(0.9642857142857143, 0.9473684210526315)"
            ]
          },
          "metadata": {},
          "execution_count": 84
        }
      ]
    },
    {
      "cell_type": "markdown",
      "source": [
        "# 사이킷런의 유방암여부 판단 모델 - 최근접 이웃"
      ],
      "metadata": {
        "id": "qi2UqqlEL-q5"
      }
    },
    {
      "cell_type": "code",
      "source": [
        "# 데이터 가져오기\n",
        "from sklearn.datasets import load_breast_cancer\n",
        "cancer = load_breast_cancer()\n",
        "cancer.keys()"
      ],
      "metadata": {
        "colab": {
          "base_uri": "https://localhost:8080/"
        },
        "id": "EdEWvO-MK7j4",
        "outputId": "20bab4fb-00ac-4e8b-f6d0-161031c7f4f5"
      },
      "execution_count": null,
      "outputs": [
        {
          "output_type": "execute_result",
          "data": {
            "text/plain": [
              "dict_keys(['data', 'target', 'frame', 'target_names', 'DESCR', 'feature_names', 'filename', 'data_module'])"
            ]
          },
          "metadata": {},
          "execution_count": 85
        }
      ]
    },
    {
      "cell_type": "code",
      "source": [
        "cancer.data.shape, np.unique(cancer.target)"
      ],
      "metadata": {
        "colab": {
          "base_uri": "https://localhost:8080/"
        },
        "id": "yJXYd_v3MIYg",
        "outputId": "4226feea-af32-4ac1-fd40-cecb629cf49f"
      },
      "execution_count": null,
      "outputs": [
        {
          "output_type": "execute_result",
          "data": {
            "text/plain": [
              "((569, 30), array([0, 1]))"
            ]
          },
          "metadata": {},
          "execution_count": 94
        }
      ]
    },
    {
      "cell_type": "code",
      "source": [
        "a,b = np.unique(cancer.target, return_counts=True)\n",
        "plt.bar(a,b)\n",
        "plt.show()"
      ],
      "metadata": {
        "colab": {
          "base_uri": "https://localhost:8080/",
          "height": 430
        },
        "id": "Bm94OekDQCpR",
        "outputId": "03ef48d7-25f7-492c-c83e-5bc9323dc656"
      },
      "execution_count": null,
      "outputs": [
        {
          "output_type": "display_data",
          "data": {
            "text/plain": [
              "<Figure size 640x480 with 1 Axes>"
            ],
            "image/png": "[encoded data removed]"
          },
          "metadata": {}
        }
      ]
    },
    {
      "cell_type": "code",
      "source": [
        "# 데이터 분할\n",
        "X = cancer.data\n",
        "y = cancer.target\n",
        "X_train,X_test,y_train,y_test =  train_test_split(X,y,random_state=45, stratify = cancer.target)"
      ],
      "metadata": {
        "id": "Ar2WptNXP8WJ"
      },
      "execution_count": null,
      "outputs": []
    },
    {
      "cell_type": "code",
      "source": [
        "kn = KNeighborsClassifier()\n",
        "kn.fit(X_train, y_train)  # 학습\n",
        "kn.score(X_train, y_train), kn.score(X_test, y_test)  # 평가"
      ],
      "metadata": {
        "colab": {
          "base_uri": "https://localhost:8080/"
        },
        "id": "sZyte7eGQszJ",
        "outputId": "71cecf06-8de0-41cd-f645-38b94335fb34"
      },
      "execution_count": null,
      "outputs": [
        {
          "output_type": "execute_result",
          "data": {
            "text/plain": [
              "(0.931924882629108, 0.9300699300699301)"
            ]
          },
          "metadata": {},
          "execution_count": 102
        }
      ]
    },
    {
      "cell_type": "code",
      "source": [
        "# 와인\n",
        "from sklearn.datasets import load_wine\n",
        "wine = load_wine()\n",
        "print(wine.keys())\n",
        "print(wine.data.shape, np.unique(wine.target))\n",
        "df = pd.DataFrame(wine.data, columns=wine.feature_names)\n",
        "df['class'] = wine.target\n",
        "df.describe()"
      ],
      "metadata": {
        "colab": {
          "base_uri": "https://localhost:8080/",
          "height": 356
        },
        "collapsed": true,
        "id": "BCBzEYNeQwVG",
        "outputId": "5d0d9767-77b7-42be-c425-28a00f2f4d50"
      },
      "execution_count": null,
      "outputs": [
        {
          "output_type": "stream",
          "name": "stdout",
          "text": [
            "dict_keys(['data', 'target', 'frame', 'target_names', 'DESCR', 'feature_names'])\n",
            "(178, 13) [0 1 2]\n"
          ]
        },
        {
          "output_type": "execute_result",
          "data": {
            "text/plain": [
              "          alcohol  malic_acid         ash  alcalinity_of_ash   magnesium  \\\n",
              "count  178.000000  178.000000  178.000000         178.000000  178.000000   \n",
              "mean    13.000618    2.336348    2.366517          19.494944   99.741573   \n",
              "std      0.811827    1.117146    0.274344           3.339564   14.282484   \n",
              "min     11.030000    0.740000    1.360000          10.600000   70.000000   \n",
              "25%     12.362500    1.602500    2.210000          17.200000   88.000000   \n",
              "50%     13.050000    1.865000    2.360000          19.500000   98.000000   \n",
              "75%     13.677500    3.082500    2.557500          21.500000  107.000000   \n",
              "max     14.830000    5.800000    3.230000          30.000000  162.000000   \n",
              "\n",
              "       total_phenols  flavanoids  nonflavanoid_phenols  proanthocyanins  \\\n",
              "count     178.000000  178.000000            178.000000       178.000000   \n",
              "mean        2.295112    2.029270              0.361854         1.590899   \n",
              "std         0.625851    0.998859              0.124453         0.572359   \n",
              "min         0.980000    0.340000              0.130000         0.410000   \n",
              "25%         1.742500    1.205000              0.270000         1.250000   \n",
              "50%         2.355000    2.135000              0.340000         1.555000   \n",
              "75%         2.800000    2.875000              0.437500         1.950000   \n",
              "max         3.880000    5.080000              0.660000         3.580000   \n",
              "\n",
              "       color_intensity         hue  od280/od315_of_diluted_wines      proline  \\\n",
              "count       178.000000  178.000000                    178.000000   178.000000   \n",
              "mean          5.058090    0.957449                      2.611685   746.893258   \n",
              "std           2.318286    0.228572                      0.709990   314.907474   \n",
              "min           1.280000    0.480000                      1.270000   278.000000   \n",
              "25%           3.220000    0.782500                      1.937500   500.500000   \n",
              "50%           4.690000    0.965000                      2.780000   673.500000   \n",
              "75%           6.200000    1.120000                      3.170000   985.000000   \n",
              "max          13.000000    1.710000                      4.000000  1680.000000   \n",
              "\n",
              "            class  \n",
              "count  178.000000  \n",
              "mean     0.938202  \n",
              "std      0.775035  \n",
              "min      0.000000  \n",
              "25%      0.000000  \n",
              "50%      1.000000  \n",
              "75%      2.000000  \n",
              "max      2.000000  "
            ],
            "text/html": [
              "\n",
              "  <div id=\"df-16772240-7e3e-4b79-b58c-2b5a17b2e061\" class=\"colab-df-container\">\n",
              "    <div>\n",
              "<style scoped>\n",
              "    .dataframe tbody tr th:only-of-type {\n",
              "        vertical-align: middle;\n",
              "    }\n",
              "\n",
              "    .dataframe tbody tr th {\n",
              "        vertical-align: top;\n",
              "    }\n",
              "\n",
              "    .dataframe thead th {\n",
              "        text-align: right;\n",
              "    }\n",
              "</style>\n",
              "<table border=\"1\" class=\"dataframe\">\n",
              "  <thead>\n",
              "    <tr style=\"text-align: right;\">\n",
              "      <th></th>\n",
              "      <th>alcohol</th>\n",
              "      <th>malic_acid</th>\n",
              "      <th>ash</th>\n",
              "      <th>alcalinity_of_ash</th>\n",
              "      <th>magnesium</th>\n",
              "      <th>total_phenols</th>\n",
              "      <th>flavanoids</th>\n",
              "      <th>nonflavanoid_phenols</th>\n",
              "      <th>proanthocyanins</th>\n",
              "      <th>color_intensity</th>\n",
              "      <th>hue</th>\n",
              "      <th>od280/od315_of_diluted_wines</th>\n",
              "      <th>proline</th>\n",
              "      <th>class</th>\n",
              "    </tr>\n",
              "  </thead>\n",
              "  <tbody>\n",
              "    <tr>\n",
              "      <th>count</th>\n",
              "      <td>178.000000</td>\n",
              "      <td>178.000000</td>\n",
              "      <td>178.000000</td>\n",
              "      <td>178.000000</td>\n",
              "      <td>178.000000</td>\n",
              "      <td>178.000000</td>\n",
              "      <td>178.000000</td>\n",
              "      <td>178.000000</td>\n",
              "      <td>178.000000</td>\n",
              "      <td>178.000000</td>\n",
              "      <td>178.000000</td>\n",
              "      <td>178.000000</td>\n",
              "      <td>178.000000</td>\n",
              "      <td>178.000000</td>\n",
              "    </tr>\n",
              "    <tr>\n",
              "      <th>mean</th>\n",
              "      <td>13.000618</td>\n",
              "      <td>2.336348</td>\n",
              "      <td>2.366517</td>\n",
              "      <td>19.494944</td>\n",
              "      <td>99.741573</td>\n",
              "      <td>2.295112</td>\n",
              "      <td>2.029270</td>\n",
              "      <td>0.361854</td>\n",
              "      <td>1.590899</td>\n",
              "      <td>5.058090</td>\n",
              "      <td>0.957449</td>\n",
              "      <td>2.611685</td>\n",
              "      <td>746.893258</td>\n",
              "      <td>0.938202</td>\n",
              "    </tr>\n",
              "    <tr>\n",
              "      <th>std</th>\n",
              "      <td>0.811827</td>\n",
              "      <td>1.117146</td>\n",
              "      <td>0.274344</td>\n",
              "      <td>3.339564</td>\n",
              "      <td>14.282484</td>\n",
              "      <td>0.625851</td>\n",
              "      <td>0.998859</td>\n",
              "      <td>0.124453</td>\n",
              "      <td>0.572359</td>\n",
              "      <td>2.318286</td>\n",
              "      <td>0.228572</td>\n",
              "      <td>0.709990</td>\n",
              "      <td>314.907474</td>\n",
              "      <td>0.775035</td>\n",
              "    </tr>\n",
              "    <tr>\n",
              "      <th>min</th>\n",
              "      <td>11.030000</td>\n",
              "      <td>0.740000</td>\n",
              "      <td>1.360000</td>\n",
              "      <td>10.600000</td>\n",
              "      <td>70.000000</td>\n",
              "      <td>0.980000</td>\n",
              "      <td>0.340000</td>\n",
              "      <td>0.130000</td>\n",
              "      <td>0.410000</td>\n",
              "      <td>1.280000</td>\n",
              "      <td>0.480000</td>\n",
              "      <td>1.270000</td>\n",
              "      <td>278.000000</td>\n",
              "      <td>0.000000</td>\n",
              "    </tr>\n",
              "    <tr>\n",
              "      <th>25%</th>\n",
              "      <td>12.362500</td>\n",
              "      <td>1.602500</td>\n",
              "      <td>2.210000</td>\n",
              "      <td>17.200000</td>\n",
              "      <td>88.000000</td>\n",
              "      <td>1.742500</td>\n",
              "      <td>1.205000</td>\n",
              "      <td>0.270000</td>\n",
              "      <td>1.250000</td>\n",
              "      <td>3.220000</td>\n",
              "      <td>0.782500</td>\n",
              "      <td>1.937500</td>\n",
              "      <td>500.500000</td>\n",
              "      <td>0.000000</td>\n",
              "    </tr>\n",
              "    <tr>\n",
              "      <th>50%</th>\n",
              "      <td>13.050000</td>\n",
              "      <td>1.865000</td>\n",
              "      <td>2.360000</td>\n",
              "      <td>19.500000</td>\n",
              "      <td>98.000000</td>\n",
              "      <td>2.355000</td>\n",
              "      <td>2.135000</td>\n",
              "      <td>0.340000</td>\n",
              "      <td>1.555000</td>\n",
              "      <td>4.690000</td>\n",
              "      <td>0.965000</td>\n",
              "      <td>2.780000</td>\n",
              "      <td>673.500000</td>\n",
              "      <td>1.000000</td>\n",
              "    </tr>\n",
              "    <tr>\n",
              "      <th>75%</th>\n",
              "      <td>13.677500</td>\n",
              "      <td>3.082500</td>\n",
              "      <td>2.557500</td>\n",
              "      <td>21.500000</td>\n",
              "      <td>107.000000</td>\n",
              "      <td>2.800000</td>\n",
              "      <td>2.875000</td>\n",
              "      <td>0.437500</td>\n",
              "      <td>1.950000</td>\n",
              "      <td>6.200000</td>\n",
              "      <td>1.120000</td>\n",
              "      <td>3.170000</td>\n",
              "      <td>985.000000</td>\n",
              "      <td>2.000000</td>\n",
              "    </tr>\n",
              "    <tr>\n",
              "      <th>max</th>\n",
              "      <td>14.830000</td>\n",
              "      <td>5.800000</td>\n",
              "      <td>3.230000</td>\n",
              "      <td>30.000000</td>\n",
              "      <td>162.000000</td>\n",
              "      <td>3.880000</td>\n",
              "      <td>5.080000</td>\n",
              "      <td>0.660000</td>\n",
              "      <td>3.580000</td>\n",
              "      <td>13.000000</td>\n",
              "      <td>1.710000</td>\n",
              "      <td>4.000000</td>\n",
              "      <td>1680.000000</td>\n",
              "      <td>2.000000</td>\n",
              "    </tr>\n",
              "  </tbody>\n",
              "</table>\n",
              "</div>\n",
              "    <div class=\"colab-df-buttons\">\n",
              "\n",
              "  <div class=\"colab-df-container\">\n",
              "    <button class=\"colab-df-convert\" onclick=\"convertToInteractive('df-16772240-7e3e-4b79-b58c-2b5a17b2e061')\"\n",
              "            title=\"Convert this dataframe to an interactive table.\"\n",
              "            style=\"display:none;\">\n",
              "\n",
              "  <svg xmlns=\"http://www.w3.org/2000/svg\" height=\"24px\" viewBox=\"0 -960 960 960\">\n",
              "    <path d=\"M120-120v-720h720v720H120Zm60-500h600v-160H180v160Zm220 220h160v-160H400v160Zm0 220h160v-160H400v160ZM180-400h160v-160H180v160Zm440 0h160v-160H620v160ZM180-180h160v-160H180v160Zm440 0h160v-160H620v160Z\"/>\n",
              "  </svg>\n",
              "    </button>\n",
              "\n",
              "  <style>\n",
              "    .colab-df-container {\n",
              "      display:flex;\n",
              "      gap: 12px;\n",
              "    }\n",
              "\n",
              "    .colab-df-convert {\n",
              "      background-color: #E8F0FE;\n",
              "      border: none;\n",
              "      border-radius: 50%;\n",
              "      cursor: pointer;\n",
              "      display: none;\n",
              "      fill: #1967D2;\n",
              "      height: 32px;\n",
              "      padding: 0 0 0 0;\n",
              "      width: 32px;\n",
              "    }\n",
              "\n",
              "    .colab-df-convert:hover {\n",
              "      background-color: #E2EBFA;\n",
              "      box-shadow: 0px 1px 2px rgba(60, 64, 67, 0.3), 0px 1px 3px 1px rgba(60, 64, 67, 0.15);\n",
              "      fill: #174EA6;\n",
              "    }\n",
              "\n",
              "    .colab-df-buttons div {\n",
              "      margin-bottom: 4px;\n",
              "    }\n",
              "\n",
              "    [theme=dark] .colab-df-convert {\n",
              "      background-color: #3B4455;\n",
              "      fill: #D2E3FC;\n",
              "    }\n",
              "\n",
              "    [theme=dark] .colab-df-convert:hover {\n",
              "      background-color: #434B5C;\n",
              "      box-shadow: 0px 1px 3px 1px rgba(0, 0, 0, 0.15);\n",
              "      filter: drop-shadow(0px 1px 2px rgba(0, 0, 0, 0.3));\n",
              "      fill: #FFFFFF;\n",
              "    }\n",
              "  </style>\n",
              "\n",
              "    <script>\n",
              "      const buttonEl =\n",
              "        document.querySelector('#df-16772240-7e3e-4b79-b58c-2b5a17b2e061 button.colab-df-convert');\n",
              "      buttonEl.style.display =\n",
              "        google.colab.kernel.accessAllowed ? 'block' : 'none';\n",
              "\n",
              "      async function convertToInteractive(key) {\n",
              "        const element = document.querySelector('#df-16772240-7e3e-4b79-b58c-2b5a17b2e061');\n",
              "        const dataTable =\n",
              "          await google.colab.kernel.invokeFunction('convertToInteractive',\n",
              "                                                    [key], {});\n",
              "        if (!dataTable) return;\n",
              "\n",
              "        const docLinkHtml = 'Like what you see? Visit the ' +\n",
              "          '<a target=\"_blank\" href=https://colab.research.google.com/notebooks/data_table.ipynb>data table notebook</a>'\n",
              "          + ' to learn more about interactive tables.';\n",
              "        element.innerHTML = '';\n",
              "        dataTable['output_type'] = 'display_data';\n",
              "        await google.colab.output.renderOutput(dataTable, element);\n",
              "        const docLink = document.createElement('div');\n",
              "        docLink.innerHTML = docLinkHtml;\n",
              "        element.appendChild(docLink);\n",
              "      }\n",
              "    </script>\n",
              "  </div>\n",
              "\n",
              "\n",
              "<div id=\"df-d19754fe-d6aa-4f4e-8b40-42deeb1a8e71\">\n",
              "  <button class=\"colab-df-quickchart\" onclick=\"quickchart('df-d19754fe-d6aa-4f4e-8b40-42deeb1a8e71')\"\n",
              "            title=\"Suggest charts\"\n",
              "            style=\"display:none;\">\n",
              "\n",
              "<svg xmlns=\"http://www.w3.org/2000/svg\" height=\"24px\"viewBox=\"0 0 24 24\"\n",
              "     width=\"24px\">\n",
              "    <g>\n",
              "        <path d=\"M19 3H5c-1.1 0-2 .9-2 2v14c0 1.1.9 2 2 2h14c1.1 0 2-.9 2-2V5c0-1.1-.9-2-2-2zM9 17H7v-7h2v7zm4 0h-2V7h2v10zm4 0h-2v-4h2v4z\"/>\n",
              "    </g>\n",
              "</svg>\n",
              "  </button>\n",
              "\n",
              "<style>\n",
              "  .colab-df-quickchart {\n",
              "      --bg-color: #E8F0FE;\n",
              "      --fill-color: #1967D2;\n",
              "      --hover-bg-color: #E2EBFA;\n",
              "      --hover-fill-color: #174EA6;\n",
              "      --disabled-fill-color: #AAA;\n",
              "      --disabled-bg-color: #DDD;\n",
              "  }\n",
              "\n",
              "  [theme=dark] .colab-df-quickchart {\n",
              "      --bg-color: #3B4455;\n",
              "      --fill-color: #D2E3FC;\n",
              "      --hover-bg-color: #434B5C;\n",
              "      --hover-fill-color: #FFFFFF;\n",
              "      --disabled-bg-color: #3B4455;\n",
              "      --disabled-fill-color: #666;\n",
              "  }\n",
              "\n",
              "  .colab-df-quickchart {\n",
              "    background-color: var(--bg-color);\n",
              "    border: none;\n",
              "    border-radius: 50%;\n",
              "    cursor: pointer;\n",
              "    display: none;\n",
              "    fill: var(--fill-color);\n",
              "    height: 32px;\n",
              "    padding: 0;\n",
              "    width: 32px;\n",
              "  }\n",
              "\n",
              "  .colab-df-quickchart:hover {\n",
              "    background-color: var(--hover-bg-color);\n",
              "    box-shadow: 0 1px 2px rgba(60, 64, 67, 0.3), 0 1px 3px 1px rgba(60, 64, 67, 0.15);\n",
              "    fill: var(--button-hover-fill-color);\n",
              "  }\n",
              "\n",
              "  .colab-df-quickchart-complete:disabled,\n",
              "  .colab-df-quickchart-complete:disabled:hover {\n",
              "    background-color: var(--disabled-bg-color);\n",
              "    fill: var(--disabled-fill-color);\n",
              "    box-shadow: none;\n",
              "  }\n",
              "\n",
              "  .colab-df-spinner {\n",
              "    border: 2px solid var(--fill-color);\n",
              "    border-color: transparent;\n",
              "    border-bottom-color: var(--fill-color);\n",
              "    animation:\n",
              "      spin 1s steps(1) infinite;\n",
              "  }\n",
              "\n",
              "  @keyframes spin {\n",
              "    0% {\n",
              "      border-color: transparent;\n",
              "      border-bottom-color: var(--fill-color);\n",
              "      border-left-color: var(--fill-color);\n",
              "    }\n",
              "    20% {\n",
              "      border-color: transparent;\n",
              "      border-left-color: var(--fill-color);\n",
              "      border-top-color: var(--fill-color);\n",
              "    }\n",
              "    30% {\n",
              "      border-color: transparent;\n",
              "      border-left-color: var(--fill-color);\n",
              "      border-top-color: var(--fill-color);\n",
              "      border-right-color: var(--fill-color);\n",
              "    }\n",
              "    40% {\n",
              "      border-color: transparent;\n",
              "      border-right-color: var(--fill-color);\n",
              "      border-top-color: var(--fill-color);\n",
              "    }\n",
              "    60% {\n",
              "      border-color: transparent;\n",
              "      border-right-color: var(--fill-color);\n",
              "    }\n",
              "    80% {\n",
              "      border-color: transparent;\n",
              "      border-right-color: var(--fill-color);\n",
              "      border-bottom-color: var(--fill-color);\n",
              "    }\n",
              "    90% {\n",
              "      border-color: transparent;\n",
              "      border-bottom-color: var(--fill-color);\n",
              "    }\n",
              "  }\n",
              "</style>\n",
              "\n",
              "  <script>\n",
              "    async function quickchart(key) {\n",
              "      const quickchartButtonEl =\n",
              "        document.querySelector('#' + key + ' button');\n",
              "      quickchartButtonEl.disabled = true;  // To prevent multiple clicks.\n",
              "      quickchartButtonEl.classList.add('colab-df-spinner');\n",
              "      try {\n",
              "        const charts = await google.colab.kernel.invokeFunction(\n",
              "            'suggestCharts', [key], {});\n",
              "      } catch (error) {\n",
              "        console.error('Error during call to suggestCharts:', error);\n",
              "      }\n",
              "      quickchartButtonEl.classList.remove('colab-df-spinner');\n",
              "      quickchartButtonEl.classList.add('colab-df-quickchart-complete');\n",
              "    }\n",
              "    (() => {\n",
              "      let quickchartButtonEl =\n",
              "        document.querySelector('#df-d19754fe-d6aa-4f4e-8b40-42deeb1a8e71 button');\n",
              "      quickchartButtonEl.style.display =\n",
              "        google.colab.kernel.accessAllowed ? 'block' : 'none';\n",
              "    })();\n",
              "  </script>\n",
              "</div>\n",
              "\n",
              "    </div>\n",
              "  </div>\n"
            ],
            "application/vnd.google.colaboratory.intrinsic+json": {
              "type": "dataframe",
              "summary": "{\n  \"name\": \"df\",\n  \"rows\": 8,\n  \"fields\": [\n    {\n      \"column\": \"alcohol\",\n      \"properties\": {\n        \"dtype\": \"number\",\n        \"std\": 59.11804622765535,\n        \"min\": 0.8118265380058577,\n        \"max\": 178.0,\n        \"num_unique_values\": 8,\n        \"samples\": [\n          13.00061797752809,\n          13.05,\n          178.0\n        ],\n        \"semantic_type\": \"\",\n        \"description\": \"\"\n      }\n    },\n    {\n      \"column\": \"malic_acid\",\n      \"properties\": {\n        \"dtype\": \"number\",\n        \"std\": 62.116878053835904,\n        \"min\": 0.74,\n        \"max\": 178.0,\n        \"num_unique_values\": 8,\n        \"samples\": [\n          2.3363483146067416,\n          1.8650000000000002,\n          178.0\n        ],\n        \"semantic_type\": \"\",\n        \"description\": \"\"\n      }\n    },\n    {\n      \"column\": \"ash\",\n      \"properties\": {\n        \"dtype\": \"number\",\n        \"std\": 62.2136127716068,\n        \"min\": 0.2743440090608148,\n        \"max\": 178.0,\n        \"num_unique_values\": 8,\n        \"samples\": [\n          2.3665168539325845,\n          2.36,\n          178.0\n        ],\n        \"semantic_type\": \"\",\n        \"description\": \"\"\n      }\n    },\n    {\n      \"column\": \"alcalinity_of_ash\",\n      \"properties\": {\n        \"dtype\": \"number\",\n        \"std\": 57.32526338306686,\n        \"min\": 3.3395637671735052,\n        \"max\": 178.0,\n        \"num_unique_values\": 8,\n        \"samples\": [\n          19.49494382022472,\n          19.5,\n          178.0\n        ],\n        \"semantic_type\": \"\",\n        \"description\": \"\"\n      }\n    },\n    {\n      \"column\": \"magnesium\",\n      \"properties\": {\n        \"dtype\": \"number\",\n        \"std\": 51.18081686409121,\n        \"min\": 14.282483515295668,\n        \"max\": 178.0,\n        \"num_unique_values\": 8,\n        \"samples\": [\n          99.74157303370787,\n          98.0,\n          178.0\n        ],\n        \"semantic_type\": \"\",\n        \"description\": \"\"\n      }\n    },\n    {\n      \"column\": \"total_phenols\",\n      \"properties\": {\n        \"dtype\": \"number\",\n        \"std\": 62.19953212829461,\n        \"min\": 0.6258510488339891,\n        \"max\": 178.0,\n        \"num_unique_values\": 8,\n        \"samples\": [\n          2.295112359550562,\n          2.355,\n          178.0\n        ],\n        \"semantic_type\": \"\",\n        \"description\": \"\"\n      }\n    },\n    {\n      \"column\": \"flavanoids\",\n      \"properties\": {\n        \"dtype\": \"number\",\n        \"std\": 62.20866774807846,\n        \"min\": 0.34,\n        \"max\": 178.0,\n        \"num_unique_values\": 8,\n        \"samples\": [\n          2.0292696629213487,\n          2.135,\n          178.0\n        ],\n        \"semantic_type\": \"\",\n        \"description\": \"\"\n      }\n    },\n    {\n      \"column\": \"nonflavanoid_phenols\",\n      \"properties\": {\n        \"dtype\": \"number\",\n        \"std\": 62.81536936528359,\n        \"min\": 0.12445334029667939,\n        \"max\": 178.0,\n        \"num_unique_values\": 8,\n        \"samples\": [\n          0.3618539325842696,\n          0.34,\n          178.0\n        ],\n        \"semantic_type\": \"\",\n        \"description\": \"\"\n      }\n    },\n    {\n      \"column\": \"proanthocyanins\",\n      \"properties\": {\n        \"dtype\": \"number\",\n        \"std\": 62.389141510191415,\n        \"min\": 0.41,\n        \"max\": 178.0,\n        \"num_unique_values\": 8,\n        \"samples\": [\n          1.5908988764044945,\n          1.5550000000000002,\n          178.0\n        ],\n        \"semantic_type\": \"\",\n        \"description\": \"\"\n      }\n    },\n    {\n      \"column\": \"color_intensity\",\n      \"properties\": {\n        \"dtype\": \"number\",\n        \"std\": 61.23070389608627,\n        \"min\": 1.28,\n        \"max\": 178.0,\n        \"num_unique_values\": 8,\n        \"samples\": [\n          5.058089882022472,\n          4.6899999999999995,\n          178.0\n        ],\n        \"semantic_type\": \"\",\n        \"description\": \"\"\n      }\n    },\n    {\n      \"column\": \"hue\",\n      \"properties\": {\n        \"dtype\": \"number\",\n        \"std\": 62.618701002452724,\n        \"min\": 0.22857156582982338,\n        \"max\": 178.0,\n        \"num_unique_values\": 8,\n        \"samples\": [\n          0.9574494382022471,\n          0.965,\n          178.0\n        ],\n        \"semantic_type\": \"\",\n        \"description\": \"\"\n      }\n    },\n    {\n      \"column\": \"od280/od315_of_diluted_wines\",\n      \"properties\": {\n        \"dtype\": \"number\",\n        \"std\": 62.109005977624996,\n        \"min\": 0.7099904287650505,\n        \"max\": 178.0,\n        \"num_unique_values\": 8,\n        \"samples\": [\n          2.6116853932584267,\n          2.78,\n          178.0\n        ],\n        \"semantic_type\": \"\",\n        \"description\": \"\"\n      }\n    },\n    {\n      \"column\": \"proline\",\n      \"properties\": {\n        \"dtype\": \"number\",\n        \"std\": 489.2848273029377,\n        \"min\": 178.0,\n        \"max\": 1680.0,\n        \"num_unique_values\": 8,\n        \"samples\": [\n          746.8932584269663,\n          673.5,\n          178.0\n        ],\n        \"semantic_type\": \"\",\n        \"description\": \"\"\n      }\n    },\n    {\n      \"column\": \"class\",\n      \"properties\": {\n        \"dtype\": \"number\",\n        \"std\": 62.59804698158683,\n        \"min\": 0.0,\n        \"max\": 178.0,\n        \"num_unique_values\": 6,\n        \"samples\": [\n          178.0,\n          0.9382022471910112,\n          2.0\n        ],\n        \"semantic_type\": \"\",\n        \"description\": \"\"\n      }\n    }\n  ]\n}"
            }
          },
          "metadata": {},
          "execution_count": 216
        }
      ]
    },
    {
      "cell_type": "code",
      "source": [
        "# 데이터 분할\n",
        "from sklearn.preprocessing import StandardScaler\n",
        "X = wine.data\n",
        "y = wine.target\n",
        "X = StandardScaler().fit_transform(X)\n",
        "\n",
        "X_train,X_test,y_train,y_test =  train_test_split(X,y,random_state=45, stratify = wine.target)\n",
        "\n",
        "# 모델 선택\n",
        "kn = KNeighborsClassifier(n_neighbors=5)\n",
        "# 학습\n",
        "kn.fit(X_train, y_train)\n",
        "# 평가  스케일링 전  (0.7669172932330827, 0.6666666666666666)   -- > (0.9774436090225563, 0.9555555555555556)\n",
        "kn.score(X_train, y_train), kn.score(X_test, y_test)"
      ],
      "metadata": {
        "colab": {
          "base_uri": "https://localhost:8080/"
        },
        "id": "mNJPMs2KRIHY",
        "outputId": "1b8c048b-f11e-4ac6-9ca2-c38817dab584"
      },
      "execution_count": null,
      "outputs": [
        {
          "output_type": "execute_result",
          "data": {
            "text/plain": [
              "(0.9774436090225563, 0.9555555555555556)"
            ]
          },
          "metadata": {},
          "execution_count": 219
        }
      ]
    },
    {
      "cell_type": "code",
      "source": [
        "np.unique(wine.target, return_counts=True)"
      ],
      "metadata": {
        "colab": {
          "base_uri": "https://localhost:8080/"
        },
        "id": "_4gslJr5S12Y",
        "outputId": "ed24228c-35e7-41b7-ff31-703cea5d7479"
      },
      "execution_count": null,
      "outputs": [
        {
          "output_type": "execute_result",
          "data": {
            "text/plain": [
              "(array([0, 1, 2]), array([59, 71, 48]))"
            ]
          },
          "metadata": {},
          "execution_count": 110
        }
      ]
    },
    {
      "cell_type": "code",
      "source": [
        "# SMOTE 이용한 샘플링 편향 조정\n",
        "from imblearn.over_sampling import SMOTE\n",
        "smote = SMOTE(random_state=42)\n",
        "X_train_over, y_train_over = smote.fit_resample(X, y)\n",
        "print(np.unique(y_train_over, return_counts=True))\n",
        "X_train,X_test,y_train,y_test =  train_test_split(X,y,random_state=45, stratify = wine.target)\n",
        "\n",
        "# 모델 선택\n",
        "kn = KNeighborsClassifier(n_neighbors=5)\n",
        "# 학습\n",
        "kn.fit(X_train, y_train)\n",
        "# 평가\n",
        "kn.score(X_train, y_train), kn.score(X_test, y_test)"
      ],
      "metadata": {
        "colab": {
          "base_uri": "https://localhost:8080/"
        },
        "id": "9r0ckvCSTa2j",
        "outputId": "616a940d-9fe5-43cf-b832-b3beec4d2405"
      },
      "execution_count": null,
      "outputs": [
        {
          "output_type": "stream",
          "name": "stdout",
          "text": [
            "(array([0, 1, 2]), array([71, 71, 71]))\n"
          ]
        },
        {
          "output_type": "execute_result",
          "data": {
            "text/plain": [
              "(0.7669172932330827, 0.6666666666666666)"
            ]
          },
          "metadata": {},
          "execution_count": 114
        }
      ]
    },
    {
      "cell_type": "code",
      "source": [
        "!pip install ucimlrepo\n",
        "from ucimlrepo import fetch_ucirepo\n",
        "\n",
        "# fetch dataset\n",
        "student_performance = fetch_ucirepo(id=320)\n",
        "\n",
        "# data (as pandas dataframes)\n",
        "X = student_performance.data.features\n",
        "y = student_performance.data.targets"
      ],
      "metadata": {
        "colab": {
          "base_uri": "https://localhost:8080/"
        },
        "id": "vrhfaB1ITfSk",
        "outputId": "716812bc-d919-4a1e-9744-6276fff0ec2b"
      },
      "execution_count": null,
      "outputs": [
        {
          "output_type": "stream",
          "name": "stdout",
          "text": [
            "Collecting ucimlrepo\n",
            "  Downloading ucimlrepo-0.0.7-py3-none-any.whl.metadata (5.5 kB)\n",
            "Requirement already satisfied: pandas>=1.0.0 in /usr/local/lib/python3.11/dist-packages (from ucimlrepo) (2.2.2)\n",
            "Requirement already satisfied: certifi>=2020.12.5 in /usr/local/lib/python3.11/dist-packages (from ucimlrepo) (2025.1.31)\n",
            "Requirement already satisfied: numpy>=1.23.2 in /usr/local/lib/python3.11/dist-packages (from pandas>=1.0.0->ucimlrepo) (2.0.2)\n",
            "Requirement already satisfied: python-dateutil>=2.8.2 in /usr/local/lib/python3.11/dist-packages (from pandas>=1.0.0->ucimlrepo) (2.8.2)\n",
            "Requirement already satisfied: pytz>=2020.1 in /usr/local/lib/python3.11/dist-packages (from pandas>=1.0.0->ucimlrepo) (2025.1)\n",
            "Requirement already satisfied: tzdata>=2022.7 in /usr/local/lib/python3.11/dist-packages (from pandas>=1.0.0->ucimlrepo) (2025.1)\n",
            "Requirement already satisfied: six>=1.5 in /usr/local/lib/python3.11/dist-packages (from python-dateutil>=2.8.2->pandas>=1.0.0->ucimlrepo) (1.17.0)\n",
            "Downloading ucimlrepo-0.0.7-py3-none-any.whl (8.0 kB)\n",
            "Installing collected packages: ucimlrepo\n",
            "Successfully installed ucimlrepo-0.0.7\n"
          ]
        }
      ]
    },
    {
      "cell_type": "code",
      "source": [
        "X.shape, np.unique(y['G3'],return_counts=True)\n",
        "y = y['G3']"
      ],
      "metadata": {
        "id": "f-uaWzqiU2YS"
      },
      "execution_count": null,
      "outputs": []
    },
    {
      "cell_type": "code",
      "source": [
        "# 모델 적용\n",
        "X = X.select_dtypes(include='number')\n",
        "X.head()"
      ],
      "metadata": {
        "colab": {
          "base_uri": "https://localhost:8080/",
          "height": 206
        },
        "id": "uBFjHwV7V8kq",
        "outputId": "088d97ff-1993-4726-bc07-0b41d271bb26"
      },
      "execution_count": null,
      "outputs": [
        {
          "output_type": "execute_result",
          "data": {
            "text/plain": [
              "   age  Medu  Fedu  traveltime  studytime  failures  famrel  freetime  goout  \\\n",
              "0   18     4     4           2          2         0       4         3      4   \n",
              "1   17     1     1           1          2         0       5         3      3   \n",
              "2   15     1     1           1          2         0       4         3      2   \n",
              "3   15     4     2           1          3         0       3         2      2   \n",
              "4   16     3     3           1          2         0       4         3      2   \n",
              "\n",
              "   Dalc  Walc  health  absences  \n",
              "0     1     1       3         4  \n",
              "1     1     1       3         2  \n",
              "2     2     3       3         6  \n",
              "3     1     1       5         0  \n",
              "4     1     2       5         0  "
            ],
            "text/html": [
              "\n",
              "  <div id=\"df-121972fe-9dec-4682-a51b-a0c355675143\" class=\"colab-df-container\">\n",
              "    <div>\n",
              "<style scoped>\n",
              "    .dataframe tbody tr th:only-of-type {\n",
              "        vertical-align: middle;\n",
              "    }\n",
              "\n",
              "    .dataframe tbody tr th {\n",
              "        vertical-align: top;\n",
              "    }\n",
              "\n",
              "    .dataframe thead th {\n",
              "        text-align: right;\n",
              "    }\n",
              "</style>\n",
              "<table border=\"1\" class=\"dataframe\">\n",
              "  <thead>\n",
              "    <tr style=\"text-align: right;\">\n",
              "      <th></th>\n",
              "      <th>age</th>\n",
              "      <th>Medu</th>\n",
              "      <th>Fedu</th>\n",
              "      <th>traveltime</th>\n",
              "      <th>studytime</th>\n",
              "      <th>failures</th>\n",
              "      <th>famrel</th>\n",
              "      <th>freetime</th>\n",
              "      <th>goout</th>\n",
              "      <th>Dalc</th>\n",
              "      <th>Walc</th>\n",
              "      <th>health</th>\n",
              "      <th>absences</th>\n",
              "    </tr>\n",
              "  </thead>\n",
              "  <tbody>\n",
              "    <tr>\n",
              "      <th>0</th>\n",
              "      <td>18</td>\n",
              "      <td>4</td>\n",
              "      <td>4</td>\n",
              "      <td>2</td>\n",
              "      <td>2</td>\n",
              "      <td>0</td>\n",
              "      <td>4</td>\n",
              "      <td>3</td>\n",
              "      <td>4</td>\n",
              "      <td>1</td>\n",
              "      <td>1</td>\n",
              "      <td>3</td>\n",
              "      <td>4</td>\n",
              "    </tr>\n",
              "    <tr>\n",
              "      <th>1</th>\n",
              "      <td>17</td>\n",
              "      <td>1</td>\n",
              "      <td>1</td>\n",
              "      <td>1</td>\n",
              "      <td>2</td>\n",
              "      <td>0</td>\n",
              "      <td>5</td>\n",
              "      <td>3</td>\n",
              "      <td>3</td>\n",
              "      <td>1</td>\n",
              "      <td>1</td>\n",
              "      <td>3</td>\n",
              "      <td>2</td>\n",
              "    </tr>\n",
              "    <tr>\n",
              "      <th>2</th>\n",
              "      <td>15</td>\n",
              "      <td>1</td>\n",
              "      <td>1</td>\n",
              "      <td>1</td>\n",
              "      <td>2</td>\n",
              "      <td>0</td>\n",
              "      <td>4</td>\n",
              "      <td>3</td>\n",
              "      <td>2</td>\n",
              "      <td>2</td>\n",
              "      <td>3</td>\n",
              "      <td>3</td>\n",
              "      <td>6</td>\n",
              "    </tr>\n",
              "    <tr>\n",
              "      <th>3</th>\n",
              "      <td>15</td>\n",
              "      <td>4</td>\n",
              "      <td>2</td>\n",
              "      <td>1</td>\n",
              "      <td>3</td>\n",
              "      <td>0</td>\n",
              "      <td>3</td>\n",
              "      <td>2</td>\n",
              "      <td>2</td>\n",
              "      <td>1</td>\n",
              "      <td>1</td>\n",
              "      <td>5</td>\n",
              "      <td>0</td>\n",
              "    </tr>\n",
              "    <tr>\n",
              "      <th>4</th>\n",
              "      <td>16</td>\n",
              "      <td>3</td>\n",
              "      <td>3</td>\n",
              "      <td>1</td>\n",
              "      <td>2</td>\n",
              "      <td>0</td>\n",
              "      <td>4</td>\n",
              "      <td>3</td>\n",
              "      <td>2</td>\n",
              "      <td>1</td>\n",
              "      <td>2</td>\n",
              "      <td>5</td>\n",
              "      <td>0</td>\n",
              "    </tr>\n",
              "  </tbody>\n",
              "</table>\n",
              "</div>\n",
              "    <div class=\"colab-df-buttons\">\n",
              "\n",
              "  <div class=\"colab-df-container\">\n",
              "    <button class=\"colab-df-convert\" onclick=\"convertToInteractive('df-121972fe-9dec-4682-a51b-a0c355675143')\"\n",
              "            title=\"Convert this dataframe to an interactive table.\"\n",
              "            style=\"display:none;\">\n",
              "\n",
              "  <svg xmlns=\"http://www.w3.org/2000/svg\" height=\"24px\" viewBox=\"0 -960 960 960\">\n",
              "    <path d=\"M120-120v-720h720v720H120Zm60-500h600v-160H180v160Zm220 220h160v-160H400v160Zm0 220h160v-160H400v160ZM180-400h160v-160H180v160Zm440 0h160v-160H620v160ZM180-180h160v-160H180v160Zm440 0h160v-160H620v160Z\"/>\n",
              "  </svg>\n",
              "    </button>\n",
              "\n",
              "  <style>\n",
              "    .colab-df-container {\n",
              "      display:flex;\n",
              "      gap: 12px;\n",
              "    }\n",
              "\n",
              "    .colab-df-convert {\n",
              "      background-color: #E8F0FE;\n",
              "      border: none;\n",
              "      border-radius: 50%;\n",
              "      cursor: pointer;\n",
              "      display: none;\n",
              "      fill: #1967D2;\n",
              "      height: 32px;\n",
              "      padding: 0 0 0 0;\n",
              "      width: 32px;\n",
              "    }\n",
              "\n",
              "    .colab-df-convert:hover {\n",
              "      background-color: #E2EBFA;\n",
              "      box-shadow: 0px 1px 2px rgba(60, 64, 67, 0.3), 0px 1px 3px 1px rgba(60, 64, 67, 0.15);\n",
              "      fill: #174EA6;\n",
              "    }\n",
              "\n",
              "    .colab-df-buttons div {\n",
              "      margin-bottom: 4px;\n",
              "    }\n",
              "\n",
              "    [theme=dark] .colab-df-convert {\n",
              "      background-color: #3B4455;\n",
              "      fill: #D2E3FC;\n",
              "    }\n",
              "\n",
              "    [theme=dark] .colab-df-convert:hover {\n",
              "      background-color: #434B5C;\n",
              "      box-shadow: 0px 1px 3px 1px rgba(0, 0, 0, 0.15);\n",
              "      filter: drop-shadow(0px 1px 2px rgba(0, 0, 0, 0.3));\n",
              "      fill: #FFFFFF;\n",
              "    }\n",
              "  </style>\n",
              "\n",
              "    <script>\n",
              "      const buttonEl =\n",
              "        document.querySelector('#df-121972fe-9dec-4682-a51b-a0c355675143 button.colab-df-convert');\n",
              "      buttonEl.style.display =\n",
              "        google.colab.kernel.accessAllowed ? 'block' : 'none';\n",
              "\n",
              "      async function convertToInteractive(key) {\n",
              "        const element = document.querySelector('#df-121972fe-9dec-4682-a51b-a0c355675143');\n",
              "        const dataTable =\n",
              "          await google.colab.kernel.invokeFunction('convertToInteractive',\n",
              "                                                    [key], {});\n",
              "        if (!dataTable) return;\n",
              "\n",
              "        const docLinkHtml = 'Like what you see? Visit the ' +\n",
              "          '<a target=\"_blank\" href=https://colab.research.google.com/notebooks/data_table.ipynb>data table notebook</a>'\n",
              "          + ' to learn more about interactive tables.';\n",
              "        element.innerHTML = '';\n",
              "        dataTable['output_type'] = 'display_data';\n",
              "        await google.colab.output.renderOutput(dataTable, element);\n",
              "        const docLink = document.createElement('div');\n",
              "        docLink.innerHTML = docLinkHtml;\n",
              "        element.appendChild(docLink);\n",
              "      }\n",
              "    </script>\n",
              "  </div>\n",
              "\n",
              "\n",
              "<div id=\"df-c08cdb6a-ea19-4a84-8f10-901ad2ad747f\">\n",
              "  <button class=\"colab-df-quickchart\" onclick=\"quickchart('df-c08cdb6a-ea19-4a84-8f10-901ad2ad747f')\"\n",
              "            title=\"Suggest charts\"\n",
              "            style=\"display:none;\">\n",
              "\n",
              "<svg xmlns=\"http://www.w3.org/2000/svg\" height=\"24px\"viewBox=\"0 0 24 24\"\n",
              "     width=\"24px\">\n",
              "    <g>\n",
              "        <path d=\"M19 3H5c-1.1 0-2 .9-2 2v14c0 1.1.9 2 2 2h14c1.1 0 2-.9 2-2V5c0-1.1-.9-2-2-2zM9 17H7v-7h2v7zm4 0h-2V7h2v10zm4 0h-2v-4h2v4z\"/>\n",
              "    </g>\n",
              "</svg>\n",
              "  </button>\n",
              "\n",
              "<style>\n",
              "  .colab-df-quickchart {\n",
              "      --bg-color: #E8F0FE;\n",
              "      --fill-color: #1967D2;\n",
              "      --hover-bg-color: #E2EBFA;\n",
              "      --hover-fill-color: #174EA6;\n",
              "      --disabled-fill-color: #AAA;\n",
              "      --disabled-bg-color: #DDD;\n",
              "  }\n",
              "\n",
              "  [theme=dark] .colab-df-quickchart {\n",
              "      --bg-color: #3B4455;\n",
              "      --fill-color: #D2E3FC;\n",
              "      --hover-bg-color: #434B5C;\n",
              "      --hover-fill-color: #FFFFFF;\n",
              "      --disabled-bg-color: #3B4455;\n",
              "      --disabled-fill-color: #666;\n",
              "  }\n",
              "\n",
              "  .colab-df-quickchart {\n",
              "    background-color: var(--bg-color);\n",
              "    border: none;\n",
              "    border-radius: 50%;\n",
              "    cursor: pointer;\n",
              "    display: none;\n",
              "    fill: var(--fill-color);\n",
              "    height: 32px;\n",
              "    padding: 0;\n",
              "    width: 32px;\n",
              "  }\n",
              "\n",
              "  .colab-df-quickchart:hover {\n",
              "    background-color: var(--hover-bg-color);\n",
              "    box-shadow: 0 1px 2px rgba(60, 64, 67, 0.3), 0 1px 3px 1px rgba(60, 64, 67, 0.15);\n",
              "    fill: var(--button-hover-fill-color);\n",
              "  }\n",
              "\n",
              "  .colab-df-quickchart-complete:disabled,\n",
              "  .colab-df-quickchart-complete:disabled:hover {\n",
              "    background-color: var(--disabled-bg-color);\n",
              "    fill: var(--disabled-fill-color);\n",
              "    box-shadow: none;\n",
              "  }\n",
              "\n",
              "  .colab-df-spinner {\n",
              "    border: 2px solid var(--fill-color);\n",
              "    border-color: transparent;\n",
              "    border-bottom-color: var(--fill-color);\n",
              "    animation:\n",
              "      spin 1s steps(1) infinite;\n",
              "  }\n",
              "\n",
              "  @keyframes spin {\n",
              "    0% {\n",
              "      border-color: transparent;\n",
              "      border-bottom-color: var(--fill-color);\n",
              "      border-left-color: var(--fill-color);\n",
              "    }\n",
              "    20% {\n",
              "      border-color: transparent;\n",
              "      border-left-color: var(--fill-color);\n",
              "      border-top-color: var(--fill-color);\n",
              "    }\n",
              "    30% {\n",
              "      border-color: transparent;\n",
              "      border-left-color: var(--fill-color);\n",
              "      border-top-color: var(--fill-color);\n",
              "      border-right-color: var(--fill-color);\n",
              "    }\n",
              "    40% {\n",
              "      border-color: transparent;\n",
              "      border-right-color: var(--fill-color);\n",
              "      border-top-color: var(--fill-color);\n",
              "    }\n",
              "    60% {\n",
              "      border-color: transparent;\n",
              "      border-right-color: var(--fill-color);\n",
              "    }\n",
              "    80% {\n",
              "      border-color: transparent;\n",
              "      border-right-color: var(--fill-color);\n",
              "      border-bottom-color: var(--fill-color);\n",
              "    }\n",
              "    90% {\n",
              "      border-color: transparent;\n",
              "      border-bottom-color: var(--fill-color);\n",
              "    }\n",
              "  }\n",
              "</style>\n",
              "\n",
              "  <script>\n",
              "    async function quickchart(key) {\n",
              "      const quickchartButtonEl =\n",
              "        document.querySelector('#' + key + ' button');\n",
              "      quickchartButtonEl.disabled = true;  // To prevent multiple clicks.\n",
              "      quickchartButtonEl.classList.add('colab-df-spinner');\n",
              "      try {\n",
              "        const charts = await google.colab.kernel.invokeFunction(\n",
              "            'suggestCharts', [key], {});\n",
              "      } catch (error) {\n",
              "        console.error('Error during call to suggestCharts:', error);\n",
              "      }\n",
              "      quickchartButtonEl.classList.remove('colab-df-spinner');\n",
              "      quickchartButtonEl.classList.add('colab-df-quickchart-complete');\n",
              "    }\n",
              "    (() => {\n",
              "      let quickchartButtonEl =\n",
              "        document.querySelector('#df-c08cdb6a-ea19-4a84-8f10-901ad2ad747f button');\n",
              "      quickchartButtonEl.style.display =\n",
              "        google.colab.kernel.accessAllowed ? 'block' : 'none';\n",
              "    })();\n",
              "  </script>\n",
              "</div>\n",
              "\n",
              "    </div>\n",
              "  </div>\n"
            ],
            "application/vnd.google.colaboratory.intrinsic+json": {
              "type": "dataframe",
              "variable_name": "X",
              "summary": "{\n  \"name\": \"X\",\n  \"rows\": 649,\n  \"fields\": [\n    {\n      \"column\": \"age\",\n      \"properties\": {\n        \"dtype\": \"number\",\n        \"std\": 1,\n        \"min\": 15,\n        \"max\": 22,\n        \"num_unique_values\": 8,\n        \"samples\": [\n          17,\n          22,\n          18\n        ],\n        \"semantic_type\": \"\",\n        \"description\": \"\"\n      }\n    },\n    {\n      \"column\": \"Medu\",\n      \"properties\": {\n        \"dtype\": \"number\",\n        \"std\": 1,\n        \"min\": 0,\n        \"max\": 4,\n        \"num_unique_values\": 5,\n        \"samples\": [\n          1,\n          0,\n          3\n        ],\n        \"semantic_type\": \"\",\n        \"description\": \"\"\n      }\n    },\n    {\n      \"column\": \"Fedu\",\n      \"properties\": {\n        \"dtype\": \"number\",\n        \"std\": 1,\n        \"min\": 0,\n        \"max\": 4,\n        \"num_unique_values\": 5,\n        \"samples\": [\n          1,\n          0,\n          2\n        ],\n        \"semantic_type\": \"\",\n        \"description\": \"\"\n      }\n    },\n    {\n      \"column\": \"traveltime\",\n      \"properties\": {\n        \"dtype\": \"number\",\n        \"std\": 0,\n        \"min\": 1,\n        \"max\": 4,\n        \"num_unique_values\": 4,\n        \"samples\": [\n          1,\n          4,\n          2\n        ],\n        \"semantic_type\": \"\",\n        \"description\": \"\"\n      }\n    },\n    {\n      \"column\": \"studytime\",\n      \"properties\": {\n        \"dtype\": \"number\",\n        \"std\": 0,\n        \"min\": 1,\n        \"max\": 4,\n        \"num_unique_values\": 4,\n        \"samples\": [\n          3,\n          4,\n          2\n        ],\n        \"semantic_type\": \"\",\n        \"description\": \"\"\n      }\n    },\n    {\n      \"column\": \"failures\",\n      \"properties\": {\n        \"dtype\": \"number\",\n        \"std\": 0,\n        \"min\": 0,\n        \"max\": 3,\n        \"num_unique_values\": 4,\n        \"samples\": [\n          3,\n          2,\n          0\n        ],\n        \"semantic_type\": \"\",\n        \"description\": \"\"\n      }\n    },\n    {\n      \"column\": \"famrel\",\n      \"properties\": {\n        \"dtype\": \"number\",\n        \"std\": 0,\n        \"min\": 1,\n        \"max\": 5,\n        \"num_unique_values\": 5,\n        \"samples\": [\n          5,\n          2,\n          3\n        ],\n        \"semantic_type\": \"\",\n        \"description\": \"\"\n      }\n    },\n    {\n      \"column\": \"freetime\",\n      \"properties\": {\n        \"dtype\": \"number\",\n        \"std\": 1,\n        \"min\": 1,\n        \"max\": 5,\n        \"num_unique_values\": 5,\n        \"samples\": [\n          2,\n          5,\n          4\n        ],\n        \"semantic_type\": \"\",\n        \"description\": \"\"\n      }\n    },\n    {\n      \"column\": \"goout\",\n      \"properties\": {\n        \"dtype\": \"number\",\n        \"std\": 1,\n        \"min\": 1,\n        \"max\": 5,\n        \"num_unique_values\": 5,\n        \"samples\": [\n          3,\n          5,\n          2\n        ],\n        \"semantic_type\": \"\",\n        \"description\": \"\"\n      }\n    },\n    {\n      \"column\": \"Dalc\",\n      \"properties\": {\n        \"dtype\": \"number\",\n        \"std\": 0,\n        \"min\": 1,\n        \"max\": 5,\n        \"num_unique_values\": 5,\n        \"samples\": [\n          2,\n          4,\n          5\n        ],\n        \"semantic_type\": \"\",\n        \"description\": \"\"\n      }\n    },\n    {\n      \"column\": \"Walc\",\n      \"properties\": {\n        \"dtype\": \"number\",\n        \"std\": 1,\n        \"min\": 1,\n        \"max\": 5,\n        \"num_unique_values\": 5,\n        \"samples\": [\n          3,\n          5,\n          2\n        ],\n        \"semantic_type\": \"\",\n        \"description\": \"\"\n      }\n    },\n    {\n      \"column\": \"health\",\n      \"properties\": {\n        \"dtype\": \"number\",\n        \"std\": 1,\n        \"min\": 1,\n        \"max\": 5,\n        \"num_unique_values\": 5,\n        \"samples\": [\n          5,\n          4,\n          1\n        ],\n        \"semantic_type\": \"\",\n        \"description\": \"\"\n      }\n    },\n    {\n      \"column\": \"absences\",\n      \"properties\": {\n        \"dtype\": \"number\",\n        \"std\": 4,\n        \"min\": 0,\n        \"max\": 32,\n        \"num_unique_values\": 24,\n        \"samples\": [\n          1,\n          9,\n          4\n        ],\n        \"semantic_type\": \"\",\n        \"description\": \"\"\n      }\n    }\n  ]\n}"
            }
          },
          "metadata": {},
          "execution_count": 145
        }
      ]
    },
    {
      "cell_type": "code",
      "source": [
        "X_train,X_test,y_train,y_test = train_test_split(X,y, random_state=42)\n",
        "kn = KNeighborsClassifier()\n",
        "kn.fit(X_train, y_train)\n",
        "kn.score(X_train, y_train), kn.score(X_test, y_test)"
      ],
      "metadata": {
        "colab": {
          "base_uri": "https://localhost:8080/"
        },
        "collapsed": true,
        "id": "TXz445QoWAFh",
        "outputId": "a108c210-f407-4e36-e87b-941d7fb7771e"
      },
      "execution_count": null,
      "outputs": [
        {
          "output_type": "execute_result",
          "data": {
            "text/plain": [
              "(0.39300411522633744, 0.13496932515337423)"
            ]
          },
          "metadata": {},
          "execution_count": 146
        }
      ]
    },
    {
      "cell_type": "code",
      "source": [
        "corr = X.corr()\n",
        "sns.heatmap(corr)\n",
        "plt.show()"
      ],
      "metadata": {
        "colab": {
          "base_uri": "https://localhost:8080/",
          "height": 493
        },
        "id": "1P5cVQlaXn2x",
        "outputId": "f4e0e890-7bf2-4146-c635-737b6dce0484"
      },
      "execution_count": null,
      "outputs": [
        {
          "output_type": "display_data",
          "data": {
            "text/plain": [
              "<Figure size 640x480 with 2 Axes>"
            ],
            "image/png": "[encoded data removed]"
          },
          "metadata": {}
        }
      ]
    },
    {
      "cell_type": "code",
      "source": [
        "\n",
        "X_train,X_test,y_train,y_test = train_test_split(X.loc[:,'Medu':'studytime'],y, random_state=42)\n",
        "kn = KNeighborsClassifier()\n",
        "kn.fit(X_train, y_train)\n",
        "kn.score(X_train, y_train), kn.score(X_test, y_test)"
      ],
      "metadata": {
        "colab": {
          "base_uri": "https://localhost:8080/"
        },
        "id": "SLUmBupaZVJR",
        "outputId": "983b4fcf-b4d4-40ad-e377-ccb737759bcd"
      },
      "execution_count": null,
      "outputs": [
        {
          "output_type": "execute_result",
          "data": {
            "text/plain": [
              "(0.2674897119341564, 0.1656441717791411)"
            ]
          },
          "metadata": {},
          "execution_count": 151
        }
      ]
    },
    {
      "cell_type": "code",
      "source": [
        "temp = dict( zip( np.unique(y.values ), list(range(len(y))) ) )\n",
        "y2 = y.map(temp)\n",
        "X_train,X_test,y_train,y_test = train_test_split(X,y2, random_state=42 ,stratify=y2)\n",
        "kn = KNeighborsClassifier()\n",
        "kn.fit(X_train, y_train)\n",
        "kn.score(X_train, y_train), kn.score(X_test, y_test)\n",
        "\n",
        "# stratify=y2를 사용하려면 셈플의 수가 6개 보다 많아야 함"
      ],
      "metadata": {
        "colab": {
          "base_uri": "https://localhost:8080/"
        },
        "collapsed": true,
        "id": "BcVtBZ9QX5FC",
        "outputId": "1a8572c9-4b0a-4619-9fb5-d069aa131c1f"
      },
      "execution_count": null,
      "outputs": [
        {
          "output_type": "error",
          "ename": "ValueError",
          "evalue": "The least populated class in y has only 1 member, which is too few. The minimum number of groups for any class cannot be less than 2.",
          "traceback": [
            "\u001b[0;31m---------------------------------------------------------------------------\u001b[0m",
            "\u001b[0;31mValueError\u001b[0m                                Traceback (most recent call last)",
            "\u001b[0;32m<ipython-input-161-501219e0eee4>\u001b[0m in \u001b[0;36m<cell line: 0>\u001b[0;34m()\u001b[0m\n\u001b[1;32m      1\u001b[0m \u001b[0mtemp\u001b[0m \u001b[0;34m=\u001b[0m \u001b[0mdict\u001b[0m\u001b[0;34m(\u001b[0m \u001b[0mzip\u001b[0m\u001b[0;34m(\u001b[0m \u001b[0mnp\u001b[0m\u001b[0;34m.\u001b[0m\u001b[0munique\u001b[0m\u001b[0;34m(\u001b[0m\u001b[0my\u001b[0m\u001b[0;34m.\u001b[0m\u001b[0mvalues\u001b[0m \u001b[0;34m)\u001b[0m\u001b[0;34m,\u001b[0m \u001b[0mlist\u001b[0m\u001b[0;34m(\u001b[0m\u001b[0mrange\u001b[0m\u001b[0;34m(\u001b[0m\u001b[0mlen\u001b[0m\u001b[0;34m(\u001b[0m\u001b[0my\u001b[0m\u001b[0;34m)\u001b[0m\u001b[0;34m)\u001b[0m\u001b[0;34m)\u001b[0m \u001b[0;34m)\u001b[0m \u001b[0;34m)\u001b[0m\u001b[0;34m\u001b[0m\u001b[0;34m\u001b[0m\u001b[0m\n\u001b[1;32m      2\u001b[0m \u001b[0my2\u001b[0m \u001b[0;34m=\u001b[0m \u001b[0my\u001b[0m\u001b[0;34m.\u001b[0m\u001b[0mmap\u001b[0m\u001b[0;34m(\u001b[0m\u001b[0mtemp\u001b[0m\u001b[0;34m)\u001b[0m\u001b[0;34m\u001b[0m\u001b[0;34m\u001b[0m\u001b[0m\n\u001b[0;32m----> 3\u001b[0;31m \u001b[0mX_train\u001b[0m\u001b[0;34m,\u001b[0m\u001b[0mX_test\u001b[0m\u001b[0;34m,\u001b[0m\u001b[0my_train\u001b[0m\u001b[0;34m,\u001b[0m\u001b[0my_test\u001b[0m \u001b[0;34m=\u001b[0m \u001b[0mtrain_test_split\u001b[0m\u001b[0;34m(\u001b[0m\u001b[0mX\u001b[0m\u001b[0;34m,\u001b[0m\u001b[0my2\u001b[0m\u001b[0;34m,\u001b[0m \u001b[0mrandom_state\u001b[0m\u001b[0;34m=\u001b[0m\u001b[0;36m42\u001b[0m \u001b[0;34m,\u001b[0m\u001b[0mstratify\u001b[0m\u001b[0;34m=\u001b[0m\u001b[0my2\u001b[0m\u001b[0;34m)\u001b[0m\u001b[0;34m\u001b[0m\u001b[0;34m\u001b[0m\u001b[0m\n\u001b[0m\u001b[1;32m      4\u001b[0m \u001b[0mkn\u001b[0m \u001b[0;34m=\u001b[0m \u001b[0mKNeighborsClassifier\u001b[0m\u001b[0;34m(\u001b[0m\u001b[0;34m)\u001b[0m\u001b[0;34m\u001b[0m\u001b[0;34m\u001b[0m\u001b[0m\n\u001b[1;32m      5\u001b[0m \u001b[0mkn\u001b[0m\u001b[0;34m.\u001b[0m\u001b[0mfit\u001b[0m\u001b[0;34m(\u001b[0m\u001b[0mX_train\u001b[0m\u001b[0;34m,\u001b[0m \u001b[0my_train\u001b[0m\u001b[0;34m)\u001b[0m\u001b[0;34m\u001b[0m\u001b[0;34m\u001b[0m\u001b[0m\n",
            "\u001b[0;32m/usr/local/lib/python3.11/dist-packages/sklearn/utils/_param_validation.py\u001b[0m in \u001b[0;36mwrapper\u001b[0;34m(*args, **kwargs)\u001b[0m\n\u001b[1;32m    214\u001b[0m                     )\n\u001b[1;32m    215\u001b[0m                 ):\n\u001b[0;32m--> 216\u001b[0;31m                     \u001b[0;32mreturn\u001b[0m \u001b[0mfunc\u001b[0m\u001b[0;34m(\u001b[0m\u001b[0;34m*\u001b[0m\u001b[0margs\u001b[0m\u001b[0;34m,\u001b[0m \u001b[0;34m**\u001b[0m\u001b[0mkwargs\u001b[0m\u001b[0;34m)\u001b[0m\u001b[0;34m\u001b[0m\u001b[0;34m\u001b[0m\u001b[0m\n\u001b[0m\u001b[1;32m    217\u001b[0m             \u001b[0;32mexcept\u001b[0m \u001b[0mInvalidParameterError\u001b[0m \u001b[0;32mas\u001b[0m \u001b[0me\u001b[0m\u001b[0;34m:\u001b[0m\u001b[0;34m\u001b[0m\u001b[0;34m\u001b[0m\u001b[0m\n\u001b[1;32m    218\u001b[0m                 \u001b[0;31m# When the function is just a wrapper around an estimator, we allow\u001b[0m\u001b[0;34m\u001b[0m\u001b[0;34m\u001b[0m\u001b[0m\n",
            "\u001b[0;32m/usr/local/lib/python3.11/dist-packages/sklearn/model_selection/_split.py\u001b[0m in \u001b[0;36mtrain_test_split\u001b[0;34m(test_size, train_size, random_state, shuffle, stratify, *arrays)\u001b[0m\n\u001b[1;32m   2870\u001b[0m         \u001b[0mcv\u001b[0m \u001b[0;34m=\u001b[0m \u001b[0mCVClass\u001b[0m\u001b[0;34m(\u001b[0m\u001b[0mtest_size\u001b[0m\u001b[0;34m=\u001b[0m\u001b[0mn_test\u001b[0m\u001b[0;34m,\u001b[0m \u001b[0mtrain_size\u001b[0m\u001b[0;34m=\u001b[0m\u001b[0mn_train\u001b[0m\u001b[0;34m,\u001b[0m \u001b[0mrandom_state\u001b[0m\u001b[0;34m=\u001b[0m\u001b[0mrandom_state\u001b[0m\u001b[0;34m)\u001b[0m\u001b[0;34m\u001b[0m\u001b[0;34m\u001b[0m\u001b[0m\n\u001b[1;32m   2871\u001b[0m \u001b[0;34m\u001b[0m\u001b[0m\n\u001b[0;32m-> 2872\u001b[0;31m         \u001b[0mtrain\u001b[0m\u001b[0;34m,\u001b[0m \u001b[0mtest\u001b[0m \u001b[0;34m=\u001b[0m \u001b[0mnext\u001b[0m\u001b[0;34m(\u001b[0m\u001b[0mcv\u001b[0m\u001b[0;34m.\u001b[0m\u001b[0msplit\u001b[0m\u001b[0;34m(\u001b[0m\u001b[0mX\u001b[0m\u001b[0;34m=\u001b[0m\u001b[0marrays\u001b[0m\u001b[0;34m[\u001b[0m\u001b[0;36m0\u001b[0m\u001b[0;34m]\u001b[0m\u001b[0;34m,\u001b[0m \u001b[0my\u001b[0m\u001b[0;34m=\u001b[0m\u001b[0mstratify\u001b[0m\u001b[0;34m)\u001b[0m\u001b[0;34m)\u001b[0m\u001b[0;34m\u001b[0m\u001b[0;34m\u001b[0m\u001b[0m\n\u001b[0m\u001b[1;32m   2873\u001b[0m \u001b[0;34m\u001b[0m\u001b[0m\n\u001b[1;32m   2874\u001b[0m     \u001b[0mtrain\u001b[0m\u001b[0;34m,\u001b[0m \u001b[0mtest\u001b[0m \u001b[0;34m=\u001b[0m \u001b[0mensure_common_namespace_device\u001b[0m\u001b[0;34m(\u001b[0m\u001b[0marrays\u001b[0m\u001b[0;34m[\u001b[0m\u001b[0;36m0\u001b[0m\u001b[0;34m]\u001b[0m\u001b[0;34m,\u001b[0m \u001b[0mtrain\u001b[0m\u001b[0;34m,\u001b[0m \u001b[0mtest\u001b[0m\u001b[0;34m)\u001b[0m\u001b[0;34m\u001b[0m\u001b[0;34m\u001b[0m\u001b[0m\n",
            "\u001b[0;32m/usr/local/lib/python3.11/dist-packages/sklearn/model_selection/_split.py\u001b[0m in \u001b[0;36msplit\u001b[0;34m(self, X, y, groups)\u001b[0m\n\u001b[1;32m   1907\u001b[0m         \"\"\"\n\u001b[1;32m   1908\u001b[0m         \u001b[0mX\u001b[0m\u001b[0;34m,\u001b[0m \u001b[0my\u001b[0m\u001b[0;34m,\u001b[0m \u001b[0mgroups\u001b[0m \u001b[0;34m=\u001b[0m \u001b[0mindexable\u001b[0m\u001b[0;34m(\u001b[0m\u001b[0mX\u001b[0m\u001b[0;34m,\u001b[0m \u001b[0my\u001b[0m\u001b[0;34m,\u001b[0m \u001b[0mgroups\u001b[0m\u001b[0;34m)\u001b[0m\u001b[0;34m\u001b[0m\u001b[0;34m\u001b[0m\u001b[0m\n\u001b[0;32m-> 1909\u001b[0;31m         \u001b[0;32mfor\u001b[0m \u001b[0mtrain\u001b[0m\u001b[0;34m,\u001b[0m \u001b[0mtest\u001b[0m \u001b[0;32min\u001b[0m \u001b[0mself\u001b[0m\u001b[0;34m.\u001b[0m\u001b[0m_iter_indices\u001b[0m\u001b[0;34m(\u001b[0m\u001b[0mX\u001b[0m\u001b[0;34m,\u001b[0m \u001b[0my\u001b[0m\u001b[0;34m,\u001b[0m \u001b[0mgroups\u001b[0m\u001b[0;34m)\u001b[0m\u001b[0;34m:\u001b[0m\u001b[0;34m\u001b[0m\u001b[0;34m\u001b[0m\u001b[0m\n\u001b[0m\u001b[1;32m   1910\u001b[0m             \u001b[0;32myield\u001b[0m \u001b[0mtrain\u001b[0m\u001b[0;34m,\u001b[0m \u001b[0mtest\u001b[0m\u001b[0;34m\u001b[0m\u001b[0;34m\u001b[0m\u001b[0m\n\u001b[1;32m   1911\u001b[0m \u001b[0;34m\u001b[0m\u001b[0m\n",
            "\u001b[0;32m/usr/local/lib/python3.11/dist-packages/sklearn/model_selection/_split.py\u001b[0m in \u001b[0;36m_iter_indices\u001b[0;34m(self, X, y, groups)\u001b[0m\n\u001b[1;32m   2316\u001b[0m         \u001b[0mclass_counts\u001b[0m \u001b[0;34m=\u001b[0m \u001b[0mnp\u001b[0m\u001b[0;34m.\u001b[0m\u001b[0mbincount\u001b[0m\u001b[0;34m(\u001b[0m\u001b[0my_indices\u001b[0m\u001b[0;34m)\u001b[0m\u001b[0;34m\u001b[0m\u001b[0;34m\u001b[0m\u001b[0m\n\u001b[1;32m   2317\u001b[0m         \u001b[0;32mif\u001b[0m \u001b[0mnp\u001b[0m\u001b[0;34m.\u001b[0m\u001b[0mmin\u001b[0m\u001b[0;34m(\u001b[0m\u001b[0mclass_counts\u001b[0m\u001b[0;34m)\u001b[0m \u001b[0;34m<\u001b[0m \u001b[0;36m2\u001b[0m\u001b[0;34m:\u001b[0m\u001b[0;34m\u001b[0m\u001b[0;34m\u001b[0m\u001b[0m\n\u001b[0;32m-> 2318\u001b[0;31m             raise ValueError(\n\u001b[0m\u001b[1;32m   2319\u001b[0m                 \u001b[0;34m\"The least populated class in y has only 1\"\u001b[0m\u001b[0;34m\u001b[0m\u001b[0;34m\u001b[0m\u001b[0m\n\u001b[1;32m   2320\u001b[0m                 \u001b[0;34m\" member, which is too few. The minimum\"\u001b[0m\u001b[0;34m\u001b[0m\u001b[0;34m\u001b[0m\u001b[0m\n",
            "\u001b[0;31mValueError\u001b[0m: The least populated class in y has only 1 member, which is too few. The minimum number of groups for any class cannot be less than 2."
          ]
        }
      ]
    },
    {
      "cell_type": "markdown",
      "source": [
        "# 표준화 - Scaling"
      ],
      "metadata": {
        "id": "WQtUUY0YuAOQ"
      }
    },
    {
      "cell_type": "code",
      "source": [
        "bream_length = [25.4, 26.3, 26.5, 29.0, 29.0, 29.7, 29.7, 30.0, 30.0, 30.7, 31.0, 31.0, 31.5, 32.0, 32.0, 32.0, 33.0, 33.0, 33.5, 33.5, 34.0, 34.0, 34.5, 35.0, 35.0, 35.0, 35.0, 36.0, 36.0, 37.0, 38.5, 38.5, 39.5, 41.0, 41.0]\n",
        "bream_weight = [242.0, 290.0, 340.0, 363.0, 430.0, 450.0, 500.0, 390.0, 450.0, 500.0, 475.0, 500.0, 500.0, 340.0, 600.0, 600.0, 700.0, 700.0, 610.0, 650.0, 575.0, 685.0, 620.0, 680.0, 700.0, 725.0, 720.0, 714.0, 850.0, 1000.0, 920.0, 955.0, 925.0, 975.0, 950.0]\n",
        "smelt_length = [9.8, 10.5, 10.6, 11.0, 11.2, 11.3, 11.8, 11.8, 12.0, 12.2, 12.4, 13.0, 14.3, 15.0]\n",
        "smelt_weight = [6.7, 7.5, 7.0, 9.7, 9.8, 8.7, 10.0, 9.9, 9.8, 12.2, 13.4, 12.2, 19.7, 19.9]\n",
        "length = bream_length + smelt_length\n",
        "weight = bream_weight + smelt_weight\n",
        "import pandas as pd\n",
        "data = {\n",
        "    'length' : length,\n",
        "    'weight' : weight,\n",
        "    'class' : [1] * len(bream_length) + [0] * len(smelt_length)\n",
        "}\n",
        "df = pd.DataFrame(data)\n",
        "df.head()"
      ],
      "metadata": {
        "colab": {
          "base_uri": "https://localhost:8080/",
          "height": 206
        },
        "id": "piT6-PYHaq5x",
        "outputId": "f59b4c32-9245-4fde-c16e-7c8eb06d7ac9"
      },
      "execution_count": null,
      "outputs": [
        {
          "output_type": "execute_result",
          "data": {
            "text/plain": [
              "   length  weight  class\n",
              "0    25.4   242.0      1\n",
              "1    26.3   290.0      1\n",
              "2    26.5   340.0      1\n",
              "3    29.0   363.0      1\n",
              "4    29.0   430.0      1"
            ],
            "text/html": [
              "\n",
              "  <div id=\"df-e93edda2-a781-4fe5-aa37-3c3d1898f909\" class=\"colab-df-container\">\n",
              "    <div>\n",
              "<style scoped>\n",
              "    .dataframe tbody tr th:only-of-type {\n",
              "        vertical-align: middle;\n",
              "    }\n",
              "\n",
              "    .dataframe tbody tr th {\n",
              "        vertical-align: top;\n",
              "    }\n",
              "\n",
              "    .dataframe thead th {\n",
              "        text-align: right;\n",
              "    }\n",
              "</style>\n",
              "<table border=\"1\" class=\"dataframe\">\n",
              "  <thead>\n",
              "    <tr style=\"text-align: right;\">\n",
              "      <th></th>\n",
              "      <th>length</th>\n",
              "      <th>weight</th>\n",
              "      <th>class</th>\n",
              "    </tr>\n",
              "  </thead>\n",
              "  <tbody>\n",
              "    <tr>\n",
              "      <th>0</th>\n",
              "      <td>25.4</td>\n",
              "      <td>242.0</td>\n",
              "      <td>1</td>\n",
              "    </tr>\n",
              "    <tr>\n",
              "      <th>1</th>\n",
              "      <td>26.3</td>\n",
              "      <td>290.0</td>\n",
              "      <td>1</td>\n",
              "    </tr>\n",
              "    <tr>\n",
              "      <th>2</th>\n",
              "      <td>26.5</td>\n",
              "      <td>340.0</td>\n",
              "      <td>1</td>\n",
              "    </tr>\n",
              "    <tr>\n",
              "      <th>3</th>\n",
              "      <td>29.0</td>\n",
              "      <td>363.0</td>\n",
              "      <td>1</td>\n",
              "    </tr>\n",
              "    <tr>\n",
              "      <th>4</th>\n",
              "      <td>29.0</td>\n",
              "      <td>430.0</td>\n",
              "      <td>1</td>\n",
              "    </tr>\n",
              "  </tbody>\n",
              "</table>\n",
              "</div>\n",
              "    <div class=\"colab-df-buttons\">\n",
              "\n",
              "  <div class=\"colab-df-container\">\n",
              "    <button class=\"colab-df-convert\" onclick=\"convertToInteractive('df-e93edda2-a781-4fe5-aa37-3c3d1898f909')\"\n",
              "            title=\"Convert this dataframe to an interactive table.\"\n",
              "            style=\"display:none;\">\n",
              "\n",
              "  <svg xmlns=\"http://www.w3.org/2000/svg\" height=\"24px\" viewBox=\"0 -960 960 960\">\n",
              "    <path d=\"M120-120v-720h720v720H120Zm60-500h600v-160H180v160Zm220 220h160v-160H400v160Zm0 220h160v-160H400v160ZM180-400h160v-160H180v160Zm440 0h160v-160H620v160ZM180-180h160v-160H180v160Zm440 0h160v-160H620v160Z\"/>\n",
              "  </svg>\n",
              "    </button>\n",
              "\n",
              "  <style>\n",
              "    .colab-df-container {\n",
              "      display:flex;\n",
              "      gap: 12px;\n",
              "    }\n",
              "\n",
              "    .colab-df-convert {\n",
              "      background-color: #E8F0FE;\n",
              "      border: none;\n",
              "      border-radius: 50%;\n",
              "      cursor: pointer;\n",
              "      display: none;\n",
              "      fill: #1967D2;\n",
              "      height: 32px;\n",
              "      padding: 0 0 0 0;\n",
              "      width: 32px;\n",
              "    }\n",
              "\n",
              "    .colab-df-convert:hover {\n",
              "      background-color: #E2EBFA;\n",
              "      box-shadow: 0px 1px 2px rgba(60, 64, 67, 0.3), 0px 1px 3px 1px rgba(60, 64, 67, 0.15);\n",
              "      fill: #174EA6;\n",
              "    }\n",
              "\n",
              "    .colab-df-buttons div {\n",
              "      margin-bottom: 4px;\n",
              "    }\n",
              "\n",
              "    [theme=dark] .colab-df-convert {\n",
              "      background-color: #3B4455;\n",
              "      fill: #D2E3FC;\n",
              "    }\n",
              "\n",
              "    [theme=dark] .colab-df-convert:hover {\n",
              "      background-color: #434B5C;\n",
              "      box-shadow: 0px 1px 3px 1px rgba(0, 0, 0, 0.15);\n",
              "      filter: drop-shadow(0px 1px 2px rgba(0, 0, 0, 0.3));\n",
              "      fill: #FFFFFF;\n",
              "    }\n",
              "  </style>\n",
              "\n",
              "    <script>\n",
              "      const buttonEl =\n",
              "        document.querySelector('#df-e93edda2-a781-4fe5-aa37-3c3d1898f909 button.colab-df-convert');\n",
              "      buttonEl.style.display =\n",
              "        google.colab.kernel.accessAllowed ? 'block' : 'none';\n",
              "\n",
              "      async function convertToInteractive(key) {\n",
              "        const element = document.querySelector('#df-e93edda2-a781-4fe5-aa37-3c3d1898f909');\n",
              "        const dataTable =\n",
              "          await google.colab.kernel.invokeFunction('convertToInteractive',\n",
              "                                                    [key], {});\n",
              "        if (!dataTable) return;\n",
              "\n",
              "        const docLinkHtml = 'Like what you see? Visit the ' +\n",
              "          '<a target=\"_blank\" href=https://colab.research.google.com/notebooks/data_table.ipynb>data table notebook</a>'\n",
              "          + ' to learn more about interactive tables.';\n",
              "        element.innerHTML = '';\n",
              "        dataTable['output_type'] = 'display_data';\n",
              "        await google.colab.output.renderOutput(dataTable, element);\n",
              "        const docLink = document.createElement('div');\n",
              "        docLink.innerHTML = docLinkHtml;\n",
              "        element.appendChild(docLink);\n",
              "      }\n",
              "    </script>\n",
              "  </div>\n",
              "\n",
              "\n",
              "<div id=\"df-0b29a182-c907-4ff4-a050-a6c207c77519\">\n",
              "  <button class=\"colab-df-quickchart\" onclick=\"quickchart('df-0b29a182-c907-4ff4-a050-a6c207c77519')\"\n",
              "            title=\"Suggest charts\"\n",
              "            style=\"display:none;\">\n",
              "\n",
              "<svg xmlns=\"http://www.w3.org/2000/svg\" height=\"24px\"viewBox=\"0 0 24 24\"\n",
              "     width=\"24px\">\n",
              "    <g>\n",
              "        <path d=\"M19 3H5c-1.1 0-2 .9-2 2v14c0 1.1.9 2 2 2h14c1.1 0 2-.9 2-2V5c0-1.1-.9-2-2-2zM9 17H7v-7h2v7zm4 0h-2V7h2v10zm4 0h-2v-4h2v4z\"/>\n",
              "    </g>\n",
              "</svg>\n",
              "  </button>\n",
              "\n",
              "<style>\n",
              "  .colab-df-quickchart {\n",
              "      --bg-color: #E8F0FE;\n",
              "      --fill-color: #1967D2;\n",
              "      --hover-bg-color: #E2EBFA;\n",
              "      --hover-fill-color: #174EA6;\n",
              "      --disabled-fill-color: #AAA;\n",
              "      --disabled-bg-color: #DDD;\n",
              "  }\n",
              "\n",
              "  [theme=dark] .colab-df-quickchart {\n",
              "      --bg-color: #3B4455;\n",
              "      --fill-color: #D2E3FC;\n",
              "      --hover-bg-color: #434B5C;\n",
              "      --hover-fill-color: #FFFFFF;\n",
              "      --disabled-bg-color: #3B4455;\n",
              "      --disabled-fill-color: #666;\n",
              "  }\n",
              "\n",
              "  .colab-df-quickchart {\n",
              "    background-color: var(--bg-color);\n",
              "    border: none;\n",
              "    border-radius: 50%;\n",
              "    cursor: pointer;\n",
              "    display: none;\n",
              "    fill: var(--fill-color);\n",
              "    height: 32px;\n",
              "    padding: 0;\n",
              "    width: 32px;\n",
              "  }\n",
              "\n",
              "  .colab-df-quickchart:hover {\n",
              "    background-color: var(--hover-bg-color);\n",
              "    box-shadow: 0 1px 2px rgba(60, 64, 67, 0.3), 0 1px 3px 1px rgba(60, 64, 67, 0.15);\n",
              "    fill: var(--button-hover-fill-color);\n",
              "  }\n",
              "\n",
              "  .colab-df-quickchart-complete:disabled,\n",
              "  .colab-df-quickchart-complete:disabled:hover {\n",
              "    background-color: var(--disabled-bg-color);\n",
              "    fill: var(--disabled-fill-color);\n",
              "    box-shadow: none;\n",
              "  }\n",
              "\n",
              "  .colab-df-spinner {\n",
              "    border: 2px solid var(--fill-color);\n",
              "    border-color: transparent;\n",
              "    border-bottom-color: var(--fill-color);\n",
              "    animation:\n",
              "      spin 1s steps(1) infinite;\n",
              "  }\n",
              "\n",
              "  @keyframes spin {\n",
              "    0% {\n",
              "      border-color: transparent;\n",
              "      border-bottom-color: var(--fill-color);\n",
              "      border-left-color: var(--fill-color);\n",
              "    }\n",
              "    20% {\n",
              "      border-color: transparent;\n",
              "      border-left-color: var(--fill-color);\n",
              "      border-top-color: var(--fill-color);\n",
              "    }\n",
              "    30% {\n",
              "      border-color: transparent;\n",
              "      border-left-color: var(--fill-color);\n",
              "      border-top-color: var(--fill-color);\n",
              "      border-right-color: var(--fill-color);\n",
              "    }\n",
              "    40% {\n",
              "      border-color: transparent;\n",
              "      border-right-color: var(--fill-color);\n",
              "      border-top-color: var(--fill-color);\n",
              "    }\n",
              "    60% {\n",
              "      border-color: transparent;\n",
              "      border-right-color: var(--fill-color);\n",
              "    }\n",
              "    80% {\n",
              "      border-color: transparent;\n",
              "      border-right-color: var(--fill-color);\n",
              "      border-bottom-color: var(--fill-color);\n",
              "    }\n",
              "    90% {\n",
              "      border-color: transparent;\n",
              "      border-bottom-color: var(--fill-color);\n",
              "    }\n",
              "  }\n",
              "</style>\n",
              "\n",
              "  <script>\n",
              "    async function quickchart(key) {\n",
              "      const quickchartButtonEl =\n",
              "        document.querySelector('#' + key + ' button');\n",
              "      quickchartButtonEl.disabled = true;  // To prevent multiple clicks.\n",
              "      quickchartButtonEl.classList.add('colab-df-spinner');\n",
              "      try {\n",
              "        const charts = await google.colab.kernel.invokeFunction(\n",
              "            'suggestCharts', [key], {});\n",
              "      } catch (error) {\n",
              "        console.error('Error during call to suggestCharts:', error);\n",
              "      }\n",
              "      quickchartButtonEl.classList.remove('colab-df-spinner');\n",
              "      quickchartButtonEl.classList.add('colab-df-quickchart-complete');\n",
              "    }\n",
              "    (() => {\n",
              "      let quickchartButtonEl =\n",
              "        document.querySelector('#df-0b29a182-c907-4ff4-a050-a6c207c77519 button');\n",
              "      quickchartButtonEl.style.display =\n",
              "        google.colab.kernel.accessAllowed ? 'block' : 'none';\n",
              "    })();\n",
              "  </script>\n",
              "</div>\n",
              "\n",
              "    </div>\n",
              "  </div>\n"
            ],
            "application/vnd.google.colaboratory.intrinsic+json": {
              "type": "dataframe",
              "variable_name": "df",
              "summary": "{\n  \"name\": \"df\",\n  \"rows\": 49,\n  \"fields\": [\n    {\n      \"column\": \"length\",\n      \"properties\": {\n        \"dtype\": \"number\",\n        \"std\": 10.242803596193967,\n        \"min\": 9.8,\n        \"max\": 41.0,\n        \"num_unique_values\": 33,\n        \"samples\": [\n          14.3,\n          36.0,\n          11.8\n        ],\n        \"semantic_type\": \"\",\n        \"description\": \"\"\n      }\n    },\n    {\n      \"column\": \"weight\",\n      \"properties\": {\n        \"dtype\": \"number\",\n        \"std\": 328.1432328267642,\n        \"min\": 6.7,\n        \"max\": 1000.0,\n        \"num_unique_values\": 39,\n        \"samples\": [\n          10.0,\n          13.4,\n          430.0\n        ],\n        \"semantic_type\": \"\",\n        \"description\": \"\"\n      }\n    },\n    {\n      \"column\": \"class\",\n      \"properties\": {\n        \"dtype\": \"number\",\n        \"std\": 0,\n        \"min\": 0,\n        \"max\": 1,\n        \"num_unique_values\": 2,\n        \"samples\": [\n          0,\n          1\n        ],\n        \"semantic_type\": \"\",\n        \"description\": \"\"\n      }\n    }\n  ]\n}"
            }
          },
          "metadata": {},
          "execution_count": 200
        }
      ]
    },
    {
      "cell_type": "code",
      "source": [
        "# 25,150 의 품종 예측\n",
        "# 전체 데이터 시각화\n",
        "import seaborn as sns\n",
        "import matplotlib.pyplot as plt\n",
        "from sklearn.preprocessing import StandardScaler  #평균이 0 표준편차가 1로 데이터를 표준화\n",
        "from sklearn.neighbors import KNeighborsClassifier\n",
        "\n",
        "plt.figure(figsize=(10,5))\n",
        "# 비표준화\n",
        "plt.subplot(1,2,1)\n",
        "plt.title(\"Non Scaled\")\n",
        "sns.scatterplot(x='length', y='weight', hue='class', data=df)\n",
        "plt.scatter(25, 150, marker='^',color = 'green',label='predict')\n",
        "non_Scaled_Knn = KNeighborsClassifier()\n",
        "non_Scaled_Knn.fit(df[['length','weight']].to_numpy(), df['class'].to_numpy())\n",
        "print(non_Scaled_Knn.predict([[25,150]]))  # 0 빙어  1 도미\n",
        "\n",
        "\n",
        "\n",
        "# 표준화\n",
        "df2 = df.copy()\n",
        "scaler = StandardScaler()\n",
        "scaler.fit(df2[['length','weight']].to_numpy())\n",
        "df2[['length','weight']] = scaler.transform(df2[['length','weight']].to_numpy())\n",
        "plt.subplot(1,2,2)\n",
        "plt.title(\"Scaled\")\n",
        "sns.scatterplot(x='length', y='weight', hue='class', data=df2)\n",
        "p = scaler.transform([[25,150]])\n",
        "plt.scatter(p[:,0],p[:,1], marker='^',color = 'green',label='predict')\n",
        "plt.show()\n",
        "\n",
        "Scaled_Knn = KNeighborsClassifier()\n",
        "Scaled_Knn.fit(df2[['length','weight']].to_numpy(), df2['class'].to_numpy())\n",
        "print(Scaled_Knn.predict([[25,150]]))  # 0 빙어  1 도미\n"
      ],
      "metadata": {
        "colab": {
          "base_uri": "https://localhost:8080/",
          "height": 506
        },
        "id": "7Pv4wbdTuLAl",
        "outputId": "b040d01b-c582-4b6c-f6c8-80abea4a80b2"
      },
      "execution_count": null,
      "outputs": [
        {
          "output_type": "stream",
          "name": "stdout",
          "text": [
            "[0]\n"
          ]
        },
        {
          "output_type": "display_data",
          "data": {
            "text/plain": [
              "<Figure size 1000x500 with 2 Axes>"
            ],
            "image/png": "[encoded data removed]"
          },
          "metadata": {}
        },
        {
          "output_type": "stream",
          "name": "stdout",
          "text": [
            "[1]\n"
          ]
        }
      ]
    },
    {
      "cell_type": "markdown",
      "source": [
        "# EDA ▶ 모델선택 ▶ 학습 ▶ 평가\n",
        "```\n",
        "EDA\n",
        "  전처리\n",
        "    결측치  isna(), info()\n",
        "    이상치  boxplot, describe()\n",
        "    표준화 - StandardScaler\n",
        "  피처엔지니어링\n",
        "    새로운 특성을 추가(날자 ->년 월 일, 주말, 연속형 데이터를->구간분리(범주형)\n",
        "모델\n",
        "  학습용, 검증용 분리 🦖 train_test_split\n",
        "  KNeighborsClassifier    \n",
        "```"
      ],
      "metadata": {
        "id": "UIfh13R9y5lB"
      }
    },
    {
      "cell_type": "code",
      "source": [
        "!pip install ucimlrepo\n",
        "from ucimlrepo import fetch_ucirepo\n",
        "\n",
        "# fetch dataset\n",
        "heart_disease = fetch_ucirepo(id=45)\n",
        "\n",
        "# data (as pandas dataframes)\n",
        "X = heart_disease.data.features\n",
        "y = heart_disease.data.targets"
      ],
      "metadata": {
        "colab": {
          "base_uri": "https://localhost:8080/"
        },
        "collapsed": true,
        "id": "xDO4DzfauSbA",
        "outputId": "a3c81141-1f90-4c76-e43c-d1da623a490b"
      },
      "execution_count": null,
      "outputs": [
        {
          "output_type": "stream",
          "name": "stdout",
          "text": [
            "Requirement already satisfied: ucimlrepo in /usr/local/lib/python3.11/dist-packages (0.0.7)\n",
            "Requirement already satisfied: pandas>=1.0.0 in /usr/local/lib/python3.11/dist-packages (from ucimlrepo) (2.2.2)\n",
            "Requirement already satisfied: certifi>=2020.12.5 in /usr/local/lib/python3.11/dist-packages (from ucimlrepo) (2025.1.31)\n",
            "Requirement already satisfied: numpy>=1.23.2 in /usr/local/lib/python3.11/dist-packages (from pandas>=1.0.0->ucimlrepo) (2.0.2)\n",
            "Requirement already satisfied: python-dateutil>=2.8.2 in /usr/local/lib/python3.11/dist-packages (from pandas>=1.0.0->ucimlrepo) (2.8.2)\n",
            "Requirement already satisfied: pytz>=2020.1 in /usr/local/lib/python3.11/dist-packages (from pandas>=1.0.0->ucimlrepo) (2025.1)\n",
            "Requirement already satisfied: tzdata>=2022.7 in /usr/local/lib/python3.11/dist-packages (from pandas>=1.0.0->ucimlrepo) (2025.1)\n",
            "Requirement already satisfied: six>=1.5 in /usr/local/lib/python3.11/dist-packages (from python-dateutil>=2.8.2->pandas>=1.0.0->ucimlrepo) (1.17.0)\n"
          ]
        },
        {
          "output_type": "execute_result",
          "data": {
            "text/plain": [
              "     num\n",
              "0      0\n",
              "1      2\n",
              "2      1\n",
              "3      0\n",
              "4      0\n",
              "..   ...\n",
              "298    1\n",
              "299    2\n",
              "300    3\n",
              "301    1\n",
              "302    0\n",
              "\n",
              "[303 rows x 1 columns]"
            ],
            "text/html": [
              "\n",
              "  <div id=\"df-76604930-1f4b-458f-915b-f1d47c9d6daa\" class=\"colab-df-container\">\n",
              "    <div>\n",
              "<style scoped>\n",
              "    .dataframe tbody tr th:only-of-type {\n",
              "        vertical-align: middle;\n",
              "    }\n",
              "\n",
              "    .dataframe tbody tr th {\n",
              "        vertical-align: top;\n",
              "    }\n",
              "\n",
              "    .dataframe thead th {\n",
              "        text-align: right;\n",
              "    }\n",
              "</style>\n",
              "<table border=\"1\" class=\"dataframe\">\n",
              "  <thead>\n",
              "    <tr style=\"text-align: right;\">\n",
              "      <th></th>\n",
              "      <th>num</th>\n",
              "    </tr>\n",
              "  </thead>\n",
              "  <tbody>\n",
              "    <tr>\n",
              "      <th>0</th>\n",
              "      <td>0</td>\n",
              "    </tr>\n",
              "    <tr>\n",
              "      <th>1</th>\n",
              "      <td>2</td>\n",
              "    </tr>\n",
              "    <tr>\n",
              "      <th>2</th>\n",
              "      <td>1</td>\n",
              "    </tr>\n",
              "    <tr>\n",
              "      <th>3</th>\n",
              "      <td>0</td>\n",
              "    </tr>\n",
              "    <tr>\n",
              "      <th>4</th>\n",
              "      <td>0</td>\n",
              "    </tr>\n",
              "    <tr>\n",
              "      <th>...</th>\n",
              "      <td>...</td>\n",
              "    </tr>\n",
              "    <tr>\n",
              "      <th>298</th>\n",
              "      <td>1</td>\n",
              "    </tr>\n",
              "    <tr>\n",
              "      <th>299</th>\n",
              "      <td>2</td>\n",
              "    </tr>\n",
              "    <tr>\n",
              "      <th>300</th>\n",
              "      <td>3</td>\n",
              "    </tr>\n",
              "    <tr>\n",
              "      <th>301</th>\n",
              "      <td>1</td>\n",
              "    </tr>\n",
              "    <tr>\n",
              "      <th>302</th>\n",
              "      <td>0</td>\n",
              "    </tr>\n",
              "  </tbody>\n",
              "</table>\n",
              "<p>303 rows × 1 columns</p>\n",
              "</div>\n",
              "    <div class=\"colab-df-buttons\">\n",
              "\n",
              "  <div class=\"colab-df-container\">\n",
              "    <button class=\"colab-df-convert\" onclick=\"convertToInteractive('df-76604930-1f4b-458f-915b-f1d47c9d6daa')\"\n",
              "            title=\"Convert this dataframe to an interactive table.\"\n",
              "            style=\"display:none;\">\n",
              "\n",
              "  <svg xmlns=\"http://www.w3.org/2000/svg\" height=\"24px\" viewBox=\"0 -960 960 960\">\n",
              "    <path d=\"M120-120v-720h720v720H120Zm60-500h600v-160H180v160Zm220 220h160v-160H400v160Zm0 220h160v-160H400v160ZM180-400h160v-160H180v160Zm440 0h160v-160H620v160ZM180-180h160v-160H180v160Zm440 0h160v-160H620v160Z\"/>\n",
              "  </svg>\n",
              "    </button>\n",
              "\n",
              "  <style>\n",
              "    .colab-df-container {\n",
              "      display:flex;\n",
              "      gap: 12px;\n",
              "    }\n",
              "\n",
              "    .colab-df-convert {\n",
              "      background-color: #E8F0FE;\n",
              "      border: none;\n",
              "      border-radius: 50%;\n",
              "      cursor: pointer;\n",
              "      display: none;\n",
              "      fill: #1967D2;\n",
              "      height: 32px;\n",
              "      padding: 0 0 0 0;\n",
              "      width: 32px;\n",
              "    }\n",
              "\n",
              "    .colab-df-convert:hover {\n",
              "      background-color: #E2EBFA;\n",
              "      box-shadow: 0px 1px 2px rgba(60, 64, 67, 0.3), 0px 1px 3px 1px rgba(60, 64, 67, 0.15);\n",
              "      fill: #174EA6;\n",
              "    }\n",
              "\n",
              "    .colab-df-buttons div {\n",
              "      margin-bottom: 4px;\n",
              "    }\n",
              "\n",
              "    [theme=dark] .colab-df-convert {\n",
              "      background-color: #3B4455;\n",
              "      fill: #D2E3FC;\n",
              "    }\n",
              "\n",
              "    [theme=dark] .colab-df-convert:hover {\n",
              "      background-color: #434B5C;\n",
              "      box-shadow: 0px 1px 3px 1px rgba(0, 0, 0, 0.15);\n",
              "      filter: drop-shadow(0px 1px 2px rgba(0, 0, 0, 0.3));\n",
              "      fill: #FFFFFF;\n",
              "    }\n",
              "  </style>\n",
              "\n",
              "    <script>\n",
              "      const buttonEl =\n",
              "        document.querySelector('#df-76604930-1f4b-458f-915b-f1d47c9d6daa button.colab-df-convert');\n",
              "      buttonEl.style.display =\n",
              "        google.colab.kernel.accessAllowed ? 'block' : 'none';\n",
              "\n",
              "      async function convertToInteractive(key) {\n",
              "        const element = document.querySelector('#df-76604930-1f4b-458f-915b-f1d47c9d6daa');\n",
              "        const dataTable =\n",
              "          await google.colab.kernel.invokeFunction('convertToInteractive',\n",
              "                                                    [key], {});\n",
              "        if (!dataTable) return;\n",
              "\n",
              "        const docLinkHtml = 'Like what you see? Visit the ' +\n",
              "          '<a target=\"_blank\" href=https://colab.research.google.com/notebooks/data_table.ipynb>data table notebook</a>'\n",
              "          + ' to learn more about interactive tables.';\n",
              "        element.innerHTML = '';\n",
              "        dataTable['output_type'] = 'display_data';\n",
              "        await google.colab.output.renderOutput(dataTable, element);\n",
              "        const docLink = document.createElement('div');\n",
              "        docLink.innerHTML = docLinkHtml;\n",
              "        element.appendChild(docLink);\n",
              "      }\n",
              "    </script>\n",
              "  </div>\n",
              "\n",
              "\n",
              "<div id=\"df-6d2ec234-1cf7-454c-8976-02145ea1c302\">\n",
              "  <button class=\"colab-df-quickchart\" onclick=\"quickchart('df-6d2ec234-1cf7-454c-8976-02145ea1c302')\"\n",
              "            title=\"Suggest charts\"\n",
              "            style=\"display:none;\">\n",
              "\n",
              "<svg xmlns=\"http://www.w3.org/2000/svg\" height=\"24px\"viewBox=\"0 0 24 24\"\n",
              "     width=\"24px\">\n",
              "    <g>\n",
              "        <path d=\"M19 3H5c-1.1 0-2 .9-2 2v14c0 1.1.9 2 2 2h14c1.1 0 2-.9 2-2V5c0-1.1-.9-2-2-2zM9 17H7v-7h2v7zm4 0h-2V7h2v10zm4 0h-2v-4h2v4z\"/>\n",
              "    </g>\n",
              "</svg>\n",
              "  </button>\n",
              "\n",
              "<style>\n",
              "  .colab-df-quickchart {\n",
              "      --bg-color: #E8F0FE;\n",
              "      --fill-color: #1967D2;\n",
              "      --hover-bg-color: #E2EBFA;\n",
              "      --hover-fill-color: #174EA6;\n",
              "      --disabled-fill-color: #AAA;\n",
              "      --disabled-bg-color: #DDD;\n",
              "  }\n",
              "\n",
              "  [theme=dark] .colab-df-quickchart {\n",
              "      --bg-color: #3B4455;\n",
              "      --fill-color: #D2E3FC;\n",
              "      --hover-bg-color: #434B5C;\n",
              "      --hover-fill-color: #FFFFFF;\n",
              "      --disabled-bg-color: #3B4455;\n",
              "      --disabled-fill-color: #666;\n",
              "  }\n",
              "\n",
              "  .colab-df-quickchart {\n",
              "    background-color: var(--bg-color);\n",
              "    border: none;\n",
              "    border-radius: 50%;\n",
              "    cursor: pointer;\n",
              "    display: none;\n",
              "    fill: var(--fill-color);\n",
              "    height: 32px;\n",
              "    padding: 0;\n",
              "    width: 32px;\n",
              "  }\n",
              "\n",
              "  .colab-df-quickchart:hover {\n",
              "    background-color: var(--hover-bg-color);\n",
              "    box-shadow: 0 1px 2px rgba(60, 64, 67, 0.3), 0 1px 3px 1px rgba(60, 64, 67, 0.15);\n",
              "    fill: var(--button-hover-fill-color);\n",
              "  }\n",
              "\n",
              "  .colab-df-quickchart-complete:disabled,\n",
              "  .colab-df-quickchart-complete:disabled:hover {\n",
              "    background-color: var(--disabled-bg-color);\n",
              "    fill: var(--disabled-fill-color);\n",
              "    box-shadow: none;\n",
              "  }\n",
              "\n",
              "  .colab-df-spinner {\n",
              "    border: 2px solid var(--fill-color);\n",
              "    border-color: transparent;\n",
              "    border-bottom-color: var(--fill-color);\n",
              "    animation:\n",
              "      spin 1s steps(1) infinite;\n",
              "  }\n",
              "\n",
              "  @keyframes spin {\n",
              "    0% {\n",
              "      border-color: transparent;\n",
              "      border-bottom-color: var(--fill-color);\n",
              "      border-left-color: var(--fill-color);\n",
              "    }\n",
              "    20% {\n",
              "      border-color: transparent;\n",
              "      border-left-color: var(--fill-color);\n",
              "      border-top-color: var(--fill-color);\n",
              "    }\n",
              "    30% {\n",
              "      border-color: transparent;\n",
              "      border-left-color: var(--fill-color);\n",
              "      border-top-color: var(--fill-color);\n",
              "      border-right-color: var(--fill-color);\n",
              "    }\n",
              "    40% {\n",
              "      border-color: transparent;\n",
              "      border-right-color: var(--fill-color);\n",
              "      border-top-color: var(--fill-color);\n",
              "    }\n",
              "    60% {\n",
              "      border-color: transparent;\n",
              "      border-right-color: var(--fill-color);\n",
              "    }\n",
              "    80% {\n",
              "      border-color: transparent;\n",
              "      border-right-color: var(--fill-color);\n",
              "      border-bottom-color: var(--fill-color);\n",
              "    }\n",
              "    90% {\n",
              "      border-color: transparent;\n",
              "      border-bottom-color: var(--fill-color);\n",
              "    }\n",
              "  }\n",
              "</style>\n",
              "\n",
              "  <script>\n",
              "    async function quickchart(key) {\n",
              "      const quickchartButtonEl =\n",
              "        document.querySelector('#' + key + ' button');\n",
              "      quickchartButtonEl.disabled = true;  // To prevent multiple clicks.\n",
              "      quickchartButtonEl.classList.add('colab-df-spinner');\n",
              "      try {\n",
              "        const charts = await google.colab.kernel.invokeFunction(\n",
              "            'suggestCharts', [key], {});\n",
              "      } catch (error) {\n",
              "        console.error('Error during call to suggestCharts:', error);\n",
              "      }\n",
              "      quickchartButtonEl.classList.remove('colab-df-spinner');\n",
              "      quickchartButtonEl.classList.add('colab-df-quickchart-complete');\n",
              "    }\n",
              "    (() => {\n",
              "      let quickchartButtonEl =\n",
              "        document.querySelector('#df-6d2ec234-1cf7-454c-8976-02145ea1c302 button');\n",
              "      quickchartButtonEl.style.display =\n",
              "        google.colab.kernel.accessAllowed ? 'block' : 'none';\n",
              "    })();\n",
              "  </script>\n",
              "</div>\n",
              "\n",
              "  <div id=\"id_8b5f859f-2723-442e-b733-a4bee6ab478c\">\n",
              "    <style>\n",
              "      .colab-df-generate {\n",
              "        background-color: #E8F0FE;\n",
              "        border: none;\n",
              "        border-radius: 50%;\n",
              "        cursor: pointer;\n",
              "        display: none;\n",
              "        fill: #1967D2;\n",
              "        height: 32px;\n",
              "        padding: 0 0 0 0;\n",
              "        width: 32px;\n",
              "      }\n",
              "\n",
              "      .colab-df-generate:hover {\n",
              "        background-color: #E2EBFA;\n",
              "        box-shadow: 0px 1px 2px rgba(60, 64, 67, 0.3), 0px 1px 3px 1px rgba(60, 64, 67, 0.15);\n",
              "        fill: #174EA6;\n",
              "      }\n",
              "\n",
              "      [theme=dark] .colab-df-generate {\n",
              "        background-color: #3B4455;\n",
              "        fill: #D2E3FC;\n",
              "      }\n",
              "\n",
              "      [theme=dark] .colab-df-generate:hover {\n",
              "        background-color: #434B5C;\n",
              "        box-shadow: 0px 1px 3px 1px rgba(0, 0, 0, 0.15);\n",
              "        filter: drop-shadow(0px 1px 2px rgba(0, 0, 0, 0.3));\n",
              "        fill: #FFFFFF;\n",
              "      }\n",
              "    </style>\n",
              "    <button class=\"colab-df-generate\" onclick=\"generateWithVariable('y')\"\n",
              "            title=\"Generate code using this dataframe.\"\n",
              "            style=\"display:none;\">\n",
              "\n",
              "  <svg xmlns=\"http://www.w3.org/2000/svg\" height=\"24px\"viewBox=\"0 0 24 24\"\n",
              "       width=\"24px\">\n",
              "    <path d=\"M7,19H8.4L18.45,9,17,7.55,7,17.6ZM5,21V16.75L18.45,3.32a2,2,0,0,1,2.83,0l1.4,1.43a1.91,1.91,0,0,1,.58,1.4,1.91,1.91,0,0,1-.58,1.4L9.25,21ZM18.45,9,17,7.55Zm-12,3A5.31,5.31,0,0,0,4.9,8.1,5.31,5.31,0,0,0,1,6.5,5.31,5.31,0,0,0,4.9,4.9,5.31,5.31,0,0,0,6.5,1,5.31,5.31,0,0,0,8.1,4.9,5.31,5.31,0,0,0,12,6.5,5.46,5.46,0,0,0,6.5,12Z\"/>\n",
              "  </svg>\n",
              "    </button>\n",
              "    <script>\n",
              "      (() => {\n",
              "      const buttonEl =\n",
              "        document.querySelector('#id_8b5f859f-2723-442e-b733-a4bee6ab478c button.colab-df-generate');\n",
              "      buttonEl.style.display =\n",
              "        google.colab.kernel.accessAllowed ? 'block' : 'none';\n",
              "\n",
              "      buttonEl.onclick = () => {\n",
              "        google.colab.notebook.generateWithVariable('y');\n",
              "      }\n",
              "      })();\n",
              "    </script>\n",
              "  </div>\n",
              "\n",
              "    </div>\n",
              "  </div>\n"
            ],
            "application/vnd.google.colaboratory.intrinsic+json": {
              "type": "dataframe",
              "variable_name": "y",
              "summary": "{\n  \"name\": \"y\",\n  \"rows\": 303,\n  \"fields\": [\n    {\n      \"column\": \"num\",\n      \"properties\": {\n        \"dtype\": \"number\",\n        \"std\": 1,\n        \"min\": 0,\n        \"max\": 4,\n        \"num_unique_values\": 5,\n        \"samples\": [\n          2,\n          4,\n          1\n        ],\n        \"semantic_type\": \"\",\n        \"description\": \"\"\n      }\n    }\n  ]\n}"
            }
          },
          "metadata": {},
          "execution_count": 221
        }
      ]
    },
    {
      "cell_type": "code",
      "source": [
        "np.unique(y, return_counts=True)"
      ],
      "metadata": {
        "colab": {
          "base_uri": "https://localhost:8080/"
        },
        "id": "RGez75rE0lYG",
        "outputId": "bf03b663-ecf8-4233-b8eb-28f54e2618eb"
      },
      "execution_count": null,
      "outputs": [
        {
          "output_type": "execute_result",
          "data": {
            "text/plain": [
              "(array([0, 1, 2, 3, 4]), array([164,  55,  36,  35,  13]))"
            ]
          },
          "metadata": {},
          "execution_count": 222
        }
      ]
    },
    {
      "cell_type": "markdown",
      "source": [
        "# k 최근접 이웃 회귀"
      ],
      "metadata": {
        "id": "aLnolhiG-cDh"
      }
    },
    {
      "cell_type": "markdown",
      "source": [
        "![image.png](data:image/png;base64,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)"
      ],
      "metadata": {
        "id": "9IAi3GrI0yBX"
      }
    },
    {
      "cell_type": "code",
      "source": [
        "import numpy as np\n",
        "perch_length = np.array(\n",
        "    [8.4, 13.7, 15.0, 16.2, 17.4, 18.0, 18.7, 19.0, 19.6, 20.0,\n",
        "    21.0, 21.0, 21.0, 21.3, 22.0, 22.0, 22.0, 22.0, 22.0, 22.5,\n",
        "    22.5, 22.7, 23.0, 23.5, 24.0, 24.0, 24.6, 25.0, 25.6, 26.5,\n",
        "    27.3, 27.5, 27.5, 27.5, 28.0, 28.7, 30.0, 32.8, 34.5, 35.0,\n",
        "    36.5, 36.0, 37.0, 37.0, 39.0, 39.0, 39.0, 40.0, 40.0, 40.0,\n",
        "    40.0, 42.0, 43.0, 43.0, 43.5, 44.0],\n",
        "    )\n",
        "perch_weight = np.array(\n",
        "    [5.9, 32.0, 40.0, 51.5, 70.0, 100.0, 78.0, 80.0, 85.0, 85.0,\n",
        "    110.0, 115.0, 125.0, 130.0, 120.0, 120.0, 130.0, 135.0, 110.0,\n",
        "    130.0, 150.0, 145.0, 150.0, 170.0, 225.0, 145.0, 188.0, 180.0,\n",
        "    197.0, 218.0, 300.0, 260.0, 265.0, 250.0, 250.0, 300.0, 320.0,\n",
        "    514.0, 556.0, 840.0, 685.0, 700.0, 700.0, 690.0, 900.0, 650.0,\n",
        "    820.0, 850.0, 900.0, 1015.0, 820.0, 1100.0, 1000.0, 1100.0,\n",
        "    1000.0, 1000.0],\n",
        "    )"
      ],
      "metadata": {
        "id": "KxJ2mXRL-mUI"
      },
      "execution_count": null,
      "outputs": []
    },
    {
      "cell_type": "code",
      "source": [
        "import matplotlib.pyplot as plt\n",
        "plt.scatter(perch_length, perch_weight)\n",
        "plt.xlabel('length')\n",
        "plt.ylabel('weight')\n",
        "plt.show()"
      ],
      "metadata": {
        "collapsed": true,
        "colab": {
          "base_uri": "https://localhost:8080/"
        },
        "id": "dVI_-dC4_nXM",
        "outputId": "1b89cc71-9735-4f2e-a0fd-79c2e6237070"
      },
      "execution_count": null,
      "outputs": [
        {
          "output_type": "display_data",
          "data": {
            "text/plain": [
              "<Figure size 640x480 with 1 Axes>"
            ],
            "image/png": "[encoded data removed]"
          },
          "metadata": {}
        }
      ]
    },
    {
      "cell_type": "code",
      "source": [
        "# 길이가 주어졌을대 무게를 예측\n",
        "# 표준화\n",
        "# 데이터분할(학습 / 평가)\n",
        "# 모델은 케이 최근접이웃 회귀\n",
        "# 회귀 평가 (평균제곱오차, 평균 제곱근 오차, 평균 절대 오차, 결정계수 R^2 Score)"
      ],
      "metadata": {
        "id": "nmAkVBf8_sey"
      },
      "execution_count": null,
      "outputs": []
    },
    {
      "cell_type": "markdown",
      "source": [
        "평균제곱오차\n",
        "$$MSE = \\frac{1}{n} \\sum_{i=1}^{n} (y_i - \\hat{y}_i)^2$$\n",
        "\n"
      ],
      "metadata": {
        "id": "U5TaBhZ8BBLQ"
      }
    },
    {
      "cell_type": "markdown",
      "source": [
        "평균절대오차\n",
        "$$MAE = \\frac{1}{n} \\sum_{i=1}^{n} |y_i - \\hat{y}_i|$$\n"
      ],
      "metadata": {
        "id": "MgrO0YX8BsK7"
      }
    },
    {
      "cell_type": "markdown",
      "source": [
        "결정계수\n",
        "$$R^2 = 1 - \\frac{\\sum_{i=1}^{n} (y_i - \\hat{y}_i)^2}{\\sum_{i=1}^{n} (y_i - \\bar{y})^2}$$\n",
        "\n",
        "```\n",
        "회귀모델이 데이터를 얼마나잘 설명하는지를 나타냄\n",
        "1에 가까울수록 좋은 모델, 0이면 평균값만 나태냄(예측불가)\n",
        "분산을 기준으로 평가하는데 음수가 될수도 있음(엉터리모델)\n",
        "```"
      ],
      "metadata": {
        "id": "y7jx0lPAB1Cj"
      }
    },
    {
      "cell_type": "code",
      "source": [
        "# 데이터 분할\n",
        "from sklearn.model_selection import train_test_split\n",
        "from sklearn.neighbors import KNeighborsRegressor\n",
        "from sklearn.preprocessing import StandardScaler  # 평균 0 표준편차 1\n",
        "X  = perch_length\n",
        "y = perch_weight\n",
        "X = np.expand_dims(X, axis=1)\n",
        "ss = StandardScaler()\n",
        "X = ss.fit_transform(X)\n",
        "X_train,X_test,y_train,y_test =  train_test_split(X,y)\n",
        "# 모델\n",
        "knr = KNeighborsRegressor(n_neighbors=3)\n",
        "knr.fit(X_train,y_train)\n",
        "knr.score(X_train,y_train), knr.score(X_test,y_test)"
      ],
      "metadata": {
        "colab": {
          "base_uri": "https://localhost:8080/"
        },
        "id": "bp1MsOZSBK1w",
        "outputId": "5e0d9af8-5136-4746-a9e4-11c75dc3d992"
      },
      "execution_count": null,
      "outputs": [
        {
          "output_type": "execute_result",
          "data": {
            "text/plain": [
              "(0.9835400080856409, 0.9785984041165205)"
            ]
          },
          "metadata": {},
          "execution_count": 263
        }
      ]
    },
    {
      "cell_type": "code",
      "source": [
        "# 회귀를 평가하는 평가지표\n",
        "from sklearn.metrics import mean_absolute_error, mean_squared_error, r2_score\n",
        "print(\n",
        "  mean_absolute_error(y_test, knr.predict(X_test)),\n",
        "  mean_squared_error(y_test, knr.predict(X_test)),\n",
        "  r2_score(y_test, knr.predict(X_test))\n",
        ")"
      ],
      "metadata": {
        "colab": {
          "base_uri": "https://localhost:8080/"
        },
        "id": "ZDRckGmnC_Ly",
        "outputId": "e05b3fd3-f06c-467b-d416-404354ef0d7c"
      },
      "execution_count": null,
      "outputs": [
        {
          "output_type": "stream",
          "name": "stdout",
          "text": [
            "30.583333333333325 2713.2638888888873 0.9785984041165205\n"
          ]
        }
      ]
    },
    {
      "cell_type": "markdown",
      "source": [
        "# 모델사용법\n",
        "```\n",
        "1.회귀\n",
        "  회귀에 맞는 모델선택  \n",
        "  평가 : 오차(실제값 - 예측한 값)가 적을수록\n",
        "    mse, mae --> 값 자체가 어느정도 성능은 내는지 알수 없다\n",
        "    결정개수 : 모델의 설명력을 평가  1에 가까울수록 완벽 모델\n",
        "2.분류\n",
        "  분류에 맞는 모델선택\n",
        "  평가 : 정확성(정답대비 몇개 맞췄는지)\n",
        "  모델.score()\n",
        "3.학습\n",
        "  모델.fit()  \n",
        "4.예측 모델.predict()  는 모델의 결과값을 나타낸다\n",
        "유틸리티함수(StandarScaler 등)\n",
        "함수.fit()  규칙적용\n",
        "함수.transform() 데이터 변환\n",
        "두개를 합쳐서 함수.fit_transform()\n",
        "```"
      ],
      "metadata": {
        "id": "3C8TaVzSIC7t"
      }
    },
    {
      "cell_type": "code",
      "source": [
        "from sklearn.datasets import load_boston"
      ],
      "metadata": {
        "colab": {
          "base_uri": "https://localhost:8080/",
          "height": 1000
        },
        "collapsed": true,
        "id": "iZrQF7LdEONH",
        "outputId": "1389703b-5c33-4426-f78e-52bf33fb7031"
      },
      "execution_count": null,
      "outputs": [
        {
          "output_type": "error",
          "ename": "ImportError",
          "evalue": "\n`load_boston` has been removed from scikit-learn since version 1.2.\n\nThe Boston housing prices dataset has an ethical problem: as\ninvestigated in [1], the authors of this dataset engineered a\nnon-invertible variable \"B\" assuming that racial self-segregation had a\npositive impact on house prices [2]. Furthermore the goal of the\nresearch that led to the creation of this dataset was to study the\nimpact of air quality but it did not give adequate demonstration of the\nvalidity of this assumption.\n\nThe scikit-learn maintainers therefore strongly discourage the use of\nthis dataset unless the purpose of the code is to study and educate\nabout ethical issues in data science and machine learning.\n\nIn this special case, you can fetch the dataset from the original\nsource::\n\n    import pandas as pd\n    import numpy as np\n\n    data_url = \"http://lib.stat.cmu.edu/datasets/boston\"\n    raw_df = pd.read_csv(data_url, sep=\"\\s+\", skiprows=22, header=None)\n    data = np.hstack([raw_df.values[::2, :], raw_df.values[1::2, :2]])\n    target = raw_df.values[1::2, 2]\n\nAlternative datasets include the California housing dataset and the\nAmes housing dataset. You can load the datasets as follows::\n\n    from sklearn.datasets import fetch_california_housing\n    housing = fetch_california_housing()\n\nfor the California housing dataset and::\n\n    from sklearn.datasets import fetch_openml\n    housing = fetch_openml(name=\"house_prices\", as_frame=True)\n\nfor the Ames housing dataset.\n\n[1] M Carlisle.\n\"Racist data destruction?\"\n<https://medium.com/@docintangible/racist-data-destruction-113e3eff54a8>\n\n[2] Harrison Jr, David, and Daniel L. Rubinfeld.\n\"Hedonic housing prices and the demand for clean air.\"\nJournal of environmental economics and management 5.1 (1978): 81-102.\n<https://www.researchgate.net/publication/4974606_Hedonic_housing_prices_and_the_demand_for_clean_air>\n",
          "traceback": [
            "\u001b[0;31m---------------------------------------------------------------------------\u001b[0m",
            "\u001b[0;31mImportError\u001b[0m                               Traceback (most recent call last)",
            "\u001b[0;32m<ipython-input-266-1ed36436ffa3>\u001b[0m in \u001b[0;36m<cell line: 0>\u001b[0;34m()\u001b[0m\n\u001b[0;32m----> 1\u001b[0;31m \u001b[0;32mfrom\u001b[0m \u001b[0msklearn\u001b[0m\u001b[0;34m.\u001b[0m\u001b[0mdatasets\u001b[0m \u001b[0;32mimport\u001b[0m \u001b[0mload_boston\u001b[0m\u001b[0;34m\u001b[0m\u001b[0;34m\u001b[0m\u001b[0m\n\u001b[0m",
            "\u001b[0;32m/usr/local/lib/python3.11/dist-packages/sklearn/datasets/__init__.py\u001b[0m in \u001b[0;36m__getattr__\u001b[0;34m(name)\u001b[0m\n\u001b[1;32m    159\u001b[0m             \"\"\"\n\u001b[1;32m    160\u001b[0m         )\n\u001b[0;32m--> 161\u001b[0;31m         \u001b[0;32mraise\u001b[0m \u001b[0mImportError\u001b[0m\u001b[0;34m(\u001b[0m\u001b[0mmsg\u001b[0m\u001b[0;34m)\u001b[0m\u001b[0;34m\u001b[0m\u001b[0;34m\u001b[0m\u001b[0m\n\u001b[0m\u001b[1;32m    162\u001b[0m     \u001b[0;32mtry\u001b[0m\u001b[0;34m:\u001b[0m\u001b[0;34m\u001b[0m\u001b[0;34m\u001b[0m\u001b[0m\n\u001b[1;32m    163\u001b[0m         \u001b[0;32mreturn\u001b[0m \u001b[0mglobals\u001b[0m\u001b[0;34m(\u001b[0m\u001b[0;34m)\u001b[0m\u001b[0;34m[\u001b[0m\u001b[0mname\u001b[0m\u001b[0;34m]\u001b[0m\u001b[0;34m\u001b[0m\u001b[0;34m\u001b[0m\u001b[0m\n",
            "\u001b[0;31mImportError\u001b[0m: \n`load_boston` has been removed from scikit-learn since version 1.2.\n\nThe Boston housing prices dataset has an ethical problem: as\ninvestigated in [1], the authors of this dataset engineered a\nnon-invertible variable \"B\" assuming that racial self-segregation had a\npositive impact on house prices [2]. Furthermore the goal of the\nresearch that led to the creation of this dataset was to study the\nimpact of air quality but it did not give adequate demonstration of the\nvalidity of this assumption.\n\nThe scikit-learn maintainers therefore strongly discourage the use of\nthis dataset unless the purpose of the code is to study and educate\nabout ethical issues in data science and machine learning.\n\nIn this special case, you can fetch the dataset from the original\nsource::\n\n    import pandas as pd\n    import numpy as np\n\n    data_url = \"http://lib.stat.cmu.edu/datasets/boston\"\n    raw_df = pd.read_csv(data_url, sep=\"\\s+\", skiprows=22, header=None)\n    data = np.hstack([raw_df.values[::2, :], raw_df.values[1::2, :2]])\n    target = raw_df.values[1::2, 2]\n\nAlternative datasets include the California housing dataset and the\nAmes housing dataset. You can load the datasets as follows::\n\n    from sklearn.datasets import fetch_california_housing\n    housing = fetch_california_housing()\n\nfor the California housing dataset and::\n\n    from sklearn.datasets import fetch_openml\n    housing = fetch_openml(name=\"house_prices\", as_frame=True)\n\nfor the Ames housing dataset.\n\n[1] M Carlisle.\n\"Racist data destruction?\"\n<https://medium.com/@docintangible/racist-data-destruction-113e3eff54a8>\n\n[2] Harrison Jr, David, and Daniel L. Rubinfeld.\n\"Hedonic housing prices and the demand for clean air.\"\nJournal of environmental economics and management 5.1 (1978): 81-102.\n<https://www.researchgate.net/publication/4974606_Hedonic_housing_prices_and_the_demand_for_clean_air>\n",
            "",
            "\u001b[0;31m---------------------------------------------------------------------------\u001b[0;32m\nNOTE: If your import is failing due to a missing package, you can\nmanually install dependencies using either !pip or !apt.\n\nTo view examples of installing some common dependencies, click the\n\"Open Examples\" button below.\n\u001b[0;31m---------------------------------------------------------------------------\u001b[0m\n"
          ],
          "errorDetails": {
            "actions": [
              {
                "action": "open_url",
                "actionText": "Open Examples",
                "url": "/notebooks/snippets/importing_libraries.ipynb"
              }
            ]
          }
        }
      ]
    },
    {
      "cell_type": "code",
      "source": [
        "import pandas as pd\n",
        "import numpy as np\n",
        "\n",
        "data_url = \"http://lib.stat.cmu.edu/datasets/boston\"\n",
        "raw_df = pd.read_csv(data_url, sep=\"\\s+\", skiprows=22, header=None)\n",
        "data = np.hstack([raw_df.values[::2, :], raw_df.values[1::2, :2]])\n",
        "target = raw_df.values[1::2, 2]"
      ],
      "metadata": {
        "id": "xPIHnbRFLNhq"
      },
      "execution_count": null,
      "outputs": []
    },
    {
      "cell_type": "code",
      "source": [
        "# KNeighborsRegressor 이 모델로 학습하기 평가  mae mse R^2"
      ],
      "metadata": {
        "id": "kZ_r3-MILUBq"
      },
      "execution_count": null,
      "outputs": []
    },
    {
      "cell_type": "code",
      "source": [
        "X = data\n",
        "y = target"
      ],
      "metadata": {
        "id": "KEeis5GNLpSC"
      },
      "execution_count": null,
      "outputs": []
    },
    {
      "cell_type": "code",
      "source": [
        "X.shape"
      ],
      "metadata": {
        "colab": {
          "base_uri": "https://localhost:8080/"
        },
        "id": "5HPWeC6YU0Ak",
        "outputId": "a35311f7-01ae-4f57-d6d5-c48a44c442f0"
      },
      "execution_count": null,
      "outputs": [
        {
          "output_type": "execute_result",
          "data": {
            "text/plain": [
              "(506, 13)"
            ]
          },
          "metadata": {},
          "execution_count": 318
        }
      ]
    },
    {
      "cell_type": "code",
      "source": [
        "np.isnan(X).sum()"
      ],
      "metadata": {
        "colab": {
          "base_uri": "https://localhost:8080/"
        },
        "id": "9Tb5NNGhU43U",
        "outputId": "0eafdaa7-d81b-4f7d-f14c-aa13e82bdbdb"
      },
      "execution_count": null,
      "outputs": [
        {
          "output_type": "execute_result",
          "data": {
            "text/plain": [
              "np.int64(0)"
            ]
          },
          "metadata": {},
          "execution_count": 319
        }
      ]
    },
    {
      "cell_type": "code",
      "source": [
        " cols = ['CRIM',\n",
        " 'ZN'  ,\n",
        " 'INDUS',\n",
        " 'CHAS' ,\n",
        " 'NOX'  ,\n",
        " 'RM'   ,\n",
        " 'AGE'  ,\n",
        " 'DIS'  ,\n",
        " 'RAD'  ,\n",
        " 'TAX'  ,\n",
        " 'PTRATIO',\n",
        " 'B'      ,\n",
        " 'LSTAT'  ,\n",
        " ]\n",
        " df = pd.DataFrame(X,columns=cols)\n",
        " df['MEDV'] = y\n",
        " df.head()"
      ],
      "metadata": {
        "colab": {
          "base_uri": "https://localhost:8080/",
          "height": 206
        },
        "id": "ritYeXj6VcOM",
        "outputId": "5d239094-f125-409e-ec49-2e85d98f6e38"
      },
      "execution_count": null,
      "outputs": [
        {
          "output_type": "execute_result",
          "data": {
            "text/plain": [
              "      CRIM    ZN  INDUS  CHAS    NOX     RM   AGE     DIS  RAD    TAX  \\\n",
              "0  0.00632  18.0   2.31   0.0  0.538  6.575  65.2  4.0900  1.0  296.0   \n",
              "1  0.02731   0.0   7.07   0.0  0.469  6.421  78.9  4.9671  2.0  242.0   \n",
              "2  0.02729   0.0   7.07   0.0  0.469  7.185  61.1  4.9671  2.0  242.0   \n",
              "3  0.03237   0.0   2.18   0.0  0.458  6.998  45.8  6.0622  3.0  222.0   \n",
              "4  0.06905   0.0   2.18   0.0  0.458  7.147  54.2  6.0622  3.0  222.0   \n",
              "\n",
              "   PTRATIO       B  LSTAT  MEDV  \n",
              "0     15.3  396.90   4.98  24.0  \n",
              "1     17.8  396.90   9.14  21.6  \n",
              "2     17.8  392.83   4.03  34.7  \n",
              "3     18.7  394.63   2.94  33.4  \n",
              "4     18.7  396.90   5.33  36.2  "
            ],
            "text/html": [
              "\n",
              "  <div id=\"df-3c34753f-b36b-495f-a98c-abdd74dc2194\" class=\"colab-df-container\">\n",
              "    <div>\n",
              "<style scoped>\n",
              "    .dataframe tbody tr th:only-of-type {\n",
              "        vertical-align: middle;\n",
              "    }\n",
              "\n",
              "    .dataframe tbody tr th {\n",
              "        vertical-align: top;\n",
              "    }\n",
              "\n",
              "    .dataframe thead th {\n",
              "        text-align: right;\n",
              "    }\n",
              "</style>\n",
              "<table border=\"1\" class=\"dataframe\">\n",
              "  <thead>\n",
              "    <tr style=\"text-align: right;\">\n",
              "      <th></th>\n",
              "      <th>CRIM</th>\n",
              "      <th>ZN</th>\n",
              "      <th>INDUS</th>\n",
              "      <th>CHAS</th>\n",
              "      <th>NOX</th>\n",
              "      <th>RM</th>\n",
              "      <th>AGE</th>\n",
              "      <th>DIS</th>\n",
              "      <th>RAD</th>\n",
              "      <th>TAX</th>\n",
              "      <th>PTRATIO</th>\n",
              "      <th>B</th>\n",
              "      <th>LSTAT</th>\n",
              "      <th>MEDV</th>\n",
              "    </tr>\n",
              "  </thead>\n",
              "  <tbody>\n",
              "    <tr>\n",
              "      <th>0</th>\n",
              "      <td>0.00632</td>\n",
              "      <td>18.0</td>\n",
              "      <td>2.31</td>\n",
              "      <td>0.0</td>\n",
              "      <td>0.538</td>\n",
              "      <td>6.575</td>\n",
              "      <td>65.2</td>\n",
              "      <td>4.0900</td>\n",
              "      <td>1.0</td>\n",
              "      <td>296.0</td>\n",
              "      <td>15.3</td>\n",
              "      <td>396.90</td>\n",
              "      <td>4.98</td>\n",
              "      <td>24.0</td>\n",
              "    </tr>\n",
              "    <tr>\n",
              "      <th>1</th>\n",
              "      <td>0.02731</td>\n",
              "      <td>0.0</td>\n",
              "      <td>7.07</td>\n",
              "      <td>0.0</td>\n",
              "      <td>0.469</td>\n",
              "      <td>6.421</td>\n",
              "      <td>78.9</td>\n",
              "      <td>4.9671</td>\n",
              "      <td>2.0</td>\n",
              "      <td>242.0</td>\n",
              "      <td>17.8</td>\n",
              "      <td>396.90</td>\n",
              "      <td>9.14</td>\n",
              "      <td>21.6</td>\n",
              "    </tr>\n",
              "    <tr>\n",
              "      <th>2</th>\n",
              "      <td>0.02729</td>\n",
              "      <td>0.0</td>\n",
              "      <td>7.07</td>\n",
              "      <td>0.0</td>\n",
              "      <td>0.469</td>\n",
              "      <td>7.185</td>\n",
              "      <td>61.1</td>\n",
              "      <td>4.9671</td>\n",
              "      <td>2.0</td>\n",
              "      <td>242.0</td>\n",
              "      <td>17.8</td>\n",
              "      <td>392.83</td>\n",
              "      <td>4.03</td>\n",
              "      <td>34.7</td>\n",
              "    </tr>\n",
              "    <tr>\n",
              "      <th>3</th>\n",
              "      <td>0.03237</td>\n",
              "      <td>0.0</td>\n",
              "      <td>2.18</td>\n",
              "      <td>0.0</td>\n",
              "      <td>0.458</td>\n",
              "      <td>6.998</td>\n",
              "      <td>45.8</td>\n",
              "      <td>6.0622</td>\n",
              "      <td>3.0</td>\n",
              "      <td>222.0</td>\n",
              "      <td>18.7</td>\n",
              "      <td>394.63</td>\n",
              "      <td>2.94</td>\n",
              "      <td>33.4</td>\n",
              "    </tr>\n",
              "    <tr>\n",
              "      <th>4</th>\n",
              "      <td>0.06905</td>\n",
              "      <td>0.0</td>\n",
              "      <td>2.18</td>\n",
              "      <td>0.0</td>\n",
              "      <td>0.458</td>\n",
              "      <td>7.147</td>\n",
              "      <td>54.2</td>\n",
              "      <td>6.0622</td>\n",
              "      <td>3.0</td>\n",
              "      <td>222.0</td>\n",
              "      <td>18.7</td>\n",
              "      <td>396.90</td>\n",
              "      <td>5.33</td>\n",
              "      <td>36.2</td>\n",
              "    </tr>\n",
              "  </tbody>\n",
              "</table>\n",
              "</div>\n",
              "    <div class=\"colab-df-buttons\">\n",
              "\n",
              "  <div class=\"colab-df-container\">\n",
              "    <button class=\"colab-df-convert\" onclick=\"convertToInteractive('df-3c34753f-b36b-495f-a98c-abdd74dc2194')\"\n",
              "            title=\"Convert this dataframe to an interactive table.\"\n",
              "            style=\"display:none;\">\n",
              "\n",
              "  <svg xmlns=\"http://www.w3.org/2000/svg\" height=\"24px\" viewBox=\"0 -960 960 960\">\n",
              "    <path d=\"M120-120v-720h720v720H120Zm60-500h600v-160H180v160Zm220 220h160v-160H400v160Zm0 220h160v-160H400v160ZM180-400h160v-160H180v160Zm440 0h160v-160H620v160ZM180-180h160v-160H180v160Zm440 0h160v-160H620v160Z\"/>\n",
              "  </svg>\n",
              "    </button>\n",
              "\n",
              "  <style>\n",
              "    .colab-df-container {\n",
              "      display:flex;\n",
              "      gap: 12px;\n",
              "    }\n",
              "\n",
              "    .colab-df-convert {\n",
              "      background-color: #E8F0FE;\n",
              "      border: none;\n",
              "      border-radius: 50%;\n",
              "      cursor: pointer;\n",
              "      display: none;\n",
              "      fill: #1967D2;\n",
              "      height: 32px;\n",
              "      padding: 0 0 0 0;\n",
              "      width: 32px;\n",
              "    }\n",
              "\n",
              "    .colab-df-convert:hover {\n",
              "      background-color: #E2EBFA;\n",
              "      box-shadow: 0px 1px 2px rgba(60, 64, 67, 0.3), 0px 1px 3px 1px rgba(60, 64, 67, 0.15);\n",
              "      fill: #174EA6;\n",
              "    }\n",
              "\n",
              "    .colab-df-buttons div {\n",
              "      margin-bottom: 4px;\n",
              "    }\n",
              "\n",
              "    [theme=dark] .colab-df-convert {\n",
              "      background-color: #3B4455;\n",
              "      fill: #D2E3FC;\n",
              "    }\n",
              "\n",
              "    [theme=dark] .colab-df-convert:hover {\n",
              "      background-color: #434B5C;\n",
              "      box-shadow: 0px 1px 3px 1px rgba(0, 0, 0, 0.15);\n",
              "      filter: drop-shadow(0px 1px 2px rgba(0, 0, 0, 0.3));\n",
              "      fill: #FFFFFF;\n",
              "    }\n",
              "  </style>\n",
              "\n",
              "    <script>\n",
              "      const buttonEl =\n",
              "        document.querySelector('#df-3c34753f-b36b-495f-a98c-abdd74dc2194 button.colab-df-convert');\n",
              "      buttonEl.style.display =\n",
              "        google.colab.kernel.accessAllowed ? 'block' : 'none';\n",
              "\n",
              "      async function convertToInteractive(key) {\n",
              "        const element = document.querySelector('#df-3c34753f-b36b-495f-a98c-abdd74dc2194');\n",
              "        const dataTable =\n",
              "          await google.colab.kernel.invokeFunction('convertToInteractive',\n",
              "                                                    [key], {});\n",
              "        if (!dataTable) return;\n",
              "\n",
              "        const docLinkHtml = 'Like what you see? Visit the ' +\n",
              "          '<a target=\"_blank\" href=https://colab.research.google.com/notebooks/data_table.ipynb>data table notebook</a>'\n",
              "          + ' to learn more about interactive tables.';\n",
              "        element.innerHTML = '';\n",
              "        dataTable['output_type'] = 'display_data';\n",
              "        await google.colab.output.renderOutput(dataTable, element);\n",
              "        const docLink = document.createElement('div');\n",
              "        docLink.innerHTML = docLinkHtml;\n",
              "        element.appendChild(docLink);\n",
              "      }\n",
              "    </script>\n",
              "  </div>\n",
              "\n",
              "\n",
              "<div id=\"df-901643fd-623e-48ef-becf-f131bee5738f\">\n",
              "  <button class=\"colab-df-quickchart\" onclick=\"quickchart('df-901643fd-623e-48ef-becf-f131bee5738f')\"\n",
              "            title=\"Suggest charts\"\n",
              "            style=\"display:none;\">\n",
              "\n",
              "<svg xmlns=\"http://www.w3.org/2000/svg\" height=\"24px\"viewBox=\"0 0 24 24\"\n",
              "     width=\"24px\">\n",
              "    <g>\n",
              "        <path d=\"M19 3H5c-1.1 0-2 .9-2 2v14c0 1.1.9 2 2 2h14c1.1 0 2-.9 2-2V5c0-1.1-.9-2-2-2zM9 17H7v-7h2v7zm4 0h-2V7h2v10zm4 0h-2v-4h2v4z\"/>\n",
              "    </g>\n",
              "</svg>\n",
              "  </button>\n",
              "\n",
              "<style>\n",
              "  .colab-df-quickchart {\n",
              "      --bg-color: #E8F0FE;\n",
              "      --fill-color: #1967D2;\n",
              "      --hover-bg-color: #E2EBFA;\n",
              "      --hover-fill-color: #174EA6;\n",
              "      --disabled-fill-color: #AAA;\n",
              "      --disabled-bg-color: #DDD;\n",
              "  }\n",
              "\n",
              "  [theme=dark] .colab-df-quickchart {\n",
              "      --bg-color: #3B4455;\n",
              "      --fill-color: #D2E3FC;\n",
              "      --hover-bg-color: #434B5C;\n",
              "      --hover-fill-color: #FFFFFF;\n",
              "      --disabled-bg-color: #3B4455;\n",
              "      --disabled-fill-color: #666;\n",
              "  }\n",
              "\n",
              "  .colab-df-quickchart {\n",
              "    background-color: var(--bg-color);\n",
              "    border: none;\n",
              "    border-radius: 50%;\n",
              "    cursor: pointer;\n",
              "    display: none;\n",
              "    fill: var(--fill-color);\n",
              "    height: 32px;\n",
              "    padding: 0;\n",
              "    width: 32px;\n",
              "  }\n",
              "\n",
              "  .colab-df-quickchart:hover {\n",
              "    background-color: var(--hover-bg-color);\n",
              "    box-shadow: 0 1px 2px rgba(60, 64, 67, 0.3), 0 1px 3px 1px rgba(60, 64, 67, 0.15);\n",
              "    fill: var(--button-hover-fill-color);\n",
              "  }\n",
              "\n",
              "  .colab-df-quickchart-complete:disabled,\n",
              "  .colab-df-quickchart-complete:disabled:hover {\n",
              "    background-color: var(--disabled-bg-color);\n",
              "    fill: var(--disabled-fill-color);\n",
              "    box-shadow: none;\n",
              "  }\n",
              "\n",
              "  .colab-df-spinner {\n",
              "    border: 2px solid var(--fill-color);\n",
              "    border-color: transparent;\n",
              "    border-bottom-color: var(--fill-color);\n",
              "    animation:\n",
              "      spin 1s steps(1) infinite;\n",
              "  }\n",
              "\n",
              "  @keyframes spin {\n",
              "    0% {\n",
              "      border-color: transparent;\n",
              "      border-bottom-color: var(--fill-color);\n",
              "      border-left-color: var(--fill-color);\n",
              "    }\n",
              "    20% {\n",
              "      border-color: transparent;\n",
              "      border-left-color: var(--fill-color);\n",
              "      border-top-color: var(--fill-color);\n",
              "    }\n",
              "    30% {\n",
              "      border-color: transparent;\n",
              "      border-left-color: var(--fill-color);\n",
              "      border-top-color: var(--fill-color);\n",
              "      border-right-color: var(--fill-color);\n",
              "    }\n",
              "    40% {\n",
              "      border-color: transparent;\n",
              "      border-right-color: var(--fill-color);\n",
              "      border-top-color: var(--fill-color);\n",
              "    }\n",
              "    60% {\n",
              "      border-color: transparent;\n",
              "      border-right-color: var(--fill-color);\n",
              "    }\n",
              "    80% {\n",
              "      border-color: transparent;\n",
              "      border-right-color: var(--fill-color);\n",
              "      border-bottom-color: var(--fill-color);\n",
              "    }\n",
              "    90% {\n",
              "      border-color: transparent;\n",
              "      border-bottom-color: var(--fill-color);\n",
              "    }\n",
              "  }\n",
              "</style>\n",
              "\n",
              "  <script>\n",
              "    async function quickchart(key) {\n",
              "      const quickchartButtonEl =\n",
              "        document.querySelector('#' + key + ' button');\n",
              "      quickchartButtonEl.disabled = true;  // To prevent multiple clicks.\n",
              "      quickchartButtonEl.classList.add('colab-df-spinner');\n",
              "      try {\n",
              "        const charts = await google.colab.kernel.invokeFunction(\n",
              "            'suggestCharts', [key], {});\n",
              "      } catch (error) {\n",
              "        console.error('Error during call to suggestCharts:', error);\n",
              "      }\n",
              "      quickchartButtonEl.classList.remove('colab-df-spinner');\n",
              "      quickchartButtonEl.classList.add('colab-df-quickchart-complete');\n",
              "    }\n",
              "    (() => {\n",
              "      let quickchartButtonEl =\n",
              "        document.querySelector('#df-901643fd-623e-48ef-becf-f131bee5738f button');\n",
              "      quickchartButtonEl.style.display =\n",
              "        google.colab.kernel.accessAllowed ? 'block' : 'none';\n",
              "    })();\n",
              "  </script>\n",
              "</div>\n",
              "\n",
              "    </div>\n",
              "  </div>\n"
            ],
            "application/vnd.google.colaboratory.intrinsic+json": {
              "type": "dataframe",
              "variable_name": "df",
              "summary": "{\n  \"name\": \"df\",\n  \"rows\": 506,\n  \"fields\": [\n    {\n      \"column\": \"CRIM\",\n      \"properties\": {\n        \"dtype\": \"number\",\n        \"std\": 8.601545105332487,\n        \"min\": 0.00632,\n        \"max\": 88.9762,\n        \"num_unique_values\": 504,\n        \"samples\": [\n          0.09178,\n          0.05644,\n          0.10574\n        ],\n        \"semantic_type\": \"\",\n        \"description\": \"\"\n      }\n    },\n    {\n      \"column\": \"ZN\",\n      \"properties\": {\n        \"dtype\": \"number\",\n        \"std\": 23.322452994515036,\n        \"min\": 0.0,\n        \"max\": 100.0,\n        \"num_unique_values\": 26,\n        \"samples\": [\n          25.0,\n          30.0,\n          18.0\n        ],\n        \"semantic_type\": \"\",\n        \"description\": \"\"\n      }\n    },\n    {\n      \"column\": \"INDUS\",\n      \"properties\": {\n        \"dtype\": \"number\",\n        \"std\": 6.8603529408975845,\n        \"min\": 0.46,\n        \"max\": 27.74,\n        \"num_unique_values\": 76,\n        \"samples\": [\n          8.14,\n          1.47,\n          1.22\n        ],\n        \"semantic_type\": \"\",\n        \"description\": \"\"\n      }\n    },\n    {\n      \"column\": \"CHAS\",\n      \"properties\": {\n        \"dtype\": \"number\",\n        \"std\": 0.2539940413404118,\n        \"min\": 0.0,\n        \"max\": 1.0,\n        \"num_unique_values\": 2,\n        \"samples\": [\n          1.0,\n          0.0\n        ],\n        \"semantic_type\": \"\",\n        \"description\": \"\"\n      }\n    },\n    {\n      \"column\": \"NOX\",\n      \"properties\": {\n        \"dtype\": \"number\",\n        \"std\": 0.11587767566755611,\n        \"min\": 0.385,\n        \"max\": 0.871,\n        \"num_unique_values\": 81,\n        \"samples\": [\n          0.401,\n          0.538\n        ],\n        \"semantic_type\": \"\",\n        \"description\": \"\"\n      }\n    },\n    {\n      \"column\": \"RM\",\n      \"properties\": {\n        \"dtype\": \"number\",\n        \"std\": 0.7026171434153237,\n        \"min\": 3.561,\n        \"max\": 8.78,\n        \"num_unique_values\": 446,\n        \"samples\": [\n          6.849,\n          4.88\n        ],\n        \"semantic_type\": \"\",\n        \"description\": \"\"\n      }\n    },\n    {\n      \"column\": \"AGE\",\n      \"properties\": {\n        \"dtype\": \"number\",\n        \"std\": 28.148861406903638,\n        \"min\": 2.9,\n        \"max\": 100.0,\n        \"num_unique_values\": 356,\n        \"samples\": [\n          51.8,\n          33.8\n        ],\n        \"semantic_type\": \"\",\n        \"description\": \"\"\n      }\n    },\n    {\n      \"column\": \"DIS\",\n      \"properties\": {\n        \"dtype\": \"number\",\n        \"std\": 2.1057101266276104,\n        \"min\": 1.1296,\n        \"max\": 12.1265,\n        \"num_unique_values\": 412,\n        \"samples\": [\n          2.2955,\n          4.2515\n        ],\n        \"semantic_type\": \"\",\n        \"description\": \"\"\n      }\n    },\n    {\n      \"column\": \"RAD\",\n      \"properties\": {\n        \"dtype\": \"number\",\n        \"std\": 8.707259384239377,\n        \"min\": 1.0,\n        \"max\": 24.0,\n        \"num_unique_values\": 9,\n        \"samples\": [\n          7.0,\n          2.0\n        ],\n        \"semantic_type\": \"\",\n        \"description\": \"\"\n      }\n    },\n    {\n      \"column\": \"TAX\",\n      \"properties\": {\n        \"dtype\": \"number\",\n        \"std\": 168.53711605495926,\n        \"min\": 187.0,\n        \"max\": 711.0,\n        \"num_unique_values\": 66,\n        \"samples\": [\n          370.0,\n          666.0\n        ],\n        \"semantic_type\": \"\",\n        \"description\": \"\"\n      }\n    },\n    {\n      \"column\": \"PTRATIO\",\n      \"properties\": {\n        \"dtype\": \"number\",\n        \"std\": 2.164945523714446,\n        \"min\": 12.6,\n        \"max\": 22.0,\n        \"num_unique_values\": 46,\n        \"samples\": [\n          19.6,\n          15.6\n        ],\n        \"semantic_type\": \"\",\n        \"description\": \"\"\n      }\n    },\n    {\n      \"column\": \"B\",\n      \"properties\": {\n        \"dtype\": \"number\",\n        \"std\": 91.29486438415779,\n        \"min\": 0.32,\n        \"max\": 396.9,\n        \"num_unique_values\": 357,\n        \"samples\": [\n          396.24,\n          395.11\n        ],\n        \"semantic_type\": \"\",\n        \"description\": \"\"\n      }\n    },\n    {\n      \"column\": \"LSTAT\",\n      \"properties\": {\n        \"dtype\": \"number\",\n        \"std\": 7.141061511348571,\n        \"min\": 1.73,\n        \"max\": 37.97,\n        \"num_unique_values\": 455,\n        \"samples\": [\n          6.15,\n          4.32\n        ],\n        \"semantic_type\": \"\",\n        \"description\": \"\"\n      }\n    },\n    {\n      \"column\": \"MEDV\",\n      \"properties\": {\n        \"dtype\": \"number\",\n        \"std\": 9.19710408737982,\n        \"min\": 5.0,\n        \"max\": 50.0,\n        \"num_unique_values\": 229,\n        \"samples\": [\n          14.1,\n          22.5\n        ],\n        \"semantic_type\": \"\",\n        \"description\": \"\"\n      }\n    }\n  ]\n}"
            }
          },
          "metadata": {},
          "execution_count": 320
        }
      ]
    },
    {
      "cell_type": "code",
      "source": [
        "import seaborn as sns\n",
        "sns.boxplot(data=df)\n",
        "plt.show()"
      ],
      "metadata": {
        "colab": {
          "base_uri": "https://localhost:8080/",
          "height": 430
        },
        "id": "hzmvu202WQU-",
        "outputId": "426bd885-5f64-4f3d-f2cd-8a26a56f6ae0"
      },
      "execution_count": null,
      "outputs": [
        {
          "output_type": "display_data",
          "data": {
            "text/plain": [
              "<Figure size 640x480 with 1 Axes>"
            ],
            "image/png": "[encoded data removed]"
          },
          "metadata": {}
        }
      ]
    },
    {
      "cell_type": "code",
      "source": [
        "# 테이터 분할\n",
        "from sklearn.model_selection import train_test_split\n",
        "XX = df.drop('MEDV',axis=1)\n",
        "yy = df['MEDV']\n",
        "X_train,X_test,y_train,y_test = train_test_split(XX,yy)\n",
        "# sns.boxplot(y_train)\n"
      ],
      "metadata": {
        "colab": {
          "base_uri": "https://localhost:8080/",
          "height": 429
        },
        "collapsed": true,
        "id": "k7EmA4NCaER5",
        "outputId": "5584bb49-9798-412c-bee4-f36324a25f5b"
      },
      "execution_count": null,
      "outputs": [
        {
          "output_type": "execute_result",
          "data": {
            "text/plain": [
              "<Axes: ylabel='MEDV'>"
            ]
          },
          "metadata": {},
          "execution_count": 333
        },
        {
          "output_type": "display_data",
          "data": {
            "text/plain": [
              "<Figure size 640x480 with 1 Axes>"
            ],
            "image/png": "[encoded data removed]"
          },
          "metadata": {}
        }
      ]
    },
    {
      "cell_type": "code",
      "source": [
        "# 표준화\n",
        "from sklearn.preprocessing import StandardScaler\n",
        "ss = StandardScaler()\n",
        "ss = ss.fit(X_train)\n",
        "X_train_scaled = ss.transform(X_train)\n",
        "X_test_scaled = ss.transform(X_test)"
      ],
      "metadata": {
        "id": "C_ltxwotYPlV"
      },
      "execution_count": null,
      "outputs": []
    },
    {
      "cell_type": "code",
      "source": [
        "# 학습\n",
        "from sklearn.neighbors import KNeighborsRegressor\n",
        "knr = KNeighborsRegressor()\n",
        "knr.fit(X_train_scaled,y_train)"
      ],
      "metadata": {
        "colab": {
          "base_uri": "https://localhost:8080/",
          "height": 80
        },
        "id": "edPJ24ujY9qg",
        "outputId": "638b46fa-2e42-4a2e-aba0-a60f4f9ca9a1"
      },
      "execution_count": null,
      "outputs": [
        {
          "output_type": "execute_result",
          "data": {
            "text/plain": [
              "KNeighborsRegressor()"
            ],
            "text/html": [
              "<style>#sk-container-id-4 {\n",
              "  /* Definition of color scheme common for light and dark mode */\n",
              "  --sklearn-color-text: #000;\n",
              "  --sklearn-color-text-muted: #666;\n",
              "  --sklearn-color-line: gray;\n",
              "  /* Definition of color scheme for unfitted estimators */\n",
              "  --sklearn-color-unfitted-level-0: #fff5e6;\n",
              "  --sklearn-color-unfitted-level-1: #f6e4d2;\n",
              "  --sklearn-color-unfitted-level-2: #ffe0b3;\n",
              "  --sklearn-color-unfitted-level-3: chocolate;\n",
              "  /* Definition of color scheme for fitted estimators */\n",
              "  --sklearn-color-fitted-level-0: #f0f8ff;\n",
              "  --sklearn-color-fitted-level-1: #d4ebff;\n",
              "  --sklearn-color-fitted-level-2: #b3dbfd;\n",
              "  --sklearn-color-fitted-level-3: cornflowerblue;\n",
              "\n",
              "  /* Specific color for light theme */\n",
              "  --sklearn-color-text-on-default-background: var(--sg-text-color, var(--theme-code-foreground, var(--jp-content-font-color1, black)));\n",
              "  --sklearn-color-background: var(--sg-background-color, var(--theme-background, var(--jp-layout-color0, white)));\n",
              "  --sklearn-color-border-box: var(--sg-text-color, var(--theme-code-foreground, var(--jp-content-font-color1, black)));\n",
              "  --sklearn-color-icon: #696969;\n",
              "\n",
              "  @media (prefers-color-scheme: dark) {\n",
              "    /* Redefinition of color scheme for dark theme */\n",
              "    --sklearn-color-text-on-default-background: var(--sg-text-color, var(--theme-code-foreground, var(--jp-content-font-color1, white)));\n",
              "    --sklearn-color-background: var(--sg-background-color, var(--theme-background, var(--jp-layout-color0, #111)));\n",
              "    --sklearn-color-border-box: var(--sg-text-color, var(--theme-code-foreground, var(--jp-content-font-color1, white)));\n",
              "    --sklearn-color-icon: #878787;\n",
              "  }\n",
              "}\n",
              "\n",
              "#sk-container-id-4 {\n",
              "  color: var(--sklearn-color-text);\n",
              "}\n",
              "\n",
              "#sk-container-id-4 pre {\n",
              "  padding: 0;\n",
              "}\n",
              "\n",
              "#sk-container-id-4 input.sk-hidden--visually {\n",
              "  border: 0;\n",
              "  clip: rect(1px 1px 1px 1px);\n",
              "  clip: rect(1px, 1px, 1px, 1px);\n",
              "  height: 1px;\n",
              "  margin: -1px;\n",
              "  overflow: hidden;\n",
              "  padding: 0;\n",
              "  position: absolute;\n",
              "  width: 1px;\n",
              "}\n",
              "\n",
              "#sk-container-id-4 div.sk-dashed-wrapped {\n",
              "  border: 1px dashed var(--sklearn-color-line);\n",
              "  margin: 0 0.4em 0.5em 0.4em;\n",
              "  box-sizing: border-box;\n",
              "  padding-bottom: 0.4em;\n",
              "  background-color: var(--sklearn-color-background);\n",
              "}\n",
              "\n",
              "#sk-container-id-4 div.sk-container {\n",
              "  /* jupyter's `normalize.less` sets `[hidden] { display: none; }`\n",
              "     but bootstrap.min.css set `[hidden] { display: none !important; }`\n",
              "     so we also need the `!important` here to be able to override the\n",
              "     default hidden behavior on the sphinx rendered scikit-learn.org.\n",
              "     See: https://github.com/scikit-learn/scikit-learn/issues/21755 */\n",
              "  display: inline-block !important;\n",
              "  position: relative;\n",
              "}\n",
              "\n",
              "#sk-container-id-4 div.sk-text-repr-fallback {\n",
              "  display: none;\n",
              "}\n",
              "\n",
              "div.sk-parallel-item,\n",
              "div.sk-serial,\n",
              "div.sk-item {\n",
              "  /* draw centered vertical line to link estimators */\n",
              "  background-image: linear-gradient(var(--sklearn-color-text-on-default-background), var(--sklearn-color-text-on-default-background));\n",
              "  background-size: 2px 100%;\n",
              "  background-repeat: no-repeat;\n",
              "  background-position: center center;\n",
              "}\n",
              "\n",
              "/* Parallel-specific style estimator block */\n",
              "\n",
              "#sk-container-id-4 div.sk-parallel-item::after {\n",
              "  content: \"\";\n",
              "  width: 100%;\n",
              "  border-bottom: 2px solid var(--sklearn-color-text-on-default-background);\n",
              "  flex-grow: 1;\n",
              "}\n",
              "\n",
              "#sk-container-id-4 div.sk-parallel {\n",
              "  display: flex;\n",
              "  align-items: stretch;\n",
              "  justify-content: center;\n",
              "  background-color: var(--sklearn-color-background);\n",
              "  position: relative;\n",
              "}\n",
              "\n",
              "#sk-container-id-4 div.sk-parallel-item {\n",
              "  display: flex;\n",
              "  flex-direction: column;\n",
              "}\n",
              "\n",
              "#sk-container-id-4 div.sk-parallel-item:first-child::after {\n",
              "  align-self: flex-end;\n",
              "  width: 50%;\n",
              "}\n",
              "\n",
              "#sk-container-id-4 div.sk-parallel-item:last-child::after {\n",
              "  align-self: flex-start;\n",
              "  width: 50%;\n",
              "}\n",
              "\n",
              "#sk-container-id-4 div.sk-parallel-item:only-child::after {\n",
              "  width: 0;\n",
              "}\n",
              "\n",
              "/* Serial-specific style estimator block */\n",
              "\n",
              "#sk-container-id-4 div.sk-serial {\n",
              "  display: flex;\n",
              "  flex-direction: column;\n",
              "  align-items: center;\n",
              "  background-color: var(--sklearn-color-background);\n",
              "  padding-right: 1em;\n",
              "  padding-left: 1em;\n",
              "}\n",
              "\n",
              "\n",
              "/* Toggleable style: style used for estimator/Pipeline/ColumnTransformer box that is\n",
              "clickable and can be expanded/collapsed.\n",
              "- Pipeline and ColumnTransformer use this feature and define the default style\n",
              "- Estimators will overwrite some part of the style using the `sk-estimator` class\n",
              "*/\n",
              "\n",
              "/* Pipeline and ColumnTransformer style (default) */\n",
              "\n",
              "#sk-container-id-4 div.sk-toggleable {\n",
              "  /* Default theme specific background. It is overwritten whether we have a\n",
              "  specific estimator or a Pipeline/ColumnTransformer */\n",
              "  background-color: var(--sklearn-color-background);\n",
              "}\n",
              "\n",
              "/* Toggleable label */\n",
              "#sk-container-id-4 label.sk-toggleable__label {\n",
              "  cursor: pointer;\n",
              "  display: flex;\n",
              "  width: 100%;\n",
              "  margin-bottom: 0;\n",
              "  padding: 0.5em;\n",
              "  box-sizing: border-box;\n",
              "  text-align: center;\n",
              "  align-items: start;\n",
              "  justify-content: space-between;\n",
              "  gap: 0.5em;\n",
              "}\n",
              "\n",
              "#sk-container-id-4 label.sk-toggleable__label .caption {\n",
              "  font-size: 0.6rem;\n",
              "  font-weight: lighter;\n",
              "  color: var(--sklearn-color-text-muted);\n",
              "}\n",
              "\n",
              "#sk-container-id-4 label.sk-toggleable__label-arrow:before {\n",
              "  /* Arrow on the left of the label */\n",
              "  content: \"▸\";\n",
              "  float: left;\n",
              "  margin-right: 0.25em;\n",
              "  color: var(--sklearn-color-icon);\n",
              "}\n",
              "\n",
              "#sk-container-id-4 label.sk-toggleable__label-arrow:hover:before {\n",
              "  color: var(--sklearn-color-text);\n",
              "}\n",
              "\n",
              "/* Toggleable content - dropdown */\n",
              "\n",
              "#sk-container-id-4 div.sk-toggleable__content {\n",
              "  max-height: 0;\n",
              "  max-width: 0;\n",
              "  overflow: hidden;\n",
              "  text-align: left;\n",
              "  /* unfitted */\n",
              "  background-color: var(--sklearn-color-unfitted-level-0);\n",
              "}\n",
              "\n",
              "#sk-container-id-4 div.sk-toggleable__content.fitted {\n",
              "  /* fitted */\n",
              "  background-color: var(--sklearn-color-fitted-level-0);\n",
              "}\n",
              "\n",
              "#sk-container-id-4 div.sk-toggleable__content pre {\n",
              "  margin: 0.2em;\n",
              "  border-radius: 0.25em;\n",
              "  color: var(--sklearn-color-text);\n",
              "  /* unfitted */\n",
              "  background-color: var(--sklearn-color-unfitted-level-0);\n",
              "}\n",
              "\n",
              "#sk-container-id-4 div.sk-toggleable__content.fitted pre {\n",
              "  /* unfitted */\n",
              "  background-color: var(--sklearn-color-fitted-level-0);\n",
              "}\n",
              "\n",
              "#sk-container-id-4 input.sk-toggleable__control:checked~div.sk-toggleable__content {\n",
              "  /* Expand drop-down */\n",
              "  max-height: 200px;\n",
              "  max-width: 100%;\n",
              "  overflow: auto;\n",
              "}\n",
              "\n",
              "#sk-container-id-4 input.sk-toggleable__control:checked~label.sk-toggleable__label-arrow:before {\n",
              "  content: \"▾\";\n",
              "}\n",
              "\n",
              "/* Pipeline/ColumnTransformer-specific style */\n",
              "\n",
              "#sk-container-id-4 div.sk-label input.sk-toggleable__control:checked~label.sk-toggleable__label {\n",
              "  color: var(--sklearn-color-text);\n",
              "  background-color: var(--sklearn-color-unfitted-level-2);\n",
              "}\n",
              "\n",
              "#sk-container-id-4 div.sk-label.fitted input.sk-toggleable__control:checked~label.sk-toggleable__label {\n",
              "  background-color: var(--sklearn-color-fitted-level-2);\n",
              "}\n",
              "\n",
              "/* Estimator-specific style */\n",
              "\n",
              "/* Colorize estimator box */\n",
              "#sk-container-id-4 div.sk-estimator input.sk-toggleable__control:checked~label.sk-toggleable__label {\n",
              "  /* unfitted */\n",
              "  background-color: var(--sklearn-color-unfitted-level-2);\n",
              "}\n",
              "\n",
              "#sk-container-id-4 div.sk-estimator.fitted input.sk-toggleable__control:checked~label.sk-toggleable__label {\n",
              "  /* fitted */\n",
              "  background-color: var(--sklearn-color-fitted-level-2);\n",
              "}\n",
              "\n",
              "#sk-container-id-4 div.sk-label label.sk-toggleable__label,\n",
              "#sk-container-id-4 div.sk-label label {\n",
              "  /* The background is the default theme color */\n",
              "  color: var(--sklearn-color-text-on-default-background);\n",
              "}\n",
              "\n",
              "/* On hover, darken the color of the background */\n",
              "#sk-container-id-4 div.sk-label:hover label.sk-toggleable__label {\n",
              "  color: var(--sklearn-color-text);\n",
              "  background-color: var(--sklearn-color-unfitted-level-2);\n",
              "}\n",
              "\n",
              "/* Label box, darken color on hover, fitted */\n",
              "#sk-container-id-4 div.sk-label.fitted:hover label.sk-toggleable__label.fitted {\n",
              "  color: var(--sklearn-color-text);\n",
              "  background-color: var(--sklearn-color-fitted-level-2);\n",
              "}\n",
              "\n",
              "/* Estimator label */\n",
              "\n",
              "#sk-container-id-4 div.sk-label label {\n",
              "  font-family: monospace;\n",
              "  font-weight: bold;\n",
              "  display: inline-block;\n",
              "  line-height: 1.2em;\n",
              "}\n",
              "\n",
              "#sk-container-id-4 div.sk-label-container {\n",
              "  text-align: center;\n",
              "}\n",
              "\n",
              "/* Estimator-specific */\n",
              "#sk-container-id-4 div.sk-estimator {\n",
              "  font-family: monospace;\n",
              "  border: 1px dotted var(--sklearn-color-border-box);\n",
              "  border-radius: 0.25em;\n",
              "  box-sizing: border-box;\n",
              "  margin-bottom: 0.5em;\n",
              "  /* unfitted */\n",
              "  background-color: var(--sklearn-color-unfitted-level-0);\n",
              "}\n",
              "\n",
              "#sk-container-id-4 div.sk-estimator.fitted {\n",
              "  /* fitted */\n",
              "  background-color: var(--sklearn-color-fitted-level-0);\n",
              "}\n",
              "\n",
              "/* on hover */\n",
              "#sk-container-id-4 div.sk-estimator:hover {\n",
              "  /* unfitted */\n",
              "  background-color: var(--sklearn-color-unfitted-level-2);\n",
              "}\n",
              "\n",
              "#sk-container-id-4 div.sk-estimator.fitted:hover {\n",
              "  /* fitted */\n",
              "  background-color: var(--sklearn-color-fitted-level-2);\n",
              "}\n",
              "\n",
              "/* Specification for estimator info (e.g. \"i\" and \"?\") */\n",
              "\n",
              "/* Common style for \"i\" and \"?\" */\n",
              "\n",
              ".sk-estimator-doc-link,\n",
              "a:link.sk-estimator-doc-link,\n",
              "a:visited.sk-estimator-doc-link {\n",
              "  float: right;\n",
              "  font-size: smaller;\n",
              "  line-height: 1em;\n",
              "  font-family: monospace;\n",
              "  background-color: var(--sklearn-color-background);\n",
              "  border-radius: 1em;\n",
              "  height: 1em;\n",
              "  width: 1em;\n",
              "  text-decoration: none !important;\n",
              "  margin-left: 0.5em;\n",
              "  text-align: center;\n",
              "  /* unfitted */\n",
              "  border: var(--sklearn-color-unfitted-level-1) 1pt solid;\n",
              "  color: var(--sklearn-color-unfitted-level-1);\n",
              "}\n",
              "\n",
              ".sk-estimator-doc-link.fitted,\n",
              "a:link.sk-estimator-doc-link.fitted,\n",
              "a:visited.sk-estimator-doc-link.fitted {\n",
              "  /* fitted */\n",
              "  border: var(--sklearn-color-fitted-level-1) 1pt solid;\n",
              "  color: var(--sklearn-color-fitted-level-1);\n",
              "}\n",
              "\n",
              "/* On hover */\n",
              "div.sk-estimator:hover .sk-estimator-doc-link:hover,\n",
              ".sk-estimator-doc-link:hover,\n",
              "div.sk-label-container:hover .sk-estimator-doc-link:hover,\n",
              ".sk-estimator-doc-link:hover {\n",
              "  /* unfitted */\n",
              "  background-color: var(--sklearn-color-unfitted-level-3);\n",
              "  color: var(--sklearn-color-background);\n",
              "  text-decoration: none;\n",
              "}\n",
              "\n",
              "div.sk-estimator.fitted:hover .sk-estimator-doc-link.fitted:hover,\n",
              ".sk-estimator-doc-link.fitted:hover,\n",
              "div.sk-label-container:hover .sk-estimator-doc-link.fitted:hover,\n",
              ".sk-estimator-doc-link.fitted:hover {\n",
              "  /* fitted */\n",
              "  background-color: var(--sklearn-color-fitted-level-3);\n",
              "  color: var(--sklearn-color-background);\n",
              "  text-decoration: none;\n",
              "}\n",
              "\n",
              "/* Span, style for the box shown on hovering the info icon */\n",
              ".sk-estimator-doc-link span {\n",
              "  display: none;\n",
              "  z-index: 9999;\n",
              "  position: relative;\n",
              "  font-weight: normal;\n",
              "  right: .2ex;\n",
              "  padding: .5ex;\n",
              "  margin: .5ex;\n",
              "  width: min-content;\n",
              "  min-width: 20ex;\n",
              "  max-width: 50ex;\n",
              "  color: var(--sklearn-color-text);\n",
              "  box-shadow: 2pt 2pt 4pt #999;\n",
              "  /* unfitted */\n",
              "  background: var(--sklearn-color-unfitted-level-0);\n",
              "  border: .5pt solid var(--sklearn-color-unfitted-level-3);\n",
              "}\n",
              "\n",
              ".sk-estimator-doc-link.fitted span {\n",
              "  /* fitted */\n",
              "  background: var(--sklearn-color-fitted-level-0);\n",
              "  border: var(--sklearn-color-fitted-level-3);\n",
              "}\n",
              "\n",
              ".sk-estimator-doc-link:hover span {\n",
              "  display: block;\n",
              "}\n",
              "\n",
              "/* \"?\"-specific style due to the `<a>` HTML tag */\n",
              "\n",
              "#sk-container-id-4 a.estimator_doc_link {\n",
              "  float: right;\n",
              "  font-size: 1rem;\n",
              "  line-height: 1em;\n",
              "  font-family: monospace;\n",
              "  background-color: var(--sklearn-color-background);\n",
              "  border-radius: 1rem;\n",
              "  height: 1rem;\n",
              "  width: 1rem;\n",
              "  text-decoration: none;\n",
              "  /* unfitted */\n",
              "  color: var(--sklearn-color-unfitted-level-1);\n",
              "  border: var(--sklearn-color-unfitted-level-1) 1pt solid;\n",
              "}\n",
              "\n",
              "#sk-container-id-4 a.estimator_doc_link.fitted {\n",
              "  /* fitted */\n",
              "  border: var(--sklearn-color-fitted-level-1) 1pt solid;\n",
              "  color: var(--sklearn-color-fitted-level-1);\n",
              "}\n",
              "\n",
              "/* On hover */\n",
              "#sk-container-id-4 a.estimator_doc_link:hover {\n",
              "  /* unfitted */\n",
              "  background-color: var(--sklearn-color-unfitted-level-3);\n",
              "  color: var(--sklearn-color-background);\n",
              "  text-decoration: none;\n",
              "}\n",
              "\n",
              "#sk-container-id-4 a.estimator_doc_link.fitted:hover {\n",
              "  /* fitted */\n",
              "  background-color: var(--sklearn-color-fitted-level-3);\n",
              "}\n",
              "</style><div id=\"sk-container-id-4\" class=\"sk-top-container\"><div class=\"sk-text-repr-fallback\"><pre>KNeighborsRegressor()</pre><b>In a Jupyter environment, please rerun this cell to show the HTML representation or trust the notebook. <br />On GitHub, the HTML representation is unable to render, please try loading this page with nbviewer.org.</b></div><div class=\"sk-container\" hidden><div class=\"sk-item\"><div class=\"sk-estimator fitted sk-toggleable\"><input class=\"sk-toggleable__control sk-hidden--visually\" id=\"sk-estimator-id-4\" type=\"checkbox\" checked><label for=\"sk-estimator-id-4\" class=\"sk-toggleable__label fitted sk-toggleable__label-arrow\"><div><div>KNeighborsRegressor</div></div><div><a class=\"sk-estimator-doc-link fitted\" rel=\"noreferrer\" target=\"_blank\" href=\"https://scikit-learn.org/1.6/modules/generated/sklearn.neighbors.KNeighborsRegressor.html\">?<span>Documentation for KNeighborsRegressor</span></a><span class=\"sk-estimator-doc-link fitted\">i<span>Fitted</span></span></div></label><div class=\"sk-toggleable__content fitted\"><pre>KNeighborsRegressor()</pre></div> </div></div></div></div>"
            ]
          },
          "metadata": {},
          "execution_count": 331
        }
      ]
    },
    {
      "cell_type": "code",
      "source": [
        "# 평가\n",
        "from sklearn.metrics import mean_absolute_error, mean_squared_error, r2_score\n",
        "y_predict = knr.predict(X_test_scaled)\n",
        "print(\n",
        "  mean_absolute_error(y_test, y_predict),\n",
        "  mean_squared_error(y_test, y_predict),\n",
        "  r2_score(y_test, y_predict)\n",
        ")"
      ],
      "metadata": {
        "colab": {
          "base_uri": "https://localhost:8080/"
        },
        "id": "9T9smoZ6ZJY9",
        "outputId": "78238db3-0911-4d35-98f6-db2469bf798b"
      },
      "execution_count": null,
      "outputs": [
        {
          "output_type": "stream",
          "name": "stdout",
          "text": [
            "3.492283464566929 33.39184881889763 0.6650460765913562\n"
          ]
        }
      ]
    },
    {
      "cell_type": "code",
      "source": [],
      "metadata": {
        "id": "lYKf43bacA26"
      },
      "execution_count": null,
      "outputs": []
    },
    {
      "cell_type": "markdown",
      "source": [
        "성능 높이기\n",
        "```\n",
        "정답을 제외한 모든 학습데이터를 스케일링하고\n",
        "1.boxplot을이용해서 이상치가 심한 컬럼기준으로 이상치를 제거\n",
        "만약 데이터가 너무 적으면 두번째로 심한컬럼기준으로.\n",
        "\n",
        "2. 정답인 주택가격도 최상위 가격이존재.. 이것도 이상치를 제거\n",
        "\n",
        "3. 모든 학습데이터를 표준화\n",
        "4. train, test 로 분할하고\n",
        "5. 학습\n",
        "6. 평가\n",
        "\n",
        "```"
      ],
      "metadata": {
        "id": "1RdADxn1cBPZ"
      }
    },
    {
      "cell_type": "code",
      "source": [
        " cols = ['CRIM',\n",
        " 'ZN'  ,\n",
        " 'INDUS',\n",
        " 'CHAS' ,\n",
        " 'NOX'  ,\n",
        " 'RM'   ,\n",
        " 'AGE'  ,\n",
        " 'DIS'  ,\n",
        " 'RAD'  ,\n",
        " 'TAX'  ,\n",
        " 'PTRATIO',\n",
        " 'B'      ,\n",
        " 'LSTAT'  ,\n",
        " ]\n",
        " df = pd.DataFrame(X,columns=cols)\n",
        " df['MEDV'] = y\n",
        " df.head()\n",
        "\n",
        "import seaborn as sns\n",
        "# sns.boxplot(data=df)\n",
        "Q1 = df['B'].quantile(0.25)\n",
        "Q3 = df['B'].quantile(0.75)\n",
        "IQR = Q3-Q1\n",
        "lower = Q1 - 1.5*IQR\n",
        "upper = Q3 + 1.5*IQR\n",
        "df = df[(df['B'] > lower) & (df['B'] < upper)]\n",
        "df.shape\n",
        "X = df.drop('MEDV',axis=1)\n",
        "y = df['MEDV']\n",
        "ss = StandardScaler()\n",
        "X = ss.fit_transform(X)\n",
        "X_train,X_test,y_train,y_test = train_test_split(X,y)\n",
        "knr = KNeighborsRegressor()\n",
        "knr.fit(X_train,y_train)\n",
        "y_predict = knr.predict(X_test)\n",
        "mean_absolute_error(y_test, y_predict), mean_squared_error(y_test, y_predict), r2_score(y_test, y_predict)"
      ],
      "metadata": {
        "colab": {
          "base_uri": "https://localhost:8080/"
        },
        "collapsed": true,
        "id": "oMHFPwCEa8tN",
        "outputId": "d2f9af7d-9843-40cd-83ad-00105b13a317"
      },
      "execution_count": null,
      "outputs": [
        {
          "output_type": "execute_result",
          "data": {
            "text/plain": [
              "(2.6599999999999997, 14.980785185185189, 0.7316629172454807)"
            ]
          },
          "metadata": {},
          "execution_count": 336
        }
      ]
    },
    {
      "cell_type": "code",
      "source": [],
      "metadata": {
        "id": "M6SZqX99eguu"
      },
      "execution_count": null,
      "outputs": []
    }
  ]
}