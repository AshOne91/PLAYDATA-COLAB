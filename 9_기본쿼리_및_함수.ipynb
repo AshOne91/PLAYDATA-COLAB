{
  "nbformat": 4,
  "nbformat_minor": 0,
  "metadata": {
    "colab": {
      "provenance": [],
      "include_colab_link": true
    },
    "kernelspec": {
      "name": "python3",
      "display_name": "Python 3"
    },
    "language_info": {
      "name": "python"
    }
  },
  "cells": [
    {
      "cell_type": "markdown",
      "metadata": {
        "id": "view-in-github",
        "colab_type": "text"
      },
      "source": [
        "<a href=\"https://colab.research.google.com/github/AshOne91/PLAYDATA-COLAB/blob/main/9_%EA%B8%B0%EB%B3%B8%EC%BF%BC%EB%A6%AC_%EB%B0%8F_%ED%95%A8%EC%88%98.ipynb\" target=\"_parent\"><img src=\"https://colab.research.google.com/assets/colab-badge.svg\" alt=\"Open In Colab\"/></a>"
      ]
    },
    {
      "cell_type": "markdown",
      "source": [
        "SQL 기본개념\n",
        "```\n",
        "sql : 데이터 베이스를 정의하고 조작하는 언어, 질의어\n",
        "주요명령어\n",
        "    DDL(Data Definition Laguage) : create, alter,drop 테이블 생성 수정 삭제\n",
        "    DML(Data Manipulation Laguage) : insert select update delete  데이터 CRUD\n",
        "    DCL(Data Control Laguage) : grant, revoke  권한부여 삭제\n",
        "함수 : 데이터 가공 및 계산을 위한 내장 함수 : count avg json_extract 등등..\n",
        "```"
      ],
      "metadata": {
        "id": "vCjUR_MZw3jN"
      }
    },
    {
      "cell_type": "markdown",
      "source": [
        "# workbench에서 생성한 데이터베이스, 테이블에 데이터를 1000개 임의로 생성하기(프로그램 사용)"
      ],
      "metadata": {
        "id": "EgIcWFztxUwq"
      }
    },
    {
      "cell_type": "code",
      "source": [
        "!pip install mysql-connector-python -q"
      ],
      "metadata": {
        "id": "Rl1TU0BhyU7U"
      },
      "execution_count": null,
      "outputs": []
    },
    {
      "cell_type": "code",
      "source": [
        "from mysql import connector\n",
        "# 접속 관련 매개변수 설정\n",
        "args = {\n",
        "    \"host\" : \"localhost\",\n",
        "    \"user\" : \"root\",\n",
        "    \"password\" : \"root1234\",\n",
        "    \"port\" : 3306,\n",
        "    \"database\" : \"student_db2\"\n",
        "}\n",
        "conn = connector.connect(**args)  # localhost 에 접속 해서 접속 객체를 생성\n",
        "cursor = conn.cursor()\n",
        "sql = \"\"\"\n",
        "insert into student_db2.students(name,age,kor,eng,math)\n",
        "select\n",
        "\tconcat(\n",
        "\t\tELT(floor(1+rand()*8), '김','이','박','최','구','강','조','윤'),\n",
        "        ELT(floor(1+rand()*5), '영희','철수','준호','철호','미나')\n",
        "    ) as name,\n",
        "    floor(20+rand()*20) as age,\n",
        "    floor(70+rand()*21) as kor,\n",
        "    floor(70+rand()*21) as eng,\n",
        "    floor(70+rand()*21) as math\n",
        "\"\"\"\n",
        "for _ in range(1000):\n",
        "    cursor.execute(sql)\n",
        "    conn.commit()\n",
        "\n",
        "cursor.close()\n",
        "conn.close()"
      ],
      "metadata": {
        "id": "o2jeuGzaw7eM"
      },
      "execution_count": null,
      "outputs": []
    },
    {
      "cell_type": "markdown",
      "source": [
        "# 학생 테이블을 관리할 클래스\n",
        "```\n",
        "    DB 연결하고 닫는 기본적인 StudentMng 클래스 생성\n",
        "```"
      ],
      "metadata": {
        "id": "JANUGHQb7auF"
      }
    },
    {
      "cell_type": "code",
      "source": [
        "from mysql.connector import connect, Error"
      ],
      "metadata": {
        "id": "5eLGDgOZyXAJ"
      },
      "execution_count": null,
      "outputs": []
    },
    {
      "cell_type": "code",
      "source": [
        "# 생성자 매개변수 : host, user, password, databases\n",
        "class StudentMng:\n",
        "    def __init__(self, host='localhost', user='root',password='root1234',database='student_db2'):\n",
        "        self.conn = None\n",
        "        self.cursor = None\n",
        "        self.args = { 'host':host, 'user':user, 'password':password,'database':database}\n",
        "    def connection(self):\n",
        "        try:\n",
        "            self.conn = connector.connect(**self.args)\n",
        "            self.cursor = self.conn.cursor()\n",
        "            print(f'접속 성공')\n",
        "        except Exception as e:\n",
        "            print(f'연결 오류: {e}')\n",
        "    def disconnect(self):\n",
        "        if self.cursor:\n",
        "            self.cursor.close()\n",
        "        if self.conn:\n",
        "            self.conn.close()\n",
        "        print('db 연결이 종료되었습니다')\n",
        "    # 데이터추가 인스턴스 메소드\n",
        "    # 모든 학생 조회 인스턴스 메소드\n",
        "    # 학생정보 수정 인스턴스 메소드\n",
        "    # 학생 삭제 인스턴스 메소드"
      ],
      "metadata": {
        "id": "EvJQrrd-7fDz"
      },
      "execution_count": null,
      "outputs": []
    },
    {
      "cell_type": "code",
      "source": [
        "if __name__ == '__main__':\n",
        "    # 객체 생성하고 db 연결한다음, 접속해제\n",
        "    mngStudent = StudentMng()\n",
        "    # 데이터베이스 접속\n",
        "    mngStudent.connection()\n",
        "    # 데이터 베이스 해제\n",
        "    mngStudent.disconnect()"
      ],
      "metadata": {
        "id": "rCoX3KsIE_ax"
      },
      "execution_count": null,
      "outputs": []
    },
    {
      "cell_type": "markdown",
      "source": [
        "```\n",
        "데이터추가 인스턴스 메소드\n",
        "모든 학생 조회 인스턴스 메소드\n",
        "학생정보 수정 인스턴스 메소드\n",
        "학생 삭제 인스턴스 메소드\n",
        "```"
      ],
      "metadata": {
        "id": "TqBeHP0YFF6s"
      }
    },
    {
      "cell_type": "code",
      "source": [
        "# 생성자 매개변수 : host, user, password, databases\n",
        "class StudentMng:\n",
        "    def __init__(self, host='localhost', user='root',password='root1234',database='student_db2'):\n",
        "        self.conn = None\n",
        "        self.cursor = None\n",
        "        self.args = { 'host':host, 'user':user, 'password':password,'database':database}\n",
        "    def connection(self):\n",
        "        try:\n",
        "            self.conn = connect(**self.args)\n",
        "            self.cursor = self.conn.cursor()\n",
        "            print(f'접속 성공')\n",
        "        except Exception as e:\n",
        "            print(f'연결 오류: {e}')\n",
        "    def disconnect(self):\n",
        "        if self.cursor:\n",
        "            self.cursor.close()\n",
        "        if self.conn:\n",
        "            self.conn.close()\n",
        "        print('db 연결이 종료되었습니다')\n",
        "    # 학생데이터 생성\n",
        "    def create_student(self,name,age,kor,eng,math):\n",
        "        try:\n",
        "            query = \"\"\"\n",
        "                insert into students values(null, %s, %s, %s, %s, %s)\n",
        "            \"\"\"\n",
        "            self.cursor.execute(query,(name,age,kor,eng,math) )\n",
        "            self.conn.commit()\n",
        "            print('학생데이터 생성 완료')\n",
        "        except Error as e:\n",
        "            print(f\"학생데이터 생성 오류 {e}\")\n",
        "    # 모든 학생테이블 조회\n",
        "    def get_all_student(self):\n",
        "        try:\n",
        "            query = \"\"\"\n",
        "                select * from students\n",
        "            \"\"\"\n",
        "            self.cursor.execute(query)\n",
        "            results = self.cursor.fetchall()\n",
        "            return results\n",
        "        except Error as e:\n",
        "            print(f\"학생데이터 조회 오류 {e}\")\n",
        "    def update_student(self,id, name=None,age=None,kor=None,eng=None,math=None):\n",
        "        try:\n",
        "            query = \"\"\"\n",
        "                update students\n",
        "                    set name = coalesce(%s,name),\n",
        "                    age = coalesce(%s,age),\n",
        "                    kor = coalesce(%s,kor),\n",
        "                    eng = coalesce(%s,eng),\n",
        "                    math = coalesce(%s,math)\n",
        "                where id = %s\n",
        "            \"\"\"\n",
        "            self.cursor.execute(query,(name,age,kor,eng,math,id))\n",
        "            self.conn.commit()\n",
        "        except Error as e:\n",
        "            print(f\"학생데이터 업데이트 오류 {e}\")\n",
        "    def delte_student(self,id):\n",
        "        try:\n",
        "            query = \"\"\"\n",
        "                delete from students where id = %s\n",
        "            \"\"\"\n",
        "            self.cursor.execute(query, (id,) )\n",
        "            self.conn.commit()\n",
        "        except Error as e:\n",
        "            print(f\"학생데이터 삭제 오류 {e}\")"
      ],
      "metadata": {
        "id": "z6rMoFLRFASD"
      },
      "execution_count": null,
      "outputs": []
    },
    {
      "cell_type": "code",
      "source": [
        "if __name__ == '__main__':\n",
        "    # 객체생성\n",
        "    s = StudentMng();\n",
        "    s.connection()\n",
        "    # 학생데이터 생성\n",
        "    s.create_student('홍길동',5,15,25,35)\n",
        "    print('조회----------------------------------')\n",
        "    students = s.get_all_student()\n",
        "    for idx, data in enumerate(students):\n",
        "        if idx == 5:\n",
        "            break\n",
        "        print(data)\n",
        "    print('업데이트----------------------------------')\n",
        "    s.update_student(2,eng = 100)\n",
        "    print('업데이트 후 데이터 확인')\n",
        "    students = s.get_all_student()\n",
        "    for idx, data in enumerate(students):\n",
        "        if idx == 5:\n",
        "            break\n",
        "        print(data)\n",
        "    # 삭제"
      ],
      "metadata": {
        "id": "kAUfQcX7FK6C"
      },
      "execution_count": null,
      "outputs": []
    },
    {
      "cell_type": "markdown",
      "source": [
        "#Streamlit 실행"
      ],
      "metadata": {
        "id": "Gbwux8FMW2vr"
      }
    },
    {
      "cell_type": "code",
      "source": [
        "%%writefile app.py\n",
        "import streamlit as st\n",
        "from mysql.connector import connect, Error\n",
        "\n",
        "class StudentMng:\n",
        "    def __init__(self, host='localhost', user='root',password='root1234',database='student_db2'):\n",
        "        self.conn = None\n",
        "        self.cursor = None\n",
        "        self.args = { 'host':host, 'user':user, 'password':password,'database':database}\n",
        "    def connection(self):\n",
        "        try:\n",
        "            self.conn = connect(**self.args)\n",
        "            self.cursor = self.conn.cursor()\n",
        "            print(f'접속 성공')\n",
        "        except Exception as e:\n",
        "            print(f'연결 오류: {e}')\n",
        "    def disconnect(self):\n",
        "        if self.cursor:\n",
        "            self.cursor.close()\n",
        "        if self.conn:\n",
        "            self.conn.close()\n",
        "        print('db 연결이 종료되었습니다')\n",
        "    # 학생데이터 생성\n",
        "    def create_student(self,name,age,kor,eng,math):\n",
        "        try:\n",
        "            query = \"\"\"\n",
        "                insert into students values(null, %s, %s, %s, %s, %s)\n",
        "            \"\"\"\n",
        "            self.cursor.execute(query,(name,age,kor,eng,math) )\n",
        "            self.conn.commit()\n",
        "            print('학생데이터 생성 완료')\n",
        "        except Error as e:\n",
        "            print(f\"학생데이터 생성 오류 {e}\")\n",
        "    # 모든 학생테이블 조회\n",
        "    def get_all_student(self):\n",
        "        try:\n",
        "            query = \"\"\"\n",
        "                select * from students\n",
        "            \"\"\"\n",
        "            self.cursor.execute(query)\n",
        "            results = self.cursor.fetchall()\n",
        "            return results\n",
        "        except Error as e:\n",
        "            print(f\"학생데이터 조회 오류 {e}\")\n",
        "    def update_student(self,id, name=None,age=None,kor=None,eng=None,math=None):\n",
        "        try:\n",
        "            query = \"\"\"\n",
        "                update students\n",
        "                    set name = coalesce(%s,name),\n",
        "                    age = coalesce(%s,age),\n",
        "                    kor = coalesce(%s,kor),\n",
        "                    eng = coalesce(%s,eng),\n",
        "                    math = coalesce(%s,math)\n",
        "                where id = %s\n",
        "            \"\"\"\n",
        "            self.cursor.execute(query,(name,age,kor,eng,math,id))\n",
        "            self.conn.commit()\n",
        "        except Error as e:\n",
        "            print(f\"학생데이터 업데이트 오류 {e}\")\n",
        "    def delte_student(self,id):\n",
        "        try:\n",
        "            query = \"\"\"\n",
        "                delete from students where id = %s\n",
        "            \"\"\"\n",
        "            self.cursor.execute(query, (id,) )\n",
        "            self.conn.commit()\n",
        "        except Error as e:\n",
        "            print(f\"학생데이터 삭제 오류 {e}\")\n",
        "\n",
        "def main():\n",
        "    st.title('학생관리 시스템')\n",
        "    # 새션 상태로 Db 연결 유지\n",
        "    if 'student_mng' not in st.session_state:\n",
        "        st.session_state['student_mng'] = StudentMng()\n",
        "        st.session_state['student_mng'].connection()\n",
        "    student_mng = st.session_state['student_mng']\n",
        "\n",
        "    # '사이드바 추가'\n",
        "    menu = st.sidebar.selectbox('메뉴',['홈','학생추가','학생조회','학생수정','학생삭제'])\n",
        "    if menu == '홈':\n",
        "        st.write('안녕하세요! 학생관리 시스템에 오신것을 환영합니다.')\n",
        "    else:\n",
        "        st.write(f'{menu}기능 개발중이에요...')\n",
        "    if st.sidebar.button('DB 연결 종료'):\n",
        "        student_mng.disconnect()\n",
        "        del st.session_state['student_mng']\n",
        "        st.write('db 연결을 종료합니다.')\n",
        "\n",
        "if __name__=='__main__':\n",
        "    main()"
      ],
      "metadata": {
        "id": "INkv_0DmW5h_"
      },
      "execution_count": null,
      "outputs": []
    },
    {
      "cell_type": "code",
      "source": [
        "!streamlit run app.py"
      ],
      "metadata": {
        "id": "StGo9uqoYkrL"
      },
      "execution_count": null,
      "outputs": []
    }
  ]
}