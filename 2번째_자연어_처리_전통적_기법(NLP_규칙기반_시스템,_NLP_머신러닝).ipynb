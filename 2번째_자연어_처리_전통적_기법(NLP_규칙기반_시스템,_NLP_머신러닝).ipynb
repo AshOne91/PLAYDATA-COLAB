{
  "nbformat": 4,
  "nbformat_minor": 0,
  "metadata": {
    "colab": {
      "provenance": [],
      "include_colab_link": true
    },
    "kernelspec": {
      "name": "python3",
      "display_name": "Python 3"
    },
    "language_info": {
      "name": "python"
    }
  },
  "cells": [
    {
      "cell_type": "markdown",
      "metadata": {
        "id": "view-in-github",
        "colab_type": "text"
      },
      "source": [
        "<a href=\"https://colab.research.google.com/github/AshOne91/PLAYDATA-COLAB/blob/main/2%EB%B2%88%EC%A7%B8_%EC%9E%90%EC%97%B0%EC%96%B4_%EC%B2%98%EB%A6%AC_%EC%A0%84%ED%86%B5%EC%A0%81_%EA%B8%B0%EB%B2%95(NLP_%EA%B7%9C%EC%B9%99%EA%B8%B0%EB%B0%98_%EC%8B%9C%EC%8A%A4%ED%85%9C%2C_NLP_%EB%A8%B8%EC%8B%A0%EB%9F%AC%EB%8B%9D).ipynb\" target=\"_parent\"><img src=\"https://colab.research.google.com/assets/colab-badge.svg\" alt=\"Open In Colab\"/></a>"
      ]
    },
    {
      "cell_type": "markdown",
      "source": [
        "셀프어텐션\n",
        "```\n",
        "사용이유?\n",
        "1. 위치에 상관없이 모든 토큰간의 관계를 학습\n",
        "2. 병렬 처리가 가능 효율적인 계산\n",
        "3. 장거리 의존성 문제를 해결(RNN 극복)\n",
        "4. 각 토큰이 다른 토큰관 얼마나 연관되어 있는지 가중치로 표현\n",
        "```"
      ],
      "metadata": {
        "id": "_smEWsPpPNj1"
      }
    },
    {
      "cell_type": "code",
      "source": [
        "import numpy as np\n",
        "import torch\n",
        "import torch.nn as nn\n",
        "import torch.nn.functional as F\n",
        "import matplotlib.pyplot as plt"
      ],
      "metadata": {
        "id": "oeJdwCQ9POcx"
      },
      "execution_count": null,
      "outputs": []
    },
    {
      "cell_type": "markdown",
      "source": [
        "어텐션\n",
        "```\n",
        "Query\n",
        "Key\n",
        "Value\n",
        "멀티헤드 어텐션 : 어텐션을 여러 번 병렬로 수행하는 구조\n",
        "1.각 헤드마다 Q K V를 독립적으로 선형 변환\n",
        "2. 독립적으로 어텐션을 계산\n",
        "3. 결과를 이어붙인 다음 선형변환\n",
        "```"
      ],
      "metadata": {
        "id": "c-bDV2YlRNjX"
      }
    },
    {
      "cell_type": "code",
      "source": [
        "class SelfAttention(nn.Module):\n",
        "  # embed_size : 임베딩 차원\n",
        "  # heads : 멀티 헤드 어텐션에서 사용할 헤드의 수\n",
        "  def __init__(self, embed_size, heads):\n",
        "    super().__init__()\n",
        "    self.embed_size = embed_size\n",
        "    self.heads = heads\n",
        "    self.head_dim = embed_size // heads\n",
        "    # embed_size 가 heads로 나누어 떨어지는지 확인\n",
        "    assert (self.head_dim * heads == embed_size), \"embed_size must be div by heads\"\n",
        "    # query key value에 대한 선형 변환\n",
        "    self.values = nn.Linear(self.head_dim, self.head_dim, bias=False)\n",
        "    self.keys = nn.Linear(self.head_dim, self.head_dim, bias=False)\n",
        "    self.queries = nn.Linear(self.head_dim, self.head_dim, bias=False)\n",
        "    self.fc_out = nn.Linear(heads * self.head_dim, embed_size)\n",
        "  def forward(self,values,keys,querys, mask= None):\n",
        "    '''\n",
        "      매개변수\n",
        "        values : (batch_size, seq_len, embed_size)\n",
        "        keys : (batch_size, seq_len, embed_size)\n",
        "        querys : (batch_size, seq_len, embed_size)\n",
        "        mask : 어텐션 마스크(선택적, 주로 패딩이나 미래 토큰을 가리는 데 사용)\n",
        "      반환\n",
        "        out: 어텐션 적용 결과 (batch_size, seq_len, embed_size)\n",
        "        attention_weights: 어텐션 가중치 맵(시각화용)\n",
        "    '''\n",
        "    # 1 배치크기 가져오기\n",
        "    N = querys.shape[0]\n",
        "    value_len, key_len, query_len = values.shape[1], keys.shape[1], querys.shape[1]\n",
        "    # 2. values,keys,queries를 여러 헤드로 분할\n",
        "    values = values.reshape(N, value_len, self.heads, self.head_dim)\n",
        "    keys = keys.reshape(N, key_len, self.heads, self.head_dim)\n",
        "    querys = querys.reshape(N, query_len, self.heads, self.head_dim)\n",
        "    # 3.선형 변환 적용\n",
        "    values = self.values(values)\n",
        "    keys = self.keys(keys)\n",
        "    querys = self.queries(querys)\n",
        "    # 4 어텐션 점수 계산  : query 와 key의 내적  query x key^t\n",
        "    # 각 헤드별로 query와 key이 내적(dot product)을 계산\n",
        "    # n 배치, q : 쿼리길이, h : 헤드수, d: 각 헤드의 임베딩 차원\n",
        "    energy = torch.einsum(\"nqhd,nkhd->nhqk\",[querys,keys])\n",
        "    # 5. 스케일링 : 이베딩 차원의 제곱근으로 나눔 --> 정규화\n",
        "    # softmax에 적용하기 전에  안정화를 위해서\n",
        "    scaled_energy = energy / (self.embed_size ** (1/2))\n",
        "    # 6. 마스크 적용\n",
        "    if mask is not None:\n",
        "      scaled_energy = scaled_energy.masked_fill(mask == 0, float(\"-1e20\"))\n",
        "    # 7. 소프트 맥스로 어텐션의 가중치 계산\n",
        "    attention_weights =  F.softmax(scaled_energy, dim=3)\n",
        "    # 8 가중치와 값 벡터 곱하기\n",
        "    out = torch.einsum(\"nhql,nlhd->nqhd\",[attention_weights,values])\n",
        "    # 9. 헤드 연결 및 원래 차원으로 재 구성\n",
        "    out = out.reshape(N, query_len, self.heads * self.head_dim)\n",
        "    # 10. 마지막 선형 변환\n",
        "    out = self.fc_out(out)\n",
        "    return out, attention_weights\n",
        "\n",
        "# 토큰화된 문장\n",
        "sentence = ['나는','학교에','갑니다','.','학교에서','공부를','합니다','나는','공부를','합니다']\n",
        "vocab = { word:idx for idx, word in  enumerate(set(sentence))}\n",
        "print(vocab)\n",
        "encoded = [vocab[token] for token in sentence]\n",
        "# 임베딩 차원을 8로 설정한 레이어\n",
        "embeding_size = 8\n",
        "embedding = nn.Embedding(len(vocab), embeding_size)\n",
        "# 토큰을 임베딩으로 변환\n",
        "token_embeddings = embedding(torch.tensor(encoded))\n",
        "# 배치차원 추가\n",
        "token_embeddings = token_embeddings.unsqueeze(0)  # 0,4,8\n",
        "# token_embeddings,sentence\n",
        "\n",
        "attention = SelfAttention(embed_size=8,heads=2)\n",
        "# 셀프어텐션에서는 query ,key ,value가 모두 동일한 입력\n",
        "output,attention_weights = attention(token_embeddings,token_embeddings,token_embeddings)\n",
        "print(f'입력형태 : {token_embeddings.shape}')\n",
        "print(f'출력형태 : {output.shape}')\n",
        "print(f'어텐션 가중치 : {attention_weights.shape}')  # [1, 2, 4, 4  각 헤드별 query-key간의 유사"
      ],
      "metadata": {
        "colab": {
          "base_uri": "https://localhost:8080/"
        },
        "id": "LhUfuJocbFZc",
        "outputId": "6f91a1fd-392e-4764-f64f-047dc93d8976"
      },
      "execution_count": null,
      "outputs": [
        {
          "output_type": "stream",
          "name": "stdout",
          "text": [
            "{'공부를': 0, '합니다': 1, '학교에': 2, '.': 3, '학교에서': 4, '나는': 5, '갑니다': 6}\n",
            "입력형태 : torch.Size([1, 10, 8])\n",
            "출력형태 : torch.Size([1, 10, 8])\n",
            "어텐션 가중치 : torch.Size([1, 2, 10, 10])\n"
          ]
        }
      ]
    },
    {
      "cell_type": "markdown",
      "source": [
        "어텐션 가중치 시각화 - 첫번째 헤드\n"
      ],
      "metadata": {
        "id": "Aqhxb9fdYnM1"
      }
    },
    {
      "cell_type": "code",
      "source": [
        "import sys\n",
        "# Google Colab 환경에서 실행 중인지 확인\n",
        "if 'google.colab' in sys.modules:\n",
        "    # debconf를 Noninteractive 모드로 설정\n",
        "    !echo 'debconf debconf/frontend select Noninteractive' | \\\n",
        "    debconf-set-selections\n",
        "\n",
        "    # fonts-nanum 패키지를 설치\n",
        "    !sudo apt-get -qq -y install fonts-nanum\n",
        "\n",
        "# Matplotlib의 폰트 매니저 가져오기\n",
        "import matplotlib.font_manager as fm\n",
        "\n",
        "# 나눔 폰트의 시스템 경로 찾기\n",
        "font_files = fm.findSystemFonts(fontpaths=['/usr/share/fonts/truetype/nanum'])\n",
        "\n",
        "# 찾은 각 나눔 폰트를 Matplotlib 폰트 매니저에 추가\n",
        "for fpath in font_files:\n",
        "    fm.fontManager.addfont(fpath)\n",
        "\n",
        "plt.rcParams['font.family'] = 'NanumGothic'    #사용 방법1\n",
        "plt.rc('font', family='NanumBarunGothic', size=11) #사용 방법2\n",
        "print(plt.rcParams['font.family'], plt.rcParams['font.size'])   # 폰트확인"
      ],
      "metadata": {
        "colab": {
          "base_uri": "https://localhost:8080/"
        },
        "id": "jf6D_YmZZKsg",
        "outputId": "d3956666-6798-4ac6-ff84-63b730929e77"
      },
      "execution_count": null,
      "outputs": [
        {
          "output_type": "stream",
          "name": "stdout",
          "text": [
            "Selecting previously unselected package fonts-nanum.\n",
            "(Reading database ... 124947 files and directories currently installed.)\n",
            "Preparing to unpack .../fonts-nanum_20200506-1_all.deb ...\n",
            "Unpacking fonts-nanum (20200506-1) ...\n",
            "Setting up fonts-nanum (20200506-1) ...\n",
            "Processing triggers for fontconfig (2.13.1-4.2ubuntu5) ...\n",
            "['NanumBarunGothic'] 11.0\n"
          ]
        }
      ]
    },
    {
      "cell_type": "code",
      "source": [
        "weights = attention_weights[0,0].detach().numpy()\n",
        "plt.imshow(weights)\n",
        "plt.xticks(range(len(sentence)),sentence,rotation=45)\n",
        "plt.yticks(range(len(sentence)),sentence)\n",
        "plt.colorbar()\n",
        "plt.show()"
      ],
      "metadata": {
        "colab": {
          "base_uri": "https://localhost:8080/",
          "height": 468
        },
        "collapsed": true,
        "id": "7udJD64zYsNF",
        "outputId": "3ffe9187-dc19-457f-c64e-ab48673fc846"
      },
      "execution_count": null,
      "outputs": [
        {
          "output_type": "display_data",
          "data": {
            "text/plain": [
              "<Figure size 640x480 with 2 Axes>"
            ],
            "image/png": "[encoded data removed]"
          },
          "metadata": {}
        }
      ]
    },
    {
      "cell_type": "code",
      "source": [
        "for i, q_word in enumerate(sentence):\n",
        "  attended = [(sentence[j],round(weights[i][j],2) )  for j in range(len(sentence))]\n",
        "  attended.sort(key=lambda x:x[1],reverse=True)\n",
        "  print(f'{q_word} 에 대한 어텐션 : {attended}')\n"
      ],
      "metadata": {
        "colab": {
          "base_uri": "https://localhost:8080/"
        },
        "id": "eJqDyAaddyz0",
        "outputId": "625ffde4-b43d-44cc-8938-74c7a159d85b"
      },
      "execution_count": null,
      "outputs": [
        {
          "output_type": "stream",
          "name": "stdout",
          "text": [
            "나는 에 대한 어텐션 : [('학교에서', 0.12), ('.', 0.11), ('공부를', 0.11), ('공부를', 0.11), ('학교에', 0.1), ('나는', 0.09), ('갑니다', 0.09), ('합니다', 0.09), ('나는', 0.09), ('합니다', 0.09)]\n",
            "학교에 에 대한 어텐션 : [('갑니다', 0.11), ('공부를', 0.11), ('공부를', 0.11), ('나는', 0.1), ('학교에', 0.1), ('.', 0.1), ('학교에서', 0.1), ('나는', 0.1), ('합니다', 0.09), ('합니다', 0.09)]\n",
            "갑니다 에 대한 어텐션 : [('학교에', 0.11), ('갑니다', 0.11), ('학교에서', 0.11), ('공부를', 0.11), ('공부를', 0.11), ('.', 0.1), ('나는', 0.09), ('나는', 0.09), ('합니다', 0.08), ('합니다', 0.08)]\n",
            ". 에 대한 어텐션 : [('합니다', 0.12), ('합니다', 0.12), ('나는', 0.11), ('나는', 0.11), ('학교에', 0.1), ('갑니다', 0.1), ('.', 0.1), ('학교에서', 0.09), ('공부를', 0.08), ('공부를', 0.08)]\n",
            "학교에서 에 대한 어텐션 : [('나는', 0.1), ('학교에', 0.1), ('갑니다', 0.1), ('공부를', 0.1), ('합니다', 0.1), ('나는', 0.1), ('공부를', 0.1), ('합니다', 0.1), ('.', 0.09), ('학교에서', 0.09)]\n",
            "공부를 에 대한 어텐션 : [('공부를', 0.18), ('공부를', 0.18), ('학교에', 0.1), ('갑니다', 0.1), ('학교에서', 0.09), ('나는', 0.08), ('나는', 0.08), ('.', 0.07), ('합니다', 0.06), ('합니다', 0.06)]\n",
            "합니다 에 대한 어텐션 : [('.', 0.11), ('학교에서', 0.11), ('합니다', 0.11), ('합니다', 0.11), ('나는', 0.1), ('학교에', 0.1), ('나는', 0.1), ('갑니다', 0.09), ('공부를', 0.09), ('공부를', 0.09)]\n",
            "나는 에 대한 어텐션 : [('학교에서', 0.12), ('.', 0.11), ('공부를', 0.11), ('공부를', 0.11), ('학교에', 0.1), ('나는', 0.09), ('갑니다', 0.09), ('합니다', 0.09), ('나는', 0.09), ('합니다', 0.09)]\n",
            "공부를 에 대한 어텐션 : [('공부를', 0.18), ('공부를', 0.18), ('학교에', 0.1), ('갑니다', 0.1), ('학교에서', 0.09), ('나는', 0.08), ('나는', 0.08), ('.', 0.07), ('합니다', 0.06), ('합니다', 0.06)]\n",
            "합니다 에 대한 어텐션 : [('.', 0.11), ('학교에서', 0.11), ('합니다', 0.11), ('합니다', 0.11), ('나는', 0.1), ('학교에', 0.1), ('나는', 0.1), ('갑니다', 0.09), ('공부를', 0.09), ('공부를', 0.09)]\n"
          ]
        }
      ]
    },
    {
      "cell_type": "markdown",
      "source": [],
      "metadata": {
        "id": "b7yrCWZghpSt"
      }
    },
    {
      "cell_type": "code",
      "source": [
        "# 셀프어텐션 구조를 이용해서\n",
        "# 문장내의 단어들간의 중요도를 히트맵으로 시각화 하고\n",
        "# 특정 단어를 입력했을때 그 단어와 가장중한 단어 top 5 출력\n",
        "\n",
        "# 작업순서\n",
        "# 한글문장(기사나 기타등등..) -> 전처리 -> 토큰화 -> 단어임베딩(단어:고유값) -> 셀프어텐션 적용"
      ],
      "metadata": {
        "id": "lNf_yZUEes5F"
      },
      "execution_count": null,
      "outputs": []
    },
    {
      "cell_type": "code",
      "source": [
        "new_text = '''\n",
        "샌프란시스코 자이언츠 이정후(27)가 메이저리그 통산 105승에 빛나는 콜롬비아 출신 베테랑 좌완 호세 퀸타나(36·밀워키 브루어스)에게 꽁꽁 묶였다. 퀸타나는 다른 타자들에게 던지지 않은 슬러브로 이정후의 타이밍을 무너뜨렸다.\n",
        "\n",
        "이정후는 23일(이하 한국시간) 미국 캘리포니아주 샌프란시스코 오라클파크에서 치러진 2025 메이저리그 밀워키와의 홈경기에 3번 타자 중견수로 선발 출장, 4타수 무안타 1볼넷을 기록했다.\n",
        "\n",
        "\n",
        "2경기 연속 출루에 성공했으나 안타를 치지 못한 이정후는 시즌 타율이 3할2푼9리에서 3할1푼5리(89타수 28안타)로 떨어졌다. OPS는 .983에서 .947로 내려왔다.\n",
        "\n",
        "밀워키 선발로 나온 콜롬비아 출신 베테랑 좌완 퀸타나에게 당한 경기였다. 1회말 2사 주자 없는 첫 타석에서 퀸타나를 상대한 이정후는 유격수 내야 뜬공으로 물러났다. 볼카운트 1-2에서 5구째 바깥쪽 낮은 시속 77.3마일(124.4km) 슬러브에 타이밍을 빼앗기며 팝플라이가 나왔다.\n",
        "\n",
        "3회말 2사 1,3루 찬스에선 헛스윙 삼진을 당했다. 초구 몸쪽 높은 싱커에 몸을 피하면서 헛스윙이 나온 이정후는 2구째 바깥쪽 존에 들어온 싱커를 지켜보며 투스트라이크를 먹었다. 3구째 볼을 골라내고, 4구째 몸쪽 싱커를 파울로 커트했지만 5구째 퀸타나의 바깥쪽 낮게 원바운드로 떨어진 시속 78.5마일(126.3km) 슬러브에 배트가 헛돌았다. 이정후답지 않게 배트와 공 차이가 큰 헛스윙. 주자 2명이 잔루로 남았다.\n",
        "\n",
        "[사진] 밀워키 호세 퀸타나. ⓒGettyimages(무단전재 및 재배포 금지)\n",
        "\n",
        "[사진] 밀워키 호세 퀸타나. ⓒGettyimages(무단전재 및 재배포 금지)\n",
        "스코어가 1-11로 크게 벌어진 6회말 세 번째 타석에서도 이정후는 퀸타나 공략에 실패했다. 초구 스트라이크를 지켜본 뒤 2구째 볼을 골라낸 이정후는 3구째 바깥쪽 낮은 시속 78.5마일(126.3km) 슬러브를 잡아당겼지만 1루 땅볼로 선행 주자가 2루에서 포스 아웃됐다.\n",
        "\n",
        "8회말에도 이정후는 좌완 투수를 상대했다. 밀워키 좌완 불펜 브라이언 허드슨을 상대로 8구 승부 끝에 볼넷으로 출루하며 1루를 밟았다. 1~3구 연속 볼을 본 이정후는 4~5구 연속 스트라이크를 지켜봤다. 풀카운트에서 6~7구 연속 파울 커트 이후 8구째 바깥쪽 낮은 볼을 골라내며 1루로 걸어나갔다. 이어 크리스티안 코스의 몸에 맞는 볼로 2루에 진루한 이정후는 윌머 플로레스의 우전 적시타 때 홈을 밟아 득점을 올렸다.\n",
        "\n",
        "9회말 2사 1,2루 마지막 타석에선 우익수 뜬공으로 물러나며 이날 경기 마지막 아웃카운트를 기록했다. 밀워키 우완 조엘 파이암프스의 초구 몸쪽 높은 시속 94.7마일(152.4km) 포심 패스트볼을 받아쳤지만 높게 떴다.\n",
        "\n",
        "[사진] 샌프란시스코 조던 힉스. ⓒGettyimages(무단전재 및 재배포 금지)\n",
        "\n",
        "[사진] 샌프란시스코 조던 힉스. ⓒGettyimages(무단전재 및 재배포 금지)\n",
        "이날 경기는 샌프란시스코가 3-11 대패를 당했다. 선발투수 조던 힉스가 5이닝 8피안타 3볼넷 5탈삼진 6실점(5자책)으로 무너지며 시즌 3패(1승)째 안았다. 두 번째 투수 루 트리비노가 ⅔이닝 3피안타(2피홈런) 1볼넷 5실점 난타를 당하면서 6회초 8실점 빅이닝을 허용했다.\n",
        "\n",
        "밀워키 선발 퀸타나가 6이닝 6피안타 2볼넷 3탈삼진 1실점 호투로 승리투수가 됐다. 최고 시속 92.2마일(148.4km), 평균 90.5마일(145.6km) 싱커(36개)를 비롯해 체인지업(29개), 커브, 포심 패스트볼(이상 12개), 슬러브(5개)를 구사했다. 슬러브를 5개만 던졌는데 전부 이정후 상대로만 쓰며 타이밍 뺴앗는데 주력했다. 시즌 3승째이자 개인 통산 105승째를 거둔 퀸타나는 시즌 평균자책점 0점대(0.71→0.96)를 유지했다.\n",
        "\n",
        "밀워키 타선에선 크리스티안 옐리치가 시즌 5호 홈런 포함 5타수 2안타 4타점으로 맹타를 휘둘렀다. 밀워키는 13승11패, 샌프란시스코는 15승9패가 됐다\n",
        "'''"
      ],
      "metadata": {
        "id": "QfRTJqT5k4o7"
      },
      "execution_count": null,
      "outputs": []
    },
    {
      "cell_type": "code",
      "source": [
        "!pip install konlpy"
      ],
      "metadata": {
        "colab": {
          "base_uri": "https://localhost:8080/"
        },
        "collapsed": true,
        "id": "jSZ689APlVa8",
        "outputId": "ca28099e-1ce3-4834-f3bf-3d2017fb5bea"
      },
      "execution_count": null,
      "outputs": [
        {
          "output_type": "stream",
          "name": "stdout",
          "text": [
            "Collecting konlpy\n",
            "  Downloading konlpy-0.6.0-py2.py3-none-any.whl.metadata (1.9 kB)\n",
            "Collecting JPype1>=0.7.0 (from konlpy)\n",
            "  Downloading jpype1-1.5.2-cp311-cp311-manylinux_2_17_x86_64.manylinux2014_x86_64.whl.metadata (4.9 kB)\n",
            "Requirement already satisfied: lxml>=4.1.0 in /usr/local/lib/python3.11/dist-packages (from konlpy) (5.3.1)\n",
            "Requirement already satisfied: numpy>=1.6 in /usr/local/lib/python3.11/dist-packages (from konlpy) (1.26.4)\n",
            "Requirement already satisfied: packaging in /usr/local/lib/python3.11/dist-packages (from JPype1>=0.7.0->konlpy) (24.2)\n",
            "Downloading konlpy-0.6.0-py2.py3-none-any.whl (19.4 MB)\n",
            "\u001b[2K   \u001b[90m━━━━━━━━━━━━━━━━━━━━━━━━━━━━━━━━━━━━━━━━\u001b[0m \u001b[32m19.4/19.4 MB\u001b[0m \u001b[31m90.5 MB/s\u001b[0m eta \u001b[36m0:00:00\u001b[0m\n",
            "\u001b[?25hDownloading jpype1-1.5.2-cp311-cp311-manylinux_2_17_x86_64.manylinux2014_x86_64.whl (494 kB)\n",
            "\u001b[2K   \u001b[90m━━━━━━━━━━━━━━━━━━━━━━━━━━━━━━━━━━━━━━━━\u001b[0m \u001b[32m494.1/494.1 kB\u001b[0m \u001b[31m36.1 MB/s\u001b[0m eta \u001b[36m0:00:00\u001b[0m\n",
            "\u001b[?25hInstalling collected packages: JPype1, konlpy\n",
            "Successfully installed JPype1-1.5.2 konlpy-0.6.0\n"
          ]
        }
      ]
    },
    {
      "cell_type": "code",
      "source": [
        "# 전처리\n",
        "from konlpy.tag import Okt\n",
        "import re\n",
        "# 한글만 추출\n",
        "new_text = re.sub(r'[^ㄱ-ㅎ가-힣\\s]','',new_text)\n",
        "new_text = re.sub(r'\\n|\\r\\n','',new_text)\n",
        "okt = Okt()\n",
        "sentence = [word for word in okt.nouns(new_text) if len(word) >=2]\n",
        "vocab = {word:i for i , word in enumerate(set(sentence))}\n",
        "encoded = [vocab[token] for token in sentence]\n",
        "print(len(encoded))\n",
        "# 임베딩 차원을 8로 설정한 레이어\n",
        "embeding_size = 8\n",
        "embedding = nn.Embedding(len(vocab), embeding_size)\n",
        "# 토큰을 임베딩으로 변환\n",
        "token_embeddings = embedding(torch.tensor(encoded))\n",
        "# 배치차원 추가\n",
        "token_embeddings = token_embeddings.unsqueeze(0)\n",
        "print(token_embeddings.shape)\n",
        "# token_embeddings,sentence\n",
        "attention = SelfAttention(embed_size=8,heads=2)\n",
        "# 셀프어텐션에서는 query ,key ,value가 모두 동일한 입력\n",
        "output,attention_weights = attention(token_embeddings,token_embeddings,token_embeddings)\n",
        "print(f'입력형태 : {token_embeddings.shape}')\n",
        "print(f'출력형태 : {output.shape}')\n",
        "print(f'어텐션 가중치 : {attention_weights.shape}')  # [1, 2, vocab_size, vocab_size  각 헤드별 query-key간의 유사"
      ],
      "metadata": {
        "colab": {
          "base_uri": "https://localhost:8080/"
        },
        "collapsed": true,
        "id": "Iap-2CjBk6li",
        "outputId": "bf98c95b-b89a-413d-d723-ab85654eab49"
      },
      "execution_count": null,
      "outputs": [
        {
          "output_type": "stream",
          "name": "stdout",
          "text": [
            "290\n",
            "torch.Size([1, 290, 8])\n",
            "입력형태 : torch.Size([1, 290, 8])\n",
            "출력형태 : torch.Size([1, 290, 8])\n",
            "어텐션 가중치 : torch.Size([1, 2, 290, 290])\n"
          ]
        }
      ]
    },
    {
      "cell_type": "code",
      "source": [
        "# 문장내의 단어들간의 중요도를 히트맵으로 시각화 하고\n",
        "weights = attention_weights[0,0].detach().numpy()\n",
        "w = weights[:10,:10]\n",
        "plt.imshow(w)\n",
        "plt.xticks(range(len(sentence[:10])),sentence[:10],rotation=45)\n",
        "plt.yticks(range(len(sentence[:10])),sentence[:10])\n",
        "plt.colorbar()\n",
        "plt.show()"
      ],
      "metadata": {
        "colab": {
          "base_uri": "https://localhost:8080/",
          "height": 485
        },
        "id": "rbm9tM3mr0SI",
        "outputId": "0f7f338d-9158-4a40-ae35-b0fcf0312622"
      },
      "execution_count": null,
      "outputs": [
        {
          "output_type": "display_data",
          "data": {
            "text/plain": [
              "<Figure size 640x480 with 2 Axes>"
            ],
            "image/png": "[encoded data removed]"
          },
          "metadata": {}
        }
      ]
    },
    {
      "cell_type": "code",
      "source": [
        "# 특정 단어를 입력했을때 그 단어와 가장중한 단어 top 5 출력\n",
        "q_word = '중견수'\n",
        "assert(q_word in sentence),\"찾고자 하는 단어가 없습니다.\"\n",
        "i = np.where(np.array(sentence) == q_word)[0][0]\n",
        "attended = [(sentence[j],weights[i][j] )  for j in range(len(sentence))]\n",
        "attended.sort(key=lambda x:x[1],reverse=True)\n",
        "print(f'{q_word} 에 대한 top 10 \\n : {attended[:10]}')"
      ],
      "metadata": {
        "colab": {
          "base_uri": "https://localhost:8080/"
        },
        "collapsed": true,
        "id": "n94WavybsQkt",
        "outputId": "abfd8299-0536-4065-8f91-5187ca83db2e"
      },
      "execution_count": null,
      "outputs": [
        {
          "output_type": "stream",
          "name": "stdout",
          "text": [
            "중견수 에 대한 top 10 \n",
            " : [('초구', 0.004216942), ('초구', 0.004216942), ('초구', 0.004216942), ('이상', 0.004210847), ('패승', 0.0041930834), ('바운드', 0.0040902006), ('시속', 0.004080972), ('시속', 0.004080972), ('시속', 0.004080972), ('시속', 0.004080972)]\n"
          ]
        }
      ]
    },
    {
      "cell_type": "code",
      "source": [
        "q_word in sentence"
      ],
      "metadata": {
        "colab": {
          "base_uri": "https://localhost:8080/"
        },
        "collapsed": true,
        "id": "f58vWB70t0_w",
        "outputId": "d57d8678-e740-4210-9f5f-6180c6dd1473"
      },
      "execution_count": null,
      "outputs": [
        {
          "output_type": "execute_result",
          "data": {
            "text/plain": [
              "True"
            ]
          },
          "metadata": {},
          "execution_count": 83
        }
      ]
    },
    {
      "cell_type": "code",
      "source": [],
      "metadata": {
        "id": "DGFAiBsht2Cv"
      },
      "execution_count": null,
      "outputs": []
    }
  ]
}