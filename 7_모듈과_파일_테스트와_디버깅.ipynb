{
  "nbformat": 4,
  "nbformat_minor": 0,
  "metadata": {
    "colab": {
      "provenance": [],
      "include_colab_link": true
    },
    "kernelspec": {
      "name": "python3",
      "display_name": "Python 3"
    },
    "language_info": {
      "name": "python"
    }
  },
  "cells": [
    {
      "cell_type": "markdown",
      "metadata": {
        "id": "view-in-github",
        "colab_type": "text"
      },
      "source": [
        "<a href=\"https://colab.research.google.com/github/AshOne91/PLAYDATA-COLAB/blob/main/7_%EB%AA%A8%EB%93%88%EA%B3%BC_%ED%8C%8C%EC%9D%BC_%ED%85%8C%EC%8A%A4%ED%8A%B8%EC%99%80_%EB%94%94%EB%B2%84%EA%B9%85.ipynb\" target=\"_parent\"><img src=\"https://colab.research.google.com/assets/colab-badge.svg\" alt=\"Open In Colab\"/></a>"
      ]
    },
    {
      "cell_type": "markdown",
      "source": [
        "```\n",
        "모듈\n",
        "   파이썬 코드를 가지고 있는 .py 파일\n",
        "   재사용 가능한 함수, 클래스 ,변수를 포함\n",
        "   import 로 다른 파일의 코드를 가져와서 사용\n",
        "```"
      ],
      "metadata": {
        "id": "0eBDeQE__acD"
      }
    },
    {
      "cell_type": "code",
      "source": [
        "# 모듈의 사용 예\n",
        "import random\n",
        "random.randint(1,101)"
      ],
      "metadata": {
        "colab": {
          "base_uri": "https://localhost:8080/"
        },
        "id": "lx0eG797Bgxo",
        "outputId": "d919c63e-3c45-4307-d5ed-e598319ec6b7"
      },
      "execution_count": null,
      "outputs": [
        {
          "output_type": "execute_result",
          "data": {
            "text/plain": [
              "71"
            ]
          },
          "metadata": {},
          "execution_count": 1
        }
      ]
    },
    {
      "cell_type": "code",
      "source": [
        "# /content/drive/MyDrive/module/myModule.py  --> 파일 생성\n",
        "# 구글드라이브에 있는 py파일을 import 하기\n",
        "# 모듈경로를 python 경로에 추가\n",
        "import sys\n",
        "sys.path.append('/content/drive/MyDrive/module')"
      ],
      "metadata": {
        "id": "5vji4VqYCOv6"
      },
      "execution_count": null,
      "outputs": []
    },
    {
      "cell_type": "markdown",
      "source": [
        "# student.py에 파일저장을 위해서 dict 구조 생성 및 변환기능 추가\n",
        "  - 데이터를 파일에 저장하고 불러오기"
      ],
      "metadata": {
        "id": "JrTAPrYtLr1j"
      }
    },
    {
      "cell_type": "markdown",
      "source": [
        "```\n",
        "student.py\n",
        "\n",
        "class Student:\n",
        "  def __init__(self,name,age,scores):\n",
        "    self.name = name\n",
        "    self.age = age\n",
        "    self.scores = scores\n",
        "  def get_average(self):\n",
        "    return sum( self.scores.values() ) / len(self.scores)\n",
        "  def __str__(self) -> str:\n",
        "    return f'{self.name} {self.age} {self.scores}'    \n",
        "  # 저장을 위해서 데이터를 dict 구조로 만듦  - json형태\n",
        "  def to_dict(self):\n",
        "    return { \"name\":self.name, \"age\":self.age, 'scores':self.scores  }\n",
        "  \n",
        "  @classmethod  # 1, 클래스변수를 다루기위해서, 2.객체를 통하지 않아도 되는 메소드\n",
        "  def from_dict(cls,data):\n",
        "    return cls(data['name'], data['age'], data['scores'])\n",
        "```"
      ],
      "metadata": {
        "id": "t4-rbxf8K0Ur"
      }
    },
    {
      "cell_type": "markdown",
      "source": [
        "```\n",
        "# 파일생성 및 불러오기\n",
        "# import json  --> 문자열 형태의 dict 구조를 실제 dict 로 변환\n",
        "import sys\n",
        "sys.path.append('/content/drive/MyDrive/module')  # 드라이브 경로를 시스템 path에 저장\n",
        "\n",
        "import json  # 딕셔너리 형태의 객체를 문자열로 저장하고 다시 객로 만듦\n",
        "from student import Student  # 우리가만 든 student.py의 내용을 가져옮\n",
        "\n",
        "# 학생객체를 파일에 저장 함수\n",
        "# students = [s1,s2 ....]\n",
        "# 객체의 모든 데이터를 딕셔너리로 변환한후 json을 이용해서 문자열형태로 파일에 저장\n",
        "def save_students(students, filename = '/content/drive/MyDrive/data/student.json'):\n",
        "  data = [  student.to_dict() for student in students  ]\n",
        "  with open(filename,'w',encoding='utf-8') as f:\n",
        "    json.dump(data,f,ensure_ascii=False,indent=2)\n",
        "\n",
        "# json형태(문자열로 된 dict)된 문자열을 읽어서 실제 객체로 반환 --> 리스트\n",
        "def load_students(filename = '/content/drive/MyDrive/data/student.json'):\n",
        "  with open(filename,'r',encoding='utf-8') as f:\n",
        "    data = json.load(f)  # 딕셔너리들을 포함하는 리스트\n",
        "  return [ Student.from_dict(student) for student in data ]  # [{},{},{}]  Student( , , ,) --> [객체,객체]\n",
        "\n",
        "# 사용\n",
        "s1 = Student('홍길동',20,{'kor':100,'eng':98,'math':95})\n",
        "s2 = Student('이순신',20,{'kor':99,'eng':88,'math':75})\n",
        "students = [s1,s2]\n",
        "save_students(students)  # 객체 데이터를 파일로 저장\n",
        "# 불러오기\n",
        "loaded_student = load_students()\n",
        "for student in loaded_student:\n",
        "  print(student)  # __str__\n",
        "```"
      ],
      "metadata": {
        "id": "4Qt18gUiPdoc"
      }
    },
    {
      "cell_type": "markdown",
      "source": [
        "# 저장 및 불러오기 기능을 모듈화  storage.py"
      ],
      "metadata": {
        "id": "jS0r_GU-bCGm"
      }
    },
    {
      "cell_type": "markdown",
      "source": [
        "```\n",
        "storage.py\n",
        "\n",
        "# 객체의 모든 데이터를 딕셔너리로 변환한후 json을 이용해서 문자열형태로 파일에 저장\n",
        "import json\n",
        "def save_students(students, filename = '/content/drive/MyDrive/data/student.json'):\n",
        "  data = [  student.to_dict() for student in students  ]\n",
        "  with open(filename,'w',encoding='utf-8') as f:\n",
        "    json.dump(data,f,ensure_ascii=False,indent=2)\n",
        "\n",
        "# json형태(문자열로 된 dict)된 문자열을 읽어서 실제 객체로 반환 --> 리스트\n",
        "def load_students(filename = '/content/drive/MyDrive/data/student.json'):\n",
        "  with open(filename,'r',encoding='utf-8') as f:\n",
        "    data = json.load(f)  # 딕셔너리들을 포함하는 리스트\n",
        "  return data\n",
        "\n",
        "```"
      ],
      "metadata": {
        "id": "r5OWfXt2eeTm"
      }
    },
    {
      "cell_type": "code",
      "source": [
        "import sys\n",
        "sys.path.append('/content/drive/MyDrive/module')\n",
        "from student import Student\n",
        "from storage import save_students, load_students\n",
        "\n",
        "# 학생 객체 생성\n",
        "students = [\n",
        "  Student('홍길동',20,{'kor':100,'eng':98,'math':95}),\n",
        "  Student('이순신',20,{'kor':99,'eng':88,'math':75}),\n",
        "  Student('유관순',20,{'kor':88,'eng':77,'math':66}),\n",
        "  Student('강감찬',20,{'kor':77,'eng':66,'math':55}),\n",
        "  Student('김유신',20,{'kor':66,'eng':55,'math':44}),\n",
        "]\n",
        "save_students(students)"
      ],
      "metadata": {
        "id": "Sv84hPO7a-6O"
      },
      "execution_count": null,
      "outputs": []
    },
    {
      "cell_type": "code",
      "source": [
        "# 데이터 불러오기\n",
        "loaded_students = load_students()\n",
        "for student in loaded_students:\n",
        "  print(student)"
      ],
      "metadata": {
        "colab": {
          "base_uri": "https://localhost:8080/"
        },
        "id": "LwBKrYwKb6lF",
        "outputId": "fe3366ae-5300-41b8-df8c-1ac9405cfd32"
      },
      "execution_count": null,
      "outputs": [
        {
          "output_type": "stream",
          "name": "stdout",
          "text": [
            "{'name': '홍길동', 'age': 20, 'scores': {'kor': 100, 'eng': 98, 'math': 95}}\n",
            "{'name': '이순신', 'age': 20, 'scores': {'kor': 99, 'eng': 88, 'math': 75}}\n",
            "{'name': '유관순', 'age': 20, 'scores': {'kor': 88, 'eng': 77, 'math': 66}}\n",
            "{'name': '강감찬', 'age': 20, 'scores': {'kor': 77, 'eng': 66, 'math': 55}}\n",
            "{'name': '김유신', 'age': 20, 'scores': {'kor': 66, 'eng': 55, 'math': 44}}\n"
          ]
        }
      ]
    },
    {
      "cell_type": "markdown",
      "source": [
        "# 테스트\n",
        "  - 코드가 예상대로 동작하는 확인하는 과정\n",
        "  - 다양한 도구\n",
        "     - unitest 모듈  : 단위테스트"
      ],
      "metadata": {
        "id": "8GssoUHyfEzu"
      }
    },
    {
      "cell_type": "code",
      "source": [
        "# unittest로 Student 클래스 테스트\n",
        "import sys\n",
        "sys.path.append('/content/drive/MyDrive/module')\n",
        "\n",
        "import unittest\n",
        "from student import Student\n",
        "class TestStudent(unittest.TestCase):\n",
        "  def test_get_average(self):\n",
        "    student = Student('홍길동',20,{'kor':100,'eng':98,'math':95})\n",
        "    self.assertEqual(round(student.get_average()),98)  # 테스트 코드\n",
        "  def test_str(self):\n",
        "    student = Student('홍길동',20,{'kor':100,'eng':98,'math':95})\n",
        "    self.assertEqual(str(student),\"홍길동 20 {'kor': 100, 'eng': 98, 'math': 95}\")\n",
        "    self.assertIn('홍길동',str(student))\n",
        "  def test_to_dict(self):\n",
        "    student = Student('홍길동',20,{'kor':100,'eng':98,'math':95})\n",
        "    self.assertEqual(student.to_dict(),\n",
        "     {'name': '홍길동', 'age': 20, 'scores': {'kor': 100, 'eng': 98, 'math': 95}}\n",
        "                     )\n",
        "\n",
        "# __name__  해당 변수가 적용된 곳이 모듈이 아니면 __main__을 출력하고 이 코드가\n",
        "# 모듈에서 작성되었다면 __모듈명__ 출력\n",
        "# if __name__ == '__main__':    모듈을 만들고 해당모듈을 해당 py파일에서 동작 테스트할때 사용\n",
        "\n",
        "if __name__ == '__main__':\n",
        "  unittest.main(argv=[''], exit=False)  # 코렙셀이 종료되지 않도록"
      ],
      "metadata": {
        "colab": {
          "base_uri": "https://localhost:8080/"
        },
        "id": "0dyiemKhjU2S",
        "outputId": "f2edb91c-a3b3-4fa7-f773-ba2008b15a79"
      },
      "execution_count": null,
      "outputs": [
        {
          "output_type": "stream",
          "name": "stderr",
          "text": [
            "...\n",
            "----------------------------------------------------------------------\n",
            "Ran 3 tests in 0.003s\n",
            "\n",
            "OK\n"
          ]
        }
      ]
    },
    {
      "cell_type": "markdown",
      "source": [
        "```\n",
        "- 정리\n",
        "  - 모듈\n",
        "    - py로 되어 있는 파일을 외부 다른파일에서 import 파일명\n",
        "    - 파일명이 모듈명\n",
        "    - 코렙에서는 세션을 초기화 해야 모듈이 변경된 것을 인식\n",
        "    - 구글 드라이브에 모듈을 정의하고 사용하려면 시스템 path에 모듈 경로를 저장해야 한다\n",
        "  - 단위테스트\n",
        "  - 디버깅의 의미\n",
        "    - 가장오래되고 간단한 디버깅은 print를 활용해서 중간 결과를 확인\n",
        "    - VisualStudioCode 와 같은 IDE 에서 제공하는 디버깅 기능을 이용한다\n",
        "  - 데이터를 보전하기 위해서 파일에 객체를 저장하고 객체로 불러오기\n",
        "    - json을 이용해서 가능\n",
        "      - key:value형태로 이루어진 집합으로 문자열형태로 되어 있다\n",
        "```"
      ],
      "metadata": {
        "id": "D0WrDjIYq49Q"
      }
    },
    {
      "cell_type": "code",
      "source": [
        "# 예외처리\n",
        "# 패키지 - 모듈의 집합\n",
        "# Streamit - 웹 GUI"
      ],
      "metadata": {
        "id": "NAlKYb6fkES5"
      },
      "execution_count": null,
      "outputs": []
    },
    {
      "cell_type": "markdown",
      "source": [
        "```\n",
        "예외처리\n",
        "  try         : 예외를 처리하는 코드 블럭\n",
        "  except      : 예외를 잡아서 처리 블럭\n",
        "  else        : 예외가 발생하지 않았을때 처리 블럭\n",
        "  finally     : 예외가 발생하던 안하던 항상 처리되는 블럭  \n",
        "  raise       : 의도적으로 예외발생\n",
        "```"
      ],
      "metadata": {
        "id": "D2-W2vkR_Yws"
      }
    },
    {
      "cell_type": "code",
      "source": [
        "score = []\n",
        "try:\n",
        "  avg = sum(score) / len(score)\n",
        "  print(f'평균은 : {avg:.2f}')\n",
        "# except Exception as e:  # 모든 csae Exception을 받아서 처리\n",
        "except ZeroDivisionError:\n",
        "  print('점수가 없어서 0으로 나눌수 없습니다.')"
      ],
      "metadata": {
        "colab": {
          "base_uri": "https://localhost:8080/"
        },
        "id": "ScOC5PRB_iPD",
        "outputId": "5cbab7e3-1831-4dfe-b3c2-db7527adb7f6"
      },
      "execution_count": null,
      "outputs": [
        {
          "output_type": "stream",
          "name": "stdout",
          "text": [
            "점수가 없어서 0으로 나눌수 없습니다.\n"
          ]
        }
      ]
    },
    {
      "cell_type": "code",
      "source": [
        "# 여러 예외가 발생가능할때\n",
        "score = [10,20]\n",
        "try:\n",
        "  avg = sum(score) / len(score)\n",
        "  print(f'평균은 : {avg:.2f}')\n",
        "  print(score[0])\n",
        "  with open('울라라.txt','r') as f:\n",
        "    print(f.read())\n",
        "# except Exception as e:  # 모든 csae Exception을 받아서 처리\n",
        "except ZeroDivisionError:\n",
        "  print('점수가 없어서 0으로 나눌수 없습니다.')\n",
        "except IndexError:\n",
        "  print('인덱스의 유효범위가 아닙니다.')\n",
        "except Exception as e:\n",
        "  print(e)\n",
        "\n",
        "\n",
        "print(\"이문장이 보인다면 정상적으로 종료된 것입니다.\")"
      ],
      "metadata": {
        "colab": {
          "base_uri": "https://localhost:8080/"
        },
        "id": "A0JOhZY2Afr9",
        "outputId": "24e75556-af01-49c7-be69-64679dae3a55"
      },
      "execution_count": null,
      "outputs": [
        {
          "output_type": "stream",
          "name": "stdout",
          "text": [
            "평균은 : 15.00\n",
            "10\n",
            "[Errno 2] No such file or directory: '울라라.txt'\n",
            "이문장이 보인다면 정상적으로 종료된 것입니다.\n"
          ]
        }
      ]
    },
    {
      "cell_type": "markdown",
      "source": [
        "# else , finally"
      ],
      "metadata": {
        "id": "tEBS9tP5EY81"
      }
    },
    {
      "cell_type": "code",
      "source": [
        "def get_average(score):\n",
        "  try:\n",
        "    total = sum(score)\n",
        "    count = len(score)\n",
        "    result = total / count\n",
        "  except ZeroDivisionError:\n",
        "    print('점수가 없으면 안됩니다.')\n",
        "    return None\n",
        "  except Exception as e:\n",
        "    print(e)\n",
        "    return None\n",
        "  else:  # 예외가 발생하지 않으면 실행되는 블럭\n",
        "    print('평균 계산완료')\n",
        "    return result\n",
        "  finally:\n",
        "    print('평균계산 시도 완료')"
      ],
      "metadata": {
        "id": "D93O0X5NCgVL"
      },
      "execution_count": null,
      "outputs": []
    },
    {
      "cell_type": "code",
      "source": [
        "data = [1,2,3,4,5]\n",
        "print( get_average(data) )"
      ],
      "metadata": {
        "colab": {
          "base_uri": "https://localhost:8080/"
        },
        "id": "dDBL888mE26s",
        "outputId": "54bedb39-eada-4e5d-ad94-dc61ffc7aee1"
      },
      "execution_count": null,
      "outputs": [
        {
          "output_type": "stream",
          "name": "stdout",
          "text": [
            "평균 계산완료\n",
            "평균계산 시도 완료\n",
            "3.0\n"
          ]
        }
      ]
    },
    {
      "cell_type": "code",
      "source": [
        "isinstance(data,list)"
      ],
      "metadata": {
        "colab": {
          "base_uri": "https://localhost:8080/"
        },
        "id": "MW0An0byG6QV",
        "outputId": "787d21ee-8908-4bbc-dc24-d69190d46014"
      },
      "execution_count": null,
      "outputs": [
        {
          "output_type": "execute_result",
          "data": {
            "text/plain": [
              "True"
            ]
          },
          "metadata": {},
          "execution_count": 40
        }
      ]
    },
    {
      "cell_type": "code",
      "source": [
        "# 문자열형태로 입력받느 숫자를 정수형면 정수 , 실수형태면 실수로 변환\n",
        "# '123'  isdigit, isNumeric\n",
        "str_number = input('숫자를 입력하세요')\n",
        "try:\n",
        "  if str_number.isdigit():\n",
        "    number = int(str_number)\n",
        "  else:\n",
        "    number = float(str_number)\n",
        "\n",
        "except Exception:\n",
        "  print('정수나 실수형태의 숫자만 입력 가능합니다.')\n",
        "else:\n",
        "  print(f'입력한 값 * 5 = {number*5}')\n",
        "finally:\n",
        "  print('로직을 종료합니다.')\n"
      ],
      "metadata": {
        "colab": {
          "base_uri": "https://localhost:8080/"
        },
        "id": "OozXYBxYHkye",
        "outputId": "a118d486-bb0d-4a9b-96fa-bd3debe211fb"
      },
      "execution_count": null,
      "outputs": [
        {
          "output_type": "stream",
          "name": "stdout",
          "text": [
            "숫자를 입력하세요12,5\n",
            "정수나 실수형태의 숫자만 입력 가능합니다.\n",
            "로직을 종료합니다.\n"
          ]
        }
      ]
    },
    {
      "cell_type": "code",
      "source": [
        "class Test:\n",
        "  pass\n",
        "t = Test()\n",
        "type(t) == Test  ,  isinstance( t,Test)"
      ],
      "metadata": {
        "colab": {
          "base_uri": "https://localhost:8080/"
        },
        "id": "DF9T62lfIlXF",
        "outputId": "769af522-5744-4cb6-f370-0e7b241614a0"
      },
      "execution_count": null,
      "outputs": [
        {
          "output_type": "execute_result",
          "data": {
            "text/plain": [
              "(True, True)"
            ]
          },
          "metadata": {},
          "execution_count": 52
        }
      ]
    },
    {
      "cell_type": "markdown",
      "source": [
        "```\n",
        "패키지 : 모듈( .py)을 계층적으로 묶은 디렉터리\n",
        "  디렉터리 안에 __init__.py파일(패키지임을 표시, python3.3 이상부터는 생략가능하지만 가독성을 위해서 명시적으로 표시)\n",
        "  MyPackage\n",
        "    |\n",
        "     -- __init__.py\n",
        "     -- my_module1.py\n",
        "     -- my_module2.py\n",
        "\n",
        "my_module1.py\n",
        "\n",
        "class MyModule1:\n",
        "  def __init__(self,data) -> None:\n",
        "    self.data = data\n",
        "  def __str__(self) -> str:\n",
        "    return f'MyModule1 data:{self.data}'\n",
        "     \n",
        "```"
      ],
      "metadata": {
        "id": "5JcLWr2KMxiX"
      }
    },
    {
      "cell_type": "code",
      "source": [
        "import sys\n",
        "sys.path.append('/content/drive/MyDrive/module')\n",
        "\n",
        "# package 사용하기\n",
        "from MyPackage.my_module1 import MyModule1\n",
        "from MyPackage.my_module2 import MyModule2\n",
        "\n",
        "m1 = MyModule1(10)\n",
        "m2 = MyModule2(20)\n",
        "print(m1)\n",
        "print(m2)"
      ],
      "metadata": {
        "colab": {
          "base_uri": "https://localhost:8080/"
        },
        "id": "Pe6oqFjSKNz7",
        "outputId": "5ede4db9-ff6c-40a1-cec2-e1580a5f2c57"
      },
      "execution_count": null,
      "outputs": [
        {
          "output_type": "stream",
          "name": "stdout",
          "text": [
            "MyModule1 data:10\n",
            "MyModule2 data:20\n"
          ]
        }
      ]
    },
    {
      "cell_type": "markdown",
      "source": [
        "# __init __.py 활용\n",
        "   - 패키지 초기화\n",
        "    - 여기서 모듈을 미리 임포트해서 편리하게 사용\n",
        "\n",
        "```\n",
        "__init__.py\n",
        "\n",
        "from .my_module1 import MyModule1\n",
        "from .my_module2 import MyModule2\n",
        "\n",
        "print('MyPackage  패키지 초기화')\n",
        "```    "
      ],
      "metadata": {
        "id": "YKrD31VbQOi-"
      }
    },
    {
      "cell_type": "code",
      "source": [
        "import sys\n",
        "sys.path.append('/content/drive/MyDrive/module')\n",
        "\n",
        "from MyPackage import MyModule1, MyModule2\n",
        "s1 = MyModule1(10)\n",
        "s2 = MyModule2(20)\n",
        "print(s1)\n",
        "print(s2)"
      ],
      "metadata": {
        "colab": {
          "base_uri": "https://localhost:8080/"
        },
        "id": "K6vMW-88Kxn8",
        "outputId": "ed819f06-adb8-48a1-9e6c-51f8b8262234"
      },
      "execution_count": null,
      "outputs": [
        {
          "output_type": "stream",
          "name": "stdout",
          "text": [
            "MyModule1 data:10\n",
            "MyModule2 data:20\n"
          ]
        }
      ]
    },
    {
      "cell_type": "markdown",
      "source": [
        "# steamit\n",
        "```\n",
        "오픈소스 프레임워크로 데이터중심의 웹 앱을 빠르게 만들기 위해\n",
        "  HTML/CSS/Javascrip 없이 파이썬만으로 UI 구성\n",
        "  실시간\n",
        "  데이터시각화 및 머신러닝 모델 베포에 최적화\n",
        "  프론트나 백엔트 지식없어도 제작\n",
        "```"
      ],
      "metadata": {
        "id": "GJh6sSg5UXSo"
      }
    },
    {
      "cell_type": "markdown",
      "source": [
        "# Streamlit & ngrok"
      ],
      "metadata": {
        "id": "lkN9MyKeoJQM"
      }
    },
    {
      "cell_type": "code",
      "source": [
        "!pip install streamlit pyngrok -q"
      ],
      "metadata": {
        "colab": {
          "base_uri": "https://localhost:8080/"
        },
        "collapsed": true,
        "id": "9KcOjzafSXwj",
        "outputId": "cf268649-f578-424d-ea8c-6aa40cfe58fb"
      },
      "execution_count": null,
      "outputs": [
        {
          "output_type": "stream",
          "name": "stdout",
          "text": [
            "\u001b[2K     \u001b[90m━━━━━━━━━━━━━━━━━━━━━━━━━━━━━━━━━━━━━━━━\u001b[0m \u001b[32m44.3/44.3 kB\u001b[0m \u001b[31m1.1 MB/s\u001b[0m eta \u001b[36m0:00:00\u001b[0m\n",
            "\u001b[2K   \u001b[90m━━━━━━━━━━━━━━━━━━━━━━━━━━━━━━━━━━━━━━━━\u001b[0m \u001b[32m9.7/9.7 MB\u001b[0m \u001b[31m46.7 MB/s\u001b[0m eta \u001b[36m0:00:00\u001b[0m\n",
            "\u001b[2K   \u001b[90m━━━━━━━━━━━━━━━━━━━━━━━━━━━━━━━━━━━━━━━━\u001b[0m \u001b[32m6.9/6.9 MB\u001b[0m \u001b[31m67.7 MB/s\u001b[0m eta \u001b[36m0:00:00\u001b[0m\n",
            "\u001b[2K   \u001b[90m━━━━━━━━━━━━━━━━━━━━━━━━━━━━━━━━━━━━━━━━\u001b[0m \u001b[32m79.1/79.1 kB\u001b[0m \u001b[31m3.9 MB/s\u001b[0m eta \u001b[36m0:00:00\u001b[0m\n",
            "\u001b[?25h"
          ]
        }
      ]
    },
    {
      "cell_type": "code",
      "source": [
        "%%writefile app.py\n",
        "import streamlit as st\n",
        "\n",
        "st.title('streamlit 테스트입니다.')\n",
        "st.write('안녕하세요  테스트 중입니다. 본문내용입니다')"
      ],
      "metadata": {
        "colab": {
          "base_uri": "https://localhost:8080/"
        },
        "id": "XE5XclgxRZe9",
        "outputId": "332c9dca-7b74-4fa3-a790-3ca7af864f3c"
      },
      "execution_count": null,
      "outputs": [
        {
          "output_type": "stream",
          "name": "stdout",
          "text": [
            "Writing app.py\n"
          ]
        }
      ]
    },
    {
      "cell_type": "markdown",
      "source": [
        "```\n",
        "https://ngrok.com/  가입해서 token값을 가져온다\n",
        "\n",
        "자신의 token 값으로 환경셋팅한다\n",
        "```\n",
        "\n",
        "![image.png](data:image/png;base64,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)"
      ],
      "metadata": {
        "id": "MXEdlDFveEwq"
      }
    },
    {
      "cell_type": "code",
      "source": [
        "!ngrok config add-authtoken 2tyjKhWye4IN2eo0JjwcTDtTlQz_yLeyZrmpahGqYiMTY6b8"
      ],
      "metadata": {
        "colab": {
          "base_uri": "https://localhost:8080/"
        },
        "id": "-Eeo09SweiLd",
        "outputId": "dd0e6f0b-046d-49eb-ba66-79a366d11279"
      },
      "execution_count": null,
      "outputs": [
        {
          "output_type": "stream",
          "name": "stdout",
          "text": [
            "Authtoken saved to configuration file: /root/.config/ngrok/ngrok.yml\n"
          ]
        }
      ]
    },
    {
      "cell_type": "code",
      "source": [
        "from pyngrok import ngrok\n",
        "# 기존 터널 중료(중복방지)\n",
        "ngrok.kill()\n",
        "\n",
        "#streamlit 실행  아주 작은 경량화된 웹 서버\n",
        "!streamlit run app.py &>/dev/null&  # 백그라운드 환경에서 동작\n",
        "\n",
        "# Ngrok 터널 생성 : streamlit을 외부로 연결해주는 터널 : 터널링\n",
        "url = ngrok.connect(8501)  # ngrok를 사용해서 공개 url 생성\n",
        "print(f'Streamlit url : {url}')"
      ],
      "metadata": {
        "colab": {
          "base_uri": "https://localhost:8080/"
        },
        "id": "nYY-m1yhX-52",
        "outputId": "0ae3188b-69fe-4227-8e34-749c7a633752"
      },
      "execution_count": null,
      "outputs": [
        {
          "output_type": "stream",
          "name": "stdout",
          "text": [
            "Streamlit url : NgrokTunnel: \"https://f692-34-58-58-82.ngrok-free.app\" -> \"http://localhost:8501\"\n"
          ]
        }
      ]
    },
    {
      "cell_type": "markdown",
      "source": [
        "# Streamlit & npx( 리눅스 자체에서 외부로 연결할수 있는 터널링 제공)"
      ],
      "metadata": {
        "id": "w03xStGooRqS"
      }
    },
    {
      "cell_type": "code",
      "source": [
        "!pip install streamlit -q"
      ],
      "metadata": {
        "colab": {
          "base_uri": "https://localhost:8080/"
        },
        "id": "rAblQszioeu5",
        "outputId": "3b8af3bc-6732-4840-fa31-8bd7d2264939"
      },
      "execution_count": null,
      "outputs": [
        {
          "output_type": "stream",
          "name": "stdout",
          "text": [
            "\u001b[2K     \u001b[90m━━━━━━━━━━━━━━━━━━━━━━━━━━━━━━━━━━━━━━━━\u001b[0m \u001b[32m44.3/44.3 kB\u001b[0m \u001b[31m1.7 MB/s\u001b[0m eta \u001b[36m0:00:00\u001b[0m\n",
            "\u001b[2K   \u001b[90m━━━━━━━━━━━━━━━━━━━━━━━━━━━━━━━━━━━━━━━━\u001b[0m \u001b[32m9.7/9.7 MB\u001b[0m \u001b[31m73.6 MB/s\u001b[0m eta \u001b[36m0:00:00\u001b[0m\n",
            "\u001b[2K   \u001b[90m━━━━━━━━━━━━━━━━━━━━━━━━━━━━━━━━━━━━━━━━\u001b[0m \u001b[32m6.9/6.9 MB\u001b[0m \u001b[31m81.1 MB/s\u001b[0m eta \u001b[36m0:00:00\u001b[0m\n",
            "\u001b[2K   \u001b[90m━━━━━━━━━━━━━━━━━━━━━━━━━━━━━━━━━━━━━━━━\u001b[0m \u001b[32m79.1/79.1 kB\u001b[0m \u001b[31m4.8 MB/s\u001b[0m eta \u001b[36m0:00:00\u001b[0m\n",
            "\u001b[?25h"
          ]
        }
      ]
    },
    {
      "cell_type": "code",
      "source": [
        "# 앱 작성\n",
        "%%writefile app.py\n",
        "import sys\n",
        "sys.path.append('/content/drive/MyDrive/module')\n",
        "\n",
        "import streamlit as st\n",
        "from student import Student\n",
        "import json\n",
        "\n",
        "# 입력 ui\n",
        "st.title('학생관리 프로그램')\n",
        "name =  st.text_input(\"이름\")\n",
        "age =  st.number_input(\"나이\", min_value=0, step=1)\n",
        "scores_input =  st.text_input(\"과목과 점수: ex(kor:90, eng:85)\")  # \"  {\"kor\": 90, \"eng\": 85}  \"\n",
        "\n",
        "\n",
        "# 입력데이터 표시\n",
        "if st.button('학생추가'):\n",
        "  score_dict = json.loads(scores_input)  # {\"kor\": 90, \"eng\": 85}\n",
        "  student = Student(name,age,score_dict)\n",
        "  st.write(f'평균점수 : {student.get_average():.2f}')\n"
      ],
      "metadata": {
        "colab": {
          "base_uri": "https://localhost:8080/"
        },
        "id": "yd_pOXtlol3p",
        "outputId": "8802332b-6eb3-4933-bd87-12c5b3ff2605"
      },
      "execution_count": null,
      "outputs": [
        {
          "output_type": "stream",
          "name": "stdout",
          "text": [
            "Overwriting app.py\n"
          ]
        }
      ]
    },
    {
      "cell_type": "code",
      "source": [
        "# 공용ip 확인(Turnnel Password 사용)\n",
        "!curl ipv4.icanhazip.com"
      ],
      "metadata": {
        "colab": {
          "base_uri": "https://localhost:8080/"
        },
        "id": "D6Z5WqQyoq4t",
        "outputId": "6fb2cc95-6cc6-4748-d240-634cc7637aa8"
      },
      "execution_count": null,
      "outputs": [
        {
          "output_type": "stream",
          "name": "stdout",
          "text": [
            "34.170.248.81\n"
          ]
        }
      ]
    },
    {
      "cell_type": "code",
      "source": [
        "# Streamit 백그라운드로 실행\n",
        "!streamlit run app.py &>/dev/null &\n",
        "\n",
        "!npx localtunnel --port 8501 --yes # --yes 설치확인 자동화"
      ],
      "metadata": {
        "colab": {
          "base_uri": "https://localhost:8080/"
        },
        "id": "FG9MTijSpBEa",
        "outputId": "728456ad-aaa1-48e1-9b1a-c7099113c3a1"
      },
      "execution_count": null,
      "outputs": [
        {
          "output_type": "stream",
          "name": "stdout",
          "text": [
            "\u001b[1G\u001b[0K⠙\u001b[1G\u001b[0K⠹\u001b[1G\u001b[0K⠸\u001b[1G\u001b[0K⠼\u001b[1G\u001b[0K⠴\u001b[1G\u001b[0K⠦\u001b[1G\u001b[0Kyour url is: https://plenty-poets-obey.loca.lt\n",
            "^C\n"
          ]
        }
      ]
    },
    {
      "cell_type": "code",
      "source": [],
      "metadata": {
        "id": "uJ6rEb43pdfu"
      },
      "execution_count": null,
      "outputs": []
    }
  ]
}