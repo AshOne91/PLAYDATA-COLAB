{
  "nbformat": 4,
  "nbformat_minor": 0,
  "metadata": {
    "colab": {
      "provenance": [],
      "include_colab_link": true
    },
    "kernelspec": {
      "name": "python3",
      "display_name": "Python 3"
    },
    "language_info": {
      "name": "python"
    }
  },
  "cells": [
    {
      "cell_type": "markdown",
      "metadata": {
        "id": "view-in-github",
        "colab_type": "text"
      },
      "source": [
        "<a href=\"https://colab.research.google.com/github/AshOne91/PLAYDATA-COLAB/blob/main/2_%ED%8C%8C%EC%9D%B4%EC%8D%AC_%EA%B8%B0%EB%B3%B8%EC%9A%94%EC%86%8C_%EB%AC%B8%EC%9E%90%EC%97%B4%EA%B3%BC_%EC%9E%85%EC%B6%9C%EB%A0%A5.ipynb\" target=\"_parent\"><img src=\"https://colab.research.google.com/assets/colab-badge.svg\" alt=\"Open In Colab\"/></a>"
      ]
    },
    {
      "cell_type": "code",
      "execution_count": null,
      "metadata": {
        "colab": {
          "base_uri": "https://localhost:8080/"
        },
        "id": "a44jcQiRsEPz",
        "outputId": "fbad28aa-d244-46a4-94d1-99d2e62187ce"
      },
      "outputs": [
        {
          "output_type": "stream",
          "name": "stdout",
          "text": [
            "hello 'world'\n",
            "hello world\n",
            "\n",
            "hello\n",
            "world\n",
            "  \n"
          ]
        }
      ],
      "source": [
        "print(\"hello 'world'\")\n",
        "print('hello world')\n",
        "\n",
        "print(\n",
        "  '''\n",
        "hello\n",
        "world\n",
        "  '''\n",
        ")"
      ]
    },
    {
      "cell_type": "code",
      "source": [
        "from google.colab import drive\n",
        "drive.mount('/content/drive')"
      ],
      "metadata": {
        "id": "1bglplBWltjX"
      },
      "execution_count": null,
      "outputs": []
    },
    {
      "cell_type": "markdown",
      "source": [
        "문자열 연산(+ *)\n"
      ],
      "metadata": {
        "id": "woO66bR7x3p-"
      }
    },
    {
      "cell_type": "code",
      "source": [
        "\"문자열 더하기\" + \" 문자\"   # 피 연산자가 문자열일때만 가능"
      ],
      "metadata": {
        "colab": {
          "base_uri": "https://localhost:8080/",
          "height": 36
        },
        "id": "fmeavDwQx2_x",
        "outputId": "d18f1536-987b-4b1d-e4a1-2a5ea1a82ad0"
      },
      "execution_count": null,
      "outputs": [
        {
          "output_type": "execute_result",
          "data": {
            "text/plain": [
              "'문자열 더하기 문자'"
            ],
            "application/vnd.google.colaboratory.intrinsic+json": {
              "type": "string"
            }
          },
          "metadata": {},
          "execution_count": 7
        }
      ]
    },
    {
      "cell_type": "code",
      "source": [
        "\"문자열 곱합기\" * 3   # 문자열 과 정수  정수만큼 해당 문자를 반복"
      ],
      "metadata": {
        "colab": {
          "base_uri": "https://localhost:8080/",
          "height": 36
        },
        "id": "NMQP59kGyaqf",
        "outputId": "60618cbb-9139-40ee-a916-c26f6795cbc8"
      },
      "execution_count": null,
      "outputs": [
        {
          "output_type": "execute_result",
          "data": {
            "text/plain": [
              "'문자열 곱합기문자열 곱합기문자열 곱합기'"
            ],
            "application/vnd.google.colaboratory.intrinsic+json": {
              "type": "string"
            }
          },
          "metadata": {},
          "execution_count": 14
        }
      ]
    },
    {
      "cell_type": "markdown",
      "source": [
        "문자열을 리스트화되어 있어서 인덱스를 가지고 있다"
      ],
      "metadata": {
        "id": "5KymS4DUzQ0p"
      }
    },
    {
      "cell_type": "code",
      "source": [
        "text = \"Python Programing\"\n",
        "print(text[0])  # P\n",
        "print(text[-1])  # g\n",
        "# 슬라이싱  [startindex : endindex-1]\n",
        "print( text[0 : 6])\n",
        "print( text[ : 6])\n",
        "print( text[ : ])\n",
        "print( text[ : : 1])\n",
        "print( text[ : -1])\n",
        "print( text[ : : 2])\n",
        "print( text[ : : -1])"
      ],
      "metadata": {
        "colab": {
          "base_uri": "https://localhost:8080/"
        },
        "id": "7KB3gJtAy6Pz",
        "outputId": "37b9d32d-72a3-4b0f-c7d0-690d98d57368"
      },
      "execution_count": null,
      "outputs": [
        {
          "output_type": "stream",
          "name": "stdout",
          "text": [
            "P\n",
            "g\n",
            "Python\n",
            "Python\n",
            "Python Programing\n",
            "Python Programing\n",
            "Python Programin\n",
            "Pto rgaig\n",
            "gnimargorP nohtyP\n"
          ]
        }
      ]
    },
    {
      "cell_type": "code",
      "source": [
        "import random\n",
        "list_1 = random.sample(range(100), 10)\n",
        "print(list_1)\n",
        "print(list_1[5:])"
      ],
      "metadata": {
        "colab": {
          "base_uri": "https://localhost:8080/"
        },
        "id": "NvoaKr991z6B",
        "outputId": "56d7ea89-00c7-40ae-8e34-bc629c034b16"
      },
      "execution_count": null,
      "outputs": [
        {
          "output_type": "stream",
          "name": "stdout",
          "text": [
            "[19, 65, 22, 36, 8, 54, 41, 10, 18, 6]\n",
            "[54, 41, 10, 18, 6]\n"
          ]
        }
      ]
    },
    {
      "cell_type": "markdown",
      "source": [
        "- 함수의 기본개념\n",
        "   - 이름( 매개변수, ... ):  --> 머리  매개변수도 필수는 아님\n",
        "    - 들여쓰기를 해서 내용작성\n",
        "    - return 반환값 --> 필수는 아님\n",
        "\n",
        "- 하지만 함수의 모양반드시\n",
        "  - 이름( ):\n",
        "    - 내용\n",
        "- 함수의 사용은 해당 함수의 이름을 작성하고 ( 데이터전달 )\n",
        "- 결과는 있을수도 없을수도 있다      \n"
      ],
      "metadata": {
        "id": "QM912nXQ2Vix"
      }
    },
    {
      "cell_type": "code",
      "source": [
        "text = \"hello world\"\n",
        "# 소문자\n",
        "print(text.lower() )\n",
        "# 대문자\n",
        "print(text.upper() )\n",
        "# 첫글자만 대문자\n",
        "print(text.title())\n",
        "# 첫 단어만 대문자\n",
        "print(text.capitalize())\n",
        "# 대소문자 변화\n",
        "print(text.capitalize().swapcase())  # method chaining 기법\n",
        "# 특정 문자(열)의 포함 여부  --> 리스트(숫자등)에도 적용 가능\n",
        "print(\"hello\" in text)\n",
        "# 분리(기준을 다양하게 적용 공백, ',' ,  '.' ,   '|'  , ';') -> 분리된 문자열을 리스트로 만들어준다\n",
        "print( text.split() )  # 영어문장은 주로 공백을 기준으로 단어를 분리할수 있다"
      ],
      "metadata": {
        "colab": {
          "base_uri": "https://localhost:8080/"
        },
        "collapsed": true,
        "id": "cEpWfuYX1xF6",
        "outputId": "02a4a67e-6fed-4108-f707-d5556cd47fbb"
      },
      "execution_count": null,
      "outputs": [
        {
          "output_type": "stream",
          "name": "stdout",
          "text": [
            "hello world\n",
            "HELLO WORLD\n",
            "Hello World\n",
            "Hello world\n",
            "hELLO WORLD\n",
            "True\n",
            "['hello', 'world']\n"
          ]
        }
      ]
    },
    {
      "cell_type": "markdown",
      "source": [
        "공백제거 및 정렬"
      ],
      "metadata": {
        "id": "uM2paeWW-N_k"
      }
    },
    {
      "cell_type": "code",
      "source": [
        "text = \"    python    \"\n",
        "#양쪽 공백제거  -->**  why??\n",
        "print(text.strip())\n",
        "#왼쪽 공백제거\n",
        "print(text.lstrip())\n",
        "#오른쪽 공백제거\n",
        "print(text.rstrip())"
      ],
      "metadata": {
        "colab": {
          "base_uri": "https://localhost:8080/"
        },
        "id": "EBGWNNQo-MiF",
        "outputId": "624f7cd6-16a2-47d4-8963-91d3be734e85"
      },
      "execution_count": null,
      "outputs": [
        {
          "output_type": "stream",
          "name": "stdout",
          "text": [
            "python\n",
            "python    \n",
            "    python\n"
          ]
        }
      ]
    },
    {
      "cell_type": "markdown",
      "source": [
        "문자열 찾기 및 대체"
      ],
      "metadata": {
        "id": "C74a2W-7_QBr"
      }
    },
    {
      "cell_type": "code",
      "source": [
        "text = \"python programing is fun\"\n",
        "# 문자열 위치찾기 없으면 -1\n",
        "print(text.find(\"is\"))\n",
        "print(text.find(\"java\"))\n",
        "# 문자열 대체\n",
        "print(text.replace(\"o\", \"\"))\n",
        "# 문자열의 개수\n",
        "print(text.count(\"p\"))"
      ],
      "metadata": {
        "colab": {
          "base_uri": "https://localhost:8080/"
        },
        "id": "ONLMqt_6_SOQ",
        "outputId": "19d95227-1a91-45f4-c13a-7b8cf7efd6ef"
      },
      "execution_count": null,
      "outputs": [
        {
          "output_type": "stream",
          "name": "stdout",
          "text": [
            "18\n",
            "-1\n",
            "pythn prgraming is fun\n",
            "2\n"
          ]
        }
      ]
    },
    {
      "cell_type": "markdown",
      "source": [
        "문자열 분리 및 합치기"
      ],
      "metadata": {
        "id": "x-J2GypnAZQ2"
      }
    },
    {
      "cell_type": "code",
      "source": [
        "text = \"apple,banana,grap\"\n",
        "# 문자열 나누기\n",
        "words = text.split(\",\")\n",
        "print(words)\n",
        "# 문자열 합치기\n",
        "joined = \" \".join(words)\n",
        "print( joined )"
      ],
      "metadata": {
        "colab": {
          "base_uri": "https://localhost:8080/"
        },
        "id": "utsmm4i-AYD9",
        "outputId": "6eb5d5c4-033e-45b7-83b9-200d554c7558"
      },
      "execution_count": null,
      "outputs": [
        {
          "output_type": "stream",
          "name": "stdout",
          "text": [
            "['apple', 'banana', 'grap']\n",
            "apple banana grap\n"
          ]
        }
      ]
    },
    {
      "cell_type": "markdown",
      "source": [
        "표준입출력 ( Standard Input Output)\n",
        "  - 입력 : 키보드\n",
        "  - 출력 : 콘솔"
      ],
      "metadata": {
        "id": "kRN59MUHBMmu"
      }
    },
    {
      "cell_type": "code",
      "source": [
        "name = input(\"이름을 입력하세요 : \")\n",
        "name = \"안녕하세요 \"+name+\" 님\"\n",
        "print(name)\n",
        "print('안녕하세요',name,'님')"
      ],
      "metadata": {
        "colab": {
          "base_uri": "https://localhost:8080/"
        },
        "id": "qLWmU27hBX2_",
        "outputId": "e7e4cfc1-d447-41d1-a0f0-d6978857e639"
      },
      "execution_count": null,
      "outputs": [
        {
          "output_type": "stream",
          "name": "stdout",
          "text": [
            "이름을 입력하세요 : 이규영\n",
            "안녕하세요 이규영 님\n",
            "안녕하세요 안녕하세요 이규영 님 님\n"
          ]
        }
      ]
    },
    {
      "cell_type": "markdown",
      "source": [
        "map  : 리스트와 같은 집합을 이루는 데이터들의 각각의 값에 특정 기능을 적용"
      ],
      "metadata": {
        "id": "TreYMEoLCBZY"
      }
    },
    {
      "cell_type": "code",
      "source": [
        "list_1 = ['1','2','3']\n",
        "print( list(map(int, list_1)) )\n"
      ],
      "metadata": {
        "colab": {
          "base_uri": "https://localhost:8080/"
        },
        "id": "Xy-URQC2BrTf",
        "outputId": "ca61cb61-0d67-462c-a8cf-588c93f2a947"
      },
      "execution_count": null,
      "outputs": [
        {
          "output_type": "stream",
          "name": "stdout",
          "text": [
            "[1, 2, 3]\n"
          ]
        }
      ]
    },
    {
      "cell_type": "code",
      "source": [
        "a,b,c = 1,2,3"
      ],
      "metadata": {
        "id": "VPqQYV3CC3wS"
      },
      "execution_count": null,
      "outputs": []
    },
    {
      "cell_type": "code",
      "source": [
        "number1, number2 = map(int, input(\"두개의 정수를 띄어쓰기 해서 입력하세요\").split() )\n",
        "print(number1 + number2)"
      ],
      "metadata": {
        "colab": {
          "base_uri": "https://localhost:8080/"
        },
        "id": "BgE-rPswC6IF",
        "outputId": "eee12bd1-b357-436a-a38e-d7a729e16d2d"
      },
      "execution_count": null,
      "outputs": [
        {
          "output_type": "stream",
          "name": "stdout",
          "text": [
            "두개의 정수를 띄어쓰기 해서 입력하세요10 20\n",
            "30\n"
          ]
        }
      ]
    },
    {
      "cell_type": "markdown",
      "source": [
        "zip ( 두개의 묶음을 각각 묶어준다)"
      ],
      "metadata": {
        "id": "5CrGyjSHEY3F"
      }
    },
    {
      "cell_type": "code",
      "source": [
        "fruites = ['apple','banana','mango']\n",
        "price = [500,700,1000]\n",
        "items = list(zip(fruites, price))\n",
        "print(items)"
      ],
      "metadata": {
        "colab": {
          "base_uri": "https://localhost:8080/"
        },
        "id": "bJq84PzBEemv",
        "outputId": "6439010d-a619-4e64-a26e-894a4ea87934"
      },
      "execution_count": null,
      "outputs": [
        {
          "output_type": "stream",
          "name": "stdout",
          "text": [
            "[('apple', 500), ('banana', 700), ('mango', 1000)]\n"
          ]
        }
      ]
    },
    {
      "cell_type": "markdown",
      "source": [
        "- 중간정리"
      ],
      "metadata": {
        "id": "3iOAq6nAESsg"
      }
    },
    {
      "cell_type": "code",
      "source": [
        "text = \"hello world\"  # he llo world\n",
        "text = text.split()\n",
        "find_index = text[0].find('e')\n",
        "text2 = text[0][:find_index+1] + ' ' + text[0][find_index+1 : ]\n",
        "\" \".join([ text2, text[1]] )\n"
      ],
      "metadata": {
        "colab": {
          "base_uri": "https://localhost:8080/",
          "height": 36
        },
        "id": "dShUbd7OEUj5",
        "outputId": "e3542698-cf83-4a11-fdcc-5a653778cb39"
      },
      "execution_count": null,
      "outputs": [
        {
          "output_type": "execute_result",
          "data": {
            "text/plain": [
              "'he llo world'"
            ],
            "application/vnd.google.colaboratory.intrinsic+json": {
              "type": "string"
            }
          },
          "metadata": {},
          "execution_count": 80
        }
      ]
    },
    {
      "cell_type": "code",
      "source": [
        "text = \"  p y t h o       n     \"\n",
        "text.replace(\" \",\"\")"
      ],
      "metadata": {
        "colab": {
          "base_uri": "https://localhost:8080/",
          "height": 36
        },
        "id": "MwIfJXDuH-fv",
        "outputId": "1a0bd1c5-1336-4b0b-9500-db45b860b16d"
      },
      "execution_count": null,
      "outputs": [
        {
          "output_type": "execute_result",
          "data": {
            "text/plain": [
              "'python'"
            ],
            "application/vnd.google.colaboratory.intrinsic+json": {
              "type": "string"
            }
          },
          "metadata": {},
          "execution_count": 81
        }
      ]
    },
    {
      "cell_type": "markdown",
      "source": [
        "Question"
      ],
      "metadata": {
        "id": "PkG21s-CI3aj"
      }
    },
    {
      "cell_type": "code",
      "source": [
        "text = \"hello world\"  # he llo world\n",
        "# e의 위치를 찾아서 he와 나머지 문자열을 분리한다.  find,  슬라이싱\n",
        "# 두개의 문자열을 공백을 기준으로 합친다.  join\n",
        "fined_index = text.find('e')\n",
        "print(fined_index)\n",
        "# 슬라이싱을 이용해서  'he'  'llo world' 분리\n",
        "' '.join([text[ : fined_index+1]  ,text[ fined_index+1 : ]   ])"
      ],
      "metadata": {
        "colab": {
          "base_uri": "https://localhost:8080/",
          "height": 54
        },
        "id": "XkBzzN9GI2rA",
        "outputId": "e018bb26-1d5a-4b42-d091-a8431474d070"
      },
      "execution_count": null,
      "outputs": [
        {
          "output_type": "stream",
          "name": "stdout",
          "text": [
            "1\n"
          ]
        },
        {
          "output_type": "execute_result",
          "data": {
            "text/plain": [
              "'he llo world'"
            ],
            "application/vnd.google.colaboratory.intrinsic+json": {
              "type": "string"
            }
          },
          "metadata": {},
          "execution_count": 85
        }
      ]
    },
    {
      "cell_type": "code",
      "source": [
        "text = \"  p y t h o       n     \"\n",
        "print(text)  #python\n",
        "text = text.split()\n",
        "print(text)\n",
        "print(''.join(text))"
      ],
      "metadata": {
        "colab": {
          "base_uri": "https://localhost:8080/"
        },
        "id": "AeFTMnl7KfuZ",
        "outputId": "07a96585-e092-4ce6-c0a1-e43da1900b6b"
      },
      "execution_count": null,
      "outputs": [
        {
          "output_type": "stream",
          "name": "stdout",
          "text": [
            "  p y t h o       n     \n",
            "['p', 'y', 't', 'h', 'o', 'n']\n",
            "python\n"
          ]
        }
      ]
    },
    {
      "cell_type": "markdown",
      "source": [
        "출력형식 지정하기"
      ],
      "metadata": {
        "id": "Nkh8UA8bMH94"
      }
    },
    {
      "cell_type": "code",
      "source": [
        "# 사용자한테 이름과 나이를 입력받아서  \"공백을 기준으로 한번에 입력\"\n",
        "# 이름과 나이를 입력하세요 ->  이규영 100\n",
        "# 출력 이규영님 반갑습니다. 당신의 나이는 100살 입니다.\n",
        "# name  age\n",
        "name, age = '이규영', 100\n",
        "result = name+'님 반갑습니다. 당신의 나이는 ' + str(age) + '살 입니다.'\n",
        "print(result)"
      ],
      "metadata": {
        "colab": {
          "base_uri": "https://localhost:8080/"
        },
        "id": "gRNdWxZQMq7u",
        "outputId": "361412d4-6a8d-4c26-9040-7a6cc14d10b1"
      },
      "execution_count": null,
      "outputs": [
        {
          "output_type": "stream",
          "name": "stdout",
          "text": [
            "이규영님 반갑습니다. 당신의 나이는 100살 입니다.\n"
          ]
        }
      ]
    },
    {
      "cell_type": "code",
      "source": [
        "result = f'{name}님 반갑습니다. 당신의 나이는 {age}살 입니다.'\n",
        "print(result)"
      ],
      "metadata": {
        "colab": {
          "base_uri": "https://localhost:8080/"
        },
        "id": "C_Lkt8beNShU",
        "outputId": "16fefde0-8c11-4739-bb60-60a9da89bcbf"
      },
      "execution_count": null,
      "outputs": [
        {
          "output_type": "stream",
          "name": "stdout",
          "text": [
            "이규영님 반갑습니다. 당신의 나이는 100살 입니다.\n"
          ]
        }
      ]
    },
    {
      "cell_type": "code",
      "source": [
        "# result = '%s님 반갑습니다. 당신의 나이는 %s살 입니다.'%(name,age)\n",
        "# print(result)"
      ],
      "metadata": {
        "colab": {
          "base_uri": "https://localhost:8080/"
        },
        "id": "lugBYSjYOHja",
        "outputId": "c2350edd-c96b-4a8b-96fd-c0c8e6f214f2"
      },
      "execution_count": null,
      "outputs": [
        {
          "output_type": "stream",
          "name": "stdout",
          "text": [
            "이규영님 반갑습니다. 당신의 나이는 100살 입니다.\n"
          ]
        }
      ]
    },
    {
      "cell_type": "markdown",
      "source": [
        "숫자포멧팅"
      ],
      "metadata": {
        "id": "sTdEWeWMOkSd"
      }
    },
    {
      "cell_type": "code",
      "source": [
        "num = 123.456789\n",
        "print(f\"소수점 둘째 자리까지 {num:.2f}\")   # **\n",
        "print(f\"전체10자리, 우측정렬 {num:10.2f}\")\n",
        "print(f\"전체10자리, 좌측정렬 {num:<10.2f}\")"
      ],
      "metadata": {
        "colab": {
          "base_uri": "https://localhost:8080/"
        },
        "id": "PrbzVtDgOjn1",
        "outputId": "0b270f27-4d76-4f91-a040-b5107f5c5d6a"
      },
      "execution_count": null,
      "outputs": [
        {
          "output_type": "stream",
          "name": "stdout",
          "text": [
            "소수점 둘째 자리까지 123.46\n",
            "전체10자리, 우측정렬     123.46\n",
            "전체10자리, 좌측정렬 123.46    \n"
          ]
        }
      ]
    },
    {
      "cell_type": "code",
      "source": [
        "# 사용자로부터 이름과 나이를 입력받아서\n",
        "# f-string 을 이용해서 출력하기  (ex  000님 반갑습니다. 당신의 나이는 00 입니다.)"
      ],
      "metadata": {
        "id": "c9CUD3iLPtIM"
      },
      "execution_count": null,
      "outputs": []
    },
    {
      "cell_type": "code",
      "source": [
        "name, age = input(\"이름과 나이를 입력하세요\").split()\n",
        "print(f'{name}님 반갑습니다. 당신의 나이는 {age}살 입니다.')"
      ],
      "metadata": {
        "colab": {
          "base_uri": "https://localhost:8080/"
        },
        "id": "DEH887b2QA-1",
        "outputId": "da489a23-cbc3-4224-af37-153fb16ae8f7"
      },
      "execution_count": null,
      "outputs": [
        {
          "output_type": "stream",
          "name": "stdout",
          "text": [
            "이름과 나이를 입력하세요홍길동 20\n",
            "홍길동님 반갑습니다. 당신의 나이는 20살 입니다.\n"
          ]
        }
      ]
    },
    {
      "cell_type": "code",
      "source": [
        "# 두개의 변수를 입력받아서 4칙연사 + - * / 를 각각 해서 출력\n",
        "# input, split, int  ==> map\n",
        "num1, num2 =  map(int, input(\"두개의 정수를 공백을기준으로 입력하세요 \") .split() )\n",
        "print(f'덧셈 : {num1 + num2}')\n",
        "print(f'뺄셈 : {num1 - num2}')\n",
        "print(f'곱셈 : {num1 * num2}')\n",
        "print(f'나눗셈 : {num1 / num2:.2f}')"
      ],
      "metadata": {
        "colab": {
          "base_uri": "https://localhost:8080/"
        },
        "id": "P65YMVoDTlI6",
        "outputId": "feceea7a-0e65-46aa-ec81-21bd6088d4bb"
      },
      "execution_count": null,
      "outputs": [
        {
          "output_type": "stream",
          "name": "stdout",
          "text": [
            "두개의 정수를 공백을기준으로 입력하세요 2 3\n",
            "덧셈 : 5\n",
            "뺄셈 : -1\n",
            "곱셈 : 6\n",
            "나눗셈 : 0.67\n"
          ]
        }
      ]
    },
    {
      "cell_type": "markdown",
      "source": [
        "- 입출력을 파일을 대상으로 변경\n",
        "  - 파일 읽고 쓰기\n",
        "  - 파일을 읽기위해서 open해서 파일object(객체)에 할당\n",
        "  - 파일객체를 이용해서 읽고 쓰기 작업\n",
        "  - 끝이면 open한 파일 객체를 close해야 함\n",
        "\n",
        "- 이 모든 과정을 with open(파일명, 모드) as 파일객체명 사용한다"
      ],
      "metadata": {
        "id": "jJ2gaRyoXF34"
      }
    },
    {
      "cell_type": "code",
      "source": [
        "# 파일쓰기\n",
        "with open(\"example.txt\", \"w\") as f:\n",
        "  f.write(\"hello world\")"
      ],
      "metadata": {
        "id": "-lujZ5lgYjqS"
      },
      "execution_count": null,
      "outputs": []
    },
    {
      "cell_type": "code",
      "source": [
        "# 파일 읽기\n",
        "with open(\"example.txt\", \"r\") as f:\n",
        "  print(f.read())"
      ],
      "metadata": {
        "colab": {
          "base_uri": "https://localhost:8080/"
        },
        "id": "R6CJjP7qXFTu",
        "outputId": "e61dc804-c72a-4a3f-b064-35bb3cb332cd"
      },
      "execution_count": null,
      "outputs": [
        {
          "output_type": "stream",
          "name": "stdout",
          "text": [
            "hello world\n"
          ]
        }
      ]
    },
    {
      "cell_type": "markdown",
      "source": [
        "문자열 심화"
      ],
      "metadata": {
        "id": "3YmjNhXRZkfL"
      }
    },
    {
      "cell_type": "code",
      "source": [
        "# 문자열을 리스트로 변환\n",
        "text = \"hello world\"\n",
        "char_list = list(text)\n",
        "print(char_list)\n",
        "# w - > M  hello Morld\n",
        "char_list[6] = 'M'\n",
        "''.join(char_list)"
      ],
      "metadata": {
        "colab": {
          "base_uri": "https://localhost:8080/",
          "height": 54
        },
        "id": "XNP2iS3zZiRh",
        "outputId": "a0762de5-65c6-493a-8775-bb2b5c195eb3"
      },
      "execution_count": null,
      "outputs": [
        {
          "output_type": "stream",
          "name": "stdout",
          "text": [
            "['h', 'e', 'l', 'l', 'o', ' ', 'w', 'o', 'r', 'l', 'd']\n"
          ]
        },
        {
          "output_type": "execute_result",
          "data": {
            "text/plain": [
              "'hello Morld'"
            ],
            "application/vnd.google.colaboratory.intrinsic+json": {
              "type": "string"
            }
          },
          "metadata": {},
          "execution_count": 118
        }
      ]
    },
    {
      "cell_type": "code",
      "source": [
        "text = \"hello world\"\n",
        "char_list = list(text)\n",
        "def find_list_index(char_list, char):\n",
        "  for index , c in enumerate( char_list):\n",
        "    if c == char:\n",
        "      return index\n",
        "      break\n",
        "fined_index =  find_list_index(char_list,'w')\n",
        "# w - > M  hello Morld\n",
        "char_list[fined_index] = 'M'\n",
        "''.join(char_list)"
      ],
      "metadata": {
        "colab": {
          "base_uri": "https://localhost:8080/",
          "height": 36
        },
        "id": "cORTg5Waa9W4",
        "outputId": "2432cbbf-61ff-47f9-ef66-7d78ee8490d1"
      },
      "execution_count": null,
      "outputs": [
        {
          "output_type": "execute_result",
          "data": {
            "text/plain": [
              "'hello Morld'"
            ],
            "application/vnd.google.colaboratory.intrinsic+json": {
              "type": "string"
            }
          },
          "metadata": {},
          "execution_count": 122
        }
      ]
    },
    {
      "cell_type": "code",
      "source": [
        "import string\n",
        "print(string.ascii_letters)  # 알파벳\n",
        "print(string.punctuation) # 특수기호문자\n",
        "print(string.digits)"
      ],
      "metadata": {
        "colab": {
          "base_uri": "https://localhost:8080/"
        },
        "id": "J_o3u95cbbbz",
        "outputId": "6884c5be-6d9f-4e22-c5ea-bdd3b0f95a06"
      },
      "execution_count": null,
      "outputs": [
        {
          "output_type": "stream",
          "name": "stdout",
          "text": [
            "abcdefghijklmnopqrstuvwxyzABCDEFGHIJKLMNOPQRSTUVWXYZ\n",
            "!\"#$%&'()*+,-./:;<=>?@[\\]^_`{|}~\n",
            "0123456789\n"
          ]
        }
      ]
    },
    {
      "cell_type": "code",
      "source": [
        "# 랜덤하게 알파벳 문자열 생성  문자열의 길이는 10개\n",
        "# cAZmn\n",
        "# random.choince , join\n",
        "import random\n",
        "print( \"\".join(random.choices(string.ascii_letters, k=10 ) ) )\n",
        "# string.digits,random.choices, int 이용해서 임의의 4자리 정수 를 만들어 보자\n",
        "print( int(\"\".join(random.choices(string.digits, k=4))) )"
      ],
      "metadata": {
        "colab": {
          "base_uri": "https://localhost:8080/"
        },
        "id": "iUhyV6Jzc0er",
        "outputId": "21eaf0c6-bde4-44d9-c1b1-94d9bf7d827f"
      },
      "execution_count": null,
      "outputs": [
        {
          "output_type": "stream",
          "name": "stdout",
          "text": [
            "VPZNDbEJdk\n",
            "4664\n"
          ]
        }
      ]
    },
    {
      "cell_type": "markdown",
      "source": [
        "\n",
        "\n",
        "1.  주어진 문자열의 뒤집기\n",
        "  - hello world ==> dlrow olleh\n",
        "2.  주어진 문자열의 단어단위로 뒤집기\n",
        "  - hello world ==> world hello\n",
        "  "
      ],
      "metadata": {
        "id": "clufK1LLfvK-"
      }
    },
    {
      "cell_type": "code",
      "source": [
        "text = \"hello world\"\n",
        "print(text[::-1])\n",
        "print(' '.join(text.split()[::-1]))"
      ],
      "metadata": {
        "colab": {
          "base_uri": "https://localhost:8080/"
        },
        "id": "OH7rvAOPfRCw",
        "outputId": "d6bbd42b-22b4-42f8-90d4-e06453e208a5"
      },
      "execution_count": null,
      "outputs": [
        {
          "output_type": "stream",
          "name": "stdout",
          "text": [
            "dlrow olleh\n",
            "world hello\n"
          ]
        }
      ]
    },
    {
      "cell_type": "markdown",
      "source": [
        "가장 긴 단어 찾기 : 공백을 기준으로 분리된 문자열"
      ],
      "metadata": {
        "id": "aiBl-gwozJVO"
      }
    },
    {
      "cell_type": "code",
      "source": [
        "# 복합 대입연산자 + - * /\n",
        "number = 10\n",
        "number += 5  # number = number + 5"
      ],
      "metadata": {
        "id": "ypnak8Lsz1El"
      },
      "execution_count": null,
      "outputs": []
    },
    {
      "cell_type": "code",
      "source": [
        "# text = \"Chief Justice John Roberts pauses order for Trump \"\n",
        "# text += \"admin to pay $2 billion in foreign aid by midnight\"\n",
        "\n",
        "text = \"Chief Justice John Roberts pauses order for \\\n",
        "Trump admin to pay $2 billion in foreign aid by midnight\"\n",
        "print(f'original : {text}')\n",
        "# 문자열에서 공백을 기준으로 단어들을 리스트로 만든다음\n",
        "# 각 리스트의 단어들에대해 len 함수를 적용해서 문자열 길이를 구하고\n",
        "# 가장 큰 길이를 찾아서, 그 길이에 해당하는 인덱스를 찾고 그 인덱스를 이용해서 리스트의 문자열을 출력\n",
        "text_lists = text.split()\n",
        "print(f'split data : {text_lists}')\n",
        "\n",
        "world_len_lists = list(map(len, text_lists))\n",
        "print(f'단어의 길이 : {world_len_lists}')\n",
        "\n",
        "max_len = max(world_len_lists)\n",
        "print(f'가장 긴 단어의 길이 : {max_len}')\n",
        "\n",
        "# 가장 긴 단어의 인덱스\n",
        "max_len_index = world_len_lists.index(max_len)\n",
        "print(f'가장 긴 단어의 인덱스 : {max_len_index}')\n",
        "\n",
        "# 가장 긴 단어는\n",
        "print(f'가장 긴 단어 : {text_lists[max_len_index]}')"
      ],
      "metadata": {
        "colab": {
          "base_uri": "https://localhost:8080/"
        },
        "id": "8XAip3_BydCD",
        "outputId": "7ad88ea2-610a-44bf-fbb4-2ae0b079a88b"
      },
      "execution_count": null,
      "outputs": [
        {
          "output_type": "stream",
          "name": "stdout",
          "text": [
            "original : Chief Justice John Roberts pauses order for Trump admin to pay $2 billion in foreign aid by midnight\n",
            "split data : ['Chief', 'Justice', 'John', 'Roberts', 'pauses', 'order', 'for', 'Trump', 'admin', 'to', 'pay', '$2', 'billion', 'in', 'foreign', 'aid', 'by', 'midnight']\n",
            "단어의 길이 : [5, 7, 4, 7, 6, 5, 3, 5, 5, 2, 3, 2, 7, 2, 7, 3, 2, 8]\n",
            "가장 긴 단어의 길이 : 8\n",
            "가장 긴 단어의 인덱스 : 17\n",
            "가장 긴 단어 : midnight\n"
          ]
        }
      ]
    },
    {
      "cell_type": "markdown",
      "source": [
        "정렬"
      ],
      "metadata": {
        "id": "pa6sx5m_5raw"
      }
    },
    {
      "cell_type": "code",
      "source": [
        "text = 'hello'\n",
        "sorted_text = sorted(text)\n",
        "print( sorted_text )  # 모든 정렬의 기본은 오름차순 ascending  asc\n",
        "# 내림차순으로 정렬하면  decending  desc\n",
        "# print( sorted(text, reverse=True))\n",
        "print(sorted_text[::-1])"
      ],
      "metadata": {
        "colab": {
          "base_uri": "https://localhost:8080/"
        },
        "id": "-p92ga26zZAc",
        "outputId": "2fbfabbb-bae3-4038-a9a4-e26957765e9f"
      },
      "execution_count": null,
      "outputs": [
        {
          "output_type": "stream",
          "name": "stdout",
          "text": [
            "['e', 'h', 'l', 'l', 'o']\n",
            "['o', 'l', 'l', 'h', 'e']\n"
          ]
        }
      ]
    },
    {
      "cell_type": "code",
      "source": [
        "import random\n",
        "# 랜덤하게 정수 10개를 리스트에 저장하고 출력  random.sample\n",
        "# 오름차순으로 정렬  sorted\n",
        "# 내림차순으로 정렬  [::-1]  or sorted(   , reversed=True)\n",
        "random_lists = random.sample(range(100), 10)\n",
        "print(random_lists)\n",
        "print(sorted(random_lists))\n",
        "print(sorted(random_lists, reverse=True))\n",
        "print(sorted(random_lists)[::-1])"
      ],
      "metadata": {
        "colab": {
          "base_uri": "https://localhost:8080/"
        },
        "id": "HvW6LSzC50gJ",
        "outputId": "7d5eca20-15cb-4478-91a2-75af3481de26"
      },
      "execution_count": null,
      "outputs": [
        {
          "output_type": "stream",
          "name": "stdout",
          "text": [
            "[2, 54, 57, 20, 4, 48, 29, 44, 32, 93]\n",
            "[2, 4, 20, 29, 32, 44, 48, 54, 57, 93]\n",
            "[93, 57, 54, 48, 44, 32, 29, 20, 4, 2]\n",
            "[93, 57, 54, 48, 44, 32, 29, 20, 4, 2]\n"
          ]
        }
      ]
    },
    {
      "cell_type": "markdown",
      "source": [
        "Counter 모듈 사용해 보기"
      ],
      "metadata": {
        "id": "dCpbiDDWAJnv"
      }
    },
    {
      "cell_type": "code",
      "source": [
        "# 모듈\n",
        "from collections import Counter  # 클래스\n",
        "# Counter 리스트(문자열포함)의 각 요소의 등장횟수를 계산해주는 기능\n",
        "random_lists = [1,1,2,2,2,3,3,3,3,4,5,6]\n",
        "print(Counter(random_lists))"
      ],
      "metadata": {
        "colab": {
          "base_uri": "https://localhost:8080/"
        },
        "id": "2y7RpHwD6nRi",
        "outputId": "316b0727-d8a0-4465-beb1-7fd8973f29aa"
      },
      "execution_count": null,
      "outputs": [
        {
          "output_type": "stream",
          "name": "stdout",
          "text": [
            "Counter({3: 4, 2: 3, 1: 2, 4: 1, 5: 1, 6: 1})\n"
          ]
        }
      ]
    },
    {
      "cell_type": "code",
      "source": [
        "text = \"파이썬은 쉽고 재미있습니다. 파이썬은 인공지능에 잘 어울립니다. 파이썬은 다양한 모듈을 지원합니다.\"\n",
        "# split이용해서 단어로 분리\n",
        "text_lists = text.split()\n",
        "print(text_lists)\n",
        "print(Counter(text_lists))"
      ],
      "metadata": {
        "colab": {
          "base_uri": "https://localhost:8080/"
        },
        "id": "iSSy6L4DBCxx",
        "outputId": "a9b17495-6734-41b1-8a3f-7cd21a524ebc"
      },
      "execution_count": null,
      "outputs": [
        {
          "output_type": "stream",
          "name": "stdout",
          "text": [
            "['파이썬은', '쉽고', '재미있습니다.', '파이썬은', '인공지능에', '잘', '어울립니다.', '파이썬은', '다양한', '모듈을', '지원합니다.']\n",
            "Counter({'파이썬은': 3, '쉽고': 1, '재미있습니다.': 1, '인공지능에': 1, '잘': 1, '어울립니다.': 1, '다양한': 1, '모듈을': 1, '지원합니다.': 1})\n"
          ]
        }
      ]
    },
    {
      "cell_type": "code",
      "source": [
        "# 사용자로부터 입력을 받아서 단어 빈도수를 계산  input\n",
        "from collections import Counter\n",
        "text = input(\"문장을 입력하세요\")\n",
        "print(f'입력한 문장 : {text}')\n",
        "text_splits = text.split()\n",
        "text_counts = Counter(text_splits)\n",
        "print(f'단어 빈도수 : {text_counts}')"
      ],
      "metadata": {
        "colab": {
          "base_uri": "https://localhost:8080/"
        },
        "id": "nOe-gin2BoJ0",
        "outputId": "04b9cf27-4e30-45c7-fdce-212ab6283ecb"
      },
      "execution_count": null,
      "outputs": [
        {
          "output_type": "stream",
          "name": "stdout",
          "text": [
            "문장을 입력하세요혼자 공부하는 파이썬, 혼자 공부하는 머신러닝 딥러닝\n",
            "입력한 문장 : 혼자 공부하는 파이썬, 혼자 공부하는 머신러닝 딥러닝\n",
            "단어 빈도수 : Counter({'혼자': 2, '공부하는': 2, '파이썬,': 1, '머신러닝': 1, '딥러닝': 1})\n"
          ]
        }
      ]
    },
    {
      "cell_type": "markdown",
      "source": [
        "영어는 대략 공백을 기준으로 문자열을 분리하면 대부분 단어형태로 분리가 잘 되는 편..\n",
        "- 영어기사를 txt 파일로 저장하고 해당 파일의 내용을 읽어서 단어의 빈도수를 조사해보자\n",
        "- 빈도수가 상위 10개의 단어를 출력"
      ],
      "metadata": {
        "id": "BNUZl74lDpSE"
      }
    },
    {
      "cell_type": "code",
      "source": [
        "from collections import Counter\n",
        "# 파일 읽기\n",
        "file_path = '/content/drive/MyDrive/data/cnn_news.txt'\n",
        "# 파일 읽기\n",
        "with open(file_path, 'r') as f:\n",
        "  text = f.read()\n",
        "\n",
        "# 문자열중에 불필요한 단어를 제거 replace\n",
        "text = text.lower()\n",
        "text =  text.replace('the','').replace('to','').replace('and','')         \\\n",
        ".replace('of','').replace('in','')                                        \\\n",
        ".replace('on','').replace('that','').replace('for','').replace('his','')  \\\n",
        ".replace('as','').replace('by','').replace('will','').replace('is','')    \\\n",
        ".replace('at','').replace('with','')                                      \\\n",
        ".replace('not','').replace('but','').replace('at','')                     \\\n",
        ".replace('said','').replace('he','').replace('at','')\n",
        "\n",
        "print(text.split())\n",
        "# 빈도수 계산\n",
        "# 빈도수가 상위 5개의 단어출력\n",
        "text_lists = text.split()  # 공백기준으로 단어 분리(정확한 단어는 아님)\n",
        "text_counts = Counter(text_lists) # 단어별 등장횟수 구함\n",
        "print(text_counts)\n",
        "# 불필요한 단어는 제거(전부소문자로 변환후)  the to a of in and on that for his as by will is at with"
      ],
      "metadata": {
        "colab": {
          "base_uri": "https://localhost:8080/"
        },
        "id": "fK1PKGcNDgH7",
        "outputId": "6b7ae710-e09f-47d4-f84e-36c74a042d26"
      },
      "execution_count": null,
      "outputs": [
        {
          "output_type": "stream",
          "name": "stdout",
          "text": [
            "['cnn', '—', 'a', 'bust', 'wsn', 'churchill', 'gaze', 'keir', 'starmer', 'thursday', 'executes', 'e', 'trickiest', 'vits', 'a', 'brith', 'prime', 'mter', 'a', 'us', 'president', 'sce', 'days', 'gre', 'world', 'war', 'ii', 'leader.', 'starmer', 'h', 'a', 'critical', 'msi', 'oval', 'fice', '—', 'peel', 'dald', 'trump', 'away', 'from', 'russian', 'president', 'vladimir', 'put,', 'extract', 'security', 'guarantees', 'ukrae', 'followg', 'an', 'eventual', 'peace', 'deal', 'save', 'translantic', 'alliance.', 'chances', 'success', 'seem', 'slim.', 'french', 'president', 'emmanuel', 'macr', 'vited', 'whgn', 'a', 'similar', 'quest', 'mday', ',', 'despite', 'rekdlg', 'bromance', 'trump,', 'got', 'no', 'ccrete', 'surances.', 'tk', 'bee', 'more', 'taciturn', 'starmer', 'became', 'even', 'more', 'complex', 'flew', 'over', 'lantic', 'wednesday.', 'trump,', 'first', 'cabet', 'meetg', 'new', 'term,', 'dmsed', 'idea', 'robust', 'us', 'security', 'guarantees', 'ukrae', 'starmer', 'sees', 'vital', 'ensurg', 'any', 'peace', 'agreement', 'can', 'endure.', '“i’m', 'gog', 'make', 'security', 'guarantees', 'beyd', 'very', 'much.', 'we’re', 'gog', 'have', 'europe', 'do', '…', 'europe', 'ir', 'next-door', 'neighbor,”', 'trump', '.', 'plane,', 'starmer', 'argued', 'a', 'peace', 'agreement', 'would', 'be', 'viable', 'out', 'such', 'a', 'us', 'pledge.', '“i’m', 'absolutely', 'cvced', 'we', 'need', 'a', 'ltg', 'peace,', 'a', 'ceefire,', 'happen', 'we', 'need', 'security', 'guarantees,”', 'starmer', 'ld', 'reporters,', 'accordg', 'reuters.', \"brita's\", 'prime', 'mter', 'keir', 'starmer', 'speaks', 'house', 'comms', 'ld,', 'wednesday.', \"brita's\", 'prime', 'mter', 'keir', 'starmer', 'speaks', 'house', 'comms', 'ld,', 'wednesday.', 'house', 'comms/reuters', 'starmer', 'lookg', 'a', 'us', '‘backsp’', 'starmer', 'also', '’d', 'press', 'us', 'president', 'anor', 'undertakg', '’s', 'so', 'far', 'been', 'loh', 'give', '–', 'a', '“backsp”', 'a', '“resurance”', 'ce', 'brita', 'france', 'have', 'y', 'are', 'ready', 'send', 'ukrae', 'event', 'a', 'peace', 'agreement.', 'europe’s', 'militaries', 'lack', 'logtical,', 'telligence', 'anti-aircraft', 'msile', 'sets', 'needed', 'secure', 'such', 'a', 'ce', 'ir', 'own,', 'out', 'us.', 'starmer', 'en', 'route', 'us', '“my', 'ccern', 'if', 're', 'a', 'ceefire', 'out', 'a', 'backsp,', 'it', 'simply', 'give', 'him', '(put)', 'opportunity', 'wait', 'come', 'aga', 'because', 'ambiti', 'reli', 'ukrae', 'pretty', 'obvious,', 'i', 'thk,', 'all', 'see.”', 'starmer', 'macr', 'rusd', 'whgn', 'after', 'trump', 'sent', 'shockwaves', 'through', 'west', 'tellg', 'europeans', 'y', 'must', 'take', 'primary', 'respsibility', 'ir', 'own', 'security', 'sidg', 'put', 'over', 'war', 'ukrae,', 'which', 'trump', 'falsely', 'w', 'started', 'ukrae’s', 'president', 'volodymyr', 'zelensky.', 'starmer', 'ld', 'parliament', 'tuesday', 'brita', 'now', 'faced', 'a', 'world', 'wre', '“everythg', 'h', 'changed.”', '’s', 'wrg,', 'while', 'west', 'may', 'be', 'enterg', 'a', 'perilous', 'new', 'age,', 're’s', 'very', 'little', 'clarity', 'wh', 'it', 'look', 'like', '–', 'especially', 'over', 'how', 'trump', 'plans', 'end', 'war', 'after', 'us', 'talks', 'saudi', 'arabia', 'russia.', 'us', 'president', 'h', 'fered', 'no', 'detailed', 'stregy', '–', 'or', 'than', 'rulg', 'out', 'ukrae', 'jog', 'na', 'htg', 'put', 'be', 'able', 'keep', 'all', 'terriry', 'captured', 'its', 'vicious', 'three-year', 'war.', 'se', 'apparent', 'ccess', 'were', 'seized', 'trump’s', 'critics', 'grantg', 'russia', 'its', 'botm-le', 'goals', 'even', 'bee', 'negoti', 'start.', 'doubts', 'admtri', 'be', 'an', 'st', 'broker', 'were', 'furr', 'raed', 'wn', 'us', 'voted', 'enemies', 'russia', 'north', 'korea', 'united', 'n', 't', 'week', 'agt', 'a', 'resoluti', 'cdemng', 'moscow’s', 'aggressi', 'third', 'anniversary', 'war.', 'a', 'drag-le', 'excavar', 'mes', 'rare', 'earth', 'merials', 'zhymyr', 'regi', 'ukrae,', 'tuesday.', 'a', 'drag-le', 'excavar', 'mes', 'rare', 'earth', 'merials', 'zhymyr', 'regi', 'ukrae,', 'tuesday.', 'kostiantyn', 'liberov/libkos/getty', 'images', 'rare', 'earth', 'merals', 'deal', 're', 'also', 'cfusi', 'over', 'a', 'proposed', 'deal', 'united', 'stes', 'prit', 'from', 'ukrae’s', 'rare', 'earth', 'merals,', 'which', 'trump', 'h', 'claimed', 'repay', 'whgn', 'its', 'military', 'fancial', 'aid', 'kyiv', 'durg', 'war.', '“', 'deal', 'we’re', 'makg', 'brgs', 'us', 'gre', 'wealth,”', 'trump', 'cabet', 'meetg.', '“we', 'get', 'back', 'mey', 'we', 'spent.”', 'president', 'h', 'previously', 'claimed', 'whgn', 'would', 'make', 'up', '$500', 'billi', 'from', 'agreement,', 'which', 'zelensky', 'refused', 'sign', 'wn', 'it', 'w', 'first', 'presented', 'him', 'trump', 'critics', 'warned', 'amounted', 'colial', 'pillage', 'a', 'despere', 'ni.', 'an', 'example', 'whiplh', 'typical', 'trump’s', 'eign', 'policy,', 'president', 'zelensky', 'be', 'comg', 'us', 'sign', 'agreement', 'friday.', 'a', 'draft', 'copy', 'upded', 'agreement', 'seen', 'cnn', 'makes', 'no', 'menti', 'trump’s', 'claims', 'whgn', 'could', 'recoup', 'mey', 'biden', 'admtri', 'sent', 'ukrae.', 'stead,', 'it,', 'calls', 'establhment', 'a', '“recstructi', 'vestment', 'fund”', 'be', 'jotly', 'managed', 'us', 'ukrae', 'used', 'rebuild', 'country’s', 'cities', 'frtructure.', 'zelensky', 'wednesday', 'agreement', 'us', 'w', 'merely', 'a', 'framework', 'future', 'cooperi.', 'ukraian', 'president', 'wants', 'make', 'fal', 'agreement', 'cditial', 'us', 'ferg', 'security', 'guarantees', 'country.', 'draft', 'text', 'seen', 'cnn', 'makes', 'no', 'such', 'commitments,', 'sayg', 'ly', 'us', '“supports', 'ukrae’s', 'efts', 'obta', 'security', 'guarantees', 'needed', 'establh', 'ltg', 'peace.”', 'which', 'all', 'means', ',', 'pendg', 'furr', 'clarifici,', 'zelensky', 'may', 'have', 'faced', 'down', 'trump’s', 'dems', 'a', 'msive', 'share', 'proceeds', 'ukrae’s', 'meral', 'wealth', 'laid', 'groundwork', 'future', 'us', 'vestment', 'country.', 'still,', 'it’s', 'possible', 'us', 'president', '—', 'who', 'craves', 'deals', 'ir', 'own', 'sake', '—', 'still', 'bill', 'agreement', 'a', 'msive', 'vicry', 'even', 'if', 'substance', 'suggests', 'orwe.', 'trump,', 'whose', 'worldview', 'transactial', 'refracted', 'through', 'experience', 'a', 'mer', 'real', 'este', 'developer,', 'h', 'also', '’s', 'pursug', 'big', 'ecomic', 'deals', 'russia', 'eyes', 'up', 'a', 'summit', 'put', 'perhaps', 'weeks.', 'such', 'a', 'meetg,', 'any', 'deals', 'avily', 'sanctied', 'russia,', 'would', 'brg', 'kreml', 'from', 'cold', 'fracture', 'western', 'eft', 'punh', 'it', 'vi', 'ukrae.', 't', 'e', 're', 'why', 'starmer', 'be', 'seekg', 'clarifici', 'president’s', 'plans', 'also', 'tries', 'ensure', 'europe', 'ukrae,', 'who', 'see', 'war', 'extential,', 'be', 'cut', 'out', 'future', 'talks', 'w', 'ce', 'saudi', 'arabia.', 'lest', 'shift', 'wards', 'put,', 'whom', 'trump', 'ten', 'genuflected', 'durg', 'first', 'term,', 'alarmed', 'us', 'allies', 'europe,', 'who', 'fear', 'surrenderg', 'ukrae', 'would', 'embolden', 'russian', 'leader', 'take', 'more', 'l,', 'possibly', 'even', 'threeng', 'baltic', 'stes', 'are', 'na', 'members', 'ce', 'annexed', 'soviet', 'uni.', 'brith', 'prime', 'mter', 'keir', 'starmer', 'walks', 'outside', '10', 'downg', 'street', 'ld', 'wednesday.', 'brith', 'prime', 'mter', 'keir', 'starmer', 'walks', 'outside', '10', 'downg', 'street', 'ld', 'wednesday.', 'temilade', 'adelaja/reuters', 'starmer', 'a', 'political', 'tightrope', 'starmer’s', 'vit', 'trump', 'represents', 'most', 'testg', 'moment', 'young', 'premiership', 'followg', 'lslide', 'electi', 'vicry', 'lt', 'year.', '’s', 'first', 'brith', 'leader', 'hold', 'critical', 'talks', 'white', 'house.', 'margaret', 'cr,', 'stance,', 'lped', 'president', 'rald', 'reagan', 'take', 'soviet', 'uni.', 'prime', 'mter', 'ny', 'blair', 'traveled', 'vit', 'president', 'george', 'w.', 'bush', 'two', 'leaders', 'led', 'ir', 'n', 'ill-fed', 'iraq', 'war.', 'starmer', 'vitg', 'a', 'president', 'takg', 'previously', 'unfhomable', 'steps', 'threen', 'rules-bed', 'global', 'order', 'sketcd', 'out', 'churchill', 'president', 'frankl', 'roosevelt', 'early', 'world', 'war', 'ii.', 'some', 'european', 'na', 'stes', 'are', 'now', 'makg', 'hurried', 'pledges', 'spend', 'more', 'defense', 'followg', 'trump’s', 'bitter', 'compls', 'whgn', 'h', 'lg', 'been', 'bilked.', 'a', 'bid', 'impress', 'trump,', 'starmer', 't', 'week', 'announced', 'brita', 'would', 'hike', 'its', 'military', 'spendg', '2.5%', 'gdp', '2027', 'hope', 'a', 'furr', 'spike', '3%', 'after', 'next', 'general', 'electi', '2029.', '“we', 'must', 'change', 'our', 'nial', 'security', 'posture', 'because', 'a', 'generial', 'challenge', 'dems', 'a', 'generial', 'respse,”', 'starmer', '.', 'brith', 'government', 'had', 'previously', 'made', '2.5%', 'pledge', 'a', 'target', 'de.', 'number', 'might', 'impress', 'trump', 'however,', 'sce', '’s', 'demg', 'defense', 'spendg', 're', '5%', 'gdp', 'from', 'na', 'members', '—', 'even', 'though', 'current', 'us', 'spend', 'around', '3.4%.', 'meetgs', 'between', 'us', 'presidents', 'brith', 'prime', 'mters', 'habitually', 'stir', 'mty-eyed', 'cjurg', 'wartime', 'solidarity', 'tries', '“special', 'relhip”', 'even', 'if', 'relhip', 'ten', 'seems', 'more', 'special', 'mer', 'colial', 'power', 'than', 'ni', 'replaced', 'it', 'world’s', 'domant', 'superpower.', 'trump', 'less', 'impressed', 'ric', 'allus', 'comm', 'democric', 'values', 'than', 'most', 'presidents', '–', 'despite', 'returng', 'churchill', 'bust', 'oval', 'fice', 'wn', 'secd', 'term', 'started', 'lt', 'mth.', 'h', 'a', 'feral', 'sense', 'stead', 'relive', 'weakness', 'most', 'eign', 'n', 'relive', 'united', 'stes.', 'president', 'dald', 'trump', 'first', 'cabet', 'meetg', 'white', 'house', 'wednesday.', 'president', 'dald', 'trump', 'first', 'cabet', 'meetg', 'white', 'house', 'wednesday.', 'brian', 'snyder/reuters', 'starmer,', 'an', 'understed', 'mer', 'barrter', 'left--center', 'human', 'rights', 'lawyer,', 'opposite', 'trump', 'almost', 'every', 'respect.', '’s', 'also', 'less', 'likely', 'than', 'rical', 'macr', 'try', 'mch', 'trump’s', 'showmanship.', 'does', 'share', 'e', 'thg', 'president', '—', 'an', 'siable', 'w', 'w', 'dplayed', 'revival', 'labour', 'party', 'its', 'march', 'vicry', 'lt', 'year.', 'starmer', 'made', 'sure', 'meet', 'trump', 'even', 'bee', 'electi', 'vicry', 'lt', 'november', 'trump', 'wer', 'new', 'york,', 'president', 'praed', 'him', 'a', '“nice', 'guy.”', 'such', 'compliments,', 'however,', 'are', 'fungible', 'trump’s', 'world.', 't', 'week,', 'stance,', 'accused', 'macr', 'starmer', '“', 'dog', 'anythg”', 'about', 'ukrae', 'war.', 'prime', 'mter', 'does', 'have', 'e', 'unique', 'trick', 'bag', 'oval', 'fice', 'meetg,', 'a', 'potential', 'viti', 'trump', 'make', 'a', 'ste', 'vit', 'brita', 'viti', 'kg', 'charles', 'iii.', 'president', 'loves', 'brith', 'pomp', 'loved', 'queen', 'elizabeth', 'ii', '–', 'a', 'favorite', 'scotth-born', 'le', 'mor.', 'sce-deceed', 'queen', 'hosted', 'trump', 'a', 'ste', 'vit', '2019', 'after', 'which', 'trump', 'sted', 's', 'hadn’t', '“had', 'so', 'much', 'fun', '25', 'years.”', 'given', 'differences', 'between', 'brita', 'trump', 'ukrae,', 'starmer', 'w', 'ung', 'ect', 'chances', 'success', 'whgn.', '“i’m', 'gog', 'get', 'aad', 'myself', 'it,', 'or', 'than', 'say', 'i’m', 'very', 'clear', 'about', 'wh', 'prciples', 'are,”', 'plane,', 'reuters', 'reported.']\n",
            "Counter({'a': 44, 'starmer': 23, 'trump': 21, 'us': 20, 'president': 19, 'prime': 8, 'h': 8, 'security': 8, 'ukrae': 8, 'be': 8, 'brith': 7, 'mter': 7, 'even': 7, 'wednesday.': 7, 'agreement': 7, 'w': 7, 'trump’s': 7, '—': 6, 'whgn': 6, 'first': 6, 'out': 6, '’s': 6, 'keir': 5, 'war': 5, 'from': 5, 'guarantees': 5, 'an': 5, 'more': 5, 'ir': 5, 'would': 5, 'such': 5, 'house': 5, 'also': 5, '–': 5, 'brita': 5, 'it': 5, 'ukrae,': 5, 'which': 5, 'than': 5, 'its': 5, 'war.': 5, 'e': 4, 'peace': 4, 'deal': 4, 'macr': 4, 'trump,': 4, 'no': 4, 'over': 4, 'cabet': 4, 'make': 4, 'have': 4, 'ld': 4, 'ce': 4, 'are': 4, 're': 4, 'after': 4, 'ukrae’s': 4, 'na': 4, 't': 4, 'rare': 4, 'earth': 4, 'zelensky': 4, 'vicry': 4, 'vit': 4, 'lt': 4, 'cnn': 3, 'churchill': 3, 'world': 3, 'oval': 3, 'fice': 3, 'dald': 3, 'followg': 3, 'bee': 3, 'meetg': 3, 'new': 3, '“i’m': 3, 'gog': 3, 'very': 3, 'europe': 3, 'we': 3, 'if': 3, 'him': 3, 'all': 3, 'take': 3, 'put': 3, 'talks': 3, 'russia': 3, 'furr': 3, 'wn': 3, 'united': 3, 'n': 3, 'stes': 3, 'previously': 3, 'future': 3, 'who': 3, 'deals': 3, 'mer': 3, 'most': 3, 'electi': 3, 'white': 3, 'bust': 2, 'sce': 2, 'gre': 2, 'ii': 2, 'critical': 2, 'russian': 2, 'put,': 2, 'chances': 2, 'success': 2, ',': 2, 'despite': 2, 'term,': 2, 'any': 2, 'we’re': 2, '.': 2, 'plane,': 2, 'need': 2, 'ltg': 2, \"brita's\": 2, 'speaks': 2, 'comms': 2, 'ld,': 2, 'so': 2, 'been': 2, 'give': 2, 'y': 2, 'needed': 2, 'because': 2, 'sent': 2, 'through': 2, 'west': 2, 'must': 2, 'own': 2, 'started': 2, 'now': 2, 'faced': 2, 'may': 2, 'wh': 2, 'plans': 2, 'saudi': 2, 'or': 2, 'were': 2, 'critics': 2, 'admtri': 2, 'week': 2, 'drag-le': 2, 'excavar': 2, 'mes': 2, 'merials': 2, 'zhymyr': 2, 'regi': 2, 'tuesday.': 2, 'claimed': 2, 'military': 2, 'durg': 2, '“': 2, 'makg': 2, '“we': 2, 'get': 2, 'mey': 2, 'up': 2, 'sign': 2, 'colial': 2, 'eign': 2, 'draft': 2, 'seen': 2, 'makes': 2, 'ukrae.': 2, 'it,': 2, 'vestment': 2, 'country.': 2, 'dems': 2, 'msive': 2, 'share': 2, 'meetg,': 2, 'tries': 2, 'ten': 2, 'leader': 2, 'members': 2, 'soviet': 2, 'uni.': 2, 'walks': 2, 'outside': 2, '10': 2, 'downg': 2, 'street': 2, 'year.': 2, 'stance,': 2, 'spend': 2, 'defense': 2, 'impress': 2, 'spendg': 2, '2.5%': 2, 'gdp': 2, 'generial': 2, 'made': 2, 'however,': 2, 'between': 2, 'presidents': 2, 'less': 2, 'relive': 2, 'does': 2, 'about': 2, 'viti': 2, 'ste': 2, 'queen': 2, 'wsn': 1, 'gaze': 1, 'thursday': 1, 'executes': 1, 'trickiest': 1, 'vits': 1, 'days': 1, 'leader.': 1, 'msi': 1, 'peel': 1, 'away': 1, 'vladimir': 1, 'extract': 1, 'eventual': 1, 'save': 1, 'translantic': 1, 'alliance.': 1, 'seem': 1, 'slim.': 1, 'french': 1, 'emmanuel': 1, 'vited': 1, 'similar': 1, 'quest': 1, 'mday': 1, 'rekdlg': 1, 'bromance': 1, 'got': 1, 'ccrete': 1, 'surances.': 1, 'tk': 1, 'taciturn': 1, 'became': 1, 'complex': 1, 'flew': 1, 'lantic': 1, 'dmsed': 1, 'idea': 1, 'robust': 1, 'sees': 1, 'vital': 1, 'ensurg': 1, 'can': 1, 'endure.': 1, 'beyd': 1, 'much.': 1, 'do': 1, '…': 1, 'next-door': 1, 'neighbor,”': 1, 'argued': 1, 'viable': 1, 'pledge.': 1, 'absolutely': 1, 'cvced': 1, 'peace,': 1, 'ceefire,': 1, 'happen': 1, 'guarantees,”': 1, 'reporters,': 1, 'accordg': 1, 'reuters.': 1, 'comms/reuters': 1, 'lookg': 1, '‘backsp’': 1, '’d': 1, 'press': 1, 'anor': 1, 'undertakg': 1, 'far': 1, 'loh': 1, '“backsp”': 1, '“resurance”': 1, 'france': 1, 'ready': 1, 'send': 1, 'event': 1, 'agreement.': 1, 'europe’s': 1, 'militaries': 1, 'lack': 1, 'logtical,': 1, 'telligence': 1, 'anti-aircraft': 1, 'msile': 1, 'sets': 1, 'secure': 1, 'own,': 1, 'us.': 1, 'en': 1, 'route': 1, '“my': 1, 'ccern': 1, 'ceefire': 1, 'backsp,': 1, 'simply': 1, '(put)': 1, 'opportunity': 1, 'wait': 1, 'come': 1, 'aga': 1, 'ambiti': 1, 'reli': 1, 'pretty': 1, 'obvious,': 1, 'i': 1, 'thk,': 1, 'see.”': 1, 'rusd': 1, 'shockwaves': 1, 'tellg': 1, 'europeans': 1, 'primary': 1, 'respsibility': 1, 'sidg': 1, 'falsely': 1, 'volodymyr': 1, 'zelensky.': 1, 'parliament': 1, 'tuesday': 1, 'wre': 1, '“everythg': 1, 'changed.”': 1, 'wrg,': 1, 'while': 1, 'enterg': 1, 'perilous': 1, 'age,': 1, 're’s': 1, 'little': 1, 'clarity': 1, 'look': 1, 'like': 1, 'especially': 1, 'how': 1, 'end': 1, 'arabia': 1, 'russia.': 1, 'fered': 1, 'detailed': 1, 'stregy': 1, 'rulg': 1, 'jog': 1, 'htg': 1, 'able': 1, 'keep': 1, 'terriry': 1, 'captured': 1, 'vicious': 1, 'three-year': 1, 'se': 1, 'apparent': 1, 'ccess': 1, 'seized': 1, 'grantg': 1, 'botm-le': 1, 'goals': 1, 'negoti': 1, 'start.': 1, 'doubts': 1, 'st': 1, 'broker': 1, 'raed': 1, 'voted': 1, 'enemies': 1, 'north': 1, 'korea': 1, 'agt': 1, 'resoluti': 1, 'cdemng': 1, 'moscow’s': 1, 'aggressi': 1, 'third': 1, 'anniversary': 1, 'kostiantyn': 1, 'liberov/libkos/getty': 1, 'images': 1, 'merals': 1, 'cfusi': 1, 'proposed': 1, 'prit': 1, 'merals,': 1, 'repay': 1, 'fancial': 1, 'aid': 1, 'kyiv': 1, 'brgs': 1, 'wealth,”': 1, 'meetg.': 1, 'back': 1, 'spent.”': 1, '$500': 1, 'billi': 1, 'agreement,': 1, 'refused': 1, 'presented': 1, 'warned': 1, 'amounted': 1, 'pillage': 1, 'despere': 1, 'ni.': 1, 'example': 1, 'whiplh': 1, 'typical': 1, 'policy,': 1, 'comg': 1, 'friday.': 1, 'copy': 1, 'upded': 1, 'menti': 1, 'claims': 1, 'could': 1, 'recoup': 1, 'biden': 1, 'stead,': 1, 'calls': 1, 'establhment': 1, '“recstructi': 1, 'fund”': 1, 'jotly': 1, 'managed': 1, 'used': 1, 'rebuild': 1, 'country’s': 1, 'cities': 1, 'frtructure.': 1, 'wednesday': 1, 'merely': 1, 'framework': 1, 'cooperi.': 1, 'ukraian': 1, 'wants': 1, 'fal': 1, 'cditial': 1, 'ferg': 1, 'text': 1, 'commitments,': 1, 'sayg': 1, 'ly': 1, '“supports': 1, 'efts': 1, 'obta': 1, 'establh': 1, 'peace.”': 1, 'means': 1, 'pendg': 1, 'clarifici,': 1, 'down': 1, 'proceeds': 1, 'meral': 1, 'wealth': 1, 'laid': 1, 'groundwork': 1, 'still,': 1, 'it’s': 1, 'possible': 1, 'craves': 1, 'sake': 1, 'still': 1, 'bill': 1, 'substance': 1, 'suggests': 1, 'orwe.': 1, 'whose': 1, 'worldview': 1, 'transactial': 1, 'refracted': 1, 'experience': 1, 'real': 1, 'este': 1, 'developer,': 1, 'pursug': 1, 'big': 1, 'ecomic': 1, 'eyes': 1, 'summit': 1, 'perhaps': 1, 'weeks.': 1, 'avily': 1, 'sanctied': 1, 'russia,': 1, 'brg': 1, 'kreml': 1, 'cold': 1, 'fracture': 1, 'western': 1, 'eft': 1, 'punh': 1, 'vi': 1, 'why': 1, 'seekg': 1, 'clarifici': 1, 'president’s': 1, 'ensure': 1, 'see': 1, 'extential,': 1, 'cut': 1, 'arabia.': 1, 'lest': 1, 'shift': 1, 'wards': 1, 'whom': 1, 'genuflected': 1, 'alarmed': 1, 'allies': 1, 'europe,': 1, 'fear': 1, 'surrenderg': 1, 'embolden': 1, 'l,': 1, 'possibly': 1, 'threeng': 1, 'baltic': 1, 'annexed': 1, 'temilade': 1, 'adelaja/reuters': 1, 'political': 1, 'tightrope': 1, 'starmer’s': 1, 'represents': 1, 'testg': 1, 'moment': 1, 'young': 1, 'premiership': 1, 'lslide': 1, 'hold': 1, 'house.': 1, 'margaret': 1, 'cr,': 1, 'lped': 1, 'rald': 1, 'reagan': 1, 'ny': 1, 'blair': 1, 'traveled': 1, 'george': 1, 'w.': 1, 'bush': 1, 'two': 1, 'leaders': 1, 'led': 1, 'ill-fed': 1, 'iraq': 1, 'vitg': 1, 'takg': 1, 'unfhomable': 1, 'steps': 1, 'threen': 1, 'rules-bed': 1, 'global': 1, 'order': 1, 'sketcd': 1, 'frankl': 1, 'roosevelt': 1, 'early': 1, 'ii.': 1, 'some': 1, 'european': 1, 'hurried': 1, 'pledges': 1, 'bitter': 1, 'compls': 1, 'lg': 1, 'bilked.': 1, 'bid': 1, 'announced': 1, 'hike': 1, '2027': 1, 'hope': 1, 'spike': 1, '3%': 1, 'next': 1, 'general': 1, '2029.': 1, 'change': 1, 'our': 1, 'nial': 1, 'posture': 1, 'challenge': 1, 'respse,”': 1, 'government': 1, 'had': 1, 'pledge': 1, 'target': 1, 'de.': 1, 'number': 1, 'might': 1, 'demg': 1, '5%': 1, 'though': 1, 'current': 1, 'around': 1, '3.4%.': 1, 'meetgs': 1, 'mters': 1, 'habitually': 1, 'stir': 1, 'mty-eyed': 1, 'cjurg': 1, 'wartime': 1, 'solidarity': 1, '“special': 1, 'relhip”': 1, 'relhip': 1, 'seems': 1, 'special': 1, 'power': 1, 'ni': 1, 'replaced': 1, 'world’s': 1, 'domant': 1, 'superpower.': 1, 'impressed': 1, 'ric': 1, 'allus': 1, 'comm': 1, 'democric': 1, 'values': 1, 'returng': 1, 'secd': 1, 'term': 1, 'mth.': 1, 'feral': 1, 'sense': 1, 'stead': 1, 'weakness': 1, 'stes.': 1, 'brian': 1, 'snyder/reuters': 1, 'starmer,': 1, 'understed': 1, 'barrter': 1, 'left--center': 1, 'human': 1, 'rights': 1, 'lawyer,': 1, 'opposite': 1, 'almost': 1, 'every': 1, 'respect.': 1, 'likely': 1, 'rical': 1, 'try': 1, 'mch': 1, 'showmanship.': 1, 'thg': 1, 'siable': 1, 'dplayed': 1, 'revival': 1, 'labour': 1, 'party': 1, 'march': 1, 'sure': 1, 'meet': 1, 'november': 1, 'wer': 1, 'york,': 1, 'praed': 1, '“nice': 1, 'guy.”': 1, 'compliments,': 1, 'fungible': 1, 'world.': 1, 'week,': 1, 'accused': 1, 'dog': 1, 'anythg”': 1, 'unique': 1, 'trick': 1, 'bag': 1, 'potential': 1, 'kg': 1, 'charles': 1, 'iii.': 1, 'loves': 1, 'pomp': 1, 'loved': 1, 'elizabeth': 1, 'favorite': 1, 'scotth-born': 1, 'le': 1, 'mor.': 1, 'sce-deceed': 1, 'hosted': 1, '2019': 1, 'sted': 1, 's': 1, 'hadn’t': 1, '“had': 1, 'much': 1, 'fun': 1, '25': 1, 'years.”': 1, 'given': 1, 'differences': 1, 'ung': 1, 'ect': 1, 'whgn.': 1, 'aad': 1, 'myself': 1, 'say': 1, 'i’m': 1, 'clear': 1, 'prciples': 1, 'are,”': 1, 'reuters': 1, 'reported.': 1})\n"
          ]
        }
      ]
    },
    {
      "cell_type": "markdown",
      "source": [
        "- 정리\n",
        "  - 문자열 : 문자들의 집합 - 리스트\n",
        "  - 다양한 문자열 처리 함수\n",
        "  - 슬라이싱\n",
        "  - 인덱스\n",
        "  - 파일 입출력"
      ],
      "metadata": {
        "id": "C6v6ikEAIY-f"
      }
    },
    {
      "cell_type": "code",
      "source": [
        "str_1 = \"hello\"  # 문자열을 상수취급 immutable\n",
        "str_2 = str_1\n",
        "print(str_1, str_2)"
      ],
      "metadata": {
        "colab": {
          "base_uri": "https://localhost:8080/"
        },
        "id": "OPcqipxaIYBG",
        "outputId": "23dbbf9e-b1ea-469b-9d8d-a4b09c5154c0"
      },
      "execution_count": null,
      "outputs": [
        {
          "output_type": "stream",
          "name": "stdout",
          "text": [
            "hello hello\n"
          ]
        }
      ]
    },
    {
      "cell_type": "code",
      "source": [
        "str_2[0] = 'H'"
      ],
      "metadata": {
        "colab": {
          "base_uri": "https://localhost:8080/",
          "height": 149
        },
        "id": "p1Crv1Y8EzFc",
        "outputId": "98ac4d51-84e6-43d9-bb86-561889d0efa6"
      },
      "execution_count": null,
      "outputs": [
        {
          "output_type": "error",
          "ename": "TypeError",
          "evalue": "'str' object does not support item assignment",
          "traceback": [
            "\u001b[0;31m---------------------------------------------------------------------------\u001b[0m",
            "\u001b[0;31mTypeError\u001b[0m                                 Traceback (most recent call last)",
            "\u001b[0;32m<ipython-input-210-eb2e064ee520>\u001b[0m in \u001b[0;36m<cell line: 0>\u001b[0;34m()\u001b[0m\n\u001b[0;32m----> 1\u001b[0;31m \u001b[0mstr_2\u001b[0m\u001b[0;34m[\u001b[0m\u001b[0;36m0\u001b[0m\u001b[0;34m]\u001b[0m \u001b[0;34m=\u001b[0m \u001b[0;34m'H'\u001b[0m\u001b[0;34m\u001b[0m\u001b[0;34m\u001b[0m\u001b[0m\n\u001b[0m",
            "\u001b[0;31mTypeError\u001b[0m: 'str' object does not support item assignment"
          ]
        }
      ]
    },
    {
      "cell_type": "code",
      "source": [
        "str_1 = list(\"hello\")\n",
        "print(str_1 , str_1[0])\n",
        "str_1[0] = 'H'\n",
        "print(str_1)"
      ],
      "metadata": {
        "colab": {
          "base_uri": "https://localhost:8080/"
        },
        "id": "UPmgLS5TIweb",
        "outputId": "89848c9d-0fb5-4762-fb8b-ddbcd4acd16b"
      },
      "execution_count": null,
      "outputs": [
        {
          "output_type": "stream",
          "name": "stdout",
          "text": [
            "['h', 'e', 'l', 'l', 'o'] h\n",
            "['H', 'e', 'l', 'l', 'o']\n"
          ]
        }
      ]
    },
    {
      "cell_type": "code",
      "source": [
        "str_1 = list(\"hello\")\n",
        "# str_2 = str_1  # 앝은 복사\n",
        "str_2 = str_1.copy()  # 깊은 복사  str_2 = str_1[:]\n",
        "str_2[0] = 'H'\n",
        "print(str_1)"
      ],
      "metadata": {
        "colab": {
          "base_uri": "https://localhost:8080/"
        },
        "id": "ZfMUPO7hJOEs",
        "outputId": "861a35f0-0757-4a2c-e343-032499dfca82"
      },
      "execution_count": null,
      "outputs": [
        {
          "output_type": "stream",
          "name": "stdout",
          "text": [
            "['h', 'e', 'l', 'l', 'o']\n"
          ]
        }
      ]
    },
    {
      "cell_type": "code",
      "source": [
        "number1 = 100\n",
        "number2 = number1\n",
        "number2 = 111\n",
        "print(number1)"
      ],
      "metadata": {
        "colab": {
          "base_uri": "https://localhost:8080/"
        },
        "id": "mUfN4NmTJxVb",
        "outputId": "4fc669a5-a2a0-46a1-a4b5-3894ff2731ff"
      },
      "execution_count": null,
      "outputs": [
        {
          "output_type": "stream",
          "name": "stdout",
          "text": [
            "100\n"
          ]
        }
      ]
    },
    {
      "cell_type": "markdown",
      "source": [
        "조건문 : 조건에 따라 코드를 실행하는 하나의 명령문\n",
        "  - 조건은 True 와 False\n",
        "  - if\n",
        "  - if ~ else\n",
        "  - if elif ~ elif ~  n   ~ else"
      ],
      "metadata": {
        "id": "T5gzEjaXSscP"
      }
    },
    {
      "cell_type": "code",
      "source": [
        "if True:\n",
        "  print(\"합격입니다.\")\n",
        "\n",
        "print(\"불합격입니다.\")"
      ],
      "metadata": {
        "colab": {
          "base_uri": "https://localhost:8080/"
        },
        "id": "llMel2N0LvAb",
        "outputId": "37194023-eda0-4274-f904-527f5b7648b3"
      },
      "execution_count": null,
      "outputs": [
        {
          "output_type": "stream",
          "name": "stdout",
          "text": [
            "합격입니다.\n",
            "불합격입니다.\n"
          ]
        }
      ]
    },
    {
      "cell_type": "code",
      "source": [
        "if False:\n",
        "  print(\"합격입니다.\")\n",
        "else:\n",
        "  print(\"불합격입니다.\")"
      ],
      "metadata": {
        "colab": {
          "base_uri": "https://localhost:8080/"
        },
        "id": "yLfur6JNS_sh",
        "outputId": "5e253c34-13ea-4a5b-c95d-5a11102ab5fb"
      },
      "execution_count": null,
      "outputs": [
        {
          "output_type": "stream",
          "name": "stdout",
          "text": [
            "불합격입니다.\n"
          ]
        }
      ]
    },
    {
      "cell_type": "code",
      "source": [
        "# 점수를입력받아서 학점을 출력하는 코드\n",
        "score = int(input(\"점수를 입력하세요 \"))\n",
        "if score >= 90:\n",
        "  print(\"A\")\n",
        "elif score >= 80:\n",
        "  print(\"B\")\n",
        "elif score >= 70:\n",
        "  print(\"C\")\n",
        "elif score >= 60:\n",
        "  print(\"D\")\n",
        "else:\n",
        "  print(\"F\")"
      ],
      "metadata": {
        "colab": {
          "base_uri": "https://localhost:8080/"
        },
        "id": "An77mLslTqwE",
        "outputId": "a151390f-881d-424d-8a26-875296431d52"
      },
      "execution_count": null,
      "outputs": [
        {
          "output_type": "stream",
          "name": "stdout",
          "text": [
            "점수를 입력하세요67\n",
            "D\n"
          ]
        }
      ]
    },
    {
      "cell_type": "code",
      "source": [
        "check1,check2,check3,check4 = True , False,True,True\n",
        "if (check1 and check2) or (check3 and check4):\n",
        "  print(\"검사를 통과했습니다.\")"
      ],
      "metadata": {
        "colab": {
          "base_uri": "https://localhost:8080/"
        },
        "id": "bcoF9XSRVMHz",
        "outputId": "3d719986-f8e5-4977-f94b-d2ca907fa7f2"
      },
      "execution_count": null,
      "outputs": [
        {
          "output_type": "stream",
          "name": "stdout",
          "text": [
            "검사를 통과했습니다.\n"
          ]
        }
      ]
    },
    {
      "cell_type": "code",
      "source": [
        "# 국 영 수 과목의 점수를 공백을 이용해서 입력해주세요\n",
        "scores = list(map(int, input(\"국 영 수 각각의 점수를 입력하세요(공백으로 분리) \").split() ) )\n",
        "avg = sum(scores) / len(scores)\n",
        "# 평균이 60이상이면서 각 과목의 점수가 40이상일때만 합격이고 나머지는 불합격 --->과락\n",
        "if (avg >= 60) and (scores[0] >= 40) and (scores[1] >= 40) and (scores[2] >= 40):\n",
        "  print(\"합격\")\n",
        "else:\n",
        "  print(\"불합격\")\n"
      ],
      "metadata": {
        "colab": {
          "base_uri": "https://localhost:8080/"
        },
        "id": "wyI89riiVY5k",
        "outputId": "454aa8a2-20e3-43e2-d2da-8d003b54f678"
      },
      "execution_count": null,
      "outputs": [
        {
          "output_type": "stream",
          "name": "stdout",
          "text": [
            "국 영 수 각각의 점수를 입력하세요(공백으로 분리) 100 100 30\n",
            "불합격\n"
          ]
        }
      ]
    },
    {
      "cell_type": "markdown",
      "source": [
        "비교구문  < > <= >= == !="
      ],
      "metadata": {
        "id": "oWjeNIFpc_8f"
      }
    },
    {
      "cell_type": "code",
      "source": [
        "a = 10\n",
        "b = 20\n",
        "print(a == b)  # 같다\n",
        "print(a != b)  # 같지않다\n",
        "print(a > 0)   # 0보다 크다 -> 초과\n",
        "print(a >= 0)   # 0보다 크거나같다 -> 이상\n",
        "print(a < 0)   # 0보다 작다 -> 미만\n",
        "print(a <= 0)   # 0보다 작거나같다 -> 이하\n",
        "check1 = not ( (a <= 0) and (b >10) )   # (a > 0) or (b <= 10)\n",
        "print(check1)"
      ],
      "metadata": {
        "colab": {
          "base_uri": "https://localhost:8080/"
        },
        "collapsed": true,
        "id": "pWnioVGDdt4A",
        "outputId": "ffb45e08-8db7-4e94-8a8b-af9363dfe685"
      },
      "execution_count": null,
      "outputs": [
        {
          "output_type": "stream",
          "name": "stdout",
          "text": [
            "True\n",
            "False\n",
            "True\n",
            "True\n",
            "False\n",
            "False\n",
            "['/bin/bash: line 1: =: No such file or directory']\n"
          ]
        }
      ]
    },
    {
      "cell_type": "code",
      "source": [
        "'''\n",
        "율리우스력의 윤년 추가 규칙은 다음과 같다. 이에 따라 1년은 365.25일이 된다.\n",
        "4로 나누어 떨어지는 해는 윤년, 그 밖의 해는 평년으로 한다.\n",
        "(year % 4 == 0)\n",
        "\n",
        "그레고리력은 다음과 같은 예외 규칙을 추가하였다. 이에 따라 1년은 365.2425일이 된다.\n",
        "100으로 나누어 떨어지되 400으로 나누어 떨어지지 않는 해는 평년으로 한다.(즉 100의 배수 중 400의 배수면 윤년이고 아니면 평년. ex) 1600(윤), 1700(평), 1800(평), 1900(평), 2000(윤), 2100(평), ...)\n",
        "(year % 100 == 0) and (year % 400 !=0)\n",
        "\n",
        "가령 400으로 나누어 떨어지는 2000년은 그레고리력으로 윤년이지만, 100으로는 나누어 떨어지되 400으로는 나누어 떨어지지 않는 1900년은 평년이다. 물론 율리우스력으로는 1900년이든 2000년이든 모두 윤년이다.\n",
        "\n",
        "현재 사실상 세계표준력으로 사용되는 그레고리력에 따라 논리적으로 정리해보면 {4의 배수에서 (100의 배수가 아닌 수) 또는 (400의 배수)}인 해가 윤년이 된다.'''\n",
        "\n",
        "print(15 / 2)  # 나누기 연산\n",
        "print(15 // 2)  # 몫\n",
        "print(15 % 2) # 나머지 연산자\n",
        "\n",
        "year = int(input('년도를 입력하세요 : '))\n",
        "# if (year % 4 == 0) or not ( year % 100 ==0  or  year % 400 !=0): # 드모르강의 법치\n",
        "if (year % 4 == 0) or  ( year % 100 !=0 and  year % 400 ==0):\n",
        "  print(\"윤년\")\n",
        "else:\n",
        "  print(\"평년\")"
      ],
      "metadata": {
        "colab": {
          "base_uri": "https://localhost:8080/"
        },
        "collapsed": true,
        "id": "yprG2rWrdInq",
        "outputId": "0c14a934-ea6d-454f-b0ba-5eeef4878667"
      },
      "execution_count": null,
      "outputs": [
        {
          "output_type": "stream",
          "name": "stdout",
          "text": [
            "7.5\n",
            "7\n",
            "1\n",
            "년도를 입력하세요 : 2026\n",
            "평년\n"
          ]
        }
      ]
    },
    {
      "cell_type": "code",
      "source": [
        "# 조건문:\n",
        "#   조건문:\n",
        "#     조건문:   3 depth 넘어가는 경우는 다시 재고할것"
      ],
      "metadata": {
        "id": "iPOG8O_JiliP"
      },
      "execution_count": null,
      "outputs": []
    },
    {
      "cell_type": "code",
      "source": [
        "x = 5\n",
        "if x > 0:\n",
        "  if x < 10:\n",
        "    print('0 과 10 사이의 값입니다.')"
      ],
      "metadata": {
        "colab": {
          "base_uri": "https://localhost:8080/"
        },
        "id": "GuxAQS5QfMMd",
        "outputId": "1fe5e699-394a-4643-da9e-baa9a0aa25ff"
      },
      "execution_count": null,
      "outputs": [
        {
          "output_type": "stream",
          "name": "stdout",
          "text": [
            "0 과 10 사이의 값입니다.\n"
          ]
        }
      ]
    },
    {
      "cell_type": "code",
      "source": [
        "if x > 0 and x < 10:\n",
        "  print('0 과 10 사이의 값입니다.')"
      ],
      "metadata": {
        "colab": {
          "base_uri": "https://localhost:8080/"
        },
        "id": "y-720X-pi6Me",
        "outputId": "c42a634b-21fc-449a-9638-639b5524d085"
      },
      "execution_count": null,
      "outputs": [
        {
          "output_type": "stream",
          "name": "stdout",
          "text": [
            "0 과 10 사이의 값입니다.\n"
          ]
        }
      ]
    },
    {
      "cell_type": "code",
      "source": [
        "if 0 < x < 10 :\n",
        "  print('0 과 10 사이의 값입니다.')"
      ],
      "metadata": {
        "colab": {
          "base_uri": "https://localhost:8080/"
        },
        "id": "TUqKhVlmje8H",
        "outputId": "fd61b54a-e936-4f39-8961-ac530fef4328"
      },
      "execution_count": null,
      "outputs": [
        {
          "output_type": "stream",
          "name": "stdout",
          "text": [
            "0 과 10 사이의 값입니다.\n"
          ]
        }
      ]
    },
    {
      "cell_type": "code",
      "source": [
        "x = 5\n",
        "if x > 0:\n",
        "  if x < 10:\n",
        "    print('0 과 10 사이의 값입니다.')\n",
        "  else:\n",
        "    print('10을 포함한 10보다 큰 값입니다.')\n",
        "else:\n",
        "  print('0보다 작은 값입니다.')"
      ],
      "metadata": {
        "id": "wnrZeyTPjjk3"
      },
      "execution_count": null,
      "outputs": []
    },
    {
      "cell_type": "code",
      "source": [
        "if x > 0 and x < 10:\n",
        "  print('0 과 10 사이의 값입니다.')\n",
        "else:\n",
        "  print('0이상 10 이학의 값입니다.')"
      ],
      "metadata": {
        "id": "XFr6t-EikNSt"
      },
      "execution_count": null,
      "outputs": []
    },
    {
      "cell_type": "code",
      "source": [
        "# 나이를 입려받아서...\n",
        "# 20살 이상이면 성인\n",
        "# 14세 이상 이면 청소년  (14 ~ 19)\n",
        "# 14 미만 어린이 ( ~~ 13)\n",
        "\n",
        "# 입장료가 기본이 20000\n",
        "# 성인이면 2000 출력\n",
        "# 청소년 할인은 20% 할인가격\n",
        "# 어린이 80% 할인가격 출력"
      ],
      "metadata": {
        "id": "Oh5qZRO4k3tM"
      },
      "execution_count": null,
      "outputs": []
    },
    {
      "cell_type": "code",
      "source": [],
      "metadata": {
        "id": "9VmDdOAVlWz1"
      },
      "execution_count": null,
      "outputs": []
    }
  ]
}