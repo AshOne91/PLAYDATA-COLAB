{
  "nbformat": 4,
  "nbformat_minor": 0,
  "metadata": {
    "colab": {
      "provenance": [],
      "include_colab_link": true
    },
    "kernelspec": {
      "name": "python3",
      "display_name": "Python 3"
    },
    "language_info": {
      "name": "python"
    }
  },
  "cells": [
    {
      "cell_type": "markdown",
      "metadata": {
        "id": "view-in-github",
        "colab_type": "text"
      },
      "source": [
        "<a href=\"https://colab.research.google.com/github/AshOne91/PLAYDATA-COLAB/blob/main/3_%EB%AC%B8%EC%9E%90%EC%97%B4%EA%B3%BC_%EC%9E%85%EC%B6%9C%EB%A0%A5.ipynb\" target=\"_parent\"><img src=\"https://colab.research.google.com/assets/colab-badge.svg\" alt=\"Open In Colab\"/></a>"
      ]
    },
    {
      "cell_type": "markdown",
      "source": [
        "# 실습1\n"
      ],
      "metadata": {
        "id": "R5juBzfrX87z"
      }
    },
    {
      "cell_type": "code",
      "execution_count": null,
      "metadata": {
        "id": "r1404Vgo58_e"
      },
      "outputs": [],
      "source": [
        "# 문장을 입력받아서  1.소문자로 변환, 2. 공백을 제거\n",
        "# 자연어처리에서 대소문자 구분, 불필요한 공백을 제거\n",
        "text = input(\"문장을 입력하세요 \")\n",
        "# 소문자로 변환\n",
        "text_lower = text.lower()\n",
        "# 공백제거\n",
        "text_strip = text.strip()\n",
        "print(f'소문자로 변환 : {text_lower}')\n",
        "print(f'공백제거 : {text_strip}')"
      ]
    },
    {
      "cell_type": "code",
      "source": [
        "# 자연어처리에서 단어를 토큰으로 분리하는 기초작업\n",
        "# 문자열 분리, 문자열을 입력받아서 다양하게 분리... 기본이 공백, 분리된 토큰의 개수\n",
        "text = input(\"문장을 입력하세요 \")\n",
        "words = text.split()\n",
        "print(f'분리된 단어리스트 {words}')\n",
        "print(f'단어개수 {len(words)}')"
      ],
      "metadata": {
        "id": "IMXQxLmo6TU0"
      },
      "execution_count": null,
      "outputs": []
    },
    {
      "cell_type": "code",
      "source": [
        "# 차수 - 차원 개념\n",
        "x1 = [1,2,3,4]  # 1 차원 데이터  벡터           x1[2]\n",
        "x2 = [x1,x1,x1,x1] #  2 차원 데이터    행렬\n",
        "x3 = [x2,x2,x2,x2]\n",
        "\n",
        "import numpy as np  # array  배열\n",
        "x2_numpy = np.array(x2)\n",
        "print(x2_numpy)\n",
        "print(x2_numpy[:,1:3])"
      ],
      "metadata": {
        "colab": {
          "base_uri": "https://localhost:8080/"
        },
        "id": "5lcq1nq58Jz-",
        "outputId": "34190347-e8c1-4e9d-d868-13394e53403f"
      },
      "execution_count": null,
      "outputs": [
        {
          "output_type": "stream",
          "name": "stdout",
          "text": [
            "[[1 2 3 4]\n",
            " [1 2 3 4]\n",
            " [1 2 3 4]\n",
            " [1 2 3 4]]\n",
            "[[2 3]\n",
            " [2 3]\n",
            " [2 3]\n",
            " [2 3]]\n"
          ]
        }
      ]
    },
    {
      "cell_type": "code",
      "source": [
        "# 문자열 결합 : 전처리된 단어들을 결합하거나. 새로운 문자열을 만드는 연습 - 데이터 가공\n",
        "# 3개의 단어를 공백으로 분리해서 입력   apple, banana, grap\n",
        "# 분리된 단어를 각각의 변수에 저장하거나 또는 리스트변수에 저장\n",
        "# 각 단어에서 a 문자를 제거하고\n",
        "# 단어를 공백을 기준으로 합치기\n",
        "words = input(\"3개의 단어를 입력하세요 \").split()\n",
        "words[0] = words[0].replace('a','')\n",
        "words[1] = words[1].replace('a','')\n",
        "words[2] = words[2].replace('a','')\n",
        "words = ' '.join(words)\n",
        "print(words)"
      ],
      "metadata": {
        "colab": {
          "base_uri": "https://localhost:8080/"
        },
        "id": "o4UvxShO-9S_",
        "outputId": "a28717e7-be23-4995-8a9a-937f0ce585fa"
      },
      "execution_count": null,
      "outputs": [
        {
          "output_type": "stream",
          "name": "stdout",
          "text": [
            "3개의 단어를 입력하세요apple banana grap\n",
            "pple bnn grp\n"
          ]
        }
      ]
    },
    {
      "cell_type": "code",
      "source": [
        "# 자연어 처리에서 특정 패턴(접두사, 접미사)을 추출하거나 분석할때\n",
        "# 문자열에서 특정 부분 추출  slicing\n",
        "#1.  사용자로부터 문자열을 입력받아서\n",
        "#2.  처음 5글자 출력    # 문자열의 길이가 5 이상일때만\n",
        "#3.  마지막 3글자 출력\n",
        "text = input(\"문자열을 입력하세요 \")\n",
        "if len(text) >= 5:\n",
        "  print(f'처음 5글자 : {text[ : 5]}')\n",
        "  print(f'마지막 3글자 : {text[ -3 : ]}')\n",
        "else:\n",
        "  print('5 글자가 넘어야 합니다.')"
      ],
      "metadata": {
        "id": "VDsD3O2hAZ2n",
        "colab": {
          "base_uri": "https://localhost:8080/"
        },
        "outputId": "a4e3fef2-e72b-4a89-fe72-9471a626f85f"
      },
      "execution_count": null,
      "outputs": [
        {
          "output_type": "stream",
          "name": "stdout",
          "text": [
            "문자열을 입력하세요 즐거운 금요일\n",
            "처음 5글자 : 즐거운 금\n",
            "마지막 3글자 : 금요일\n"
          ]
        }
      ]
    },
    {
      "cell_type": "code",
      "source": [
        "# 파일에서 확장자가 txt이며 \"텍스트 파일\" 출력  단일 조건\n",
        "# 확장자가 .mp4 , avi, mpeg 이면 \"동영상 파일\"  다중 조건\n",
        "# 확장자가 .ini 이면 \"설정 파일\"  이라고 출력   단일 조건\n",
        "\n",
        "import random\n",
        "files = ['text.txt','video.part1.avi','movie.mpeg','config.ini', 'document.doc']\n",
        "# 이중에 임의의 데이터 하나를 선택해서   random.choice()  함수 이용\n",
        "selecte_file = random.choice(files)\n",
        "print(f'선택된 파일 : {selecte_file}')\n",
        "extention_file = selecte_file.split('.')[-1]  # ***\n",
        "if extention_file == 'txt':\n",
        "  print('텍스트 파일')\n",
        "elif extention_file == 'avi' or extention_file == 'mpeg' or extention_file == 'mp4':\n",
        "  print('동영상 파일')\n",
        "elif extention_file == 'ini':\n",
        "  print('설정 파일')\n",
        "else:\n",
        "  print('처리할 수 없는 파일 입니다.')"
      ],
      "metadata": {
        "colab": {
          "base_uri": "https://localhost:8080/"
        },
        "id": "D1dbdQhXGO5o",
        "outputId": "46819b57-b5d0-4e05-fe34-bd891bd0ab73"
      },
      "execution_count": null,
      "outputs": [
        {
          "output_type": "stream",
          "name": "stdout",
          "text": [
            "선택된 파일 : document.doc\n",
            "처리할 수 없는 파일 입니다.\n"
          ]
        }
      ]
    },
    {
      "cell_type": "code",
      "source": [
        "# 자연어 처리 : 텍스트 정규화과정에서 대소문자 체크 변환\n",
        "# 문장을 입력받아서(영어)\n",
        "# 대문자가 포함되어 있으면 소문자로 변환  # 무조건 소문로 변환 x\n",
        "# 정규식을 이용"
      ],
      "metadata": {
        "id": "GxDDCBsVJUO5"
      },
      "execution_count": null,
      "outputs": []
    },
    {
      "cell_type": "code",
      "source": [
        "# 대문자가 포함여부  ??? 무조건 소문자로 변환\n",
        "text = \"Hello World\"\n",
        "if text != text.lower():\n",
        "  text = text.lower()\n",
        "\n",
        "print(text)"
      ],
      "metadata": {
        "id": "9_MviL06-Ldh",
        "colab": {
          "base_uri": "https://localhost:8080/"
        },
        "outputId": "23360bfa-3a64-4fa7-854d-11beb05145f0"
      },
      "execution_count": null,
      "outputs": [
        {
          "output_type": "stream",
          "name": "stdout",
          "text": [
            "hello world\n"
          ]
        }
      ]
    },
    {
      "cell_type": "code",
      "source": [
        "# 정규식... 문자열에서 패턴을 검색  regular expresion\n",
        "import re\n",
        "# text = \"Hello World\"\n",
        "text = input(\"영어 문자열 입력 \")\n",
        "isUpper = bool(re.search(r'[A-Z]',text))   # [ ] 대괄호 안에 문자를 넣으면 해당 문자들 중 하나라도 존재하면 매칭(True)\n",
        "if isUpper:\n",
        "  print(text.lower())\n",
        "else:\n",
        "  print(\"입력하신 문자열은 전부 소문자 입니다. \")\n"
      ],
      "metadata": {
        "colab": {
          "base_uri": "https://localhost:8080/"
        },
        "id": "Ez4VQaezKb4p",
        "outputId": "58a9bab5-b803-410b-c4d7-f4816edf9e0a"
      },
      "execution_count": null,
      "outputs": [
        {
          "output_type": "stream",
          "name": "stdout",
          "text": [
            "영어 문자열 입력 hello world  gooD\n",
            "hello world  good\n"
          ]
        }
      ]
    },
    {
      "cell_type": "code",
      "source": [
        "# 자연어 처리 : 키워드 검색기능 .. 문자열 내에서 특정 패턴을 검사\n",
        "# 입력한 문자열에서 특정 단어의 포함 여부 확인\n",
        "# i love programming and i like python  'like' 포함여부\n",
        "text = input(\"문장을 입력하세요\")\n",
        "find_word = 'like'\n",
        "if find_word in text:\n",
        "  print(\"like 단어가 포함되어 있습니다.\")\n",
        "else:\n",
        "  print(\"like 단어가 없습니다.\")"
      ],
      "metadata": {
        "colab": {
          "base_uri": "https://localhost:8080/"
        },
        "id": "87mMbLzqMRbp",
        "outputId": "e548b57e-4752-4454-f9f5-2b3790182e9d"
      },
      "execution_count": null,
      "outputs": [
        {
          "output_type": "stream",
          "name": "stdout",
          "text": [
            "문장을 입력하세요i love programming and i like python \n",
            "like 단어가 포함되어 있습니다.\n"
          ]
        }
      ]
    },
    {
      "cell_type": "code",
      "source": [
        "# 자연어 처리.....  구두점을 체크... (제거)\n",
        "# . , !  --> 포함여부를 확인하고.. 해당 문자열에서 제거\n",
        "text = input(\"intput sentece \")\n",
        "if '.' in text or ',' in text or '!' in text:\n",
        "  print('구두점 포함되어 있습니다.')\n",
        "  text = text.replace('.','').replace(',','').replace('!','')\n",
        "else:\n",
        "  print('구두점 이 없습니다.')"
      ],
      "metadata": {
        "id": "m5PqdwxKNoAp"
      },
      "execution_count": null,
      "outputs": []
    },
    {
      "cell_type": "code",
      "source": [
        "# 텍스트에서 불필요한 공백을 제거해서 데이터를 깔끔하게 처리\n",
        "# 연속된 공백을 하나의 공백으로 정리\n",
        "# 조건문을 이용... 연속된공백을찾아서... 공백을 하나로 만듦\n",
        "# i   like python  -> i like python\n",
        "text = 'i   like python'\n",
        "if \"  \" in text:\n",
        "  print(' '.join(text.split()) )"
      ],
      "metadata": {
        "colab": {
          "base_uri": "https://localhost:8080/"
        },
        "id": "5PRNWueZPc2C",
        "outputId": "8607d5de-6ea2-4b07-d439-975464b69015"
      },
      "execution_count": null,
      "outputs": [
        {
          "output_type": "stream",
          "name": "stdout",
          "text": [
            "i like python\n"
          ]
        }
      ]
    },
    {
      "cell_type": "markdown",
      "source": [
        "# 순환문\n",
        "  - for  / while"
      ],
      "metadata": {
        "id": "HA5s2-VqTqBV"
      }
    },
    {
      "cell_type": "code",
      "source": [
        "for i in range(3):\n",
        "  print(f\"안녕하세요 {i}\")"
      ],
      "metadata": {
        "colab": {
          "base_uri": "https://localhost:8080/"
        },
        "id": "0jgKCRZ3LYX5",
        "outputId": "96bcfd31-0e23-4149-d2c4-bf4a6c713a7f"
      },
      "execution_count": null,
      "outputs": [
        {
          "output_type": "stream",
          "name": "stdout",
          "text": [
            "안녕하세요 0\n",
            "안녕하세요 1\n",
            "안녕하세요 2\n"
          ]
        }
      ]
    },
    {
      "cell_type": "code",
      "source": [
        "import random\n",
        "samples = random.sample(range(1,46),6)\n",
        "print(samples)\n",
        "for i in samples:\n",
        "  # 리스트의 짝수만 추출\n",
        "  if i % 2 == 0:\n",
        "    print(i)"
      ],
      "metadata": {
        "colab": {
          "base_uri": "https://localhost:8080/"
        },
        "id": "WRA8c6cNVkzk",
        "outputId": "3e65577c-5516-4055-a81e-811d6ffa05f4"
      },
      "execution_count": null,
      "outputs": [
        {
          "output_type": "stream",
          "name": "stdout",
          "text": [
            "[38, 20, 15, 25, 2, 10]\n",
            "38\n",
            "20\n",
            "2\n",
            "10\n"
          ]
        }
      ]
    },
    {
      "cell_type": "code",
      "source": [
        "# 단순히 어떤로직을 특정 횟수만큼 반복\n",
        "# for i in range(5):  # i의 사용용도가 없다면 혹시나 내부에서 i변수가 잘못 사용될수 있으니\n",
        "#   print(\"검사\")\n",
        "\n",
        "for _ in range(5):\n",
        "  print(\"검사\")"
      ],
      "metadata": {
        "colab": {
          "base_uri": "https://localhost:8080/"
        },
        "collapsed": true,
        "id": "4J20RZy7Wbx7",
        "outputId": "6a712358-b52e-4ec5-f097-42a305c791d4"
      },
      "execution_count": null,
      "outputs": [
        {
          "output_type": "stream",
          "name": "stdout",
          "text": [
            "검사\n",
            "검사\n",
            "검사\n",
            "검사\n",
            "검사\n"
          ]
        }
      ]
    },
    {
      "cell_type": "code",
      "source": [
        "def myFunc():\n",
        "  return 0.85, 0\n",
        "\n",
        "a, _ = myFunc()\n",
        "print(a)"
      ],
      "metadata": {
        "colab": {
          "base_uri": "https://localhost:8080/"
        },
        "id": "0RM6lgyRW1Zs",
        "outputId": "4cfac336-689b-41e7-acf3-9e0a5e61e872"
      },
      "execution_count": null,
      "outputs": [
        {
          "output_type": "stream",
          "name": "stdout",
          "text": [
            "0.85\n"
          ]
        }
      ]
    },
    {
      "cell_type": "markdown",
      "source": [
        "while"
      ],
      "metadata": {
        "id": "Ch5sFchbXuO9"
      }
    },
    {
      "cell_type": "code",
      "source": [
        "count = 5\n",
        "while count > 0:\n",
        "  print(\"좋아용\")\n",
        "  count -= 1"
      ],
      "metadata": {
        "id": "7w4qgVjuW_ij",
        "collapsed": true,
        "colab": {
          "base_uri": "https://localhost:8080/"
        },
        "outputId": "53b5ed37-c18e-40f1-f609-08ae4ebe4823"
      },
      "execution_count": null,
      "outputs": [
        {
          "output_type": "stream",
          "name": "stdout",
          "text": [
            "좋아용\n",
            "좋아용\n",
            "좋아용\n",
            "좋아용\n",
            "좋아용\n"
          ]
        }
      ]
    },
    {
      "cell_type": "code",
      "source": [
        "# 임의자연수 (0 ~ 29) 5 추출해서 그 합이 100을넘으면 종료하고 그때의 랜덤리스트를 출력\n",
        "import random  # 모듈 불러오기\n",
        "\n",
        "random_lists = random.sample(range(30),5)  # 임의 자연수 집합 생성\n",
        "total = sum(random_lists)  # 자연수집합들의 합  total : 90\n",
        "\n",
        "count = 0  # 변수 초기화\n",
        "while total <= 100:  # 순환문의 진입  조건\n",
        "  count += 1\n",
        "  random_lists = random.sample(range(30),5)\n",
        "  total = sum(random_lists)\n",
        "\n",
        "print(random_lists, total, count)\n",
        "\n"
      ],
      "metadata": {
        "colab": {
          "base_uri": "https://localhost:8080/"
        },
        "id": "arVdkPpAYU7t",
        "outputId": "b7ea9416-9cc1-4cd7-d8d5-4710fcaa7dd7"
      },
      "execution_count": null,
      "outputs": [
        {
          "output_type": "stream",
          "name": "stdout",
          "text": [
            "[14, 27, 23, 24, 22] 110 37\n"
          ]
        }
      ]
    },
    {
      "cell_type": "markdown",
      "source": [
        "break"
      ],
      "metadata": {
        "id": "9OL5PPJebMwp"
      }
    },
    {
      "cell_type": "code",
      "source": [
        "# 임의자연수 (0 ~ 29) 5 추출해서 그 합이 100을넘으면 종료하고 그때의 랜덤리스트를 출력\n",
        "import random\n",
        "\n",
        "\n",
        "while True:\n",
        "\n",
        "  random_lists = random.sample(range(30),5)\n",
        "  total = sum(random_lists)\n",
        "  if total > 100:\n",
        "    break\n",
        "\n",
        "print(random_lists, total)\n"
      ],
      "metadata": {
        "colab": {
          "base_uri": "https://localhost:8080/"
        },
        "id": "myRWb5rHY_Es",
        "outputId": "61663774-8025-4b3c-c296-7a9889d59f94"
      },
      "execution_count": null,
      "outputs": [
        {
          "output_type": "stream",
          "name": "stdout",
          "text": [
            "[22, 21, 13, 29, 27] 112\n"
          ]
        }
      ]
    },
    {
      "cell_type": "markdown",
      "source": [
        "continue"
      ],
      "metadata": {
        "id": "sGU9R7m0bL5R"
      }
    },
    {
      "cell_type": "code",
      "source": [
        "# 짝수만 추출해서 리스트에 담기\n",
        "result = []\n",
        "for i in random.sample(range(100), 15):\n",
        "  if i % 2 != 0:  #홀수일대만 skip\n",
        "    continue\n",
        "  result.append(i)  # 짝수만 저장\n",
        "\n",
        "result"
      ],
      "metadata": {
        "colab": {
          "base_uri": "https://localhost:8080/"
        },
        "id": "2qMNkWnCbLIb",
        "outputId": "c8f0e202-7ef3-4cd0-ff83-fcf7de5b658c"
      },
      "execution_count": null,
      "outputs": [
        {
          "output_type": "execute_result",
          "data": {
            "text/plain": [
              "[24, 60, 52, 14, 4, 34, 82, 78]"
            ]
          },
          "metadata": {},
          "execution_count": 156
        }
      ]
    },
    {
      "cell_type": "code",
      "source": [
        "# 자연어 처리.....  구두점을 체크... (제거)\n",
        "# . , !  --> 포함여부를 확인하고.. 해당 문자열에서 제거\n",
        "# text = input(\"intput sentece \")\n",
        "# if '.' in text or ',' in text or '!' in text:\n",
        "#   print('구두점 포함되어 있습니다.')\n",
        "#   text = text.replace('.','').replace(',','').replace('!','')\n",
        "# else:\n",
        "#   print('구두점 이 없습니다.')\n",
        "\n",
        "  # 순환문을 이용한 방법으로 개선  구두점 리스트로 만들어\n",
        "  # 리스트의 있는 요소가 문장에 포함되어 있는지 검사   -순환문을 이용해서\n",
        "  # 있으면 해당 구두점을 제거하는 replace를 실행\n",
        "text = input(\"intput sentece \")\n",
        "remove_lists = ['.', ',', '!', '@']\n",
        "for char in remove_lists:\n",
        "  if char in text:\n",
        "    text = text.replace(char, '')\n",
        "\n",
        "print(f'구두점 제거 : {text}')"
      ],
      "metadata": {
        "colab": {
          "base_uri": "https://localhost:8080/"
        },
        "id": "nt4OZW0CcejA",
        "outputId": "b8f09762-4249-499d-b0a6-5386f0b92801"
      },
      "execution_count": null,
      "outputs": [
        {
          "output_type": "stream",
          "name": "stdout",
          "text": [
            "intput sentece 즐거운! 금요일. 입@@@니다\n",
            "구두점 포함되어 있습니다.\n",
            "구두점 포함되어 있습니다.\n",
            "구두점 포함되어 있습니다.\n",
            "구두점 제거 : 즐거운 금요일 입니다\n"
          ]
        }
      ]
    },
    {
      "cell_type": "code",
      "source": [
        "# 구구단 출력\n",
        "for i in range(1, 10): # 1 ~9\n",
        "  print(f'2 x {i} = {2*i}')"
      ],
      "metadata": {
        "colab": {
          "base_uri": "https://localhost:8080/"
        },
        "id": "htfdPpZcjFxx",
        "outputId": "bfcc0936-4f98-45e2-dd88-b37d018d509c"
      },
      "execution_count": null,
      "outputs": [
        {
          "output_type": "stream",
          "name": "stdout",
          "text": [
            "2 x 1 = 2\n",
            "2 x 2 = 4\n",
            "2 x 3 = 6\n",
            "2 x 4 = 8\n",
            "2 x 5 = 10\n",
            "2 x 6 = 12\n",
            "2 x 7 = 14\n",
            "2 x 8 = 16\n",
            "2 x 9 = 18\n"
          ]
        }
      ]
    },
    {
      "cell_type": "code",
      "source": [
        "# 중첩 for   print()\n",
        "for i in range(2,10):\n",
        "  for j in range(1,10):\n",
        "   print(f'{i} x {j} = {i*j}', end='\\t')\n",
        "  print()\n"
      ],
      "metadata": {
        "colab": {
          "base_uri": "https://localhost:8080/"
        },
        "id": "ieqJQ_ORj0NU",
        "outputId": "ae03c3ec-0e5f-4981-cc04-e3836497f9f3"
      },
      "execution_count": null,
      "outputs": [
        {
          "output_type": "stream",
          "name": "stdout",
          "text": [
            "2 x 1 = 2\t2 x 2 = 4\t2 x 3 = 6\t2 x 4 = 8\t2 x 5 = 10\t2 x 6 = 12\t2 x 7 = 14\t2 x 8 = 16\t2 x 9 = 18\t\n",
            "3 x 1 = 3\t3 x 2 = 6\t3 x 3 = 9\t3 x 4 = 12\t3 x 5 = 15\t3 x 6 = 18\t3 x 7 = 21\t3 x 8 = 24\t3 x 9 = 27\t\n",
            "4 x 1 = 4\t4 x 2 = 8\t4 x 3 = 12\t4 x 4 = 16\t4 x 5 = 20\t4 x 6 = 24\t4 x 7 = 28\t4 x 8 = 32\t4 x 9 = 36\t\n",
            "5 x 1 = 5\t5 x 2 = 10\t5 x 3 = 15\t5 x 4 = 20\t5 x 5 = 25\t5 x 6 = 30\t5 x 7 = 35\t5 x 8 = 40\t5 x 9 = 45\t\n",
            "6 x 1 = 6\t6 x 2 = 12\t6 x 3 = 18\t6 x 4 = 24\t6 x 5 = 30\t6 x 6 = 36\t6 x 7 = 42\t6 x 8 = 48\t6 x 9 = 54\t\n",
            "7 x 1 = 7\t7 x 2 = 14\t7 x 3 = 21\t7 x 4 = 28\t7 x 5 = 35\t7 x 6 = 42\t7 x 7 = 49\t7 x 8 = 56\t7 x 9 = 63\t\n",
            "8 x 1 = 8\t8 x 2 = 16\t8 x 3 = 24\t8 x 4 = 32\t8 x 5 = 40\t8 x 6 = 48\t8 x 7 = 56\t8 x 8 = 64\t8 x 9 = 72\t\n",
            "9 x 1 = 9\t9 x 2 = 18\t9 x 3 = 27\t9 x 4 = 36\t9 x 5 = 45\t9 x 6 = 54\t9 x 7 = 63\t9 x 8 = 72\t9 x 9 = 81\t\n"
          ]
        }
      ]
    },
    {
      "cell_type": "code",
      "source": [
        "# 중첩 for   print()\n",
        "for i in range(1,10):\n",
        "  for j in range(2,10):\n",
        "   print(f'{j} x {i} = {i*j}', end='\\t')\n",
        "  print()"
      ],
      "metadata": {
        "colab": {
          "base_uri": "https://localhost:8080/"
        },
        "id": "ClI39iO8lgF7",
        "outputId": "119d8b1a-26ae-4aa7-f3ab-10f2a8b7b434"
      },
      "execution_count": null,
      "outputs": [
        {
          "output_type": "stream",
          "name": "stdout",
          "text": [
            "2 x 1 = 2\t3 x 1 = 3\t4 x 1 = 4\t5 x 1 = 5\t6 x 1 = 6\t7 x 1 = 7\t8 x 1 = 8\t9 x 1 = 9\t\n",
            "2 x 2 = 4\t3 x 2 = 6\t4 x 2 = 8\t5 x 2 = 10\t6 x 2 = 12\t7 x 2 = 14\t8 x 2 = 16\t9 x 2 = 18\t\n",
            "2 x 3 = 6\t3 x 3 = 9\t4 x 3 = 12\t5 x 3 = 15\t6 x 3 = 18\t7 x 3 = 21\t8 x 3 = 24\t9 x 3 = 27\t\n",
            "2 x 4 = 8\t3 x 4 = 12\t4 x 4 = 16\t5 x 4 = 20\t6 x 4 = 24\t7 x 4 = 28\t8 x 4 = 32\t9 x 4 = 36\t\n",
            "2 x 5 = 10\t3 x 5 = 15\t4 x 5 = 20\t5 x 5 = 25\t6 x 5 = 30\t7 x 5 = 35\t8 x 5 = 40\t9 x 5 = 45\t\n",
            "2 x 6 = 12\t3 x 6 = 18\t4 x 6 = 24\t5 x 6 = 30\t6 x 6 = 36\t7 x 6 = 42\t8 x 6 = 48\t9 x 6 = 54\t\n",
            "2 x 7 = 14\t3 x 7 = 21\t4 x 7 = 28\t5 x 7 = 35\t6 x 7 = 42\t7 x 7 = 49\t8 x 7 = 56\t9 x 7 = 63\t\n",
            "2 x 8 = 16\t3 x 8 = 24\t4 x 8 = 32\t5 x 8 = 40\t6 x 8 = 48\t7 x 8 = 56\t8 x 8 = 64\t9 x 8 = 72\t\n",
            "2 x 9 = 18\t3 x 9 = 27\t4 x 9 = 36\t5 x 9 = 45\t6 x 9 = 54\t7 x 9 = 63\t8 x 9 = 72\t9 x 9 = 81\t\n"
          ]
        }
      ]
    },
    {
      "cell_type": "code",
      "source": [
        "random.sample(range(10),5)\n",
        "list_2 = []\n",
        "for i in range(3):\n",
        "  list_2.append(random.sample(range(10),5))\n",
        "\n",
        "# 시각적인 확인용\n",
        "for row in list_2:\n",
        "  print(row)\n",
        "\n",
        "\n",
        "for i in range(len(list_2)):\n",
        "  print(f'list_2의 {i}번째 가로의 합 : {sum(list_2[i])}')\n",
        "\n",
        "for i in range(len(list_2[0])):  # 0 ~ 4\n",
        "  temp = 0\n",
        "  for j in range(len(list_2)):\n",
        "    temp += list_2[j][i]\n",
        "  print(f'list_2의 {i}번째 세로의 합 : {temp}')"
      ],
      "metadata": {
        "colab": {
          "base_uri": "https://localhost:8080/"
        },
        "id": "aZiLx2qonKsS",
        "outputId": "4bf405f4-4686-4633-c19e-09a7a338766b"
      },
      "execution_count": null,
      "outputs": [
        {
          "output_type": "stream",
          "name": "stdout",
          "text": [
            "[6, 0, 4, 9, 2]\n",
            "[8, 2, 4, 3, 6]\n",
            "[9, 0, 1, 6, 3]\n",
            "list_2의 0번째 가로의 합 : 21\n",
            "list_2의 1번째 가로의 합 : 23\n",
            "list_2의 2번째 가로의 합 : 19\n",
            "list_2의 0번째 세로의 합 : 23\n",
            "list_2의 1번째 세로의 합 : 2\n",
            "list_2의 2번째 세로의 합 : 9\n",
            "list_2의 3번째 세로의 합 : 18\n",
            "list_2의 4번째 세로의 합 : 11\n"
          ]
        }
      ]
    },
    {
      "cell_type": "code",
      "source": [
        "list_1 = [1,5,7]\n",
        "list_2= [ list_1,list_1  ]\n",
        "print(f'list_2 는 2차원 리스트')  # 행렬\n",
        "# row(행,가로,데이터) , col(열,세로,특성)\n",
        "# row : 2  col: 3  (2,3)\n",
        "# 행의개수  2차원의 데이터 개수  len(list_2)\n",
        "# 열의개수 len(list_2[0])\n",
        "# 2차원 데이터의 모든 데이터를 순환하려면\n",
        "for i in range(len(list_2)):\n",
        "  for j in range(len(list_2[0])):\n",
        "    print(f'list_2[{i}][{j}] = {list_2[i][j]}')"
      ],
      "metadata": {
        "colab": {
          "base_uri": "https://localhost:8080/"
        },
        "id": "Nf_gKv4m99HM",
        "outputId": "fda53e2b-f8a8-4dd8-f744-e0ccc9a71abb"
      },
      "execution_count": null,
      "outputs": [
        {
          "output_type": "stream",
          "name": "stdout",
          "text": [
            "list_2 는 2차원 리스트\n",
            "list_2[0][0] = 1\n",
            "list_2[0][1] = 5\n",
            "list_2[0][2] = 7\n",
            "list_2[1][0] = 1\n",
            "list_2[1][1] = 5\n",
            "list_2[1][2] = 7\n"
          ]
        }
      ]
    },
    {
      "cell_type": "code",
      "source": [
        "fruits = ['사과','배','바나나','포도','사과','딸기','사과']\n",
        "# 사과의 개수를 구하세요  for문을 이용해서\n",
        "count = 0\n",
        "for fruit in fruits:\n",
        "  if fruit == '사과':\n",
        "    count += 1\n",
        "print(f'사과의 개수 : {count}')"
      ],
      "metadata": {
        "colab": {
          "base_uri": "https://localhost:8080/"
        },
        "id": "y-e1_dnyAdLq",
        "outputId": "e693510c-9993-46e5-8064-ba9c36e50906"
      },
      "execution_count": null,
      "outputs": [
        {
          "output_type": "stream",
          "name": "stdout",
          "text": [
            "사과의 개수 : 3\n"
          ]
        }
      ]
    },
    {
      "cell_type": "code",
      "source": [
        "while True:\n",
        "  isContinue = input('계속하시겠습니까 (y/Y) ')\n",
        "  if isContinue.loweraa() == 'y':\n",
        "    break"
      ],
      "metadata": {
        "colab": {
          "base_uri": "https://localhost:8080/"
        },
        "collapsed": true,
        "id": "qHS8UJBr-AoV",
        "outputId": "017b745f-d944-4243-f550-3bfd9410fc89"
      },
      "execution_count": null,
      "outputs": [
        {
          "name": "stdout",
          "output_type": "stream",
          "text": [
            "계속하시겠습니까 (y/Y) a\n",
            "계속하시겠습니까 (y/Y) \n",
            "계속하시겠습니까 (y/Y) \n",
            "계속하시겠습니까 (y/Y) Y\n"
          ]
        }
      ]
    },
    {
      "cell_type": "code",
      "source": [
        "# while 문\n",
        "# 1. 나이를 입력받는다\n",
        "# 2, 나이에 따른 입장료를 계산  (성인 청소년 어린이)\n",
        "# 3. 입장료를 수입(total)에 누적\n",
        "# 4. 계속할지 물어본다 - break\n",
        "\n",
        "\n",
        "# 5. 프로그램 이 종료가 되면\n",
        "# 6 총 수입금액을 출력(total)\n"
      ],
      "metadata": {
        "id": "4Q5MxCJTCK5J"
      },
      "execution_count": null,
      "outputs": []
    },
    {
      "cell_type": "code",
      "source": [
        "total = 0  # 총 수입을 저장할 변수\n",
        "\n",
        "while True:\n",
        "    # 나이를 입력받는다\n",
        "    age = int(input(\"나이를 입력하세요: \"))\n",
        "\n",
        "    # 나이에 따른 입장료 계산\n",
        "    if age >= 19:  # 19 20 21\n",
        "        entrance_fee = 10000  # 성인\n",
        "    elif age >= 13:  # 13 ~ 18\n",
        "        entrance_fee = 7000  # 청소년\n",
        "    elif age >= 8:\n",
        "        entrance_fee = 3000  # 어린이\n",
        "    else:\n",
        "        print('잘못된 나이 (8살 이상 입력)')\n",
        "        continue  # 잘못된 나이는 다시 입력받기\n",
        "\n",
        "    # 입장료를 수입에 누적\n",
        "    total += entrance_fee\n",
        "\n",
        "    # 계속할지 물어본다\n",
        "    continue_program = input(\"계속하시겠습니까? (y/Y): \")\n",
        "    if continue_program.lower() != 'y':\n",
        "        break\n",
        "\n",
        "# 프로그램 종료 후 총 수입금액 출력\n",
        "print(f\"총 수입금액은 {total:,}원입니다.\")\n"
      ],
      "metadata": {
        "colab": {
          "base_uri": "https://localhost:8080/"
        },
        "collapsed": true,
        "id": "N15z4kvWE1Qq",
        "outputId": "003c1795-df9c-432b-800b-de0471cbcff7"
      },
      "execution_count": null,
      "outputs": [
        {
          "output_type": "stream",
          "name": "stdout",
          "text": [
            "나이를 입력하세요: 25\n",
            "계속하시겠습니까? (y/Y): y\n",
            "나이를 입력하세요: 12\n",
            "계속하시겠습니까? (y/Y): y\n",
            "나이를 입력하세요: 4\n",
            "잘못된 나이 (8살 이상 입력)\n",
            "나이를 입력하세요: 80\n",
            "계속하시겠습니까? (y/Y): 13\n",
            "총 수입금액은 23000원입니다.\n"
          ]
        }
      ]
    },
    {
      "cell_type": "code",
      "source": [
        "total = 25000\n",
        "print(f\"총 수입금액은 {total:,}원입니다.\")  # 쉼표 추가하여 출력"
      ],
      "metadata": {
        "colab": {
          "base_uri": "https://localhost:8080/"
        },
        "id": "0Jbf0zCPLfRU",
        "outputId": "ce056645-db56-4384-e227-a65627b81912"
      },
      "execution_count": null,
      "outputs": [
        {
          "output_type": "stream",
          "name": "stdout",
          "text": [
            "총 수입금액은 25,000원입니다.\n"
          ]
        }
      ]
    },
    {
      "cell_type": "code",
      "source": [
        "# 천단위로 , 표시하기\n",
        "price = 25000\n",
        "price = str(price)\n",
        "count = 0\n",
        "result = []\n",
        "for c in price[::-1]:\n",
        "  count += 1\n",
        "  result.append(c)\n",
        "  if count % 2 == 0:\n",
        "    result.append(',')\n",
        "if result[-1] == ',':\n",
        "  result.pop()  # 리스트의 가자 마지막을 리스트에서 제거하고 제거된 값을 리턴\n",
        "\n",
        "result = ''.join(result[::-1])\n",
        "print(result)"
      ],
      "metadata": {
        "colab": {
          "base_uri": "https://localhost:8080/"
        },
        "id": "UpvmDmXZF3Zd",
        "outputId": "208d171c-e478-42b3-db8e-d0a1464fce6a"
      },
      "execution_count": null,
      "outputs": [
        {
          "output_type": "stream",
          "name": "stdout",
          "text": [
            "2,50,00\n"
          ]
        }
      ]
    },
    {
      "cell_type": "code",
      "source": [
        "# 영어에서 모음  aeiouAEIOU\n",
        "# 문자열에서 모음개수를 세어보기\n",
        "# Hello Python\n",
        "# for, if, in --> 포함여주 알려주는\n",
        "# count\n",
        "\n",
        "text = \"Hello machine learning\"  # 3개\n",
        "value = \"aeiouAEIOU\"\n",
        "\n",
        "count = 0\n",
        "for c in text:\n",
        "  if c in value:\n",
        "    count += 1\n",
        "\n",
        "print(f'모음의 개수는 : {count}')"
      ],
      "metadata": {
        "colab": {
          "base_uri": "https://localhost:8080/"
        },
        "id": "2rCtO4UBL_p6",
        "outputId": "046107cd-6f31-45b6-a91d-da8e4f5708e3"
      },
      "execution_count": null,
      "outputs": [
        {
          "output_type": "stream",
          "name": "stdout",
          "text": [
            "모음의 개수는 : 8\n"
          ]
        }
      ]
    },
    {
      "cell_type": "code",
      "source": [
        "import string\n",
        "print(string.punctuation)\n",
        "# 문장에서 특수기호에 해당하는 단어를 삭제\n",
        "text = '''\n",
        "에코프로비엠이 코스피시장 이전 상장을 철회하면서 주가가 급락하고 있다.에코프로비엠 주식은 28일 오전 11시 15분 코스닷시장에서 12만100원에 거래됐다. 전날보다 주가가 10.37%(1만3900원) 내렸다.\n",
        "\n",
        "에코프로비엠은 이날 오전 11시 코스피시장 이전상장을 철회한다고 공시했다. 지난해 11월 이전상장을 위한 예비심사신청서를 접수하고 3개월 만이다.\n",
        "\n",
        "에코프로비엠은 “여러 제반 요건을 고려해 이전상장 신청의 건을 철회하기로 했다”며 “향후 경영실적 개선 확인 후 유가증권시장(코스피시장) 이전상장 예비심사를 재신청할 예정”이라고 밝혔다.\n",
        "\n",
        "- Copyright ⓒ 조선비즈 & Chosun.com -\n",
        "\n",
        "Copyright © 조선비즈. 무단전재 및 재배포 금지.'''\n",
        "\n",
        "for c in string.punctuation:\n",
        "  text = text.replace(c,'')\n",
        "\n",
        "print(text)\n"
      ],
      "metadata": {
        "colab": {
          "base_uri": "https://localhost:8080/"
        },
        "collapsed": true,
        "id": "W-4cBE-NNrLU",
        "outputId": "bc690a15-cce4-4671-f890-a19b4512b327"
      },
      "execution_count": null,
      "outputs": [
        {
          "output_type": "stream",
          "name": "stdout",
          "text": [
            "!\"#$%&'()*+,-./:;<=>?@[\\]^_`{|}~\n",
            "\n",
            "에코프로비엠이 코스피시장 이전 상장을 철회하면서 주가가 급락하고 있다에코프로비엠 주식은 28일 오전 11시 15분 코스닷시장에서 12만100원에 거래됐다 전날보다 주가가 10371만3900원 내렸다\n",
            "\n",
            "에코프로비엠은 이날 오전 11시 코스피시장 이전상장을 철회한다고 공시했다 지난해 11월 이전상장을 위한 예비심사신청서를 접수하고 3개월 만이다\n",
            "\n",
            "에코프로비엠은 “여러 제반 요건을 고려해 이전상장 신청의 건을 철회하기로 했다”며 “향후 경영실적 개선 확인 후 유가증권시장코스피시장 이전상장 예비심사를 재신청할 예정”이라고 밝혔다\n",
            "\n",
            " Copyright ⓒ 조선비즈  Chosuncom \n",
            "\n",
            "Copyright © 조선비즈 무단전재 및 재배포 금지\n"
          ]
        }
      ]
    },
    {
      "cell_type": "code",
      "source": [
        "# startwith  ~로 시작하는 문자열\n",
        "# endwith  ~로 끝나는 문자열\n",
        "text = 'python is easy'\n",
        "text.endswith(\"easy\")\n",
        "text = '집은 좋다 공부는 어렵다 학교는 재미있다 우리는 즐겁다'\n",
        "# '는'으로 끝나는 단어를 찾아서출력  공부는, 학교는, 우리는       endwith('는')\n",
        "for w in text.split():\n",
        "  if w.endswith('는'):\n",
        "    print(w)"
      ],
      "metadata": {
        "colab": {
          "base_uri": "https://localhost:8080/"
        },
        "id": "rltkWuO7JhXy",
        "outputId": "90bf99d8-2961-4543-d293-b3f466391e8e"
      },
      "execution_count": null,
      "outputs": [
        {
          "output_type": "stream",
          "name": "stdout",
          "text": [
            "공부는\n",
            "학교는\n",
            "우리는\n"
          ]
        }
      ]
    },
    {
      "cell_type": "code",
      "source": [
        "# 문장에서 긍정적인 단어 감지\n",
        "sentences = [\n",
        "    '영화가 재미있어요',\n",
        "    '날씨가 좋아요',\n",
        "    '음식이 별로에요',\n",
        "    '이 책을 추천 합니다.'\n",
        "]\n",
        "positive_lists = ['재미있어요','좋아요','추천']\n",
        "# 해당문장에서 긍정적인 문장을 출력\n",
        "for sentence in sentences:          # sentece  -> 영화가 재미있어요\n",
        "  for check in positive_lists:      # check -> 재미있어요\n",
        "    if check in sentence:           # 재미있어요 in  영화가 재미있어요\n",
        "      print(f'긍정적인 문장 : {sentence}')"
      ],
      "metadata": {
        "colab": {
          "base_uri": "https://localhost:8080/"
        },
        "id": "6T2HgaFURZ_R",
        "outputId": "98f002db-d4e8-46e6-a8bc-1830a7d7c808"
      },
      "execution_count": null,
      "outputs": [
        {
          "output_type": "stream",
          "name": "stdout",
          "text": [
            "긍정적인 문장 : 영화가 재미있어요\n",
            "긍정적인 문장 : 날씨가 좋아요\n",
            "긍정적인 문장 : 이 책을 추천 합니다.\n"
          ]
        }
      ]
    },
    {
      "cell_type": "code",
      "source": [
        "# 주어진 문장에서 모든 대문자 단어를 추출\n",
        "# for  isupper()  모든 대문자를 출력\n",
        "text = 'I love NLP and Python is FUN'\n",
        "# I NLP FUN\n",
        "upper_lists = []\n",
        "for w in text.split():\n",
        "  if w.isupper():\n",
        "    upper_lists.append(w)\n",
        "print(upper_lists)"
      ],
      "metadata": {
        "colab": {
          "base_uri": "https://localhost:8080/"
        },
        "id": "Nk0TDUd5RhI3",
        "outputId": "585de6bb-9c8f-4e3b-bb59-fc4d124e4395"
      },
      "execution_count": null,
      "outputs": [
        {
          "output_type": "stream",
          "name": "stdout",
          "text": [
            "['I', 'NLP', 'FUN']\n"
          ]
        }
      ]
    },
    {
      "cell_type": "code",
      "source": [
        "# 주어진 문장에서 공백을 기준으로 단어를 분리한다음\n",
        "# 단어의 길이가 2개 이하인 단어들만 리스트에 담아서 출력\n",
        "text = '''\n",
        "대한축구협회는 28일 보도자료를 통해 '2031년 아시아축구연맹(AFC) 아시안컵 개최에 대한 유치 의향서(Expression of interst to host)를 지난 27일 AFC에 제출했다'고 밝혔다.\n",
        "'''\n",
        "\n",
        "under_2_word = []\n",
        "for word in text.split():\n",
        "  if len(word) <= 2:\n",
        "    under_2_word.append(word)\n",
        "\n",
        "print(under_2_word)"
      ],
      "metadata": {
        "colab": {
          "base_uri": "https://localhost:8080/"
        },
        "id": "97NxqFy0XlJs",
        "outputId": "8f7612c7-7f78-4e53-8c6b-eb516a26b03d"
      },
      "execution_count": null,
      "outputs": [
        {
          "output_type": "stream",
          "name": "stdout",
          "text": [
            "['통해', '대한', '유치', 'of', 'to', '지난']\n"
          ]
        }
      ]
    },
    {
      "cell_type": "code",
      "source": [
        "# 텍스트에 연속된 단어쌍을 만들기\n",
        "text = \"나는 수업이 끝나고 집에 가서 열심히 공부한다\"\n",
        "# n-gram 기법   n = 2\n",
        "# '나는  수업이', '수업이 끝나고', '끝나고 집에', '집에 가서', '가서 열심히', '열심히 공부한다'\n",
        "text = text.split()\n",
        "print(text)\n",
        "for i in range(len(text)-1):\n",
        "  print(text[i]+' ' + text[i+1])"
      ],
      "metadata": {
        "colab": {
          "base_uri": "https://localhost:8080/"
        },
        "id": "E-BIJPedZ8rE",
        "outputId": "e8f57cd8-7884-4af9-bca0-694ccc1a7fbc"
      },
      "execution_count": null,
      "outputs": [
        {
          "output_type": "stream",
          "name": "stdout",
          "text": [
            "['나는', '수업이', '끝나고', '집에', '가서', '열심히', '공부한다']\n",
            "나는 수업이\n",
            "수업이 끝나고\n",
            "끝나고 집에\n",
            "집에 가서\n",
            "가서 열심히\n",
            "열심히 공부한다\n"
          ]
        }
      ]
    },
    {
      "cell_type": "code",
      "source": [
        "# 사용자로부터 단어를입력받어서 문장을 만들어 나가기\n",
        "start ='옛날옛적에'\n",
        "\n",
        "\n",
        "# 사용자 입력 : 호랑이가\n",
        "# 출력 : 옛날옛적에 호랑이가\n",
        "\n",
        "# 사용자 입력 : 떡하나주면\n",
        "# 출력 : 옛날옛적에 호랑이가 떡하나주면\n",
        "\n",
        "# 사용자 입력 : 안잡아먹지\n",
        "# 출력 : 옛날옛적에 호랑이가 떡하나주면 안잡아먹지\n",
        "\n",
        "# 사용자 입력 : 끝\n",
        "\n",
        "# while, 문장을 저장할 리스트,  리스트의 문장을 하나로 합칠 join, 사용자 입력을 받아드릴 input\n",
        "# break : 끝  이 입력되면 순환문 탈출\n",
        "text = ''\n",
        "while True:\n",
        "  print(f'현재 문장 : {start}')\n",
        "  text = input('다음단어 입력 : ')\n",
        "  if text == '끝':\n",
        "    break\n",
        "  start +=  f' {text}'\n",
        "\n",
        "print(f'최종문장 : {start}')"
      ],
      "metadata": {
        "colab": {
          "base_uri": "https://localhost:8080/"
        },
        "id": "oHQOBiKocNdq",
        "outputId": "30a0a9a0-61ce-4b7b-d337-bd0c5be9f621"
      },
      "execution_count": null,
      "outputs": [
        {
          "output_type": "stream",
          "name": "stdout",
          "text": [
            "현재 문장 : 옛날옛적에\n",
            "다음단어 입력 : 호랑이\n",
            "현재 문장 : 옛날옛적에 호랑이\n",
            "다음단어 입력 : 담배피던\n",
            "현재 문장 : 옛날옛적에 호랑이 담배피던\n",
            "다음단어 입력 : 끝\n",
            "최종문장 : 옛날옛적에 호랑이 담배피던\n"
          ]
        }
      ]
    },
    {
      "cell_type": "code",
      "source": [
        "# 여러문장이 있을때 문장별로 토큰화\n",
        "text = '나는 학교에 간다. 친구를 만난다. 집에 온다'\n",
        "# expect : ['나는 학교에간다', '친구를 만난다', '집에 온다']\n",
        "result = []\n",
        "for sentece in text.split('.'):\n",
        "  result.append(sentece.strip())\n",
        "\n",
        "print(result)"
      ],
      "metadata": {
        "colab": {
          "base_uri": "https://localhost:8080/"
        },
        "id": "9EYbqI9-f65t",
        "outputId": "119b1bf4-bc50-4ae1-a584-5dc04b43ba99"
      },
      "execution_count": null,
      "outputs": [
        {
          "output_type": "stream",
          "name": "stdout",
          "text": [
            "['나는 학교에 간다', '친구를 만난다', '집에 온다']\n"
          ]
        }
      ]
    },
    {
      "cell_type": "markdown",
      "source": [
        "- 기사내용을 스크랩하고\n",
        "- 형태소 분석기를 도입해서 한글의 명사를 추출한후\n",
        "- 명사의 개수를 카운트해서 빈도수가 높은 단어 상위 10개만 추출해 보기\n",
        "- dictionary라는 자료구조를 사용할수 도 있지만.. -- 배운후에 사용해 보기"
      ],
      "metadata": {
        "id": "yBE7aBTSluR3"
      }
    },
    {
      "cell_type": "code",
      "source": [
        "!pip install konlpy"
      ],
      "metadata": {
        "colab": {
          "base_uri": "https://localhost:8080/"
        },
        "id": "fOYg10rVmOVQ",
        "outputId": "7442e294-2d70-4368-9655-31477b268c02"
      },
      "execution_count": null,
      "outputs": [
        {
          "output_type": "stream",
          "name": "stdout",
          "text": [
            "Collecting konlpy\n",
            "  Downloading konlpy-0.6.0-py2.py3-none-any.whl.metadata (1.9 kB)\n",
            "Collecting JPype1>=0.7.0 (from konlpy)\n",
            "  Downloading jpype1-1.5.2-cp311-cp311-manylinux_2_17_x86_64.manylinux2014_x86_64.whl.metadata (4.9 kB)\n",
            "Requirement already satisfied: lxml>=4.1.0 in /usr/local/lib/python3.11/dist-packages (from konlpy) (5.3.1)\n",
            "Requirement already satisfied: numpy>=1.6 in /usr/local/lib/python3.11/dist-packages (from konlpy) (1.26.4)\n",
            "Requirement already satisfied: packaging in /usr/local/lib/python3.11/dist-packages (from JPype1>=0.7.0->konlpy) (24.2)\n",
            "Downloading konlpy-0.6.0-py2.py3-none-any.whl (19.4 MB)\n",
            "\u001b[2K   \u001b[90m━━━━━━━━━━━━━━━━━━━━━━━━━━━━━━━━━━━━━━━━\u001b[0m \u001b[32m19.4/19.4 MB\u001b[0m \u001b[31m63.9 MB/s\u001b[0m eta \u001b[36m0:00:00\u001b[0m\n",
            "\u001b[?25hDownloading jpype1-1.5.2-cp311-cp311-manylinux_2_17_x86_64.manylinux2014_x86_64.whl (494 kB)\n",
            "\u001b[2K   \u001b[90m━━━━━━━━━━━━━━━━━━━━━━━━━━━━━━━━━━━━━━━━\u001b[0m \u001b[32m494.1/494.1 kB\u001b[0m \u001b[31m27.3 MB/s\u001b[0m eta \u001b[36m0:00:00\u001b[0m\n",
            "\u001b[?25hInstalling collected packages: JPype1, konlpy\n",
            "Successfully installed JPype1-1.5.2 konlpy-0.6.0\n"
          ]
        }
      ]
    },
    {
      "cell_type": "code",
      "source": [],
      "metadata": {
        "colab": {
          "base_uri": "https://localhost:8080/"
        },
        "id": "igES5Rahfqmj",
        "outputId": "1ba76cdf-7ca9-46f8-c20a-75195f44025b"
      },
      "execution_count": null,
      "outputs": [
        {
          "output_type": "stream",
          "name": "stdout",
          "text": [
            "형태소 : ['인공', '지능', '은', '앞', '으로', '보편화', '될거', '같습니다', '.']\n"
          ]
        }
      ]
    },
    {
      "cell_type": "code",
      "source": [
        "# 형태소 분석기( 명사 형용사 부사)\n",
        "from konlpy.tag import Okt\n",
        "# Okt 클래스의 객체 생성\n",
        "okt = Okt()  # Okt 클래스... okt 객체변수\n",
        "\n",
        "text = '인공지능은 앞으로 보편화 될거 같습니다.'\n",
        "morphs = okt.morphs(text)\n",
        "print(f\"형태소 : {morphs}\")\n",
        "\n",
        "pos = okt.pos(text)\n",
        "print(f\"품사태깅 : {pos}\")\n",
        "nouns = okt.nouns(text)\n",
        "print(f\"명사 : {nouns}\")"
      ],
      "metadata": {
        "colab": {
          "base_uri": "https://localhost:8080/"
        },
        "id": "Cks3Lj9JoIUU",
        "outputId": "ac98920f-1608-4fe0-9ecb-a3adaf94ab41"
      },
      "execution_count": null,
      "outputs": [
        {
          "output_type": "stream",
          "name": "stdout",
          "text": [
            "형태소 : ['인공', '지능', '은', '앞', '으로', '보편화', '될거', '같습니다', '.']\n",
            "품사태깅 : [('인공', 'Noun'), ('지능', 'Noun'), ('은', 'Josa'), ('앞', 'Noun'), ('으로', 'Josa'), ('보편화', 'Noun'), ('될거', 'Verb'), ('같습니다', 'Adjective'), ('.', 'Punctuation')]\n",
            "명사 : ['인공', '지능', '앞', '보편화']\n"
          ]
        }
      ]
    },
    {
      "cell_type": "code",
      "source": [
        "!pip install konlpy\n",
        "from konlpy.tag import Okt\n",
        "# text = ''\n",
        "# 인터넷 뉴스기사를 스크랩해서 파일에 저장한다음\n",
        "# text 에는 파일에서 읽어서 저장하고\n",
        "with open('/content/drive/MyDrive/data/kor_news.txt', 'r',encoding='utf8') as f:\n",
        "  text = f.read()\n",
        "nouns = okt.nouns(text)\n",
        "print(nouns[:10])\n",
        "# nouns 명사들의 리스트 집합\n",
        "# 추출된 명사의 길이가 2글자 이상인 것만 다시 추려서\n",
        "selected_nouns = []\n",
        "for word in nouns:\n",
        "  if len(word) > 2:\n",
        "    selected_nouns.append(word)\n",
        "print(selected_nouns[:10])\n",
        "# from collection import Counter 를 이용해서\n",
        "from collections import Counter\n",
        "# 각 단어의 빈도수를 구해서\n",
        "count = Counter(selected_nouns)\n",
        "# mostcommon(10)  상위 10개의 단어만 추출해 보자\n",
        "print(count.most_common(10))\n",
        "# 리스트안에 튜플형식으로 구성되어 있는데. 여기서 튜플에서 텍스트만 추출해서 출력\n",
        "for word, _ in count.most_common(10):\n",
        "  print(word)"
      ],
      "metadata": {
        "colab": {
          "base_uri": "https://localhost:8080/"
        },
        "id": "OSGkTbSlmKrk",
        "outputId": "cd81b18e-cdd1-4499-a25c-4b225304e0e0"
      },
      "execution_count": null,
      "outputs": [
        {
          "output_type": "stream",
          "name": "stdout",
          "text": [
            "Requirement already satisfied: konlpy in /usr/local/lib/python3.11/dist-packages (0.6.0)\n",
            "Requirement already satisfied: JPype1>=0.7.0 in /usr/local/lib/python3.11/dist-packages (from konlpy) (1.5.2)\n",
            "Requirement already satisfied: lxml>=4.1.0 in /usr/local/lib/python3.11/dist-packages (from konlpy) (5.3.1)\n",
            "Requirement already satisfied: numpy>=1.6 in /usr/local/lib/python3.11/dist-packages (from konlpy) (1.26.4)\n",
            "Requirement already satisfied: packaging in /usr/local/lib/python3.11/dist-packages (from JPype1>=0.7.0->konlpy) (24.2)\n",
            "['디지털', '데일', '리가', '퇴근', '즈음', '수', '퇴근길', '코너', '마련', '하루']\n",
            "['디지털', '퇴근길', '퇴근길', '디지털', '기지국', '기지국', '생태계', '이동통신', '가운데', '서비스']\n",
            "[('데이터', 12), ('반도체', 10), ('개정안', 7), ('카카오', 6), ('모빌리티', 6), ('클러스터', 6), ('연구개발', 5), ('기지국', 3), ('생태계', 3), ('서비스', 3)]\n",
            "데이터\n",
            "반도체\n",
            "개정안\n",
            "카카오\n",
            "모빌리티\n",
            "클러스터\n",
            "연구개발\n",
            "기지국\n",
            "생태계\n",
            "서비스\n"
          ]
        }
      ]
    },
    {
      "cell_type": "code",
      "source": [],
      "metadata": {
        "id": "0P12HSMApL5T"
      },
      "execution_count": null,
      "outputs": []
    }
  ]
}