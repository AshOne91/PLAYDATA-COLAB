{
  "nbformat": 4,
  "nbformat_minor": 0,
  "metadata": {
    "colab": {
      "provenance": [],
      "mount_file_id": "1sSC73qme7rpwa3LaY_UlIXAxntyBQZfB",
      "authorship_tag": "ABX9TyN5s4xaUCrQOzGsyX+7wgjD",
      "include_colab_link": true
    },
    "kernelspec": {
      "name": "python3",
      "display_name": "Python 3"
    },
    "language_info": {
      "name": "python"
    }
  },
  "cells": [
    {
      "cell_type": "markdown",
      "metadata": {
        "id": "view-in-github",
        "colab_type": "text"
      },
      "source": [
        "<a href=\"https://colab.research.google.com/github/AshOne91/PLAYDATA-COLAB/blob/main/%ED%8C%8C%EC%9D%B4%EC%8D%AC_%EA%B0%9C%EB%B0%9C_%ED%99%98%EA%B2%BD_%EC%84%A4%EC%B9%98_ipynb%EC%9D%98_%EC%82%AC%EB%B3%B8.ipynb\" target=\"_parent\"><img src=\"https://colab.research.google.com/assets/colab-badge.svg\" alt=\"Open In Colab\"/></a>"
      ]
    },
    {
      "cell_type": "code",
      "execution_count": null,
      "metadata": {
        "id": "gHzQlIVesEKu"
      },
      "outputs": [],
      "source": []
    },
    {
      "cell_type": "markdown",
      "source": [
        "# 파이썬 환경설치하기\n",
        "\n",
        "미니콘다 설치하기(개발환경은 로컬에서 동작함)\n",
        "- 미니콘다 다운로드(아나콘다의 축소버전)\n",
        "- 가상환경 만들기\n",
        "- 주피터 노트북 실행"
      ],
      "metadata": {
        "id": "Lcvvqr4dsOPa"
      }
    },
    {
      "cell_type": "markdown",
      "source": [
        "VisualStudioCode 설치\n"
      ],
      "metadata": {
        "id": "xXV6aasHt6Nq"
      }
    }
  ]
}