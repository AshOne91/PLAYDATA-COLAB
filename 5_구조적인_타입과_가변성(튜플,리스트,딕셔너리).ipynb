{
  "nbformat": 4,
  "nbformat_minor": 0,
  "metadata": {
    "colab": {
      "provenance": [],
      "include_colab_link": true
    },
    "kernelspec": {
      "name": "python3",
      "display_name": "Python 3"
    },
    "language_info": {
      "name": "python"
    }
  },
  "cells": [
    {
      "cell_type": "markdown",
      "metadata": {
        "id": "view-in-github",
        "colab_type": "text"
      },
      "source": [
        "<a href=\"https://colab.research.google.com/github/AshOne91/PLAYDATA-COLAB/blob/main/5_%EA%B5%AC%EC%A1%B0%EC%A0%81%EC%9D%B8_%ED%83%80%EC%9E%85%EA%B3%BC_%EA%B0%80%EB%B3%80%EC%84%B1(%ED%8A%9C%ED%94%8C%2C%EB%A6%AC%EC%8A%A4%ED%8A%B8%2C%EB%94%95%EC%85%94%EB%84%88%EB%A6%AC).ipynb\" target=\"_parent\"><img src=\"https://colab.research.google.com/assets/colab-badge.svg\" alt=\"Open In Colab\"/></a>"
      ]
    },
    {
      "cell_type": "code",
      "execution_count": null,
      "metadata": {
        "id": "FQDIiNlEhwiO"
      },
      "outputs": [],
      "source": []
    },
    {
      "cell_type": "markdown",
      "source": [
        "# 딕셔너리\n",
        "  - 집합형 데이터.. 리스트 튜플 셋\n",
        "  - 단점 : ['홍길동',20,95,85,80], ['강감찬',25,95,85,80],[25,95,'강감찬'85,80]\n",
        "  - key:value 가 하나의 원소 이루어진 집합\n",
        "  - key는 중복이 안됨\n",
        "  - 대표 --> 주민번호 : 이름"
      ],
      "metadata": {
        "id": "Jq-nCb_CnEM1"
      }
    },
    {
      "cell_type": "code",
      "source": [
        "# Dataset 이라고도 표현\n",
        "person ={\n",
        "   'name' :'철수',\n",
        "   'age' : 25,\n",
        "   'kor' : 100,\n",
        "   'eng' : 98,\n",
        "   'math' : 95\n",
        "}  # C\n",
        "\n",
        "# 데이터... C(생성)R(읽기)D(삭제)U(갱신)\n",
        "print(person)  # R\n",
        "# 값 접근  해당 키값을 index로 해서 접근\n",
        "print(f\"이름 : {person['name']}\")  # R\n",
        "# 수정  U\n",
        "person['name'] = '김철수'\n",
        "print(f\"이름 : {person['name']}\")  # R\n",
        "# 데이터 추가\n",
        "person['sci'] = 100\n",
        "print(person)\n",
        "del person['age']  # D 삭제\n",
        "print(person)"
      ],
      "metadata": {
        "colab": {
          "base_uri": "https://localhost:8080/"
        },
        "id": "by4va2l_nIzJ",
        "outputId": "eecb3319-7627-4fd6-fca6-aff44cdea790"
      },
      "execution_count": null,
      "outputs": [
        {
          "output_type": "stream",
          "name": "stdout",
          "text": [
            "{'name': '철수', 'age': 25, 'kor': 100, 'eng': 98, 'math': 95}\n",
            "이름 : 철수\n",
            "이름 : 김철수\n",
            "{'name': '김철수', 'age': 25, 'kor': 100, 'eng': 98, 'math': 95, 'sci': 100}\n",
            "{'name': '김철수', 'kor': 100, 'eng': 98, 'math': 95, 'sci': 100}\n"
          ]
        }
      ]
    },
    {
      "cell_type": "code",
      "source": [
        "for i in person:\n",
        "  print(i)"
      ],
      "metadata": {
        "colab": {
          "base_uri": "https://localhost:8080/"
        },
        "id": "BM3GNiwynJmM",
        "outputId": "d26f0c05-f301-4e9e-974e-9ac3892e2a34"
      },
      "execution_count": null,
      "outputs": [
        {
          "output_type": "stream",
          "name": "stdout",
          "text": [
            "name\n",
            "kor\n",
            "eng\n",
            "math\n",
            "sci\n"
          ]
        }
      ]
    },
    {
      "cell_type": "markdown",
      "source": [
        "# 키의 존재유무"
      ],
      "metadata": {
        "id": "iShdLAzxrFv0"
      }
    },
    {
      "cell_type": "code",
      "source": [
        "'name' in person  # 키 값중에 name 이라는 키의 존재유무"
      ],
      "metadata": {
        "colab": {
          "base_uri": "https://localhost:8080/"
        },
        "id": "paeRsq_orFHO",
        "outputId": "c5195c34-d6d6-49dc-f8fb-99683cf7adf9"
      },
      "execution_count": null,
      "outputs": [
        {
          "output_type": "execute_result",
          "data": {
            "text/plain": [
              "True"
            ]
          },
          "metadata": {},
          "execution_count": 10
        }
      ]
    },
    {
      "cell_type": "markdown",
      "source": [
        "# 데이터 읽어오기"
      ],
      "metadata": {
        "id": "HD6eJuWlrTTN"
      }
    },
    {
      "cell_type": "code",
      "source": [
        "# 키 값을 인덱스로 직접 불러오기\n",
        "print(person['name'])\n",
        "print(person.get('test','없음' ))\n",
        "print(person['test'])   # 에러발생... test 라는 키가 존재하지 않음"
      ],
      "metadata": {
        "colab": {
          "base_uri": "https://localhost:8080/",
          "height": 216
        },
        "id": "ZIR27S76rPNx",
        "outputId": "5b56ed94-eaac-47d0-937d-fb23ed3c1904"
      },
      "execution_count": null,
      "outputs": [
        {
          "output_type": "stream",
          "name": "stdout",
          "text": [
            "김철수\n",
            "없음\n"
          ]
        },
        {
          "output_type": "error",
          "ename": "KeyError",
          "evalue": "'test'",
          "traceback": [
            "\u001b[0;31m---------------------------------------------------------------------------\u001b[0m",
            "\u001b[0;31mKeyError\u001b[0m                                  Traceback (most recent call last)",
            "\u001b[0;32m<ipython-input-14-7555186a006a>\u001b[0m in \u001b[0;36m<cell line: 0>\u001b[0;34m()\u001b[0m\n\u001b[1;32m      2\u001b[0m \u001b[0mprint\u001b[0m\u001b[0;34m(\u001b[0m\u001b[0mperson\u001b[0m\u001b[0;34m[\u001b[0m\u001b[0;34m'name'\u001b[0m\u001b[0;34m]\u001b[0m\u001b[0;34m)\u001b[0m\u001b[0;34m\u001b[0m\u001b[0;34m\u001b[0m\u001b[0m\n\u001b[1;32m      3\u001b[0m \u001b[0mprint\u001b[0m\u001b[0;34m(\u001b[0m\u001b[0mperson\u001b[0m\u001b[0;34m.\u001b[0m\u001b[0mget\u001b[0m\u001b[0;34m(\u001b[0m\u001b[0;34m'test'\u001b[0m\u001b[0;34m,\u001b[0m\u001b[0;34m'없음'\u001b[0m \u001b[0;34m)\u001b[0m\u001b[0;34m)\u001b[0m\u001b[0;34m\u001b[0m\u001b[0;34m\u001b[0m\u001b[0m\n\u001b[0;32m----> 4\u001b[0;31m \u001b[0mprint\u001b[0m\u001b[0;34m(\u001b[0m\u001b[0mperson\u001b[0m\u001b[0;34m[\u001b[0m\u001b[0;34m'test'\u001b[0m\u001b[0;34m]\u001b[0m\u001b[0;34m)\u001b[0m   \u001b[0;31m# 에러발생... test 라는 키가 존재하지 않음\u001b[0m\u001b[0;34m\u001b[0m\u001b[0;34m\u001b[0m\u001b[0m\n\u001b[0m",
            "\u001b[0;31mKeyError\u001b[0m: 'test'"
          ]
        }
      ]
    },
    {
      "cell_type": "code",
      "source": [
        "# dictionary 의 내장함수 get과 유사한 기능의 함수를 구현해 보기\n",
        "# 두번째 매개변수가 키 값이고 해당 키가 있으면 키의 값을 반환하고, 세번째는 키가 없을때 반환하는 값\n",
        "def my_get(dic, key, default):\n",
        "    if key in dic:\n",
        "        return dic[key]\n",
        "    else:\n",
        "        return default\n",
        "print( my_get(person,'job',0)  )"
      ],
      "metadata": {
        "colab": {
          "base_uri": "https://localhost:8080/"
        },
        "id": "UqTKZ7RHrZ2O",
        "outputId": "412dfb92-e57f-4afc-af81-3d9151c00f99"
      },
      "execution_count": null,
      "outputs": [
        {
          "output_type": "stream",
          "name": "stdout",
          "text": [
            "0\n"
          ]
        }
      ]
    },
    {
      "cell_type": "markdown",
      "source": [
        "# 주요 메서드(내장함수)\n",
        "  - 클래스내부에서 사용하는 함수는 메서드 method 라고 부르며\n",
        "  - 클래스를 활성화 시키는게 객체인데.. 객체로 호출하는 함수는 메서드이고 형태는  \n",
        "  - 객체.메서드   \"  \".upper()"
      ],
      "metadata": {
        "id": "JiN34Onts8Ym"
      }
    },
    {
      "cell_type": "code",
      "source": [
        "person ={\n",
        "   'name' :'철수',\n",
        "   'age' : 25,\n",
        "   'kor' : 100,\n",
        "   'eng' : 98,\n",
        "   'math' : 95\n",
        "}\n",
        "# keys()\n",
        "print(f'key값들 : {person.keys()}')\n",
        "# values()\n",
        "print(f'값들 : {person.values()}')\n",
        "# 키와 값을 하나의 쌍(튜플)으로\n",
        "print(f'키와값 : {person.items()}')\n",
        "# pop(키) 키로 값을 제거 후 반환\n",
        "print(f\"name 키 제거 및 제거한 값 반환: {person.pop('name')}\")\n",
        "print(f'person의 전체값 : {person}')\n",
        "# clear() 모든 항목 제거\n",
        "person.clear()\n",
        "print(f'person의 전체값 : {person}')"
      ],
      "metadata": {
        "colab": {
          "base_uri": "https://localhost:8080/"
        },
        "id": "HY05mMnZsvE9",
        "outputId": "a6cf85ea-f5ef-473f-91d1-13e5f7a6f721"
      },
      "execution_count": null,
      "outputs": [
        {
          "output_type": "stream",
          "name": "stdout",
          "text": [
            "key값들 : dict_keys(['name', 'age', 'kor', 'eng', 'math'])\n",
            "값들 : dict_values(['철수', 25, 100, 98, 95])\n",
            "키와값 : dict_items([('name', '철수'), ('age', 25), ('kor', 100), ('eng', 98), ('math', 95)])\n",
            "name 키 제거 및 제거한 값 반환: 철수\n",
            "person의 전체값 : {'age': 25, 'kor': 100, 'eng': 98, 'math': 95}\n",
            "person의 전체값 : {}\n"
          ]
        }
      ]
    },
    {
      "cell_type": "markdown",
      "source": [
        "# dictionary 만드는 다양한 방법"
      ],
      "metadata": {
        "id": "JAp-GW1UutA_"
      }
    },
    {
      "cell_type": "code",
      "source": [
        "dict_1 = {}\n",
        "dict_1['name'] = '홍길동'\n",
        "dict_1['age'] = 20\n",
        "print(dict_1)"
      ],
      "metadata": {
        "colab": {
          "base_uri": "https://localhost:8080/"
        },
        "id": "1I9i6Yp5tiqf",
        "outputId": "c6ed0e70-d64d-47da-a024-1bed0027f57d"
      },
      "execution_count": null,
      "outputs": [
        {
          "output_type": "stream",
          "name": "stdout",
          "text": [
            "{'name': '홍길동', 'age': 20}\n"
          ]
        }
      ]
    },
    {
      "cell_type": "code",
      "source": [
        "names = ['apple','grap','banana','orange', 'apple']\n",
        "price = [100,200,300,400,10000]\n",
        "print(dict(zip(names,price)))\n",
        "\n",
        "result = {}\n",
        "for i in range(len(names)):\n",
        "  result[names[i]] = price[i]\n",
        "\n",
        "print(result)"
      ],
      "metadata": {
        "colab": {
          "base_uri": "https://localhost:8080/"
        },
        "id": "_sDtMYwVu_1N",
        "outputId": "f98a32a6-46d5-4e0a-e40e-b448b6da8e0d"
      },
      "execution_count": null,
      "outputs": [
        {
          "output_type": "stream",
          "name": "stdout",
          "text": [
            "{'apple': 10000, 'grap': 200, 'banana': 300, 'orange': 400}\n",
            "{'apple': 10000, 'grap': 200, 'banana': 300, 'orange': 400}\n"
          ]
        }
      ]
    },
    {
      "cell_type": "code",
      "source": [
        "# enumerate : 순환할때 0부터 시퀀하게 번호를부여해\n",
        "for index , name in enumerate(names):\n",
        "  print(index, name)"
      ],
      "metadata": {
        "colab": {
          "base_uri": "https://localhost:8080/"
        },
        "id": "Gx6aCYD0wJbm",
        "outputId": "87f980b1-5e20-4053-e61d-3f177b244d5e"
      },
      "execution_count": null,
      "outputs": [
        {
          "output_type": "stream",
          "name": "stdout",
          "text": [
            "0 apple\n",
            "1 grap\n",
            "2 banana\n",
            "3 orange\n",
            "4 apple\n"
          ]
        }
      ]
    },
    {
      "cell_type": "markdown",
      "source": [],
      "metadata": {
        "id": "WdXpSFfXwIOw"
      }
    },
    {
      "cell_type": "code",
      "source": [
        "result = {}\n",
        "for index , name in enumerate(names):\n",
        "  result[name] = price[index]\n",
        "print(result)"
      ],
      "metadata": {
        "colab": {
          "base_uri": "https://localhost:8080/"
        },
        "id": "JLtOZxnhvczu",
        "outputId": "24d3cc5f-3566-43e6-ec62-851c52a1a0a5"
      },
      "execution_count": null,
      "outputs": [
        {
          "output_type": "stream",
          "name": "stdout",
          "text": [
            "{'apple': 10000, 'grap': 200, 'banana': 300, 'orange': 400}\n"
          ]
        }
      ]
    },
    {
      "cell_type": "code",
      "source": [
        "# 알파벳의 개수를 세어 보자\n",
        "text = 'Zelensky describes Oval Office meeting as ‘regrettable,’ says he is ready to negotiate peace'\n",
        "import re\n",
        "text = re.sub('[^a-zA-Z]','',text).lower()\n",
        "print(text)\n",
        "count_dic = {}\n",
        "for c in text:\n",
        "  # if c in count_dic:  # c 의 값이 count_dic이라는 딕셔너리의 키값들중에  있는지 여부\n",
        "  #   count_dic[c] += 1\n",
        "  # else:\n",
        "  #   count_dic[c] = 1  # {'z' : 1, 'e': 2, 'l' : 1, }\n",
        "\n",
        "  count_dic[c] = count_dic.get(c,0) + 1\n",
        "print(count_dic)\n"
      ],
      "metadata": {
        "colab": {
          "base_uri": "https://localhost:8080/"
        },
        "id": "osGLXDsJw2bb",
        "outputId": "435601ae-1737-45c3-a318-10c256f45e88"
      },
      "execution_count": null,
      "outputs": [
        {
          "output_type": "stream",
          "name": "stdout",
          "text": [
            "zelenskydescribesovalofficemeetingasregrettablesaysheisreadytonegotiatepeace\n",
            "{'z': 1, 'e': 16, 'l': 3, 'n': 3, 's': 7, 'k': 1, 'y': 3, 'd': 2, 'c': 3, 'r': 4, 'i': 5, 'b': 2, 'o': 4, 'v': 1, 'a': 7, 'f': 2, 'm': 1, 't': 6, 'g': 3, 'h': 1, 'p': 1}\n"
          ]
        }
      ]
    },
    {
      "cell_type": "code",
      "source": [
        "# 정렬 count_dic  내림차순\n",
        "# 1. key에서 구분할수 있게 정렬대상을 items()를 이용해서 key,value로 구분하고\n",
        "# 2. key 즉 기준을 람다식으로 표현한다\n",
        "print(count_dic.items())\n",
        "count_dict =  sorted(count_dic.items(), key = lambda x : x[1], reverse=True)\n",
        "print(count_dict)"
      ],
      "metadata": {
        "colab": {
          "base_uri": "https://localhost:8080/"
        },
        "id": "uwcWDSXSxyWe",
        "outputId": "c6a4f42f-5130-4acd-b84e-45df91a57f1e"
      },
      "execution_count": null,
      "outputs": [
        {
          "output_type": "stream",
          "name": "stdout",
          "text": [
            "dict_items([('z', 1), ('e', 16), ('l', 3), ('n', 3), ('s', 7), ('k', 1), ('y', 3), ('d', 2), ('c', 3), ('r', 4), ('i', 5), ('b', 2), ('o', 4), ('v', 1), ('a', 7), ('f', 2), ('m', 1), ('t', 6), ('g', 3), ('h', 1), ('p', 1)])\n",
            "[('e', 16), ('s', 7), ('a', 7), ('t', 6), ('i', 5), ('r', 4), ('o', 4), ('l', 3), ('n', 3), ('y', 3), ('c', 3), ('g', 3), ('d', 2), ('b', 2), ('f', 2), ('z', 1), ('k', 1), ('v', 1), ('m', 1), ('h', 1), ('p', 1)]\n"
          ]
        }
      ]
    },
    {
      "cell_type": "code",
      "source": [
        "# 학생에대한 정보\n",
        "student1 = {}\n",
        "student1['name'] = '홍길동'\n",
        "student1['age'] = 30\n",
        "student1['score'] = {'kor':100,'eng':100,'math':100}\n",
        "\n",
        "student2 = {}\n",
        "student2['name'] = '홍길동2'\n",
        "student2['age'] = 22\n",
        "student2['score'] = {'kor':100,'eng':88,'math':100}\n",
        "\n",
        "\n",
        "my_class = [student1, student2]\n",
        "print(my_class)"
      ],
      "metadata": {
        "colab": {
          "base_uri": "https://localhost:8080/"
        },
        "id": "Gq3oxaPS3-lG",
        "outputId": "4ef68fd2-aadb-403b-9ba6-47779d42e584"
      },
      "execution_count": null,
      "outputs": [
        {
          "output_type": "stream",
          "name": "stdout",
          "text": [
            "[{'name': '홍길동', 'age': 30, 'score': {'kor': 100, 'eng': 100, 'math': 100}}, {'name': '홍길동2', 'age': 22, 'score': {'kor': 100, 'eng': 88, 'math': 100}}]\n"
          ]
        }
      ]
    },
    {
      "cell_type": "code",
      "source": [
        "print( sorted(my_class, key = lambda x:x['age'] ) )   # age 기준으로 오름차순\n",
        "print( sorted(my_class, key = lambda x: sum(x['score'].values() ) ) )# score 기준 즉 딕셔너리의 값들의 총 합 기준"
      ],
      "metadata": {
        "colab": {
          "base_uri": "https://localhost:8080/"
        },
        "id": "Ixr2xXS15sng",
        "outputId": "ee584604-ab5e-48cb-d2f2-08c1e770c1fe"
      },
      "execution_count": null,
      "outputs": [
        {
          "output_type": "stream",
          "name": "stdout",
          "text": [
            "[{'name': '홍길동2', 'age': 22, 'score': {'kor': 100, 'eng': 88, 'math': 100}}, {'name': '홍길동', 'age': 30, 'score': {'kor': 100, 'eng': 100, 'math': 100}}]\n",
            "[{'name': '홍길동2', 'age': 22, 'score': {'kor': 100, 'eng': 88, 'math': 100}}, {'name': '홍길동', 'age': 30, 'score': {'kor': 100, 'eng': 100, 'math': 100}}]\n"
          ]
        }
      ]
    },
    {
      "cell_type": "code",
      "source": [
        "cadidate = [ 'A','B','C','D','E' ]\n",
        "votes = []\n",
        "\n",
        "for _ in range(10):\n",
        "  choice = int(input(\"A(0) B(1) C(2) D(3) E(4) 선택한 후보자의 번호를 입력 : \"))\n",
        "  votes.append(choice)\n",
        "\n",
        "print(\" 투표가 끝났습니다 \")\n",
        "print(f'튜표결과 {votes}')\n",
        "# 개표... dictionary 구조를 이용해서 각 후보자의 번호별 횟수를 구해서\n",
        "# 가장 많은 득표에 해당하는 candidate의 값을 출력"
      ],
      "metadata": {
        "colab": {
          "base_uri": "https://localhost:8080/"
        },
        "id": "3LDDWzvN8X-d",
        "outputId": "b4fb4a60-2b08-4003-b040-1a8ae1c0902b"
      },
      "execution_count": null,
      "outputs": [
        {
          "output_type": "stream",
          "name": "stdout",
          "text": [
            "A(0) B(1) C(2) D(3) E(4) 선택한 후보자의 번호를 입력 : 0\n",
            "A(0) B(1) C(2) D(3) E(4) 선택한 후보자의 번호를 입력 : 1\n",
            "A(0) B(1) C(2) D(3) E(4) 선택한 후보자의 번호를 입력 : 2\n",
            "A(0) B(1) C(2) D(3) E(4) 선택한 후보자의 번호를 입력 : 1\n",
            "A(0) B(1) C(2) D(3) E(4) 선택한 후보자의 번호를 입력 : 1\n",
            "A(0) B(1) C(2) D(3) E(4) 선택한 후보자의 번호를 입력 : 2\n",
            "A(0) B(1) C(2) D(3) E(4) 선택한 후보자의 번호를 입력 : 1\n",
            "A(0) B(1) C(2) D(3) E(4) 선택한 후보자의 번호를 입력 : 3\n",
            "A(0) B(1) C(2) D(3) E(4) 선택한 후보자의 번호를 입력 : 4\n",
            "A(0) B(1) C(2) D(3) E(4) 선택한 후보자의 번호를 입력 : 2\n",
            " 투표가 끝났습니다 \n",
            "튜표결과 [0, 1, 2, 1, 1, 2, 1, 3, 4, 2]\n"
          ]
        }
      ]
    },
    {
      "cell_type": "code",
      "source": [
        "votes = [2, 2, 1, 1, 2, 1, 3, 4, 2,0]"
      ],
      "metadata": {
        "id": "EvPcmWQ5P8ZE"
      },
      "execution_count": null,
      "outputs": []
    },
    {
      "cell_type": "code",
      "source": [
        "votes_count = {}  # 투표를 카운트할 딕셔너리\n",
        "for vote in votes: # 투표를 카운트\n",
        "  votes_count[vote] = votes_count.get(vote, 0) + 1\n",
        "\n",
        "print(votes_count)\n",
        "\n",
        "max_value = max(votes_count.values())  # 딕셔너리중에 최대값을 찾기\n",
        "# 1.리스트컴프리핸션 : 딕셔너리의 값들중에서 최대값일대의 인덱스를 리스트로 저장\n",
        "# 2.리스트컴프리핸션 : 1번 리스트를 순환하면서 해당 키값으로 candidate 리스트의 값을 리스트로 저장\n",
        "[cadidate[i] for i in  [ key for key,value in votes_count.items() if value == max_value  ] ]"
      ],
      "metadata": {
        "colab": {
          "base_uri": "https://localhost:8080/"
        },
        "id": "uxxBdVt6_eol",
        "outputId": "0322e6c4-66bf-4cb3-de92-316bedddc31e"
      },
      "execution_count": null,
      "outputs": [
        {
          "output_type": "stream",
          "name": "stdout",
          "text": [
            "{2: 4, 1: 3, 3: 1, 4: 1, 0: 1}\n"
          ]
        },
        {
          "output_type": "execute_result",
          "data": {
            "text/plain": [
              "['C']"
            ]
          },
          "metadata": {},
          "execution_count": 171
        }
      ]
    },
    {
      "cell_type": "code",
      "source": [
        "temp = {0: 1, 1: 4, 2: 4, 3: 1, 4: 1}\n",
        "# max(temp, key = lambda x : temp[x])\n",
        "max_index = max(temp.items(), key = lambda x : x[1])[0]\n",
        "cadidate[max_index]\n",
        "\n",
        "# values()  를 이용해서 최대값 찾는다.. 4\n",
        "# 딕셔너리를 순환하면서 값이 4인 키를 찾는다\n",
        "max_value = max(temp.values())\n",
        "[ cadidate[key] for key in  [ key for key,value in temp.items() if value == max_value ] ]"
      ],
      "metadata": {
        "colab": {
          "base_uri": "https://localhost:8080/"
        },
        "id": "X3ShjXhArl3a",
        "outputId": "d4525319-d277-4fb9-9a39-98a94a4a935b"
      },
      "execution_count": null,
      "outputs": [
        {
          "output_type": "execute_result",
          "data": {
            "text/plain": [
              "['B', 'C']"
            ]
          },
          "metadata": {},
          "execution_count": 169
        }
      ]
    },
    {
      "cell_type": "markdown",
      "source": [
        "# 키워드 가변 매개변수"
      ],
      "metadata": {
        "id": "mvF3Dz-ZDyUK"
      }
    },
    {
      "cell_type": "code",
      "source": [
        "def my_func1(data, epoch, lr, optimizer):\n",
        "  print(f'data:{data}, epoch:{epoch}, lr:{lr}, optimizer:{optimizer}')"
      ],
      "metadata": {
        "id": "fOZq0F2xCXx-"
      },
      "execution_count": null,
      "outputs": []
    },
    {
      "cell_type": "code",
      "source": [
        "# 1. 함수 호출\n",
        "my_func1([1,2,3,4],5,0.01,'adam')  # 순서에 맞춰야 함\n",
        "my_func1(data = [1,2,3,4], epoch = 5,  lr = 0.01, optimizer = 'adam')  # 순서에 맞출 필요가 없음\n"
      ],
      "metadata": {
        "colab": {
          "base_uri": "https://localhost:8080/"
        },
        "id": "szeyzNULELjn",
        "outputId": "754d536a-46ea-4b1e-80b3-6fc4540fa594"
      },
      "execution_count": null,
      "outputs": [
        {
          "output_type": "stream",
          "name": "stdout",
          "text": [
            "data:[1, 2, 3, 4], epoch:5, lr:0.01, optimizer:adam\n",
            "data:[1, 2, 3, 4], epoch:5, lr:0.01, optimizer:adam\n"
          ]
        }
      ]
    },
    {
      "cell_type": "code",
      "source": [
        "args = {\n",
        "    'data' : [1,2,3,4],\n",
        "    'epoch' : 5,\n",
        "    'lr' : 0.01,\n",
        "    'optimizer' : 'adam'\n",
        "}\n",
        "# unpack으로 함수에 전달\n",
        "my_func1(**args)"
      ],
      "metadata": {
        "colab": {
          "base_uri": "https://localhost:8080/"
        },
        "id": "hU1NpQ7rESL3",
        "outputId": "e11f4704-7749-4c97-bd34-3cde522c07b1"
      },
      "execution_count": null,
      "outputs": [
        {
          "output_type": "stream",
          "name": "stdout",
          "text": [
            "data:[1, 2, 3, 4], epoch:5, lr:0.01, optimizer:adam\n"
          ]
        }
      ]
    },
    {
      "cell_type": "code",
      "source": [
        "def my_func2(data,x,y):\n",
        "  print(f'data:{data}, x:{x}, y:{y}')"
      ],
      "metadata": {
        "id": "jlkwzRF8Fsxx"
      },
      "execution_count": null,
      "outputs": []
    },
    {
      "cell_type": "code",
      "source": [
        "my_func2([1,2,3], 10, 10)"
      ],
      "metadata": {
        "colab": {
          "base_uri": "https://localhost:8080/"
        },
        "id": "k-xMxrs7F7VP",
        "outputId": "21e355d8-a446-49b8-99b9-87ebdebbd30f"
      },
      "execution_count": null,
      "outputs": [
        {
          "output_type": "stream",
          "name": "stdout",
          "text": [
            "data:[1, 2, 3], x:10, y:10\n"
          ]
        }
      ]
    },
    {
      "cell_type": "code",
      "source": [
        "args = [\n",
        "    [1,2,3],\n",
        "    10,\n",
        "    10\n",
        " ]\n",
        " # unpack\n",
        "my_func2(*args)  #  my_func2([1,2,3], 10, 10)"
      ],
      "metadata": {
        "colab": {
          "base_uri": "https://localhost:8080/"
        },
        "id": "aJVK9Hs_F-kQ",
        "outputId": "9868cbea-e41e-460e-e4c1-86339cb56bac"
      },
      "execution_count": null,
      "outputs": [
        {
          "output_type": "stream",
          "name": "stdout",
          "text": [
            "data:[1, 2, 3], x:10, y:10\n"
          ]
        }
      ]
    },
    {
      "cell_type": "markdown",
      "source": [
        "# 반대로 함수에 *  ** 를 적용"
      ],
      "metadata": {
        "id": "XFN7jyQBGpLz"
      }
    },
    {
      "cell_type": "code",
      "source": [
        "def my_func3(*args):\n",
        "  for arg in args:\n",
        "    print(f'전달된 파라메터는 : {arg}')\n",
        "\n",
        "my_func3(10,20,30,40,50)"
      ],
      "metadata": {
        "colab": {
          "base_uri": "https://localhost:8080/"
        },
        "id": "OaUm2GDwGstj",
        "outputId": "13abe789-e685-4158-e796-cfe878b6a921"
      },
      "execution_count": null,
      "outputs": [
        {
          "output_type": "stream",
          "name": "stdout",
          "text": [
            "전달된 파라메터는 : 10\n",
            "전달된 파라메터는 : 20\n",
            "전달된 파라메터는 : 30\n",
            "전달된 파라메터는 : 40\n",
            "전달된 파라메터는 : 50\n"
          ]
        }
      ]
    },
    {
      "cell_type": "code",
      "source": [
        "def my_func4(**args):\n",
        "  for key,value in args.items():\n",
        "    print(f'key:{key},value:{value}')\n",
        "\n",
        "my_func4(a=1,b=2,c=3)"
      ],
      "metadata": {
        "colab": {
          "base_uri": "https://localhost:8080/"
        },
        "id": "Ce_nVHhtG_zw",
        "outputId": "b855f2b7-01df-4353-e94f-759685beda92"
      },
      "execution_count": null,
      "outputs": [
        {
          "output_type": "stream",
          "name": "stdout",
          "text": [
            "key:a,value:1\n",
            "key:b,value:2\n",
            "key:c,value:3\n"
          ]
        }
      ]
    },
    {
      "cell_type": "markdown",
      "source": [
        "# 가변매개변수와 키워드 가변매개변수를 혼용해서 사용"
      ],
      "metadata": {
        "id": "wAt1qhguITOJ"
      }
    },
    {
      "cell_type": "code",
      "source": [
        "def my_func5(*items, **details):\n",
        "  print(f'아이템:{items}')\n",
        "  for key,value in details.items():\n",
        "    print(f'key:{key},value:{value}')\n",
        "\n",
        "my_func5(\"물풍선\",'자석',title = '카트라이더', score = 1524120)"
      ],
      "metadata": {
        "colab": {
          "base_uri": "https://localhost:8080/"
        },
        "id": "UfCMJvLKISoP",
        "outputId": "23ca6b41-3482-4bb5-ab83-94181de6c77d"
      },
      "execution_count": null,
      "outputs": [
        {
          "output_type": "stream",
          "name": "stdout",
          "text": [
            "아이템:('물풍선', '자석')\n",
            "key:title,value:('카트라이더',)\n",
            "key:score,value:(1524120,)\n"
          ]
        }
      ]
    },
    {
      "cell_type": "markdown",
      "source": [
        "# 리스트 컴프리핸션\n"
      ],
      "metadata": {
        "id": "X2yx_0T9IGgL"
      }
    },
    {
      "cell_type": "code",
      "source": [
        "# result = []\n",
        "# for i in range(5):\n",
        "#   result.append(i)\n",
        "\n",
        "result = [  i*5  for i in range(5)  ]\n",
        "\n",
        "# 결과\n",
        "print( result )"
      ],
      "metadata": {
        "colab": {
          "base_uri": "https://localhost:8080/"
        },
        "id": "Kc7wt0DcIElX",
        "outputId": "57a93901-94e3-4821-e0fe-a34af233a3ba"
      },
      "execution_count": null,
      "outputs": [
        {
          "output_type": "stream",
          "name": "stdout",
          "text": [
            "[0, 5, 10, 15, 20]\n"
          ]
        }
      ]
    },
    {
      "cell_type": "code",
      "source": [
        "# 조건문 포함\n",
        "# 참 if 조건 else 거짓\n",
        "result = [  i for i in range(10) if i % 2 == 0  ]\n",
        "print(result)"
      ],
      "metadata": {
        "colab": {
          "base_uri": "https://localhost:8080/"
        },
        "id": "0zYJDqenKHPL",
        "outputId": "a5e3b35f-c3ec-43bf-b138-65a1f91bb984"
      },
      "execution_count": null,
      "outputs": [
        {
          "output_type": "stream",
          "name": "stdout",
          "text": [
            "[0, 2, 4, 6, 8]\n"
          ]
        }
      ]
    },
    {
      "cell_type": "code",
      "source": [
        "result = [  '짝수' if i % 2 == 0 else '홀수' for i in range(10)   ]\n",
        "print(result)"
      ],
      "metadata": {
        "colab": {
          "base_uri": "https://localhost:8080/"
        },
        "id": "nSKRFFKWJitI",
        "outputId": "67542dae-987d-4647-efc0-36d276cd39c1"
      },
      "execution_count": null,
      "outputs": [
        {
          "output_type": "stream",
          "name": "stdout",
          "text": [
            "['짝수', '홀수', '짝수', '홀수', '짝수', '홀수', '짝수', '홀수', '짝수', '홀수']\n"
          ]
        }
      ]
    },
    {
      "cell_type": "code",
      "source": [
        "import random\n",
        "random.randint(1,100)  # 1 부터 99까지의 임의의 숫자 한개\n",
        "# 1 ~ 99까지의 숫자중에서 난수를 10개 리스트에 담기\n",
        "[    random.randint(1,100)  for i in range(10)   ]"
      ],
      "metadata": {
        "colab": {
          "base_uri": "https://localhost:8080/"
        },
        "id": "ILXDSJR5LSak",
        "outputId": "34d66e39-59be-4ef2-af1b-d3a2d4f07d32"
      },
      "execution_count": null,
      "outputs": [
        {
          "output_type": "execute_result",
          "data": {
            "text/plain": [
              "[84, 29, 27, 26, 46, 72, 77, 68, 62, 99]"
            ]
          },
          "metadata": {},
          "execution_count": 129
        }
      ]
    },
    {
      "cell_type": "code",
      "source": [
        "# 문장을 입력받아서..\n",
        "# 단어단위로 리스트로 분리해서  split()  공백기준\n",
        "# 리스트에 있는 각 단어의 길이를 리스트에 저장\n",
        "text = '동해물과 백두산이 마르고 닳도록 하느님이 보우하사 우리나라 만세'\n",
        "text = text.split()\n",
        "result = [  len(word)      for word in text    ]\n",
        "print(f'문자열의 각 단어들은 : {text}')\n",
        "print(f'각 문자열의 길이는 : {result}')"
      ],
      "metadata": {
        "colab": {
          "base_uri": "https://localhost:8080/"
        },
        "id": "0e4zQ1AsMDEj",
        "outputId": "6df26c50-e117-49e7-8608-1702330e5cde"
      },
      "execution_count": null,
      "outputs": [
        {
          "output_type": "stream",
          "name": "stdout",
          "text": [
            "문자열의 각 단어들은 : ['동해물과', '백두산이', '마르고', '닳도록', '하느님이', '보우하사', '우리나라', '만세']\n",
            "각 문자열의 길이는 : [4, 4, 3, 3, 4, 4, 4, 2]\n"
          ]
        }
      ]
    },
    {
      "cell_type": "markdown",
      "source": [
        "#  중첩컴프리핸션"
      ],
      "metadata": {
        "id": "zokspX_gNO5E"
      }
    },
    {
      "cell_type": "code",
      "source": [
        "# 2차원 리스트\n",
        "matrix = [  [10,20],[30,20],[20,30],[10,50]     ]\n",
        "print(matrix)\n",
        "[  i2 for i in matrix  for i2 in i ]"
      ],
      "metadata": {
        "colab": {
          "base_uri": "https://localhost:8080/"
        },
        "id": "hn0EMGW5Mz94",
        "outputId": "363eeb2f-5ec7-4ff6-876a-738cd666d153"
      },
      "execution_count": null,
      "outputs": [
        {
          "output_type": "stream",
          "name": "stdout",
          "text": [
            "[[10, 20], [30, 20], [20, 30], [10, 50]]\n"
          ]
        },
        {
          "output_type": "execute_result",
          "data": {
            "text/plain": [
              "[10, 20, 30, 20, 20, 30, 10, 50]"
            ]
          },
          "metadata": {},
          "execution_count": 147
        }
      ]
    },
    {
      "cell_type": "code",
      "source": [
        "[ [ random.randint(1,100) for i in range(2)] for i in range(4)  ]"
      ],
      "metadata": {
        "colab": {
          "base_uri": "https://localhost:8080/"
        },
        "id": "AH5G4e8vSFup",
        "outputId": "166d1a2c-5321-4742-d7a6-5369cd3ab994"
      },
      "execution_count": null,
      "outputs": [
        {
          "output_type": "execute_result",
          "data": {
            "text/plain": [
              "[[70, 92], [24, 90], [44, 46], [53, 51]]"
            ]
          },
          "metadata": {},
          "execution_count": 149
        }
      ]
    },
    {
      "cell_type": "markdown",
      "source": [
        "# 정리1\n",
        "  - 딕셔너리\n",
        "  - 키워드 가변 매개변수\n",
        "  - 리트스 컴프리핸션\n",
        "    - 결과를 리스트로\n",
        "    - 결과를 딕셔너리"
      ],
      "metadata": {
        "id": "mV7NDDmdTP8h"
      }
    },
    {
      "cell_type": "code",
      "source": [
        "sample = [ ('name','홍길동'),('age',20),('score', 95)          ]\n",
        "{  key:value for key,value in sample    }"
      ],
      "metadata": {
        "colab": {
          "base_uri": "https://localhost:8080/"
        },
        "id": "NgDGdGICTYn5",
        "outputId": "c33250cd-0353-4a0d-bf9d-44291371a125"
      },
      "execution_count": null,
      "outputs": [
        {
          "output_type": "execute_result",
          "data": {
            "text/plain": [
              "{'name': '홍길동', 'age': 20, 'score': 95}"
            ]
          },
          "metadata": {},
          "execution_count": 150
        }
      ]
    },
    {
      "cell_type": "code",
      "source": [
        "# 딕셔너리는  우리가 아는 테이블 구조를 설명가능하다\n",
        "books_table = []\n",
        "book1 = {\n",
        "    'title' : '혼자공부하는 파이썬',\n",
        "    'publisher' : '한빛출판사',\n",
        "    'author' : '박혜선',\n",
        "    'price' : 15000,\n",
        "    'serialnum':'001',\n",
        "    'rent' : False\n",
        "}\n",
        "book2 = {\n",
        "    'title' : '이것이 mysql 이다',\n",
        "    'publisher' : '한빛출판사',\n",
        "    'author' : '우재남',\n",
        "    'price' : 25000,\n",
        "    'serialnum':'001',\n",
        "    'rent' : False\n",
        "}\n",
        "book3 = {\n",
        "    'title' : '혼자공부하는 인공지능',\n",
        "    'publisher' : '한빛출판사',\n",
        "    'author' : '홍길동',\n",
        "    'price' : 35000,\n",
        "    'serialnum':'001',\n",
        "    'rent' : False\n",
        "}\n",
        "books_table = [book1, book2, book3 ]\n",
        "print(books_table)\n",
        "# 도서 검색(책 재목으로 검색)\n",
        "search = input('제목입력: ')\n",
        "finded_book = [ book  for book in books_table if search in  book['title'] ]\n",
        "\n",
        "if len(finded_book) > 0:\n",
        "  print(f'책이름 : {finded_book}')\n",
        "else:\n",
        "  print('없어요')\n"
      ],
      "metadata": {
        "colab": {
          "base_uri": "https://localhost:8080/"
        },
        "id": "OwV6OOePUBsr",
        "outputId": "4e7129a5-c72e-42c4-e312-260cf65d9ced"
      },
      "execution_count": null,
      "outputs": [
        {
          "output_type": "stream",
          "name": "stdout",
          "text": [
            "[{'title': '혼자공부하는 파이썬', 'publisher': '한빛출판사', 'author': '박혜선', 'price': 15000, 'serialnum': '001', 'rent': False}, {'title': '이것이 mysql 이다', 'publisher': '한빛출판사', 'author': '우재남', 'price': 25000, 'serialnum': '001', 'rent': False}, {'title': '혼자공부하는 인공지능', 'publisher': '한빛출판사', 'author': '홍길동', 'price': 35000, 'serialnum': '001', 'rent': False}]\n",
            "제목입력: 혼자\n",
            "책이름 : [{'title': '혼자공부하는 파이썬', 'publisher': '한빛출판사', 'author': '박혜선', 'price': 15000, 'serialnum': '001', 'rent': False}, {'title': '혼자공부하는 인공지능', 'publisher': '한빛출판사', 'author': '홍길동', 'price': 35000, 'serialnum': '001', 'rent': False}]\n"
          ]
        }
      ]
    },
    {
      "cell_type": "code",
      "source": [
        "'혼자' in '혼자공부하는 파이썬'"
      ],
      "metadata": {
        "colab": {
          "base_uri": "https://localhost:8080/"
        },
        "id": "ph4UeJPxbP8P",
        "outputId": "bdcbfc33-8bcd-45eb-bf9b-4dbd2bb19819"
      },
      "execution_count": null,
      "outputs": [
        {
          "output_type": "execute_result",
          "data": {
            "text/plain": [
              "True"
            ]
          },
          "metadata": {},
          "execution_count": 156
        }
      ]
    },
    {
      "cell_type": "code",
      "source": [
        "# 사용자가 \"홍길동 20\" 입력이 들어오면 input\n",
        "datas_list = []\n",
        "\n",
        "for i in range(5):\n",
        "  data = input('이름과 나이를 입력하세요 :').split()  # [ '홍길동', '20' ]\n",
        "  datas = {}\n",
        "  datas['name'] = data[0]\n",
        "  datas['age'] = int(data[1])\n",
        "  datas_list.append(datas)\n",
        "  print(datas_list)\n",
        "\n",
        "print(f'입력된 데이터: {datas_list}')"
      ],
      "metadata": {
        "colab": {
          "base_uri": "https://localhost:8080/"
        },
        "collapsed": true,
        "id": "TQ2zNUB5Y6bb",
        "outputId": "61eaf617-99fc-4737-a693-06bb4c1f662b"
      },
      "execution_count": null,
      "outputs": [
        {
          "output_type": "stream",
          "name": "stdout",
          "text": [
            "이름과 나이를 입력하세요 :철이 20\n",
            "[{'name': '철이', 'age': 20}]\n",
            "이름과 나이를 입력하세요 :미애 25\n",
            "[{'name': '철이', 'age': 20}, {'name': '미애', 'age': 25}]\n",
            "이름과 나이를 입력하세요 :철수 15\n",
            "[{'name': '철이', 'age': 20}, {'name': '미애', 'age': 25}, {'name': '철수', 'age': 15}]\n",
            "이름과 나이를 입력하세요 :홍길동 35\n",
            "[{'name': '철이', 'age': 20}, {'name': '미애', 'age': 25}, {'name': '철수', 'age': 15}, {'name': '홍길동', 'age': 35}]\n",
            "이름과 나이를 입력하세요 :이순신 33\n",
            "[{'name': '철이', 'age': 20}, {'name': '미애', 'age': 25}, {'name': '철수', 'age': 15}, {'name': '홍길동', 'age': 35}, {'name': '이순신', 'age': 33}]\n",
            "입력된 데이터: [{'name': '철이', 'age': 20}, {'name': '미애', 'age': 25}, {'name': '철수', 'age': 15}, {'name': '홍길동', 'age': 35}, {'name': '이순신', 'age': 33}]\n"
          ]
        }
      ]
    },
    {
      "cell_type": "code",
      "source": [
        "# 나이가 적은순으로 데이터를 정렬 출력 오름차순\n",
        "  # 리스트에 있는 딕셔너리중에 키값이 age를 기준으로 리스트를 정렬\n",
        "for i in sorted(datas_list, key=lambda x:x['age']) :\n",
        "  print(i)\n",
        "\n",
        "# 나이가 가장 많은 사람 이름을 전부 출력(동률을 고려)\n",
        "# 리스트의 딕셔너리중에 age의 값이 가장 큰 값을 찾아서  max_age\n",
        "# 다시 리스트의 딕셔너리를 순환하면서 age의 값이 max_age와 같은 name을 출력\n",
        "max_age = max( [i['age'] for i in datas_list] )\n",
        "[ i['name'] for i in datas_list  if i['age'] == max_age ]"
      ],
      "metadata": {
        "colab": {
          "base_uri": "https://localhost:8080/"
        },
        "id": "2w47Dkcv1b2I",
        "outputId": "c5d02fd9-a229-4b83-a992-7d7e993e0abf"
      },
      "execution_count": null,
      "outputs": [
        {
          "output_type": "stream",
          "name": "stdout",
          "text": [
            "{'name': '철수', 'age': 15}\n",
            "{'name': '철이', 'age': 20}\n",
            "{'name': '미애', 'age': 25}\n",
            "{'name': '이순신', 'age': 33}\n",
            "{'name': '홍길동', 'age': 35}\n"
          ]
        },
        {
          "output_type": "execute_result",
          "data": {
            "text/plain": [
              "['홍길동']"
            ]
          },
          "metadata": {},
          "execution_count": 186
        }
      ]
    },
    {
      "cell_type": "code",
      "source": [
        "def getData(datas_list):   # 단일데이터가 아닌 집합을 나타내는 변수는 내부에 해당 주소를 가지고 있다\n",
        "# 주소값이 전달되기때문에 내부에서 실행결과가 함수 실행도중에 반영된다.\n",
        "  for i in range(1):\n",
        "    data = input('이름과 나이를 입력하세요 :').split()  # [ '홍길동', '20' ]\n",
        "    datas = {}\n",
        "    datas['name'] = data[0]\n",
        "    datas['age'] = int(data[1])\n",
        "    datas_list.append(datas)\n",
        "\n",
        "temp = []  # 리스트 변수 생성\n",
        "getData(temp)  # 함수에 리스트 변수에 있는 값(리스트의 주소)을 복사해서 전달\n",
        "print(temp) # 함수를 실행하고 나면 주소값을 이용한 데이터가 변경되었기 때문에 리턴 없어도 데이터가 반영"
      ],
      "metadata": {
        "id": "mhzD54G29lU9"
      },
      "execution_count": null,
      "outputs": []
    },
    {
      "cell_type": "code",
      "source": [
        "def getData():\n",
        "  datas_list = []  # 함수내부에서 지역변수로 리스트를 생성\n",
        "  for i in range(1): # 해당 리스트에 데이터를 추가\n",
        "    data = input('이름과 나이를 입력하세요 :').split()  # [ '홍길동', '20' ]\n",
        "    datas = {}\n",
        "    datas['name'] = data[0]\n",
        "    datas['age'] = int(data[1])\n",
        "    datas_list.append(datas)\n",
        "  return datas_list  # 지역변수이고 함수실행이 끝나면 사라지므로 값을반환한다\n",
        "\n",
        "temp = getData()  # 함수 실행후 반환되는 리스트의 값을 받는다\n",
        "print(temp)"
      ],
      "metadata": {
        "colab": {
          "base_uri": "https://localhost:8080/"
        },
        "id": "HobYwSf-Aelt",
        "outputId": "d41bcdae-235e-4584-91e7-14c2f39a1bc6"
      },
      "execution_count": null,
      "outputs": [
        {
          "output_type": "stream",
          "name": "stdout",
          "text": [
            "이름과 나이를 입력하세요 :aaa 11\n",
            "[{'name': 'aaa', 'age': 11}]\n"
          ]
        }
      ]
    },
    {
      "cell_type": "code",
      "source": [
        "temp = [10,20,30,40]\n",
        "temp_list = [\n",
        "    {'items':['a',{'scores':temp},'c']}, {'power' : 100}\n",
        "]\n",
        "\n",
        "print(f'변경전 : {temp_list}')\n",
        "# 30에 접근하려면\n",
        "# temp_list[0]['items'][1]['scores'][2] = 100\n",
        "# temp_list\n",
        "\n",
        "temp[2] = 100\n",
        "print(f'변경후 : {temp_list}')\n",
        "\n",
        "## --- 작업을 하다가..."
      ],
      "metadata": {
        "colab": {
          "base_uri": "https://localhost:8080/"
        },
        "id": "2yOOPVXVADDR",
        "outputId": "0e683888-4726-492c-fe35-5f25606ab869"
      },
      "execution_count": null,
      "outputs": [
        {
          "output_type": "stream",
          "name": "stdout",
          "text": [
            "변경전 : [{'items': ['a', {'scores': [10, 20, 30, 40]}, 'c']}, {'power': 100}]\n",
            "변경후 : [{'items': ['a', {'scores': [10, 20, 100, 40]}, 'c']}, {'power': 100}]\n"
          ]
        }
      ]
    },
    {
      "cell_type": "markdown",
      "source": [
        "# 데코레이터  decorator  : java 의 추상화 비슷 한 개념\n",
        "  - 함수나 메소드를 감싸서 추가적인 기능을 제공\n",
        "  - 기존 코드를 수정하지 않고 동작을 확장\n",
        "  - 고차원함수 : 다른함수를 인자로 받아서 새로운 함수를 반환\n",
        "  - @데코레이터_이름 을 함수 정의부분 위에 선언한다"
      ],
      "metadata": {
        "id": "tm9-OKSuHRk2"
      }
    },
    {
      "cell_type": "code",
      "source": [
        "def decorator(func):  # 매개변수로 함수가 전달\n",
        "  def wrapper():\n",
        "    print('함수 실행전')\n",
        "    func()\n",
        "    print('함수 실행후')\n",
        "  return wrapper\n",
        "\n",
        "def say_hello():  # 매개변수로 전달할 함수를 생성\n",
        "  print('hello')\n",
        "\n",
        "# 실행\n",
        "myfunc = decorator(say_hello)\n",
        "myfunc()"
      ],
      "metadata": {
        "colab": {
          "base_uri": "https://localhost:8080/"
        },
        "id": "LQonjUv5EPYT",
        "outputId": "51f48fd4-1822-4fa5-ae61-a60f2bf21880"
      },
      "execution_count": null,
      "outputs": [
        {
          "output_type": "stream",
          "name": "stdout",
          "text": [
            "함수 실행전\n",
            "hello\n",
            "함수 실행후\n"
          ]
        }
      ]
    },
    {
      "cell_type": "code",
      "source": [
        "# 데코레이터 적용\n",
        "def decorator(func):  # 매개변수로 함수가 전달\n",
        "  def wrapper():\n",
        "    print('함수 실행전')\n",
        "    func()\n",
        "    print('함수 실행후')\n",
        "  return wrapper\n",
        "\n",
        "@decorator\n",
        "def say_hello():\n",
        "  print('hello')\n",
        "\n",
        "say_hello()"
      ],
      "metadata": {
        "colab": {
          "base_uri": "https://localhost:8080/"
        },
        "id": "fBMVt8FtJC8q",
        "outputId": "4442b7d2-af86-46d5-a45a-009a515d874d"
      },
      "execution_count": null,
      "outputs": [
        {
          "output_type": "stream",
          "name": "stdout",
          "text": [
            "함수 실행전\n",
            "hello\n",
            "함수 실행후\n"
          ]
        }
      ]
    },
    {
      "cell_type": "code",
      "source": [
        "def log_decorator(func):\n",
        "  def wrapper(*args, **kwargs):  # 모든 종류의 인자를 처리한다\n",
        "    print(f'{func.__name__}호출  args:{args}, kwargs:{kwargs}')\n",
        "    result = func(*args, **kwargs)\n",
        "    return result\n",
        "  return wrapper\n",
        "\n",
        "@log_decorator\n",
        "def add(a,b):\n",
        "  return a + b\n",
        "print(add(10,20))\n",
        "\n",
        "@log_decorator\n",
        "def makeString(name,age):\n",
        "  return name + str(age)\n",
        "\n",
        "print(makeString(name='홍길동', age = 100))\n"
      ],
      "metadata": {
        "colab": {
          "base_uri": "https://localhost:8080/"
        },
        "id": "dvfUSFWoKMzT",
        "outputId": "acab22a6-4329-4904-b3f3-42c09fe6ecf5"
      },
      "execution_count": null,
      "outputs": [
        {
          "output_type": "stream",
          "name": "stdout",
          "text": [
            "add호출  args:(10, 20), kwargs:{}\n",
            "30\n",
            "makeString호출  args:(), kwargs:{'name': '홍길동', 'age': 100}\n",
            "홍길동100\n"
          ]
        }
      ]
    },
    {
      "cell_type": "markdown",
      "source": [
        "- 정리2\n",
        "  - 딕셔너리\n",
        "  - 키워드 가변 매개변수\n",
        "    - packing / unpacking\n",
        "  - 리스트 컴프리핸션\n",
        "  - 데코레이션"
      ],
      "metadata": {
        "id": "IT-z6UDHNLOv"
      }
    },
    {
      "cell_type": "code",
      "source": [
        "# 성적관리 시스템\n",
        "# 학생데이터를 딕셔너리로 관리\n",
        "# 키워드 가변 매개변수로 입력을 처리\n",
        "# packing / unpacking을 이용해서 데이터를 구조화\n",
        "# 리스트 컴프리 핸션을 이용해서 데이터 변화 및 필터링"
      ],
      "metadata": {
        "id": "tO6UMhV9NlvF"
      },
      "execution_count": null,
      "outputs": []
    },
    {
      "cell_type": "markdown",
      "source": [],
      "metadata": {
        "id": "63bunCLlNkqa"
      }
    },
    {
      "cell_type": "code",
      "source": [
        "import random\n",
        "# 1 학생 데이터를 딕셔너리로 정의\n",
        "# {'kor':90, 'eng':95, 'math': 95}  -> 직접 코딩안하고... 60 ~ 100 난수 생성해서\n",
        "\n",
        "{'kor':random.randint(60,101), 'eng':random.randint(60,101), 'math': random.randint(60,101)}\n",
        "dict( zip(['kor','eng','math'],[random.randint(60,101),random.randint(60,101),random.randint(60,101)]) )\n",
        "dict( zip(['kor','eng','math'],[ random.randint(60,101) for i in range(3) ]) )\n",
        "\n",
        "subjects = ['kor','eng','math']\n",
        "{ subject:random.randint(60,101)  for subject in subjects  }\n",
        "\n",
        "students = [\n",
        "  { 'name' : '홍길동', 'scores':{ subject:random.randint(60,101)  for subject in subjects  } },\n",
        "  { 'name' : '이철수', 'scores':{ subject:random.randint(60,101)  for subject in subjects  } },\n",
        "  { 'name' : '김영희', 'scores':{ subject:random.randint(60,101)  for subject in subjects  } },\n",
        "]\n",
        "\n",
        "# 학생데이터 생성 함수 : 파라메터를 이름, 과목별 성적\n",
        "def addData(name, **scores):\n",
        "  return {'name':name, 'score':scores}\n",
        "\n",
        "# 기존 데이터에 추가\n",
        "students.append( addData('강감찬', kor = 90, eng = 80, math = 70) )"
      ],
      "metadata": {
        "collapsed": true,
        "id": "SX_qM3fcM0B8"
      },
      "execution_count": null,
      "outputs": []
    },
    {
      "cell_type": "code",
      "source": [
        "# 초기 데이터\n",
        "subjects = ['kor','eng','math']\n",
        "{ subject:random.randint(60,101)  for subject in subjects  }\n",
        "\n",
        "students = [\n",
        "  { 'name' : '홍길동', 'scores':{ subject:random.randint(60,101)  for subject in subjects  } },\n",
        "  { 'name' : '이철수', 'scores':{ subject:random.randint(60,101)  for subject in subjects  } },\n",
        "  { 'name' : '김영희', 'scores':{ subject:random.randint(60,101)  for subject in subjects  } },\n",
        "]\n",
        "\n",
        "# 학생데이터 생성 함수 : 파라메터를 이름, 과목별 성적\n",
        "def addData(name, **scores):\n",
        "  return {'name':name, 'scores':scores}\n",
        "\n",
        "# 학생데이터 추가 함수\n",
        "def addStudent(name, **scores):  # positional arg:2개,  키워드 매개변수\n",
        "  new_student = addData(name, **scores)  # unpacking  풀어서 전달 why? 함수에서 다시 압축(packing)해서 받기\n",
        "  students.append(new_student)\n",
        "\n",
        "addStudent('강감찬', kor = 90, eng = 80, math = 70)  # 데이터를 많이 넣어서...\n",
        "\n",
        "# 전체 학생수, 최고 평균 몇점(소수둘째자리에서 반올리) 누구인지, 평균이 높은 학생 두명\n",
        "print(f'전체 학생수 : {len(students)}')\n",
        "{ student['name']:round(sum(student['scores'].values()) / len(student['scores']), 2) for student in students}\n"
      ],
      "metadata": {
        "colab": {
          "base_uri": "https://localhost:8080/"
        },
        "id": "TtC2E0A0W4ux",
        "outputId": "0ef7e3c9-55a8-4e2e-dd1a-366c5cdb262f"
      },
      "execution_count": null,
      "outputs": [
        {
          "output_type": "stream",
          "name": "stdout",
          "text": [
            "전체 학생수 : 4\n"
          ]
        },
        {
          "output_type": "execute_result",
          "data": {
            "text/plain": [
              "{'홍길동': 89.33, '이철수': 74.67, '김영희': 81.33, '강감찬': 80.0}"
            ]
          },
          "metadata": {},
          "execution_count": 244
        }
      ]
    },
    {
      "cell_type": "code",
      "source": [
        "students"
      ],
      "metadata": {
        "id": "Kzl3daA9f01d",
        "outputId": "3719f4ac-22ad-4017-b50d-60385da5685b",
        "colab": {
          "base_uri": "https://localhost:8080/"
        }
      },
      "execution_count": null,
      "outputs": [
        {
          "output_type": "execute_result",
          "data": {
            "text/plain": [
              "[{'name': '홍길동', 'scores': {'kor': 69, 'eng': 77, 'math': 97}},\n",
              " {'name': '이철수', 'scores': {'kor': 94, 'eng': 64, 'math': 74}},\n",
              " {'name': '김영희', 'scores': {'kor': 93, 'eng': 95, 'math': 93}},\n",
              " {'name': '강감찬', 'scores': {'kor': 90, 'eng': 80, 'math': 70}}]"
            ]
          },
          "metadata": {},
          "execution_count": 243
        }
      ]
    },
    {
      "cell_type": "code",
      "source": [
        "\n"
      ],
      "metadata": {
        "id": "yIeZ5lKeXS50"
      },
      "execution_count": null,
      "outputs": []
    }
  ]
}